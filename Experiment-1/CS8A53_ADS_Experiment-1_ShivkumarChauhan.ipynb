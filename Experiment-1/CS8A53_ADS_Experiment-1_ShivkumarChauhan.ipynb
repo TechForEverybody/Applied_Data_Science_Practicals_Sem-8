{
 "cells": [
  {
   "cell_type": "markdown",
   "id": "b4c316b0",
   "metadata": {},
   "source": [
    "## Name: Shivkumar G. Chauhan\n",
    "### Roll No.: CS8A53\n",
    "### Batch A-3\n",
    "---\n",
    "# Experiment - 1 : Descriptive and Infrential statastics"
   ]
  },
  {
   "cell_type": "code",
   "execution_count": null,
   "id": "eqZM21AKm_Cx",
   "metadata": {
    "colab": {
     "base_uri": "https://localhost:8080/"
    },
    "id": "eqZM21AKm_Cx",
    "outputId": "3848b054-11e1-4586-bf80-62e22f245aba",
    "scrolled": true
   },
   "outputs": [
    {
     "name": "stdout",
     "output_type": "stream",
     "text": [
      "Mounted at /content/drive\n"
     ]
    }
   ],
   "source": [
    "from google.colab import drive\n",
    "drive.mount('/content/drive')"
   ]
  },
  {
   "cell_type": "markdown",
   "id": "ff133017",
   "metadata": {},
   "source": [
    "## imports"
   ]
  },
  {
   "cell_type": "code",
   "execution_count": 560,
   "id": "IAN0ukSrIjTp",
   "metadata": {
    "ExecuteTime": {
     "end_time": "2023-01-24T03:27:22.199025Z",
     "start_time": "2023-01-24T03:27:22.177204Z"
    },
    "id": "IAN0ukSrIjTp"
   },
   "outputs": [],
   "source": [
    "import pandas\n",
    "import numpy\n",
    "import statistics\n",
    "import scipy.stats\n",
    "import matplotlib.pyplot as pyplot\n",
    "import warnings"
   ]
  },
  {
   "cell_type": "markdown",
   "id": "7ac9c7a3",
   "metadata": {},
   "source": [
    "## Configurations"
   ]
  },
  {
   "cell_type": "code",
   "execution_count": 561,
   "id": "a73b3d79",
   "metadata": {
    "ExecuteTime": {
     "end_time": "2023-01-24T03:27:22.865652Z",
     "start_time": "2023-01-24T03:27:22.850451Z"
    }
   },
   "outputs": [],
   "source": [
    "# %matplotlib qt\n",
    "%matplotlib inline\n",
    "pyplot.rcParams[\"figure.figsize\"] = (15, 12)"
   ]
  },
  {
   "cell_type": "code",
   "execution_count": 562,
   "id": "0c83763b",
   "metadata": {
    "ExecuteTime": {
     "end_time": "2023-01-24T03:27:23.195587Z",
     "start_time": "2023-01-24T03:27:23.187579Z"
    }
   },
   "outputs": [],
   "source": [
    "warnings.filterwarnings('ignore')"
   ]
  },
  {
   "cell_type": "code",
   "execution_count": 563,
   "id": "4AnwaYobJBtV",
   "metadata": {
    "ExecuteTime": {
     "end_time": "2023-01-24T03:27:23.853192Z",
     "start_time": "2023-01-24T03:27:23.492415Z"
    },
    "id": "4AnwaYobJBtV"
   },
   "outputs": [],
   "source": [
    "Data=pandas.read_csv(\"../Data/Day_Wise_Data/24_01_2023_WorldWide.csv\")"
   ]
  },
  {
   "cell_type": "code",
   "execution_count": 564,
   "id": "nxlYmelmJSOo",
   "metadata": {
    "ExecuteTime": {
     "end_time": "2023-01-24T03:27:23.868984Z",
     "start_time": "2023-01-24T03:27:23.856046Z"
    },
    "colab": {
     "base_uri": "https://localhost:8080/"
    },
    "id": "nxlYmelmJSOo",
    "outputId": "4780db45-7b4a-4a66-94bc-d9c17993025a"
   },
   "outputs": [
    {
     "data": {
      "text/plain": [
       "Index(['iso_code', 'continent', 'location', 'last_updated_date', 'total_cases',\n",
       "       'new_cases', 'new_cases_smoothed', 'total_deaths', 'new_deaths',\n",
       "       'new_deaths_smoothed', 'total_cases_per_million',\n",
       "       'new_cases_per_million', 'new_cases_smoothed_per_million',\n",
       "       'total_deaths_per_million', 'new_deaths_per_million',\n",
       "       'new_deaths_smoothed_per_million', 'reproduction_rate', 'icu_patients',\n",
       "       'icu_patients_per_million', 'hosp_patients',\n",
       "       'hosp_patients_per_million', 'weekly_icu_admissions',\n",
       "       'weekly_icu_admissions_per_million', 'weekly_hosp_admissions',\n",
       "       'weekly_hosp_admissions_per_million', 'total_tests', 'new_tests',\n",
       "       'total_tests_per_thousand', 'new_tests_per_thousand',\n",
       "       'new_tests_smoothed', 'new_tests_smoothed_per_thousand',\n",
       "       'positive_rate', 'tests_per_case', 'tests_units', 'total_vaccinations',\n",
       "       'people_vaccinated', 'people_fully_vaccinated', 'total_boosters',\n",
       "       'new_vaccinations', 'new_vaccinations_smoothed',\n",
       "       'total_vaccinations_per_hundred', 'people_vaccinated_per_hundred',\n",
       "       'people_fully_vaccinated_per_hundred', 'total_boosters_per_hundred',\n",
       "       'new_vaccinations_smoothed_per_million',\n",
       "       'new_people_vaccinated_smoothed',\n",
       "       'new_people_vaccinated_smoothed_per_hundred', 'stringency_index',\n",
       "       'population_density', 'median_age', 'aged_65_older', 'aged_70_older',\n",
       "       'gdp_per_capita', 'extreme_poverty', 'cardiovasc_death_rate',\n",
       "       'diabetes_prevalence', 'female_smokers', 'male_smokers',\n",
       "       'handwashing_facilities', 'hospital_beds_per_thousand',\n",
       "       'life_expectancy', 'human_development_index', 'population',\n",
       "       'excess_mortality_cumulative_absolute', 'excess_mortality_cumulative',\n",
       "       'excess_mortality', 'excess_mortality_cumulative_per_million'],\n",
       "      dtype='object')"
      ]
     },
     "execution_count": 564,
     "metadata": {},
     "output_type": "execute_result"
    }
   ],
   "source": [
    "Data.columns"
   ]
  },
  {
   "cell_type": "code",
   "execution_count": 565,
   "id": "3sH7227XPMgG",
   "metadata": {
    "ExecuteTime": {
     "end_time": "2023-01-24T03:27:24.103641Z",
     "start_time": "2023-01-24T03:27:24.088642Z"
    },
    "id": "3sH7227XPMgG"
   },
   "outputs": [],
   "source": [
    "Selected_Columns=['iso_code', 'continent', 'location', 'last_updated_date', 'total_cases',\n",
    "       'new_cases', 'total_deaths', 'new_deaths','population']"
   ]
  },
  {
   "cell_type": "code",
   "execution_count": 566,
   "id": "WWIrYcpvKJok",
   "metadata": {
    "ExecuteTime": {
     "end_time": "2023-01-24T03:27:24.417012Z",
     "start_time": "2023-01-24T03:27:24.408236Z"
    },
    "id": "WWIrYcpvKJok"
   },
   "outputs": [],
   "source": [
    "Data=Data[Selected_Columns]"
   ]
  },
  {
   "cell_type": "code",
   "execution_count": 567,
   "id": "mhZB4KmKMuYf",
   "metadata": {
    "ExecuteTime": {
     "end_time": "2023-01-24T03:27:24.697566Z",
     "start_time": "2023-01-24T03:27:24.674628Z"
    },
    "id": "mhZB4KmKMuYf"
   },
   "outputs": [],
   "source": [
    "Numerical_Columns=Data.describe().columns"
   ]
  },
  {
   "cell_type": "code",
   "execution_count": 568,
   "id": "b1374aa4",
   "metadata": {
    "ExecuteTime": {
     "end_time": "2023-01-24T03:27:24.933734Z",
     "start_time": "2023-01-24T03:27:24.920733Z"
    }
   },
   "outputs": [
    {
     "data": {
      "text/plain": [
       "Index(['total_cases', 'new_cases', 'total_deaths', 'new_deaths', 'population'], dtype='object')"
      ]
     },
     "execution_count": 568,
     "metadata": {},
     "output_type": "execute_result"
    }
   ],
   "source": [
    "Numerical_Columns"
   ]
  },
  {
   "cell_type": "code",
   "execution_count": 569,
   "id": "071c4a7f",
   "metadata": {
    "ExecuteTime": {
     "end_time": "2023-01-24T03:27:25.204318Z",
     "start_time": "2023-01-24T03:27:25.187312Z"
    }
   },
   "outputs": [],
   "source": [
    "Data=Data.sort_values(by=\"total_cases\",ascending=False)"
   ]
  },
  {
   "cell_type": "markdown",
   "id": "c1b7a7d9",
   "metadata": {},
   "source": [
    "# Data Exploration"
   ]
  },
  {
   "cell_type": "code",
   "execution_count": 570,
   "id": "_Zi5ePSBJvCq",
   "metadata": {
    "ExecuteTime": {
     "end_time": "2023-01-24T03:27:25.772656Z",
     "start_time": "2023-01-24T03:27:25.747532Z"
    },
    "colab": {
     "base_uri": "https://localhost:8080/",
     "height": 506
    },
    "id": "_Zi5ePSBJvCq",
    "outputId": "7c579aff-1e3e-4cca-b4d9-9b97f6173628"
   },
   "outputs": [
    {
     "data": {
      "text/html": [
       "<div>\n",
       "<style scoped>\n",
       "    .dataframe tbody tr th:only-of-type {\n",
       "        vertical-align: middle;\n",
       "    }\n",
       "\n",
       "    .dataframe tbody tr th {\n",
       "        vertical-align: top;\n",
       "    }\n",
       "\n",
       "    .dataframe thead th {\n",
       "        text-align: right;\n",
       "    }\n",
       "</style>\n",
       "<table border=\"1\" class=\"dataframe\">\n",
       "  <thead>\n",
       "    <tr style=\"text-align: right;\">\n",
       "      <th></th>\n",
       "      <th>iso_code</th>\n",
       "      <th>continent</th>\n",
       "      <th>location</th>\n",
       "      <th>last_updated_date</th>\n",
       "      <th>total_cases</th>\n",
       "      <th>new_cases</th>\n",
       "      <th>total_deaths</th>\n",
       "      <th>new_deaths</th>\n",
       "      <th>population</th>\n",
       "    </tr>\n",
       "  </thead>\n",
       "  <tbody>\n",
       "    <tr>\n",
       "      <th>233</th>\n",
       "      <td>OWID_WRL</td>\n",
       "      <td>NaN</td>\n",
       "      <td>World</td>\n",
       "      <td>2023-01-22</td>\n",
       "      <td>668733361.0</td>\n",
       "      <td>113854.0</td>\n",
       "      <td>6738373.0</td>\n",
       "      <td>596.0</td>\n",
       "      <td>7.975105e+09</td>\n",
       "    </tr>\n",
       "    <tr>\n",
       "      <th>91</th>\n",
       "      <td>OWID_HIC</td>\n",
       "      <td>NaN</td>\n",
       "      <td>High income</td>\n",
       "      <td>2023-01-22</td>\n",
       "      <td>425491330.0</td>\n",
       "      <td>103546.0</td>\n",
       "      <td>2827543.0</td>\n",
       "      <td>479.0</td>\n",
       "      <td>1.250515e+09</td>\n",
       "    </tr>\n",
       "    <tr>\n",
       "      <th>69</th>\n",
       "      <td>OWID_EUR</td>\n",
       "      <td>NaN</td>\n",
       "      <td>Europe</td>\n",
       "      <td>2023-01-22</td>\n",
       "      <td>246186845.0</td>\n",
       "      <td>8048.0</td>\n",
       "      <td>2017517.0</td>\n",
       "      <td>77.0</td>\n",
       "      <td>7.448078e+08</td>\n",
       "    </tr>\n",
       "    <tr>\n",
       "      <th>11</th>\n",
       "      <td>OWID_ASI</td>\n",
       "      <td>NaN</td>\n",
       "      <td>Asia</td>\n",
       "      <td>2023-01-22</td>\n",
       "      <td>208112874.0</td>\n",
       "      <td>98295.0</td>\n",
       "      <td>1529509.0</td>\n",
       "      <td>451.0</td>\n",
       "      <td>4.721383e+09</td>\n",
       "    </tr>\n",
       "    <tr>\n",
       "      <th>70</th>\n",
       "      <td>OWID_EUN</td>\n",
       "      <td>NaN</td>\n",
       "      <td>European Union</td>\n",
       "      <td>2023-01-22</td>\n",
       "      <td>182675923.0</td>\n",
       "      <td>1875.0</td>\n",
       "      <td>1203184.0</td>\n",
       "      <td>29.0</td>\n",
       "      <td>4.501468e+08</td>\n",
       "    </tr>\n",
       "    <tr>\n",
       "      <th>...</th>\n",
       "      <td>...</td>\n",
       "      <td>...</td>\n",
       "      <td>...</td>\n",
       "      <td>...</td>\n",
       "      <td>...</td>\n",
       "      <td>...</td>\n",
       "      <td>...</td>\n",
       "      <td>...</td>\n",
       "      <td>...</td>\n",
       "    </tr>\n",
       "    <tr>\n",
       "      <th>107</th>\n",
       "      <td>JEY</td>\n",
       "      <td>Europe</td>\n",
       "      <td>Jersey</td>\n",
       "      <td>2023-01-15</td>\n",
       "      <td>NaN</td>\n",
       "      <td>NaN</td>\n",
       "      <td>NaN</td>\n",
       "      <td>NaN</td>\n",
       "      <td>1.107960e+05</td>\n",
       "    </tr>\n",
       "    <tr>\n",
       "      <th>158</th>\n",
       "      <td>OWID_CYN</td>\n",
       "      <td>Asia</td>\n",
       "      <td>Northern Cyprus</td>\n",
       "      <td>2023-01-22</td>\n",
       "      <td>NaN</td>\n",
       "      <td>NaN</td>\n",
       "      <td>NaN</td>\n",
       "      <td>NaN</td>\n",
       "      <td>3.828360e+05</td>\n",
       "    </tr>\n",
       "    <tr>\n",
       "      <th>159</th>\n",
       "      <td>OWID_NIR</td>\n",
       "      <td>Europe</td>\n",
       "      <td>Northern Ireland</td>\n",
       "      <td>2023-01-18</td>\n",
       "      <td>NaN</td>\n",
       "      <td>NaN</td>\n",
       "      <td>NaN</td>\n",
       "      <td>NaN</td>\n",
       "      <td>1.896000e+06</td>\n",
       "    </tr>\n",
       "    <tr>\n",
       "      <th>186</th>\n",
       "      <td>OWID_SCT</td>\n",
       "      <td>Europe</td>\n",
       "      <td>Scotland</td>\n",
       "      <td>2023-01-16</td>\n",
       "      <td>NaN</td>\n",
       "      <td>NaN</td>\n",
       "      <td>NaN</td>\n",
       "      <td>NaN</td>\n",
       "      <td>5.466000e+06</td>\n",
       "    </tr>\n",
       "    <tr>\n",
       "      <th>231</th>\n",
       "      <td>OWID_WLS</td>\n",
       "      <td>Europe</td>\n",
       "      <td>Wales</td>\n",
       "      <td>2023-01-17</td>\n",
       "      <td>NaN</td>\n",
       "      <td>NaN</td>\n",
       "      <td>NaN</td>\n",
       "      <td>NaN</td>\n",
       "      <td>3.170000e+06</td>\n",
       "    </tr>\n",
       "  </tbody>\n",
       "</table>\n",
       "<p>237 rows × 9 columns</p>\n",
       "</div>"
      ],
      "text/plain": [
       "     iso_code continent          location last_updated_date  total_cases  \\\n",
       "233  OWID_WRL       NaN             World        2023-01-22  668733361.0   \n",
       "91   OWID_HIC       NaN       High income        2023-01-22  425491330.0   \n",
       "69   OWID_EUR       NaN            Europe        2023-01-22  246186845.0   \n",
       "11   OWID_ASI       NaN              Asia        2023-01-22  208112874.0   \n",
       "70   OWID_EUN       NaN    European Union        2023-01-22  182675923.0   \n",
       "..        ...       ...               ...               ...          ...   \n",
       "107       JEY    Europe            Jersey        2023-01-15          NaN   \n",
       "158  OWID_CYN      Asia   Northern Cyprus        2023-01-22          NaN   \n",
       "159  OWID_NIR    Europe  Northern Ireland        2023-01-18          NaN   \n",
       "186  OWID_SCT    Europe          Scotland        2023-01-16          NaN   \n",
       "231  OWID_WLS    Europe             Wales        2023-01-17          NaN   \n",
       "\n",
       "     new_cases  total_deaths  new_deaths    population  \n",
       "233   113854.0     6738373.0       596.0  7.975105e+09  \n",
       "91    103546.0     2827543.0       479.0  1.250515e+09  \n",
       "69      8048.0     2017517.0        77.0  7.448078e+08  \n",
       "11     98295.0     1529509.0       451.0  4.721383e+09  \n",
       "70      1875.0     1203184.0        29.0  4.501468e+08  \n",
       "..         ...           ...         ...           ...  \n",
       "107        NaN           NaN         NaN  1.107960e+05  \n",
       "158        NaN           NaN         NaN  3.828360e+05  \n",
       "159        NaN           NaN         NaN  1.896000e+06  \n",
       "186        NaN           NaN         NaN  5.466000e+06  \n",
       "231        NaN           NaN         NaN  3.170000e+06  \n",
       "\n",
       "[237 rows x 9 columns]"
      ]
     },
     "execution_count": 570,
     "metadata": {},
     "output_type": "execute_result"
    }
   ],
   "source": [
    "Data"
   ]
  },
  {
   "cell_type": "code",
   "execution_count": 571,
   "id": "hPqDMhJwJ5AS",
   "metadata": {
    "ExecuteTime": {
     "end_time": "2023-01-24T03:27:26.104166Z",
     "start_time": "2023-01-24T03:27:26.082591Z"
    },
    "colab": {
     "base_uri": "https://localhost:8080/"
    },
    "id": "hPqDMhJwJ5AS",
    "outputId": "576b8564-3ab1-47b0-f232-538e2c3bfaee"
   },
   "outputs": [
    {
     "name": "stdout",
     "output_type": "stream",
     "text": [
      "<class 'pandas.core.frame.DataFrame'>\n",
      "Int64Index: 237 entries, 233 to 231\n",
      "Data columns (total 9 columns):\n",
      " #   Column             Non-Null Count  Dtype  \n",
      "---  ------             --------------  -----  \n",
      " 0   iso_code           237 non-null    object \n",
      " 1   continent          224 non-null    object \n",
      " 2   location           237 non-null    object \n",
      " 3   last_updated_date  237 non-null    object \n",
      " 4   total_cases        231 non-null    float64\n",
      " 5   new_cases          231 non-null    float64\n",
      " 6   total_deaths       227 non-null    float64\n",
      " 7   new_deaths         227 non-null    float64\n",
      " 8   population         236 non-null    float64\n",
      "dtypes: float64(5), object(4)\n",
      "memory usage: 18.5+ KB\n"
     ]
    }
   ],
   "source": [
    "Data.info()"
   ]
  },
  {
   "cell_type": "code",
   "execution_count": 572,
   "id": "mHJMSYJrKDbU",
   "metadata": {
    "ExecuteTime": {
     "end_time": "2023-01-24T03:27:26.420258Z",
     "start_time": "2023-01-24T03:27:26.400231Z"
    },
    "colab": {
     "base_uri": "https://localhost:8080/",
     "height": 365
    },
    "id": "mHJMSYJrKDbU",
    "outputId": "2f7803b4-b6b3-45a9-ac1a-2849dc5e1235"
   },
   "outputs": [
    {
     "data": {
      "text/html": [
       "<div>\n",
       "<style scoped>\n",
       "    .dataframe tbody tr th:only-of-type {\n",
       "        vertical-align: middle;\n",
       "    }\n",
       "\n",
       "    .dataframe tbody tr th {\n",
       "        vertical-align: top;\n",
       "    }\n",
       "\n",
       "    .dataframe thead th {\n",
       "        text-align: right;\n",
       "    }\n",
       "</style>\n",
       "<table border=\"1\" class=\"dataframe\">\n",
       "  <thead>\n",
       "    <tr style=\"text-align: right;\">\n",
       "      <th></th>\n",
       "      <th>total_cases</th>\n",
       "      <th>new_cases</th>\n",
       "      <th>total_deaths</th>\n",
       "      <th>new_deaths</th>\n",
       "      <th>population</th>\n",
       "    </tr>\n",
       "  </thead>\n",
       "  <tbody>\n",
       "    <tr>\n",
       "      <th>count</th>\n",
       "      <td>2.310000e+02</td>\n",
       "      <td>231.000000</td>\n",
       "      <td>2.270000e+02</td>\n",
       "      <td>227.000000</td>\n",
       "      <td>2.360000e+02</td>\n",
       "    </tr>\n",
       "    <tr>\n",
       "      <th>mean</th>\n",
       "      <td>1.237045e+07</td>\n",
       "      <td>2756.844156</td>\n",
       "      <td>1.240378e+05</td>\n",
       "      <td>27.453744</td>\n",
       "      <td>1.371974e+08</td>\n",
       "    </tr>\n",
       "    <tr>\n",
       "      <th>std</th>\n",
       "      <td>5.904509e+07</td>\n",
       "      <td>13233.706619</td>\n",
       "      <td>5.678231e+05</td>\n",
       "      <td>120.947774</td>\n",
       "      <td>6.832297e+08</td>\n",
       "    </tr>\n",
       "    <tr>\n",
       "      <th>min</th>\n",
       "      <td>1.000000e+00</td>\n",
       "      <td>0.000000</td>\n",
       "      <td>1.000000e+00</td>\n",
       "      <td>0.000000</td>\n",
       "      <td>8.080000e+02</td>\n",
       "    </tr>\n",
       "    <tr>\n",
       "      <th>25%</th>\n",
       "      <td>3.212350e+04</td>\n",
       "      <td>0.000000</td>\n",
       "      <td>2.975000e+02</td>\n",
       "      <td>0.000000</td>\n",
       "      <td>8.297690e+05</td>\n",
       "    </tr>\n",
       "    <tr>\n",
       "      <th>50%</th>\n",
       "      <td>2.859580e+05</td>\n",
       "      <td>0.000000</td>\n",
       "      <td>3.164000e+03</td>\n",
       "      <td>0.000000</td>\n",
       "      <td>6.909971e+06</td>\n",
       "    </tr>\n",
       "    <tr>\n",
       "      <th>75%</th>\n",
       "      <td>2.174932e+06</td>\n",
       "      <td>313.500000</td>\n",
       "      <td>2.049000e+04</td>\n",
       "      <td>2.000000</td>\n",
       "      <td>3.353106e+07</td>\n",
       "    </tr>\n",
       "    <tr>\n",
       "      <th>max</th>\n",
       "      <td>6.687334e+08</td>\n",
       "      <td>113854.000000</td>\n",
       "      <td>6.738373e+06</td>\n",
       "      <td>1377.000000</td>\n",
       "      <td>7.975105e+09</td>\n",
       "    </tr>\n",
       "  </tbody>\n",
       "</table>\n",
       "</div>"
      ],
      "text/plain": [
       "        total_cases      new_cases  total_deaths   new_deaths    population\n",
       "count  2.310000e+02     231.000000  2.270000e+02   227.000000  2.360000e+02\n",
       "mean   1.237045e+07    2756.844156  1.240378e+05    27.453744  1.371974e+08\n",
       "std    5.904509e+07   13233.706619  5.678231e+05   120.947774  6.832297e+08\n",
       "min    1.000000e+00       0.000000  1.000000e+00     0.000000  8.080000e+02\n",
       "25%    3.212350e+04       0.000000  2.975000e+02     0.000000  8.297690e+05\n",
       "50%    2.859580e+05       0.000000  3.164000e+03     0.000000  6.909971e+06\n",
       "75%    2.174932e+06     313.500000  2.049000e+04     2.000000  3.353106e+07\n",
       "max    6.687334e+08  113854.000000  6.738373e+06  1377.000000  7.975105e+09"
      ]
     },
     "execution_count": 572,
     "metadata": {},
     "output_type": "execute_result"
    }
   ],
   "source": [
    "Data.describe()"
   ]
  },
  {
   "cell_type": "code",
   "execution_count": 573,
   "id": "JnmklR96PK5H",
   "metadata": {
    "ExecuteTime": {
     "end_time": "2023-01-24T03:27:26.817407Z",
     "start_time": "2023-01-24T03:27:26.780091Z"
    },
    "id": "JnmklR96PK5H"
   },
   "outputs": [
    {
     "data": {
      "text/html": [
       "<div>\n",
       "<style scoped>\n",
       "    .dataframe tbody tr th:only-of-type {\n",
       "        vertical-align: middle;\n",
       "    }\n",
       "\n",
       "    .dataframe tbody tr th {\n",
       "        vertical-align: top;\n",
       "    }\n",
       "\n",
       "    .dataframe thead th {\n",
       "        text-align: right;\n",
       "    }\n",
       "</style>\n",
       "<table border=\"1\" class=\"dataframe\">\n",
       "  <thead>\n",
       "    <tr style=\"text-align: right;\">\n",
       "      <th></th>\n",
       "      <th>iso_code</th>\n",
       "      <th>continent</th>\n",
       "      <th>location</th>\n",
       "      <th>last_updated_date</th>\n",
       "      <th>total_cases</th>\n",
       "      <th>new_cases</th>\n",
       "      <th>total_deaths</th>\n",
       "      <th>new_deaths</th>\n",
       "      <th>population</th>\n",
       "    </tr>\n",
       "  </thead>\n",
       "  <tbody>\n",
       "    <tr>\n",
       "      <th>count</th>\n",
       "      <td>237</td>\n",
       "      <td>224</td>\n",
       "      <td>237</td>\n",
       "      <td>237</td>\n",
       "      <td>2.310000e+02</td>\n",
       "      <td>231.000000</td>\n",
       "      <td>2.270000e+02</td>\n",
       "      <td>227.000000</td>\n",
       "      <td>2.360000e+02</td>\n",
       "    </tr>\n",
       "    <tr>\n",
       "      <th>unique</th>\n",
       "      <td>237</td>\n",
       "      <td>6</td>\n",
       "      <td>237</td>\n",
       "      <td>6</td>\n",
       "      <td>NaN</td>\n",
       "      <td>NaN</td>\n",
       "      <td>NaN</td>\n",
       "      <td>NaN</td>\n",
       "      <td>NaN</td>\n",
       "    </tr>\n",
       "    <tr>\n",
       "      <th>top</th>\n",
       "      <td>OWID_WRL</td>\n",
       "      <td>Africa</td>\n",
       "      <td>World</td>\n",
       "      <td>2023-01-22</td>\n",
       "      <td>NaN</td>\n",
       "      <td>NaN</td>\n",
       "      <td>NaN</td>\n",
       "      <td>NaN</td>\n",
       "      <td>NaN</td>\n",
       "    </tr>\n",
       "    <tr>\n",
       "      <th>freq</th>\n",
       "      <td>1</td>\n",
       "      <td>55</td>\n",
       "      <td>1</td>\n",
       "      <td>225</td>\n",
       "      <td>NaN</td>\n",
       "      <td>NaN</td>\n",
       "      <td>NaN</td>\n",
       "      <td>NaN</td>\n",
       "      <td>NaN</td>\n",
       "    </tr>\n",
       "    <tr>\n",
       "      <th>mean</th>\n",
       "      <td>NaN</td>\n",
       "      <td>NaN</td>\n",
       "      <td>NaN</td>\n",
       "      <td>NaN</td>\n",
       "      <td>1.237045e+07</td>\n",
       "      <td>2756.844156</td>\n",
       "      <td>1.240378e+05</td>\n",
       "      <td>27.453744</td>\n",
       "      <td>1.371974e+08</td>\n",
       "    </tr>\n",
       "    <tr>\n",
       "      <th>std</th>\n",
       "      <td>NaN</td>\n",
       "      <td>NaN</td>\n",
       "      <td>NaN</td>\n",
       "      <td>NaN</td>\n",
       "      <td>5.904509e+07</td>\n",
       "      <td>13233.706619</td>\n",
       "      <td>5.678231e+05</td>\n",
       "      <td>120.947774</td>\n",
       "      <td>6.832297e+08</td>\n",
       "    </tr>\n",
       "    <tr>\n",
       "      <th>min</th>\n",
       "      <td>NaN</td>\n",
       "      <td>NaN</td>\n",
       "      <td>NaN</td>\n",
       "      <td>NaN</td>\n",
       "      <td>1.000000e+00</td>\n",
       "      <td>0.000000</td>\n",
       "      <td>1.000000e+00</td>\n",
       "      <td>0.000000</td>\n",
       "      <td>8.080000e+02</td>\n",
       "    </tr>\n",
       "    <tr>\n",
       "      <th>25%</th>\n",
       "      <td>NaN</td>\n",
       "      <td>NaN</td>\n",
       "      <td>NaN</td>\n",
       "      <td>NaN</td>\n",
       "      <td>3.212350e+04</td>\n",
       "      <td>0.000000</td>\n",
       "      <td>2.975000e+02</td>\n",
       "      <td>0.000000</td>\n",
       "      <td>8.297690e+05</td>\n",
       "    </tr>\n",
       "    <tr>\n",
       "      <th>50%</th>\n",
       "      <td>NaN</td>\n",
       "      <td>NaN</td>\n",
       "      <td>NaN</td>\n",
       "      <td>NaN</td>\n",
       "      <td>2.859580e+05</td>\n",
       "      <td>0.000000</td>\n",
       "      <td>3.164000e+03</td>\n",
       "      <td>0.000000</td>\n",
       "      <td>6.909971e+06</td>\n",
       "    </tr>\n",
       "    <tr>\n",
       "      <th>75%</th>\n",
       "      <td>NaN</td>\n",
       "      <td>NaN</td>\n",
       "      <td>NaN</td>\n",
       "      <td>NaN</td>\n",
       "      <td>2.174932e+06</td>\n",
       "      <td>313.500000</td>\n",
       "      <td>2.049000e+04</td>\n",
       "      <td>2.000000</td>\n",
       "      <td>3.353106e+07</td>\n",
       "    </tr>\n",
       "    <tr>\n",
       "      <th>max</th>\n",
       "      <td>NaN</td>\n",
       "      <td>NaN</td>\n",
       "      <td>NaN</td>\n",
       "      <td>NaN</td>\n",
       "      <td>6.687334e+08</td>\n",
       "      <td>113854.000000</td>\n",
       "      <td>6.738373e+06</td>\n",
       "      <td>1377.000000</td>\n",
       "      <td>7.975105e+09</td>\n",
       "    </tr>\n",
       "  </tbody>\n",
       "</table>\n",
       "</div>"
      ],
      "text/plain": [
       "        iso_code continent location last_updated_date   total_cases  \\\n",
       "count        237       224      237               237  2.310000e+02   \n",
       "unique       237         6      237                 6           NaN   \n",
       "top     OWID_WRL    Africa    World        2023-01-22           NaN   \n",
       "freq           1        55        1               225           NaN   \n",
       "mean         NaN       NaN      NaN               NaN  1.237045e+07   \n",
       "std          NaN       NaN      NaN               NaN  5.904509e+07   \n",
       "min          NaN       NaN      NaN               NaN  1.000000e+00   \n",
       "25%          NaN       NaN      NaN               NaN  3.212350e+04   \n",
       "50%          NaN       NaN      NaN               NaN  2.859580e+05   \n",
       "75%          NaN       NaN      NaN               NaN  2.174932e+06   \n",
       "max          NaN       NaN      NaN               NaN  6.687334e+08   \n",
       "\n",
       "            new_cases  total_deaths   new_deaths    population  \n",
       "count      231.000000  2.270000e+02   227.000000  2.360000e+02  \n",
       "unique            NaN           NaN          NaN           NaN  \n",
       "top               NaN           NaN          NaN           NaN  \n",
       "freq              NaN           NaN          NaN           NaN  \n",
       "mean      2756.844156  1.240378e+05    27.453744  1.371974e+08  \n",
       "std      13233.706619  5.678231e+05   120.947774  6.832297e+08  \n",
       "min          0.000000  1.000000e+00     0.000000  8.080000e+02  \n",
       "25%          0.000000  2.975000e+02     0.000000  8.297690e+05  \n",
       "50%          0.000000  3.164000e+03     0.000000  6.909971e+06  \n",
       "75%        313.500000  2.049000e+04     2.000000  3.353106e+07  \n",
       "max     113854.000000  6.738373e+06  1377.000000  7.975105e+09  "
      ]
     },
     "execution_count": 573,
     "metadata": {},
     "output_type": "execute_result"
    }
   ],
   "source": [
    "Data.describe(include=\"all\")"
   ]
  },
  {
   "cell_type": "markdown",
   "id": "03ab97b4",
   "metadata": {
    "code_folding": [],
    "run_control": {
     "marked": false
    }
   },
   "source": [
    "## Data Reduction"
   ]
  },
  {
   "cell_type": "markdown",
   "id": "a69e90da",
   "metadata": {},
   "source": [
    "here some countries have NULL Values in their specific columns, so dropping the columns without filling it"
   ]
  },
  {
   "cell_type": "code",
   "execution_count": 574,
   "id": "d45b7691",
   "metadata": {
    "ExecuteTime": {
     "end_time": "2023-01-24T03:27:27.952832Z",
     "start_time": "2023-01-24T03:27:27.931635Z"
    }
   },
   "outputs": [
    {
     "data": {
      "text/plain": [
       "iso_code             False\n",
       "continent             True\n",
       "location             False\n",
       "last_updated_date    False\n",
       "total_cases           True\n",
       "new_cases             True\n",
       "total_deaths          True\n",
       "new_deaths            True\n",
       "population            True\n",
       "dtype: bool"
      ]
     },
     "execution_count": 574,
     "metadata": {},
     "output_type": "execute_result"
    }
   ],
   "source": [
    "Data.isnull().any()"
   ]
  },
  {
   "cell_type": "code",
   "execution_count": 575,
   "id": "122b1644",
   "metadata": {
    "ExecuteTime": {
     "end_time": "2023-01-24T03:27:28.346176Z",
     "start_time": "2023-01-24T03:27:28.323174Z"
    }
   },
   "outputs": [
    {
     "data": {
      "text/plain": [
       "iso_code              0\n",
       "continent            13\n",
       "location              0\n",
       "last_updated_date     0\n",
       "total_cases           6\n",
       "new_cases             6\n",
       "total_deaths         10\n",
       "new_deaths           10\n",
       "population            1\n",
       "dtype: int64"
      ]
     },
     "execution_count": 575,
     "metadata": {},
     "output_type": "execute_result"
    }
   ],
   "source": [
    "Data.isnull().sum()"
   ]
  },
  {
   "cell_type": "code",
   "execution_count": 576,
   "id": "008Ptc1hOHz7",
   "metadata": {
    "ExecuteTime": {
     "end_time": "2023-01-24T03:27:28.687735Z",
     "start_time": "2023-01-24T03:27:28.678720Z"
    },
    "id": "008Ptc1hOHz7"
   },
   "outputs": [],
   "source": [
    "Data=Data.dropna()"
   ]
  },
  {
   "cell_type": "code",
   "execution_count": 577,
   "id": "uUIgiXtXKmJy",
   "metadata": {
    "ExecuteTime": {
     "end_time": "2023-01-24T03:27:29.249596Z",
     "start_time": "2023-01-24T03:27:29.215478Z"
    },
    "colab": {
     "base_uri": "https://localhost:8080/",
     "height": 424
    },
    "id": "uUIgiXtXKmJy",
    "outputId": "22dbba57-2021-4d0d-8f54-9d24c7da39ab"
   },
   "outputs": [
    {
     "data": {
      "text/html": [
       "<div>\n",
       "<style scoped>\n",
       "    .dataframe tbody tr th:only-of-type {\n",
       "        vertical-align: middle;\n",
       "    }\n",
       "\n",
       "    .dataframe tbody tr th {\n",
       "        vertical-align: top;\n",
       "    }\n",
       "\n",
       "    .dataframe thead th {\n",
       "        text-align: right;\n",
       "    }\n",
       "</style>\n",
       "<table border=\"1\" class=\"dataframe\">\n",
       "  <thead>\n",
       "    <tr style=\"text-align: right;\">\n",
       "      <th></th>\n",
       "      <th>iso_code</th>\n",
       "      <th>continent</th>\n",
       "      <th>location</th>\n",
       "      <th>last_updated_date</th>\n",
       "      <th>total_cases</th>\n",
       "      <th>new_cases</th>\n",
       "      <th>total_deaths</th>\n",
       "      <th>new_deaths</th>\n",
       "      <th>population</th>\n",
       "    </tr>\n",
       "  </thead>\n",
       "  <tbody>\n",
       "    <tr>\n",
       "      <th>223</th>\n",
       "      <td>USA</td>\n",
       "      <td>North America</td>\n",
       "      <td>United States</td>\n",
       "      <td>2023-01-22</td>\n",
       "      <td>102005805.0</td>\n",
       "      <td>2715.0</td>\n",
       "      <td>1104118.0</td>\n",
       "      <td>15.0</td>\n",
       "      <td>3.382899e+08</td>\n",
       "    </tr>\n",
       "    <tr>\n",
       "      <th>96</th>\n",
       "      <td>IND</td>\n",
       "      <td>Asia</td>\n",
       "      <td>India</td>\n",
       "      <td>2023-01-22</td>\n",
       "      <td>44683239.0</td>\n",
       "      <td>94.0</td>\n",
       "      <td>530735.0</td>\n",
       "      <td>2.0</td>\n",
       "      <td>1.417173e+09</td>\n",
       "    </tr>\n",
       "    <tr>\n",
       "      <th>75</th>\n",
       "      <td>FRA</td>\n",
       "      <td>Europe</td>\n",
       "      <td>France</td>\n",
       "      <td>2023-01-22</td>\n",
       "      <td>39516793.0</td>\n",
       "      <td>4475.0</td>\n",
       "      <td>163821.0</td>\n",
       "      <td>44.0</td>\n",
       "      <td>6.781300e+07</td>\n",
       "    </tr>\n",
       "    <tr>\n",
       "      <th>80</th>\n",
       "      <td>DEU</td>\n",
       "      <td>Europe</td>\n",
       "      <td>Germany</td>\n",
       "      <td>2023-01-23</td>\n",
       "      <td>37668384.0</td>\n",
       "      <td>8866.0</td>\n",
       "      <td>164703.0</td>\n",
       "      <td>118.0</td>\n",
       "      <td>8.336984e+07</td>\n",
       "    </tr>\n",
       "    <tr>\n",
       "      <th>29</th>\n",
       "      <td>BRA</td>\n",
       "      <td>South America</td>\n",
       "      <td>Brazil</td>\n",
       "      <td>2023-01-22</td>\n",
       "      <td>36718053.0</td>\n",
       "      <td>552.0</td>\n",
       "      <td>696257.0</td>\n",
       "      <td>3.0</td>\n",
       "      <td>2.153135e+08</td>\n",
       "    </tr>\n",
       "    <tr>\n",
       "      <th>...</th>\n",
       "      <td>...</td>\n",
       "      <td>...</td>\n",
       "      <td>...</td>\n",
       "      <td>...</td>\n",
       "      <td>...</td>\n",
       "      <td>...</td>\n",
       "      <td>...</td>\n",
       "      <td>...</td>\n",
       "      <td>...</td>\n",
       "    </tr>\n",
       "    <tr>\n",
       "      <th>126</th>\n",
       "      <td>MAC</td>\n",
       "      <td>Asia</td>\n",
       "      <td>Macao</td>\n",
       "      <td>2023-01-22</td>\n",
       "      <td>3468.0</td>\n",
       "      <td>6.0</td>\n",
       "      <td>117.0</td>\n",
       "      <td>1.0</td>\n",
       "      <td>6.951800e+05</td>\n",
       "    </tr>\n",
       "    <tr>\n",
       "      <th>232</th>\n",
       "      <td>WLF</td>\n",
       "      <td>Oceania</td>\n",
       "      <td>Wallis and Futuna</td>\n",
       "      <td>2023-01-22</td>\n",
       "      <td>3427.0</td>\n",
       "      <td>0.0</td>\n",
       "      <td>7.0</td>\n",
       "      <td>0.0</td>\n",
       "      <td>1.159600e+04</td>\n",
       "    </tr>\n",
       "    <tr>\n",
       "      <th>180</th>\n",
       "      <td>SPM</td>\n",
       "      <td>North America</td>\n",
       "      <td>Saint Pierre and Miquelon</td>\n",
       "      <td>2023-01-22</td>\n",
       "      <td>3411.0</td>\n",
       "      <td>0.0</td>\n",
       "      <td>2.0</td>\n",
       "      <td>0.0</td>\n",
       "      <td>5.885000e+03</td>\n",
       "    </tr>\n",
       "    <tr>\n",
       "      <th>142</th>\n",
       "      <td>MSR</td>\n",
       "      <td>North America</td>\n",
       "      <td>Montserrat</td>\n",
       "      <td>2023-01-22</td>\n",
       "      <td>1403.0</td>\n",
       "      <td>0.0</td>\n",
       "      <td>8.0</td>\n",
       "      <td>0.0</td>\n",
       "      <td>4.413000e+03</td>\n",
       "    </tr>\n",
       "    <tr>\n",
       "      <th>156</th>\n",
       "      <td>PRK</td>\n",
       "      <td>Asia</td>\n",
       "      <td>North Korea</td>\n",
       "      <td>2023-01-22</td>\n",
       "      <td>1.0</td>\n",
       "      <td>0.0</td>\n",
       "      <td>6.0</td>\n",
       "      <td>0.0</td>\n",
       "      <td>2.606942e+07</td>\n",
       "    </tr>\n",
       "  </tbody>\n",
       "</table>\n",
       "<p>214 rows × 9 columns</p>\n",
       "</div>"
      ],
      "text/plain": [
       "    iso_code      continent                   location last_updated_date  \\\n",
       "223      USA  North America              United States        2023-01-22   \n",
       "96       IND           Asia                      India        2023-01-22   \n",
       "75       FRA         Europe                     France        2023-01-22   \n",
       "80       DEU         Europe                    Germany        2023-01-23   \n",
       "29       BRA  South America                     Brazil        2023-01-22   \n",
       "..       ...            ...                        ...               ...   \n",
       "126      MAC           Asia                      Macao        2023-01-22   \n",
       "232      WLF        Oceania          Wallis and Futuna        2023-01-22   \n",
       "180      SPM  North America  Saint Pierre and Miquelon        2023-01-22   \n",
       "142      MSR  North America                 Montserrat        2023-01-22   \n",
       "156      PRK           Asia                North Korea        2023-01-22   \n",
       "\n",
       "     total_cases  new_cases  total_deaths  new_deaths    population  \n",
       "223  102005805.0     2715.0     1104118.0        15.0  3.382899e+08  \n",
       "96    44683239.0       94.0      530735.0         2.0  1.417173e+09  \n",
       "75    39516793.0     4475.0      163821.0        44.0  6.781300e+07  \n",
       "80    37668384.0     8866.0      164703.0       118.0  8.336984e+07  \n",
       "29    36718053.0      552.0      696257.0         3.0  2.153135e+08  \n",
       "..           ...        ...           ...         ...           ...  \n",
       "126       3468.0        6.0         117.0         1.0  6.951800e+05  \n",
       "232       3427.0        0.0           7.0         0.0  1.159600e+04  \n",
       "180       3411.0        0.0           2.0         0.0  5.885000e+03  \n",
       "142       1403.0        0.0           8.0         0.0  4.413000e+03  \n",
       "156          1.0        0.0           6.0         0.0  2.606942e+07  \n",
       "\n",
       "[214 rows x 9 columns]"
      ]
     },
     "execution_count": 577,
     "metadata": {},
     "output_type": "execute_result"
    }
   ],
   "source": [
    "Data"
   ]
  },
  {
   "cell_type": "code",
   "execution_count": 578,
   "id": "1u9qsdMwLNjQ",
   "metadata": {
    "ExecuteTime": {
     "end_time": "2023-01-24T03:27:29.805402Z",
     "start_time": "2023-01-24T03:27:29.786921Z"
    },
    "colab": {
     "base_uri": "https://localhost:8080/"
    },
    "id": "1u9qsdMwLNjQ",
    "outputId": "afa6a7d3-fd8f-46c0-f36a-3ba5f9d97609"
   },
   "outputs": [
    {
     "name": "stdout",
     "output_type": "stream",
     "text": [
      "<class 'pandas.core.frame.DataFrame'>\n",
      "Int64Index: 214 entries, 223 to 156\n",
      "Data columns (total 9 columns):\n",
      " #   Column             Non-Null Count  Dtype  \n",
      "---  ------             --------------  -----  \n",
      " 0   iso_code           214 non-null    object \n",
      " 1   continent          214 non-null    object \n",
      " 2   location           214 non-null    object \n",
      " 3   last_updated_date  214 non-null    object \n",
      " 4   total_cases        214 non-null    float64\n",
      " 5   new_cases          214 non-null    float64\n",
      " 6   total_deaths       214 non-null    float64\n",
      " 7   new_deaths         214 non-null    float64\n",
      " 8   population         214 non-null    float64\n",
      "dtypes: float64(5), object(4)\n",
      "memory usage: 16.7+ KB\n"
     ]
    }
   ],
   "source": [
    "Data.info()"
   ]
  },
  {
   "cell_type": "code",
   "execution_count": 579,
   "id": "sNyZZsT0LQml",
   "metadata": {
    "ExecuteTime": {
     "end_time": "2023-01-24T03:27:30.544849Z",
     "start_time": "2023-01-24T03:27:30.503817Z"
    },
    "colab": {
     "base_uri": "https://localhost:8080/",
     "height": 395
    },
    "id": "sNyZZsT0LQml",
    "outputId": "1a99605f-9fd0-4a2b-9a1b-2c76a69f83c8"
   },
   "outputs": [
    {
     "data": {
      "text/html": [
       "<div>\n",
       "<style scoped>\n",
       "    .dataframe tbody tr th:only-of-type {\n",
       "        vertical-align: middle;\n",
       "    }\n",
       "\n",
       "    .dataframe tbody tr th {\n",
       "        vertical-align: top;\n",
       "    }\n",
       "\n",
       "    .dataframe thead th {\n",
       "        text-align: right;\n",
       "    }\n",
       "</style>\n",
       "<table border=\"1\" class=\"dataframe\">\n",
       "  <thead>\n",
       "    <tr style=\"text-align: right;\">\n",
       "      <th></th>\n",
       "      <th>iso_code</th>\n",
       "      <th>continent</th>\n",
       "      <th>location</th>\n",
       "      <th>last_updated_date</th>\n",
       "      <th>total_cases</th>\n",
       "      <th>new_cases</th>\n",
       "      <th>total_deaths</th>\n",
       "      <th>new_deaths</th>\n",
       "      <th>population</th>\n",
       "    </tr>\n",
       "  </thead>\n",
       "  <tbody>\n",
       "    <tr>\n",
       "      <th>count</th>\n",
       "      <td>214</td>\n",
       "      <td>214</td>\n",
       "      <td>214</td>\n",
       "      <td>214</td>\n",
       "      <td>2.140000e+02</td>\n",
       "      <td>214.00000</td>\n",
       "      <td>2.140000e+02</td>\n",
       "      <td>214.000000</td>\n",
       "      <td>2.140000e+02</td>\n",
       "    </tr>\n",
       "    <tr>\n",
       "      <th>unique</th>\n",
       "      <td>214</td>\n",
       "      <td>6</td>\n",
       "      <td>214</td>\n",
       "      <td>2</td>\n",
       "      <td>NaN</td>\n",
       "      <td>NaN</td>\n",
       "      <td>NaN</td>\n",
       "      <td>NaN</td>\n",
       "      <td>NaN</td>\n",
       "    </tr>\n",
       "    <tr>\n",
       "      <th>top</th>\n",
       "      <td>USA</td>\n",
       "      <td>Africa</td>\n",
       "      <td>United States</td>\n",
       "      <td>2023-01-22</td>\n",
       "      <td>NaN</td>\n",
       "      <td>NaN</td>\n",
       "      <td>NaN</td>\n",
       "      <td>NaN</td>\n",
       "      <td>NaN</td>\n",
       "    </tr>\n",
       "    <tr>\n",
       "      <th>freq</th>\n",
       "      <td>1</td>\n",
       "      <td>54</td>\n",
       "      <td>1</td>\n",
       "      <td>207</td>\n",
       "      <td>NaN</td>\n",
       "      <td>NaN</td>\n",
       "      <td>NaN</td>\n",
       "      <td>NaN</td>\n",
       "      <td>NaN</td>\n",
       "    </tr>\n",
       "    <tr>\n",
       "      <th>mean</th>\n",
       "      <td>NaN</td>\n",
       "      <td>NaN</td>\n",
       "      <td>NaN</td>\n",
       "      <td>NaN</td>\n",
       "      <td>3.124886e+06</td>\n",
       "      <td>1371.00000</td>\n",
       "      <td>3.148765e+04</td>\n",
       "      <td>20.630841</td>\n",
       "      <td>3.721731e+07</td>\n",
       "    </tr>\n",
       "    <tr>\n",
       "      <th>std</th>\n",
       "      <td>NaN</td>\n",
       "      <td>NaN</td>\n",
       "      <td>NaN</td>\n",
       "      <td>NaN</td>\n",
       "      <td>9.690128e+06</td>\n",
       "      <td>6171.86927</td>\n",
       "      <td>1.064096e+05</td>\n",
       "      <td>110.043223</td>\n",
       "      <td>1.426430e+08</td>\n",
       "    </tr>\n",
       "    <tr>\n",
       "      <th>min</th>\n",
       "      <td>NaN</td>\n",
       "      <td>NaN</td>\n",
       "      <td>NaN</td>\n",
       "      <td>NaN</td>\n",
       "      <td>1.000000e+00</td>\n",
       "      <td>0.00000</td>\n",
       "      <td>1.000000e+00</td>\n",
       "      <td>0.000000</td>\n",
       "      <td>4.413000e+03</td>\n",
       "    </tr>\n",
       "    <tr>\n",
       "      <th>25%</th>\n",
       "      <td>NaN</td>\n",
       "      <td>NaN</td>\n",
       "      <td>NaN</td>\n",
       "      <td>NaN</td>\n",
       "      <td>3.308325e+04</td>\n",
       "      <td>0.00000</td>\n",
       "      <td>2.832500e+02</td>\n",
       "      <td>0.000000</td>\n",
       "      <td>8.515890e+05</td>\n",
       "    </tr>\n",
       "    <tr>\n",
       "      <th>50%</th>\n",
       "      <td>NaN</td>\n",
       "      <td>NaN</td>\n",
       "      <td>NaN</td>\n",
       "      <td>NaN</td>\n",
       "      <td>2.688990e+05</td>\n",
       "      <td>0.00000</td>\n",
       "      <td>2.795000e+03</td>\n",
       "      <td>0.000000</td>\n",
       "      <td>6.797150e+06</td>\n",
       "    </tr>\n",
       "    <tr>\n",
       "      <th>75%</th>\n",
       "      <td>NaN</td>\n",
       "      <td>NaN</td>\n",
       "      <td>NaN</td>\n",
       "      <td>NaN</td>\n",
       "      <td>1.491256e+06</td>\n",
       "      <td>197.75000</td>\n",
       "      <td>1.669275e+04</td>\n",
       "      <td>0.750000</td>\n",
       "      <td>2.620034e+07</td>\n",
       "    </tr>\n",
       "    <tr>\n",
       "      <th>max</th>\n",
       "      <td>NaN</td>\n",
       "      <td>NaN</td>\n",
       "      <td>NaN</td>\n",
       "      <td>NaN</td>\n",
       "      <td>1.020058e+08</td>\n",
       "      <td>64450.00000</td>\n",
       "      <td>1.104118e+06</td>\n",
       "      <td>1377.000000</td>\n",
       "      <td>1.425887e+09</td>\n",
       "    </tr>\n",
       "  </tbody>\n",
       "</table>\n",
       "</div>"
      ],
      "text/plain": [
       "       iso_code continent       location last_updated_date   total_cases  \\\n",
       "count       214       214            214               214  2.140000e+02   \n",
       "unique      214         6            214                 2           NaN   \n",
       "top         USA    Africa  United States        2023-01-22           NaN   \n",
       "freq          1        54              1               207           NaN   \n",
       "mean        NaN       NaN            NaN               NaN  3.124886e+06   \n",
       "std         NaN       NaN            NaN               NaN  9.690128e+06   \n",
       "min         NaN       NaN            NaN               NaN  1.000000e+00   \n",
       "25%         NaN       NaN            NaN               NaN  3.308325e+04   \n",
       "50%         NaN       NaN            NaN               NaN  2.688990e+05   \n",
       "75%         NaN       NaN            NaN               NaN  1.491256e+06   \n",
       "max         NaN       NaN            NaN               NaN  1.020058e+08   \n",
       "\n",
       "          new_cases  total_deaths   new_deaths    population  \n",
       "count     214.00000  2.140000e+02   214.000000  2.140000e+02  \n",
       "unique          NaN           NaN          NaN           NaN  \n",
       "top             NaN           NaN          NaN           NaN  \n",
       "freq            NaN           NaN          NaN           NaN  \n",
       "mean     1371.00000  3.148765e+04    20.630841  3.721731e+07  \n",
       "std      6171.86927  1.064096e+05   110.043223  1.426430e+08  \n",
       "min         0.00000  1.000000e+00     0.000000  4.413000e+03  \n",
       "25%         0.00000  2.832500e+02     0.000000  8.515890e+05  \n",
       "50%         0.00000  2.795000e+03     0.000000  6.797150e+06  \n",
       "75%       197.75000  1.669275e+04     0.750000  2.620034e+07  \n",
       "max     64450.00000  1.104118e+06  1377.000000  1.425887e+09  "
      ]
     },
     "execution_count": 579,
     "metadata": {},
     "output_type": "execute_result"
    }
   ],
   "source": [
    "Data.describe(include=\"all\")"
   ]
  },
  {
   "cell_type": "code",
   "execution_count": 580,
   "id": "Jl1dKPM_P3ud",
   "metadata": {
    "ExecuteTime": {
     "end_time": "2023-01-24T03:27:31.064215Z",
     "start_time": "2023-01-24T03:27:31.029238Z"
    },
    "colab": {
     "base_uri": "https://localhost:8080/",
     "height": 301
    },
    "id": "Jl1dKPM_P3ud",
    "outputId": "4a5e4e23-1563-4bd3-c944-ff0b363390b7"
   },
   "outputs": [
    {
     "data": {
      "text/html": [
       "<div>\n",
       "<style scoped>\n",
       "    .dataframe tbody tr th:only-of-type {\n",
       "        vertical-align: middle;\n",
       "    }\n",
       "\n",
       "    .dataframe tbody tr th {\n",
       "        vertical-align: top;\n",
       "    }\n",
       "\n",
       "    .dataframe thead th {\n",
       "        text-align: right;\n",
       "    }\n",
       "</style>\n",
       "<table border=\"1\" class=\"dataframe\">\n",
       "  <thead>\n",
       "    <tr style=\"text-align: right;\">\n",
       "      <th></th>\n",
       "      <th>total_cases</th>\n",
       "      <th>new_cases</th>\n",
       "      <th>total_deaths</th>\n",
       "      <th>new_deaths</th>\n",
       "      <th>population</th>\n",
       "    </tr>\n",
       "  </thead>\n",
       "  <tbody>\n",
       "    <tr>\n",
       "      <th>count</th>\n",
       "      <td>2.140000e+02</td>\n",
       "      <td>214.00000</td>\n",
       "      <td>2.140000e+02</td>\n",
       "      <td>214.000000</td>\n",
       "      <td>2.140000e+02</td>\n",
       "    </tr>\n",
       "    <tr>\n",
       "      <th>mean</th>\n",
       "      <td>3.124886e+06</td>\n",
       "      <td>1371.00000</td>\n",
       "      <td>3.148765e+04</td>\n",
       "      <td>20.630841</td>\n",
       "      <td>3.721731e+07</td>\n",
       "    </tr>\n",
       "    <tr>\n",
       "      <th>std</th>\n",
       "      <td>9.690128e+06</td>\n",
       "      <td>6171.86927</td>\n",
       "      <td>1.064096e+05</td>\n",
       "      <td>110.043223</td>\n",
       "      <td>1.426430e+08</td>\n",
       "    </tr>\n",
       "    <tr>\n",
       "      <th>min</th>\n",
       "      <td>1.000000e+00</td>\n",
       "      <td>0.00000</td>\n",
       "      <td>1.000000e+00</td>\n",
       "      <td>0.000000</td>\n",
       "      <td>4.413000e+03</td>\n",
       "    </tr>\n",
       "    <tr>\n",
       "      <th>25%</th>\n",
       "      <td>3.308325e+04</td>\n",
       "      <td>0.00000</td>\n",
       "      <td>2.832500e+02</td>\n",
       "      <td>0.000000</td>\n",
       "      <td>8.515890e+05</td>\n",
       "    </tr>\n",
       "    <tr>\n",
       "      <th>50%</th>\n",
       "      <td>2.688990e+05</td>\n",
       "      <td>0.00000</td>\n",
       "      <td>2.795000e+03</td>\n",
       "      <td>0.000000</td>\n",
       "      <td>6.797150e+06</td>\n",
       "    </tr>\n",
       "    <tr>\n",
       "      <th>75%</th>\n",
       "      <td>1.491256e+06</td>\n",
       "      <td>197.75000</td>\n",
       "      <td>1.669275e+04</td>\n",
       "      <td>0.750000</td>\n",
       "      <td>2.620034e+07</td>\n",
       "    </tr>\n",
       "    <tr>\n",
       "      <th>max</th>\n",
       "      <td>1.020058e+08</td>\n",
       "      <td>64450.00000</td>\n",
       "      <td>1.104118e+06</td>\n",
       "      <td>1377.000000</td>\n",
       "      <td>1.425887e+09</td>\n",
       "    </tr>\n",
       "  </tbody>\n",
       "</table>\n",
       "</div>"
      ],
      "text/plain": [
       "        total_cases    new_cases  total_deaths   new_deaths    population\n",
       "count  2.140000e+02    214.00000  2.140000e+02   214.000000  2.140000e+02\n",
       "mean   3.124886e+06   1371.00000  3.148765e+04    20.630841  3.721731e+07\n",
       "std    9.690128e+06   6171.86927  1.064096e+05   110.043223  1.426430e+08\n",
       "min    1.000000e+00      0.00000  1.000000e+00     0.000000  4.413000e+03\n",
       "25%    3.308325e+04      0.00000  2.832500e+02     0.000000  8.515890e+05\n",
       "50%    2.688990e+05      0.00000  2.795000e+03     0.000000  6.797150e+06\n",
       "75%    1.491256e+06    197.75000  1.669275e+04     0.750000  2.620034e+07\n",
       "max    1.020058e+08  64450.00000  1.104118e+06  1377.000000  1.425887e+09"
      ]
     },
     "execution_count": 580,
     "metadata": {},
     "output_type": "execute_result"
    }
   ],
   "source": [
    "Data.describe()"
   ]
  },
  {
   "cell_type": "markdown",
   "id": "19f69723",
   "metadata": {},
   "source": [
    "## Mean"
   ]
  },
  {
   "cell_type": "code",
   "execution_count": 581,
   "id": "v5Z34TuJLSM9",
   "metadata": {
    "ExecuteTime": {
     "end_time": "2023-01-24T03:27:31.666368Z",
     "start_time": "2023-01-24T03:27:31.641509Z"
    },
    "colab": {
     "base_uri": "https://localhost:8080/"
    },
    "id": "v5Z34TuJLSM9",
    "outputId": "f75c8283-359e-4b4b-b201-4935c8cb0744"
   },
   "outputs": [
    {
     "data": {
      "text/plain": [
       "total_cases     3.124886e+06\n",
       "new_cases       1.371000e+03\n",
       "total_deaths    3.148765e+04\n",
       "new_deaths      2.063084e+01\n",
       "population      3.721731e+07\n",
       "dtype: float64"
      ]
     },
     "execution_count": 581,
     "metadata": {},
     "output_type": "execute_result"
    }
   ],
   "source": [
    "Data.mean()"
   ]
  },
  {
   "cell_type": "markdown",
   "id": "f1facb3c",
   "metadata": {},
   "source": [
    "## Median"
   ]
  },
  {
   "cell_type": "code",
   "execution_count": 582,
   "id": "XJb6F54jMV54",
   "metadata": {
    "ExecuteTime": {
     "end_time": "2023-01-24T03:27:32.154650Z",
     "start_time": "2023-01-24T03:27:32.136896Z"
    },
    "colab": {
     "base_uri": "https://localhost:8080/"
    },
    "id": "XJb6F54jMV54",
    "outputId": "37628903-0303-435b-9150-8e0237d0cb5c"
   },
   "outputs": [
    {
     "data": {
      "text/plain": [
       "total_cases      268899.0\n",
       "new_cases             0.0\n",
       "total_deaths       2795.0\n",
       "new_deaths            0.0\n",
       "population      6797149.5\n",
       "dtype: float64"
      ]
     },
     "execution_count": 582,
     "metadata": {},
     "output_type": "execute_result"
    }
   ],
   "source": [
    "Data.median()"
   ]
  },
  {
   "cell_type": "markdown",
   "id": "f34df33c",
   "metadata": {},
   "source": [
    "## Mode"
   ]
  },
  {
   "cell_type": "code",
   "execution_count": 583,
   "id": "L2K1Tm3kMX0l",
   "metadata": {
    "ExecuteTime": {
     "end_time": "2023-01-24T03:27:32.636989Z",
     "start_time": "2023-01-24T03:27:32.606990Z"
    },
    "colab": {
     "base_uri": "https://localhost:8080/",
     "height": 424
    },
    "id": "L2K1Tm3kMX0l",
    "outputId": "4926f052-356e-488a-e5d5-c07dfcf1b82f"
   },
   "outputs": [
    {
     "data": {
      "text/html": [
       "<div>\n",
       "<style scoped>\n",
       "    .dataframe tbody tr th:only-of-type {\n",
       "        vertical-align: middle;\n",
       "    }\n",
       "\n",
       "    .dataframe tbody tr th {\n",
       "        vertical-align: top;\n",
       "    }\n",
       "\n",
       "    .dataframe thead th {\n",
       "        text-align: right;\n",
       "    }\n",
       "</style>\n",
       "<table border=\"1\" class=\"dataframe\">\n",
       "  <thead>\n",
       "    <tr style=\"text-align: right;\">\n",
       "      <th></th>\n",
       "      <th>iso_code</th>\n",
       "      <th>continent</th>\n",
       "      <th>location</th>\n",
       "      <th>last_updated_date</th>\n",
       "      <th>total_cases</th>\n",
       "      <th>new_cases</th>\n",
       "      <th>total_deaths</th>\n",
       "      <th>new_deaths</th>\n",
       "      <th>population</th>\n",
       "    </tr>\n",
       "  </thead>\n",
       "  <tbody>\n",
       "    <tr>\n",
       "      <th>0</th>\n",
       "      <td>ABW</td>\n",
       "      <td>Africa</td>\n",
       "      <td>Afghanistan</td>\n",
       "      <td>2023-01-22</td>\n",
       "      <td>1.0</td>\n",
       "      <td>0.0</td>\n",
       "      <td>2.0</td>\n",
       "      <td>0.0</td>\n",
       "      <td>4.413000e+03</td>\n",
       "    </tr>\n",
       "    <tr>\n",
       "      <th>1</th>\n",
       "      <td>AFG</td>\n",
       "      <td>NaN</td>\n",
       "      <td>Albania</td>\n",
       "      <td>NaN</td>\n",
       "      <td>1403.0</td>\n",
       "      <td>NaN</td>\n",
       "      <td>21.0</td>\n",
       "      <td>NaN</td>\n",
       "      <td>5.885000e+03</td>\n",
       "    </tr>\n",
       "    <tr>\n",
       "      <th>2</th>\n",
       "      <td>AGO</td>\n",
       "      <td>NaN</td>\n",
       "      <td>Algeria</td>\n",
       "      <td>NaN</td>\n",
       "      <td>3411.0</td>\n",
       "      <td>NaN</td>\n",
       "      <td>38.0</td>\n",
       "      <td>NaN</td>\n",
       "      <td>1.159600e+04</td>\n",
       "    </tr>\n",
       "    <tr>\n",
       "      <th>3</th>\n",
       "      <td>AIA</td>\n",
       "      <td>NaN</td>\n",
       "      <td>Andorra</td>\n",
       "      <td>NaN</td>\n",
       "      <td>3427.0</td>\n",
       "      <td>NaN</td>\n",
       "      <td>138.0</td>\n",
       "      <td>NaN</td>\n",
       "      <td>1.269100e+04</td>\n",
       "    </tr>\n",
       "    <tr>\n",
       "      <th>4</th>\n",
       "      <td>ALB</td>\n",
       "      <td>NaN</td>\n",
       "      <td>Angola</td>\n",
       "      <td>NaN</td>\n",
       "      <td>3468.0</td>\n",
       "      <td>NaN</td>\n",
       "      <td>238.0</td>\n",
       "      <td>NaN</td>\n",
       "      <td>1.587700e+04</td>\n",
       "    </tr>\n",
       "    <tr>\n",
       "      <th>...</th>\n",
       "      <td>...</td>\n",
       "      <td>...</td>\n",
       "      <td>...</td>\n",
       "      <td>...</td>\n",
       "      <td>...</td>\n",
       "      <td>...</td>\n",
       "      <td>...</td>\n",
       "      <td>...</td>\n",
       "      <td>...</td>\n",
       "    </tr>\n",
       "    <tr>\n",
       "      <th>209</th>\n",
       "      <td>WSM</td>\n",
       "      <td>NaN</td>\n",
       "      <td>Vietnam</td>\n",
       "      <td>NaN</td>\n",
       "      <td>36718053.0</td>\n",
       "      <td>NaN</td>\n",
       "      <td>NaN</td>\n",
       "      <td>NaN</td>\n",
       "      <td>2.358249e+08</td>\n",
       "    </tr>\n",
       "    <tr>\n",
       "      <th>210</th>\n",
       "      <td>YEM</td>\n",
       "      <td>NaN</td>\n",
       "      <td>Wallis and Futuna</td>\n",
       "      <td>NaN</td>\n",
       "      <td>37668384.0</td>\n",
       "      <td>NaN</td>\n",
       "      <td>NaN</td>\n",
       "      <td>NaN</td>\n",
       "      <td>2.755013e+08</td>\n",
       "    </tr>\n",
       "    <tr>\n",
       "      <th>211</th>\n",
       "      <td>ZAF</td>\n",
       "      <td>NaN</td>\n",
       "      <td>Yemen</td>\n",
       "      <td>NaN</td>\n",
       "      <td>39516793.0</td>\n",
       "      <td>NaN</td>\n",
       "      <td>NaN</td>\n",
       "      <td>NaN</td>\n",
       "      <td>3.382899e+08</td>\n",
       "    </tr>\n",
       "    <tr>\n",
       "      <th>212</th>\n",
       "      <td>ZMB</td>\n",
       "      <td>NaN</td>\n",
       "      <td>Zambia</td>\n",
       "      <td>NaN</td>\n",
       "      <td>44683239.0</td>\n",
       "      <td>NaN</td>\n",
       "      <td>NaN</td>\n",
       "      <td>NaN</td>\n",
       "      <td>1.417173e+09</td>\n",
       "    </tr>\n",
       "    <tr>\n",
       "      <th>213</th>\n",
       "      <td>ZWE</td>\n",
       "      <td>NaN</td>\n",
       "      <td>Zimbabwe</td>\n",
       "      <td>NaN</td>\n",
       "      <td>102005805.0</td>\n",
       "      <td>NaN</td>\n",
       "      <td>NaN</td>\n",
       "      <td>NaN</td>\n",
       "      <td>1.425887e+09</td>\n",
       "    </tr>\n",
       "  </tbody>\n",
       "</table>\n",
       "<p>214 rows × 9 columns</p>\n",
       "</div>"
      ],
      "text/plain": [
       "    iso_code continent           location last_updated_date  total_cases  \\\n",
       "0        ABW    Africa        Afghanistan        2023-01-22          1.0   \n",
       "1        AFG       NaN            Albania               NaN       1403.0   \n",
       "2        AGO       NaN            Algeria               NaN       3411.0   \n",
       "3        AIA       NaN            Andorra               NaN       3427.0   \n",
       "4        ALB       NaN             Angola               NaN       3468.0   \n",
       "..       ...       ...                ...               ...          ...   \n",
       "209      WSM       NaN            Vietnam               NaN   36718053.0   \n",
       "210      YEM       NaN  Wallis and Futuna               NaN   37668384.0   \n",
       "211      ZAF       NaN              Yemen               NaN   39516793.0   \n",
       "212      ZMB       NaN             Zambia               NaN   44683239.0   \n",
       "213      ZWE       NaN           Zimbabwe               NaN  102005805.0   \n",
       "\n",
       "     new_cases  total_deaths  new_deaths    population  \n",
       "0          0.0           2.0         0.0  4.413000e+03  \n",
       "1          NaN          21.0         NaN  5.885000e+03  \n",
       "2          NaN          38.0         NaN  1.159600e+04  \n",
       "3          NaN         138.0         NaN  1.269100e+04  \n",
       "4          NaN         238.0         NaN  1.587700e+04  \n",
       "..         ...           ...         ...           ...  \n",
       "209        NaN           NaN         NaN  2.358249e+08  \n",
       "210        NaN           NaN         NaN  2.755013e+08  \n",
       "211        NaN           NaN         NaN  3.382899e+08  \n",
       "212        NaN           NaN         NaN  1.417173e+09  \n",
       "213        NaN           NaN         NaN  1.425887e+09  \n",
       "\n",
       "[214 rows x 9 columns]"
      ]
     },
     "execution_count": 583,
     "metadata": {},
     "output_type": "execute_result"
    }
   ],
   "source": [
    "Data.mode()"
   ]
  },
  {
   "cell_type": "markdown",
   "id": "0549cbe1",
   "metadata": {},
   "source": [
    "## Quantile Ranges"
   ]
  },
  {
   "cell_type": "code",
   "execution_count": 584,
   "id": "CEhhGE1yMZHA",
   "metadata": {
    "ExecuteTime": {
     "end_time": "2023-01-24T03:27:33.042395Z",
     "start_time": "2023-01-24T03:27:33.033363Z"
    },
    "colab": {
     "base_uri": "https://localhost:8080/"
    },
    "id": "CEhhGE1yMZHA",
    "outputId": "482e7f46-b35c-4df2-e7fe-35d4eb2403ae"
   },
   "outputs": [
    {
     "data": {
      "text/plain": [
       "total_cases      33083.25\n",
       "new_cases            0.00\n",
       "total_deaths       283.25\n",
       "new_deaths           0.00\n",
       "population      851589.00\n",
       "Name: 0.25, dtype: float64"
      ]
     },
     "execution_count": 584,
     "metadata": {},
     "output_type": "execute_result"
    }
   ],
   "source": [
    "Data.quantile(0.25)"
   ]
  },
  {
   "cell_type": "code",
   "execution_count": 585,
   "id": "AfKGCcBeMr_e",
   "metadata": {
    "ExecuteTime": {
     "end_time": "2023-01-24T03:27:33.293564Z",
     "start_time": "2023-01-24T03:27:33.269566Z"
    },
    "colab": {
     "base_uri": "https://localhost:8080/"
    },
    "id": "AfKGCcBeMr_e",
    "outputId": "a9eae0fc-2c93-4910-842f-fcc7fbcc22db"
   },
   "outputs": [
    {
     "data": {
      "text/plain": [
       "total_cases      1491255.75\n",
       "new_cases            197.75\n",
       "total_deaths       16692.75\n",
       "new_deaths             0.75\n",
       "population      26200339.00\n",
       "Name: 0.75, dtype: float64"
      ]
     },
     "execution_count": 585,
     "metadata": {},
     "output_type": "execute_result"
    }
   ],
   "source": [
    "Data.quantile(0.75)"
   ]
  },
  {
   "cell_type": "code",
   "execution_count": 586,
   "id": "URa9Q4lzQ2io",
   "metadata": {
    "ExecuteTime": {
     "end_time": "2023-01-24T03:27:33.466778Z",
     "start_time": "2023-01-24T03:27:33.458743Z"
    },
    "id": "URa9Q4lzQ2io"
   },
   "outputs": [],
   "source": [
    "Inter_quartile_range=Data.quantile(0.75)-Data.quantile(0.25)"
   ]
  },
  {
   "cell_type": "code",
   "execution_count": 587,
   "id": "9k903j33RACY",
   "metadata": {
    "ExecuteTime": {
     "end_time": "2023-01-24T03:27:33.688094Z",
     "start_time": "2023-01-24T03:27:33.671059Z"
    },
    "colab": {
     "base_uri": "https://localhost:8080/"
    },
    "id": "9k903j33RACY",
    "outputId": "8db462aa-a493-4dba-88ca-f2e2c0e76937"
   },
   "outputs": [
    {
     "data": {
      "text/plain": [
       "total_cases      1458172.50\n",
       "new_cases            197.75\n",
       "total_deaths       16409.50\n",
       "new_deaths             0.75\n",
       "population      25348750.00\n",
       "dtype: float64"
      ]
     },
     "execution_count": 587,
     "metadata": {},
     "output_type": "execute_result"
    }
   ],
   "source": [
    "Inter_quartile_range"
   ]
  },
  {
   "cell_type": "code",
   "execution_count": 588,
   "id": "_Kw-Ln8XOoPj",
   "metadata": {
    "ExecuteTime": {
     "end_time": "2023-01-24T03:27:33.908538Z",
     "start_time": "2023-01-24T03:27:33.884580Z"
    },
    "colab": {
     "base_uri": "https://localhost:8080/",
     "height": 424
    },
    "id": "_Kw-Ln8XOoPj",
    "outputId": "dd18206c-8327-4a3e-a4e2-f24596561d3e"
   },
   "outputs": [
    {
     "data": {
      "text/html": [
       "<div>\n",
       "<style scoped>\n",
       "    .dataframe tbody tr th:only-of-type {\n",
       "        vertical-align: middle;\n",
       "    }\n",
       "\n",
       "    .dataframe tbody tr th {\n",
       "        vertical-align: top;\n",
       "    }\n",
       "\n",
       "    .dataframe thead th {\n",
       "        text-align: right;\n",
       "    }\n",
       "</style>\n",
       "<table border=\"1\" class=\"dataframe\">\n",
       "  <thead>\n",
       "    <tr style=\"text-align: right;\">\n",
       "      <th></th>\n",
       "      <th>total_cases</th>\n",
       "      <th>new_cases</th>\n",
       "      <th>total_deaths</th>\n",
       "      <th>new_deaths</th>\n",
       "      <th>population</th>\n",
       "    </tr>\n",
       "  </thead>\n",
       "  <tbody>\n",
       "    <tr>\n",
       "      <th>223</th>\n",
       "      <td>102005805.0</td>\n",
       "      <td>2715.0</td>\n",
       "      <td>1104118.0</td>\n",
       "      <td>15.0</td>\n",
       "      <td>3.382899e+08</td>\n",
       "    </tr>\n",
       "    <tr>\n",
       "      <th>96</th>\n",
       "      <td>44683239.0</td>\n",
       "      <td>94.0</td>\n",
       "      <td>530735.0</td>\n",
       "      <td>2.0</td>\n",
       "      <td>1.417173e+09</td>\n",
       "    </tr>\n",
       "    <tr>\n",
       "      <th>75</th>\n",
       "      <td>39516793.0</td>\n",
       "      <td>4475.0</td>\n",
       "      <td>163821.0</td>\n",
       "      <td>44.0</td>\n",
       "      <td>6.781300e+07</td>\n",
       "    </tr>\n",
       "    <tr>\n",
       "      <th>80</th>\n",
       "      <td>37668384.0</td>\n",
       "      <td>8866.0</td>\n",
       "      <td>164703.0</td>\n",
       "      <td>118.0</td>\n",
       "      <td>8.336984e+07</td>\n",
       "    </tr>\n",
       "    <tr>\n",
       "      <th>29</th>\n",
       "      <td>36718053.0</td>\n",
       "      <td>552.0</td>\n",
       "      <td>696257.0</td>\n",
       "      <td>3.0</td>\n",
       "      <td>2.153135e+08</td>\n",
       "    </tr>\n",
       "    <tr>\n",
       "      <th>...</th>\n",
       "      <td>...</td>\n",
       "      <td>...</td>\n",
       "      <td>...</td>\n",
       "      <td>...</td>\n",
       "      <td>...</td>\n",
       "    </tr>\n",
       "    <tr>\n",
       "      <th>126</th>\n",
       "      <td>3468.0</td>\n",
       "      <td>6.0</td>\n",
       "      <td>117.0</td>\n",
       "      <td>1.0</td>\n",
       "      <td>6.951800e+05</td>\n",
       "    </tr>\n",
       "    <tr>\n",
       "      <th>232</th>\n",
       "      <td>3427.0</td>\n",
       "      <td>0.0</td>\n",
       "      <td>7.0</td>\n",
       "      <td>0.0</td>\n",
       "      <td>1.159600e+04</td>\n",
       "    </tr>\n",
       "    <tr>\n",
       "      <th>180</th>\n",
       "      <td>3411.0</td>\n",
       "      <td>0.0</td>\n",
       "      <td>2.0</td>\n",
       "      <td>0.0</td>\n",
       "      <td>5.885000e+03</td>\n",
       "    </tr>\n",
       "    <tr>\n",
       "      <th>142</th>\n",
       "      <td>1403.0</td>\n",
       "      <td>0.0</td>\n",
       "      <td>8.0</td>\n",
       "      <td>0.0</td>\n",
       "      <td>4.413000e+03</td>\n",
       "    </tr>\n",
       "    <tr>\n",
       "      <th>156</th>\n",
       "      <td>1.0</td>\n",
       "      <td>0.0</td>\n",
       "      <td>6.0</td>\n",
       "      <td>0.0</td>\n",
       "      <td>2.606942e+07</td>\n",
       "    </tr>\n",
       "  </tbody>\n",
       "</table>\n",
       "<p>214 rows × 5 columns</p>\n",
       "</div>"
      ],
      "text/plain": [
       "     total_cases  new_cases  total_deaths  new_deaths    population\n",
       "223  102005805.0     2715.0     1104118.0        15.0  3.382899e+08\n",
       "96    44683239.0       94.0      530735.0         2.0  1.417173e+09\n",
       "75    39516793.0     4475.0      163821.0        44.0  6.781300e+07\n",
       "80    37668384.0     8866.0      164703.0       118.0  8.336984e+07\n",
       "29    36718053.0      552.0      696257.0         3.0  2.153135e+08\n",
       "..           ...        ...           ...         ...           ...\n",
       "126       3468.0        6.0         117.0         1.0  6.951800e+05\n",
       "232       3427.0        0.0           7.0         0.0  1.159600e+04\n",
       "180       3411.0        0.0           2.0         0.0  5.885000e+03\n",
       "142       1403.0        0.0           8.0         0.0  4.413000e+03\n",
       "156          1.0        0.0           6.0         0.0  2.606942e+07\n",
       "\n",
       "[214 rows x 5 columns]"
      ]
     },
     "execution_count": 588,
     "metadata": {},
     "output_type": "execute_result"
    }
   ],
   "source": [
    "Data[Numerical_Columns]"
   ]
  },
  {
   "cell_type": "code",
   "execution_count": 589,
   "id": "05c47dd1",
   "metadata": {
    "ExecuteTime": {
     "end_time": "2023-01-24T03:27:34.108980Z",
     "start_time": "2023-01-24T03:27:34.085980Z"
    }
   },
   "outputs": [
    {
     "data": {
      "text/plain": [
       "5"
      ]
     },
     "execution_count": 589,
     "metadata": {},
     "output_type": "execute_result"
    }
   ],
   "source": [
    "len(Data.max()[4:])"
   ]
  },
  {
   "cell_type": "markdown",
   "id": "f32c1b58",
   "metadata": {},
   "source": [
    "## Harmonic Mean"
   ]
  },
  {
   "cell_type": "code",
   "execution_count": 590,
   "id": "DpK-nviOM1Ra",
   "metadata": {
    "ExecuteTime": {
     "end_time": "2023-01-24T03:27:34.489082Z",
     "start_time": "2023-01-24T03:27:34.478052Z"
    },
    "colab": {
     "base_uri": "https://localhost:8080/"
    },
    "id": "DpK-nviOM1Ra",
    "outputId": "fbce996b-d779-47bd-efa3-d375d34e44a5"
   },
   "outputs": [
    {
     "data": {
      "text/plain": [
       "0"
      ]
     },
     "execution_count": 590,
     "metadata": {},
     "output_type": "execute_result"
    }
   ],
   "source": [
    "statistics.harmonic_mean(Data[Numerical_Columns[3]])"
   ]
  },
  {
   "cell_type": "code",
   "execution_count": 591,
   "id": "771d93a0",
   "metadata": {
    "ExecuteTime": {
     "end_time": "2023-01-24T03:27:34.820434Z",
     "start_time": "2023-01-24T03:27:34.808398Z"
    }
   },
   "outputs": [
    {
     "data": {
      "text/plain": [
       "['total_cases: 212.56921925839814',\n",
       " 'new_cases: 0',\n",
       " 'total_deaths: 60.63119477286878',\n",
       " 'new_deaths: 0',\n",
       " 'population: 171183.99294536182']"
      ]
     },
     "execution_count": 591,
     "metadata": {},
     "output_type": "execute_result"
    }
   ],
   "source": [
    "[\n",
    "    Numerical_Columns[i]+\": \"+str(statistics.harmonic_mean(Data[Numerical_Columns[i]])) for i in range(len(Numerical_Columns))\n",
    "]"
   ]
  },
  {
   "cell_type": "markdown",
   "id": "967db4a3",
   "metadata": {},
   "source": [
    "## Geometric Mean"
   ]
  },
  {
   "cell_type": "code",
   "execution_count": 592,
   "id": "TvdZ7OxISM_8",
   "metadata": {
    "ExecuteTime": {
     "end_time": "2023-01-24T03:27:35.403617Z",
     "start_time": "2023-01-24T03:27:35.393307Z"
    },
    "colab": {
     "base_uri": "https://localhost:8080/"
    },
    "id": "TvdZ7OxISM_8",
    "outputId": "669371c8-9929-4418-b0ae-1df4f47b3ec6"
   },
   "outputs": [
    {
     "data": {
      "text/plain": [
       "0.0"
      ]
     },
     "execution_count": 592,
     "metadata": {},
     "output_type": "execute_result"
    }
   ],
   "source": [
    "scipy.stats.mstats.gmean(Data[Numerical_Columns[3]])"
   ]
  },
  {
   "cell_type": "code",
   "execution_count": 593,
   "id": "32ef1797",
   "metadata": {
    "ExecuteTime": {
     "end_time": "2023-01-24T03:27:35.638033Z",
     "start_time": "2023-01-24T03:27:35.629033Z"
    }
   },
   "outputs": [
    {
     "data": {
      "text/plain": [
       "['total_cases: 246862.64083075',\n",
       " 'new_cases: 0.0',\n",
       " 'total_deaths: 2105.079222511208',\n",
       " 'new_deaths: 0.0',\n",
       " 'population: 4224812.6670721555']"
      ]
     },
     "execution_count": 593,
     "metadata": {},
     "output_type": "execute_result"
    }
   ],
   "source": [
    "[\n",
    "    Numerical_Columns[i]+\": \"+str(scipy.stats.mstats.gmean(Data[Numerical_Columns[i]]))  for i in range(len(Numerical_Columns))\n",
    "]"
   ]
  },
  {
   "cell_type": "markdown",
   "id": "c5c281b2",
   "metadata": {},
   "source": [
    "## Skewness"
   ]
  },
  {
   "cell_type": "code",
   "execution_count": 594,
   "id": "gJM4thQkTRXv",
   "metadata": {
    "ExecuteTime": {
     "end_time": "2023-01-24T03:27:36.252751Z",
     "start_time": "2023-01-24T03:27:36.236753Z"
    },
    "colab": {
     "base_uri": "https://localhost:8080/"
    },
    "id": "gJM4thQkTRXv",
    "outputId": "d45648fc-2641-43f6-bd5f-48b74d3018e5"
   },
   "outputs": [
    {
     "data": {
      "text/plain": [
       "total_cases     6.451550\n",
       "new_cases       8.001820\n",
       "total_deaths    6.884670\n",
       "new_deaths      9.761294\n",
       "population      8.765136\n",
       "dtype: float64"
      ]
     },
     "execution_count": 594,
     "metadata": {},
     "output_type": "execute_result"
    }
   ],
   "source": [
    "Data.skew()"
   ]
  },
  {
   "cell_type": "markdown",
   "id": "1be17283",
   "metadata": {},
   "source": [
    "## Kurtosis"
   ]
  },
  {
   "cell_type": "code",
   "execution_count": 595,
   "id": "1YLQ4aEXTjuC",
   "metadata": {
    "ExecuteTime": {
     "end_time": "2023-01-24T03:27:36.853009Z",
     "start_time": "2023-01-24T03:27:36.831751Z"
    },
    "colab": {
     "base_uri": "https://localhost:8080/"
    },
    "id": "1YLQ4aEXTjuC",
    "outputId": "04de6a53-5f53-406e-9dbc-26de34524866"
   },
   "outputs": [
    {
     "data": {
      "text/plain": [
       "total_cases      54.407902\n",
       "new_cases        72.233026\n",
       "total_deaths     57.591278\n",
       "new_deaths      111.779968\n",
       "population       82.817356\n",
       "dtype: float64"
      ]
     },
     "execution_count": 595,
     "metadata": {},
     "output_type": "execute_result"
    }
   ],
   "source": [
    "Data.kurtosis()"
   ]
  },
  {
   "cell_type": "markdown",
   "id": "69bec24c",
   "metadata": {
    "ExecuteTime": {
     "end_time": "2023-01-24T02:32:23.018041Z",
     "start_time": "2023-01-24T02:32:23.004008Z"
    }
   },
   "source": [
    "## Box Plots"
   ]
  },
  {
   "cell_type": "code",
   "execution_count": 596,
   "id": "0ASIzUeBQLIV",
   "metadata": {
    "ExecuteTime": {
     "end_time": "2023-01-24T03:27:37.574062Z",
     "start_time": "2023-01-24T03:27:37.418276Z"
    },
    "colab": {
     "base_uri": "https://localhost:8080/",
     "height": 294
    },
    "id": "0ASIzUeBQLIV",
    "outputId": "f379ce99-9439-47a2-9fcf-357f44177173"
   },
   "outputs": [
    {
     "data": {
      "text/plain": [
       "<AxesSubplot: >"
      ]
     },
     "execution_count": 596,
     "metadata": {},
     "output_type": "execute_result"
    },
    {
     "data": {
      "image/png": "[encoded data removed]",
      "text/plain": [
       "<Figure size 1500x1200 with 1 Axes>"
      ]
     },
     "metadata": {},
     "output_type": "display_data"
    }
   ],
   "source": [
    "Data.boxplot(\"total_cases\")"
   ]
  },
  {
   "cell_type": "code",
   "execution_count": 597,
   "id": "UXBcR4c3NkC5",
   "metadata": {
    "ExecuteTime": {
     "end_time": "2023-01-24T03:27:37.935213Z",
     "start_time": "2023-01-24T03:27:37.759017Z"
    },
    "colab": {
     "base_uri": "https://localhost:8080/",
     "height": 404
    },
    "id": "UXBcR4c3NkC5",
    "outputId": "0d4cde79-2efc-4df1-adb1-9d45fc874695"
   },
   "outputs": [
    {
     "data": {
      "text/plain": [
       "<AxesSubplot: >"
      ]
     },
     "execution_count": 597,
     "metadata": {},
     "output_type": "execute_result"
    },
    {
     "data": {
      "image/png": "[encoded data removed]",
      "text/plain": [
       "<Figure size 1500x1200 with 1 Axes>"
      ]
     },
     "metadata": {},
     "output_type": "display_data"
    }
   ],
   "source": [
    "Data.boxplot('new_cases')"
   ]
  },
  {
   "cell_type": "code",
   "execution_count": 598,
   "id": "h9wuXOA0QbY0",
   "metadata": {
    "ExecuteTime": {
     "end_time": "2023-01-24T03:27:38.235068Z",
     "start_time": "2023-01-24T03:27:38.070055Z"
    },
    "colab": {
     "base_uri": "https://localhost:8080/",
     "height": 294
    },
    "id": "h9wuXOA0QbY0",
    "outputId": "a59e0149-7e11-40e9-a708-a2fd0eca96a0"
   },
   "outputs": [
    {
     "data": {
      "text/plain": [
       "<AxesSubplot: >"
      ]
     },
     "execution_count": 598,
     "metadata": {},
     "output_type": "execute_result"
    },
    {
     "data": {
      "image/png": "[encoded data removed]",
      "text/plain": [
       "<Figure size 1500x1200 with 1 Axes>"
      ]
     },
     "metadata": {},
     "output_type": "display_data"
    }
   ],
   "source": [
    "Data.boxplot(\"total_deaths\")"
   ]
  },
  {
   "cell_type": "code",
   "execution_count": 599,
   "id": "vgEbd455QjIX",
   "metadata": {
    "ExecuteTime": {
     "end_time": "2023-01-24T03:27:38.481942Z",
     "start_time": "2023-01-24T03:27:38.299918Z"
    },
    "colab": {
     "base_uri": "https://localhost:8080/",
     "height": 283
    },
    "id": "vgEbd455QjIX",
    "outputId": "69be12c5-ea8e-44f4-bd21-48e0258af273"
   },
   "outputs": [
    {
     "data": {
      "text/plain": [
       "<AxesSubplot: >"
      ]
     },
     "execution_count": 599,
     "metadata": {},
     "output_type": "execute_result"
    },
    {
     "data": {
      "image/png": "[encoded data removed]",
      "text/plain": [
       "<Figure size 1500x1200 with 1 Axes>"
      ]
     },
     "metadata": {},
     "output_type": "display_data"
    }
   ],
   "source": [
    "Data.boxplot(\"new_deaths\")"
   ]
  },
  {
   "cell_type": "code",
   "execution_count": 600,
   "id": "abbcfa1d",
   "metadata": {
    "ExecuteTime": {
     "end_time": "2023-01-24T03:27:38.686117Z",
     "start_time": "2023-01-24T03:27:38.519910Z"
    }
   },
   "outputs": [
    {
     "data": {
      "text/plain": [
       "<AxesSubplot: >"
      ]
     },
     "execution_count": 600,
     "metadata": {},
     "output_type": "execute_result"
    },
    {
     "data": {
      "image/png": "[encoded data removed]",
      "text/plain": [
       "<Figure size 1500x1200 with 1 Axes>"
      ]
     },
     "metadata": {},
     "output_type": "display_data"
    }
   ],
   "source": [
    "Data.boxplot(\"population\")"
   ]
  },
  {
   "cell_type": "code",
   "execution_count": 601,
   "id": "35dbe999",
   "metadata": {
    "ExecuteTime": {
     "end_time": "2023-01-24T03:27:38.981711Z",
     "start_time": "2023-01-24T03:27:38.755554Z"
    }
   },
   "outputs": [
    {
     "data": {
      "text/plain": [
       "<AxesSubplot: >"
      ]
     },
     "execution_count": 601,
     "metadata": {},
     "output_type": "execute_result"
    },
    {
     "data": {
      "image/png": "[encoded data removed]",
      "text/plain": [
       "<Figure size 1500x1200 with 1 Axes>"
      ]
     },
     "metadata": {},
     "output_type": "display_data"
    }
   ],
   "source": [
    "Data.boxplot()"
   ]
  },
  {
   "cell_type": "markdown",
   "id": "d6a5eea9",
   "metadata": {},
   "source": [
    "## Bar Graph"
   ]
  },
  {
   "cell_type": "code",
   "execution_count": 602,
   "id": "60614c07",
   "metadata": {
    "ExecuteTime": {
     "end_time": "2023-01-24T03:27:39.263276Z",
     "start_time": "2023-01-24T03:27:39.248238Z"
    }
   },
   "outputs": [
    {
     "data": {
      "text/plain": [
       "214"
      ]
     },
     "execution_count": 602,
     "metadata": {},
     "output_type": "execute_result"
    }
   ],
   "source": [
    "len(list(Data['location']))"
   ]
  },
  {
   "cell_type": "code",
   "execution_count": 603,
   "id": "786f0331",
   "metadata": {
    "ExecuteTime": {
     "end_time": "2023-01-24T03:27:39.818843Z",
     "start_time": "2023-01-24T03:27:39.514302Z"
    }
   },
   "outputs": [
    {
     "data": {
      "text/plain": [
       "<AxesSubplot: xlabel='location'>"
      ]
     },
     "execution_count": 603,
     "metadata": {},
     "output_type": "execute_result"
    },
    {
     "data": {
      "image/png": "[encoded data removed]",
      "text/plain": [
       "<Figure size 1500x1200 with 1 Axes>"
      ]
     },
     "metadata": {},
     "output_type": "display_data"
    }
   ],
   "source": [
    "Data[:20].plot.bar(x='location',y=['population'])"
   ]
  },
  {
   "cell_type": "markdown",
   "id": "2231ab62",
   "metadata": {},
   "source": [
    "## PieChart"
   ]
  },
  {
   "cell_type": "code",
   "execution_count": 604,
   "id": "8704f15f",
   "metadata": {
    "ExecuteTime": {
     "end_time": "2023-01-24T03:27:40.401880Z",
     "start_time": "2023-01-24T03:27:40.079911Z"
    },
    "scrolled": false
   },
   "outputs": [
    {
     "data": {
      "text/plain": [
       "([<matplotlib.patches.Wedge at 0x1b441f13df0>,\n",
       "  <matplotlib.patches.Wedge at 0x1b441f13d00>,\n",
       "  <matplotlib.patches.Wedge at 0x1b441f12ef0>,\n",
       "  <matplotlib.patches.Wedge at 0x1b441f11a80>,\n",
       "  <matplotlib.patches.Wedge at 0x1b441f12740>,\n",
       "  <matplotlib.patches.Wedge at 0x1b441e3c130>,\n",
       "  <matplotlib.patches.Wedge at 0x1b441e3c7c0>,\n",
       "  <matplotlib.patches.Wedge at 0x1b441e3ce50>,\n",
       "  <matplotlib.patches.Wedge at 0x1b441e3d4e0>,\n",
       "  <matplotlib.patches.Wedge at 0x1b441e3db70>,\n",
       "  <matplotlib.patches.Wedge at 0x1b441f10760>,\n",
       "  <matplotlib.patches.Wedge at 0x1b441e3e860>,\n",
       "  <matplotlib.patches.Wedge at 0x1b441e3eef0>,\n",
       "  <matplotlib.patches.Wedge at 0x1b441e3f580>,\n",
       "  <matplotlib.patches.Wedge at 0x1b441e3fc10>,\n",
       "  <matplotlib.patches.Wedge at 0x1b4492cc2e0>,\n",
       "  <matplotlib.patches.Wedge at 0x1b4492cc970>,\n",
       "  <matplotlib.patches.Wedge at 0x1b4492cd000>,\n",
       "  <matplotlib.patches.Wedge at 0x1b4492cd690>,\n",
       "  <matplotlib.patches.Wedge at 0x1b4492cdd20>,\n",
       "  <matplotlib.patches.Wedge at 0x1b4492ce3b0>,\n",
       "  <matplotlib.patches.Wedge at 0x1b4492cea40>,\n",
       "  <matplotlib.patches.Wedge at 0x1b4492cf0d0>,\n",
       "  <matplotlib.patches.Wedge at 0x1b4492cf760>,\n",
       "  <matplotlib.patches.Wedge at 0x1b4492cfdf0>],\n",
       " [Text(0.902675499700883, 0.6286310064256785, 'United States'),\n",
       "  Text(0.09635153547502993, 1.095772048197801, 'India'),\n",
       "  Text(-0.4429271471031747, 1.0068840759288245, 'France'),\n",
       "  Text(-0.8440974764867609, 0.7053364092322771, 'Germany'),\n",
       "  Text(-1.0651262925991594, 0.27478351627048186, 'Brazil'),\n",
       "  Text(-1.0863458234387264, -0.17277948922610972, 'Japan'),\n",
       "  Text(-0.9502440735065006, -0.5541084738259942, 'South Korea'),\n",
       "  Text(-0.7189805933953971, -0.8325064001680724, 'Italy'),\n",
       "  Text(-0.44463609412452015, -1.0061305798959155, 'United Kingdom'),\n",
       "  Text(-0.1564660858825244, -1.088815119278109, 'Russia'),\n",
       "  Text(0.09627229450421496, -1.0957790129907097, 'Turkey'),\n",
       "  Text(0.2945725031189192, -1.0598240610621437, 'Spain'),\n",
       "  Text(0.4502174894860681, -1.0036454613860724, 'Vietnam'),\n",
       "  Text(0.5821089120101351, -0.933353745671156, 'Australia'),\n",
       "  Text(0.695649191762189, -0.8520987043767955, 'Argentina'),\n",
       "  Text(0.7892094868578992, -0.7662560837301664, 'Taiwan'),\n",
       "  Text(0.8664929393075684, -0.6776355850530067, 'Netherlands'),\n",
       "  Text(0.927654015586927, -0.5911497503724835, 'Iran'),\n",
       "  Text(0.9764696123928404, -0.5064652960207405, 'Mexico'),\n",
       "  Text(1.0154810280445983, -0.42284545839051646, 'Indonesia'),\n",
       "  Text(1.0453909292909052, -0.34228322330534644, 'Poland'),\n",
       "  Text(1.0683299486677897, -0.26205175210152215, 'Colombia'),\n",
       "  Text(1.0844470335546454, -0.18432208607361655, 'Austria'),\n",
       "  Text(1.0944839001466298, -0.11002269002265953, 'Ukraine'),\n",
       "  Text(1.0993949223323187, -0.03648019668142175, 'Portugal')],\n",
       " [Text(0.49236845438229976, 0.34288963986855187, '19.4%'),\n",
       "  Text(0.052555382986379955, 0.5976938444715278, '8.5%'),\n",
       "  Text(-0.24159662569264073, 0.5492094959611769, '7.5%'),\n",
       "  Text(-0.46041680535641494, 0.38472895049033295, '7.2%'),\n",
       "  Text(-0.5809779777813596, 0.14988191796571734, '7.0%'),\n",
       "  Text(-0.5925522673302144, -0.0942433577596962, '6.1%'),\n",
       "  Text(-0.5183149491853639, -0.30224098572326946, '5.7%'),\n",
       "  Text(-0.3921712327611257, -0.4540944000916758, '4.8%'),\n",
       "  Text(-0.24252877861337457, -0.5487984981250447, '4.6%'),\n",
       "  Text(-0.0853451377541042, -0.5938991559698776, '4.1%'),\n",
       "  Text(0.052512160638662694, -0.597697643449478, '3.2%'),\n",
       "  Text(0.16067591079213772, -0.5780858514884419, '2.6%'),\n",
       "  Text(0.24557317608330984, -0.5474429789378576, '2.2%'),\n",
       "  Text(0.31751395200552823, -0.5091020430933577, '2.1%'),\n",
       "  Text(0.37944501368846667, -0.46478111147825196, '1.9%'),\n",
       "  Text(0.4304779019224904, -0.41795786385281797, '1.8%'),\n",
       "  Text(0.4726325123495827, -0.36961941002891274, '1.6%'),\n",
       "  Text(0.505993099411051, -0.32244531838499096, '1.4%'),\n",
       "  Text(0.5326197885779128, -0.2762537978294948, '1.4%'),\n",
       "  Text(0.5538987425697808, -0.23064297730391803, '1.3%'),\n",
       "  Text(0.5702132341586755, -0.1866999399847344, '1.2%'),\n",
       "  Text(0.5827254265460671, -0.14293731932810297, '1.2%'),\n",
       "  Text(0.5915165637570793, -0.10053931967651812, '1.1%'),\n",
       "  Text(0.596991218261798, -0.0600123763759961, '1.1%'),\n",
       "  Text(0.5996699576358101, -0.019898289098957318, '1.1%')])"
      ]
     },
     "execution_count": 604,
     "metadata": {},
     "output_type": "execute_result"
    },
    {
     "data": {
      "image/png": "[encoded data removed]",
      "text/plain": [
       "<Figure size 1500x1200 with 1 Axes>"
      ]
     },
     "metadata": {},
     "output_type": "display_data"
    }
   ],
   "source": [
    "# Data[:25].plot(kind=\"pie\",y='total_cases',label='location')\n",
    "pyplot.pie(Data[:25]['total_cases'],labels=Data[:25]['location'],autopct='%1.1f%%')"
   ]
  },
  {
   "cell_type": "markdown",
   "id": "035b5e13",
   "metadata": {},
   "source": [
    "## Line Graph"
   ]
  },
  {
   "cell_type": "code",
   "execution_count": 605,
   "id": "96f9dd6e",
   "metadata": {
    "ExecuteTime": {
     "end_time": "2023-01-24T03:27:41.102129Z",
     "start_time": "2023-01-24T03:27:40.888018Z"
    }
   },
   "outputs": [
    {
     "data": {
      "text/plain": [
       "<AxesSubplot: xlabel='location'>"
      ]
     },
     "execution_count": 605,
     "metadata": {},
     "output_type": "execute_result"
    },
    {
     "data": {
      "image/png": "[encoded data removed]",
      "text/plain": [
       "<Figure size 1500x1200 with 1 Axes>"
      ]
     },
     "metadata": {},
     "output_type": "display_data"
    }
   ],
   "source": [
    "Data[:10].plot(kind=\"line\",x='location',y=['new_cases','new_deaths'])"
   ]
  },
  {
   "cell_type": "code",
   "execution_count": 606,
   "id": "68e97ea0",
   "metadata": {
    "ExecuteTime": {
     "end_time": "2023-01-24T03:27:42.099988Z",
     "start_time": "2023-01-24T03:27:41.327315Z"
    }
   },
   "outputs": [
    {
     "data": {
      "text/plain": [
       "<AxesSubplot: xlabel='location'>"
      ]
     },
     "execution_count": 606,
     "metadata": {},
     "output_type": "execute_result"
    },
    {
     "data": {
      "image/png": "[encoded data removed]",
      "text/plain": [
       "<Figure size 1500x1200 with 1 Axes>"
      ]
     },
     "metadata": {},
     "output_type": "display_data"
    }
   ],
   "source": [
    "Data[-10:].plot(kind=\"line\",x='location',y=['total_cases','total_deaths'])"
   ]
  },
  {
   "cell_type": "markdown",
   "id": "9ad5b3b6",
   "metadata": {},
   "source": [
    "## Correlation"
   ]
  },
  {
   "cell_type": "code",
   "execution_count": 607,
   "id": "fb62cacb",
   "metadata": {
    "ExecuteTime": {
     "end_time": "2023-01-24T03:27:42.161021Z",
     "start_time": "2023-01-24T03:27:42.153015Z"
    }
   },
   "outputs": [],
   "source": [
    "Correlation_Data=Data.corr()\n",
    "Correlation_Data.columns=[\"correlation_with_\"+column for column in Numerical_Columns]"
   ]
  },
  {
   "cell_type": "code",
   "execution_count": 608,
   "id": "ba0fd8d1",
   "metadata": {
    "ExecuteTime": {
     "end_time": "2023-01-24T03:27:42.633421Z",
     "start_time": "2023-01-24T03:27:42.610421Z"
    }
   },
   "outputs": [
    {
     "data": {
      "text/html": [
       "<div>\n",
       "<style scoped>\n",
       "    .dataframe tbody tr th:only-of-type {\n",
       "        vertical-align: middle;\n",
       "    }\n",
       "\n",
       "    .dataframe tbody tr th {\n",
       "        vertical-align: top;\n",
       "    }\n",
       "\n",
       "    .dataframe thead th {\n",
       "        text-align: right;\n",
       "    }\n",
       "</style>\n",
       "<table border=\"1\" class=\"dataframe\">\n",
       "  <thead>\n",
       "    <tr style=\"text-align: right;\">\n",
       "      <th></th>\n",
       "      <th>correlation_with_total_cases</th>\n",
       "      <th>correlation_with_new_cases</th>\n",
       "      <th>correlation_with_total_deaths</th>\n",
       "      <th>correlation_with_new_deaths</th>\n",
       "      <th>correlation_with_population</th>\n",
       "    </tr>\n",
       "  </thead>\n",
       "  <tbody>\n",
       "    <tr>\n",
       "      <th>total_cases</th>\n",
       "      <td>1.000000</td>\n",
       "      <td>0.383449</td>\n",
       "      <td>0.876161</td>\n",
       "      <td>0.283189</td>\n",
       "      <td>0.386470</td>\n",
       "    </tr>\n",
       "    <tr>\n",
       "      <th>new_cases</th>\n",
       "      <td>0.383449</td>\n",
       "      <td>1.000000</td>\n",
       "      <td>0.165865</td>\n",
       "      <td>0.520419</td>\n",
       "      <td>0.042690</td>\n",
       "    </tr>\n",
       "    <tr>\n",
       "      <th>total_deaths</th>\n",
       "      <td>0.876161</td>\n",
       "      <td>0.165865</td>\n",
       "      <td>1.000000</td>\n",
       "      <td>0.182481</td>\n",
       "      <td>0.417551</td>\n",
       "    </tr>\n",
       "    <tr>\n",
       "      <th>new_deaths</th>\n",
       "      <td>0.283189</td>\n",
       "      <td>0.520419</td>\n",
       "      <td>0.182481</td>\n",
       "      <td>1.000000</td>\n",
       "      <td>0.023063</td>\n",
       "    </tr>\n",
       "    <tr>\n",
       "      <th>population</th>\n",
       "      <td>0.386470</td>\n",
       "      <td>0.042690</td>\n",
       "      <td>0.417551</td>\n",
       "      <td>0.023063</td>\n",
       "      <td>1.000000</td>\n",
       "    </tr>\n",
       "  </tbody>\n",
       "</table>\n",
       "</div>"
      ],
      "text/plain": [
       "              correlation_with_total_cases  correlation_with_new_cases  \\\n",
       "total_cases                       1.000000                    0.383449   \n",
       "new_cases                         0.383449                    1.000000   \n",
       "total_deaths                      0.876161                    0.165865   \n",
       "new_deaths                        0.283189                    0.520419   \n",
       "population                        0.386470                    0.042690   \n",
       "\n",
       "              correlation_with_total_deaths  correlation_with_new_deaths  \\\n",
       "total_cases                        0.876161                     0.283189   \n",
       "new_cases                          0.165865                     0.520419   \n",
       "total_deaths                       1.000000                     0.182481   \n",
       "new_deaths                         0.182481                     1.000000   \n",
       "population                         0.417551                     0.023063   \n",
       "\n",
       "              correlation_with_population  \n",
       "total_cases                      0.386470  \n",
       "new_cases                        0.042690  \n",
       "total_deaths                     0.417551  \n",
       "new_deaths                       0.023063  \n",
       "population                       1.000000  "
      ]
     },
     "execution_count": 608,
     "metadata": {},
     "output_type": "execute_result"
    }
   ],
   "source": [
    "Correlation_Data"
   ]
  },
  {
   "cell_type": "markdown",
   "id": "af2c6b53",
   "metadata": {
    "ExecuteTime": {
     "end_time": "2023-01-24T03:10:22.376606Z",
     "start_time": "2023-01-24T03:10:22.365605Z"
    }
   },
   "source": [
    "## Covariance"
   ]
  },
  {
   "cell_type": "code",
   "execution_count": 609,
   "id": "b4b854ac",
   "metadata": {
    "ExecuteTime": {
     "end_time": "2023-01-24T03:27:43.920309Z",
     "start_time": "2023-01-24T03:27:43.908417Z"
    }
   },
   "outputs": [],
   "source": [
    "Covarience_data=Data.cov()\n",
    "Covarience_data.columns=[\"covarience_with_\"+column for column in Numerical_Columns]"
   ]
  },
  {
   "cell_type": "code",
   "execution_count": 610,
   "id": "6f6325bf",
   "metadata": {
    "ExecuteTime": {
     "end_time": "2023-01-24T03:27:44.263948Z",
     "start_time": "2023-01-24T03:27:44.248086Z"
    }
   },
   "outputs": [
    {
     "data": {
      "text/html": [
       "<div>\n",
       "<style scoped>\n",
       "    .dataframe tbody tr th:only-of-type {\n",
       "        vertical-align: middle;\n",
       "    }\n",
       "\n",
       "    .dataframe tbody tr th {\n",
       "        vertical-align: top;\n",
       "    }\n",
       "\n",
       "    .dataframe thead th {\n",
       "        text-align: right;\n",
       "    }\n",
       "</style>\n",
       "<table border=\"1\" class=\"dataframe\">\n",
       "  <thead>\n",
       "    <tr style=\"text-align: right;\">\n",
       "      <th></th>\n",
       "      <th>covarience_with_total_cases</th>\n",
       "      <th>covarience_with_new_cases</th>\n",
       "      <th>covarience_with_total_deaths</th>\n",
       "      <th>covarience_with_new_deaths</th>\n",
       "      <th>covarience_with_population</th>\n",
       "    </tr>\n",
       "  </thead>\n",
       "  <tbody>\n",
       "    <tr>\n",
       "      <th>total_cases</th>\n",
       "      <td>9.389858e+13</td>\n",
       "      <td>2.293260e+10</td>\n",
       "      <td>9.034295e+11</td>\n",
       "      <td>3.019734e+08</td>\n",
       "      <td>5.341899e+14</td>\n",
       "    </tr>\n",
       "    <tr>\n",
       "      <th>new_cases</th>\n",
       "      <td>2.293260e+10</td>\n",
       "      <td>3.809197e+07</td>\n",
       "      <td>1.089309e+08</td>\n",
       "      <td>3.534544e+05</td>\n",
       "      <td>3.758342e+10</td>\n",
       "    </tr>\n",
       "    <tr>\n",
       "      <th>total_deaths</th>\n",
       "      <td>9.034295e+11</td>\n",
       "      <td>1.089309e+08</td>\n",
       "      <td>1.132299e+10</td>\n",
       "      <td>2.136790e+06</td>\n",
       "      <td>6.337833e+12</td>\n",
       "    </tr>\n",
       "    <tr>\n",
       "      <th>new_deaths</th>\n",
       "      <td>3.019734e+08</td>\n",
       "      <td>3.534544e+05</td>\n",
       "      <td>2.136790e+06</td>\n",
       "      <td>1.210951e+04</td>\n",
       "      <td>3.620139e+08</td>\n",
       "    </tr>\n",
       "    <tr>\n",
       "      <th>population</th>\n",
       "      <td>5.341899e+14</td>\n",
       "      <td>3.758342e+10</td>\n",
       "      <td>6.337833e+12</td>\n",
       "      <td>3.620139e+08</td>\n",
       "      <td>2.034704e+16</td>\n",
       "    </tr>\n",
       "  </tbody>\n",
       "</table>\n",
       "</div>"
      ],
      "text/plain": [
       "              covarience_with_total_cases  covarience_with_new_cases  \\\n",
       "total_cases                  9.389858e+13               2.293260e+10   \n",
       "new_cases                    2.293260e+10               3.809197e+07   \n",
       "total_deaths                 9.034295e+11               1.089309e+08   \n",
       "new_deaths                   3.019734e+08               3.534544e+05   \n",
       "population                   5.341899e+14               3.758342e+10   \n",
       "\n",
       "              covarience_with_total_deaths  covarience_with_new_deaths  \\\n",
       "total_cases                   9.034295e+11                3.019734e+08   \n",
       "new_cases                     1.089309e+08                3.534544e+05   \n",
       "total_deaths                  1.132299e+10                2.136790e+06   \n",
       "new_deaths                    2.136790e+06                1.210951e+04   \n",
       "population                    6.337833e+12                3.620139e+08   \n",
       "\n",
       "              covarience_with_population  \n",
       "total_cases                 5.341899e+14  \n",
       "new_cases                   3.758342e+10  \n",
       "total_deaths                6.337833e+12  \n",
       "new_deaths                  3.620139e+08  \n",
       "population                  2.034704e+16  "
      ]
     },
     "execution_count": 610,
     "metadata": {},
     "output_type": "execute_result"
    }
   ],
   "source": [
    "Covarience_data"
   ]
  },
  {
   "cell_type": "markdown",
   "id": "e8ec0e85",
   "metadata": {},
   "source": [
    "# Gathering All Values Together"
   ]
  },
  {
   "cell_type": "code",
   "execution_count": 611,
   "id": "rmhgtM2OQsU1",
   "metadata": {
    "ExecuteTime": {
     "end_time": "2023-01-24T03:27:44.916843Z",
     "start_time": "2023-01-24T03:27:44.910440Z"
    },
    "id": "rmhgtM2OQsU1"
   },
   "outputs": [],
   "source": [
    "Statastics_Data=pandas.DataFrame()"
   ]
  },
  {
   "cell_type": "code",
   "execution_count": 612,
   "id": "oQ6Q57wXSINE",
   "metadata": {
    "ExecuteTime": {
     "end_time": "2023-01-24T03:27:45.274958Z",
     "start_time": "2023-01-24T03:27:45.256154Z"
    },
    "colab": {
     "base_uri": "https://localhost:8080/"
    },
    "id": "oQ6Q57wXSINE",
    "outputId": "51392259-9fae-49d4-b9ac-7019e506663b"
   },
   "outputs": [
    {
     "data": {
      "text/plain": [
       "Index([], dtype='object')"
      ]
     },
     "execution_count": 612,
     "metadata": {},
     "output_type": "execute_result"
    }
   ],
   "source": [
    "Statastics_Data.columns"
   ]
  },
  {
   "cell_type": "code",
   "execution_count": 613,
   "id": "vuEzrOAeS-Fv",
   "metadata": {
    "ExecuteTime": {
     "end_time": "2023-01-24T03:27:45.603625Z",
     "start_time": "2023-01-24T03:27:45.592381Z"
    },
    "colab": {
     "base_uri": "https://localhost:8080/"
    },
    "id": "vuEzrOAeS-Fv",
    "outputId": "eb682829-6cb9-4a92-e534-3081d0d2ae01"
   },
   "outputs": [],
   "source": [
    "Statastics_Data['mean']=Data.mean()"
   ]
  },
  {
   "cell_type": "code",
   "execution_count": 614,
   "id": "0dU1aIvFTM7B",
   "metadata": {
    "ExecuteTime": {
     "end_time": "2023-01-24T03:27:45.920323Z",
     "start_time": "2023-01-24T03:27:45.898288Z"
    },
    "colab": {
     "base_uri": "https://localhost:8080/"
    },
    "id": "0dU1aIvFTM7B",
    "outputId": "9dc0439b-6872-429c-f2be-70835b782e1a"
   },
   "outputs": [],
   "source": [
    "Statastics_Data['median']=Data.median()"
   ]
  },
  {
   "cell_type": "code",
   "execution_count": 615,
   "id": "zYsJbWaFTNDp",
   "metadata": {
    "ExecuteTime": {
     "end_time": "2023-01-24T03:27:46.281599Z",
     "start_time": "2023-01-24T03:27:46.264565Z"
    },
    "colab": {
     "base_uri": "https://localhost:8080/"
    },
    "id": "zYsJbWaFTNDp",
    "outputId": "ffc26fea-2666-4043-f2d0-e4ad7b1b2fc1"
   },
   "outputs": [],
   "source": [
    "Statastics_Data['skew']=Data.skew()"
   ]
  },
  {
   "cell_type": "code",
   "execution_count": 616,
   "id": "vSu33__JT-OG",
   "metadata": {
    "ExecuteTime": {
     "end_time": "2023-01-24T03:27:46.598114Z",
     "start_time": "2023-01-24T03:27:46.580053Z"
    },
    "colab": {
     "base_uri": "https://localhost:8080/"
    },
    "id": "vSu33__JT-OG",
    "outputId": "30927b7d-e2aa-449c-ceb3-3ed4da48762b"
   },
   "outputs": [],
   "source": [
    "Statastics_Data['kurtosis']=Data.kurtosis()"
   ]
  },
  {
   "cell_type": "code",
   "execution_count": 617,
   "id": "jzHH93R0UGNf",
   "metadata": {
    "ExecuteTime": {
     "end_time": "2023-01-24T03:27:46.897260Z",
     "start_time": "2023-01-24T03:27:46.885229Z"
    },
    "id": "jzHH93R0UGNf"
   },
   "outputs": [],
   "source": [
    "Statastics_Data['first_quartile']=Data.quantile(0.25)"
   ]
  },
  {
   "cell_type": "code",
   "execution_count": 618,
   "id": "S9ziN75_UGTU",
   "metadata": {
    "ExecuteTime": {
     "end_time": "2023-01-24T03:27:47.197135Z",
     "start_time": "2023-01-24T03:27:47.176050Z"
    },
    "id": "S9ziN75_UGTU"
   },
   "outputs": [],
   "source": [
    "Statastics_Data['third_quartile']=Data.quantile(0.75)"
   ]
  },
  {
   "cell_type": "code",
   "execution_count": 619,
   "id": "_CHdU3SUUGZD",
   "metadata": {
    "ExecuteTime": {
     "end_time": "2023-01-24T03:27:47.480686Z",
     "start_time": "2023-01-24T03:27:47.470685Z"
    },
    "id": "_CHdU3SUUGZD"
   },
   "outputs": [],
   "source": [
    "Statastics_Data['inter_quartile_range']=Inter_quartile_range"
   ]
  },
  {
   "cell_type": "code",
   "execution_count": 620,
   "id": "p_e6dSFYU2rH",
   "metadata": {
    "ExecuteTime": {
     "end_time": "2023-01-24T03:27:47.746497Z",
     "start_time": "2023-01-24T03:27:47.731459Z"
    },
    "colab": {
     "base_uri": "https://localhost:8080/"
    },
    "id": "p_e6dSFYU2rH",
    "outputId": "8caed6bb-10d1-4b27-f207-008d39f18345"
   },
   "outputs": [
    {
     "data": {
      "text/plain": [
       "total_cases        1.0\n",
       "new_cases          0.0\n",
       "total_deaths       1.0\n",
       "new_deaths         0.0\n",
       "population      4413.0\n",
       "dtype: object"
      ]
     },
     "execution_count": 620,
     "metadata": {},
     "output_type": "execute_result"
    }
   ],
   "source": [
    "Data.min()[4:]"
   ]
  },
  {
   "cell_type": "code",
   "execution_count": 621,
   "id": "jmiAcRdzU2wL",
   "metadata": {
    "ExecuteTime": {
     "end_time": "2023-01-24T03:27:48.046906Z",
     "start_time": "2023-01-24T03:27:48.037861Z"
    },
    "id": "jmiAcRdzU2wL"
   },
   "outputs": [],
   "source": [
    "Statastics_Data['max']=Data.max()[len(Numerical_Columns)-1:]"
   ]
  },
  {
   "cell_type": "code",
   "execution_count": 622,
   "id": "-w2a4KtoU21q",
   "metadata": {
    "ExecuteTime": {
     "end_time": "2023-01-24T03:27:48.359940Z",
     "start_time": "2023-01-24T03:27:48.338940Z"
    },
    "id": "-w2a4KtoU21q"
   },
   "outputs": [],
   "source": [
    "Statastics_Data['min']=Data.min()[len(Numerical_Columns)-1:]"
   ]
  },
  {
   "cell_type": "code",
   "execution_count": 623,
   "id": "KLFElD_2WDXL",
   "metadata": {
    "ExecuteTime": {
     "end_time": "2023-01-24T03:27:48.655911Z",
     "start_time": "2023-01-24T03:27:48.639889Z"
    },
    "id": "KLFElD_2WDXL"
   },
   "outputs": [],
   "source": [
    "Statastics_Data['harmonic_mean']=[\n",
    "   statistics.harmonic_mean(Data[Numerical_Columns[i]]) for i in range(len(Numerical_Columns))\n",
    "]"
   ]
  },
  {
   "cell_type": "code",
   "execution_count": 624,
   "id": "20fGpBk-WDdc",
   "metadata": {
    "ExecuteTime": {
     "end_time": "2023-01-24T03:27:48.953132Z",
     "start_time": "2023-01-24T03:27:48.934132Z"
    },
    "colab": {
     "base_uri": "https://localhost:8080/"
    },
    "id": "20fGpBk-WDdc",
    "outputId": "61735c83-c4ab-484a-c81d-de119d260b97"
   },
   "outputs": [],
   "source": [
    "Statastics_Data['geometric_mean']=[\n",
    "   scipy.stats.mstats.gmean(Data[Numerical_Columns[i]])  for i in range(len(Numerical_Columns))\n",
    "]"
   ]
  },
  {
   "cell_type": "code",
   "execution_count": 625,
   "id": "77130922",
   "metadata": {
    "ExecuteTime": {
     "end_time": "2023-01-24T03:27:49.254048Z",
     "start_time": "2023-01-24T03:27:49.246043Z"
    }
   },
   "outputs": [],
   "source": [
    "Statastics_Data=pandas.concat([Statastics_Data,Correlation_Data,Covarience_data],axis=1)"
   ]
  },
  {
   "cell_type": "code",
   "execution_count": 626,
   "id": "pBNoYFXRTHGD",
   "metadata": {
    "ExecuteTime": {
     "end_time": "2023-01-24T03:27:49.596714Z",
     "start_time": "2023-01-24T03:27:49.572730Z"
    },
    "colab": {
     "base_uri": "https://localhost:8080/",
     "height": 207
    },
    "id": "pBNoYFXRTHGD",
    "outputId": "0958d51c-b4b1-4384-a94e-3f94c6e3745a"
   },
   "outputs": [
    {
     "data": {
      "text/html": [
       "<div>\n",
       "<style scoped>\n",
       "    .dataframe tbody tr th:only-of-type {\n",
       "        vertical-align: middle;\n",
       "    }\n",
       "\n",
       "    .dataframe tbody tr th {\n",
       "        vertical-align: top;\n",
       "    }\n",
       "\n",
       "    .dataframe thead th {\n",
       "        text-align: right;\n",
       "    }\n",
       "</style>\n",
       "<table border=\"1\" class=\"dataframe\">\n",
       "  <thead>\n",
       "    <tr style=\"text-align: right;\">\n",
       "      <th></th>\n",
       "      <th>mean</th>\n",
       "      <th>median</th>\n",
       "      <th>skew</th>\n",
       "      <th>kurtosis</th>\n",
       "      <th>first_quartile</th>\n",
       "      <th>third_quartile</th>\n",
       "      <th>inter_quartile_range</th>\n",
       "      <th>max</th>\n",
       "      <th>min</th>\n",
       "      <th>harmonic_mean</th>\n",
       "      <th>...</th>\n",
       "      <th>correlation_with_total_cases</th>\n",
       "      <th>correlation_with_new_cases</th>\n",
       "      <th>correlation_with_total_deaths</th>\n",
       "      <th>correlation_with_new_deaths</th>\n",
       "      <th>correlation_with_population</th>\n",
       "      <th>covarience_with_total_cases</th>\n",
       "      <th>covarience_with_new_cases</th>\n",
       "      <th>covarience_with_total_deaths</th>\n",
       "      <th>covarience_with_new_deaths</th>\n",
       "      <th>covarience_with_population</th>\n",
       "    </tr>\n",
       "  </thead>\n",
       "  <tbody>\n",
       "    <tr>\n",
       "      <th>total_cases</th>\n",
       "      <td>3.124886e+06</td>\n",
       "      <td>268899.0</td>\n",
       "      <td>6.451550</td>\n",
       "      <td>54.407902</td>\n",
       "      <td>33083.25</td>\n",
       "      <td>1491255.75</td>\n",
       "      <td>1458172.50</td>\n",
       "      <td>102005805.0</td>\n",
       "      <td>1.0</td>\n",
       "      <td>212.569219</td>\n",
       "      <td>...</td>\n",
       "      <td>1.000000</td>\n",
       "      <td>0.383449</td>\n",
       "      <td>0.876161</td>\n",
       "      <td>0.283189</td>\n",
       "      <td>0.386470</td>\n",
       "      <td>9.389858e+13</td>\n",
       "      <td>2.293260e+10</td>\n",
       "      <td>9.034295e+11</td>\n",
       "      <td>3.019734e+08</td>\n",
       "      <td>5.341899e+14</td>\n",
       "    </tr>\n",
       "    <tr>\n",
       "      <th>new_cases</th>\n",
       "      <td>1.371000e+03</td>\n",
       "      <td>0.0</td>\n",
       "      <td>8.001820</td>\n",
       "      <td>72.233026</td>\n",
       "      <td>0.00</td>\n",
       "      <td>197.75</td>\n",
       "      <td>197.75</td>\n",
       "      <td>64450.0</td>\n",
       "      <td>0.0</td>\n",
       "      <td>0.000000</td>\n",
       "      <td>...</td>\n",
       "      <td>0.383449</td>\n",
       "      <td>1.000000</td>\n",
       "      <td>0.165865</td>\n",
       "      <td>0.520419</td>\n",
       "      <td>0.042690</td>\n",
       "      <td>2.293260e+10</td>\n",
       "      <td>3.809197e+07</td>\n",
       "      <td>1.089309e+08</td>\n",
       "      <td>3.534544e+05</td>\n",
       "      <td>3.758342e+10</td>\n",
       "    </tr>\n",
       "    <tr>\n",
       "      <th>total_deaths</th>\n",
       "      <td>3.148765e+04</td>\n",
       "      <td>2795.0</td>\n",
       "      <td>6.884670</td>\n",
       "      <td>57.591278</td>\n",
       "      <td>283.25</td>\n",
       "      <td>16692.75</td>\n",
       "      <td>16409.50</td>\n",
       "      <td>1104118.0</td>\n",
       "      <td>1.0</td>\n",
       "      <td>60.631195</td>\n",
       "      <td>...</td>\n",
       "      <td>0.876161</td>\n",
       "      <td>0.165865</td>\n",
       "      <td>1.000000</td>\n",
       "      <td>0.182481</td>\n",
       "      <td>0.417551</td>\n",
       "      <td>9.034295e+11</td>\n",
       "      <td>1.089309e+08</td>\n",
       "      <td>1.132299e+10</td>\n",
       "      <td>2.136790e+06</td>\n",
       "      <td>6.337833e+12</td>\n",
       "    </tr>\n",
       "    <tr>\n",
       "      <th>new_deaths</th>\n",
       "      <td>2.063084e+01</td>\n",
       "      <td>0.0</td>\n",
       "      <td>9.761294</td>\n",
       "      <td>111.779968</td>\n",
       "      <td>0.00</td>\n",
       "      <td>0.75</td>\n",
       "      <td>0.75</td>\n",
       "      <td>1377.0</td>\n",
       "      <td>0.0</td>\n",
       "      <td>0.000000</td>\n",
       "      <td>...</td>\n",
       "      <td>0.283189</td>\n",
       "      <td>0.520419</td>\n",
       "      <td>0.182481</td>\n",
       "      <td>1.000000</td>\n",
       "      <td>0.023063</td>\n",
       "      <td>3.019734e+08</td>\n",
       "      <td>3.534544e+05</td>\n",
       "      <td>2.136790e+06</td>\n",
       "      <td>1.210951e+04</td>\n",
       "      <td>3.620139e+08</td>\n",
       "    </tr>\n",
       "    <tr>\n",
       "      <th>population</th>\n",
       "      <td>3.721731e+07</td>\n",
       "      <td>6797149.5</td>\n",
       "      <td>8.765136</td>\n",
       "      <td>82.817356</td>\n",
       "      <td>851589.00</td>\n",
       "      <td>26200339.00</td>\n",
       "      <td>25348750.00</td>\n",
       "      <td>1425887360.0</td>\n",
       "      <td>4413.0</td>\n",
       "      <td>171183.992945</td>\n",
       "      <td>...</td>\n",
       "      <td>0.386470</td>\n",
       "      <td>0.042690</td>\n",
       "      <td>0.417551</td>\n",
       "      <td>0.023063</td>\n",
       "      <td>1.000000</td>\n",
       "      <td>5.341899e+14</td>\n",
       "      <td>3.758342e+10</td>\n",
       "      <td>6.337833e+12</td>\n",
       "      <td>3.620139e+08</td>\n",
       "      <td>2.034704e+16</td>\n",
       "    </tr>\n",
       "  </tbody>\n",
       "</table>\n",
       "<p>5 rows × 21 columns</p>\n",
       "</div>"
      ],
      "text/plain": [
       "                      mean     median      skew    kurtosis  first_quartile  \\\n",
       "total_cases   3.124886e+06   268899.0  6.451550   54.407902        33083.25   \n",
       "new_cases     1.371000e+03        0.0  8.001820   72.233026            0.00   \n",
       "total_deaths  3.148765e+04     2795.0  6.884670   57.591278          283.25   \n",
       "new_deaths    2.063084e+01        0.0  9.761294  111.779968            0.00   \n",
       "population    3.721731e+07  6797149.5  8.765136   82.817356       851589.00   \n",
       "\n",
       "              third_quartile  inter_quartile_range           max     min  \\\n",
       "total_cases       1491255.75            1458172.50   102005805.0     1.0   \n",
       "new_cases             197.75                197.75       64450.0     0.0   \n",
       "total_deaths        16692.75              16409.50     1104118.0     1.0   \n",
       "new_deaths              0.75                  0.75        1377.0     0.0   \n",
       "population       26200339.00           25348750.00  1425887360.0  4413.0   \n",
       "\n",
       "              harmonic_mean  ...  correlation_with_total_cases  \\\n",
       "total_cases      212.569219  ...                      1.000000   \n",
       "new_cases          0.000000  ...                      0.383449   \n",
       "total_deaths      60.631195  ...                      0.876161   \n",
       "new_deaths         0.000000  ...                      0.283189   \n",
       "population    171183.992945  ...                      0.386470   \n",
       "\n",
       "              correlation_with_new_cases  correlation_with_total_deaths  \\\n",
       "total_cases                     0.383449                       0.876161   \n",
       "new_cases                       1.000000                       0.165865   \n",
       "total_deaths                    0.165865                       1.000000   \n",
       "new_deaths                      0.520419                       0.182481   \n",
       "population                      0.042690                       0.417551   \n",
       "\n",
       "              correlation_with_new_deaths  correlation_with_population  \\\n",
       "total_cases                      0.283189                     0.386470   \n",
       "new_cases                        0.520419                     0.042690   \n",
       "total_deaths                     0.182481                     0.417551   \n",
       "new_deaths                       1.000000                     0.023063   \n",
       "population                       0.023063                     1.000000   \n",
       "\n",
       "              covarience_with_total_cases  covarience_with_new_cases  \\\n",
       "total_cases                  9.389858e+13               2.293260e+10   \n",
       "new_cases                    2.293260e+10               3.809197e+07   \n",
       "total_deaths                 9.034295e+11               1.089309e+08   \n",
       "new_deaths                   3.019734e+08               3.534544e+05   \n",
       "population                   5.341899e+14               3.758342e+10   \n",
       "\n",
       "              covarience_with_total_deaths  covarience_with_new_deaths  \\\n",
       "total_cases                   9.034295e+11                3.019734e+08   \n",
       "new_cases                     1.089309e+08                3.534544e+05   \n",
       "total_deaths                  1.132299e+10                2.136790e+06   \n",
       "new_deaths                    2.136790e+06                1.210951e+04   \n",
       "population                    6.337833e+12                3.620139e+08   \n",
       "\n",
       "              covarience_with_population  \n",
       "total_cases                 5.341899e+14  \n",
       "new_cases                   3.758342e+10  \n",
       "total_deaths                6.337833e+12  \n",
       "new_deaths                  3.620139e+08  \n",
       "population                  2.034704e+16  \n",
       "\n",
       "[5 rows x 21 columns]"
      ]
     },
     "execution_count": 626,
     "metadata": {},
     "output_type": "execute_result"
    }
   ],
   "source": [
    "Statastics_Data"
   ]
  },
  {
   "cell_type": "code",
   "execution_count": 627,
   "id": "bc0ba11c",
   "metadata": {
    "ExecuteTime": {
     "end_time": "2023-01-24T03:27:49.897765Z",
     "start_time": "2023-01-24T03:27:49.880741Z"
    }
   },
   "outputs": [
    {
     "name": "stdout",
     "output_type": "stream",
     "text": [
      "<class 'pandas.core.frame.DataFrame'>\n",
      "Index: 5 entries, total_cases to population\n",
      "Data columns (total 21 columns):\n",
      " #   Column                         Non-Null Count  Dtype  \n",
      "---  ------                         --------------  -----  \n",
      " 0   mean                           5 non-null      float64\n",
      " 1   median                         5 non-null      float64\n",
      " 2   skew                           5 non-null      float64\n",
      " 3   kurtosis                       5 non-null      float64\n",
      " 4   first_quartile                 5 non-null      float64\n",
      " 5   third_quartile                 5 non-null      float64\n",
      " 6   inter_quartile_range           5 non-null      float64\n",
      " 7   max                            5 non-null      object \n",
      " 8   min                            5 non-null      object \n",
      " 9   harmonic_mean                  5 non-null      float64\n",
      " 10  geometric_mean                 5 non-null      float64\n",
      " 11  correlation_with_total_cases   5 non-null      float64\n",
      " 12  correlation_with_new_cases     5 non-null      float64\n",
      " 13  correlation_with_total_deaths  5 non-null      float64\n",
      " 14  correlation_with_new_deaths    5 non-null      float64\n",
      " 15  correlation_with_population    5 non-null      float64\n",
      " 16  covarience_with_total_cases    5 non-null      float64\n",
      " 17  covarience_with_new_cases      5 non-null      float64\n",
      " 18  covarience_with_total_deaths   5 non-null      float64\n",
      " 19  covarience_with_new_deaths     5 non-null      float64\n",
      " 20  covarience_with_population     5 non-null      float64\n",
      "dtypes: float64(19), object(2)\n",
      "memory usage: 880.0+ bytes\n"
     ]
    }
   ],
   "source": [
    "Statastics_Data.info()"
   ]
  },
  {
   "cell_type": "code",
   "execution_count": 628,
   "id": "Oms9uq_OXgUa",
   "metadata": {
    "ExecuteTime": {
     "end_time": "2023-01-24T03:27:50.225895Z",
     "start_time": "2023-01-24T03:27:50.213895Z"
    },
    "colab": {
     "base_uri": "https://localhost:8080/"
    },
    "id": "Oms9uq_OXgUa",
    "outputId": "64f7abf4-0bfa-4622-e287-1a39a2bf6cab"
   },
   "outputs": [
    {
     "data": {
      "text/plain": [
       "['mean',\n",
       " 'median',\n",
       " 'skew',\n",
       " 'kurtosis',\n",
       " 'first_quartile',\n",
       " 'third_quartile',\n",
       " 'inter_quartile_range',\n",
       " 'max',\n",
       " 'min',\n",
       " 'harmonic_mean',\n",
       " 'geometric_mean']"
      ]
     },
     "execution_count": 628,
     "metadata": {},
     "output_type": "execute_result"
    }
   ],
   "source": [
    "list(Statastics_Data)[:11]"
   ]
  },
  {
   "cell_type": "code",
   "execution_count": 629,
   "id": "Mfg1NDsHXU95",
   "metadata": {
    "ExecuteTime": {
     "end_time": "2023-01-24T03:27:50.524324Z",
     "start_time": "2023-01-24T03:27:50.515286Z"
    },
    "id": "Mfg1NDsHXU95"
   },
   "outputs": [
    {
     "data": {
      "text/plain": [
       "mean                                         1371.0\n",
       "median                                          0.0\n",
       "skew                                        8.00182\n",
       "kurtosis                                  72.233026\n",
       "first_quartile                                  0.0\n",
       "third_quartile                               197.75\n",
       "inter_quartile_range                         197.75\n",
       "max                                         64450.0\n",
       "min                                             0.0\n",
       "harmonic_mean                                   0.0\n",
       "geometric_mean                                  0.0\n",
       "correlation_with_total_cases               0.383449\n",
       "correlation_with_new_cases                      1.0\n",
       "correlation_with_total_deaths              0.165865\n",
       "correlation_with_new_deaths                0.520419\n",
       "correlation_with_population                 0.04269\n",
       "covarience_with_total_cases      22932602756.446007\n",
       "covarience_with_new_cases            38091970.29108\n",
       "covarience_with_total_deaths        108930915.44601\n",
       "covarience_with_new_deaths            353454.389671\n",
       "covarience_with_population       37583422493.056381\n",
       "Name: new_cases, dtype: object"
      ]
     },
     "execution_count": 629,
     "metadata": {},
     "output_type": "execute_result"
    }
   ],
   "source": [
    "Statastics_Data.iloc[1,:]"
   ]
  },
  {
   "cell_type": "code",
   "execution_count": 630,
   "id": "Z4PAJYOdTIhf",
   "metadata": {
    "ExecuteTime": {
     "end_time": "2023-01-24T03:27:51.010424Z",
     "start_time": "2023-01-24T03:27:50.804420Z"
    },
    "colab": {
     "base_uri": "https://localhost:8080/",
     "height": 294
    },
    "id": "Z4PAJYOdTIhf",
    "outputId": "beb82c23-bc55-4673-9dd1-6dc53a31a76b"
   },
   "outputs": [
    {
     "data": {
      "text/plain": [
       "<AxesSubplot: >"
      ]
     },
     "execution_count": 630,
     "metadata": {},
     "output_type": "execute_result"
    },
    {
     "data": {
      "image/png": "[encoded data removed]",
      "text/plain": [
       "<Figure size 1500x1200 with 1 Axes>"
      ]
     },
     "metadata": {},
     "output_type": "display_data"
    }
   ],
   "source": [
    "Statastics_Data.iloc[1,:11].plot()"
   ]
  }
 ],
 "metadata": {
  "colab": {
   "provenance": []
  },
  "kernelspec": {
   "display_name": "Python 3 (ipykernel)",
   "language": "python",
   "name": "python3"
  },
  "language_info": {
   "codemirror_mode": {
    "name": "ipython",
    "version": 3
   },
   "file_extension": ".py",
   "mimetype": "text/x-python",
   "name": "python",
   "nbconvert_exporter": "python",
   "pygments_lexer": "ipython3",
   "version": "3.10.8"
  }
 },
 "nbformat": 4,
 "nbformat_minor": 5
}
