{
 "cells": [
  {
   "cell_type": "markdown",
   "id": "b4c316b0",
   "metadata": {
    "deletable": false,
    "editable": false,
    "run_control": {
     "frozen": true
    },
    "slideshow": {
     "slide_type": "-"
    }
   },
   "source": [
    "## Name: Shivkumar G. Chauhan\n",
    "### Roll No.: CS8A53\n",
    "### Batch A-3\n",
    "---\n",
    "# Experiment - 1 : Explore the descriptive statistics on the dataset."
   ]
  },
  {
   "cell_type": "markdown",
   "id": "ff133017",
   "metadata": {
    "slideshow": {
     "slide_type": "-"
    }
   },
   "source": [
    "## imports"
   ]
  },
  {
   "cell_type": "code",
   "execution_count": 173,
   "id": "IAN0ukSrIjTp",
   "metadata": {
    "ExecuteTime": {
     "end_time": "2023-03-27T23:50:25.544318Z",
     "start_time": "2023-03-27T23:50:25.519373Z"
    },
    "id": "IAN0ukSrIjTp",
    "init_cell": true
   },
   "outputs": [],
   "source": [
    "import pandas\n",
    "import numpy\n",
    "import statistics\n",
    "import scipy.stats\n",
    "import matplotlib.pyplot as pyplot\n",
    "import warnings"
   ]
  },
  {
   "cell_type": "markdown",
   "id": "7ac9c7a3",
   "metadata": {},
   "source": [
    "## Configurations"
   ]
  },
  {
   "cell_type": "code",
   "execution_count": 174,
   "id": "a73b3d79",
   "metadata": {
    "ExecuteTime": {
     "end_time": "2023-03-27T23:50:26.510067Z",
     "start_time": "2023-03-27T23:50:26.493682Z"
    },
    "cell_style": "split",
    "init_cell": true
   },
   "outputs": [],
   "source": [
    "# %matplotlib qt\n",
    "%matplotlib inline\n",
    "pyplot.rcParams[\"figure.figsize\"] = (15, 12)"
   ]
  },
  {
   "cell_type": "code",
   "execution_count": 175,
   "id": "0c83763b",
   "metadata": {
    "ExecuteTime": {
     "end_time": "2023-03-27T23:50:26.777571Z",
     "start_time": "2023-03-27T23:50:26.767578Z"
    },
    "cell_style": "split",
    "init_cell": true
   },
   "outputs": [],
   "source": [
    "warnings.filterwarnings('ignore')"
   ]
  },
  {
   "cell_type": "code",
   "execution_count": 176,
   "id": "4AnwaYobJBtV",
   "metadata": {
    "ExecuteTime": {
     "end_time": "2023-03-27T23:50:28.709580Z",
     "start_time": "2023-03-27T23:50:26.997655Z"
    },
    "cell_style": "center",
    "id": "4AnwaYobJBtV",
    "init_cell": true
   },
   "outputs": [],
   "source": [
    "Data=pandas.read_csv(\"../Data/Raw_Data/owid-covid-data.csv\")"
   ]
  },
  {
   "cell_type": "code",
   "execution_count": 177,
   "id": "3sH7227XPMgG",
   "metadata": {
    "ExecuteTime": {
     "end_time": "2023-03-27T23:50:28.725426Z",
     "start_time": "2023-03-27T23:50:28.713422Z"
    },
    "cell_style": "split",
    "id": "3sH7227XPMgG",
    "init_cell": true
   },
   "outputs": [],
   "source": [
    "Selected_Columns=['iso_code', 'continent', 'location', 'date', 'total_cases',\n",
    "       'new_cases', 'total_deaths', 'new_deaths','population']"
   ]
  },
  {
   "cell_type": "code",
   "execution_count": 178,
   "id": "WWIrYcpvKJok",
   "metadata": {
    "ExecuteTime": {
     "end_time": "2023-03-27T23:50:28.773422Z",
     "start_time": "2023-03-27T23:50:28.728424Z"
    },
    "cell_style": "split",
    "id": "WWIrYcpvKJok",
    "init_cell": true
   },
   "outputs": [],
   "source": [
    "Data=Data[Selected_Columns]"
   ]
  },
  {
   "cell_type": "code",
   "execution_count": 179,
   "id": "mhZB4KmKMuYf",
   "metadata": {
    "ExecuteTime": {
     "end_time": "2023-03-27T23:50:28.896450Z",
     "start_time": "2023-03-27T23:50:28.777423Z"
    },
    "cell_style": "split",
    "id": "mhZB4KmKMuYf",
    "init_cell": true
   },
   "outputs": [],
   "source": [
    "Numerical_Columns=Data.describe().columns"
   ]
  },
  {
   "cell_type": "code",
   "execution_count": 180,
   "id": "071c4a7f",
   "metadata": {
    "ExecuteTime": {
     "end_time": "2023-03-27T23:50:29.021421Z",
     "start_time": "2023-03-27T23:50:28.899423Z"
    },
    "cell_style": "center",
    "init_cell": true
   },
   "outputs": [],
   "source": [
    "Data=Data.sort_values(by=\"total_cases\",ascending=False)"
   ]
  },
  {
   "cell_type": "code",
   "execution_count": 181,
   "id": "b8c9d41d",
   "metadata": {
    "ExecuteTime": {
     "end_time": "2023-03-27T23:50:29.067444Z",
     "start_time": "2023-03-27T23:50:29.023421Z"
    }
   },
   "outputs": [],
   "source": [
    "Data=Data[Data['location']=='India']"
   ]
  },
  {
   "cell_type": "markdown",
   "id": "c1b7a7d9",
   "metadata": {},
   "source": [
    "# Data Exploration"
   ]
  },
  {
   "cell_type": "markdown",
   "id": "a4a7145f",
   "metadata": {},
   "source": [
    "## Initial lookup"
   ]
  },
  {
   "cell_type": "code",
   "execution_count": 182,
   "id": "_Zi5ePSBJvCq",
   "metadata": {
    "ExecuteTime": {
     "end_time": "2023-03-27T23:50:31.294679Z",
     "start_time": "2023-03-27T23:50:31.264327Z"
    },
    "colab": {
     "base_uri": "https://localhost:8080/",
     "height": 506
    },
    "id": "_Zi5ePSBJvCq",
    "outputId": "7c579aff-1e3e-4cca-b4d9-9b97f6173628"
   },
   "outputs": [
    {
     "data": {
      "text/html": [
       "<div>\n",
       "<style scoped>\n",
       "    .dataframe tbody tr th:only-of-type {\n",
       "        vertical-align: middle;\n",
       "    }\n",
       "\n",
       "    .dataframe tbody tr th {\n",
       "        vertical-align: top;\n",
       "    }\n",
       "\n",
       "    .dataframe thead th {\n",
       "        text-align: right;\n",
       "    }\n",
       "</style>\n",
       "<table border=\"1\" class=\"dataframe\">\n",
       "  <thead>\n",
       "    <tr style=\"text-align: right;\">\n",
       "      <th></th>\n",
       "      <th>iso_code</th>\n",
       "      <th>continent</th>\n",
       "      <th>location</th>\n",
       "      <th>date</th>\n",
       "      <th>total_cases</th>\n",
       "      <th>new_cases</th>\n",
       "      <th>total_deaths</th>\n",
       "      <th>new_deaths</th>\n",
       "      <th>population</th>\n",
       "    </tr>\n",
       "  </thead>\n",
       "  <tbody>\n",
       "    <tr>\n",
       "      <th>119716</th>\n",
       "      <td>IND</td>\n",
       "      <td>Asia</td>\n",
       "      <td>India</td>\n",
       "      <td>2023-03-21</td>\n",
       "      <td>44696984.0</td>\n",
       "      <td>646.0</td>\n",
       "      <td>530808.0</td>\n",
       "      <td>2.0</td>\n",
       "      <td>1.417173e+09</td>\n",
       "    </tr>\n",
       "    <tr>\n",
       "      <th>119715</th>\n",
       "      <td>IND</td>\n",
       "      <td>Asia</td>\n",
       "      <td>India</td>\n",
       "      <td>2023-03-20</td>\n",
       "      <td>44696338.0</td>\n",
       "      <td>918.0</td>\n",
       "      <td>530806.0</td>\n",
       "      <td>4.0</td>\n",
       "      <td>1.417173e+09</td>\n",
       "    </tr>\n",
       "    <tr>\n",
       "      <th>119714</th>\n",
       "      <td>IND</td>\n",
       "      <td>Asia</td>\n",
       "      <td>India</td>\n",
       "      <td>2023-03-19</td>\n",
       "      <td>44695420.0</td>\n",
       "      <td>1071.0</td>\n",
       "      <td>530802.0</td>\n",
       "      <td>3.0</td>\n",
       "      <td>1.417173e+09</td>\n",
       "    </tr>\n",
       "    <tr>\n",
       "      <th>119713</th>\n",
       "      <td>IND</td>\n",
       "      <td>Asia</td>\n",
       "      <td>India</td>\n",
       "      <td>2023-03-18</td>\n",
       "      <td>44694349.0</td>\n",
       "      <td>843.0</td>\n",
       "      <td>530799.0</td>\n",
       "      <td>4.0</td>\n",
       "      <td>1.417173e+09</td>\n",
       "    </tr>\n",
       "    <tr>\n",
       "      <th>119712</th>\n",
       "      <td>IND</td>\n",
       "      <td>Asia</td>\n",
       "      <td>India</td>\n",
       "      <td>2023-03-17</td>\n",
       "      <td>44693506.0</td>\n",
       "      <td>796.0</td>\n",
       "      <td>530795.0</td>\n",
       "      <td>5.0</td>\n",
       "      <td>1.417173e+09</td>\n",
       "    </tr>\n",
       "  </tbody>\n",
       "</table>\n",
       "</div>"
      ],
      "text/plain": [
       "       iso_code continent location        date  total_cases  new_cases  \\\n",
       "119716      IND      Asia    India  2023-03-21   44696984.0      646.0   \n",
       "119715      IND      Asia    India  2023-03-20   44696338.0      918.0   \n",
       "119714      IND      Asia    India  2023-03-19   44695420.0     1071.0   \n",
       "119713      IND      Asia    India  2023-03-18   44694349.0      843.0   \n",
       "119712      IND      Asia    India  2023-03-17   44693506.0      796.0   \n",
       "\n",
       "        total_deaths  new_deaths    population  \n",
       "119716      530808.0         2.0  1.417173e+09  \n",
       "119715      530806.0         4.0  1.417173e+09  \n",
       "119714      530802.0         3.0  1.417173e+09  \n",
       "119713      530799.0         4.0  1.417173e+09  \n",
       "119712      530795.0         5.0  1.417173e+09  "
      ]
     },
     "execution_count": 182,
     "metadata": {},
     "output_type": "execute_result"
    }
   ],
   "source": [
    "Data.head()"
   ]
  },
  {
   "cell_type": "code",
   "execution_count": 183,
   "id": "hPqDMhJwJ5AS",
   "metadata": {
    "ExecuteTime": {
     "end_time": "2023-03-27T23:50:31.528789Z",
     "start_time": "2023-03-27T23:50:31.495787Z"
    },
    "cell_style": "split",
    "colab": {
     "base_uri": "https://localhost:8080/"
    },
    "id": "hPqDMhJwJ5AS",
    "outputId": "576b8564-3ab1-47b0-f232-538e2c3bfaee"
   },
   "outputs": [
    {
     "name": "stdout",
     "output_type": "stream",
     "text": [
      "<class 'pandas.core.frame.DataFrame'>\n",
      "Int64Index: 1179 entries, 119716 to 119721\n",
      "Data columns (total 9 columns):\n",
      " #   Column        Non-Null Count  Dtype  \n",
      "---  ------        --------------  -----  \n",
      " 0   iso_code      1179 non-null   object \n",
      " 1   continent     1179 non-null   object \n",
      " 2   location      1179 non-null   object \n",
      " 3   date          1179 non-null   object \n",
      " 4   total_cases   1147 non-null   float64\n",
      " 5   new_cases     1171 non-null   float64\n",
      " 6   total_deaths  1104 non-null   float64\n",
      " 7   new_deaths    1174 non-null   float64\n",
      " 8   population    1179 non-null   float64\n",
      "dtypes: float64(5), object(4)\n",
      "memory usage: 92.1+ KB\n"
     ]
    }
   ],
   "source": [
    "Data.info()"
   ]
  },
  {
   "cell_type": "code",
   "execution_count": 184,
   "id": "mHJMSYJrKDbU",
   "metadata": {
    "ExecuteTime": {
     "end_time": "2023-03-27T23:50:31.749607Z",
     "start_time": "2023-03-27T23:50:31.712633Z"
    },
    "cell_style": "split",
    "colab": {
     "base_uri": "https://localhost:8080/",
     "height": 365
    },
    "id": "mHJMSYJrKDbU",
    "outputId": "2f7803b4-b6b3-45a9-ac1a-2849dc5e1235"
   },
   "outputs": [
    {
     "data": {
      "text/html": [
       "<div>\n",
       "<style scoped>\n",
       "    .dataframe tbody tr th:only-of-type {\n",
       "        vertical-align: middle;\n",
       "    }\n",
       "\n",
       "    .dataframe tbody tr th {\n",
       "        vertical-align: top;\n",
       "    }\n",
       "\n",
       "    .dataframe thead th {\n",
       "        text-align: right;\n",
       "    }\n",
       "</style>\n",
       "<table border=\"1\" class=\"dataframe\">\n",
       "  <thead>\n",
       "    <tr style=\"text-align: right;\">\n",
       "      <th></th>\n",
       "      <th>total_cases</th>\n",
       "      <th>new_cases</th>\n",
       "      <th>total_deaths</th>\n",
       "      <th>new_deaths</th>\n",
       "      <th>population</th>\n",
       "    </tr>\n",
       "  </thead>\n",
       "  <tbody>\n",
       "    <tr>\n",
       "      <th>count</th>\n",
       "      <td>1.147000e+03</td>\n",
       "      <td>1171.000000</td>\n",
       "      <td>1104.000000</td>\n",
       "      <td>1174.000000</td>\n",
       "      <td>1.179000e+03</td>\n",
       "    </tr>\n",
       "    <tr>\n",
       "      <th>mean</th>\n",
       "      <td>2.582627e+07</td>\n",
       "      <td>38170.570453</td>\n",
       "      <td>335841.667572</td>\n",
       "      <td>452.136286</td>\n",
       "      <td>1.417173e+09</td>\n",
       "    </tr>\n",
       "    <tr>\n",
       "      <th>std</th>\n",
       "      <td>1.755011e+07</td>\n",
       "      <td>71005.505886</td>\n",
       "      <td>202971.144119</td>\n",
       "      <td>806.654970</td>\n",
       "      <td>0.000000e+00</td>\n",
       "    </tr>\n",
       "    <tr>\n",
       "      <th>min</th>\n",
       "      <td>1.000000e+00</td>\n",
       "      <td>0.000000</td>\n",
       "      <td>1.000000</td>\n",
       "      <td>0.000000</td>\n",
       "      <td>1.417173e+09</td>\n",
       "    </tr>\n",
       "    <tr>\n",
       "      <th>25%</th>\n",
       "      <td>8.659964e+06</td>\n",
       "      <td>1769.500000</td>\n",
       "      <td>143271.000000</td>\n",
       "      <td>17.000000</td>\n",
       "      <td>1.417173e+09</td>\n",
       "    </tr>\n",
       "    <tr>\n",
       "      <th>50%</th>\n",
       "      <td>3.251237e+07</td>\n",
       "      <td>13052.000000</td>\n",
       "      <td>443712.500000</td>\n",
       "      <td>161.500000</td>\n",
       "      <td>1.417173e+09</td>\n",
       "    </tr>\n",
       "    <tr>\n",
       "      <th>75%</th>\n",
       "      <td>4.318767e+07</td>\n",
       "      <td>41258.500000</td>\n",
       "      <td>524843.750000</td>\n",
       "      <td>505.500000</td>\n",
       "      <td>1.417173e+09</td>\n",
       "    </tr>\n",
       "    <tr>\n",
       "      <th>max</th>\n",
       "      <td>4.469698e+07</td>\n",
       "      <td>414188.000000</td>\n",
       "      <td>530808.000000</td>\n",
       "      <td>6148.000000</td>\n",
       "      <td>1.417173e+09</td>\n",
       "    </tr>\n",
       "  </tbody>\n",
       "</table>\n",
       "</div>"
      ],
      "text/plain": [
       "        total_cases      new_cases   total_deaths   new_deaths    population\n",
       "count  1.147000e+03    1171.000000    1104.000000  1174.000000  1.179000e+03\n",
       "mean   2.582627e+07   38170.570453  335841.667572   452.136286  1.417173e+09\n",
       "std    1.755011e+07   71005.505886  202971.144119   806.654970  0.000000e+00\n",
       "min    1.000000e+00       0.000000       1.000000     0.000000  1.417173e+09\n",
       "25%    8.659964e+06    1769.500000  143271.000000    17.000000  1.417173e+09\n",
       "50%    3.251237e+07   13052.000000  443712.500000   161.500000  1.417173e+09\n",
       "75%    4.318767e+07   41258.500000  524843.750000   505.500000  1.417173e+09\n",
       "max    4.469698e+07  414188.000000  530808.000000  6148.000000  1.417173e+09"
      ]
     },
     "execution_count": 184,
     "metadata": {},
     "output_type": "execute_result"
    }
   ],
   "source": [
    "Data.describe()"
   ]
  },
  {
   "cell_type": "code",
   "execution_count": 185,
   "id": "JnmklR96PK5H",
   "metadata": {
    "ExecuteTime": {
     "end_time": "2023-03-27T23:50:31.970716Z",
     "start_time": "2023-03-27T23:50:31.923714Z"
    },
    "id": "JnmklR96PK5H"
   },
   "outputs": [
    {
     "data": {
      "text/html": [
       "<div>\n",
       "<style scoped>\n",
       "    .dataframe tbody tr th:only-of-type {\n",
       "        vertical-align: middle;\n",
       "    }\n",
       "\n",
       "    .dataframe tbody tr th {\n",
       "        vertical-align: top;\n",
       "    }\n",
       "\n",
       "    .dataframe thead th {\n",
       "        text-align: right;\n",
       "    }\n",
       "</style>\n",
       "<table border=\"1\" class=\"dataframe\">\n",
       "  <thead>\n",
       "    <tr style=\"text-align: right;\">\n",
       "      <th></th>\n",
       "      <th>iso_code</th>\n",
       "      <th>continent</th>\n",
       "      <th>location</th>\n",
       "      <th>date</th>\n",
       "      <th>total_cases</th>\n",
       "      <th>new_cases</th>\n",
       "      <th>total_deaths</th>\n",
       "      <th>new_deaths</th>\n",
       "      <th>population</th>\n",
       "    </tr>\n",
       "  </thead>\n",
       "  <tbody>\n",
       "    <tr>\n",
       "      <th>count</th>\n",
       "      <td>1179</td>\n",
       "      <td>1179</td>\n",
       "      <td>1179</td>\n",
       "      <td>1179</td>\n",
       "      <td>1.147000e+03</td>\n",
       "      <td>1171.000000</td>\n",
       "      <td>1104.000000</td>\n",
       "      <td>1174.000000</td>\n",
       "      <td>1.179000e+03</td>\n",
       "    </tr>\n",
       "    <tr>\n",
       "      <th>unique</th>\n",
       "      <td>1</td>\n",
       "      <td>1</td>\n",
       "      <td>1</td>\n",
       "      <td>1179</td>\n",
       "      <td>NaN</td>\n",
       "      <td>NaN</td>\n",
       "      <td>NaN</td>\n",
       "      <td>NaN</td>\n",
       "      <td>NaN</td>\n",
       "    </tr>\n",
       "    <tr>\n",
       "      <th>top</th>\n",
       "      <td>IND</td>\n",
       "      <td>Asia</td>\n",
       "      <td>India</td>\n",
       "      <td>2023-03-21</td>\n",
       "      <td>NaN</td>\n",
       "      <td>NaN</td>\n",
       "      <td>NaN</td>\n",
       "      <td>NaN</td>\n",
       "      <td>NaN</td>\n",
       "    </tr>\n",
       "    <tr>\n",
       "      <th>freq</th>\n",
       "      <td>1179</td>\n",
       "      <td>1179</td>\n",
       "      <td>1179</td>\n",
       "      <td>1</td>\n",
       "      <td>NaN</td>\n",
       "      <td>NaN</td>\n",
       "      <td>NaN</td>\n",
       "      <td>NaN</td>\n",
       "      <td>NaN</td>\n",
       "    </tr>\n",
       "    <tr>\n",
       "      <th>mean</th>\n",
       "      <td>NaN</td>\n",
       "      <td>NaN</td>\n",
       "      <td>NaN</td>\n",
       "      <td>NaN</td>\n",
       "      <td>2.582627e+07</td>\n",
       "      <td>38170.570453</td>\n",
       "      <td>335841.667572</td>\n",
       "      <td>452.136286</td>\n",
       "      <td>1.417173e+09</td>\n",
       "    </tr>\n",
       "    <tr>\n",
       "      <th>std</th>\n",
       "      <td>NaN</td>\n",
       "      <td>NaN</td>\n",
       "      <td>NaN</td>\n",
       "      <td>NaN</td>\n",
       "      <td>1.755011e+07</td>\n",
       "      <td>71005.505886</td>\n",
       "      <td>202971.144119</td>\n",
       "      <td>806.654970</td>\n",
       "      <td>0.000000e+00</td>\n",
       "    </tr>\n",
       "    <tr>\n",
       "      <th>min</th>\n",
       "      <td>NaN</td>\n",
       "      <td>NaN</td>\n",
       "      <td>NaN</td>\n",
       "      <td>NaN</td>\n",
       "      <td>1.000000e+00</td>\n",
       "      <td>0.000000</td>\n",
       "      <td>1.000000</td>\n",
       "      <td>0.000000</td>\n",
       "      <td>1.417173e+09</td>\n",
       "    </tr>\n",
       "    <tr>\n",
       "      <th>25%</th>\n",
       "      <td>NaN</td>\n",
       "      <td>NaN</td>\n",
       "      <td>NaN</td>\n",
       "      <td>NaN</td>\n",
       "      <td>8.659964e+06</td>\n",
       "      <td>1769.500000</td>\n",
       "      <td>143271.000000</td>\n",
       "      <td>17.000000</td>\n",
       "      <td>1.417173e+09</td>\n",
       "    </tr>\n",
       "    <tr>\n",
       "      <th>50%</th>\n",
       "      <td>NaN</td>\n",
       "      <td>NaN</td>\n",
       "      <td>NaN</td>\n",
       "      <td>NaN</td>\n",
       "      <td>3.251237e+07</td>\n",
       "      <td>13052.000000</td>\n",
       "      <td>443712.500000</td>\n",
       "      <td>161.500000</td>\n",
       "      <td>1.417173e+09</td>\n",
       "    </tr>\n",
       "    <tr>\n",
       "      <th>75%</th>\n",
       "      <td>NaN</td>\n",
       "      <td>NaN</td>\n",
       "      <td>NaN</td>\n",
       "      <td>NaN</td>\n",
       "      <td>4.318767e+07</td>\n",
       "      <td>41258.500000</td>\n",
       "      <td>524843.750000</td>\n",
       "      <td>505.500000</td>\n",
       "      <td>1.417173e+09</td>\n",
       "    </tr>\n",
       "    <tr>\n",
       "      <th>max</th>\n",
       "      <td>NaN</td>\n",
       "      <td>NaN</td>\n",
       "      <td>NaN</td>\n",
       "      <td>NaN</td>\n",
       "      <td>4.469698e+07</td>\n",
       "      <td>414188.000000</td>\n",
       "      <td>530808.000000</td>\n",
       "      <td>6148.000000</td>\n",
       "      <td>1.417173e+09</td>\n",
       "    </tr>\n",
       "  </tbody>\n",
       "</table>\n",
       "</div>"
      ],
      "text/plain": [
       "       iso_code continent location        date   total_cases      new_cases  \\\n",
       "count      1179      1179     1179        1179  1.147000e+03    1171.000000   \n",
       "unique        1         1        1        1179           NaN            NaN   \n",
       "top         IND      Asia    India  2023-03-21           NaN            NaN   \n",
       "freq       1179      1179     1179           1           NaN            NaN   \n",
       "mean        NaN       NaN      NaN         NaN  2.582627e+07   38170.570453   \n",
       "std         NaN       NaN      NaN         NaN  1.755011e+07   71005.505886   \n",
       "min         NaN       NaN      NaN         NaN  1.000000e+00       0.000000   \n",
       "25%         NaN       NaN      NaN         NaN  8.659964e+06    1769.500000   \n",
       "50%         NaN       NaN      NaN         NaN  3.251237e+07   13052.000000   \n",
       "75%         NaN       NaN      NaN         NaN  4.318767e+07   41258.500000   \n",
       "max         NaN       NaN      NaN         NaN  4.469698e+07  414188.000000   \n",
       "\n",
       "         total_deaths   new_deaths    population  \n",
       "count     1104.000000  1174.000000  1.179000e+03  \n",
       "unique            NaN          NaN           NaN  \n",
       "top               NaN          NaN           NaN  \n",
       "freq              NaN          NaN           NaN  \n",
       "mean    335841.667572   452.136286  1.417173e+09  \n",
       "std     202971.144119   806.654970  0.000000e+00  \n",
       "min          1.000000     0.000000  1.417173e+09  \n",
       "25%     143271.000000    17.000000  1.417173e+09  \n",
       "50%     443712.500000   161.500000  1.417173e+09  \n",
       "75%     524843.750000   505.500000  1.417173e+09  \n",
       "max     530808.000000  6148.000000  1.417173e+09  "
      ]
     },
     "execution_count": 185,
     "metadata": {},
     "output_type": "execute_result"
    }
   ],
   "source": [
    "Data.describe(include=\"all\")"
   ]
  },
  {
   "cell_type": "markdown",
   "id": "03ab97b4",
   "metadata": {
    "code_folding": [],
    "run_control": {
     "marked": false
    }
   },
   "source": [
    "## Data Reduction"
   ]
  },
  {
   "cell_type": "markdown",
   "id": "a69e90da",
   "metadata": {},
   "source": [
    "here some countries have NULL Values in their specific columns, so dropping the columns without filling it"
   ]
  },
  {
   "cell_type": "code",
   "execution_count": 186,
   "id": "d45b7691",
   "metadata": {
    "ExecuteTime": {
     "end_time": "2023-03-27T23:50:32.565908Z",
     "start_time": "2023-03-27T23:50:32.543168Z"
    },
    "cell_style": "split"
   },
   "outputs": [
    {
     "data": {
      "text/plain": [
       "iso_code        False\n",
       "continent       False\n",
       "location        False\n",
       "date            False\n",
       "total_cases      True\n",
       "new_cases        True\n",
       "total_deaths     True\n",
       "new_deaths       True\n",
       "population      False\n",
       "dtype: bool"
      ]
     },
     "execution_count": 186,
     "metadata": {},
     "output_type": "execute_result"
    }
   ],
   "source": [
    "Data.isnull().any()"
   ]
  },
  {
   "cell_type": "code",
   "execution_count": 187,
   "id": "122b1644",
   "metadata": {
    "ExecuteTime": {
     "end_time": "2023-03-27T23:50:32.766918Z",
     "start_time": "2023-03-27T23:50:32.751916Z"
    },
    "cell_style": "split"
   },
   "outputs": [
    {
     "data": {
      "text/plain": [
       "iso_code         0\n",
       "continent        0\n",
       "location         0\n",
       "date             0\n",
       "total_cases     32\n",
       "new_cases        8\n",
       "total_deaths    75\n",
       "new_deaths       5\n",
       "population       0\n",
       "dtype: int64"
      ]
     },
     "execution_count": 187,
     "metadata": {},
     "output_type": "execute_result"
    }
   ],
   "source": [
    "Data.isnull().sum()"
   ]
  },
  {
   "cell_type": "code",
   "execution_count": 188,
   "id": "008Ptc1hOHz7",
   "metadata": {
    "ExecuteTime": {
     "end_time": "2023-03-27T23:50:32.972183Z",
     "start_time": "2023-03-27T23:50:32.958176Z"
    },
    "id": "008Ptc1hOHz7"
   },
   "outputs": [],
   "source": [
    "Data=Data.dropna()"
   ]
  },
  {
   "cell_type": "code",
   "execution_count": 189,
   "id": "uUIgiXtXKmJy",
   "metadata": {
    "ExecuteTime": {
     "end_time": "2023-03-27T23:50:33.206061Z",
     "start_time": "2023-03-27T23:50:33.174054Z"
    },
    "colab": {
     "base_uri": "https://localhost:8080/",
     "height": 424
    },
    "id": "uUIgiXtXKmJy",
    "outputId": "22dbba57-2021-4d0d-8f54-9d24c7da39ab"
   },
   "outputs": [
    {
     "data": {
      "text/html": [
       "<div>\n",
       "<style scoped>\n",
       "    .dataframe tbody tr th:only-of-type {\n",
       "        vertical-align: middle;\n",
       "    }\n",
       "\n",
       "    .dataframe tbody tr th {\n",
       "        vertical-align: top;\n",
       "    }\n",
       "\n",
       "    .dataframe thead th {\n",
       "        text-align: right;\n",
       "    }\n",
       "</style>\n",
       "<table border=\"1\" class=\"dataframe\">\n",
       "  <thead>\n",
       "    <tr style=\"text-align: right;\">\n",
       "      <th></th>\n",
       "      <th>iso_code</th>\n",
       "      <th>continent</th>\n",
       "      <th>location</th>\n",
       "      <th>date</th>\n",
       "      <th>total_cases</th>\n",
       "      <th>new_cases</th>\n",
       "      <th>total_deaths</th>\n",
       "      <th>new_deaths</th>\n",
       "      <th>population</th>\n",
       "    </tr>\n",
       "  </thead>\n",
       "  <tbody>\n",
       "    <tr>\n",
       "      <th>119716</th>\n",
       "      <td>IND</td>\n",
       "      <td>Asia</td>\n",
       "      <td>India</td>\n",
       "      <td>2023-03-21</td>\n",
       "      <td>44696984.0</td>\n",
       "      <td>646.0</td>\n",
       "      <td>530808.0</td>\n",
       "      <td>2.0</td>\n",
       "      <td>1.417173e+09</td>\n",
       "    </tr>\n",
       "    <tr>\n",
       "      <th>119715</th>\n",
       "      <td>IND</td>\n",
       "      <td>Asia</td>\n",
       "      <td>India</td>\n",
       "      <td>2023-03-20</td>\n",
       "      <td>44696338.0</td>\n",
       "      <td>918.0</td>\n",
       "      <td>530806.0</td>\n",
       "      <td>4.0</td>\n",
       "      <td>1.417173e+09</td>\n",
       "    </tr>\n",
       "    <tr>\n",
       "      <th>119714</th>\n",
       "      <td>IND</td>\n",
       "      <td>Asia</td>\n",
       "      <td>India</td>\n",
       "      <td>2023-03-19</td>\n",
       "      <td>44695420.0</td>\n",
       "      <td>1071.0</td>\n",
       "      <td>530802.0</td>\n",
       "      <td>3.0</td>\n",
       "      <td>1.417173e+09</td>\n",
       "    </tr>\n",
       "    <tr>\n",
       "      <th>119713</th>\n",
       "      <td>IND</td>\n",
       "      <td>Asia</td>\n",
       "      <td>India</td>\n",
       "      <td>2023-03-18</td>\n",
       "      <td>44694349.0</td>\n",
       "      <td>843.0</td>\n",
       "      <td>530799.0</td>\n",
       "      <td>4.0</td>\n",
       "      <td>1.417173e+09</td>\n",
       "    </tr>\n",
       "    <tr>\n",
       "      <th>119712</th>\n",
       "      <td>IND</td>\n",
       "      <td>Asia</td>\n",
       "      <td>India</td>\n",
       "      <td>2023-03-17</td>\n",
       "      <td>44693506.0</td>\n",
       "      <td>796.0</td>\n",
       "      <td>530795.0</td>\n",
       "      <td>5.0</td>\n",
       "      <td>1.417173e+09</td>\n",
       "    </tr>\n",
       "  </tbody>\n",
       "</table>\n",
       "</div>"
      ],
      "text/plain": [
       "       iso_code continent location        date  total_cases  new_cases  \\\n",
       "119716      IND      Asia    India  2023-03-21   44696984.0      646.0   \n",
       "119715      IND      Asia    India  2023-03-20   44696338.0      918.0   \n",
       "119714      IND      Asia    India  2023-03-19   44695420.0     1071.0   \n",
       "119713      IND      Asia    India  2023-03-18   44694349.0      843.0   \n",
       "119712      IND      Asia    India  2023-03-17   44693506.0      796.0   \n",
       "\n",
       "        total_deaths  new_deaths    population  \n",
       "119716      530808.0         2.0  1.417173e+09  \n",
       "119715      530806.0         4.0  1.417173e+09  \n",
       "119714      530802.0         3.0  1.417173e+09  \n",
       "119713      530799.0         4.0  1.417173e+09  \n",
       "119712      530795.0         5.0  1.417173e+09  "
      ]
     },
     "execution_count": 189,
     "metadata": {},
     "output_type": "execute_result"
    }
   ],
   "source": [
    "Data.head()"
   ]
  },
  {
   "cell_type": "code",
   "execution_count": 190,
   "id": "1u9qsdMwLNjQ",
   "metadata": {
    "ExecuteTime": {
     "end_time": "2023-03-27T23:50:33.423654Z",
     "start_time": "2023-03-27T23:50:33.401619Z"
    },
    "cell_style": "split",
    "colab": {
     "base_uri": "https://localhost:8080/"
    },
    "id": "1u9qsdMwLNjQ",
    "outputId": "afa6a7d3-fd8f-46c0-f36a-3ba5f9d97609"
   },
   "outputs": [
    {
     "name": "stdout",
     "output_type": "stream",
     "text": [
      "<class 'pandas.core.frame.DataFrame'>\n",
      "Int64Index: 1103 entries, 119716 to 118613\n",
      "Data columns (total 9 columns):\n",
      " #   Column        Non-Null Count  Dtype  \n",
      "---  ------        --------------  -----  \n",
      " 0   iso_code      1103 non-null   object \n",
      " 1   continent     1103 non-null   object \n",
      " 2   location      1103 non-null   object \n",
      " 3   date          1103 non-null   object \n",
      " 4   total_cases   1103 non-null   float64\n",
      " 5   new_cases     1103 non-null   float64\n",
      " 6   total_deaths  1103 non-null   float64\n",
      " 7   new_deaths    1103 non-null   float64\n",
      " 8   population    1103 non-null   float64\n",
      "dtypes: float64(5), object(4)\n",
      "memory usage: 86.2+ KB\n"
     ]
    }
   ],
   "source": [
    "Data.info()"
   ]
  },
  {
   "cell_type": "code",
   "execution_count": 191,
   "id": "Jl1dKPM_P3ud",
   "metadata": {
    "ExecuteTime": {
     "end_time": "2023-03-27T23:50:33.655033Z",
     "start_time": "2023-03-27T23:50:33.629032Z"
    },
    "cell_style": "split",
    "colab": {
     "base_uri": "https://localhost:8080/",
     "height": 301
    },
    "id": "Jl1dKPM_P3ud",
    "outputId": "4a5e4e23-1563-4bd3-c944-ff0b363390b7"
   },
   "outputs": [
    {
     "data": {
      "text/html": [
       "<div>\n",
       "<style scoped>\n",
       "    .dataframe tbody tr th:only-of-type {\n",
       "        vertical-align: middle;\n",
       "    }\n",
       "\n",
       "    .dataframe tbody tr th {\n",
       "        vertical-align: top;\n",
       "    }\n",
       "\n",
       "    .dataframe thead th {\n",
       "        text-align: right;\n",
       "    }\n",
       "</style>\n",
       "<table border=\"1\" class=\"dataframe\">\n",
       "  <thead>\n",
       "    <tr style=\"text-align: right;\">\n",
       "      <th></th>\n",
       "      <th>total_cases</th>\n",
       "      <th>new_cases</th>\n",
       "      <th>total_deaths</th>\n",
       "      <th>new_deaths</th>\n",
       "      <th>population</th>\n",
       "    </tr>\n",
       "  </thead>\n",
       "  <tbody>\n",
       "    <tr>\n",
       "      <th>count</th>\n",
       "      <td>1.103000e+03</td>\n",
       "      <td>1103.000000</td>\n",
       "      <td>1103.000000</td>\n",
       "      <td>1103.000000</td>\n",
       "      <td>1.103000e+03</td>\n",
       "    </tr>\n",
       "    <tr>\n",
       "      <th>mean</th>\n",
       "      <td>2.681602e+07</td>\n",
       "      <td>40523.717135</td>\n",
       "      <td>335665.156845</td>\n",
       "      <td>481.239347</td>\n",
       "      <td>1.417173e+09</td>\n",
       "    </tr>\n",
       "    <tr>\n",
       "      <th>std</th>\n",
       "      <td>1.711653e+07</td>\n",
       "      <td>72508.261057</td>\n",
       "      <td>202978.427362</td>\n",
       "      <td>823.770238</td>\n",
       "      <td>0.000000e+00</td>\n",
       "    </tr>\n",
       "    <tr>\n",
       "      <th>min</th>\n",
       "      <td>8.100000e+01</td>\n",
       "      <td>3.000000</td>\n",
       "      <td>1.000000</td>\n",
       "      <td>0.000000</td>\n",
       "      <td>1.417173e+09</td>\n",
       "    </tr>\n",
       "    <tr>\n",
       "      <th>25%</th>\n",
       "      <td>9.870564e+06</td>\n",
       "      <td>2681.500000</td>\n",
       "      <td>143187.000000</td>\n",
       "      <td>27.000000</td>\n",
       "      <td>1.417173e+09</td>\n",
       "    </tr>\n",
       "    <tr>\n",
       "      <th>50%</th>\n",
       "      <td>3.331676e+07</td>\n",
       "      <td>14545.000000</td>\n",
       "      <td>443497.000000</td>\n",
       "      <td>202.000000</td>\n",
       "      <td>1.417173e+09</td>\n",
       "    </tr>\n",
       "    <tr>\n",
       "      <th>75%</th>\n",
       "      <td>4.327718e+07</td>\n",
       "      <td>43076.500000</td>\n",
       "      <td>524828.500000</td>\n",
       "      <td>526.000000</td>\n",
       "      <td>1.417173e+09</td>\n",
       "    </tr>\n",
       "    <tr>\n",
       "      <th>max</th>\n",
       "      <td>4.469698e+07</td>\n",
       "      <td>414188.000000</td>\n",
       "      <td>530808.000000</td>\n",
       "      <td>6148.000000</td>\n",
       "      <td>1.417173e+09</td>\n",
       "    </tr>\n",
       "  </tbody>\n",
       "</table>\n",
       "</div>"
      ],
      "text/plain": [
       "        total_cases      new_cases   total_deaths   new_deaths    population\n",
       "count  1.103000e+03    1103.000000    1103.000000  1103.000000  1.103000e+03\n",
       "mean   2.681602e+07   40523.717135  335665.156845   481.239347  1.417173e+09\n",
       "std    1.711653e+07   72508.261057  202978.427362   823.770238  0.000000e+00\n",
       "min    8.100000e+01       3.000000       1.000000     0.000000  1.417173e+09\n",
       "25%    9.870564e+06    2681.500000  143187.000000    27.000000  1.417173e+09\n",
       "50%    3.331676e+07   14545.000000  443497.000000   202.000000  1.417173e+09\n",
       "75%    4.327718e+07   43076.500000  524828.500000   526.000000  1.417173e+09\n",
       "max    4.469698e+07  414188.000000  530808.000000  6148.000000  1.417173e+09"
      ]
     },
     "execution_count": 191,
     "metadata": {},
     "output_type": "execute_result"
    }
   ],
   "source": [
    "Data.describe()"
   ]
  },
  {
   "cell_type": "code",
   "execution_count": 192,
   "id": "sNyZZsT0LQml",
   "metadata": {
    "ExecuteTime": {
     "end_time": "2023-03-27T23:50:33.918313Z",
     "start_time": "2023-03-27T23:50:33.871234Z"
    },
    "colab": {
     "base_uri": "https://localhost:8080/",
     "height": 395
    },
    "id": "sNyZZsT0LQml",
    "outputId": "1a99605f-9fd0-4a2b-9a1b-2c76a69f83c8",
    "scrolled": true
   },
   "outputs": [
    {
     "data": {
      "text/html": [
       "<div>\n",
       "<style scoped>\n",
       "    .dataframe tbody tr th:only-of-type {\n",
       "        vertical-align: middle;\n",
       "    }\n",
       "\n",
       "    .dataframe tbody tr th {\n",
       "        vertical-align: top;\n",
       "    }\n",
       "\n",
       "    .dataframe thead th {\n",
       "        text-align: right;\n",
       "    }\n",
       "</style>\n",
       "<table border=\"1\" class=\"dataframe\">\n",
       "  <thead>\n",
       "    <tr style=\"text-align: right;\">\n",
       "      <th></th>\n",
       "      <th>iso_code</th>\n",
       "      <th>continent</th>\n",
       "      <th>location</th>\n",
       "      <th>date</th>\n",
       "      <th>total_cases</th>\n",
       "      <th>new_cases</th>\n",
       "      <th>total_deaths</th>\n",
       "      <th>new_deaths</th>\n",
       "      <th>population</th>\n",
       "    </tr>\n",
       "  </thead>\n",
       "  <tbody>\n",
       "    <tr>\n",
       "      <th>count</th>\n",
       "      <td>1103</td>\n",
       "      <td>1103</td>\n",
       "      <td>1103</td>\n",
       "      <td>1103</td>\n",
       "      <td>1.103000e+03</td>\n",
       "      <td>1103.000000</td>\n",
       "      <td>1103.000000</td>\n",
       "      <td>1103.000000</td>\n",
       "      <td>1.103000e+03</td>\n",
       "    </tr>\n",
       "    <tr>\n",
       "      <th>unique</th>\n",
       "      <td>1</td>\n",
       "      <td>1</td>\n",
       "      <td>1</td>\n",
       "      <td>1103</td>\n",
       "      <td>NaN</td>\n",
       "      <td>NaN</td>\n",
       "      <td>NaN</td>\n",
       "      <td>NaN</td>\n",
       "      <td>NaN</td>\n",
       "    </tr>\n",
       "    <tr>\n",
       "      <th>top</th>\n",
       "      <td>IND</td>\n",
       "      <td>Asia</td>\n",
       "      <td>India</td>\n",
       "      <td>2023-03-21</td>\n",
       "      <td>NaN</td>\n",
       "      <td>NaN</td>\n",
       "      <td>NaN</td>\n",
       "      <td>NaN</td>\n",
       "      <td>NaN</td>\n",
       "    </tr>\n",
       "    <tr>\n",
       "      <th>freq</th>\n",
       "      <td>1103</td>\n",
       "      <td>1103</td>\n",
       "      <td>1103</td>\n",
       "      <td>1</td>\n",
       "      <td>NaN</td>\n",
       "      <td>NaN</td>\n",
       "      <td>NaN</td>\n",
       "      <td>NaN</td>\n",
       "      <td>NaN</td>\n",
       "    </tr>\n",
       "    <tr>\n",
       "      <th>mean</th>\n",
       "      <td>NaN</td>\n",
       "      <td>NaN</td>\n",
       "      <td>NaN</td>\n",
       "      <td>NaN</td>\n",
       "      <td>2.681602e+07</td>\n",
       "      <td>40523.717135</td>\n",
       "      <td>335665.156845</td>\n",
       "      <td>481.239347</td>\n",
       "      <td>1.417173e+09</td>\n",
       "    </tr>\n",
       "    <tr>\n",
       "      <th>std</th>\n",
       "      <td>NaN</td>\n",
       "      <td>NaN</td>\n",
       "      <td>NaN</td>\n",
       "      <td>NaN</td>\n",
       "      <td>1.711653e+07</td>\n",
       "      <td>72508.261057</td>\n",
       "      <td>202978.427362</td>\n",
       "      <td>823.770238</td>\n",
       "      <td>0.000000e+00</td>\n",
       "    </tr>\n",
       "    <tr>\n",
       "      <th>min</th>\n",
       "      <td>NaN</td>\n",
       "      <td>NaN</td>\n",
       "      <td>NaN</td>\n",
       "      <td>NaN</td>\n",
       "      <td>8.100000e+01</td>\n",
       "      <td>3.000000</td>\n",
       "      <td>1.000000</td>\n",
       "      <td>0.000000</td>\n",
       "      <td>1.417173e+09</td>\n",
       "    </tr>\n",
       "    <tr>\n",
       "      <th>25%</th>\n",
       "      <td>NaN</td>\n",
       "      <td>NaN</td>\n",
       "      <td>NaN</td>\n",
       "      <td>NaN</td>\n",
       "      <td>9.870564e+06</td>\n",
       "      <td>2681.500000</td>\n",
       "      <td>143187.000000</td>\n",
       "      <td>27.000000</td>\n",
       "      <td>1.417173e+09</td>\n",
       "    </tr>\n",
       "    <tr>\n",
       "      <th>50%</th>\n",
       "      <td>NaN</td>\n",
       "      <td>NaN</td>\n",
       "      <td>NaN</td>\n",
       "      <td>NaN</td>\n",
       "      <td>3.331676e+07</td>\n",
       "      <td>14545.000000</td>\n",
       "      <td>443497.000000</td>\n",
       "      <td>202.000000</td>\n",
       "      <td>1.417173e+09</td>\n",
       "    </tr>\n",
       "    <tr>\n",
       "      <th>75%</th>\n",
       "      <td>NaN</td>\n",
       "      <td>NaN</td>\n",
       "      <td>NaN</td>\n",
       "      <td>NaN</td>\n",
       "      <td>4.327718e+07</td>\n",
       "      <td>43076.500000</td>\n",
       "      <td>524828.500000</td>\n",
       "      <td>526.000000</td>\n",
       "      <td>1.417173e+09</td>\n",
       "    </tr>\n",
       "    <tr>\n",
       "      <th>max</th>\n",
       "      <td>NaN</td>\n",
       "      <td>NaN</td>\n",
       "      <td>NaN</td>\n",
       "      <td>NaN</td>\n",
       "      <td>4.469698e+07</td>\n",
       "      <td>414188.000000</td>\n",
       "      <td>530808.000000</td>\n",
       "      <td>6148.000000</td>\n",
       "      <td>1.417173e+09</td>\n",
       "    </tr>\n",
       "  </tbody>\n",
       "</table>\n",
       "</div>"
      ],
      "text/plain": [
       "       iso_code continent location        date   total_cases      new_cases  \\\n",
       "count      1103      1103     1103        1103  1.103000e+03    1103.000000   \n",
       "unique        1         1        1        1103           NaN            NaN   \n",
       "top         IND      Asia    India  2023-03-21           NaN            NaN   \n",
       "freq       1103      1103     1103           1           NaN            NaN   \n",
       "mean        NaN       NaN      NaN         NaN  2.681602e+07   40523.717135   \n",
       "std         NaN       NaN      NaN         NaN  1.711653e+07   72508.261057   \n",
       "min         NaN       NaN      NaN         NaN  8.100000e+01       3.000000   \n",
       "25%         NaN       NaN      NaN         NaN  9.870564e+06    2681.500000   \n",
       "50%         NaN       NaN      NaN         NaN  3.331676e+07   14545.000000   \n",
       "75%         NaN       NaN      NaN         NaN  4.327718e+07   43076.500000   \n",
       "max         NaN       NaN      NaN         NaN  4.469698e+07  414188.000000   \n",
       "\n",
       "         total_deaths   new_deaths    population  \n",
       "count     1103.000000  1103.000000  1.103000e+03  \n",
       "unique            NaN          NaN           NaN  \n",
       "top               NaN          NaN           NaN  \n",
       "freq              NaN          NaN           NaN  \n",
       "mean    335665.156845   481.239347  1.417173e+09  \n",
       "std     202978.427362   823.770238  0.000000e+00  \n",
       "min          1.000000     0.000000  1.417173e+09  \n",
       "25%     143187.000000    27.000000  1.417173e+09  \n",
       "50%     443497.000000   202.000000  1.417173e+09  \n",
       "75%     524828.500000   526.000000  1.417173e+09  \n",
       "max     530808.000000  6148.000000  1.417173e+09  "
      ]
     },
     "execution_count": 192,
     "metadata": {},
     "output_type": "execute_result"
    }
   ],
   "source": [
    "Data.describe(include=\"all\")"
   ]
  },
  {
   "cell_type": "markdown",
   "id": "202e771b",
   "metadata": {},
   "source": [
    "# Descriptive statistics "
   ]
  },
  {
   "cell_type": "markdown",
   "id": "ee5933a7",
   "metadata": {},
   "source": [
    "### Variance"
   ]
  },
  {
   "cell_type": "code",
   "execution_count": 193,
   "id": "47ab14e4",
   "metadata": {
    "ExecuteTime": {
     "end_time": "2023-03-27T23:50:46.661712Z",
     "start_time": "2023-03-27T23:50:46.646713Z"
    }
   },
   "outputs": [
    {
     "data": {
      "text/plain": [
       "total_cases     2.929756e+14\n",
       "new_cases       5.257448e+09\n",
       "total_deaths    4.120024e+10\n",
       "new_deaths      6.785974e+05\n",
       "population      0.000000e+00\n",
       "dtype: float64"
      ]
     },
     "execution_count": 193,
     "metadata": {},
     "output_type": "execute_result"
    }
   ],
   "source": [
    "Data.var()"
   ]
  },
  {
   "cell_type": "markdown",
   "id": "48b03d1b",
   "metadata": {},
   "source": [
    "### Standard Deviation"
   ]
  },
  {
   "cell_type": "code",
   "execution_count": 194,
   "id": "3965ed02",
   "metadata": {
    "ExecuteTime": {
     "end_time": "2023-03-27T23:50:55.850804Z",
     "start_time": "2023-03-27T23:50:55.829594Z"
    }
   },
   "outputs": [
    {
     "data": {
      "text/plain": [
       "total_cases     1.711653e+07\n",
       "new_cases       7.250826e+04\n",
       "total_deaths    2.029784e+05\n",
       "new_deaths      8.237702e+02\n",
       "population      0.000000e+00\n",
       "dtype: float64"
      ]
     },
     "execution_count": 194,
     "metadata": {},
     "output_type": "execute_result"
    }
   ],
   "source": [
    "Data.std()"
   ]
  },
  {
   "cell_type": "markdown",
   "id": "19f69723",
   "metadata": {
    "cell_style": "split"
   },
   "source": [
    "## Mean"
   ]
  },
  {
   "cell_type": "markdown",
   "id": "f1facb3c",
   "metadata": {
    "cell_style": "split"
   },
   "source": [
    "## Median"
   ]
  },
  {
   "cell_type": "code",
   "execution_count": 124,
   "id": "v5Z34TuJLSM9",
   "metadata": {
    "cell_style": "split",
    "colab": {
     "base_uri": "https://localhost:8080/"
    },
    "id": "v5Z34TuJLSM9",
    "outputId": "f75c8283-359e-4b4b-b201-4935c8cb0744"
   },
   "outputs": [
    {
     "data": {
      "text/plain": [
       "total_cases     2.681602e+07\n",
       "new_cases       4.052372e+04\n",
       "total_deaths    3.356652e+05\n",
       "new_deaths      4.812393e+02\n",
       "population      1.417173e+09\n",
       "dtype: float64"
      ]
     },
     "execution_count": 124,
     "metadata": {},
     "output_type": "execute_result"
    }
   ],
   "source": [
    "Data.mean()"
   ]
  },
  {
   "cell_type": "code",
   "execution_count": 125,
   "id": "XJb6F54jMV54",
   "metadata": {
    "cell_style": "split",
    "colab": {
     "base_uri": "https://localhost:8080/"
    },
    "id": "XJb6F54jMV54",
    "outputId": "37628903-0303-435b-9150-8e0237d0cb5c"
   },
   "outputs": [
    {
     "data": {
      "text/plain": [
       "total_cases     3.331676e+07\n",
       "new_cases       1.454500e+04\n",
       "total_deaths    4.434970e+05\n",
       "new_deaths      2.020000e+02\n",
       "population      1.417173e+09\n",
       "dtype: float64"
      ]
     },
     "execution_count": 125,
     "metadata": {},
     "output_type": "execute_result"
    }
   ],
   "source": [
    "Data.median()"
   ]
  },
  {
   "cell_type": "markdown",
   "id": "f34df33c",
   "metadata": {},
   "source": [
    "## Mode"
   ]
  },
  {
   "cell_type": "code",
   "execution_count": 126,
   "id": "L2K1Tm3kMX0l",
   "metadata": {
    "colab": {
     "base_uri": "https://localhost:8080/",
     "height": 424
    },
    "id": "L2K1Tm3kMX0l",
    "outputId": "4926f052-356e-488a-e5d5-c07dfcf1b82f"
   },
   "outputs": [
    {
     "data": {
      "text/html": [
       "<div>\n",
       "<style scoped>\n",
       "    .dataframe tbody tr th:only-of-type {\n",
       "        vertical-align: middle;\n",
       "    }\n",
       "\n",
       "    .dataframe tbody tr th {\n",
       "        vertical-align: top;\n",
       "    }\n",
       "\n",
       "    .dataframe thead th {\n",
       "        text-align: right;\n",
       "    }\n",
       "</style>\n",
       "<table border=\"1\" class=\"dataframe\">\n",
       "  <thead>\n",
       "    <tr style=\"text-align: right;\">\n",
       "      <th></th>\n",
       "      <th>iso_code</th>\n",
       "      <th>continent</th>\n",
       "      <th>location</th>\n",
       "      <th>date</th>\n",
       "      <th>total_cases</th>\n",
       "      <th>new_cases</th>\n",
       "      <th>total_deaths</th>\n",
       "      <th>new_deaths</th>\n",
       "      <th>population</th>\n",
       "    </tr>\n",
       "  </thead>\n",
       "  <tbody>\n",
       "    <tr>\n",
       "      <th>0</th>\n",
       "      <td>IND</td>\n",
       "      <td>Asia</td>\n",
       "      <td>India</td>\n",
       "      <td>2020-03-13</td>\n",
       "      <td>81.0</td>\n",
       "      <td>114.0</td>\n",
       "      <td>530775.0</td>\n",
       "      <td>0.0</td>\n",
       "      <td>1.417173e+09</td>\n",
       "    </tr>\n",
       "    <tr>\n",
       "      <th>1</th>\n",
       "      <td>NaN</td>\n",
       "      <td>NaN</td>\n",
       "      <td>NaN</td>\n",
       "      <td>2020-03-14</td>\n",
       "      <td>84.0</td>\n",
       "      <td>185.0</td>\n",
       "      <td>NaN</td>\n",
       "      <td>NaN</td>\n",
       "      <td>NaN</td>\n",
       "    </tr>\n",
       "    <tr>\n",
       "      <th>2</th>\n",
       "      <td>NaN</td>\n",
       "      <td>NaN</td>\n",
       "      <td>NaN</td>\n",
       "      <td>2020-03-15</td>\n",
       "      <td>107.0</td>\n",
       "      <td>226.0</td>\n",
       "      <td>NaN</td>\n",
       "      <td>NaN</td>\n",
       "      <td>NaN</td>\n",
       "    </tr>\n",
       "    <tr>\n",
       "      <th>3</th>\n",
       "      <td>NaN</td>\n",
       "      <td>NaN</td>\n",
       "      <td>NaN</td>\n",
       "      <td>2020-03-16</td>\n",
       "      <td>114.0</td>\n",
       "      <td>796.0</td>\n",
       "      <td>NaN</td>\n",
       "      <td>NaN</td>\n",
       "      <td>NaN</td>\n",
       "    </tr>\n",
       "    <tr>\n",
       "      <th>4</th>\n",
       "      <td>NaN</td>\n",
       "      <td>NaN</td>\n",
       "      <td>NaN</td>\n",
       "      <td>2020-03-17</td>\n",
       "      <td>137.0</td>\n",
       "      <td>NaN</td>\n",
       "      <td>NaN</td>\n",
       "      <td>NaN</td>\n",
       "      <td>NaN</td>\n",
       "    </tr>\n",
       "    <tr>\n",
       "      <th>...</th>\n",
       "      <td>...</td>\n",
       "      <td>...</td>\n",
       "      <td>...</td>\n",
       "      <td>...</td>\n",
       "      <td>...</td>\n",
       "      <td>...</td>\n",
       "      <td>...</td>\n",
       "      <td>...</td>\n",
       "      <td>...</td>\n",
       "    </tr>\n",
       "    <tr>\n",
       "      <th>1098</th>\n",
       "      <td>NaN</td>\n",
       "      <td>NaN</td>\n",
       "      <td>NaN</td>\n",
       "      <td>2023-03-17</td>\n",
       "      <td>44693506.0</td>\n",
       "      <td>NaN</td>\n",
       "      <td>NaN</td>\n",
       "      <td>NaN</td>\n",
       "      <td>NaN</td>\n",
       "    </tr>\n",
       "    <tr>\n",
       "      <th>1099</th>\n",
       "      <td>NaN</td>\n",
       "      <td>NaN</td>\n",
       "      <td>NaN</td>\n",
       "      <td>2023-03-18</td>\n",
       "      <td>44694349.0</td>\n",
       "      <td>NaN</td>\n",
       "      <td>NaN</td>\n",
       "      <td>NaN</td>\n",
       "      <td>NaN</td>\n",
       "    </tr>\n",
       "    <tr>\n",
       "      <th>1100</th>\n",
       "      <td>NaN</td>\n",
       "      <td>NaN</td>\n",
       "      <td>NaN</td>\n",
       "      <td>2023-03-19</td>\n",
       "      <td>44695420.0</td>\n",
       "      <td>NaN</td>\n",
       "      <td>NaN</td>\n",
       "      <td>NaN</td>\n",
       "      <td>NaN</td>\n",
       "    </tr>\n",
       "    <tr>\n",
       "      <th>1101</th>\n",
       "      <td>NaN</td>\n",
       "      <td>NaN</td>\n",
       "      <td>NaN</td>\n",
       "      <td>2023-03-20</td>\n",
       "      <td>44696338.0</td>\n",
       "      <td>NaN</td>\n",
       "      <td>NaN</td>\n",
       "      <td>NaN</td>\n",
       "      <td>NaN</td>\n",
       "    </tr>\n",
       "    <tr>\n",
       "      <th>1102</th>\n",
       "      <td>NaN</td>\n",
       "      <td>NaN</td>\n",
       "      <td>NaN</td>\n",
       "      <td>2023-03-21</td>\n",
       "      <td>44696984.0</td>\n",
       "      <td>NaN</td>\n",
       "      <td>NaN</td>\n",
       "      <td>NaN</td>\n",
       "      <td>NaN</td>\n",
       "    </tr>\n",
       "  </tbody>\n",
       "</table>\n",
       "<p>1103 rows × 9 columns</p>\n",
       "</div>"
      ],
      "text/plain": [
       "     iso_code continent location        date  total_cases  new_cases  \\\n",
       "0         IND      Asia    India  2020-03-13         81.0      114.0   \n",
       "1         NaN       NaN      NaN  2020-03-14         84.0      185.0   \n",
       "2         NaN       NaN      NaN  2020-03-15        107.0      226.0   \n",
       "3         NaN       NaN      NaN  2020-03-16        114.0      796.0   \n",
       "4         NaN       NaN      NaN  2020-03-17        137.0        NaN   \n",
       "...       ...       ...      ...         ...          ...        ...   \n",
       "1098      NaN       NaN      NaN  2023-03-17   44693506.0        NaN   \n",
       "1099      NaN       NaN      NaN  2023-03-18   44694349.0        NaN   \n",
       "1100      NaN       NaN      NaN  2023-03-19   44695420.0        NaN   \n",
       "1101      NaN       NaN      NaN  2023-03-20   44696338.0        NaN   \n",
       "1102      NaN       NaN      NaN  2023-03-21   44696984.0        NaN   \n",
       "\n",
       "      total_deaths  new_deaths    population  \n",
       "0         530775.0         0.0  1.417173e+09  \n",
       "1              NaN         NaN           NaN  \n",
       "2              NaN         NaN           NaN  \n",
       "3              NaN         NaN           NaN  \n",
       "4              NaN         NaN           NaN  \n",
       "...            ...         ...           ...  \n",
       "1098           NaN         NaN           NaN  \n",
       "1099           NaN         NaN           NaN  \n",
       "1100           NaN         NaN           NaN  \n",
       "1101           NaN         NaN           NaN  \n",
       "1102           NaN         NaN           NaN  \n",
       "\n",
       "[1103 rows x 9 columns]"
      ]
     },
     "execution_count": 126,
     "metadata": {},
     "output_type": "execute_result"
    }
   ],
   "source": [
    "Data.mode()"
   ]
  },
  {
   "cell_type": "markdown",
   "id": "0549cbe1",
   "metadata": {},
   "source": [
    "## Quantile Ranges"
   ]
  },
  {
   "cell_type": "code",
   "execution_count": 127,
   "id": "CEhhGE1yMZHA",
   "metadata": {
    "cell_style": "split",
    "colab": {
     "base_uri": "https://localhost:8080/"
    },
    "id": "CEhhGE1yMZHA",
    "outputId": "482e7f46-b35c-4df2-e7fe-35d4eb2403ae"
   },
   "outputs": [
    {
     "data": {
      "text/plain": [
       "total_cases     9.870564e+06\n",
       "new_cases       2.681500e+03\n",
       "total_deaths    1.431870e+05\n",
       "new_deaths      2.700000e+01\n",
       "population      1.417173e+09\n",
       "Name: 0.25, dtype: float64"
      ]
     },
     "execution_count": 127,
     "metadata": {},
     "output_type": "execute_result"
    }
   ],
   "source": [
    "Data.quantile(0.25)"
   ]
  },
  {
   "cell_type": "code",
   "execution_count": 128,
   "id": "AfKGCcBeMr_e",
   "metadata": {
    "cell_style": "split",
    "colab": {
     "base_uri": "https://localhost:8080/"
    },
    "id": "AfKGCcBeMr_e",
    "outputId": "a9eae0fc-2c93-4910-842f-fcc7fbcc22db"
   },
   "outputs": [
    {
     "data": {
      "text/plain": [
       "total_cases     4.327718e+07\n",
       "new_cases       4.307650e+04\n",
       "total_deaths    5.248285e+05\n",
       "new_deaths      5.260000e+02\n",
       "population      1.417173e+09\n",
       "Name: 0.75, dtype: float64"
      ]
     },
     "execution_count": 128,
     "metadata": {},
     "output_type": "execute_result"
    }
   ],
   "source": [
    "Data.quantile(0.75)"
   ]
  },
  {
   "cell_type": "code",
   "execution_count": 129,
   "id": "URa9Q4lzQ2io",
   "metadata": {
    "cell_style": "split",
    "id": "URa9Q4lzQ2io"
   },
   "outputs": [],
   "source": [
    "Inter_quartile_range=Data.quantile(0.75)-Data.quantile(0.25)"
   ]
  },
  {
   "cell_type": "code",
   "execution_count": 130,
   "id": "9k903j33RACY",
   "metadata": {
    "cell_style": "split",
    "colab": {
     "base_uri": "https://localhost:8080/"
    },
    "id": "9k903j33RACY",
    "outputId": "8db462aa-a493-4dba-88ca-f2e2c0e76937"
   },
   "outputs": [
    {
     "data": {
      "text/plain": [
       "total_cases     33406620.5\n",
       "new_cases          40395.0\n",
       "total_deaths      381641.5\n",
       "new_deaths           499.0\n",
       "population             0.0\n",
       "dtype: float64"
      ]
     },
     "execution_count": 130,
     "metadata": {},
     "output_type": "execute_result"
    }
   ],
   "source": [
    "Inter_quartile_range"
   ]
  },
  {
   "cell_type": "markdown",
   "id": "f32c1b58",
   "metadata": {
    "cell_style": "split"
   },
   "source": [
    "## Harmonic Mean"
   ]
  },
  {
   "cell_type": "markdown",
   "id": "967db4a3",
   "metadata": {
    "cell_style": "split"
   },
   "source": [
    "## Geometric Mean"
   ]
  },
  {
   "cell_type": "code",
   "execution_count": 131,
   "id": "771d93a0",
   "metadata": {
    "cell_style": "split"
   },
   "outputs": [
    {
     "data": {
      "text/plain": [
       "['total_cases: 12174.026545966093',\n",
       " 'new_cases: 590.6947798460777',\n",
       " 'total_deaths: 226.73649528812513',\n",
       " 'new_deaths: 0',\n",
       " 'population: 1417173120.0']"
      ]
     },
     "execution_count": 131,
     "metadata": {},
     "output_type": "execute_result"
    }
   ],
   "source": [
    "[\n",
    "    Numerical_Columns[i]+\": \"+str(statistics.harmonic_mean(Data[Numerical_Columns[i]])) for i in range(len(Numerical_Columns))\n",
    "]"
   ]
  },
  {
   "cell_type": "code",
   "execution_count": 132,
   "id": "32ef1797",
   "metadata": {
    "cell_style": "split",
    "code_folding": []
   },
   "outputs": [
    {
     "data": {
      "text/plain": [
       "['total_cases: 11453058.172569025',\n",
       " 'new_cases: 9456.3447760703',\n",
       " 'total_deaths: 164418.3863333646',\n",
       " 'new_deaths: 0.0',\n",
       " 'population: 1417173120.0000002']"
      ]
     },
     "execution_count": 132,
     "metadata": {},
     "output_type": "execute_result"
    }
   ],
   "source": [
    "[\n",
    "    Numerical_Columns[i]+\": \"+str(scipy.stats.mstats.gmean(Data[Numerical_Columns[i]]))  for i in range(len(Numerical_Columns))\n",
    "]"
   ]
  },
  {
   "cell_type": "markdown",
   "id": "c5c281b2",
   "metadata": {
    "cell_style": "split"
   },
   "source": [
    "## Skewness"
   ]
  },
  {
   "cell_type": "markdown",
   "id": "1be17283",
   "metadata": {
    "cell_style": "split"
   },
   "source": [
    "## Kurtosis"
   ]
  },
  {
   "cell_type": "code",
   "execution_count": 133,
   "id": "gJM4thQkTRXv",
   "metadata": {
    "cell_style": "split",
    "colab": {
     "base_uri": "https://localhost:8080/"
    },
    "id": "gJM4thQkTRXv",
    "outputId": "d45648fc-2641-43f6-bd5f-48b74d3018e5"
   },
   "outputs": [
    {
     "data": {
      "text/plain": [
       "total_cases    -0.392029\n",
       "new_cases       3.126835\n",
       "total_deaths   -0.481730\n",
       "new_deaths      3.180316\n",
       "population      0.000000\n",
       "dtype: float64"
      ]
     },
     "execution_count": 133,
     "metadata": {},
     "output_type": "execute_result"
    }
   ],
   "source": [
    "Data.skew()"
   ]
  },
  {
   "cell_type": "code",
   "execution_count": 170,
   "id": "1YLQ4aEXTjuC",
   "metadata": {
    "ExecuteTime": {
     "end_time": "2023-03-27T22:54:25.192610Z",
     "start_time": "2023-03-27T22:54:25.158521Z"
    },
    "cell_style": "split",
    "colab": {
     "base_uri": "https://localhost:8080/"
    },
    "id": "1YLQ4aEXTjuC",
    "outputId": "04de6a53-5f53-406e-9dbc-26de34524866"
   },
   "outputs": [
    {
     "data": {
      "text/plain": [
       "total_cases     -1.512429\n",
       "new_cases        9.981665\n",
       "total_deaths    -1.482979\n",
       "new_deaths      10.880589\n",
       "population       0.000000\n",
       "dtype: float64"
      ]
     },
     "execution_count": 170,
     "metadata": {},
     "output_type": "execute_result"
    }
   ],
   "source": [
    "Data.kurtosis()"
   ]
  },
  {
   "cell_type": "markdown",
   "id": "69bec24c",
   "metadata": {},
   "source": [
    "## Box Plots"
   ]
  },
  {
   "cell_type": "code",
   "execution_count": 135,
   "id": "0ASIzUeBQLIV",
   "metadata": {
    "cell_style": "split",
    "colab": {
     "base_uri": "https://localhost:8080/",
     "height": 294
    },
    "id": "0ASIzUeBQLIV",
    "outputId": "f379ce99-9439-47a2-9fcf-357f44177173"
   },
   "outputs": [
    {
     "data": {
      "text/plain": [
       "<AxesSubplot: >"
      ]
     },
     "execution_count": 135,
     "metadata": {},
     "output_type": "execute_result"
    },
    {
     "data": {
      "image/png": "[encoded data removed]",
      "text/plain": [
       "<Figure size 500x300 with 1 Axes>"
      ]
     },
     "metadata": {},
     "output_type": "display_data"
    }
   ],
   "source": [
    "Data.boxplot(\"total_cases\")"
   ]
  },
  {
   "cell_type": "code",
   "execution_count": 136,
   "id": "h9wuXOA0QbY0",
   "metadata": {
    "cell_style": "split",
    "colab": {
     "base_uri": "https://localhost:8080/",
     "height": 294
    },
    "id": "h9wuXOA0QbY0",
    "outputId": "a59e0149-7e11-40e9-a708-a2fd0eca96a0"
   },
   "outputs": [
    {
     "data": {
      "text/plain": [
       "<AxesSubplot: >"
      ]
     },
     "execution_count": 136,
     "metadata": {},
     "output_type": "execute_result"
    },
    {
     "data": {
      "image/png": "[encoded data removed]",
      "text/plain": [
       "<Figure size 500x300 with 1 Axes>"
      ]
     },
     "metadata": {},
     "output_type": "display_data"
    }
   ],
   "source": [
    "Data.boxplot(\"total_deaths\")"
   ]
  },
  {
   "cell_type": "code",
   "execution_count": 137,
   "id": "vgEbd455QjIX",
   "metadata": {
    "cell_style": "split",
    "colab": {
     "base_uri": "https://localhost:8080/",
     "height": 283
    },
    "id": "vgEbd455QjIX",
    "outputId": "69be12c5-ea8e-44f4-bd21-48e0258af273"
   },
   "outputs": [
    {
     "data": {
      "text/plain": [
       "<AxesSubplot: >"
      ]
     },
     "execution_count": 137,
     "metadata": {},
     "output_type": "execute_result"
    },
    {
     "data": {
      "image/png": "[encoded data removed]",
      "text/plain": [
       "<Figure size 500x300 with 1 Axes>"
      ]
     },
     "metadata": {},
     "output_type": "display_data"
    }
   ],
   "source": [
    "Data.boxplot(\"new_deaths\")"
   ]
  },
  {
   "cell_type": "code",
   "execution_count": 138,
   "id": "abbcfa1d",
   "metadata": {
    "cell_style": "split"
   },
   "outputs": [
    {
     "data": {
      "text/plain": [
       "<AxesSubplot: >"
      ]
     },
     "execution_count": 138,
     "metadata": {},
     "output_type": "execute_result"
    },
    {
     "data": {
      "image/png": "[encoded data removed]",
      "text/plain": [
       "<Figure size 500x300 with 1 Axes>"
      ]
     },
     "metadata": {},
     "output_type": "display_data"
    }
   ],
   "source": [
    "Data.boxplot(\"population\")"
   ]
  },
  {
   "cell_type": "code",
   "execution_count": 139,
   "id": "UXBcR4c3NkC5",
   "metadata": {
    "cell_style": "split",
    "colab": {
     "base_uri": "https://localhost:8080/",
     "height": 404
    },
    "id": "UXBcR4c3NkC5",
    "outputId": "0d4cde79-2efc-4df1-adb1-9d45fc874695",
    "scrolled": true
   },
   "outputs": [
    {
     "data": {
      "text/plain": [
       "<AxesSubplot: >"
      ]
     },
     "execution_count": 139,
     "metadata": {},
     "output_type": "execute_result"
    },
    {
     "data": {
      "image/png": "[encoded data removed]",
      "text/plain": [
       "<Figure size 500x300 with 1 Axes>"
      ]
     },
     "metadata": {},
     "output_type": "display_data"
    }
   ],
   "source": [
    "Data.boxplot('new_cases')"
   ]
  },
  {
   "cell_type": "code",
   "execution_count": 140,
   "id": "35dbe999",
   "metadata": {
    "cell_style": "split"
   },
   "outputs": [
    {
     "data": {
      "text/plain": [
       "<AxesSubplot: >"
      ]
     },
     "execution_count": 140,
     "metadata": {},
     "output_type": "execute_result"
    },
    {
     "data": {
      "image/png": "[encoded data removed]",
      "text/plain": [
       "<Figure size 500x300 with 1 Axes>"
      ]
     },
     "metadata": {},
     "output_type": "display_data"
    }
   ],
   "source": [
    "Data.boxplot()"
   ]
  },
  {
   "cell_type": "markdown",
   "id": "9ad5b3b6",
   "metadata": {},
   "source": [
    "## Correlation"
   ]
  },
  {
   "cell_type": "code",
   "execution_count": 168,
   "id": "6b6ab8df",
   "metadata": {
    "ExecuteTime": {
     "end_time": "2023-03-27T22:54:12.877185Z",
     "start_time": "2023-03-27T22:54:12.854390Z"
    }
   },
   "outputs": [],
   "source": [
    "Correlation_Data=Data.corr()\n",
    "Correlation_Data.columns=[\"correlation_with_\"+column for column in Numerical_Columns]"
   ]
  },
  {
   "cell_type": "code",
   "execution_count": 169,
   "id": "0300ddaf",
   "metadata": {
    "ExecuteTime": {
     "end_time": "2023-03-27T22:54:13.440538Z",
     "start_time": "2023-03-27T22:54:13.416021Z"
    },
    "scrolled": true
   },
   "outputs": [
    {
     "data": {
      "text/html": [
       "<div>\n",
       "<style scoped>\n",
       "    .dataframe tbody tr th:only-of-type {\n",
       "        vertical-align: middle;\n",
       "    }\n",
       "\n",
       "    .dataframe tbody tr th {\n",
       "        vertical-align: top;\n",
       "    }\n",
       "\n",
       "    .dataframe thead th {\n",
       "        text-align: right;\n",
       "    }\n",
       "</style>\n",
       "<table border=\"1\" class=\"dataframe\">\n",
       "  <thead>\n",
       "    <tr style=\"text-align: right;\">\n",
       "      <th></th>\n",
       "      <th>correlation_with_total_cases</th>\n",
       "      <th>correlation_with_new_cases</th>\n",
       "      <th>correlation_with_total_deaths</th>\n",
       "      <th>correlation_with_new_deaths</th>\n",
       "      <th>correlation_with_population</th>\n",
       "    </tr>\n",
       "  </thead>\n",
       "  <tbody>\n",
       "    <tr>\n",
       "      <th>total_cases</th>\n",
       "      <td>1.000000</td>\n",
       "      <td>-0.143211</td>\n",
       "      <td>0.995245</td>\n",
       "      <td>-0.187658</td>\n",
       "      <td>NaN</td>\n",
       "    </tr>\n",
       "    <tr>\n",
       "      <th>new_cases</th>\n",
       "      <td>-0.143211</td>\n",
       "      <td>1.000000</td>\n",
       "      <td>-0.155673</td>\n",
       "      <td>0.751701</td>\n",
       "      <td>NaN</td>\n",
       "    </tr>\n",
       "    <tr>\n",
       "      <th>total_deaths</th>\n",
       "      <td>0.995245</td>\n",
       "      <td>-0.155673</td>\n",
       "      <td>1.000000</td>\n",
       "      <td>-0.199681</td>\n",
       "      <td>NaN</td>\n",
       "    </tr>\n",
       "    <tr>\n",
       "      <th>new_deaths</th>\n",
       "      <td>-0.187658</td>\n",
       "      <td>0.751701</td>\n",
       "      <td>-0.199681</td>\n",
       "      <td>1.000000</td>\n",
       "      <td>NaN</td>\n",
       "    </tr>\n",
       "    <tr>\n",
       "      <th>population</th>\n",
       "      <td>NaN</td>\n",
       "      <td>NaN</td>\n",
       "      <td>NaN</td>\n",
       "      <td>NaN</td>\n",
       "      <td>NaN</td>\n",
       "    </tr>\n",
       "  </tbody>\n",
       "</table>\n",
       "</div>"
      ],
      "text/plain": [
       "              correlation_with_total_cases  correlation_with_new_cases  \\\n",
       "total_cases                       1.000000                   -0.143211   \n",
       "new_cases                        -0.143211                    1.000000   \n",
       "total_deaths                      0.995245                   -0.155673   \n",
       "new_deaths                       -0.187658                    0.751701   \n",
       "population                             NaN                         NaN   \n",
       "\n",
       "              correlation_with_total_deaths  correlation_with_new_deaths  \\\n",
       "total_cases                        0.995245                    -0.187658   \n",
       "new_cases                         -0.155673                     0.751701   \n",
       "total_deaths                       1.000000                    -0.199681   \n",
       "new_deaths                        -0.199681                     1.000000   \n",
       "population                              NaN                          NaN   \n",
       "\n",
       "              correlation_with_population  \n",
       "total_cases                           NaN  \n",
       "new_cases                             NaN  \n",
       "total_deaths                          NaN  \n",
       "new_deaths                            NaN  \n",
       "population                            NaN  "
      ]
     },
     "execution_count": 169,
     "metadata": {},
     "output_type": "execute_result"
    }
   ],
   "source": [
    "Correlation_Data"
   ]
  },
  {
   "cell_type": "markdown",
   "id": "f2ea1b2c",
   "metadata": {},
   "source": [
    "## Covariance"
   ]
  },
  {
   "cell_type": "code",
   "execution_count": 143,
   "id": "08c51d4a",
   "metadata": {},
   "outputs": [],
   "source": [
    "Covarience_data=Data.cov()\n",
    "Covarience_data.columns=[\"covarience_with_\"+column for column in Numerical_Columns]"
   ]
  },
  {
   "cell_type": "code",
   "execution_count": 144,
   "id": "106ecfa7",
   "metadata": {},
   "outputs": [
    {
     "data": {
      "text/html": [
       "<div>\n",
       "<style scoped>\n",
       "    .dataframe tbody tr th:only-of-type {\n",
       "        vertical-align: middle;\n",
       "    }\n",
       "\n",
       "    .dataframe tbody tr th {\n",
       "        vertical-align: top;\n",
       "    }\n",
       "\n",
       "    .dataframe thead th {\n",
       "        text-align: right;\n",
       "    }\n",
       "</style>\n",
       "<table border=\"1\" class=\"dataframe\">\n",
       "  <thead>\n",
       "    <tr style=\"text-align: right;\">\n",
       "      <th></th>\n",
       "      <th>covarience_with_total_cases</th>\n",
       "      <th>covarience_with_new_cases</th>\n",
       "      <th>covarience_with_total_deaths</th>\n",
       "      <th>covarience_with_new_deaths</th>\n",
       "      <th>covarience_with_population</th>\n",
       "    </tr>\n",
       "  </thead>\n",
       "  <tbody>\n",
       "    <tr>\n",
       "      <th>total_cases</th>\n",
       "      <td>2.929756e+14</td>\n",
       "      <td>-1.777378e+11</td>\n",
       "      <td>3.457765e+12</td>\n",
       "      <td>-2.645995e+09</td>\n",
       "      <td>0.0</td>\n",
       "    </tr>\n",
       "    <tr>\n",
       "      <th>new_cases</th>\n",
       "      <td>-1.777378e+11</td>\n",
       "      <td>5.257448e+09</td>\n",
       "      <td>-2.291135e+09</td>\n",
       "      <td>4.489918e+07</td>\n",
       "      <td>0.0</td>\n",
       "    </tr>\n",
       "    <tr>\n",
       "      <th>total_deaths</th>\n",
       "      <td>3.457765e+12</td>\n",
       "      <td>-2.291135e+09</td>\n",
       "      <td>4.120024e+10</td>\n",
       "      <td>-3.338816e+07</td>\n",
       "      <td>0.0</td>\n",
       "    </tr>\n",
       "    <tr>\n",
       "      <th>new_deaths</th>\n",
       "      <td>-2.645995e+09</td>\n",
       "      <td>4.489918e+07</td>\n",
       "      <td>-3.338816e+07</td>\n",
       "      <td>6.785974e+05</td>\n",
       "      <td>0.0</td>\n",
       "    </tr>\n",
       "    <tr>\n",
       "      <th>population</th>\n",
       "      <td>0.000000e+00</td>\n",
       "      <td>0.000000e+00</td>\n",
       "      <td>0.000000e+00</td>\n",
       "      <td>0.000000e+00</td>\n",
       "      <td>0.0</td>\n",
       "    </tr>\n",
       "  </tbody>\n",
       "</table>\n",
       "</div>"
      ],
      "text/plain": [
       "              covarience_with_total_cases  covarience_with_new_cases  \\\n",
       "total_cases                  2.929756e+14              -1.777378e+11   \n",
       "new_cases                   -1.777378e+11               5.257448e+09   \n",
       "total_deaths                 3.457765e+12              -2.291135e+09   \n",
       "new_deaths                  -2.645995e+09               4.489918e+07   \n",
       "population                   0.000000e+00               0.000000e+00   \n",
       "\n",
       "              covarience_with_total_deaths  covarience_with_new_deaths  \\\n",
       "total_cases                   3.457765e+12               -2.645995e+09   \n",
       "new_cases                    -2.291135e+09                4.489918e+07   \n",
       "total_deaths                  4.120024e+10               -3.338816e+07   \n",
       "new_deaths                   -3.338816e+07                6.785974e+05   \n",
       "population                    0.000000e+00                0.000000e+00   \n",
       "\n",
       "              covarience_with_population  \n",
       "total_cases                          0.0  \n",
       "new_cases                            0.0  \n",
       "total_deaths                         0.0  \n",
       "new_deaths                           0.0  \n",
       "population                           0.0  "
      ]
     },
     "execution_count": 144,
     "metadata": {},
     "output_type": "execute_result"
    }
   ],
   "source": [
    "Covarience_data"
   ]
  },
  {
   "cell_type": "markdown",
   "id": "d6a5eea9",
   "metadata": {
    "cell_style": "split"
   },
   "source": [
    "## Bar Graph"
   ]
  },
  {
   "cell_type": "markdown",
   "id": "2231ab62",
   "metadata": {
    "cell_style": "split"
   },
   "source": [
    "## PieChart"
   ]
  },
  {
   "cell_type": "code",
   "execution_count": 145,
   "id": "786f0331",
   "metadata": {
    "cell_style": "split"
   },
   "outputs": [
    {
     "data": {
      "text/plain": [
       "<AxesSubplot: xlabel='location'>"
      ]
     },
     "execution_count": 145,
     "metadata": {},
     "output_type": "execute_result"
    },
    {
     "data": {
      "image/png": "[encoded data removed]",
      "text/plain": [
       "<Figure size 500x300 with 1 Axes>"
      ]
     },
     "metadata": {},
     "output_type": "display_data"
    }
   ],
   "source": [
    "Data[:20].plot.bar(x='location',y=['population'])"
   ]
  },
  {
   "cell_type": "code",
   "execution_count": 146,
   "id": "8704f15f",
   "metadata": {
    "cell_style": "split",
    "scrolled": false
   },
   "outputs": [
    {
     "data": {
      "image/png": "[encoded data removed]",
      "text/plain": [
       "<Figure size 500x300 with 1 Axes>"
      ]
     },
     "metadata": {},
     "output_type": "display_data"
    }
   ],
   "source": [
    "pyplot.pie(Data[:5]['total_cases'],labels=Data[:5]['location'],autopct='%1.1f%%')\n",
    "pyplot.show()"
   ]
  },
  {
   "cell_type": "markdown",
   "id": "035b5e13",
   "metadata": {},
   "source": [
    "## Line Graph"
   ]
  },
  {
   "cell_type": "code",
   "execution_count": 147,
   "id": "96f9dd6e",
   "metadata": {
    "cell_style": "split"
   },
   "outputs": [
    {
     "data": {
      "text/plain": [
       "<AxesSubplot: xlabel='location'>"
      ]
     },
     "execution_count": 147,
     "metadata": {},
     "output_type": "execute_result"
    },
    {
     "data": {
      "image/png": "[encoded data removed]",
      "text/plain": [
       "<Figure size 500x300 with 1 Axes>"
      ]
     },
     "metadata": {},
     "output_type": "display_data"
    }
   ],
   "source": [
    "Data[:5].plot(kind=\"line\",x='location',y=['new_cases','new_deaths'])"
   ]
  },
  {
   "cell_type": "code",
   "execution_count": 148,
   "id": "68e97ea0",
   "metadata": {
    "cell_style": "split"
   },
   "outputs": [
    {
     "data": {
      "text/plain": [
       "<AxesSubplot: xlabel='location'>"
      ]
     },
     "execution_count": 148,
     "metadata": {},
     "output_type": "execute_result"
    },
    {
     "data": {
      "image/png": "[encoded data removed]",
      "text/plain": [
       "<Figure size 500x300 with 1 Axes>"
      ]
     },
     "metadata": {},
     "output_type": "display_data"
    }
   ],
   "source": [
    "Data[-10:].plot(kind=\"line\",x='location',y=['total_cases','total_deaths'])"
   ]
  },
  {
   "cell_type": "markdown",
   "id": "e8ec0e85",
   "metadata": {},
   "source": [
    "# Gathering All Values Together"
   ]
  },
  {
   "cell_type": "code",
   "execution_count": 149,
   "id": "17f9347e",
   "metadata": {},
   "outputs": [],
   "source": [
    "def GetStatsData(Data:pandas.DataFrame,Numerical_Columns)->pandas.DataFrame:\n",
    "    Statastics_Data=pandas.DataFrame()\n",
    "    Statastics_Data['median']=Data.median()\n",
    "    Statastics_Data['mean']=Data.mean()\n",
    "    Statastics_Data['skew']=Data.skew()\n",
    "    Statastics_Data['kurtosis']=Data.kurtosis()\n",
    "    Statastics_Data['first_quartile']=Data.quantile(0.25)\n",
    "    Statastics_Data['third_quartile']=Data.quantile(0.75)\n",
    "    Inter_quartile_range=Data.quantile(0.75)-Data.quantile(0.25)\n",
    "    Statastics_Data['inter_quartile_range']=Inter_quartile_range\n",
    "    Statastics_Data['min']=Data.min()[len(Numerical_Columns)-1:]\n",
    "    Statastics_Data['max']=Data.max()[len(Numerical_Columns)-1:]\n",
    "    Statastics_Data['harmonic_mean']=[\n",
    "    statistics.harmonic_mean(Data[Numerical_Columns[i]]) for i in range(len(Numerical_Columns))\n",
    "    ]"
   ]
  },
  {
   "cell_type": "code",
   "execution_count": 150,
   "id": "rmhgtM2OQsU1",
   "metadata": {
    "cell_style": "split",
    "id": "rmhgtM2OQsU1"
   },
   "outputs": [],
   "source": [
    "Statastics_Data=pandas.DataFrame()"
   ]
  },
  {
   "cell_type": "code",
   "execution_count": 151,
   "id": "vuEzrOAeS-Fv",
   "metadata": {
    "cell_style": "split",
    "colab": {
     "base_uri": "https://localhost:8080/"
    },
    "id": "vuEzrOAeS-Fv",
    "outputId": "eb682829-6cb9-4a92-e534-3081d0d2ae01"
   },
   "outputs": [],
   "source": [
    "Statastics_Data['mean']=Data.mean()"
   ]
  },
  {
   "cell_type": "code",
   "execution_count": 152,
   "id": "0dU1aIvFTM7B",
   "metadata": {
    "cell_style": "split",
    "colab": {
     "base_uri": "https://localhost:8080/"
    },
    "id": "0dU1aIvFTM7B",
    "outputId": "9dc0439b-6872-429c-f2be-70835b782e1a"
   },
   "outputs": [],
   "source": [
    "Statastics_Data['median']=Data.median()"
   ]
  },
  {
   "cell_type": "code",
   "execution_count": 153,
   "id": "zYsJbWaFTNDp",
   "metadata": {
    "cell_style": "split",
    "colab": {
     "base_uri": "https://localhost:8080/"
    },
    "id": "zYsJbWaFTNDp",
    "outputId": "ffc26fea-2666-4043-f2d0-e4ad7b1b2fc1"
   },
   "outputs": [],
   "source": [
    "Statastics_Data['skew']=Data.skew()"
   ]
  },
  {
   "cell_type": "code",
   "execution_count": 154,
   "id": "vSu33__JT-OG",
   "metadata": {
    "cell_style": "split",
    "colab": {
     "base_uri": "https://localhost:8080/"
    },
    "id": "vSu33__JT-OG",
    "outputId": "30927b7d-e2aa-449c-ceb3-3ed4da48762b"
   },
   "outputs": [],
   "source": [
    "Statastics_Data['kurtosis']=Data.kurtosis()"
   ]
  },
  {
   "cell_type": "code",
   "execution_count": 155,
   "id": "jzHH93R0UGNf",
   "metadata": {
    "cell_style": "split",
    "id": "jzHH93R0UGNf"
   },
   "outputs": [],
   "source": [
    "Statastics_Data['first_quartile']=Data.quantile(0.25)"
   ]
  },
  {
   "cell_type": "code",
   "execution_count": 156,
   "id": "S9ziN75_UGTU",
   "metadata": {
    "cell_style": "split",
    "id": "S9ziN75_UGTU"
   },
   "outputs": [],
   "source": [
    "Statastics_Data['third_quartile']=Data.quantile(0.75)"
   ]
  },
  {
   "cell_type": "code",
   "execution_count": 157,
   "id": "_CHdU3SUUGZD",
   "metadata": {
    "cell_style": "split",
    "id": "_CHdU3SUUGZD"
   },
   "outputs": [],
   "source": [
    "Statastics_Data['inter_quartile_range']=Inter_quartile_range"
   ]
  },
  {
   "cell_type": "code",
   "execution_count": 158,
   "id": "jmiAcRdzU2wL",
   "metadata": {
    "cell_style": "split",
    "id": "jmiAcRdzU2wL"
   },
   "outputs": [],
   "source": [
    "Statastics_Data['max']=Data.max()[len(Numerical_Columns)-1:]"
   ]
  },
  {
   "cell_type": "code",
   "execution_count": 159,
   "id": "-w2a4KtoU21q",
   "metadata": {
    "cell_style": "split",
    "id": "-w2a4KtoU21q"
   },
   "outputs": [],
   "source": [
    "Statastics_Data['min']=Data.min()[len(Numerical_Columns)-1:]"
   ]
  },
  {
   "cell_type": "code",
   "execution_count": 160,
   "id": "KLFElD_2WDXL",
   "metadata": {
    "cell_style": "split",
    "id": "KLFElD_2WDXL"
   },
   "outputs": [],
   "source": [
    "Statastics_Data['harmonic_mean']=[\n",
    "statistics.harmonic_mean(Data[Numerical_Columns[i]]) for i in range(len(Numerical_Columns))\n",
    "]"
   ]
  },
  {
   "cell_type": "code",
   "execution_count": 161,
   "id": "20fGpBk-WDdc",
   "metadata": {
    "cell_style": "split",
    "colab": {
     "base_uri": "https://localhost:8080/"
    },
    "id": "20fGpBk-WDdc",
    "outputId": "61735c83-c4ab-484a-c81d-de119d260b97"
   },
   "outputs": [],
   "source": [
    "Statastics_Data['geometric_mean']=[\n",
    "scipy.stats.mstats.gmean(Data[Numerical_Columns[i]])  for i in range(len(Numerical_Columns))\n",
    "]"
   ]
  },
  {
   "cell_type": "code",
   "execution_count": 162,
   "id": "77130922",
   "metadata": {
    "cell_style": "center"
   },
   "outputs": [],
   "source": [
    "Statastics_Data=pandas.concat([Statastics_Data,Correlation_Data,Covarience_data],axis=1)"
   ]
  },
  {
   "cell_type": "code",
   "execution_count": 163,
   "id": "pBNoYFXRTHGD",
   "metadata": {
    "colab": {
     "base_uri": "https://localhost:8080/",
     "height": 207
    },
    "id": "pBNoYFXRTHGD",
    "outputId": "0958d51c-b4b1-4384-a94e-3f94c6e3745a"
   },
   "outputs": [
    {
     "data": {
      "text/html": [
       "<div>\n",
       "<style scoped>\n",
       "    .dataframe tbody tr th:only-of-type {\n",
       "        vertical-align: middle;\n",
       "    }\n",
       "\n",
       "    .dataframe tbody tr th {\n",
       "        vertical-align: top;\n",
       "    }\n",
       "\n",
       "    .dataframe thead th {\n",
       "        text-align: right;\n",
       "    }\n",
       "</style>\n",
       "<table border=\"1\" class=\"dataframe\">\n",
       "  <thead>\n",
       "    <tr style=\"text-align: right;\">\n",
       "      <th></th>\n",
       "      <th>mean</th>\n",
       "      <th>median</th>\n",
       "      <th>skew</th>\n",
       "      <th>kurtosis</th>\n",
       "      <th>first_quartile</th>\n",
       "      <th>third_quartile</th>\n",
       "      <th>inter_quartile_range</th>\n",
       "      <th>max</th>\n",
       "      <th>min</th>\n",
       "      <th>harmonic_mean</th>\n",
       "      <th>...</th>\n",
       "      <th>correlation_with_total_cases</th>\n",
       "      <th>correlation_with_new_cases</th>\n",
       "      <th>correlation_with_total_deaths</th>\n",
       "      <th>correlation_with_new_deaths</th>\n",
       "      <th>correlation_with_population</th>\n",
       "      <th>covarience_with_total_cases</th>\n",
       "      <th>covarience_with_new_cases</th>\n",
       "      <th>covarience_with_total_deaths</th>\n",
       "      <th>covarience_with_new_deaths</th>\n",
       "      <th>covarience_with_population</th>\n",
       "    </tr>\n",
       "  </thead>\n",
       "  <tbody>\n",
       "    <tr>\n",
       "      <th>total_cases</th>\n",
       "      <td>2.681602e+07</td>\n",
       "      <td>3.331676e+07</td>\n",
       "      <td>-0.392029</td>\n",
       "      <td>-1.512429</td>\n",
       "      <td>9.870564e+06</td>\n",
       "      <td>4.327718e+07</td>\n",
       "      <td>33406620.5</td>\n",
       "      <td>44696984.0</td>\n",
       "      <td>81.0</td>\n",
       "      <td>1.217403e+04</td>\n",
       "      <td>...</td>\n",
       "      <td>1.000000</td>\n",
       "      <td>-0.143211</td>\n",
       "      <td>0.995245</td>\n",
       "      <td>-0.187658</td>\n",
       "      <td>NaN</td>\n",
       "      <td>2.929756e+14</td>\n",
       "      <td>-1.777378e+11</td>\n",
       "      <td>3.457765e+12</td>\n",
       "      <td>-2.645995e+09</td>\n",
       "      <td>0.0</td>\n",
       "    </tr>\n",
       "    <tr>\n",
       "      <th>new_cases</th>\n",
       "      <td>4.052372e+04</td>\n",
       "      <td>1.454500e+04</td>\n",
       "      <td>3.126835</td>\n",
       "      <td>9.981665</td>\n",
       "      <td>2.681500e+03</td>\n",
       "      <td>4.307650e+04</td>\n",
       "      <td>40395.0</td>\n",
       "      <td>414188.0</td>\n",
       "      <td>3.0</td>\n",
       "      <td>5.906948e+02</td>\n",
       "      <td>...</td>\n",
       "      <td>-0.143211</td>\n",
       "      <td>1.000000</td>\n",
       "      <td>-0.155673</td>\n",
       "      <td>0.751701</td>\n",
       "      <td>NaN</td>\n",
       "      <td>-1.777378e+11</td>\n",
       "      <td>5.257448e+09</td>\n",
       "      <td>-2.291135e+09</td>\n",
       "      <td>4.489918e+07</td>\n",
       "      <td>0.0</td>\n",
       "    </tr>\n",
       "    <tr>\n",
       "      <th>total_deaths</th>\n",
       "      <td>3.356652e+05</td>\n",
       "      <td>4.434970e+05</td>\n",
       "      <td>-0.481730</td>\n",
       "      <td>-1.482979</td>\n",
       "      <td>1.431870e+05</td>\n",
       "      <td>5.248285e+05</td>\n",
       "      <td>381641.5</td>\n",
       "      <td>530808.0</td>\n",
       "      <td>1.0</td>\n",
       "      <td>2.267365e+02</td>\n",
       "      <td>...</td>\n",
       "      <td>0.995245</td>\n",
       "      <td>-0.155673</td>\n",
       "      <td>1.000000</td>\n",
       "      <td>-0.199681</td>\n",
       "      <td>NaN</td>\n",
       "      <td>3.457765e+12</td>\n",
       "      <td>-2.291135e+09</td>\n",
       "      <td>4.120024e+10</td>\n",
       "      <td>-3.338816e+07</td>\n",
       "      <td>0.0</td>\n",
       "    </tr>\n",
       "    <tr>\n",
       "      <th>new_deaths</th>\n",
       "      <td>4.812393e+02</td>\n",
       "      <td>2.020000e+02</td>\n",
       "      <td>3.180316</td>\n",
       "      <td>10.880589</td>\n",
       "      <td>2.700000e+01</td>\n",
       "      <td>5.260000e+02</td>\n",
       "      <td>499.0</td>\n",
       "      <td>6148.0</td>\n",
       "      <td>0.0</td>\n",
       "      <td>0.000000e+00</td>\n",
       "      <td>...</td>\n",
       "      <td>-0.187658</td>\n",
       "      <td>0.751701</td>\n",
       "      <td>-0.199681</td>\n",
       "      <td>1.000000</td>\n",
       "      <td>NaN</td>\n",
       "      <td>-2.645995e+09</td>\n",
       "      <td>4.489918e+07</td>\n",
       "      <td>-3.338816e+07</td>\n",
       "      <td>6.785974e+05</td>\n",
       "      <td>0.0</td>\n",
       "    </tr>\n",
       "    <tr>\n",
       "      <th>population</th>\n",
       "      <td>1.417173e+09</td>\n",
       "      <td>1.417173e+09</td>\n",
       "      <td>0.000000</td>\n",
       "      <td>0.000000</td>\n",
       "      <td>1.417173e+09</td>\n",
       "      <td>1.417173e+09</td>\n",
       "      <td>0.0</td>\n",
       "      <td>1417173120.0</td>\n",
       "      <td>1417173120.0</td>\n",
       "      <td>1.417173e+09</td>\n",
       "      <td>...</td>\n",
       "      <td>NaN</td>\n",
       "      <td>NaN</td>\n",
       "      <td>NaN</td>\n",
       "      <td>NaN</td>\n",
       "      <td>NaN</td>\n",
       "      <td>0.000000e+00</td>\n",
       "      <td>0.000000e+00</td>\n",
       "      <td>0.000000e+00</td>\n",
       "      <td>0.000000e+00</td>\n",
       "      <td>0.0</td>\n",
       "    </tr>\n",
       "  </tbody>\n",
       "</table>\n",
       "<p>5 rows × 21 columns</p>\n",
       "</div>"
      ],
      "text/plain": [
       "                      mean        median      skew   kurtosis  first_quartile  \\\n",
       "total_cases   2.681602e+07  3.331676e+07 -0.392029  -1.512429    9.870564e+06   \n",
       "new_cases     4.052372e+04  1.454500e+04  3.126835   9.981665    2.681500e+03   \n",
       "total_deaths  3.356652e+05  4.434970e+05 -0.481730  -1.482979    1.431870e+05   \n",
       "new_deaths    4.812393e+02  2.020000e+02  3.180316  10.880589    2.700000e+01   \n",
       "population    1.417173e+09  1.417173e+09  0.000000   0.000000    1.417173e+09   \n",
       "\n",
       "              third_quartile  inter_quartile_range           max  \\\n",
       "total_cases     4.327718e+07            33406620.5    44696984.0   \n",
       "new_cases       4.307650e+04               40395.0      414188.0   \n",
       "total_deaths    5.248285e+05              381641.5      530808.0   \n",
       "new_deaths      5.260000e+02                 499.0        6148.0   \n",
       "population      1.417173e+09                   0.0  1417173120.0   \n",
       "\n",
       "                       min  harmonic_mean  ...  correlation_with_total_cases  \\\n",
       "total_cases           81.0   1.217403e+04  ...                      1.000000   \n",
       "new_cases              3.0   5.906948e+02  ...                     -0.143211   \n",
       "total_deaths           1.0   2.267365e+02  ...                      0.995245   \n",
       "new_deaths             0.0   0.000000e+00  ...                     -0.187658   \n",
       "population    1417173120.0   1.417173e+09  ...                           NaN   \n",
       "\n",
       "              correlation_with_new_cases  correlation_with_total_deaths  \\\n",
       "total_cases                    -0.143211                       0.995245   \n",
       "new_cases                       1.000000                      -0.155673   \n",
       "total_deaths                   -0.155673                       1.000000   \n",
       "new_deaths                      0.751701                      -0.199681   \n",
       "population                           NaN                            NaN   \n",
       "\n",
       "              correlation_with_new_deaths  correlation_with_population  \\\n",
       "total_cases                     -0.187658                          NaN   \n",
       "new_cases                        0.751701                          NaN   \n",
       "total_deaths                    -0.199681                          NaN   \n",
       "new_deaths                       1.000000                          NaN   \n",
       "population                            NaN                          NaN   \n",
       "\n",
       "              covarience_with_total_cases  covarience_with_new_cases  \\\n",
       "total_cases                  2.929756e+14              -1.777378e+11   \n",
       "new_cases                   -1.777378e+11               5.257448e+09   \n",
       "total_deaths                 3.457765e+12              -2.291135e+09   \n",
       "new_deaths                  -2.645995e+09               4.489918e+07   \n",
       "population                   0.000000e+00               0.000000e+00   \n",
       "\n",
       "              covarience_with_total_deaths  covarience_with_new_deaths  \\\n",
       "total_cases                   3.457765e+12               -2.645995e+09   \n",
       "new_cases                    -2.291135e+09                4.489918e+07   \n",
       "total_deaths                  4.120024e+10               -3.338816e+07   \n",
       "new_deaths                   -3.338816e+07                6.785974e+05   \n",
       "population                    0.000000e+00                0.000000e+00   \n",
       "\n",
       "              covarience_with_population  \n",
       "total_cases                          0.0  \n",
       "new_cases                            0.0  \n",
       "total_deaths                         0.0  \n",
       "new_deaths                           0.0  \n",
       "population                           0.0  \n",
       "\n",
       "[5 rows x 21 columns]"
      ]
     },
     "execution_count": 163,
     "metadata": {},
     "output_type": "execute_result"
    }
   ],
   "source": [
    "Statastics_Data"
   ]
  },
  {
   "cell_type": "code",
   "execution_count": 164,
   "id": "bc0ba11c",
   "metadata": {
    "cell_style": "split"
   },
   "outputs": [
    {
     "name": "stdout",
     "output_type": "stream",
     "text": [
      "<class 'pandas.core.frame.DataFrame'>\n",
      "Index: 5 entries, total_cases to population\n",
      "Data columns (total 21 columns):\n",
      " #   Column                         Non-Null Count  Dtype  \n",
      "---  ------                         --------------  -----  \n",
      " 0   mean                           5 non-null      float64\n",
      " 1   median                         5 non-null      float64\n",
      " 2   skew                           5 non-null      float64\n",
      " 3   kurtosis                       5 non-null      float64\n",
      " 4   first_quartile                 5 non-null      float64\n",
      " 5   third_quartile                 5 non-null      float64\n",
      " 6   inter_quartile_range           5 non-null      float64\n",
      " 7   max                            5 non-null      object \n",
      " 8   min                            5 non-null      object \n",
      " 9   harmonic_mean                  5 non-null      float64\n",
      " 10  geometric_mean                 5 non-null      float64\n",
      " 11  correlation_with_total_cases   4 non-null      float64\n",
      " 12  correlation_with_new_cases     4 non-null      float64\n",
      " 13  correlation_with_total_deaths  4 non-null      float64\n",
      " 14  correlation_with_new_deaths    4 non-null      float64\n",
      " 15  correlation_with_population    0 non-null      float64\n",
      " 16  covarience_with_total_cases    5 non-null      float64\n",
      " 17  covarience_with_new_cases      5 non-null      float64\n",
      " 18  covarience_with_total_deaths   5 non-null      float64\n",
      " 19  covarience_with_new_deaths     5 non-null      float64\n",
      " 20  covarience_with_population     5 non-null      float64\n",
      "dtypes: float64(19), object(2)\n",
      "memory usage: 880.0+ bytes\n"
     ]
    }
   ],
   "source": [
    "Statastics_Data.info()"
   ]
  },
  {
   "cell_type": "code",
   "execution_count": 165,
   "id": "Mfg1NDsHXU95",
   "metadata": {
    "cell_style": "split",
    "id": "Mfg1NDsHXU95"
   },
   "outputs": [
    {
     "data": {
      "text/plain": [
       "mean                                    40523.717135\n",
       "median                                       14545.0\n",
       "skew                                        3.126835\n",
       "kurtosis                                    9.981665\n",
       "first_quartile                                2681.5\n",
       "third_quartile                               43076.5\n",
       "inter_quartile_range                         40395.0\n",
       "max                                         414188.0\n",
       "min                                              3.0\n",
       "harmonic_mean                              590.69478\n",
       "geometric_mean                           9456.344776\n",
       "correlation_with_total_cases               -0.143211\n",
       "correlation_with_new_cases                       1.0\n",
       "correlation_with_total_deaths              -0.155673\n",
       "correlation_with_new_deaths                 0.751701\n",
       "correlation_with_population                      NaN\n",
       "covarience_with_total_cases     -177737760299.296478\n",
       "covarience_with_new_cases          5257447921.518825\n",
       "covarience_with_total_deaths      -2291135182.756865\n",
       "covarience_with_new_deaths           44899182.534189\n",
       "covarience_with_population                       0.0\n",
       "Name: new_cases, dtype: object"
      ]
     },
     "execution_count": 165,
     "metadata": {},
     "output_type": "execute_result"
    }
   ],
   "source": [
    "Statastics_Data.iloc[1,:]"
   ]
  },
  {
   "cell_type": "code",
   "execution_count": 166,
   "id": "Oms9uq_OXgUa",
   "metadata": {
    "cell_style": "split",
    "colab": {
     "base_uri": "https://localhost:8080/"
    },
    "id": "Oms9uq_OXgUa",
    "outputId": "64f7abf4-0bfa-4622-e287-1a39a2bf6cab"
   },
   "outputs": [
    {
     "data": {
      "text/plain": [
       "['mean',\n",
       " 'median',\n",
       " 'skew',\n",
       " 'kurtosis',\n",
       " 'first_quartile',\n",
       " 'third_quartile',\n",
       " 'inter_quartile_range',\n",
       " 'max',\n",
       " 'min',\n",
       " 'harmonic_mean',\n",
       " 'geometric_mean']"
      ]
     },
     "execution_count": 166,
     "metadata": {},
     "output_type": "execute_result"
    }
   ],
   "source": [
    "list(Statastics_Data)[:11]"
   ]
  },
  {
   "cell_type": "code",
   "execution_count": 172,
   "id": "Z4PAJYOdTIhf",
   "metadata": {
    "ExecuteTime": {
     "end_time": "2023-03-27T22:56:37.989773Z",
     "start_time": "2023-03-27T22:56:37.541229Z"
    },
    "cell_style": "center",
    "colab": {
     "base_uri": "https://localhost:8080/",
     "height": 294
    },
    "id": "Z4PAJYOdTIhf",
    "outputId": "beb82c23-bc55-4673-9dd1-6dc53a31a76b"
   },
   "outputs": [
    {
     "data": {
      "text/plain": [
       "<AxesSubplot: >"
      ]
     },
     "execution_count": 172,
     "metadata": {},
     "output_type": "execute_result"
    },
    {
     "data": {
      "image/png": "[encoded data removed]",
      "text/plain": [
       "<Figure size 1500x1200 with 1 Axes>"
      ]
     },
     "metadata": {},
     "output_type": "display_data"
    }
   ],
   "source": [
    "Statastics_Data.iloc[1,:11].plot()"
   ]
  },
  {
   "cell_type": "code",
   "execution_count": null,
   "id": "3897253e",
   "metadata": {},
   "outputs": [],
   "source": []
  }
 ],
 "metadata": {
  "colab": {
   "provenance": []
  },
  "hide_input": false,
  "kernelspec": {
   "display_name": "Python 3 (ipykernel)",
   "language": "python",
   "name": "python3"
  },
  "language_info": {
   "codemirror_mode": {
    "name": "ipython",
    "version": 3
   },
   "file_extension": ".py",
   "mimetype": "text/x-python",
   "name": "python",
   "nbconvert_exporter": "python",
   "pygments_lexer": "ipython3",
   "version": "3.10.8"
  },
  "toc": {
   "base_numbering": 1,
   "nav_menu": {
    "height": "485px",
    "width": "485px"
   },
   "number_sections": true,
   "sideBar": true,
   "skip_h1_title": false,
   "title_cell": "Table of Contents",
   "title_sidebar": "Contents",
   "toc_cell": false,
   "toc_position": {
    "height": "calc(100% - 180px)",
    "left": "10px",
    "top": "150px",
    "width": "300.594px"
   },
   "toc_section_display": true,
   "toc_window_display": true
  }
 },
 "nbformat": 4,
 "nbformat_minor": 5
}
