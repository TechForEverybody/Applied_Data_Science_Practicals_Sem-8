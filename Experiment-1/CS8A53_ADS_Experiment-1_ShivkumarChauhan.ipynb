{
 "cells": [
  {
   "cell_type": "markdown",
   "id": "b4c316b0",
   "metadata": {
    "deletable": false,
    "editable": false,
    "run_control": {
     "frozen": true
    },
    "slideshow": {
     "slide_type": "-"
    }
   },
   "source": [
    "## Name: Shivkumar G. Chauhan\n",
    "### Roll No.: CS8A53\n",
    "### Batch A-3\n",
    "---\n",
    "# Experiment - 1 : Explore the descriptive statistics on the dataset."
   ]
  },
  {
   "cell_type": "markdown",
   "id": "ff133017",
   "metadata": {
    "slideshow": {
     "slide_type": "-"
    }
   },
   "source": [
    "## imports"
   ]
  },
  {
   "cell_type": "code",
   "execution_count": 122,
   "id": "IAN0ukSrIjTp",
   "metadata": {
    "ExecuteTime": {
     "end_time": "2023-02-17T17:55:07.464621Z",
     "start_time": "2023-02-17T17:55:07.427585Z"
    },
    "id": "IAN0ukSrIjTp",
    "init_cell": true
   },
   "outputs": [],
   "source": [
    "import pandas\n",
    "import numpy\n",
    "import statistics\n",
    "import scipy.stats\n",
    "import matplotlib.pyplot as pyplot\n",
    "import warnings"
   ]
  },
  {
   "cell_type": "markdown",
   "id": "7ac9c7a3",
   "metadata": {},
   "source": [
    "## Configurations"
   ]
  },
  {
   "cell_type": "code",
   "execution_count": 123,
   "id": "a73b3d79",
   "metadata": {
    "ExecuteTime": {
     "end_time": "2023-02-17T17:55:07.480247Z",
     "start_time": "2023-02-17T17:55:07.464621Z"
    },
    "cell_style": "split",
    "init_cell": true
   },
   "outputs": [],
   "source": [
    "# %matplotlib qt\n",
    "%matplotlib inline\n",
    "pyplot.rcParams[\"figure.figsize\"] = (5, 3)"
   ]
  },
  {
   "cell_type": "code",
   "execution_count": 124,
   "id": "0c83763b",
   "metadata": {
    "ExecuteTime": {
     "end_time": "2023-02-17T17:55:07.495868Z",
     "start_time": "2023-02-17T17:55:07.480247Z"
    },
    "cell_style": "split",
    "init_cell": true
   },
   "outputs": [],
   "source": [
    "warnings.filterwarnings('ignore')"
   ]
  },
  {
   "cell_type": "code",
   "execution_count": 125,
   "id": "4AnwaYobJBtV",
   "metadata": {
    "ExecuteTime": {
     "end_time": "2023-02-17T17:55:07.511534Z",
     "start_time": "2023-02-17T17:55:07.495868Z"
    },
    "cell_style": "center",
    "id": "4AnwaYobJBtV",
    "init_cell": true
   },
   "outputs": [],
   "source": [
    "Data=pandas.read_csv(\"../Data/Raw_Data/16_01_2023_WorldWide.csv\")"
   ]
  },
  {
   "cell_type": "code",
   "execution_count": 126,
   "id": "3sH7227XPMgG",
   "metadata": {
    "ExecuteTime": {
     "end_time": "2023-02-17T17:55:07.527119Z",
     "start_time": "2023-02-17T17:55:07.511534Z"
    },
    "cell_style": "split",
    "id": "3sH7227XPMgG",
    "init_cell": true
   },
   "outputs": [],
   "source": [
    "Selected_Columns=['iso_code', 'continent', 'location', 'last_updated_date', 'total_cases',\n",
    "       'new_cases', 'total_deaths', 'new_deaths','population']"
   ]
  },
  {
   "cell_type": "code",
   "execution_count": 127,
   "id": "WWIrYcpvKJok",
   "metadata": {
    "ExecuteTime": {
     "end_time": "2023-02-17T17:55:07.542782Z",
     "start_time": "2023-02-17T17:55:07.527119Z"
    },
    "cell_style": "split",
    "id": "WWIrYcpvKJok",
    "init_cell": true
   },
   "outputs": [],
   "source": [
    "Data=Data[Selected_Columns]"
   ]
  },
  {
   "cell_type": "code",
   "execution_count": 128,
   "id": "mhZB4KmKMuYf",
   "metadata": {
    "ExecuteTime": {
     "end_time": "2023-02-17T17:55:07.574032Z",
     "start_time": "2023-02-17T17:55:07.542782Z"
    },
    "cell_style": "split",
    "id": "mhZB4KmKMuYf",
    "init_cell": true
   },
   "outputs": [],
   "source": [
    "Numerical_Columns=Data.describe().columns"
   ]
  },
  {
   "cell_type": "code",
   "execution_count": 129,
   "id": "071c4a7f",
   "metadata": {
    "ExecuteTime": {
     "end_time": "2023-02-17T17:55:07.589623Z",
     "start_time": "2023-02-17T17:55:07.574032Z"
    },
    "cell_style": "center",
    "init_cell": true
   },
   "outputs": [],
   "source": [
    "Data=Data.sort_values(by=\"total_cases\",ascending=False)"
   ]
  },
  {
   "cell_type": "markdown",
   "id": "c1b7a7d9",
   "metadata": {},
   "source": [
    "# Data Exploration"
   ]
  },
  {
   "cell_type": "markdown",
   "id": "a4a7145f",
   "metadata": {},
   "source": [
    "## Initial lookup"
   ]
  },
  {
   "cell_type": "code",
   "execution_count": 105,
   "id": "_Zi5ePSBJvCq",
   "metadata": {
    "colab": {
     "base_uri": "https://localhost:8080/",
     "height": 506
    },
    "id": "_Zi5ePSBJvCq",
    "outputId": "7c579aff-1e3e-4cca-b4d9-9b97f6173628"
   },
   "outputs": [
    {
     "data": {
      "text/html": [
       "<div>\n",
       "<style scoped>\n",
       "    .dataframe tbody tr th:only-of-type {\n",
       "        vertical-align: middle;\n",
       "    }\n",
       "\n",
       "    .dataframe tbody tr th {\n",
       "        vertical-align: top;\n",
       "    }\n",
       "\n",
       "    .dataframe thead th {\n",
       "        text-align: right;\n",
       "    }\n",
       "</style>\n",
       "<table border=\"1\" class=\"dataframe\">\n",
       "  <thead>\n",
       "    <tr style=\"text-align: right;\">\n",
       "      <th></th>\n",
       "      <th>iso_code</th>\n",
       "      <th>continent</th>\n",
       "      <th>location</th>\n",
       "      <th>last_updated_date</th>\n",
       "      <th>total_cases</th>\n",
       "      <th>new_cases</th>\n",
       "      <th>total_deaths</th>\n",
       "      <th>new_deaths</th>\n",
       "      <th>population</th>\n",
       "    </tr>\n",
       "  </thead>\n",
       "  <tbody>\n",
       "    <tr>\n",
       "      <th>233</th>\n",
       "      <td>OWID_WRL</td>\n",
       "      <td>NaN</td>\n",
       "      <td>World</td>\n",
       "      <td>2023-01-16</td>\n",
       "      <td>666879519.0</td>\n",
       "      <td>195295.0</td>\n",
       "      <td>6723297.0</td>\n",
       "      <td>814.0</td>\n",
       "      <td>7.975105e+09</td>\n",
       "    </tr>\n",
       "    <tr>\n",
       "      <th>91</th>\n",
       "      <td>OWID_HIC</td>\n",
       "      <td>NaN</td>\n",
       "      <td>High income</td>\n",
       "      <td>2023-01-16</td>\n",
       "      <td>423860182.0</td>\n",
       "      <td>177208.0</td>\n",
       "      <td>2813965.0</td>\n",
       "      <td>618.0</td>\n",
       "      <td>1.250515e+09</td>\n",
       "    </tr>\n",
       "    <tr>\n",
       "      <th>69</th>\n",
       "      <td>OWID_EUR</td>\n",
       "      <td>NaN</td>\n",
       "      <td>Europe</td>\n",
       "      <td>2023-01-15</td>\n",
       "      <td>245913988.0</td>\n",
       "      <td>7266.0</td>\n",
       "      <td>2012174.0</td>\n",
       "      <td>64.0</td>\n",
       "      <td>7.448078e+08</td>\n",
       "    </tr>\n",
       "    <tr>\n",
       "      <th>11</th>\n",
       "      <td>OWID_ASI</td>\n",
       "      <td>NaN</td>\n",
       "      <td>Asia</td>\n",
       "      <td>2023-01-16</td>\n",
       "      <td>207134786.0</td>\n",
       "      <td>151942.0</td>\n",
       "      <td>1526561.0</td>\n",
       "      <td>576.0</td>\n",
       "      <td>4.721383e+09</td>\n",
       "    </tr>\n",
       "    <tr>\n",
       "      <th>70</th>\n",
       "      <td>OWID_EUN</td>\n",
       "      <td>NaN</td>\n",
       "      <td>European Union</td>\n",
       "      <td>2023-01-15</td>\n",
       "      <td>182467840.0</td>\n",
       "      <td>1981.0</td>\n",
       "      <td>1199738.0</td>\n",
       "      <td>13.0</td>\n",
       "      <td>4.501468e+08</td>\n",
       "    </tr>\n",
       "  </tbody>\n",
       "</table>\n",
       "</div>"
      ],
      "text/plain": [
       "     iso_code continent        location last_updated_date  total_cases  \\\n",
       "233  OWID_WRL       NaN           World        2023-01-16  666879519.0   \n",
       "91   OWID_HIC       NaN     High income        2023-01-16  423860182.0   \n",
       "69   OWID_EUR       NaN          Europe        2023-01-15  245913988.0   \n",
       "11   OWID_ASI       NaN            Asia        2023-01-16  207134786.0   \n",
       "70   OWID_EUN       NaN  European Union        2023-01-15  182467840.0   \n",
       "\n",
       "     new_cases  total_deaths  new_deaths    population  \n",
       "233   195295.0     6723297.0       814.0  7.975105e+09  \n",
       "91    177208.0     2813965.0       618.0  1.250515e+09  \n",
       "69      7266.0     2012174.0        64.0  7.448078e+08  \n",
       "11    151942.0     1526561.0       576.0  4.721383e+09  \n",
       "70      1981.0     1199738.0        13.0  4.501468e+08  "
      ]
     },
     "execution_count": 105,
     "metadata": {},
     "output_type": "execute_result"
    }
   ],
   "source": [
    "Data.head()"
   ]
  },
  {
   "cell_type": "code",
   "execution_count": 12,
   "id": "hPqDMhJwJ5AS",
   "metadata": {
    "cell_style": "split",
    "colab": {
     "base_uri": "https://localhost:8080/"
    },
    "id": "hPqDMhJwJ5AS",
    "outputId": "576b8564-3ab1-47b0-f232-538e2c3bfaee"
   },
   "outputs": [
    {
     "name": "stdout",
     "output_type": "stream",
     "text": [
      "<class 'pandas.core.frame.DataFrame'>\n",
      "Int64Index: 237 entries, 233 to 231\n",
      "Data columns (total 9 columns):\n",
      " #   Column             Non-Null Count  Dtype  \n",
      "---  ------             --------------  -----  \n",
      " 0   iso_code           237 non-null    object \n",
      " 1   continent          224 non-null    object \n",
      " 2   location           237 non-null    object \n",
      " 3   last_updated_date  237 non-null    object \n",
      " 4   total_cases        231 non-null    float64\n",
      " 5   new_cases          231 non-null    float64\n",
      " 6   total_deaths       227 non-null    float64\n",
      " 7   new_deaths         227 non-null    float64\n",
      " 8   population         236 non-null    float64\n",
      "dtypes: float64(5), object(4)\n",
      "memory usage: 18.5+ KB\n"
     ]
    }
   ],
   "source": [
    "Data.info()"
   ]
  },
  {
   "cell_type": "code",
   "execution_count": 13,
   "id": "mHJMSYJrKDbU",
   "metadata": {
    "cell_style": "split",
    "colab": {
     "base_uri": "https://localhost:8080/",
     "height": 365
    },
    "id": "mHJMSYJrKDbU",
    "outputId": "2f7803b4-b6b3-45a9-ac1a-2849dc5e1235"
   },
   "outputs": [
    {
     "data": {
      "text/html": [
       "<div>\n",
       "<style scoped>\n",
       "    .dataframe tbody tr th:only-of-type {\n",
       "        vertical-align: middle;\n",
       "    }\n",
       "\n",
       "    .dataframe tbody tr th {\n",
       "        vertical-align: top;\n",
       "    }\n",
       "\n",
       "    .dataframe thead th {\n",
       "        text-align: right;\n",
       "    }\n",
       "</style>\n",
       "<table border=\"1\" class=\"dataframe\">\n",
       "  <thead>\n",
       "    <tr style=\"text-align: right;\">\n",
       "      <th></th>\n",
       "      <th>total_cases</th>\n",
       "      <th>new_cases</th>\n",
       "      <th>total_deaths</th>\n",
       "      <th>new_deaths</th>\n",
       "      <th>population</th>\n",
       "    </tr>\n",
       "  </thead>\n",
       "  <tbody>\n",
       "    <tr>\n",
       "      <th>count</th>\n",
       "      <td>2.310000e+02</td>\n",
       "      <td>231.000000</td>\n",
       "      <td>2.270000e+02</td>\n",
       "      <td>227.000000</td>\n",
       "      <td>2.360000e+02</td>\n",
       "    </tr>\n",
       "    <tr>\n",
       "      <th>mean</th>\n",
       "      <td>1.233744e+07</td>\n",
       "      <td>4587.558442</td>\n",
       "      <td>1.237569e+05</td>\n",
       "      <td>34.096916</td>\n",
       "      <td>1.371974e+08</td>\n",
       "    </tr>\n",
       "    <tr>\n",
       "      <th>std</th>\n",
       "      <td>5.887474e+07</td>\n",
       "      <td>22147.187638</td>\n",
       "      <td>5.664904e+05</td>\n",
       "      <td>133.423968</td>\n",
       "      <td>6.832297e+08</td>\n",
       "    </tr>\n",
       "    <tr>\n",
       "      <th>min</th>\n",
       "      <td>1.000000e+00</td>\n",
       "      <td>0.000000</td>\n",
       "      <td>1.000000e+00</td>\n",
       "      <td>0.000000</td>\n",
       "      <td>8.080000e+02</td>\n",
       "    </tr>\n",
       "    <tr>\n",
       "      <th>25%</th>\n",
       "      <td>3.212200e+04</td>\n",
       "      <td>0.000000</td>\n",
       "      <td>2.965000e+02</td>\n",
       "      <td>0.000000</td>\n",
       "      <td>8.297690e+05</td>\n",
       "    </tr>\n",
       "    <tr>\n",
       "      <th>50%</th>\n",
       "      <td>2.855350e+05</td>\n",
       "      <td>0.000000</td>\n",
       "      <td>3.164000e+03</td>\n",
       "      <td>0.000000</td>\n",
       "      <td>6.909971e+06</td>\n",
       "    </tr>\n",
       "    <tr>\n",
       "      <th>75%</th>\n",
       "      <td>2.174490e+06</td>\n",
       "      <td>305.500000</td>\n",
       "      <td>2.046450e+04</td>\n",
       "      <td>1.000000</td>\n",
       "      <td>3.353106e+07</td>\n",
       "    </tr>\n",
       "    <tr>\n",
       "      <th>max</th>\n",
       "      <td>6.668795e+08</td>\n",
       "      <td>195295.000000</td>\n",
       "      <td>6.723297e+06</td>\n",
       "      <td>1018.000000</td>\n",
       "      <td>7.975105e+09</td>\n",
       "    </tr>\n",
       "  </tbody>\n",
       "</table>\n",
       "</div>"
      ],
      "text/plain": [
       "        total_cases      new_cases  total_deaths   new_deaths    population\n",
       "count  2.310000e+02     231.000000  2.270000e+02   227.000000  2.360000e+02\n",
       "mean   1.233744e+07    4587.558442  1.237569e+05    34.096916  1.371974e+08\n",
       "std    5.887474e+07   22147.187638  5.664904e+05   133.423968  6.832297e+08\n",
       "min    1.000000e+00       0.000000  1.000000e+00     0.000000  8.080000e+02\n",
       "25%    3.212200e+04       0.000000  2.965000e+02     0.000000  8.297690e+05\n",
       "50%    2.855350e+05       0.000000  3.164000e+03     0.000000  6.909971e+06\n",
       "75%    2.174490e+06     305.500000  2.046450e+04     1.000000  3.353106e+07\n",
       "max    6.668795e+08  195295.000000  6.723297e+06  1018.000000  7.975105e+09"
      ]
     },
     "execution_count": 13,
     "metadata": {},
     "output_type": "execute_result"
    }
   ],
   "source": [
    "Data.describe()"
   ]
  },
  {
   "cell_type": "code",
   "execution_count": 14,
   "id": "JnmklR96PK5H",
   "metadata": {
    "id": "JnmklR96PK5H"
   },
   "outputs": [
    {
     "data": {
      "text/html": [
       "<div>\n",
       "<style scoped>\n",
       "    .dataframe tbody tr th:only-of-type {\n",
       "        vertical-align: middle;\n",
       "    }\n",
       "\n",
       "    .dataframe tbody tr th {\n",
       "        vertical-align: top;\n",
       "    }\n",
       "\n",
       "    .dataframe thead th {\n",
       "        text-align: right;\n",
       "    }\n",
       "</style>\n",
       "<table border=\"1\" class=\"dataframe\">\n",
       "  <thead>\n",
       "    <tr style=\"text-align: right;\">\n",
       "      <th></th>\n",
       "      <th>iso_code</th>\n",
       "      <th>continent</th>\n",
       "      <th>location</th>\n",
       "      <th>last_updated_date</th>\n",
       "      <th>total_cases</th>\n",
       "      <th>new_cases</th>\n",
       "      <th>total_deaths</th>\n",
       "      <th>new_deaths</th>\n",
       "      <th>population</th>\n",
       "    </tr>\n",
       "  </thead>\n",
       "  <tbody>\n",
       "    <tr>\n",
       "      <th>count</th>\n",
       "      <td>237</td>\n",
       "      <td>224</td>\n",
       "      <td>237</td>\n",
       "      <td>237</td>\n",
       "      <td>2.310000e+02</td>\n",
       "      <td>231.000000</td>\n",
       "      <td>2.270000e+02</td>\n",
       "      <td>227.000000</td>\n",
       "      <td>2.360000e+02</td>\n",
       "    </tr>\n",
       "    <tr>\n",
       "      <th>unique</th>\n",
       "      <td>237</td>\n",
       "      <td>6</td>\n",
       "      <td>237</td>\n",
       "      <td>7</td>\n",
       "      <td>NaN</td>\n",
       "      <td>NaN</td>\n",
       "      <td>NaN</td>\n",
       "      <td>NaN</td>\n",
       "      <td>NaN</td>\n",
       "    </tr>\n",
       "    <tr>\n",
       "      <th>top</th>\n",
       "      <td>OWID_WRL</td>\n",
       "      <td>Africa</td>\n",
       "      <td>World</td>\n",
       "      <td>2023-01-15</td>\n",
       "      <td>NaN</td>\n",
       "      <td>NaN</td>\n",
       "      <td>NaN</td>\n",
       "      <td>NaN</td>\n",
       "      <td>NaN</td>\n",
       "    </tr>\n",
       "    <tr>\n",
       "      <th>freq</th>\n",
       "      <td>1</td>\n",
       "      <td>55</td>\n",
       "      <td>1</td>\n",
       "      <td>215</td>\n",
       "      <td>NaN</td>\n",
       "      <td>NaN</td>\n",
       "      <td>NaN</td>\n",
       "      <td>NaN</td>\n",
       "      <td>NaN</td>\n",
       "    </tr>\n",
       "    <tr>\n",
       "      <th>mean</th>\n",
       "      <td>NaN</td>\n",
       "      <td>NaN</td>\n",
       "      <td>NaN</td>\n",
       "      <td>NaN</td>\n",
       "      <td>1.233744e+07</td>\n",
       "      <td>4587.558442</td>\n",
       "      <td>1.237569e+05</td>\n",
       "      <td>34.096916</td>\n",
       "      <td>1.371974e+08</td>\n",
       "    </tr>\n",
       "    <tr>\n",
       "      <th>std</th>\n",
       "      <td>NaN</td>\n",
       "      <td>NaN</td>\n",
       "      <td>NaN</td>\n",
       "      <td>NaN</td>\n",
       "      <td>5.887474e+07</td>\n",
       "      <td>22147.187638</td>\n",
       "      <td>5.664904e+05</td>\n",
       "      <td>133.423968</td>\n",
       "      <td>6.832297e+08</td>\n",
       "    </tr>\n",
       "    <tr>\n",
       "      <th>min</th>\n",
       "      <td>NaN</td>\n",
       "      <td>NaN</td>\n",
       "      <td>NaN</td>\n",
       "      <td>NaN</td>\n",
       "      <td>1.000000e+00</td>\n",
       "      <td>0.000000</td>\n",
       "      <td>1.000000e+00</td>\n",
       "      <td>0.000000</td>\n",
       "      <td>8.080000e+02</td>\n",
       "    </tr>\n",
       "    <tr>\n",
       "      <th>25%</th>\n",
       "      <td>NaN</td>\n",
       "      <td>NaN</td>\n",
       "      <td>NaN</td>\n",
       "      <td>NaN</td>\n",
       "      <td>3.212200e+04</td>\n",
       "      <td>0.000000</td>\n",
       "      <td>2.965000e+02</td>\n",
       "      <td>0.000000</td>\n",
       "      <td>8.297690e+05</td>\n",
       "    </tr>\n",
       "    <tr>\n",
       "      <th>50%</th>\n",
       "      <td>NaN</td>\n",
       "      <td>NaN</td>\n",
       "      <td>NaN</td>\n",
       "      <td>NaN</td>\n",
       "      <td>2.855350e+05</td>\n",
       "      <td>0.000000</td>\n",
       "      <td>3.164000e+03</td>\n",
       "      <td>0.000000</td>\n",
       "      <td>6.909971e+06</td>\n",
       "    </tr>\n",
       "    <tr>\n",
       "      <th>75%</th>\n",
       "      <td>NaN</td>\n",
       "      <td>NaN</td>\n",
       "      <td>NaN</td>\n",
       "      <td>NaN</td>\n",
       "      <td>2.174490e+06</td>\n",
       "      <td>305.500000</td>\n",
       "      <td>2.046450e+04</td>\n",
       "      <td>1.000000</td>\n",
       "      <td>3.353106e+07</td>\n",
       "    </tr>\n",
       "    <tr>\n",
       "      <th>max</th>\n",
       "      <td>NaN</td>\n",
       "      <td>NaN</td>\n",
       "      <td>NaN</td>\n",
       "      <td>NaN</td>\n",
       "      <td>6.668795e+08</td>\n",
       "      <td>195295.000000</td>\n",
       "      <td>6.723297e+06</td>\n",
       "      <td>1018.000000</td>\n",
       "      <td>7.975105e+09</td>\n",
       "    </tr>\n",
       "  </tbody>\n",
       "</table>\n",
       "</div>"
      ],
      "text/plain": [
       "        iso_code continent location last_updated_date   total_cases  \\\n",
       "count        237       224      237               237  2.310000e+02   \n",
       "unique       237         6      237                 7           NaN   \n",
       "top     OWID_WRL    Africa    World        2023-01-15           NaN   \n",
       "freq           1        55        1               215           NaN   \n",
       "mean         NaN       NaN      NaN               NaN  1.233744e+07   \n",
       "std          NaN       NaN      NaN               NaN  5.887474e+07   \n",
       "min          NaN       NaN      NaN               NaN  1.000000e+00   \n",
       "25%          NaN       NaN      NaN               NaN  3.212200e+04   \n",
       "50%          NaN       NaN      NaN               NaN  2.855350e+05   \n",
       "75%          NaN       NaN      NaN               NaN  2.174490e+06   \n",
       "max          NaN       NaN      NaN               NaN  6.668795e+08   \n",
       "\n",
       "            new_cases  total_deaths   new_deaths    population  \n",
       "count      231.000000  2.270000e+02   227.000000  2.360000e+02  \n",
       "unique            NaN           NaN          NaN           NaN  \n",
       "top               NaN           NaN          NaN           NaN  \n",
       "freq              NaN           NaN          NaN           NaN  \n",
       "mean      4587.558442  1.237569e+05    34.096916  1.371974e+08  \n",
       "std      22147.187638  5.664904e+05   133.423968  6.832297e+08  \n",
       "min          0.000000  1.000000e+00     0.000000  8.080000e+02  \n",
       "25%          0.000000  2.965000e+02     0.000000  8.297690e+05  \n",
       "50%          0.000000  3.164000e+03     0.000000  6.909971e+06  \n",
       "75%        305.500000  2.046450e+04     1.000000  3.353106e+07  \n",
       "max     195295.000000  6.723297e+06  1018.000000  7.975105e+09  "
      ]
     },
     "execution_count": 14,
     "metadata": {},
     "output_type": "execute_result"
    }
   ],
   "source": [
    "Data.describe(include=\"all\")"
   ]
  },
  {
   "cell_type": "markdown",
   "id": "03ab97b4",
   "metadata": {
    "code_folding": [],
    "run_control": {
     "marked": false
    }
   },
   "source": [
    "## Data Reduction"
   ]
  },
  {
   "cell_type": "markdown",
   "id": "a69e90da",
   "metadata": {},
   "source": [
    "here some countries have NULL Values in their specific columns, so dropping the columns without filling it"
   ]
  },
  {
   "cell_type": "code",
   "execution_count": 15,
   "id": "d45b7691",
   "metadata": {
    "cell_style": "split"
   },
   "outputs": [
    {
     "data": {
      "text/plain": [
       "iso_code             False\n",
       "continent             True\n",
       "location             False\n",
       "last_updated_date    False\n",
       "total_cases           True\n",
       "new_cases             True\n",
       "total_deaths          True\n",
       "new_deaths            True\n",
       "population            True\n",
       "dtype: bool"
      ]
     },
     "execution_count": 15,
     "metadata": {},
     "output_type": "execute_result"
    }
   ],
   "source": [
    "Data.isnull().any()"
   ]
  },
  {
   "cell_type": "code",
   "execution_count": 16,
   "id": "122b1644",
   "metadata": {
    "cell_style": "split"
   },
   "outputs": [
    {
     "data": {
      "text/plain": [
       "iso_code              0\n",
       "continent            13\n",
       "location              0\n",
       "last_updated_date     0\n",
       "total_cases           6\n",
       "new_cases             6\n",
       "total_deaths         10\n",
       "new_deaths           10\n",
       "population            1\n",
       "dtype: int64"
      ]
     },
     "execution_count": 16,
     "metadata": {},
     "output_type": "execute_result"
    }
   ],
   "source": [
    "Data.isnull().sum()"
   ]
  },
  {
   "cell_type": "code",
   "execution_count": 17,
   "id": "008Ptc1hOHz7",
   "metadata": {
    "id": "008Ptc1hOHz7"
   },
   "outputs": [],
   "source": [
    "Data=Data.dropna()"
   ]
  },
  {
   "cell_type": "code",
   "execution_count": 103,
   "id": "uUIgiXtXKmJy",
   "metadata": {
    "colab": {
     "base_uri": "https://localhost:8080/",
     "height": 424
    },
    "id": "uUIgiXtXKmJy",
    "outputId": "22dbba57-2021-4d0d-8f54-9d24c7da39ab"
   },
   "outputs": [
    {
     "data": {
      "text/html": [
       "<div>\n",
       "<style scoped>\n",
       "    .dataframe tbody tr th:only-of-type {\n",
       "        vertical-align: middle;\n",
       "    }\n",
       "\n",
       "    .dataframe tbody tr th {\n",
       "        vertical-align: top;\n",
       "    }\n",
       "\n",
       "    .dataframe thead th {\n",
       "        text-align: right;\n",
       "    }\n",
       "</style>\n",
       "<table border=\"1\" class=\"dataframe\">\n",
       "  <thead>\n",
       "    <tr style=\"text-align: right;\">\n",
       "      <th></th>\n",
       "      <th>iso_code</th>\n",
       "      <th>continent</th>\n",
       "      <th>location</th>\n",
       "      <th>last_updated_date</th>\n",
       "      <th>total_cases</th>\n",
       "      <th>new_cases</th>\n",
       "      <th>total_deaths</th>\n",
       "      <th>new_deaths</th>\n",
       "      <th>population</th>\n",
       "    </tr>\n",
       "  </thead>\n",
       "  <tbody>\n",
       "    <tr>\n",
       "      <th>233</th>\n",
       "      <td>OWID_WRL</td>\n",
       "      <td>NaN</td>\n",
       "      <td>World</td>\n",
       "      <td>2023-01-16</td>\n",
       "      <td>666879519.0</td>\n",
       "      <td>195295.0</td>\n",
       "      <td>6723297.0</td>\n",
       "      <td>814.0</td>\n",
       "      <td>7.975105e+09</td>\n",
       "    </tr>\n",
       "    <tr>\n",
       "      <th>91</th>\n",
       "      <td>OWID_HIC</td>\n",
       "      <td>NaN</td>\n",
       "      <td>High income</td>\n",
       "      <td>2023-01-16</td>\n",
       "      <td>423860182.0</td>\n",
       "      <td>177208.0</td>\n",
       "      <td>2813965.0</td>\n",
       "      <td>618.0</td>\n",
       "      <td>1.250515e+09</td>\n",
       "    </tr>\n",
       "    <tr>\n",
       "      <th>69</th>\n",
       "      <td>OWID_EUR</td>\n",
       "      <td>NaN</td>\n",
       "      <td>Europe</td>\n",
       "      <td>2023-01-15</td>\n",
       "      <td>245913988.0</td>\n",
       "      <td>7266.0</td>\n",
       "      <td>2012174.0</td>\n",
       "      <td>64.0</td>\n",
       "      <td>7.448078e+08</td>\n",
       "    </tr>\n",
       "    <tr>\n",
       "      <th>11</th>\n",
       "      <td>OWID_ASI</td>\n",
       "      <td>NaN</td>\n",
       "      <td>Asia</td>\n",
       "      <td>2023-01-16</td>\n",
       "      <td>207134786.0</td>\n",
       "      <td>151942.0</td>\n",
       "      <td>1526561.0</td>\n",
       "      <td>576.0</td>\n",
       "      <td>4.721383e+09</td>\n",
       "    </tr>\n",
       "    <tr>\n",
       "      <th>70</th>\n",
       "      <td>OWID_EUN</td>\n",
       "      <td>NaN</td>\n",
       "      <td>European Union</td>\n",
       "      <td>2023-01-15</td>\n",
       "      <td>182467840.0</td>\n",
       "      <td>1981.0</td>\n",
       "      <td>1199738.0</td>\n",
       "      <td>13.0</td>\n",
       "      <td>4.501468e+08</td>\n",
       "    </tr>\n",
       "  </tbody>\n",
       "</table>\n",
       "</div>"
      ],
      "text/plain": [
       "     iso_code continent        location last_updated_date  total_cases  \\\n",
       "233  OWID_WRL       NaN           World        2023-01-16  666879519.0   \n",
       "91   OWID_HIC       NaN     High income        2023-01-16  423860182.0   \n",
       "69   OWID_EUR       NaN          Europe        2023-01-15  245913988.0   \n",
       "11   OWID_ASI       NaN            Asia        2023-01-16  207134786.0   \n",
       "70   OWID_EUN       NaN  European Union        2023-01-15  182467840.0   \n",
       "\n",
       "     new_cases  total_deaths  new_deaths    population  \n",
       "233   195295.0     6723297.0       814.0  7.975105e+09  \n",
       "91    177208.0     2813965.0       618.0  1.250515e+09  \n",
       "69      7266.0     2012174.0        64.0  7.448078e+08  \n",
       "11    151942.0     1526561.0       576.0  4.721383e+09  \n",
       "70      1981.0     1199738.0        13.0  4.501468e+08  "
      ]
     },
     "execution_count": 103,
     "metadata": {},
     "output_type": "execute_result"
    }
   ],
   "source": [
    "Data.head()"
   ]
  },
  {
   "cell_type": "code",
   "execution_count": 19,
   "id": "1u9qsdMwLNjQ",
   "metadata": {
    "cell_style": "split",
    "colab": {
     "base_uri": "https://localhost:8080/"
    },
    "id": "1u9qsdMwLNjQ",
    "outputId": "afa6a7d3-fd8f-46c0-f36a-3ba5f9d97609"
   },
   "outputs": [
    {
     "name": "stdout",
     "output_type": "stream",
     "text": [
      "<class 'pandas.core.frame.DataFrame'>\n",
      "Int64Index: 214 entries, 223 to 156\n",
      "Data columns (total 9 columns):\n",
      " #   Column             Non-Null Count  Dtype  \n",
      "---  ------             --------------  -----  \n",
      " 0   iso_code           214 non-null    object \n",
      " 1   continent          214 non-null    object \n",
      " 2   location           214 non-null    object \n",
      " 3   last_updated_date  214 non-null    object \n",
      " 4   total_cases        214 non-null    float64\n",
      " 5   new_cases          214 non-null    float64\n",
      " 6   total_deaths       214 non-null    float64\n",
      " 7   new_deaths         214 non-null    float64\n",
      " 8   population         214 non-null    float64\n",
      "dtypes: float64(5), object(4)\n",
      "memory usage: 16.7+ KB\n"
     ]
    }
   ],
   "source": [
    "Data.info()"
   ]
  },
  {
   "cell_type": "code",
   "execution_count": 21,
   "id": "Jl1dKPM_P3ud",
   "metadata": {
    "cell_style": "split",
    "colab": {
     "base_uri": "https://localhost:8080/",
     "height": 301
    },
    "id": "Jl1dKPM_P3ud",
    "outputId": "4a5e4e23-1563-4bd3-c944-ff0b363390b7"
   },
   "outputs": [
    {
     "data": {
      "text/html": [
       "<div>\n",
       "<style scoped>\n",
       "    .dataframe tbody tr th:only-of-type {\n",
       "        vertical-align: middle;\n",
       "    }\n",
       "\n",
       "    .dataframe tbody tr th {\n",
       "        vertical-align: top;\n",
       "    }\n",
       "\n",
       "    .dataframe thead th {\n",
       "        text-align: right;\n",
       "    }\n",
       "</style>\n",
       "<table border=\"1\" class=\"dataframe\">\n",
       "  <thead>\n",
       "    <tr style=\"text-align: right;\">\n",
       "      <th></th>\n",
       "      <th>total_cases</th>\n",
       "      <th>new_cases</th>\n",
       "      <th>total_deaths</th>\n",
       "      <th>new_deaths</th>\n",
       "      <th>population</th>\n",
       "    </tr>\n",
       "  </thead>\n",
       "  <tbody>\n",
       "    <tr>\n",
       "      <th>count</th>\n",
       "      <td>2.140000e+02</td>\n",
       "      <td>214.000000</td>\n",
       "      <td>2.140000e+02</td>\n",
       "      <td>214.000000</td>\n",
       "      <td>2.140000e+02</td>\n",
       "    </tr>\n",
       "    <tr>\n",
       "      <th>mean</th>\n",
       "      <td>3.116224e+06</td>\n",
       "      <td>2204.953271</td>\n",
       "      <td>3.141721e+04</td>\n",
       "      <td>24.696262</td>\n",
       "      <td>3.721731e+07</td>\n",
       "    </tr>\n",
       "    <tr>\n",
       "      <th>std</th>\n",
       "      <td>9.656967e+06</td>\n",
       "      <td>10433.607141</td>\n",
       "      <td>1.061432e+05</td>\n",
       "      <td>113.340553</td>\n",
       "      <td>1.426430e+08</td>\n",
       "    </tr>\n",
       "    <tr>\n",
       "      <th>min</th>\n",
       "      <td>1.000000e+00</td>\n",
       "      <td>0.000000</td>\n",
       "      <td>1.000000e+00</td>\n",
       "      <td>0.000000</td>\n",
       "      <td>4.413000e+03</td>\n",
       "    </tr>\n",
       "    <tr>\n",
       "      <th>25%</th>\n",
       "      <td>3.307125e+04</td>\n",
       "      <td>0.000000</td>\n",
       "      <td>2.832500e+02</td>\n",
       "      <td>0.000000</td>\n",
       "      <td>8.515890e+05</td>\n",
       "    </tr>\n",
       "    <tr>\n",
       "      <th>50%</th>\n",
       "      <td>2.688750e+05</td>\n",
       "      <td>0.000000</td>\n",
       "      <td>2.794500e+03</td>\n",
       "      <td>0.000000</td>\n",
       "      <td>6.797150e+06</td>\n",
       "    </tr>\n",
       "    <tr>\n",
       "      <th>75%</th>\n",
       "      <td>1.485466e+06</td>\n",
       "      <td>221.750000</td>\n",
       "      <td>1.669100e+04</td>\n",
       "      <td>0.000000</td>\n",
       "      <td>2.620034e+07</td>\n",
       "    </tr>\n",
       "    <tr>\n",
       "      <th>max</th>\n",
       "      <td>1.016488e+08</td>\n",
       "      <td>108281.000000</td>\n",
       "      <td>1.099860e+06</td>\n",
       "      <td>1018.000000</td>\n",
       "      <td>1.425887e+09</td>\n",
       "    </tr>\n",
       "  </tbody>\n",
       "</table>\n",
       "</div>"
      ],
      "text/plain": [
       "        total_cases      new_cases  total_deaths   new_deaths    population\n",
       "count  2.140000e+02     214.000000  2.140000e+02   214.000000  2.140000e+02\n",
       "mean   3.116224e+06    2204.953271  3.141721e+04    24.696262  3.721731e+07\n",
       "std    9.656967e+06   10433.607141  1.061432e+05   113.340553  1.426430e+08\n",
       "min    1.000000e+00       0.000000  1.000000e+00     0.000000  4.413000e+03\n",
       "25%    3.307125e+04       0.000000  2.832500e+02     0.000000  8.515890e+05\n",
       "50%    2.688750e+05       0.000000  2.794500e+03     0.000000  6.797150e+06\n",
       "75%    1.485466e+06     221.750000  1.669100e+04     0.000000  2.620034e+07\n",
       "max    1.016488e+08  108281.000000  1.099860e+06  1018.000000  1.425887e+09"
      ]
     },
     "execution_count": 21,
     "metadata": {},
     "output_type": "execute_result"
    }
   ],
   "source": [
    "Data.describe()"
   ]
  },
  {
   "cell_type": "code",
   "execution_count": 20,
   "id": "sNyZZsT0LQml",
   "metadata": {
    "colab": {
     "base_uri": "https://localhost:8080/",
     "height": 395
    },
    "id": "sNyZZsT0LQml",
    "outputId": "1a99605f-9fd0-4a2b-9a1b-2c76a69f83c8",
    "scrolled": true
   },
   "outputs": [
    {
     "data": {
      "text/html": [
       "<div>\n",
       "<style scoped>\n",
       "    .dataframe tbody tr th:only-of-type {\n",
       "        vertical-align: middle;\n",
       "    }\n",
       "\n",
       "    .dataframe tbody tr th {\n",
       "        vertical-align: top;\n",
       "    }\n",
       "\n",
       "    .dataframe thead th {\n",
       "        text-align: right;\n",
       "    }\n",
       "</style>\n",
       "<table border=\"1\" class=\"dataframe\">\n",
       "  <thead>\n",
       "    <tr style=\"text-align: right;\">\n",
       "      <th></th>\n",
       "      <th>iso_code</th>\n",
       "      <th>continent</th>\n",
       "      <th>location</th>\n",
       "      <th>last_updated_date</th>\n",
       "      <th>total_cases</th>\n",
       "      <th>new_cases</th>\n",
       "      <th>total_deaths</th>\n",
       "      <th>new_deaths</th>\n",
       "      <th>population</th>\n",
       "    </tr>\n",
       "  </thead>\n",
       "  <tbody>\n",
       "    <tr>\n",
       "      <th>count</th>\n",
       "      <td>214</td>\n",
       "      <td>214</td>\n",
       "      <td>214</td>\n",
       "      <td>214</td>\n",
       "      <td>2.140000e+02</td>\n",
       "      <td>214.000000</td>\n",
       "      <td>2.140000e+02</td>\n",
       "      <td>214.000000</td>\n",
       "      <td>2.140000e+02</td>\n",
       "    </tr>\n",
       "    <tr>\n",
       "      <th>unique</th>\n",
       "      <td>214</td>\n",
       "      <td>6</td>\n",
       "      <td>214</td>\n",
       "      <td>2</td>\n",
       "      <td>NaN</td>\n",
       "      <td>NaN</td>\n",
       "      <td>NaN</td>\n",
       "      <td>NaN</td>\n",
       "      <td>NaN</td>\n",
       "    </tr>\n",
       "    <tr>\n",
       "      <th>top</th>\n",
       "      <td>USA</td>\n",
       "      <td>Africa</td>\n",
       "      <td>United States</td>\n",
       "      <td>2023-01-15</td>\n",
       "      <td>NaN</td>\n",
       "      <td>NaN</td>\n",
       "      <td>NaN</td>\n",
       "      <td>NaN</td>\n",
       "      <td>NaN</td>\n",
       "    </tr>\n",
       "    <tr>\n",
       "      <th>freq</th>\n",
       "      <td>1</td>\n",
       "      <td>54</td>\n",
       "      <td>1</td>\n",
       "      <td>204</td>\n",
       "      <td>NaN</td>\n",
       "      <td>NaN</td>\n",
       "      <td>NaN</td>\n",
       "      <td>NaN</td>\n",
       "      <td>NaN</td>\n",
       "    </tr>\n",
       "    <tr>\n",
       "      <th>mean</th>\n",
       "      <td>NaN</td>\n",
       "      <td>NaN</td>\n",
       "      <td>NaN</td>\n",
       "      <td>NaN</td>\n",
       "      <td>3.116224e+06</td>\n",
       "      <td>2204.953271</td>\n",
       "      <td>3.141721e+04</td>\n",
       "      <td>24.696262</td>\n",
       "      <td>3.721731e+07</td>\n",
       "    </tr>\n",
       "    <tr>\n",
       "      <th>std</th>\n",
       "      <td>NaN</td>\n",
       "      <td>NaN</td>\n",
       "      <td>NaN</td>\n",
       "      <td>NaN</td>\n",
       "      <td>9.656967e+06</td>\n",
       "      <td>10433.607141</td>\n",
       "      <td>1.061432e+05</td>\n",
       "      <td>113.340553</td>\n",
       "      <td>1.426430e+08</td>\n",
       "    </tr>\n",
       "    <tr>\n",
       "      <th>min</th>\n",
       "      <td>NaN</td>\n",
       "      <td>NaN</td>\n",
       "      <td>NaN</td>\n",
       "      <td>NaN</td>\n",
       "      <td>1.000000e+00</td>\n",
       "      <td>0.000000</td>\n",
       "      <td>1.000000e+00</td>\n",
       "      <td>0.000000</td>\n",
       "      <td>4.413000e+03</td>\n",
       "    </tr>\n",
       "    <tr>\n",
       "      <th>25%</th>\n",
       "      <td>NaN</td>\n",
       "      <td>NaN</td>\n",
       "      <td>NaN</td>\n",
       "      <td>NaN</td>\n",
       "      <td>3.307125e+04</td>\n",
       "      <td>0.000000</td>\n",
       "      <td>2.832500e+02</td>\n",
       "      <td>0.000000</td>\n",
       "      <td>8.515890e+05</td>\n",
       "    </tr>\n",
       "    <tr>\n",
       "      <th>50%</th>\n",
       "      <td>NaN</td>\n",
       "      <td>NaN</td>\n",
       "      <td>NaN</td>\n",
       "      <td>NaN</td>\n",
       "      <td>2.688750e+05</td>\n",
       "      <td>0.000000</td>\n",
       "      <td>2.794500e+03</td>\n",
       "      <td>0.000000</td>\n",
       "      <td>6.797150e+06</td>\n",
       "    </tr>\n",
       "    <tr>\n",
       "      <th>75%</th>\n",
       "      <td>NaN</td>\n",
       "      <td>NaN</td>\n",
       "      <td>NaN</td>\n",
       "      <td>NaN</td>\n",
       "      <td>1.485466e+06</td>\n",
       "      <td>221.750000</td>\n",
       "      <td>1.669100e+04</td>\n",
       "      <td>0.000000</td>\n",
       "      <td>2.620034e+07</td>\n",
       "    </tr>\n",
       "    <tr>\n",
       "      <th>max</th>\n",
       "      <td>NaN</td>\n",
       "      <td>NaN</td>\n",
       "      <td>NaN</td>\n",
       "      <td>NaN</td>\n",
       "      <td>1.016488e+08</td>\n",
       "      <td>108281.000000</td>\n",
       "      <td>1.099860e+06</td>\n",
       "      <td>1018.000000</td>\n",
       "      <td>1.425887e+09</td>\n",
       "    </tr>\n",
       "  </tbody>\n",
       "</table>\n",
       "</div>"
      ],
      "text/plain": [
       "       iso_code continent       location last_updated_date   total_cases  \\\n",
       "count       214       214            214               214  2.140000e+02   \n",
       "unique      214         6            214                 2           NaN   \n",
       "top         USA    Africa  United States        2023-01-15           NaN   \n",
       "freq          1        54              1               204           NaN   \n",
       "mean        NaN       NaN            NaN               NaN  3.116224e+06   \n",
       "std         NaN       NaN            NaN               NaN  9.656967e+06   \n",
       "min         NaN       NaN            NaN               NaN  1.000000e+00   \n",
       "25%         NaN       NaN            NaN               NaN  3.307125e+04   \n",
       "50%         NaN       NaN            NaN               NaN  2.688750e+05   \n",
       "75%         NaN       NaN            NaN               NaN  1.485466e+06   \n",
       "max         NaN       NaN            NaN               NaN  1.016488e+08   \n",
       "\n",
       "            new_cases  total_deaths   new_deaths    population  \n",
       "count      214.000000  2.140000e+02   214.000000  2.140000e+02  \n",
       "unique            NaN           NaN          NaN           NaN  \n",
       "top               NaN           NaN          NaN           NaN  \n",
       "freq              NaN           NaN          NaN           NaN  \n",
       "mean      2204.953271  3.141721e+04    24.696262  3.721731e+07  \n",
       "std      10433.607141  1.061432e+05   113.340553  1.426430e+08  \n",
       "min          0.000000  1.000000e+00     0.000000  4.413000e+03  \n",
       "25%          0.000000  2.832500e+02     0.000000  8.515890e+05  \n",
       "50%          0.000000  2.794500e+03     0.000000  6.797150e+06  \n",
       "75%        221.750000  1.669100e+04     0.000000  2.620034e+07  \n",
       "max     108281.000000  1.099860e+06  1018.000000  1.425887e+09  "
      ]
     },
     "execution_count": 20,
     "metadata": {},
     "output_type": "execute_result"
    }
   ],
   "source": [
    "Data.describe(include=\"all\")"
   ]
  },
  {
   "cell_type": "markdown",
   "id": "202e771b",
   "metadata": {},
   "source": [
    "# Descriptive statistics "
   ]
  },
  {
   "cell_type": "markdown",
   "id": "19f69723",
   "metadata": {
    "cell_style": "split"
   },
   "source": [
    "## Mean"
   ]
  },
  {
   "cell_type": "markdown",
   "id": "f1facb3c",
   "metadata": {
    "cell_style": "split"
   },
   "source": [
    "## Median"
   ]
  },
  {
   "cell_type": "code",
   "execution_count": 38,
   "id": "v5Z34TuJLSM9",
   "metadata": {
    "cell_style": "split",
    "colab": {
     "base_uri": "https://localhost:8080/"
    },
    "id": "v5Z34TuJLSM9",
    "outputId": "f75c8283-359e-4b4b-b201-4935c8cb0744"
   },
   "outputs": [
    {
     "data": {
      "text/plain": [
       "total_cases     1.233744e+07\n",
       "new_cases       4.587558e+03\n",
       "total_deaths    1.237569e+05\n",
       "new_deaths      3.409692e+01\n",
       "population      1.371974e+08\n",
       "dtype: float64"
      ]
     },
     "execution_count": 38,
     "metadata": {},
     "output_type": "execute_result"
    }
   ],
   "source": [
    "Data.mean()"
   ]
  },
  {
   "cell_type": "code",
   "execution_count": 39,
   "id": "XJb6F54jMV54",
   "metadata": {
    "cell_style": "split",
    "colab": {
     "base_uri": "https://localhost:8080/"
    },
    "id": "XJb6F54jMV54",
    "outputId": "37628903-0303-435b-9150-8e0237d0cb5c"
   },
   "outputs": [
    {
     "data": {
      "text/plain": [
       "total_cases      285535.0\n",
       "new_cases             0.0\n",
       "total_deaths       3164.0\n",
       "new_deaths            0.0\n",
       "population      6909971.0\n",
       "dtype: float64"
      ]
     },
     "execution_count": 39,
     "metadata": {},
     "output_type": "execute_result"
    }
   ],
   "source": [
    "Data.median()"
   ]
  },
  {
   "cell_type": "markdown",
   "id": "f34df33c",
   "metadata": {},
   "source": [
    "## Mode"
   ]
  },
  {
   "cell_type": "code",
   "execution_count": 40,
   "id": "L2K1Tm3kMX0l",
   "metadata": {
    "colab": {
     "base_uri": "https://localhost:8080/",
     "height": 424
    },
    "id": "L2K1Tm3kMX0l",
    "outputId": "4926f052-356e-488a-e5d5-c07dfcf1b82f"
   },
   "outputs": [
    {
     "data": {
      "text/html": [
       "<div>\n",
       "<style scoped>\n",
       "    .dataframe tbody tr th:only-of-type {\n",
       "        vertical-align: middle;\n",
       "    }\n",
       "\n",
       "    .dataframe tbody tr th {\n",
       "        vertical-align: top;\n",
       "    }\n",
       "\n",
       "    .dataframe thead th {\n",
       "        text-align: right;\n",
       "    }\n",
       "</style>\n",
       "<table border=\"1\" class=\"dataframe\">\n",
       "  <thead>\n",
       "    <tr style=\"text-align: right;\">\n",
       "      <th></th>\n",
       "      <th>iso_code</th>\n",
       "      <th>continent</th>\n",
       "      <th>location</th>\n",
       "      <th>last_updated_date</th>\n",
       "      <th>total_cases</th>\n",
       "      <th>new_cases</th>\n",
       "      <th>total_deaths</th>\n",
       "      <th>new_deaths</th>\n",
       "      <th>population</th>\n",
       "    </tr>\n",
       "  </thead>\n",
       "  <tbody>\n",
       "    <tr>\n",
       "      <th>0</th>\n",
       "      <td>ABW</td>\n",
       "      <td>Africa</td>\n",
       "      <td>Afghanistan</td>\n",
       "      <td>2023-01-15</td>\n",
       "      <td>1.0</td>\n",
       "      <td>0.0</td>\n",
       "      <td>1.0</td>\n",
       "      <td>0.0</td>\n",
       "      <td>8.080000e+02</td>\n",
       "    </tr>\n",
       "    <tr>\n",
       "      <th>1</th>\n",
       "      <td>AFG</td>\n",
       "      <td>NaN</td>\n",
       "      <td>Africa</td>\n",
       "      <td>NaN</td>\n",
       "      <td>29.0</td>\n",
       "      <td>NaN</td>\n",
       "      <td>17.0</td>\n",
       "      <td>NaN</td>\n",
       "      <td>3.801000e+03</td>\n",
       "    </tr>\n",
       "    <tr>\n",
       "      <th>2</th>\n",
       "      <td>AGO</td>\n",
       "      <td>NaN</td>\n",
       "      <td>Albania</td>\n",
       "      <td>NaN</td>\n",
       "      <td>721.0</td>\n",
       "      <td>NaN</td>\n",
       "      <td>21.0</td>\n",
       "      <td>NaN</td>\n",
       "      <td>4.413000e+03</td>\n",
       "    </tr>\n",
       "    <tr>\n",
       "      <th>3</th>\n",
       "      <td>AIA</td>\n",
       "      <td>NaN</td>\n",
       "      <td>Algeria</td>\n",
       "      <td>NaN</td>\n",
       "      <td>1403.0</td>\n",
       "      <td>NaN</td>\n",
       "      <td>121.0</td>\n",
       "      <td>NaN</td>\n",
       "      <td>5.401000e+03</td>\n",
       "    </tr>\n",
       "    <tr>\n",
       "      <th>4</th>\n",
       "      <td>ALB</td>\n",
       "      <td>NaN</td>\n",
       "      <td>Andorra</td>\n",
       "      <td>NaN</td>\n",
       "      <td>1930.0</td>\n",
       "      <td>NaN</td>\n",
       "      <td>138.0</td>\n",
       "      <td>NaN</td>\n",
       "      <td>5.885000e+03</td>\n",
       "    </tr>\n",
       "    <tr>\n",
       "      <th>...</th>\n",
       "      <td>...</td>\n",
       "      <td>...</td>\n",
       "      <td>...</td>\n",
       "      <td>...</td>\n",
       "      <td>...</td>\n",
       "      <td>...</td>\n",
       "      <td>...</td>\n",
       "      <td>...</td>\n",
       "      <td>...</td>\n",
       "    </tr>\n",
       "    <tr>\n",
       "      <th>232</th>\n",
       "      <td>WSM</td>\n",
       "      <td>NaN</td>\n",
       "      <td>Wallis and Futuna</td>\n",
       "      <td>NaN</td>\n",
       "      <td>NaN</td>\n",
       "      <td>NaN</td>\n",
       "      <td>NaN</td>\n",
       "      <td>NaN</td>\n",
       "      <td>2.525921e+09</td>\n",
       "    </tr>\n",
       "    <tr>\n",
       "      <th>233</th>\n",
       "      <td>YEM</td>\n",
       "      <td>NaN</td>\n",
       "      <td>World</td>\n",
       "      <td>NaN</td>\n",
       "      <td>NaN</td>\n",
       "      <td>NaN</td>\n",
       "      <td>NaN</td>\n",
       "      <td>NaN</td>\n",
       "      <td>3.432097e+09</td>\n",
       "    </tr>\n",
       "    <tr>\n",
       "      <th>234</th>\n",
       "      <td>ZAF</td>\n",
       "      <td>NaN</td>\n",
       "      <td>Yemen</td>\n",
       "      <td>NaN</td>\n",
       "      <td>NaN</td>\n",
       "      <td>NaN</td>\n",
       "      <td>NaN</td>\n",
       "      <td>NaN</td>\n",
       "      <td>4.721383e+09</td>\n",
       "    </tr>\n",
       "    <tr>\n",
       "      <th>235</th>\n",
       "      <td>ZMB</td>\n",
       "      <td>NaN</td>\n",
       "      <td>Zambia</td>\n",
       "      <td>NaN</td>\n",
       "      <td>NaN</td>\n",
       "      <td>NaN</td>\n",
       "      <td>NaN</td>\n",
       "      <td>NaN</td>\n",
       "      <td>7.975105e+09</td>\n",
       "    </tr>\n",
       "    <tr>\n",
       "      <th>236</th>\n",
       "      <td>ZWE</td>\n",
       "      <td>NaN</td>\n",
       "      <td>Zimbabwe</td>\n",
       "      <td>NaN</td>\n",
       "      <td>NaN</td>\n",
       "      <td>NaN</td>\n",
       "      <td>NaN</td>\n",
       "      <td>NaN</td>\n",
       "      <td>NaN</td>\n",
       "    </tr>\n",
       "  </tbody>\n",
       "</table>\n",
       "<p>237 rows × 9 columns</p>\n",
       "</div>"
      ],
      "text/plain": [
       "    iso_code continent           location last_updated_date  total_cases  \\\n",
       "0        ABW    Africa        Afghanistan        2023-01-15          1.0   \n",
       "1        AFG       NaN             Africa               NaN         29.0   \n",
       "2        AGO       NaN            Albania               NaN        721.0   \n",
       "3        AIA       NaN            Algeria               NaN       1403.0   \n",
       "4        ALB       NaN            Andorra               NaN       1930.0   \n",
       "..       ...       ...                ...               ...          ...   \n",
       "232      WSM       NaN  Wallis and Futuna               NaN          NaN   \n",
       "233      YEM       NaN              World               NaN          NaN   \n",
       "234      ZAF       NaN              Yemen               NaN          NaN   \n",
       "235      ZMB       NaN             Zambia               NaN          NaN   \n",
       "236      ZWE       NaN           Zimbabwe               NaN          NaN   \n",
       "\n",
       "     new_cases  total_deaths  new_deaths    population  \n",
       "0          0.0           1.0         0.0  8.080000e+02  \n",
       "1          NaN          17.0         NaN  3.801000e+03  \n",
       "2          NaN          21.0         NaN  4.413000e+03  \n",
       "3          NaN         121.0         NaN  5.401000e+03  \n",
       "4          NaN         138.0         NaN  5.885000e+03  \n",
       "..         ...           ...         ...           ...  \n",
       "232        NaN           NaN         NaN  2.525921e+09  \n",
       "233        NaN           NaN         NaN  3.432097e+09  \n",
       "234        NaN           NaN         NaN  4.721383e+09  \n",
       "235        NaN           NaN         NaN  7.975105e+09  \n",
       "236        NaN           NaN         NaN           NaN  \n",
       "\n",
       "[237 rows x 9 columns]"
      ]
     },
     "execution_count": 40,
     "metadata": {},
     "output_type": "execute_result"
    }
   ],
   "source": [
    "Data.mode()"
   ]
  },
  {
   "cell_type": "markdown",
   "id": "0549cbe1",
   "metadata": {},
   "source": [
    "## Quantile Ranges"
   ]
  },
  {
   "cell_type": "code",
   "execution_count": 41,
   "id": "CEhhGE1yMZHA",
   "metadata": {
    "cell_style": "split",
    "colab": {
     "base_uri": "https://localhost:8080/"
    },
    "id": "CEhhGE1yMZHA",
    "outputId": "482e7f46-b35c-4df2-e7fe-35d4eb2403ae"
   },
   "outputs": [
    {
     "data": {
      "text/plain": [
       "total_cases      32122.0\n",
       "new_cases            0.0\n",
       "total_deaths       296.5\n",
       "new_deaths           0.0\n",
       "population      829769.0\n",
       "Name: 0.25, dtype: float64"
      ]
     },
     "execution_count": 41,
     "metadata": {},
     "output_type": "execute_result"
    }
   ],
   "source": [
    "Data.quantile(0.25)"
   ]
  },
  {
   "cell_type": "code",
   "execution_count": 42,
   "id": "AfKGCcBeMr_e",
   "metadata": {
    "cell_style": "split",
    "colab": {
     "base_uri": "https://localhost:8080/"
    },
    "id": "AfKGCcBeMr_e",
    "outputId": "a9eae0fc-2c93-4910-842f-fcc7fbcc22db"
   },
   "outputs": [
    {
     "data": {
      "text/plain": [
       "total_cases      2174490.5\n",
       "new_cases            305.5\n",
       "total_deaths       20464.5\n",
       "new_deaths             1.0\n",
       "population      33531055.5\n",
       "Name: 0.75, dtype: float64"
      ]
     },
     "execution_count": 42,
     "metadata": {},
     "output_type": "execute_result"
    }
   ],
   "source": [
    "Data.quantile(0.75)"
   ]
  },
  {
   "cell_type": "code",
   "execution_count": 43,
   "id": "URa9Q4lzQ2io",
   "metadata": {
    "cell_style": "split",
    "id": "URa9Q4lzQ2io"
   },
   "outputs": [],
   "source": [
    "Inter_quartile_range=Data.quantile(0.75)-Data.quantile(0.25)"
   ]
  },
  {
   "cell_type": "code",
   "execution_count": 44,
   "id": "9k903j33RACY",
   "metadata": {
    "cell_style": "split",
    "colab": {
     "base_uri": "https://localhost:8080/"
    },
    "id": "9k903j33RACY",
    "outputId": "8db462aa-a493-4dba-88ca-f2e2c0e76937"
   },
   "outputs": [
    {
     "data": {
      "text/plain": [
       "total_cases      2142368.5\n",
       "new_cases            305.5\n",
       "total_deaths       20168.0\n",
       "new_deaths             1.0\n",
       "population      32701286.5\n",
       "dtype: float64"
      ]
     },
     "execution_count": 44,
     "metadata": {},
     "output_type": "execute_result"
    }
   ],
   "source": [
    "Inter_quartile_range"
   ]
  },
  {
   "cell_type": "markdown",
   "id": "f32c1b58",
   "metadata": {
    "cell_style": "split"
   },
   "source": [
    "## Harmonic Mean"
   ]
  },
  {
   "cell_type": "markdown",
   "id": "967db4a3",
   "metadata": {
    "cell_style": "split"
   },
   "source": [
    "## Geometric Mean"
   ]
  },
  {
   "cell_type": "code",
   "execution_count": 45,
   "id": "771d93a0",
   "metadata": {
    "cell_style": "split"
   },
   "outputs": [
    {
     "data": {
      "text/plain": [
       "['total_cases: nan',\n",
       " 'new_cases: 0',\n",
       " 'total_deaths: nan',\n",
       " 'new_deaths: 0',\n",
       " 'population: nan']"
      ]
     },
     "execution_count": 45,
     "metadata": {},
     "output_type": "execute_result"
    }
   ],
   "source": [
    "[\n",
    "    Numerical_Columns[i]+\": \"+str(statistics.harmonic_mean(Data[Numerical_Columns[i]])) for i in range(len(Numerical_Columns))\n",
    "]"
   ]
  },
  {
   "cell_type": "code",
   "execution_count": 46,
   "id": "32ef1797",
   "metadata": {
    "cell_style": "split",
    "code_folding": []
   },
   "outputs": [
    {
     "data": {
      "text/plain": [
       "['total_cases: nan',\n",
       " 'new_cases: nan',\n",
       " 'total_deaths: nan',\n",
       " 'new_deaths: nan',\n",
       " 'population: nan']"
      ]
     },
     "execution_count": 46,
     "metadata": {},
     "output_type": "execute_result"
    }
   ],
   "source": [
    "[\n",
    "    Numerical_Columns[i]+\": \"+str(scipy.stats.mstats.gmean(Data[Numerical_Columns[i]]))  for i in range(len(Numerical_Columns))\n",
    "]"
   ]
  },
  {
   "cell_type": "markdown",
   "id": "c5c281b2",
   "metadata": {
    "cell_style": "split"
   },
   "source": [
    "## Skewness"
   ]
  },
  {
   "cell_type": "markdown",
   "id": "1be17283",
   "metadata": {
    "cell_style": "split"
   },
   "source": [
    "## Kurtosis"
   ]
  },
  {
   "cell_type": "code",
   "execution_count": 47,
   "id": "gJM4thQkTRXv",
   "metadata": {
    "cell_style": "split",
    "colab": {
     "base_uri": "https://localhost:8080/"
    },
    "id": "gJM4thQkTRXv",
    "outputId": "d45648fc-2641-43f6-bd5f-48b74d3018e5"
   },
   "outputs": [
    {
     "data": {
      "text/plain": [
       "total_cases     8.165961\n",
       "new_cases       6.855750\n",
       "total_deaths    8.320843\n",
       "new_deaths      5.281220\n",
       "population      8.547395\n",
       "dtype: float64"
      ]
     },
     "execution_count": 47,
     "metadata": {},
     "output_type": "execute_result"
    }
   ],
   "source": [
    "Data.skew()"
   ]
  },
  {
   "cell_type": "code",
   "execution_count": 48,
   "id": "1YLQ4aEXTjuC",
   "metadata": {
    "cell_style": "split",
    "colab": {
     "base_uri": "https://localhost:8080/"
    },
    "id": "1YLQ4aEXTjuC",
    "outputId": "04de6a53-5f53-406e-9dbc-26de34524866"
   },
   "outputs": [
    {
     "data": {
      "text/plain": [
       "total_cases     77.950882\n",
       "new_cases       49.653642\n",
       "total_deaths    85.636886\n",
       "new_deaths      29.504134\n",
       "population      84.630446\n",
       "dtype: float64"
      ]
     },
     "execution_count": 48,
     "metadata": {},
     "output_type": "execute_result"
    }
   ],
   "source": [
    "Data.kurtosis()"
   ]
  },
  {
   "cell_type": "markdown",
   "id": "69bec24c",
   "metadata": {},
   "source": [
    "## Box Plots"
   ]
  },
  {
   "cell_type": "code",
   "execution_count": 82,
   "id": "0ASIzUeBQLIV",
   "metadata": {
    "cell_style": "split",
    "colab": {
     "base_uri": "https://localhost:8080/",
     "height": 294
    },
    "id": "0ASIzUeBQLIV",
    "outputId": "f379ce99-9439-47a2-9fcf-357f44177173"
   },
   "outputs": [
    {
     "data": {
      "text/plain": [
       "<AxesSubplot: >"
      ]
     },
     "execution_count": 82,
     "metadata": {},
     "output_type": "execute_result"
    },
    {
     "data": {
      "image/png": "[encoded data removed]",
      "text/plain": [
       "<Figure size 500x300 with 1 Axes>"
      ]
     },
     "metadata": {},
     "output_type": "display_data"
    }
   ],
   "source": [
    "Data.boxplot(\"total_cases\")"
   ]
  },
  {
   "cell_type": "code",
   "execution_count": 83,
   "id": "h9wuXOA0QbY0",
   "metadata": {
    "cell_style": "split",
    "colab": {
     "base_uri": "https://localhost:8080/",
     "height": 294
    },
    "id": "h9wuXOA0QbY0",
    "outputId": "a59e0149-7e11-40e9-a708-a2fd0eca96a0"
   },
   "outputs": [
    {
     "data": {
      "text/plain": [
       "<AxesSubplot: >"
      ]
     },
     "execution_count": 83,
     "metadata": {},
     "output_type": "execute_result"
    },
    {
     "data": {
      "image/png": "[encoded data removed]",
      "text/plain": [
       "<Figure size 500x300 with 1 Axes>"
      ]
     },
     "metadata": {},
     "output_type": "display_data"
    }
   ],
   "source": [
    "Data.boxplot(\"total_deaths\")"
   ]
  },
  {
   "cell_type": "code",
   "execution_count": 84,
   "id": "vgEbd455QjIX",
   "metadata": {
    "cell_style": "split",
    "colab": {
     "base_uri": "https://localhost:8080/",
     "height": 283
    },
    "id": "vgEbd455QjIX",
    "outputId": "69be12c5-ea8e-44f4-bd21-48e0258af273"
   },
   "outputs": [
    {
     "data": {
      "text/plain": [
       "<AxesSubplot: >"
      ]
     },
     "execution_count": 84,
     "metadata": {},
     "output_type": "execute_result"
    },
    {
     "data": {
      "image/png": "[encoded data removed]",
      "text/plain": [
       "<Figure size 500x300 with 1 Axes>"
      ]
     },
     "metadata": {},
     "output_type": "display_data"
    }
   ],
   "source": [
    "Data.boxplot(\"new_deaths\")"
   ]
  },
  {
   "cell_type": "code",
   "execution_count": 85,
   "id": "abbcfa1d",
   "metadata": {
    "cell_style": "split"
   },
   "outputs": [
    {
     "data": {
      "text/plain": [
       "<AxesSubplot: >"
      ]
     },
     "execution_count": 85,
     "metadata": {},
     "output_type": "execute_result"
    },
    {
     "data": {
      "image/png": "[encoded data removed]",
      "text/plain": [
       "<Figure size 500x300 with 1 Axes>"
      ]
     },
     "metadata": {},
     "output_type": "display_data"
    }
   ],
   "source": [
    "Data.boxplot(\"population\")"
   ]
  },
  {
   "cell_type": "code",
   "execution_count": 86,
   "id": "UXBcR4c3NkC5",
   "metadata": {
    "cell_style": "split",
    "colab": {
     "base_uri": "https://localhost:8080/",
     "height": 404
    },
    "id": "UXBcR4c3NkC5",
    "outputId": "0d4cde79-2efc-4df1-adb1-9d45fc874695",
    "scrolled": true
   },
   "outputs": [
    {
     "data": {
      "text/plain": [
       "<AxesSubplot: >"
      ]
     },
     "execution_count": 86,
     "metadata": {},
     "output_type": "execute_result"
    },
    {
     "data": {
      "image/png": "[encoded data removed]",
      "text/plain": [
       "<Figure size 500x300 with 1 Axes>"
      ]
     },
     "metadata": {},
     "output_type": "display_data"
    }
   ],
   "source": [
    "Data.boxplot('new_cases')"
   ]
  },
  {
   "cell_type": "code",
   "execution_count": 87,
   "id": "35dbe999",
   "metadata": {
    "cell_style": "split"
   },
   "outputs": [
    {
     "data": {
      "text/plain": [
       "<AxesSubplot: >"
      ]
     },
     "execution_count": 87,
     "metadata": {},
     "output_type": "execute_result"
    },
    {
     "data": {
      "image/png": "[encoded data removed]",
      "text/plain": [
       "<Figure size 500x300 with 1 Axes>"
      ]
     },
     "metadata": {},
     "output_type": "display_data"
    }
   ],
   "source": [
    "Data.boxplot()"
   ]
  },
  {
   "cell_type": "markdown",
   "id": "9ad5b3b6",
   "metadata": {},
   "source": [
    "## Correlation"
   ]
  },
  {
   "cell_type": "code",
   "execution_count": 55,
   "id": "6b6ab8df",
   "metadata": {},
   "outputs": [],
   "source": [
    "Correlation_Data=Data.corr()\n",
    "Correlation_Data.columns=[\"correlation_with_\"+column for column in Numerical_Columns]"
   ]
  },
  {
   "cell_type": "code",
   "execution_count": 56,
   "id": "0300ddaf",
   "metadata": {
    "scrolled": true
   },
   "outputs": [
    {
     "data": {
      "text/html": [
       "<div>\n",
       "<style scoped>\n",
       "    .dataframe tbody tr th:only-of-type {\n",
       "        vertical-align: middle;\n",
       "    }\n",
       "\n",
       "    .dataframe tbody tr th {\n",
       "        vertical-align: top;\n",
       "    }\n",
       "\n",
       "    .dataframe thead th {\n",
       "        text-align: right;\n",
       "    }\n",
       "</style>\n",
       "<table border=\"1\" class=\"dataframe\">\n",
       "  <thead>\n",
       "    <tr style=\"text-align: right;\">\n",
       "      <th></th>\n",
       "      <th>correlation_with_total_cases</th>\n",
       "      <th>correlation_with_new_cases</th>\n",
       "      <th>correlation_with_total_deaths</th>\n",
       "      <th>correlation_with_new_deaths</th>\n",
       "      <th>correlation_with_population</th>\n",
       "    </tr>\n",
       "  </thead>\n",
       "  <tbody>\n",
       "    <tr>\n",
       "      <th>total_cases</th>\n",
       "      <td>1.000000</td>\n",
       "      <td>0.798295</td>\n",
       "      <td>0.965605</td>\n",
       "      <td>0.539624</td>\n",
       "      <td>0.818204</td>\n",
       "    </tr>\n",
       "    <tr>\n",
       "      <th>new_cases</th>\n",
       "      <td>0.798295</td>\n",
       "      <td>1.000000</td>\n",
       "      <td>0.716579</td>\n",
       "      <td>0.738104</td>\n",
       "      <td>0.694869</td>\n",
       "    </tr>\n",
       "    <tr>\n",
       "      <th>total_deaths</th>\n",
       "      <td>0.965605</td>\n",
       "      <td>0.716579</td>\n",
       "      <td>1.000000</td>\n",
       "      <td>0.498016</td>\n",
       "      <td>0.862557</td>\n",
       "    </tr>\n",
       "    <tr>\n",
       "      <th>new_deaths</th>\n",
       "      <td>0.539624</td>\n",
       "      <td>0.738104</td>\n",
       "      <td>0.498016</td>\n",
       "      <td>1.000000</td>\n",
       "      <td>0.474217</td>\n",
       "    </tr>\n",
       "    <tr>\n",
       "      <th>population</th>\n",
       "      <td>0.818204</td>\n",
       "      <td>0.694869</td>\n",
       "      <td>0.862557</td>\n",
       "      <td>0.474217</td>\n",
       "      <td>1.000000</td>\n",
       "    </tr>\n",
       "  </tbody>\n",
       "</table>\n",
       "</div>"
      ],
      "text/plain": [
       "              correlation_with_total_cases  correlation_with_new_cases  \\\n",
       "total_cases                       1.000000                    0.798295   \n",
       "new_cases                         0.798295                    1.000000   \n",
       "total_deaths                      0.965605                    0.716579   \n",
       "new_deaths                        0.539624                    0.738104   \n",
       "population                        0.818204                    0.694869   \n",
       "\n",
       "              correlation_with_total_deaths  correlation_with_new_deaths  \\\n",
       "total_cases                        0.965605                     0.539624   \n",
       "new_cases                          0.716579                     0.738104   \n",
       "total_deaths                       1.000000                     0.498016   \n",
       "new_deaths                         0.498016                     1.000000   \n",
       "population                         0.862557                     0.474217   \n",
       "\n",
       "              correlation_with_population  \n",
       "total_cases                      0.818204  \n",
       "new_cases                        0.694869  \n",
       "total_deaths                     0.862557  \n",
       "new_deaths                       0.474217  \n",
       "population                       1.000000  "
      ]
     },
     "execution_count": 56,
     "metadata": {},
     "output_type": "execute_result"
    }
   ],
   "source": [
    "Correlation_Data"
   ]
  },
  {
   "cell_type": "markdown",
   "id": "f2ea1b2c",
   "metadata": {},
   "source": [
    "## Covariance"
   ]
  },
  {
   "cell_type": "code",
   "execution_count": 57,
   "id": "08c51d4a",
   "metadata": {},
   "outputs": [],
   "source": [
    "Covarience_data=Data.cov()\n",
    "Covarience_data.columns=[\"covarience_with_\"+column for column in Numerical_Columns]"
   ]
  },
  {
   "cell_type": "code",
   "execution_count": 58,
   "id": "106ecfa7",
   "metadata": {},
   "outputs": [
    {
     "data": {
      "text/html": [
       "<div>\n",
       "<style scoped>\n",
       "    .dataframe tbody tr th:only-of-type {\n",
       "        vertical-align: middle;\n",
       "    }\n",
       "\n",
       "    .dataframe tbody tr th {\n",
       "        vertical-align: top;\n",
       "    }\n",
       "\n",
       "    .dataframe thead th {\n",
       "        text-align: right;\n",
       "    }\n",
       "</style>\n",
       "<table border=\"1\" class=\"dataframe\">\n",
       "  <thead>\n",
       "    <tr style=\"text-align: right;\">\n",
       "      <th></th>\n",
       "      <th>covarience_with_total_cases</th>\n",
       "      <th>covarience_with_new_cases</th>\n",
       "      <th>covarience_with_total_deaths</th>\n",
       "      <th>covarience_with_new_deaths</th>\n",
       "      <th>covarience_with_population</th>\n",
       "    </tr>\n",
       "  </thead>\n",
       "  <tbody>\n",
       "    <tr>\n",
       "      <th>total_cases</th>\n",
       "      <td>3.466235e+15</td>\n",
       "      <td>1.040904e+12</td>\n",
       "      <td>3.247597e+13</td>\n",
       "      <td>4.274594e+09</td>\n",
       "      <td>3.339489e+16</td>\n",
       "    </tr>\n",
       "    <tr>\n",
       "      <th>new_cases</th>\n",
       "      <td>1.040904e+12</td>\n",
       "      <td>4.904979e+08</td>\n",
       "      <td>9.066083e+09</td>\n",
       "      <td>2.199453e+06</td>\n",
       "      <td>1.066870e+13</td>\n",
       "    </tr>\n",
       "    <tr>\n",
       "      <th>total_deaths</th>\n",
       "      <td>3.247597e+13</td>\n",
       "      <td>9.066083e+09</td>\n",
       "      <td>3.209114e+11</td>\n",
       "      <td>3.764174e+07</td>\n",
       "      <td>3.416246e+14</td>\n",
       "    </tr>\n",
       "    <tr>\n",
       "      <th>new_deaths</th>\n",
       "      <td>4.274594e+09</td>\n",
       "      <td>2.199453e+06</td>\n",
       "      <td>3.764174e+07</td>\n",
       "      <td>1.780196e+04</td>\n",
       "      <td>4.423469e+10</td>\n",
       "    </tr>\n",
       "    <tr>\n",
       "      <th>population</th>\n",
       "      <td>3.339489e+16</td>\n",
       "      <td>1.066870e+13</td>\n",
       "      <td>3.416246e+14</td>\n",
       "      <td>4.423469e+10</td>\n",
       "      <td>4.668029e+17</td>\n",
       "    </tr>\n",
       "  </tbody>\n",
       "</table>\n",
       "</div>"
      ],
      "text/plain": [
       "              covarience_with_total_cases  covarience_with_new_cases  \\\n",
       "total_cases                  3.466235e+15               1.040904e+12   \n",
       "new_cases                    1.040904e+12               4.904979e+08   \n",
       "total_deaths                 3.247597e+13               9.066083e+09   \n",
       "new_deaths                   4.274594e+09               2.199453e+06   \n",
       "population                   3.339489e+16               1.066870e+13   \n",
       "\n",
       "              covarience_with_total_deaths  covarience_with_new_deaths  \\\n",
       "total_cases                   3.247597e+13                4.274594e+09   \n",
       "new_cases                     9.066083e+09                2.199453e+06   \n",
       "total_deaths                  3.209114e+11                3.764174e+07   \n",
       "new_deaths                    3.764174e+07                1.780196e+04   \n",
       "population                    3.416246e+14                4.423469e+10   \n",
       "\n",
       "              covarience_with_population  \n",
       "total_cases                 3.339489e+16  \n",
       "new_cases                   1.066870e+13  \n",
       "total_deaths                3.416246e+14  \n",
       "new_deaths                  4.423469e+10  \n",
       "population                  4.668029e+17  "
      ]
     },
     "execution_count": 58,
     "metadata": {},
     "output_type": "execute_result"
    }
   ],
   "source": [
    "Covarience_data"
   ]
  },
  {
   "cell_type": "markdown",
   "id": "d6a5eea9",
   "metadata": {
    "cell_style": "split"
   },
   "source": [
    "## Bar Graph"
   ]
  },
  {
   "cell_type": "markdown",
   "id": "2231ab62",
   "metadata": {
    "cell_style": "split"
   },
   "source": [
    "## PieChart"
   ]
  },
  {
   "cell_type": "code",
   "execution_count": 88,
   "id": "786f0331",
   "metadata": {
    "cell_style": "split"
   },
   "outputs": [
    {
     "data": {
      "text/plain": [
       "<AxesSubplot: xlabel='location'>"
      ]
     },
     "execution_count": 88,
     "metadata": {},
     "output_type": "execute_result"
    },
    {
     "data": {
      "image/png": "[encoded data removed]",
      "text/plain": [
       "<Figure size 500x300 with 1 Axes>"
      ]
     },
     "metadata": {},
     "output_type": "display_data"
    }
   ],
   "source": [
    "Data[:20].plot.bar(x='location',y=['population'])"
   ]
  },
  {
   "cell_type": "code",
   "execution_count": 89,
   "id": "8704f15f",
   "metadata": {
    "cell_style": "split",
    "scrolled": false
   },
   "outputs": [
    {
     "data": {
      "image/png": "[encoded data removed]",
      "text/plain": [
       "<Figure size 500x300 with 1 Axes>"
      ]
     },
     "metadata": {},
     "output_type": "display_data"
    }
   ],
   "source": [
    "pyplot.pie(Data[:5]['total_cases'],labels=Data[:5]['location'],autopct='%1.1f%%')\n",
    "pyplot.show()"
   ]
  },
  {
   "cell_type": "markdown",
   "id": "035b5e13",
   "metadata": {},
   "source": [
    "## Line Graph"
   ]
  },
  {
   "cell_type": "code",
   "execution_count": 90,
   "id": "96f9dd6e",
   "metadata": {
    "cell_style": "split"
   },
   "outputs": [
    {
     "data": {
      "text/plain": [
       "<AxesSubplot: xlabel='location'>"
      ]
     },
     "execution_count": 90,
     "metadata": {},
     "output_type": "execute_result"
    },
    {
     "data": {
      "image/png": "[encoded data removed]",
      "text/plain": [
       "<Figure size 500x300 with 1 Axes>"
      ]
     },
     "metadata": {},
     "output_type": "display_data"
    }
   ],
   "source": [
    "Data[:5].plot(kind=\"line\",x='location',y=['new_cases','new_deaths'])"
   ]
  },
  {
   "cell_type": "code",
   "execution_count": 95,
   "id": "68e97ea0",
   "metadata": {
    "cell_style": "split"
   },
   "outputs": [
    {
     "data": {
      "text/plain": [
       "<AxesSubplot: xlabel='location'>"
      ]
     },
     "execution_count": 95,
     "metadata": {},
     "output_type": "execute_result"
    },
    {
     "data": {
      "image/png": "[encoded data removed]",
      "text/plain": [
       "<Figure size 500x300 with 1 Axes>"
      ]
     },
     "metadata": {},
     "output_type": "display_data"
    }
   ],
   "source": [
    "Data[-10:].plot(kind=\"line\",x='location',y=['total_cases','total_deaths'])"
   ]
  },
  {
   "cell_type": "markdown",
   "id": "e8ec0e85",
   "metadata": {},
   "source": [
    "# Gathering All Values Together"
   ]
  },
  {
   "cell_type": "code",
   "execution_count": 96,
   "id": "rmhgtM2OQsU1",
   "metadata": {
    "cell_style": "split",
    "id": "rmhgtM2OQsU1"
   },
   "outputs": [],
   "source": [
    "Statastics_Data=pandas.DataFrame()"
   ]
  },
  {
   "cell_type": "code",
   "execution_count": 97,
   "id": "vuEzrOAeS-Fv",
   "metadata": {
    "cell_style": "split",
    "colab": {
     "base_uri": "https://localhost:8080/"
    },
    "id": "vuEzrOAeS-Fv",
    "outputId": "eb682829-6cb9-4a92-e534-3081d0d2ae01"
   },
   "outputs": [],
   "source": [
    "Statastics_Data['mean']=Data.mean()"
   ]
  },
  {
   "cell_type": "code",
   "execution_count": 98,
   "id": "0dU1aIvFTM7B",
   "metadata": {
    "cell_style": "split",
    "colab": {
     "base_uri": "https://localhost:8080/"
    },
    "id": "0dU1aIvFTM7B",
    "outputId": "9dc0439b-6872-429c-f2be-70835b782e1a"
   },
   "outputs": [],
   "source": [
    "Statastics_Data['median']=Data.median()"
   ]
  },
  {
   "cell_type": "code",
   "execution_count": 99,
   "id": "zYsJbWaFTNDp",
   "metadata": {
    "cell_style": "split",
    "colab": {
     "base_uri": "https://localhost:8080/"
    },
    "id": "zYsJbWaFTNDp",
    "outputId": "ffc26fea-2666-4043-f2d0-e4ad7b1b2fc1"
   },
   "outputs": [],
   "source": [
    "Statastics_Data['skew']=Data.skew()"
   ]
  },
  {
   "cell_type": "code",
   "execution_count": 100,
   "id": "vSu33__JT-OG",
   "metadata": {
    "cell_style": "split",
    "colab": {
     "base_uri": "https://localhost:8080/"
    },
    "id": "vSu33__JT-OG",
    "outputId": "30927b7d-e2aa-449c-ceb3-3ed4da48762b"
   },
   "outputs": [],
   "source": [
    "Statastics_Data['kurtosis']=Data.kurtosis()"
   ]
  },
  {
   "cell_type": "code",
   "execution_count": 101,
   "id": "jzHH93R0UGNf",
   "metadata": {
    "cell_style": "split",
    "id": "jzHH93R0UGNf"
   },
   "outputs": [],
   "source": [
    "Statastics_Data['first_quartile']=Data.quantile(0.25)"
   ]
  },
  {
   "cell_type": "code",
   "execution_count": 69,
   "id": "S9ziN75_UGTU",
   "metadata": {
    "cell_style": "split",
    "id": "S9ziN75_UGTU"
   },
   "outputs": [],
   "source": [
    "Statastics_Data['third_quartile']=Data.quantile(0.75)"
   ]
  },
  {
   "cell_type": "code",
   "execution_count": 70,
   "id": "_CHdU3SUUGZD",
   "metadata": {
    "cell_style": "split",
    "id": "_CHdU3SUUGZD"
   },
   "outputs": [],
   "source": [
    "Statastics_Data['inter_quartile_range']=Inter_quartile_range"
   ]
  },
  {
   "cell_type": "code",
   "execution_count": 71,
   "id": "jmiAcRdzU2wL",
   "metadata": {
    "cell_style": "split",
    "id": "jmiAcRdzU2wL"
   },
   "outputs": [],
   "source": [
    "Statastics_Data['max']=Data.max()[len(Numerical_Columns)-1:]"
   ]
  },
  {
   "cell_type": "code",
   "execution_count": 72,
   "id": "-w2a4KtoU21q",
   "metadata": {
    "cell_style": "split",
    "id": "-w2a4KtoU21q"
   },
   "outputs": [],
   "source": [
    "Statastics_Data['min']=Data.min()[len(Numerical_Columns)-1:]"
   ]
  },
  {
   "cell_type": "code",
   "execution_count": 73,
   "id": "KLFElD_2WDXL",
   "metadata": {
    "cell_style": "split",
    "id": "KLFElD_2WDXL"
   },
   "outputs": [],
   "source": [
    "Statastics_Data['harmonic_mean']=[\n",
    "statistics.harmonic_mean(Data[Numerical_Columns[i]]) for i in range(len(Numerical_Columns))\n",
    "]"
   ]
  },
  {
   "cell_type": "code",
   "execution_count": 74,
   "id": "20fGpBk-WDdc",
   "metadata": {
    "cell_style": "split",
    "colab": {
     "base_uri": "https://localhost:8080/"
    },
    "id": "20fGpBk-WDdc",
    "outputId": "61735c83-c4ab-484a-c81d-de119d260b97"
   },
   "outputs": [],
   "source": [
    "Statastics_Data['geometric_mean']=[\n",
    "scipy.stats.mstats.gmean(Data[Numerical_Columns[i]])  for i in range(len(Numerical_Columns))\n",
    "]"
   ]
  },
  {
   "cell_type": "code",
   "execution_count": 75,
   "id": "77130922",
   "metadata": {
    "cell_style": "center"
   },
   "outputs": [],
   "source": [
    "Statastics_Data=pandas.concat([Statastics_Data,Correlation_Data,Covarience_data],axis=1)"
   ]
  },
  {
   "cell_type": "code",
   "execution_count": 76,
   "id": "pBNoYFXRTHGD",
   "metadata": {
    "colab": {
     "base_uri": "https://localhost:8080/",
     "height": 207
    },
    "id": "pBNoYFXRTHGD",
    "outputId": "0958d51c-b4b1-4384-a94e-3f94c6e3745a"
   },
   "outputs": [
    {
     "data": {
      "text/html": [
       "<div>\n",
       "<style scoped>\n",
       "    .dataframe tbody tr th:only-of-type {\n",
       "        vertical-align: middle;\n",
       "    }\n",
       "\n",
       "    .dataframe tbody tr th {\n",
       "        vertical-align: top;\n",
       "    }\n",
       "\n",
       "    .dataframe thead th {\n",
       "        text-align: right;\n",
       "    }\n",
       "</style>\n",
       "<table border=\"1\" class=\"dataframe\">\n",
       "  <thead>\n",
       "    <tr style=\"text-align: right;\">\n",
       "      <th></th>\n",
       "      <th>mean</th>\n",
       "      <th>median</th>\n",
       "      <th>skew</th>\n",
       "      <th>kurtosis</th>\n",
       "      <th>first_quartile</th>\n",
       "      <th>third_quartile</th>\n",
       "      <th>inter_quartile_range</th>\n",
       "      <th>max</th>\n",
       "      <th>min</th>\n",
       "      <th>harmonic_mean</th>\n",
       "      <th>...</th>\n",
       "      <th>correlation_with_total_cases</th>\n",
       "      <th>correlation_with_new_cases</th>\n",
       "      <th>correlation_with_total_deaths</th>\n",
       "      <th>correlation_with_new_deaths</th>\n",
       "      <th>correlation_with_population</th>\n",
       "      <th>covarience_with_total_cases</th>\n",
       "      <th>covarience_with_new_cases</th>\n",
       "      <th>covarience_with_total_deaths</th>\n",
       "      <th>covarience_with_new_deaths</th>\n",
       "      <th>covarience_with_population</th>\n",
       "    </tr>\n",
       "  </thead>\n",
       "  <tbody>\n",
       "    <tr>\n",
       "      <th>total_cases</th>\n",
       "      <td>1.233744e+07</td>\n",
       "      <td>285535.0</td>\n",
       "      <td>8.165961</td>\n",
       "      <td>77.950882</td>\n",
       "      <td>32122.0</td>\n",
       "      <td>2174490.5</td>\n",
       "      <td>2142368.5</td>\n",
       "      <td>NaN</td>\n",
       "      <td>NaN</td>\n",
       "      <td>NaN</td>\n",
       "      <td>...</td>\n",
       "      <td>1.000000</td>\n",
       "      <td>0.798295</td>\n",
       "      <td>0.965605</td>\n",
       "      <td>0.539624</td>\n",
       "      <td>0.818204</td>\n",
       "      <td>3.466235e+15</td>\n",
       "      <td>1.040904e+12</td>\n",
       "      <td>3.247597e+13</td>\n",
       "      <td>4.274594e+09</td>\n",
       "      <td>3.339489e+16</td>\n",
       "    </tr>\n",
       "    <tr>\n",
       "      <th>new_cases</th>\n",
       "      <td>4.587558e+03</td>\n",
       "      <td>0.0</td>\n",
       "      <td>6.855750</td>\n",
       "      <td>49.653642</td>\n",
       "      <td>0.0</td>\n",
       "      <td>305.5</td>\n",
       "      <td>305.5</td>\n",
       "      <td>195295.0</td>\n",
       "      <td>0.0</td>\n",
       "      <td>0.0</td>\n",
       "      <td>...</td>\n",
       "      <td>0.798295</td>\n",
       "      <td>1.000000</td>\n",
       "      <td>0.716579</td>\n",
       "      <td>0.738104</td>\n",
       "      <td>0.694869</td>\n",
       "      <td>1.040904e+12</td>\n",
       "      <td>4.904979e+08</td>\n",
       "      <td>9.066083e+09</td>\n",
       "      <td>2.199453e+06</td>\n",
       "      <td>1.066870e+13</td>\n",
       "    </tr>\n",
       "    <tr>\n",
       "      <th>total_deaths</th>\n",
       "      <td>1.237569e+05</td>\n",
       "      <td>3164.0</td>\n",
       "      <td>8.320843</td>\n",
       "      <td>85.636886</td>\n",
       "      <td>296.5</td>\n",
       "      <td>20464.5</td>\n",
       "      <td>20168.0</td>\n",
       "      <td>6723297.0</td>\n",
       "      <td>1.0</td>\n",
       "      <td>NaN</td>\n",
       "      <td>...</td>\n",
       "      <td>0.965605</td>\n",
       "      <td>0.716579</td>\n",
       "      <td>1.000000</td>\n",
       "      <td>0.498016</td>\n",
       "      <td>0.862557</td>\n",
       "      <td>3.247597e+13</td>\n",
       "      <td>9.066083e+09</td>\n",
       "      <td>3.209114e+11</td>\n",
       "      <td>3.764174e+07</td>\n",
       "      <td>3.416246e+14</td>\n",
       "    </tr>\n",
       "    <tr>\n",
       "      <th>new_deaths</th>\n",
       "      <td>3.409692e+01</td>\n",
       "      <td>0.0</td>\n",
       "      <td>5.281220</td>\n",
       "      <td>29.504134</td>\n",
       "      <td>0.0</td>\n",
       "      <td>1.0</td>\n",
       "      <td>1.0</td>\n",
       "      <td>1018.0</td>\n",
       "      <td>0.0</td>\n",
       "      <td>0.0</td>\n",
       "      <td>...</td>\n",
       "      <td>0.539624</td>\n",
       "      <td>0.738104</td>\n",
       "      <td>0.498016</td>\n",
       "      <td>1.000000</td>\n",
       "      <td>0.474217</td>\n",
       "      <td>4.274594e+09</td>\n",
       "      <td>2.199453e+06</td>\n",
       "      <td>3.764174e+07</td>\n",
       "      <td>1.780196e+04</td>\n",
       "      <td>4.423469e+10</td>\n",
       "    </tr>\n",
       "    <tr>\n",
       "      <th>population</th>\n",
       "      <td>1.371974e+08</td>\n",
       "      <td>6909971.0</td>\n",
       "      <td>8.547395</td>\n",
       "      <td>84.630446</td>\n",
       "      <td>829769.0</td>\n",
       "      <td>33531055.5</td>\n",
       "      <td>32701286.5</td>\n",
       "      <td>7975105024.0</td>\n",
       "      <td>808.0</td>\n",
       "      <td>NaN</td>\n",
       "      <td>...</td>\n",
       "      <td>0.818204</td>\n",
       "      <td>0.694869</td>\n",
       "      <td>0.862557</td>\n",
       "      <td>0.474217</td>\n",
       "      <td>1.000000</td>\n",
       "      <td>3.339489e+16</td>\n",
       "      <td>1.066870e+13</td>\n",
       "      <td>3.416246e+14</td>\n",
       "      <td>4.423469e+10</td>\n",
       "      <td>4.668029e+17</td>\n",
       "    </tr>\n",
       "  </tbody>\n",
       "</table>\n",
       "<p>5 rows × 21 columns</p>\n",
       "</div>"
      ],
      "text/plain": [
       "                      mean     median      skew   kurtosis  first_quartile  \\\n",
       "total_cases   1.233744e+07   285535.0  8.165961  77.950882         32122.0   \n",
       "new_cases     4.587558e+03        0.0  6.855750  49.653642             0.0   \n",
       "total_deaths  1.237569e+05     3164.0  8.320843  85.636886           296.5   \n",
       "new_deaths    3.409692e+01        0.0  5.281220  29.504134             0.0   \n",
       "population    1.371974e+08  6909971.0  8.547395  84.630446        829769.0   \n",
       "\n",
       "              third_quartile  inter_quartile_range           max    min  \\\n",
       "total_cases        2174490.5             2142368.5           NaN    NaN   \n",
       "new_cases              305.5                 305.5      195295.0    0.0   \n",
       "total_deaths         20464.5               20168.0     6723297.0    1.0   \n",
       "new_deaths               1.0                   1.0        1018.0    0.0   \n",
       "population        33531055.5            32701286.5  7975105024.0  808.0   \n",
       "\n",
       "              harmonic_mean  ...  correlation_with_total_cases  \\\n",
       "total_cases             NaN  ...                      1.000000   \n",
       "new_cases               0.0  ...                      0.798295   \n",
       "total_deaths            NaN  ...                      0.965605   \n",
       "new_deaths              0.0  ...                      0.539624   \n",
       "population              NaN  ...                      0.818204   \n",
       "\n",
       "              correlation_with_new_cases  correlation_with_total_deaths  \\\n",
       "total_cases                     0.798295                       0.965605   \n",
       "new_cases                       1.000000                       0.716579   \n",
       "total_deaths                    0.716579                       1.000000   \n",
       "new_deaths                      0.738104                       0.498016   \n",
       "population                      0.694869                       0.862557   \n",
       "\n",
       "              correlation_with_new_deaths  correlation_with_population  \\\n",
       "total_cases                      0.539624                     0.818204   \n",
       "new_cases                        0.738104                     0.694869   \n",
       "total_deaths                     0.498016                     0.862557   \n",
       "new_deaths                       1.000000                     0.474217   \n",
       "population                       0.474217                     1.000000   \n",
       "\n",
       "              covarience_with_total_cases  covarience_with_new_cases  \\\n",
       "total_cases                  3.466235e+15               1.040904e+12   \n",
       "new_cases                    1.040904e+12               4.904979e+08   \n",
       "total_deaths                 3.247597e+13               9.066083e+09   \n",
       "new_deaths                   4.274594e+09               2.199453e+06   \n",
       "population                   3.339489e+16               1.066870e+13   \n",
       "\n",
       "              covarience_with_total_deaths  covarience_with_new_deaths  \\\n",
       "total_cases                   3.247597e+13                4.274594e+09   \n",
       "new_cases                     9.066083e+09                2.199453e+06   \n",
       "total_deaths                  3.209114e+11                3.764174e+07   \n",
       "new_deaths                    3.764174e+07                1.780196e+04   \n",
       "population                    3.416246e+14                4.423469e+10   \n",
       "\n",
       "              covarience_with_population  \n",
       "total_cases                 3.339489e+16  \n",
       "new_cases                   1.066870e+13  \n",
       "total_deaths                3.416246e+14  \n",
       "new_deaths                  4.423469e+10  \n",
       "population                  4.668029e+17  \n",
       "\n",
       "[5 rows x 21 columns]"
      ]
     },
     "execution_count": 76,
     "metadata": {},
     "output_type": "execute_result"
    }
   ],
   "source": [
    "Statastics_Data"
   ]
  },
  {
   "cell_type": "code",
   "execution_count": 77,
   "id": "bc0ba11c",
   "metadata": {
    "cell_style": "split"
   },
   "outputs": [
    {
     "name": "stdout",
     "output_type": "stream",
     "text": [
      "<class 'pandas.core.frame.DataFrame'>\n",
      "Index: 5 entries, total_cases to population\n",
      "Data columns (total 21 columns):\n",
      " #   Column                         Non-Null Count  Dtype  \n",
      "---  ------                         --------------  -----  \n",
      " 0   mean                           5 non-null      float64\n",
      " 1   median                         5 non-null      float64\n",
      " 2   skew                           5 non-null      float64\n",
      " 3   kurtosis                       5 non-null      float64\n",
      " 4   first_quartile                 5 non-null      float64\n",
      " 5   third_quartile                 5 non-null      float64\n",
      " 6   inter_quartile_range           5 non-null      float64\n",
      " 7   max                            4 non-null      object \n",
      " 8   min                            4 non-null      object \n",
      " 9   harmonic_mean                  2 non-null      float64\n",
      " 10  geometric_mean                 0 non-null      float64\n",
      " 11  correlation_with_total_cases   5 non-null      float64\n",
      " 12  correlation_with_new_cases     5 non-null      float64\n",
      " 13  correlation_with_total_deaths  5 non-null      float64\n",
      " 14  correlation_with_new_deaths    5 non-null      float64\n",
      " 15  correlation_with_population    5 non-null      float64\n",
      " 16  covarience_with_total_cases    5 non-null      float64\n",
      " 17  covarience_with_new_cases      5 non-null      float64\n",
      " 18  covarience_with_total_deaths   5 non-null      float64\n",
      " 19  covarience_with_new_deaths     5 non-null      float64\n",
      " 20  covarience_with_population     5 non-null      float64\n",
      "dtypes: float64(19), object(2)\n",
      "memory usage: 880.0+ bytes\n"
     ]
    }
   ],
   "source": [
    "Statastics_Data.info()"
   ]
  },
  {
   "cell_type": "code",
   "execution_count": 78,
   "id": "Mfg1NDsHXU95",
   "metadata": {
    "cell_style": "split",
    "id": "Mfg1NDsHXU95"
   },
   "outputs": [
    {
     "data": {
      "text/plain": [
       "mean                                       4587.558442\n",
       "median                                             0.0\n",
       "skew                                           6.85575\n",
       "kurtosis                                     49.653642\n",
       "first_quartile                                     0.0\n",
       "third_quartile                                   305.5\n",
       "inter_quartile_range                             305.5\n",
       "max                                           195295.0\n",
       "min                                                0.0\n",
       "harmonic_mean                                      0.0\n",
       "geometric_mean                                     NaN\n",
       "correlation_with_total_cases                  0.798295\n",
       "correlation_with_new_cases                         1.0\n",
       "correlation_with_total_deaths                 0.716579\n",
       "correlation_with_new_deaths                   0.738104\n",
       "correlation_with_population                   0.694869\n",
       "covarience_with_total_cases       1040904171760.452271\n",
       "covarience_with_new_cases             490497920.265048\n",
       "covarience_with_total_deaths         9066083197.719257\n",
       "covarience_with_new_deaths              2199453.240166\n",
       "covarience_with_population       10668703145318.494141\n",
       "Name: new_cases, dtype: object"
      ]
     },
     "execution_count": 78,
     "metadata": {},
     "output_type": "execute_result"
    }
   ],
   "source": [
    "Statastics_Data.iloc[1,:]"
   ]
  },
  {
   "cell_type": "code",
   "execution_count": 79,
   "id": "Oms9uq_OXgUa",
   "metadata": {
    "cell_style": "split",
    "colab": {
     "base_uri": "https://localhost:8080/"
    },
    "id": "Oms9uq_OXgUa",
    "outputId": "64f7abf4-0bfa-4622-e287-1a39a2bf6cab"
   },
   "outputs": [
    {
     "data": {
      "text/plain": [
       "['mean',\n",
       " 'median',\n",
       " 'skew',\n",
       " 'kurtosis',\n",
       " 'first_quartile',\n",
       " 'third_quartile',\n",
       " 'inter_quartile_range',\n",
       " 'max',\n",
       " 'min',\n",
       " 'harmonic_mean',\n",
       " 'geometric_mean']"
      ]
     },
     "execution_count": 79,
     "metadata": {},
     "output_type": "execute_result"
    }
   ],
   "source": [
    "list(Statastics_Data)[:11]"
   ]
  },
  {
   "cell_type": "code",
   "execution_count": 80,
   "id": "Z4PAJYOdTIhf",
   "metadata": {
    "cell_style": "center",
    "colab": {
     "base_uri": "https://localhost:8080/",
     "height": 294
    },
    "id": "Z4PAJYOdTIhf",
    "outputId": "beb82c23-bc55-4673-9dd1-6dc53a31a76b"
   },
   "outputs": [
    {
     "data": {
      "text/plain": [
       "<AxesSubplot: >"
      ]
     },
     "execution_count": 80,
     "metadata": {},
     "output_type": "execute_result"
    },
    {
     "data": {
      "image/png": "[encoded data removed]",
      "text/plain": [
       "<Figure size 1500x1200 with 1 Axes>"
      ]
     },
     "metadata": {},
     "output_type": "display_data"
    }
   ],
   "source": [
    "Statastics_Data.iloc[1,:11].plot()"
   ]
  }
 ],
 "metadata": {
  "celltoolbar": "Initialization Cell",
  "colab": {
   "provenance": []
  },
  "hide_input": false,
  "kernelspec": {
   "display_name": "Python 3 (ipykernel)",
   "language": "python",
   "name": "python3"
  },
  "language_info": {
   "codemirror_mode": {
    "name": "ipython",
    "version": 3
   },
   "file_extension": ".py",
   "mimetype": "text/x-python",
   "name": "python",
   "nbconvert_exporter": "python",
   "pygments_lexer": "ipython3",
   "version": "3.10.8"
  },
  "toc": {
   "base_numbering": 1,
   "nav_menu": {
    "height": "485px",
    "width": "485px"
   },
   "number_sections": true,
   "sideBar": true,
   "skip_h1_title": false,
   "title_cell": "Table of Contents",
   "title_sidebar": "Contents",
   "toc_cell": false,
   "toc_position": {
    "height": "calc(100% - 180px)",
    "left": "10px",
    "top": "150px",
    "width": "300.594px"
   },
   "toc_section_display": true,
   "toc_window_display": true
  }
 },
 "nbformat": 4,
 "nbformat_minor": 5
}
