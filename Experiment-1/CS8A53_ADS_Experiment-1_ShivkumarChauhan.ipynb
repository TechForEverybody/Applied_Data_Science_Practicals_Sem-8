{
 "cells": [
  {
   "cell_type": "markdown",
   "id": "b4c316b0",
   "metadata": {},
   "source": [
    "## Name: Shivkumar G. Chauhan\n",
    "### Roll No.: CS8A53\n",
    "### Batch A-3\n",
    "---\n",
    "# Experiment - 1 : Descriptive and Infrential statastics"
   ]
  },
  {
   "cell_type": "code",
   "execution_count": null,
   "id": "eqZM21AKm_Cx",
   "metadata": {
    "colab": {
     "base_uri": "https://localhost:8080/"
    },
    "id": "eqZM21AKm_Cx",
    "outputId": "3848b054-11e1-4586-bf80-62e22f245aba",
    "scrolled": true
   },
   "outputs": [
    {
     "name": "stdout",
     "output_type": "stream",
     "text": [
      "Mounted at /content/drive\n"
     ]
    }
   ],
   "source": [
    "from google.colab import drive\n",
    "drive.mount('/content/drive')"
   ]
  },
  {
   "cell_type": "markdown",
   "id": "ff133017",
   "metadata": {},
   "source": [
    "## imports"
   ]
  },
  {
   "cell_type": "code",
   "execution_count": 2,
   "id": "IAN0ukSrIjTp",
   "metadata": {
    "ExecuteTime": {
     "end_time": "2023-02-13T18:09:06.153468Z",
     "start_time": "2023-02-13T18:09:04.207962Z"
    },
    "id": "IAN0ukSrIjTp"
   },
   "outputs": [],
   "source": [
    "import pandas\n",
    "import numpy\n",
    "import statistics\n",
    "import scipy.stats\n",
    "import matplotlib.pyplot as pyplot\n",
    "import warnings"
   ]
  },
  {
   "cell_type": "markdown",
   "id": "7ac9c7a3",
   "metadata": {},
   "source": [
    "## Configurations"
   ]
  },
  {
   "cell_type": "code",
   "execution_count": 3,
   "id": "a73b3d79",
   "metadata": {
    "ExecuteTime": {
     "end_time": "2023-02-13T18:09:06.223786Z",
     "start_time": "2023-02-13T18:09:06.159947Z"
    }
   },
   "outputs": [],
   "source": [
    "# %matplotlib qt\n",
    "%matplotlib inline\n",
    "pyplot.rcParams[\"figure.figsize\"] = (15, 12)"
   ]
  },
  {
   "cell_type": "code",
   "execution_count": 4,
   "id": "0c83763b",
   "metadata": {
    "ExecuteTime": {
     "end_time": "2023-02-13T18:09:06.598740Z",
     "start_time": "2023-02-13T18:09:06.586332Z"
    }
   },
   "outputs": [],
   "source": [
    "warnings.filterwarnings('ignore')"
   ]
  },
  {
   "cell_type": "code",
   "execution_count": 7,
   "id": "4AnwaYobJBtV",
   "metadata": {
    "ExecuteTime": {
     "end_time": "2023-02-13T18:12:42.546064Z",
     "start_time": "2023-02-13T18:12:42.131534Z"
    },
    "id": "4AnwaYobJBtV"
   },
   "outputs": [],
   "source": [
    "Data=pandas.read_csv(\"../Data/Raw_Data/16_01_2023_WorldWide.csv\")"
   ]
  },
  {
   "cell_type": "code",
   "execution_count": 8,
   "id": "nxlYmelmJSOo",
   "metadata": {
    "ExecuteTime": {
     "end_time": "2023-02-13T18:12:42.609226Z",
     "start_time": "2023-02-13T18:12:42.580367Z"
    },
    "colab": {
     "base_uri": "https://localhost:8080/"
    },
    "id": "nxlYmelmJSOo",
    "outputId": "4780db45-7b4a-4a66-94bc-d9c17993025a"
   },
   "outputs": [
    {
     "data": {
      "text/plain": [
       "Index(['iso_code', 'continent', 'location', 'last_updated_date', 'total_cases',\n",
       "       'new_cases', 'new_cases_smoothed', 'total_deaths', 'new_deaths',\n",
       "       'new_deaths_smoothed', 'total_cases_per_million',\n",
       "       'new_cases_per_million', 'new_cases_smoothed_per_million',\n",
       "       'total_deaths_per_million', 'new_deaths_per_million',\n",
       "       'new_deaths_smoothed_per_million', 'reproduction_rate', 'icu_patients',\n",
       "       'icu_patients_per_million', 'hosp_patients',\n",
       "       'hosp_patients_per_million', 'weekly_icu_admissions',\n",
       "       'weekly_icu_admissions_per_million', 'weekly_hosp_admissions',\n",
       "       'weekly_hosp_admissions_per_million', 'total_tests', 'new_tests',\n",
       "       'total_tests_per_thousand', 'new_tests_per_thousand',\n",
       "       'new_tests_smoothed', 'new_tests_smoothed_per_thousand',\n",
       "       'positive_rate', 'tests_per_case', 'tests_units', 'total_vaccinations',\n",
       "       'people_vaccinated', 'people_fully_vaccinated', 'total_boosters',\n",
       "       'new_vaccinations', 'new_vaccinations_smoothed',\n",
       "       'total_vaccinations_per_hundred', 'people_vaccinated_per_hundred',\n",
       "       'people_fully_vaccinated_per_hundred', 'total_boosters_per_hundred',\n",
       "       'new_vaccinations_smoothed_per_million',\n",
       "       'new_people_vaccinated_smoothed',\n",
       "       'new_people_vaccinated_smoothed_per_hundred', 'stringency_index',\n",
       "       'population_density', 'median_age', 'aged_65_older', 'aged_70_older',\n",
       "       'gdp_per_capita', 'extreme_poverty', 'cardiovasc_death_rate',\n",
       "       'diabetes_prevalence', 'female_smokers', 'male_smokers',\n",
       "       'handwashing_facilities', 'hospital_beds_per_thousand',\n",
       "       'life_expectancy', 'human_development_index', 'population',\n",
       "       'excess_mortality_cumulative_absolute', 'excess_mortality_cumulative',\n",
       "       'excess_mortality', 'excess_mortality_cumulative_per_million'],\n",
       "      dtype='object')"
      ]
     },
     "execution_count": 8,
     "metadata": {},
     "output_type": "execute_result"
    }
   ],
   "source": [
    "Data.columns"
   ]
  },
  {
   "cell_type": "code",
   "execution_count": 9,
   "id": "3sH7227XPMgG",
   "metadata": {
    "ExecuteTime": {
     "end_time": "2023-02-13T18:12:43.514395Z",
     "start_time": "2023-02-13T18:12:43.495331Z"
    },
    "id": "3sH7227XPMgG"
   },
   "outputs": [],
   "source": [
    "Selected_Columns=['iso_code', 'continent', 'location', 'last_updated_date', 'total_cases',\n",
    "       'new_cases', 'total_deaths', 'new_deaths','population']"
   ]
  },
  {
   "cell_type": "code",
   "execution_count": 10,
   "id": "WWIrYcpvKJok",
   "metadata": {
    "ExecuteTime": {
     "end_time": "2023-02-13T18:12:44.122183Z",
     "start_time": "2023-02-13T18:12:44.107347Z"
    },
    "id": "WWIrYcpvKJok"
   },
   "outputs": [],
   "source": [
    "Data=Data[Selected_Columns]"
   ]
  },
  {
   "cell_type": "code",
   "execution_count": 11,
   "id": "mhZB4KmKMuYf",
   "metadata": {
    "ExecuteTime": {
     "end_time": "2023-02-13T18:12:44.498153Z",
     "start_time": "2023-02-13T18:12:44.452596Z"
    },
    "id": "mhZB4KmKMuYf"
   },
   "outputs": [],
   "source": [
    "Numerical_Columns=Data.describe().columns"
   ]
  },
  {
   "cell_type": "code",
   "execution_count": 12,
   "id": "b1374aa4",
   "metadata": {
    "ExecuteTime": {
     "end_time": "2023-02-13T18:12:44.789174Z",
     "start_time": "2023-02-13T18:12:44.769173Z"
    }
   },
   "outputs": [
    {
     "data": {
      "text/plain": [
       "Index(['total_cases', 'new_cases', 'total_deaths', 'new_deaths', 'population'], dtype='object')"
      ]
     },
     "execution_count": 12,
     "metadata": {},
     "output_type": "execute_result"
    }
   ],
   "source": [
    "Numerical_Columns"
   ]
  },
  {
   "cell_type": "code",
   "execution_count": 13,
   "id": "071c4a7f",
   "metadata": {
    "ExecuteTime": {
     "end_time": "2023-02-13T18:12:45.064589Z",
     "start_time": "2023-02-13T18:12:45.049025Z"
    }
   },
   "outputs": [],
   "source": [
    "Data=Data.sort_values(by=\"total_cases\",ascending=False)"
   ]
  },
  {
   "cell_type": "markdown",
   "id": "c1b7a7d9",
   "metadata": {},
   "source": [
    "# Data Exploration"
   ]
  },
  {
   "cell_type": "code",
   "execution_count": 14,
   "id": "_Zi5ePSBJvCq",
   "metadata": {
    "ExecuteTime": {
     "end_time": "2023-02-13T18:12:45.738167Z",
     "start_time": "2023-02-13T18:12:45.690841Z"
    },
    "colab": {
     "base_uri": "https://localhost:8080/",
     "height": 506
    },
    "id": "_Zi5ePSBJvCq",
    "outputId": "7c579aff-1e3e-4cca-b4d9-9b97f6173628"
   },
   "outputs": [
    {
     "data": {
      "text/html": [
       "<div>\n",
       "<style scoped>\n",
       "    .dataframe tbody tr th:only-of-type {\n",
       "        vertical-align: middle;\n",
       "    }\n",
       "\n",
       "    .dataframe tbody tr th {\n",
       "        vertical-align: top;\n",
       "    }\n",
       "\n",
       "    .dataframe thead th {\n",
       "        text-align: right;\n",
       "    }\n",
       "</style>\n",
       "<table border=\"1\" class=\"dataframe\">\n",
       "  <thead>\n",
       "    <tr style=\"text-align: right;\">\n",
       "      <th></th>\n",
       "      <th>iso_code</th>\n",
       "      <th>continent</th>\n",
       "      <th>location</th>\n",
       "      <th>last_updated_date</th>\n",
       "      <th>total_cases</th>\n",
       "      <th>new_cases</th>\n",
       "      <th>total_deaths</th>\n",
       "      <th>new_deaths</th>\n",
       "      <th>population</th>\n",
       "    </tr>\n",
       "  </thead>\n",
       "  <tbody>\n",
       "    <tr>\n",
       "      <th>233</th>\n",
       "      <td>OWID_WRL</td>\n",
       "      <td>NaN</td>\n",
       "      <td>World</td>\n",
       "      <td>2023-01-16</td>\n",
       "      <td>666879519.0</td>\n",
       "      <td>195295.0</td>\n",
       "      <td>6723297.0</td>\n",
       "      <td>814.0</td>\n",
       "      <td>7.975105e+09</td>\n",
       "    </tr>\n",
       "    <tr>\n",
       "      <th>91</th>\n",
       "      <td>OWID_HIC</td>\n",
       "      <td>NaN</td>\n",
       "      <td>High income</td>\n",
       "      <td>2023-01-16</td>\n",
       "      <td>423860182.0</td>\n",
       "      <td>177208.0</td>\n",
       "      <td>2813965.0</td>\n",
       "      <td>618.0</td>\n",
       "      <td>1.250515e+09</td>\n",
       "    </tr>\n",
       "    <tr>\n",
       "      <th>69</th>\n",
       "      <td>OWID_EUR</td>\n",
       "      <td>NaN</td>\n",
       "      <td>Europe</td>\n",
       "      <td>2023-01-15</td>\n",
       "      <td>245913988.0</td>\n",
       "      <td>7266.0</td>\n",
       "      <td>2012174.0</td>\n",
       "      <td>64.0</td>\n",
       "      <td>7.448078e+08</td>\n",
       "    </tr>\n",
       "    <tr>\n",
       "      <th>11</th>\n",
       "      <td>OWID_ASI</td>\n",
       "      <td>NaN</td>\n",
       "      <td>Asia</td>\n",
       "      <td>2023-01-16</td>\n",
       "      <td>207134786.0</td>\n",
       "      <td>151942.0</td>\n",
       "      <td>1526561.0</td>\n",
       "      <td>576.0</td>\n",
       "      <td>4.721383e+09</td>\n",
       "    </tr>\n",
       "    <tr>\n",
       "      <th>70</th>\n",
       "      <td>OWID_EUN</td>\n",
       "      <td>NaN</td>\n",
       "      <td>European Union</td>\n",
       "      <td>2023-01-15</td>\n",
       "      <td>182467840.0</td>\n",
       "      <td>1981.0</td>\n",
       "      <td>1199738.0</td>\n",
       "      <td>13.0</td>\n",
       "      <td>4.501468e+08</td>\n",
       "    </tr>\n",
       "    <tr>\n",
       "      <th>...</th>\n",
       "      <td>...</td>\n",
       "      <td>...</td>\n",
       "      <td>...</td>\n",
       "      <td>...</td>\n",
       "      <td>...</td>\n",
       "      <td>...</td>\n",
       "      <td>...</td>\n",
       "      <td>...</td>\n",
       "      <td>...</td>\n",
       "    </tr>\n",
       "    <tr>\n",
       "      <th>107</th>\n",
       "      <td>JEY</td>\n",
       "      <td>Europe</td>\n",
       "      <td>Jersey</td>\n",
       "      <td>2023-01-08</td>\n",
       "      <td>NaN</td>\n",
       "      <td>NaN</td>\n",
       "      <td>NaN</td>\n",
       "      <td>NaN</td>\n",
       "      <td>1.107960e+05</td>\n",
       "    </tr>\n",
       "    <tr>\n",
       "      <th>158</th>\n",
       "      <td>OWID_CYN</td>\n",
       "      <td>Asia</td>\n",
       "      <td>Northern Cyprus</td>\n",
       "      <td>2023-01-12</td>\n",
       "      <td>NaN</td>\n",
       "      <td>NaN</td>\n",
       "      <td>NaN</td>\n",
       "      <td>NaN</td>\n",
       "      <td>3.828360e+05</td>\n",
       "    </tr>\n",
       "    <tr>\n",
       "      <th>159</th>\n",
       "      <td>OWID_NIR</td>\n",
       "      <td>Europe</td>\n",
       "      <td>Northern Ireland</td>\n",
       "      <td>2023-01-11</td>\n",
       "      <td>NaN</td>\n",
       "      <td>NaN</td>\n",
       "      <td>NaN</td>\n",
       "      <td>NaN</td>\n",
       "      <td>1.896000e+06</td>\n",
       "    </tr>\n",
       "    <tr>\n",
       "      <th>186</th>\n",
       "      <td>OWID_SCT</td>\n",
       "      <td>Europe</td>\n",
       "      <td>Scotland</td>\n",
       "      <td>2023-01-09</td>\n",
       "      <td>NaN</td>\n",
       "      <td>NaN</td>\n",
       "      <td>NaN</td>\n",
       "      <td>NaN</td>\n",
       "      <td>5.466000e+06</td>\n",
       "    </tr>\n",
       "    <tr>\n",
       "      <th>231</th>\n",
       "      <td>OWID_WLS</td>\n",
       "      <td>Europe</td>\n",
       "      <td>Wales</td>\n",
       "      <td>2023-01-10</td>\n",
       "      <td>NaN</td>\n",
       "      <td>NaN</td>\n",
       "      <td>NaN</td>\n",
       "      <td>NaN</td>\n",
       "      <td>3.170000e+06</td>\n",
       "    </tr>\n",
       "  </tbody>\n",
       "</table>\n",
       "<p>237 rows × 9 columns</p>\n",
       "</div>"
      ],
      "text/plain": [
       "     iso_code continent          location last_updated_date  total_cases  \\\n",
       "233  OWID_WRL       NaN             World        2023-01-16  666879519.0   \n",
       "91   OWID_HIC       NaN       High income        2023-01-16  423860182.0   \n",
       "69   OWID_EUR       NaN            Europe        2023-01-15  245913988.0   \n",
       "11   OWID_ASI       NaN              Asia        2023-01-16  207134786.0   \n",
       "70   OWID_EUN       NaN    European Union        2023-01-15  182467840.0   \n",
       "..        ...       ...               ...               ...          ...   \n",
       "107       JEY    Europe            Jersey        2023-01-08          NaN   \n",
       "158  OWID_CYN      Asia   Northern Cyprus        2023-01-12          NaN   \n",
       "159  OWID_NIR    Europe  Northern Ireland        2023-01-11          NaN   \n",
       "186  OWID_SCT    Europe          Scotland        2023-01-09          NaN   \n",
       "231  OWID_WLS    Europe             Wales        2023-01-10          NaN   \n",
       "\n",
       "     new_cases  total_deaths  new_deaths    population  \n",
       "233   195295.0     6723297.0       814.0  7.975105e+09  \n",
       "91    177208.0     2813965.0       618.0  1.250515e+09  \n",
       "69      7266.0     2012174.0        64.0  7.448078e+08  \n",
       "11    151942.0     1526561.0       576.0  4.721383e+09  \n",
       "70      1981.0     1199738.0        13.0  4.501468e+08  \n",
       "..         ...           ...         ...           ...  \n",
       "107        NaN           NaN         NaN  1.107960e+05  \n",
       "158        NaN           NaN         NaN  3.828360e+05  \n",
       "159        NaN           NaN         NaN  1.896000e+06  \n",
       "186        NaN           NaN         NaN  5.466000e+06  \n",
       "231        NaN           NaN         NaN  3.170000e+06  \n",
       "\n",
       "[237 rows x 9 columns]"
      ]
     },
     "execution_count": 14,
     "metadata": {},
     "output_type": "execute_result"
    }
   ],
   "source": [
    "Data"
   ]
  },
  {
   "cell_type": "code",
   "execution_count": 15,
   "id": "hPqDMhJwJ5AS",
   "metadata": {
    "ExecuteTime": {
     "end_time": "2023-02-13T18:12:45.996434Z",
     "start_time": "2023-02-13T18:12:45.961184Z"
    },
    "colab": {
     "base_uri": "https://localhost:8080/"
    },
    "id": "hPqDMhJwJ5AS",
    "outputId": "576b8564-3ab1-47b0-f232-538e2c3bfaee"
   },
   "outputs": [
    {
     "name": "stdout",
     "output_type": "stream",
     "text": [
      "<class 'pandas.core.frame.DataFrame'>\n",
      "Int64Index: 237 entries, 233 to 231\n",
      "Data columns (total 9 columns):\n",
      " #   Column             Non-Null Count  Dtype  \n",
      "---  ------             --------------  -----  \n",
      " 0   iso_code           237 non-null    object \n",
      " 1   continent          224 non-null    object \n",
      " 2   location           237 non-null    object \n",
      " 3   last_updated_date  237 non-null    object \n",
      " 4   total_cases        231 non-null    float64\n",
      " 5   new_cases          231 non-null    float64\n",
      " 6   total_deaths       227 non-null    float64\n",
      " 7   new_deaths         227 non-null    float64\n",
      " 8   population         236 non-null    float64\n",
      "dtypes: float64(5), object(4)\n",
      "memory usage: 18.5+ KB\n"
     ]
    }
   ],
   "source": [
    "Data.info()"
   ]
  },
  {
   "cell_type": "code",
   "execution_count": 16,
   "id": "mHJMSYJrKDbU",
   "metadata": {
    "ExecuteTime": {
     "end_time": "2023-02-13T18:12:46.234002Z",
     "start_time": "2023-02-13T18:12:46.178612Z"
    },
    "colab": {
     "base_uri": "https://localhost:8080/",
     "height": 365
    },
    "id": "mHJMSYJrKDbU",
    "outputId": "2f7803b4-b6b3-45a9-ac1a-2849dc5e1235"
   },
   "outputs": [
    {
     "data": {
      "text/html": [
       "<div>\n",
       "<style scoped>\n",
       "    .dataframe tbody tr th:only-of-type {\n",
       "        vertical-align: middle;\n",
       "    }\n",
       "\n",
       "    .dataframe tbody tr th {\n",
       "        vertical-align: top;\n",
       "    }\n",
       "\n",
       "    .dataframe thead th {\n",
       "        text-align: right;\n",
       "    }\n",
       "</style>\n",
       "<table border=\"1\" class=\"dataframe\">\n",
       "  <thead>\n",
       "    <tr style=\"text-align: right;\">\n",
       "      <th></th>\n",
       "      <th>total_cases</th>\n",
       "      <th>new_cases</th>\n",
       "      <th>total_deaths</th>\n",
       "      <th>new_deaths</th>\n",
       "      <th>population</th>\n",
       "    </tr>\n",
       "  </thead>\n",
       "  <tbody>\n",
       "    <tr>\n",
       "      <th>count</th>\n",
       "      <td>2.310000e+02</td>\n",
       "      <td>231.000000</td>\n",
       "      <td>2.270000e+02</td>\n",
       "      <td>227.000000</td>\n",
       "      <td>2.360000e+02</td>\n",
       "    </tr>\n",
       "    <tr>\n",
       "      <th>mean</th>\n",
       "      <td>1.233744e+07</td>\n",
       "      <td>4587.558442</td>\n",
       "      <td>1.237569e+05</td>\n",
       "      <td>34.096916</td>\n",
       "      <td>1.371974e+08</td>\n",
       "    </tr>\n",
       "    <tr>\n",
       "      <th>std</th>\n",
       "      <td>5.887474e+07</td>\n",
       "      <td>22147.187638</td>\n",
       "      <td>5.664904e+05</td>\n",
       "      <td>133.423968</td>\n",
       "      <td>6.832297e+08</td>\n",
       "    </tr>\n",
       "    <tr>\n",
       "      <th>min</th>\n",
       "      <td>1.000000e+00</td>\n",
       "      <td>0.000000</td>\n",
       "      <td>1.000000e+00</td>\n",
       "      <td>0.000000</td>\n",
       "      <td>8.080000e+02</td>\n",
       "    </tr>\n",
       "    <tr>\n",
       "      <th>25%</th>\n",
       "      <td>3.212200e+04</td>\n",
       "      <td>0.000000</td>\n",
       "      <td>2.965000e+02</td>\n",
       "      <td>0.000000</td>\n",
       "      <td>8.297690e+05</td>\n",
       "    </tr>\n",
       "    <tr>\n",
       "      <th>50%</th>\n",
       "      <td>2.855350e+05</td>\n",
       "      <td>0.000000</td>\n",
       "      <td>3.164000e+03</td>\n",
       "      <td>0.000000</td>\n",
       "      <td>6.909971e+06</td>\n",
       "    </tr>\n",
       "    <tr>\n",
       "      <th>75%</th>\n",
       "      <td>2.174490e+06</td>\n",
       "      <td>305.500000</td>\n",
       "      <td>2.046450e+04</td>\n",
       "      <td>1.000000</td>\n",
       "      <td>3.353106e+07</td>\n",
       "    </tr>\n",
       "    <tr>\n",
       "      <th>max</th>\n",
       "      <td>6.668795e+08</td>\n",
       "      <td>195295.000000</td>\n",
       "      <td>6.723297e+06</td>\n",
       "      <td>1018.000000</td>\n",
       "      <td>7.975105e+09</td>\n",
       "    </tr>\n",
       "  </tbody>\n",
       "</table>\n",
       "</div>"
      ],
      "text/plain": [
       "        total_cases      new_cases  total_deaths   new_deaths    population\n",
       "count  2.310000e+02     231.000000  2.270000e+02   227.000000  2.360000e+02\n",
       "mean   1.233744e+07    4587.558442  1.237569e+05    34.096916  1.371974e+08\n",
       "std    5.887474e+07   22147.187638  5.664904e+05   133.423968  6.832297e+08\n",
       "min    1.000000e+00       0.000000  1.000000e+00     0.000000  8.080000e+02\n",
       "25%    3.212200e+04       0.000000  2.965000e+02     0.000000  8.297690e+05\n",
       "50%    2.855350e+05       0.000000  3.164000e+03     0.000000  6.909971e+06\n",
       "75%    2.174490e+06     305.500000  2.046450e+04     1.000000  3.353106e+07\n",
       "max    6.668795e+08  195295.000000  6.723297e+06  1018.000000  7.975105e+09"
      ]
     },
     "execution_count": 16,
     "metadata": {},
     "output_type": "execute_result"
    }
   ],
   "source": [
    "Data.describe()"
   ]
  },
  {
   "cell_type": "code",
   "execution_count": 17,
   "id": "JnmklR96PK5H",
   "metadata": {
    "ExecuteTime": {
     "end_time": "2023-02-13T18:12:46.477837Z",
     "start_time": "2023-02-13T18:12:46.414185Z"
    },
    "id": "JnmklR96PK5H"
   },
   "outputs": [
    {
     "data": {
      "text/html": [
       "<div>\n",
       "<style scoped>\n",
       "    .dataframe tbody tr th:only-of-type {\n",
       "        vertical-align: middle;\n",
       "    }\n",
       "\n",
       "    .dataframe tbody tr th {\n",
       "        vertical-align: top;\n",
       "    }\n",
       "\n",
       "    .dataframe thead th {\n",
       "        text-align: right;\n",
       "    }\n",
       "</style>\n",
       "<table border=\"1\" class=\"dataframe\">\n",
       "  <thead>\n",
       "    <tr style=\"text-align: right;\">\n",
       "      <th></th>\n",
       "      <th>iso_code</th>\n",
       "      <th>continent</th>\n",
       "      <th>location</th>\n",
       "      <th>last_updated_date</th>\n",
       "      <th>total_cases</th>\n",
       "      <th>new_cases</th>\n",
       "      <th>total_deaths</th>\n",
       "      <th>new_deaths</th>\n",
       "      <th>population</th>\n",
       "    </tr>\n",
       "  </thead>\n",
       "  <tbody>\n",
       "    <tr>\n",
       "      <th>count</th>\n",
       "      <td>237</td>\n",
       "      <td>224</td>\n",
       "      <td>237</td>\n",
       "      <td>237</td>\n",
       "      <td>2.310000e+02</td>\n",
       "      <td>231.000000</td>\n",
       "      <td>2.270000e+02</td>\n",
       "      <td>227.000000</td>\n",
       "      <td>2.360000e+02</td>\n",
       "    </tr>\n",
       "    <tr>\n",
       "      <th>unique</th>\n",
       "      <td>237</td>\n",
       "      <td>6</td>\n",
       "      <td>237</td>\n",
       "      <td>7</td>\n",
       "      <td>NaN</td>\n",
       "      <td>NaN</td>\n",
       "      <td>NaN</td>\n",
       "      <td>NaN</td>\n",
       "      <td>NaN</td>\n",
       "    </tr>\n",
       "    <tr>\n",
       "      <th>top</th>\n",
       "      <td>OWID_WRL</td>\n",
       "      <td>Africa</td>\n",
       "      <td>World</td>\n",
       "      <td>2023-01-15</td>\n",
       "      <td>NaN</td>\n",
       "      <td>NaN</td>\n",
       "      <td>NaN</td>\n",
       "      <td>NaN</td>\n",
       "      <td>NaN</td>\n",
       "    </tr>\n",
       "    <tr>\n",
       "      <th>freq</th>\n",
       "      <td>1</td>\n",
       "      <td>55</td>\n",
       "      <td>1</td>\n",
       "      <td>215</td>\n",
       "      <td>NaN</td>\n",
       "      <td>NaN</td>\n",
       "      <td>NaN</td>\n",
       "      <td>NaN</td>\n",
       "      <td>NaN</td>\n",
       "    </tr>\n",
       "    <tr>\n",
       "      <th>mean</th>\n",
       "      <td>NaN</td>\n",
       "      <td>NaN</td>\n",
       "      <td>NaN</td>\n",
       "      <td>NaN</td>\n",
       "      <td>1.233744e+07</td>\n",
       "      <td>4587.558442</td>\n",
       "      <td>1.237569e+05</td>\n",
       "      <td>34.096916</td>\n",
       "      <td>1.371974e+08</td>\n",
       "    </tr>\n",
       "    <tr>\n",
       "      <th>std</th>\n",
       "      <td>NaN</td>\n",
       "      <td>NaN</td>\n",
       "      <td>NaN</td>\n",
       "      <td>NaN</td>\n",
       "      <td>5.887474e+07</td>\n",
       "      <td>22147.187638</td>\n",
       "      <td>5.664904e+05</td>\n",
       "      <td>133.423968</td>\n",
       "      <td>6.832297e+08</td>\n",
       "    </tr>\n",
       "    <tr>\n",
       "      <th>min</th>\n",
       "      <td>NaN</td>\n",
       "      <td>NaN</td>\n",
       "      <td>NaN</td>\n",
       "      <td>NaN</td>\n",
       "      <td>1.000000e+00</td>\n",
       "      <td>0.000000</td>\n",
       "      <td>1.000000e+00</td>\n",
       "      <td>0.000000</td>\n",
       "      <td>8.080000e+02</td>\n",
       "    </tr>\n",
       "    <tr>\n",
       "      <th>25%</th>\n",
       "      <td>NaN</td>\n",
       "      <td>NaN</td>\n",
       "      <td>NaN</td>\n",
       "      <td>NaN</td>\n",
       "      <td>3.212200e+04</td>\n",
       "      <td>0.000000</td>\n",
       "      <td>2.965000e+02</td>\n",
       "      <td>0.000000</td>\n",
       "      <td>8.297690e+05</td>\n",
       "    </tr>\n",
       "    <tr>\n",
       "      <th>50%</th>\n",
       "      <td>NaN</td>\n",
       "      <td>NaN</td>\n",
       "      <td>NaN</td>\n",
       "      <td>NaN</td>\n",
       "      <td>2.855350e+05</td>\n",
       "      <td>0.000000</td>\n",
       "      <td>3.164000e+03</td>\n",
       "      <td>0.000000</td>\n",
       "      <td>6.909971e+06</td>\n",
       "    </tr>\n",
       "    <tr>\n",
       "      <th>75%</th>\n",
       "      <td>NaN</td>\n",
       "      <td>NaN</td>\n",
       "      <td>NaN</td>\n",
       "      <td>NaN</td>\n",
       "      <td>2.174490e+06</td>\n",
       "      <td>305.500000</td>\n",
       "      <td>2.046450e+04</td>\n",
       "      <td>1.000000</td>\n",
       "      <td>3.353106e+07</td>\n",
       "    </tr>\n",
       "    <tr>\n",
       "      <th>max</th>\n",
       "      <td>NaN</td>\n",
       "      <td>NaN</td>\n",
       "      <td>NaN</td>\n",
       "      <td>NaN</td>\n",
       "      <td>6.668795e+08</td>\n",
       "      <td>195295.000000</td>\n",
       "      <td>6.723297e+06</td>\n",
       "      <td>1018.000000</td>\n",
       "      <td>7.975105e+09</td>\n",
       "    </tr>\n",
       "  </tbody>\n",
       "</table>\n",
       "</div>"
      ],
      "text/plain": [
       "        iso_code continent location last_updated_date   total_cases  \\\n",
       "count        237       224      237               237  2.310000e+02   \n",
       "unique       237         6      237                 7           NaN   \n",
       "top     OWID_WRL    Africa    World        2023-01-15           NaN   \n",
       "freq           1        55        1               215           NaN   \n",
       "mean         NaN       NaN      NaN               NaN  1.233744e+07   \n",
       "std          NaN       NaN      NaN               NaN  5.887474e+07   \n",
       "min          NaN       NaN      NaN               NaN  1.000000e+00   \n",
       "25%          NaN       NaN      NaN               NaN  3.212200e+04   \n",
       "50%          NaN       NaN      NaN               NaN  2.855350e+05   \n",
       "75%          NaN       NaN      NaN               NaN  2.174490e+06   \n",
       "max          NaN       NaN      NaN               NaN  6.668795e+08   \n",
       "\n",
       "            new_cases  total_deaths   new_deaths    population  \n",
       "count      231.000000  2.270000e+02   227.000000  2.360000e+02  \n",
       "unique            NaN           NaN          NaN           NaN  \n",
       "top               NaN           NaN          NaN           NaN  \n",
       "freq              NaN           NaN          NaN           NaN  \n",
       "mean      4587.558442  1.237569e+05    34.096916  1.371974e+08  \n",
       "std      22147.187638  5.664904e+05   133.423968  6.832297e+08  \n",
       "min          0.000000  1.000000e+00     0.000000  8.080000e+02  \n",
       "25%          0.000000  2.965000e+02     0.000000  8.297690e+05  \n",
       "50%          0.000000  3.164000e+03     0.000000  6.909971e+06  \n",
       "75%        305.500000  2.046450e+04     1.000000  3.353106e+07  \n",
       "max     195295.000000  6.723297e+06  1018.000000  7.975105e+09  "
      ]
     },
     "execution_count": 17,
     "metadata": {},
     "output_type": "execute_result"
    }
   ],
   "source": [
    "Data.describe(include=\"all\")"
   ]
  },
  {
   "cell_type": "markdown",
   "id": "03ab97b4",
   "metadata": {
    "code_folding": [],
    "run_control": {
     "marked": false
    }
   },
   "source": [
    "## Data Reduction"
   ]
  },
  {
   "cell_type": "markdown",
   "id": "a69e90da",
   "metadata": {},
   "source": [
    "here some countries have NULL Values in their specific columns, so dropping the columns without filling it"
   ]
  },
  {
   "cell_type": "code",
   "execution_count": 18,
   "id": "d45b7691",
   "metadata": {
    "ExecuteTime": {
     "end_time": "2023-02-13T18:12:47.435538Z",
     "start_time": "2023-02-13T18:12:47.422703Z"
    }
   },
   "outputs": [
    {
     "data": {
      "text/plain": [
       "iso_code             False\n",
       "continent             True\n",
       "location             False\n",
       "last_updated_date    False\n",
       "total_cases           True\n",
       "new_cases             True\n",
       "total_deaths          True\n",
       "new_deaths            True\n",
       "population            True\n",
       "dtype: bool"
      ]
     },
     "execution_count": 18,
     "metadata": {},
     "output_type": "execute_result"
    }
   ],
   "source": [
    "Data.isnull().any()"
   ]
  },
  {
   "cell_type": "code",
   "execution_count": 19,
   "id": "122b1644",
   "metadata": {
    "ExecuteTime": {
     "end_time": "2023-02-13T18:12:47.711968Z",
     "start_time": "2023-02-13T18:12:47.693320Z"
    }
   },
   "outputs": [
    {
     "data": {
      "text/plain": [
       "iso_code              0\n",
       "continent            13\n",
       "location              0\n",
       "last_updated_date     0\n",
       "total_cases           6\n",
       "new_cases             6\n",
       "total_deaths         10\n",
       "new_deaths           10\n",
       "population            1\n",
       "dtype: int64"
      ]
     },
     "execution_count": 19,
     "metadata": {},
     "output_type": "execute_result"
    }
   ],
   "source": [
    "Data.isnull().sum()"
   ]
  },
  {
   "cell_type": "code",
   "execution_count": 20,
   "id": "008Ptc1hOHz7",
   "metadata": {
    "ExecuteTime": {
     "end_time": "2023-02-13T18:12:47.967124Z",
     "start_time": "2023-02-13T18:12:47.952050Z"
    },
    "id": "008Ptc1hOHz7"
   },
   "outputs": [],
   "source": [
    "Data=Data.dropna()"
   ]
  },
  {
   "cell_type": "code",
   "execution_count": 21,
   "id": "uUIgiXtXKmJy",
   "metadata": {
    "ExecuteTime": {
     "end_time": "2023-02-13T18:12:48.248175Z",
     "start_time": "2023-02-13T18:12:48.199199Z"
    },
    "colab": {
     "base_uri": "https://localhost:8080/",
     "height": 424
    },
    "id": "uUIgiXtXKmJy",
    "outputId": "22dbba57-2021-4d0d-8f54-9d24c7da39ab"
   },
   "outputs": [
    {
     "data": {
      "text/html": [
       "<div>\n",
       "<style scoped>\n",
       "    .dataframe tbody tr th:only-of-type {\n",
       "        vertical-align: middle;\n",
       "    }\n",
       "\n",
       "    .dataframe tbody tr th {\n",
       "        vertical-align: top;\n",
       "    }\n",
       "\n",
       "    .dataframe thead th {\n",
       "        text-align: right;\n",
       "    }\n",
       "</style>\n",
       "<table border=\"1\" class=\"dataframe\">\n",
       "  <thead>\n",
       "    <tr style=\"text-align: right;\">\n",
       "      <th></th>\n",
       "      <th>iso_code</th>\n",
       "      <th>continent</th>\n",
       "      <th>location</th>\n",
       "      <th>last_updated_date</th>\n",
       "      <th>total_cases</th>\n",
       "      <th>new_cases</th>\n",
       "      <th>total_deaths</th>\n",
       "      <th>new_deaths</th>\n",
       "      <th>population</th>\n",
       "    </tr>\n",
       "  </thead>\n",
       "  <tbody>\n",
       "    <tr>\n",
       "      <th>223</th>\n",
       "      <td>USA</td>\n",
       "      <td>North America</td>\n",
       "      <td>United States</td>\n",
       "      <td>2023-01-15</td>\n",
       "      <td>101648826.0</td>\n",
       "      <td>2718.0</td>\n",
       "      <td>1099860.0</td>\n",
       "      <td>37.0</td>\n",
       "      <td>3.382899e+08</td>\n",
       "    </tr>\n",
       "    <tr>\n",
       "      <th>96</th>\n",
       "      <td>IND</td>\n",
       "      <td>Asia</td>\n",
       "      <td>India</td>\n",
       "      <td>2023-01-16</td>\n",
       "      <td>44682378.0</td>\n",
       "      <td>114.0</td>\n",
       "      <td>530726.0</td>\n",
       "      <td>0.0</td>\n",
       "      <td>1.417173e+09</td>\n",
       "    </tr>\n",
       "    <tr>\n",
       "      <th>75</th>\n",
       "      <td>FRA</td>\n",
       "      <td>Europe</td>\n",
       "      <td>France</td>\n",
       "      <td>2023-01-15</td>\n",
       "      <td>39482221.0</td>\n",
       "      <td>6238.0</td>\n",
       "      <td>163416.0</td>\n",
       "      <td>101.0</td>\n",
       "      <td>6.781300e+07</td>\n",
       "    </tr>\n",
       "    <tr>\n",
       "      <th>80</th>\n",
       "      <td>DEU</td>\n",
       "      <td>Europe</td>\n",
       "      <td>Germany</td>\n",
       "      <td>2023-01-16</td>\n",
       "      <td>37605135.0</td>\n",
       "      <td>10609.0</td>\n",
       "      <td>163775.0</td>\n",
       "      <td>150.0</td>\n",
       "      <td>8.336984e+07</td>\n",
       "    </tr>\n",
       "    <tr>\n",
       "      <th>29</th>\n",
       "      <td>BRA</td>\n",
       "      <td>South America</td>\n",
       "      <td>Brazil</td>\n",
       "      <td>2023-01-15</td>\n",
       "      <td>36628099.0</td>\n",
       "      <td>3537.0</td>\n",
       "      <td>695343.0</td>\n",
       "      <td>2.0</td>\n",
       "      <td>2.153135e+08</td>\n",
       "    </tr>\n",
       "    <tr>\n",
       "      <th>...</th>\n",
       "      <td>...</td>\n",
       "      <td>...</td>\n",
       "      <td>...</td>\n",
       "      <td>...</td>\n",
       "      <td>...</td>\n",
       "      <td>...</td>\n",
       "      <td>...</td>\n",
       "      <td>...</td>\n",
       "      <td>...</td>\n",
       "    </tr>\n",
       "    <tr>\n",
       "      <th>232</th>\n",
       "      <td>WLF</td>\n",
       "      <td>Oceania</td>\n",
       "      <td>Wallis and Futuna</td>\n",
       "      <td>2023-01-15</td>\n",
       "      <td>3427.0</td>\n",
       "      <td>0.0</td>\n",
       "      <td>7.0</td>\n",
       "      <td>0.0</td>\n",
       "      <td>1.159600e+04</td>\n",
       "    </tr>\n",
       "    <tr>\n",
       "      <th>126</th>\n",
       "      <td>MAC</td>\n",
       "      <td>Asia</td>\n",
       "      <td>Macao</td>\n",
       "      <td>2023-01-15</td>\n",
       "      <td>3416.0</td>\n",
       "      <td>134.0</td>\n",
       "      <td>106.0</td>\n",
       "      <td>23.0</td>\n",
       "      <td>6.951800e+05</td>\n",
       "    </tr>\n",
       "    <tr>\n",
       "      <th>180</th>\n",
       "      <td>SPM</td>\n",
       "      <td>North America</td>\n",
       "      <td>Saint Pierre and Miquelon</td>\n",
       "      <td>2023-01-15</td>\n",
       "      <td>3368.0</td>\n",
       "      <td>0.0</td>\n",
       "      <td>2.0</td>\n",
       "      <td>0.0</td>\n",
       "      <td>5.885000e+03</td>\n",
       "    </tr>\n",
       "    <tr>\n",
       "      <th>142</th>\n",
       "      <td>MSR</td>\n",
       "      <td>North America</td>\n",
       "      <td>Montserrat</td>\n",
       "      <td>2023-01-15</td>\n",
       "      <td>1403.0</td>\n",
       "      <td>0.0</td>\n",
       "      <td>8.0</td>\n",
       "      <td>0.0</td>\n",
       "      <td>4.413000e+03</td>\n",
       "    </tr>\n",
       "    <tr>\n",
       "      <th>156</th>\n",
       "      <td>PRK</td>\n",
       "      <td>Asia</td>\n",
       "      <td>North Korea</td>\n",
       "      <td>2023-01-15</td>\n",
       "      <td>1.0</td>\n",
       "      <td>0.0</td>\n",
       "      <td>6.0</td>\n",
       "      <td>0.0</td>\n",
       "      <td>2.606942e+07</td>\n",
       "    </tr>\n",
       "  </tbody>\n",
       "</table>\n",
       "<p>214 rows × 9 columns</p>\n",
       "</div>"
      ],
      "text/plain": [
       "    iso_code      continent                   location last_updated_date  \\\n",
       "223      USA  North America              United States        2023-01-15   \n",
       "96       IND           Asia                      India        2023-01-16   \n",
       "75       FRA         Europe                     France        2023-01-15   \n",
       "80       DEU         Europe                    Germany        2023-01-16   \n",
       "29       BRA  South America                     Brazil        2023-01-15   \n",
       "..       ...            ...                        ...               ...   \n",
       "232      WLF        Oceania          Wallis and Futuna        2023-01-15   \n",
       "126      MAC           Asia                      Macao        2023-01-15   \n",
       "180      SPM  North America  Saint Pierre and Miquelon        2023-01-15   \n",
       "142      MSR  North America                 Montserrat        2023-01-15   \n",
       "156      PRK           Asia                North Korea        2023-01-15   \n",
       "\n",
       "     total_cases  new_cases  total_deaths  new_deaths    population  \n",
       "223  101648826.0     2718.0     1099860.0        37.0  3.382899e+08  \n",
       "96    44682378.0      114.0      530726.0         0.0  1.417173e+09  \n",
       "75    39482221.0     6238.0      163416.0       101.0  6.781300e+07  \n",
       "80    37605135.0    10609.0      163775.0       150.0  8.336984e+07  \n",
       "29    36628099.0     3537.0      695343.0         2.0  2.153135e+08  \n",
       "..           ...        ...           ...         ...           ...  \n",
       "232       3427.0        0.0           7.0         0.0  1.159600e+04  \n",
       "126       3416.0      134.0         106.0        23.0  6.951800e+05  \n",
       "180       3368.0        0.0           2.0         0.0  5.885000e+03  \n",
       "142       1403.0        0.0           8.0         0.0  4.413000e+03  \n",
       "156          1.0        0.0           6.0         0.0  2.606942e+07  \n",
       "\n",
       "[214 rows x 9 columns]"
      ]
     },
     "execution_count": 21,
     "metadata": {},
     "output_type": "execute_result"
    }
   ],
   "source": [
    "Data"
   ]
  },
  {
   "cell_type": "code",
   "execution_count": 22,
   "id": "1u9qsdMwLNjQ",
   "metadata": {
    "ExecuteTime": {
     "end_time": "2023-02-13T18:12:48.482961Z",
     "start_time": "2023-02-13T18:12:48.461045Z"
    },
    "colab": {
     "base_uri": "https://localhost:8080/"
    },
    "id": "1u9qsdMwLNjQ",
    "outputId": "afa6a7d3-fd8f-46c0-f36a-3ba5f9d97609"
   },
   "outputs": [
    {
     "name": "stdout",
     "output_type": "stream",
     "text": [
      "<class 'pandas.core.frame.DataFrame'>\n",
      "Int64Index: 214 entries, 223 to 156\n",
      "Data columns (total 9 columns):\n",
      " #   Column             Non-Null Count  Dtype  \n",
      "---  ------             --------------  -----  \n",
      " 0   iso_code           214 non-null    object \n",
      " 1   continent          214 non-null    object \n",
      " 2   location           214 non-null    object \n",
      " 3   last_updated_date  214 non-null    object \n",
      " 4   total_cases        214 non-null    float64\n",
      " 5   new_cases          214 non-null    float64\n",
      " 6   total_deaths       214 non-null    float64\n",
      " 7   new_deaths         214 non-null    float64\n",
      " 8   population         214 non-null    float64\n",
      "dtypes: float64(5), object(4)\n",
      "memory usage: 16.7+ KB\n"
     ]
    }
   ],
   "source": [
    "Data.info()"
   ]
  },
  {
   "cell_type": "code",
   "execution_count": 23,
   "id": "sNyZZsT0LQml",
   "metadata": {
    "ExecuteTime": {
     "end_time": "2023-02-13T18:12:48.792242Z",
     "start_time": "2023-02-13T18:12:48.719630Z"
    },
    "colab": {
     "base_uri": "https://localhost:8080/",
     "height": 395
    },
    "id": "sNyZZsT0LQml",
    "outputId": "1a99605f-9fd0-4a2b-9a1b-2c76a69f83c8"
   },
   "outputs": [
    {
     "data": {
      "text/html": [
       "<div>\n",
       "<style scoped>\n",
       "    .dataframe tbody tr th:only-of-type {\n",
       "        vertical-align: middle;\n",
       "    }\n",
       "\n",
       "    .dataframe tbody tr th {\n",
       "        vertical-align: top;\n",
       "    }\n",
       "\n",
       "    .dataframe thead th {\n",
       "        text-align: right;\n",
       "    }\n",
       "</style>\n",
       "<table border=\"1\" class=\"dataframe\">\n",
       "  <thead>\n",
       "    <tr style=\"text-align: right;\">\n",
       "      <th></th>\n",
       "      <th>iso_code</th>\n",
       "      <th>continent</th>\n",
       "      <th>location</th>\n",
       "      <th>last_updated_date</th>\n",
       "      <th>total_cases</th>\n",
       "      <th>new_cases</th>\n",
       "      <th>total_deaths</th>\n",
       "      <th>new_deaths</th>\n",
       "      <th>population</th>\n",
       "    </tr>\n",
       "  </thead>\n",
       "  <tbody>\n",
       "    <tr>\n",
       "      <th>count</th>\n",
       "      <td>214</td>\n",
       "      <td>214</td>\n",
       "      <td>214</td>\n",
       "      <td>214</td>\n",
       "      <td>2.140000e+02</td>\n",
       "      <td>214.000000</td>\n",
       "      <td>2.140000e+02</td>\n",
       "      <td>214.000000</td>\n",
       "      <td>2.140000e+02</td>\n",
       "    </tr>\n",
       "    <tr>\n",
       "      <th>unique</th>\n",
       "      <td>214</td>\n",
       "      <td>6</td>\n",
       "      <td>214</td>\n",
       "      <td>2</td>\n",
       "      <td>NaN</td>\n",
       "      <td>NaN</td>\n",
       "      <td>NaN</td>\n",
       "      <td>NaN</td>\n",
       "      <td>NaN</td>\n",
       "    </tr>\n",
       "    <tr>\n",
       "      <th>top</th>\n",
       "      <td>USA</td>\n",
       "      <td>Africa</td>\n",
       "      <td>United States</td>\n",
       "      <td>2023-01-15</td>\n",
       "      <td>NaN</td>\n",
       "      <td>NaN</td>\n",
       "      <td>NaN</td>\n",
       "      <td>NaN</td>\n",
       "      <td>NaN</td>\n",
       "    </tr>\n",
       "    <tr>\n",
       "      <th>freq</th>\n",
       "      <td>1</td>\n",
       "      <td>54</td>\n",
       "      <td>1</td>\n",
       "      <td>204</td>\n",
       "      <td>NaN</td>\n",
       "      <td>NaN</td>\n",
       "      <td>NaN</td>\n",
       "      <td>NaN</td>\n",
       "      <td>NaN</td>\n",
       "    </tr>\n",
       "    <tr>\n",
       "      <th>mean</th>\n",
       "      <td>NaN</td>\n",
       "      <td>NaN</td>\n",
       "      <td>NaN</td>\n",
       "      <td>NaN</td>\n",
       "      <td>3.116224e+06</td>\n",
       "      <td>2204.953271</td>\n",
       "      <td>3.141721e+04</td>\n",
       "      <td>24.696262</td>\n",
       "      <td>3.721731e+07</td>\n",
       "    </tr>\n",
       "    <tr>\n",
       "      <th>std</th>\n",
       "      <td>NaN</td>\n",
       "      <td>NaN</td>\n",
       "      <td>NaN</td>\n",
       "      <td>NaN</td>\n",
       "      <td>9.656967e+06</td>\n",
       "      <td>10433.607141</td>\n",
       "      <td>1.061432e+05</td>\n",
       "      <td>113.340553</td>\n",
       "      <td>1.426430e+08</td>\n",
       "    </tr>\n",
       "    <tr>\n",
       "      <th>min</th>\n",
       "      <td>NaN</td>\n",
       "      <td>NaN</td>\n",
       "      <td>NaN</td>\n",
       "      <td>NaN</td>\n",
       "      <td>1.000000e+00</td>\n",
       "      <td>0.000000</td>\n",
       "      <td>1.000000e+00</td>\n",
       "      <td>0.000000</td>\n",
       "      <td>4.413000e+03</td>\n",
       "    </tr>\n",
       "    <tr>\n",
       "      <th>25%</th>\n",
       "      <td>NaN</td>\n",
       "      <td>NaN</td>\n",
       "      <td>NaN</td>\n",
       "      <td>NaN</td>\n",
       "      <td>3.307125e+04</td>\n",
       "      <td>0.000000</td>\n",
       "      <td>2.832500e+02</td>\n",
       "      <td>0.000000</td>\n",
       "      <td>8.515890e+05</td>\n",
       "    </tr>\n",
       "    <tr>\n",
       "      <th>50%</th>\n",
       "      <td>NaN</td>\n",
       "      <td>NaN</td>\n",
       "      <td>NaN</td>\n",
       "      <td>NaN</td>\n",
       "      <td>2.688750e+05</td>\n",
       "      <td>0.000000</td>\n",
       "      <td>2.794500e+03</td>\n",
       "      <td>0.000000</td>\n",
       "      <td>6.797150e+06</td>\n",
       "    </tr>\n",
       "    <tr>\n",
       "      <th>75%</th>\n",
       "      <td>NaN</td>\n",
       "      <td>NaN</td>\n",
       "      <td>NaN</td>\n",
       "      <td>NaN</td>\n",
       "      <td>1.485466e+06</td>\n",
       "      <td>221.750000</td>\n",
       "      <td>1.669100e+04</td>\n",
       "      <td>0.000000</td>\n",
       "      <td>2.620034e+07</td>\n",
       "    </tr>\n",
       "    <tr>\n",
       "      <th>max</th>\n",
       "      <td>NaN</td>\n",
       "      <td>NaN</td>\n",
       "      <td>NaN</td>\n",
       "      <td>NaN</td>\n",
       "      <td>1.016488e+08</td>\n",
       "      <td>108281.000000</td>\n",
       "      <td>1.099860e+06</td>\n",
       "      <td>1018.000000</td>\n",
       "      <td>1.425887e+09</td>\n",
       "    </tr>\n",
       "  </tbody>\n",
       "</table>\n",
       "</div>"
      ],
      "text/plain": [
       "       iso_code continent       location last_updated_date   total_cases  \\\n",
       "count       214       214            214               214  2.140000e+02   \n",
       "unique      214         6            214                 2           NaN   \n",
       "top         USA    Africa  United States        2023-01-15           NaN   \n",
       "freq          1        54              1               204           NaN   \n",
       "mean        NaN       NaN            NaN               NaN  3.116224e+06   \n",
       "std         NaN       NaN            NaN               NaN  9.656967e+06   \n",
       "min         NaN       NaN            NaN               NaN  1.000000e+00   \n",
       "25%         NaN       NaN            NaN               NaN  3.307125e+04   \n",
       "50%         NaN       NaN            NaN               NaN  2.688750e+05   \n",
       "75%         NaN       NaN            NaN               NaN  1.485466e+06   \n",
       "max         NaN       NaN            NaN               NaN  1.016488e+08   \n",
       "\n",
       "            new_cases  total_deaths   new_deaths    population  \n",
       "count      214.000000  2.140000e+02   214.000000  2.140000e+02  \n",
       "unique            NaN           NaN          NaN           NaN  \n",
       "top               NaN           NaN          NaN           NaN  \n",
       "freq              NaN           NaN          NaN           NaN  \n",
       "mean      2204.953271  3.141721e+04    24.696262  3.721731e+07  \n",
       "std      10433.607141  1.061432e+05   113.340553  1.426430e+08  \n",
       "min          0.000000  1.000000e+00     0.000000  4.413000e+03  \n",
       "25%          0.000000  2.832500e+02     0.000000  8.515890e+05  \n",
       "50%          0.000000  2.794500e+03     0.000000  6.797150e+06  \n",
       "75%        221.750000  1.669100e+04     0.000000  2.620034e+07  \n",
       "max     108281.000000  1.099860e+06  1018.000000  1.425887e+09  "
      ]
     },
     "execution_count": 23,
     "metadata": {},
     "output_type": "execute_result"
    }
   ],
   "source": [
    "Data.describe(include=\"all\")"
   ]
  },
  {
   "cell_type": "code",
   "execution_count": 24,
   "id": "Jl1dKPM_P3ud",
   "metadata": {
    "ExecuteTime": {
     "end_time": "2023-02-13T18:12:49.022195Z",
     "start_time": "2023-02-13T18:12:48.969064Z"
    },
    "colab": {
     "base_uri": "https://localhost:8080/",
     "height": 301
    },
    "id": "Jl1dKPM_P3ud",
    "outputId": "4a5e4e23-1563-4bd3-c944-ff0b363390b7"
   },
   "outputs": [
    {
     "data": {
      "text/html": [
       "<div>\n",
       "<style scoped>\n",
       "    .dataframe tbody tr th:only-of-type {\n",
       "        vertical-align: middle;\n",
       "    }\n",
       "\n",
       "    .dataframe tbody tr th {\n",
       "        vertical-align: top;\n",
       "    }\n",
       "\n",
       "    .dataframe thead th {\n",
       "        text-align: right;\n",
       "    }\n",
       "</style>\n",
       "<table border=\"1\" class=\"dataframe\">\n",
       "  <thead>\n",
       "    <tr style=\"text-align: right;\">\n",
       "      <th></th>\n",
       "      <th>total_cases</th>\n",
       "      <th>new_cases</th>\n",
       "      <th>total_deaths</th>\n",
       "      <th>new_deaths</th>\n",
       "      <th>population</th>\n",
       "    </tr>\n",
       "  </thead>\n",
       "  <tbody>\n",
       "    <tr>\n",
       "      <th>count</th>\n",
       "      <td>2.140000e+02</td>\n",
       "      <td>214.000000</td>\n",
       "      <td>2.140000e+02</td>\n",
       "      <td>214.000000</td>\n",
       "      <td>2.140000e+02</td>\n",
       "    </tr>\n",
       "    <tr>\n",
       "      <th>mean</th>\n",
       "      <td>3.116224e+06</td>\n",
       "      <td>2204.953271</td>\n",
       "      <td>3.141721e+04</td>\n",
       "      <td>24.696262</td>\n",
       "      <td>3.721731e+07</td>\n",
       "    </tr>\n",
       "    <tr>\n",
       "      <th>std</th>\n",
       "      <td>9.656967e+06</td>\n",
       "      <td>10433.607141</td>\n",
       "      <td>1.061432e+05</td>\n",
       "      <td>113.340553</td>\n",
       "      <td>1.426430e+08</td>\n",
       "    </tr>\n",
       "    <tr>\n",
       "      <th>min</th>\n",
       "      <td>1.000000e+00</td>\n",
       "      <td>0.000000</td>\n",
       "      <td>1.000000e+00</td>\n",
       "      <td>0.000000</td>\n",
       "      <td>4.413000e+03</td>\n",
       "    </tr>\n",
       "    <tr>\n",
       "      <th>25%</th>\n",
       "      <td>3.307125e+04</td>\n",
       "      <td>0.000000</td>\n",
       "      <td>2.832500e+02</td>\n",
       "      <td>0.000000</td>\n",
       "      <td>8.515890e+05</td>\n",
       "    </tr>\n",
       "    <tr>\n",
       "      <th>50%</th>\n",
       "      <td>2.688750e+05</td>\n",
       "      <td>0.000000</td>\n",
       "      <td>2.794500e+03</td>\n",
       "      <td>0.000000</td>\n",
       "      <td>6.797150e+06</td>\n",
       "    </tr>\n",
       "    <tr>\n",
       "      <th>75%</th>\n",
       "      <td>1.485466e+06</td>\n",
       "      <td>221.750000</td>\n",
       "      <td>1.669100e+04</td>\n",
       "      <td>0.000000</td>\n",
       "      <td>2.620034e+07</td>\n",
       "    </tr>\n",
       "    <tr>\n",
       "      <th>max</th>\n",
       "      <td>1.016488e+08</td>\n",
       "      <td>108281.000000</td>\n",
       "      <td>1.099860e+06</td>\n",
       "      <td>1018.000000</td>\n",
       "      <td>1.425887e+09</td>\n",
       "    </tr>\n",
       "  </tbody>\n",
       "</table>\n",
       "</div>"
      ],
      "text/plain": [
       "        total_cases      new_cases  total_deaths   new_deaths    population\n",
       "count  2.140000e+02     214.000000  2.140000e+02   214.000000  2.140000e+02\n",
       "mean   3.116224e+06    2204.953271  3.141721e+04    24.696262  3.721731e+07\n",
       "std    9.656967e+06   10433.607141  1.061432e+05   113.340553  1.426430e+08\n",
       "min    1.000000e+00       0.000000  1.000000e+00     0.000000  4.413000e+03\n",
       "25%    3.307125e+04       0.000000  2.832500e+02     0.000000  8.515890e+05\n",
       "50%    2.688750e+05       0.000000  2.794500e+03     0.000000  6.797150e+06\n",
       "75%    1.485466e+06     221.750000  1.669100e+04     0.000000  2.620034e+07\n",
       "max    1.016488e+08  108281.000000  1.099860e+06  1018.000000  1.425887e+09"
      ]
     },
     "execution_count": 24,
     "metadata": {},
     "output_type": "execute_result"
    }
   ],
   "source": [
    "Data.describe()"
   ]
  },
  {
   "cell_type": "markdown",
   "id": "19f69723",
   "metadata": {},
   "source": [
    "## Mean"
   ]
  },
  {
   "cell_type": "code",
   "execution_count": 25,
   "id": "v5Z34TuJLSM9",
   "metadata": {
    "ExecuteTime": {
     "end_time": "2023-02-13T18:12:49.522870Z",
     "start_time": "2023-02-13T18:12:49.500959Z"
    },
    "colab": {
     "base_uri": "https://localhost:8080/"
    },
    "id": "v5Z34TuJLSM9",
    "outputId": "f75c8283-359e-4b4b-b201-4935c8cb0744"
   },
   "outputs": [
    {
     "data": {
      "text/plain": [
       "total_cases     3.116224e+06\n",
       "new_cases       2.204953e+03\n",
       "total_deaths    3.141721e+04\n",
       "new_deaths      2.469626e+01\n",
       "population      3.721731e+07\n",
       "dtype: float64"
      ]
     },
     "execution_count": 25,
     "metadata": {},
     "output_type": "execute_result"
    }
   ],
   "source": [
    "Data.mean()"
   ]
  },
  {
   "cell_type": "markdown",
   "id": "f1facb3c",
   "metadata": {},
   "source": [
    "## Median"
   ]
  },
  {
   "cell_type": "code",
   "execution_count": 26,
   "id": "XJb6F54jMV54",
   "metadata": {
    "ExecuteTime": {
     "end_time": "2023-02-13T18:12:50.044861Z",
     "start_time": "2023-02-13T18:12:50.022270Z"
    },
    "colab": {
     "base_uri": "https://localhost:8080/"
    },
    "id": "XJb6F54jMV54",
    "outputId": "37628903-0303-435b-9150-8e0237d0cb5c"
   },
   "outputs": [
    {
     "data": {
      "text/plain": [
       "total_cases      268875.0\n",
       "new_cases             0.0\n",
       "total_deaths       2794.5\n",
       "new_deaths            0.0\n",
       "population      6797149.5\n",
       "dtype: float64"
      ]
     },
     "execution_count": 26,
     "metadata": {},
     "output_type": "execute_result"
    }
   ],
   "source": [
    "Data.median()"
   ]
  },
  {
   "cell_type": "markdown",
   "id": "f34df33c",
   "metadata": {},
   "source": [
    "## Mode"
   ]
  },
  {
   "cell_type": "code",
   "execution_count": 27,
   "id": "L2K1Tm3kMX0l",
   "metadata": {
    "ExecuteTime": {
     "end_time": "2023-02-13T18:12:50.584475Z",
     "start_time": "2023-02-13T18:12:50.531435Z"
    },
    "colab": {
     "base_uri": "https://localhost:8080/",
     "height": 424
    },
    "id": "L2K1Tm3kMX0l",
    "outputId": "4926f052-356e-488a-e5d5-c07dfcf1b82f"
   },
   "outputs": [
    {
     "data": {
      "text/html": [
       "<div>\n",
       "<style scoped>\n",
       "    .dataframe tbody tr th:only-of-type {\n",
       "        vertical-align: middle;\n",
       "    }\n",
       "\n",
       "    .dataframe tbody tr th {\n",
       "        vertical-align: top;\n",
       "    }\n",
       "\n",
       "    .dataframe thead th {\n",
       "        text-align: right;\n",
       "    }\n",
       "</style>\n",
       "<table border=\"1\" class=\"dataframe\">\n",
       "  <thead>\n",
       "    <tr style=\"text-align: right;\">\n",
       "      <th></th>\n",
       "      <th>iso_code</th>\n",
       "      <th>continent</th>\n",
       "      <th>location</th>\n",
       "      <th>last_updated_date</th>\n",
       "      <th>total_cases</th>\n",
       "      <th>new_cases</th>\n",
       "      <th>total_deaths</th>\n",
       "      <th>new_deaths</th>\n",
       "      <th>population</th>\n",
       "    </tr>\n",
       "  </thead>\n",
       "  <tbody>\n",
       "    <tr>\n",
       "      <th>0</th>\n",
       "      <td>ABW</td>\n",
       "      <td>Africa</td>\n",
       "      <td>Afghanistan</td>\n",
       "      <td>2023-01-15</td>\n",
       "      <td>1.0</td>\n",
       "      <td>0.0</td>\n",
       "      <td>1.0</td>\n",
       "      <td>0.0</td>\n",
       "      <td>4.413000e+03</td>\n",
       "    </tr>\n",
       "    <tr>\n",
       "      <th>1</th>\n",
       "      <td>AFG</td>\n",
       "      <td>NaN</td>\n",
       "      <td>Albania</td>\n",
       "      <td>NaN</td>\n",
       "      <td>1403.0</td>\n",
       "      <td>NaN</td>\n",
       "      <td>17.0</td>\n",
       "      <td>NaN</td>\n",
       "      <td>5.885000e+03</td>\n",
       "    </tr>\n",
       "    <tr>\n",
       "      <th>2</th>\n",
       "      <td>AGO</td>\n",
       "      <td>NaN</td>\n",
       "      <td>Algeria</td>\n",
       "      <td>NaN</td>\n",
       "      <td>3368.0</td>\n",
       "      <td>NaN</td>\n",
       "      <td>21.0</td>\n",
       "      <td>NaN</td>\n",
       "      <td>1.159600e+04</td>\n",
       "    </tr>\n",
       "    <tr>\n",
       "      <th>3</th>\n",
       "      <td>AIA</td>\n",
       "      <td>NaN</td>\n",
       "      <td>Andorra</td>\n",
       "      <td>NaN</td>\n",
       "      <td>3416.0</td>\n",
       "      <td>NaN</td>\n",
       "      <td>121.0</td>\n",
       "      <td>NaN</td>\n",
       "      <td>1.269100e+04</td>\n",
       "    </tr>\n",
       "    <tr>\n",
       "      <th>4</th>\n",
       "      <td>ALB</td>\n",
       "      <td>NaN</td>\n",
       "      <td>Angola</td>\n",
       "      <td>NaN</td>\n",
       "      <td>3427.0</td>\n",
       "      <td>NaN</td>\n",
       "      <td>138.0</td>\n",
       "      <td>NaN</td>\n",
       "      <td>1.587700e+04</td>\n",
       "    </tr>\n",
       "    <tr>\n",
       "      <th>...</th>\n",
       "      <td>...</td>\n",
       "      <td>...</td>\n",
       "      <td>...</td>\n",
       "      <td>...</td>\n",
       "      <td>...</td>\n",
       "      <td>...</td>\n",
       "      <td>...</td>\n",
       "      <td>...</td>\n",
       "      <td>...</td>\n",
       "    </tr>\n",
       "    <tr>\n",
       "      <th>209</th>\n",
       "      <td>WSM</td>\n",
       "      <td>NaN</td>\n",
       "      <td>Vietnam</td>\n",
       "      <td>NaN</td>\n",
       "      <td>36628099.0</td>\n",
       "      <td>NaN</td>\n",
       "      <td>NaN</td>\n",
       "      <td>NaN</td>\n",
       "      <td>2.358249e+08</td>\n",
       "    </tr>\n",
       "    <tr>\n",
       "      <th>210</th>\n",
       "      <td>YEM</td>\n",
       "      <td>NaN</td>\n",
       "      <td>Wallis and Futuna</td>\n",
       "      <td>NaN</td>\n",
       "      <td>37605135.0</td>\n",
       "      <td>NaN</td>\n",
       "      <td>NaN</td>\n",
       "      <td>NaN</td>\n",
       "      <td>2.755013e+08</td>\n",
       "    </tr>\n",
       "    <tr>\n",
       "      <th>211</th>\n",
       "      <td>ZAF</td>\n",
       "      <td>NaN</td>\n",
       "      <td>Yemen</td>\n",
       "      <td>NaN</td>\n",
       "      <td>39482221.0</td>\n",
       "      <td>NaN</td>\n",
       "      <td>NaN</td>\n",
       "      <td>NaN</td>\n",
       "      <td>3.382899e+08</td>\n",
       "    </tr>\n",
       "    <tr>\n",
       "      <th>212</th>\n",
       "      <td>ZMB</td>\n",
       "      <td>NaN</td>\n",
       "      <td>Zambia</td>\n",
       "      <td>NaN</td>\n",
       "      <td>44682378.0</td>\n",
       "      <td>NaN</td>\n",
       "      <td>NaN</td>\n",
       "      <td>NaN</td>\n",
       "      <td>1.417173e+09</td>\n",
       "    </tr>\n",
       "    <tr>\n",
       "      <th>213</th>\n",
       "      <td>ZWE</td>\n",
       "      <td>NaN</td>\n",
       "      <td>Zimbabwe</td>\n",
       "      <td>NaN</td>\n",
       "      <td>101648826.0</td>\n",
       "      <td>NaN</td>\n",
       "      <td>NaN</td>\n",
       "      <td>NaN</td>\n",
       "      <td>1.425887e+09</td>\n",
       "    </tr>\n",
       "  </tbody>\n",
       "</table>\n",
       "<p>214 rows × 9 columns</p>\n",
       "</div>"
      ],
      "text/plain": [
       "    iso_code continent           location last_updated_date  total_cases  \\\n",
       "0        ABW    Africa        Afghanistan        2023-01-15          1.0   \n",
       "1        AFG       NaN            Albania               NaN       1403.0   \n",
       "2        AGO       NaN            Algeria               NaN       3368.0   \n",
       "3        AIA       NaN            Andorra               NaN       3416.0   \n",
       "4        ALB       NaN             Angola               NaN       3427.0   \n",
       "..       ...       ...                ...               ...          ...   \n",
       "209      WSM       NaN            Vietnam               NaN   36628099.0   \n",
       "210      YEM       NaN  Wallis and Futuna               NaN   37605135.0   \n",
       "211      ZAF       NaN              Yemen               NaN   39482221.0   \n",
       "212      ZMB       NaN             Zambia               NaN   44682378.0   \n",
       "213      ZWE       NaN           Zimbabwe               NaN  101648826.0   \n",
       "\n",
       "     new_cases  total_deaths  new_deaths    population  \n",
       "0          0.0           1.0         0.0  4.413000e+03  \n",
       "1          NaN          17.0         NaN  5.885000e+03  \n",
       "2          NaN          21.0         NaN  1.159600e+04  \n",
       "3          NaN         121.0         NaN  1.269100e+04  \n",
       "4          NaN         138.0         NaN  1.587700e+04  \n",
       "..         ...           ...         ...           ...  \n",
       "209        NaN           NaN         NaN  2.358249e+08  \n",
       "210        NaN           NaN         NaN  2.755013e+08  \n",
       "211        NaN           NaN         NaN  3.382899e+08  \n",
       "212        NaN           NaN         NaN  1.417173e+09  \n",
       "213        NaN           NaN         NaN  1.425887e+09  \n",
       "\n",
       "[214 rows x 9 columns]"
      ]
     },
     "execution_count": 27,
     "metadata": {},
     "output_type": "execute_result"
    }
   ],
   "source": [
    "Data.mode()"
   ]
  },
  {
   "cell_type": "markdown",
   "id": "0549cbe1",
   "metadata": {},
   "source": [
    "## Quantile Ranges"
   ]
  },
  {
   "cell_type": "code",
   "execution_count": 28,
   "id": "CEhhGE1yMZHA",
   "metadata": {
    "ExecuteTime": {
     "end_time": "2023-02-13T18:12:51.068194Z",
     "start_time": "2023-02-13T18:12:51.042190Z"
    },
    "colab": {
     "base_uri": "https://localhost:8080/"
    },
    "id": "CEhhGE1yMZHA",
    "outputId": "482e7f46-b35c-4df2-e7fe-35d4eb2403ae"
   },
   "outputs": [
    {
     "data": {
      "text/plain": [
       "total_cases      33071.25\n",
       "new_cases            0.00\n",
       "total_deaths       283.25\n",
       "new_deaths           0.00\n",
       "population      851589.00\n",
       "Name: 0.25, dtype: float64"
      ]
     },
     "execution_count": 28,
     "metadata": {},
     "output_type": "execute_result"
    }
   ],
   "source": [
    "Data.quantile(0.25)"
   ]
  },
  {
   "cell_type": "code",
   "execution_count": 29,
   "id": "AfKGCcBeMr_e",
   "metadata": {
    "ExecuteTime": {
     "end_time": "2023-02-13T18:12:51.289513Z",
     "start_time": "2023-02-13T18:12:51.270664Z"
    },
    "colab": {
     "base_uri": "https://localhost:8080/"
    },
    "id": "AfKGCcBeMr_e",
    "outputId": "a9eae0fc-2c93-4910-842f-fcc7fbcc22db"
   },
   "outputs": [
    {
     "data": {
      "text/plain": [
       "total_cases      1485466.25\n",
       "new_cases            221.75\n",
       "total_deaths       16691.00\n",
       "new_deaths             0.00\n",
       "population      26200339.00\n",
       "Name: 0.75, dtype: float64"
      ]
     },
     "execution_count": 29,
     "metadata": {},
     "output_type": "execute_result"
    }
   ],
   "source": [
    "Data.quantile(0.75)"
   ]
  },
  {
   "cell_type": "code",
   "execution_count": 30,
   "id": "URa9Q4lzQ2io",
   "metadata": {
    "ExecuteTime": {
     "end_time": "2023-02-13T18:12:51.565340Z",
     "start_time": "2023-02-13T18:12:51.541377Z"
    },
    "id": "URa9Q4lzQ2io"
   },
   "outputs": [],
   "source": [
    "Inter_quartile_range=Data.quantile(0.75)-Data.quantile(0.25)"
   ]
  },
  {
   "cell_type": "code",
   "execution_count": 31,
   "id": "9k903j33RACY",
   "metadata": {
    "ExecuteTime": {
     "end_time": "2023-02-13T18:12:51.795661Z",
     "start_time": "2023-02-13T18:12:51.777082Z"
    },
    "colab": {
     "base_uri": "https://localhost:8080/"
    },
    "id": "9k903j33RACY",
    "outputId": "8db462aa-a493-4dba-88ca-f2e2c0e76937"
   },
   "outputs": [
    {
     "data": {
      "text/plain": [
       "total_cases      1452395.00\n",
       "new_cases            221.75\n",
       "total_deaths       16407.75\n",
       "new_deaths             0.00\n",
       "population      25348750.00\n",
       "dtype: float64"
      ]
     },
     "execution_count": 31,
     "metadata": {},
     "output_type": "execute_result"
    }
   ],
   "source": [
    "Inter_quartile_range"
   ]
  },
  {
   "cell_type": "code",
   "execution_count": 32,
   "id": "_Kw-Ln8XOoPj",
   "metadata": {
    "ExecuteTime": {
     "end_time": "2023-02-13T18:12:52.035374Z",
     "start_time": "2023-02-13T18:12:51.988697Z"
    },
    "colab": {
     "base_uri": "https://localhost:8080/",
     "height": 424
    },
    "id": "_Kw-Ln8XOoPj",
    "outputId": "dd18206c-8327-4a3e-a4e2-f24596561d3e"
   },
   "outputs": [
    {
     "data": {
      "text/html": [
       "<div>\n",
       "<style scoped>\n",
       "    .dataframe tbody tr th:only-of-type {\n",
       "        vertical-align: middle;\n",
       "    }\n",
       "\n",
       "    .dataframe tbody tr th {\n",
       "        vertical-align: top;\n",
       "    }\n",
       "\n",
       "    .dataframe thead th {\n",
       "        text-align: right;\n",
       "    }\n",
       "</style>\n",
       "<table border=\"1\" class=\"dataframe\">\n",
       "  <thead>\n",
       "    <tr style=\"text-align: right;\">\n",
       "      <th></th>\n",
       "      <th>total_cases</th>\n",
       "      <th>new_cases</th>\n",
       "      <th>total_deaths</th>\n",
       "      <th>new_deaths</th>\n",
       "      <th>population</th>\n",
       "    </tr>\n",
       "  </thead>\n",
       "  <tbody>\n",
       "    <tr>\n",
       "      <th>223</th>\n",
       "      <td>101648826.0</td>\n",
       "      <td>2718.0</td>\n",
       "      <td>1099860.0</td>\n",
       "      <td>37.0</td>\n",
       "      <td>3.382899e+08</td>\n",
       "    </tr>\n",
       "    <tr>\n",
       "      <th>96</th>\n",
       "      <td>44682378.0</td>\n",
       "      <td>114.0</td>\n",
       "      <td>530726.0</td>\n",
       "      <td>0.0</td>\n",
       "      <td>1.417173e+09</td>\n",
       "    </tr>\n",
       "    <tr>\n",
       "      <th>75</th>\n",
       "      <td>39482221.0</td>\n",
       "      <td>6238.0</td>\n",
       "      <td>163416.0</td>\n",
       "      <td>101.0</td>\n",
       "      <td>6.781300e+07</td>\n",
       "    </tr>\n",
       "    <tr>\n",
       "      <th>80</th>\n",
       "      <td>37605135.0</td>\n",
       "      <td>10609.0</td>\n",
       "      <td>163775.0</td>\n",
       "      <td>150.0</td>\n",
       "      <td>8.336984e+07</td>\n",
       "    </tr>\n",
       "    <tr>\n",
       "      <th>29</th>\n",
       "      <td>36628099.0</td>\n",
       "      <td>3537.0</td>\n",
       "      <td>695343.0</td>\n",
       "      <td>2.0</td>\n",
       "      <td>2.153135e+08</td>\n",
       "    </tr>\n",
       "    <tr>\n",
       "      <th>...</th>\n",
       "      <td>...</td>\n",
       "      <td>...</td>\n",
       "      <td>...</td>\n",
       "      <td>...</td>\n",
       "      <td>...</td>\n",
       "    </tr>\n",
       "    <tr>\n",
       "      <th>232</th>\n",
       "      <td>3427.0</td>\n",
       "      <td>0.0</td>\n",
       "      <td>7.0</td>\n",
       "      <td>0.0</td>\n",
       "      <td>1.159600e+04</td>\n",
       "    </tr>\n",
       "    <tr>\n",
       "      <th>126</th>\n",
       "      <td>3416.0</td>\n",
       "      <td>134.0</td>\n",
       "      <td>106.0</td>\n",
       "      <td>23.0</td>\n",
       "      <td>6.951800e+05</td>\n",
       "    </tr>\n",
       "    <tr>\n",
       "      <th>180</th>\n",
       "      <td>3368.0</td>\n",
       "      <td>0.0</td>\n",
       "      <td>2.0</td>\n",
       "      <td>0.0</td>\n",
       "      <td>5.885000e+03</td>\n",
       "    </tr>\n",
       "    <tr>\n",
       "      <th>142</th>\n",
       "      <td>1403.0</td>\n",
       "      <td>0.0</td>\n",
       "      <td>8.0</td>\n",
       "      <td>0.0</td>\n",
       "      <td>4.413000e+03</td>\n",
       "    </tr>\n",
       "    <tr>\n",
       "      <th>156</th>\n",
       "      <td>1.0</td>\n",
       "      <td>0.0</td>\n",
       "      <td>6.0</td>\n",
       "      <td>0.0</td>\n",
       "      <td>2.606942e+07</td>\n",
       "    </tr>\n",
       "  </tbody>\n",
       "</table>\n",
       "<p>214 rows × 5 columns</p>\n",
       "</div>"
      ],
      "text/plain": [
       "     total_cases  new_cases  total_deaths  new_deaths    population\n",
       "223  101648826.0     2718.0     1099860.0        37.0  3.382899e+08\n",
       "96    44682378.0      114.0      530726.0         0.0  1.417173e+09\n",
       "75    39482221.0     6238.0      163416.0       101.0  6.781300e+07\n",
       "80    37605135.0    10609.0      163775.0       150.0  8.336984e+07\n",
       "29    36628099.0     3537.0      695343.0         2.0  2.153135e+08\n",
       "..           ...        ...           ...         ...           ...\n",
       "232       3427.0        0.0           7.0         0.0  1.159600e+04\n",
       "126       3416.0      134.0         106.0        23.0  6.951800e+05\n",
       "180       3368.0        0.0           2.0         0.0  5.885000e+03\n",
       "142       1403.0        0.0           8.0         0.0  4.413000e+03\n",
       "156          1.0        0.0           6.0         0.0  2.606942e+07\n",
       "\n",
       "[214 rows x 5 columns]"
      ]
     },
     "execution_count": 32,
     "metadata": {},
     "output_type": "execute_result"
    }
   ],
   "source": [
    "Data[Numerical_Columns]"
   ]
  },
  {
   "cell_type": "code",
   "execution_count": 33,
   "id": "05c47dd1",
   "metadata": {
    "ExecuteTime": {
     "end_time": "2023-02-13T18:12:52.245930Z",
     "start_time": "2023-02-13T18:12:52.224633Z"
    }
   },
   "outputs": [
    {
     "data": {
      "text/plain": [
       "5"
      ]
     },
     "execution_count": 33,
     "metadata": {},
     "output_type": "execute_result"
    }
   ],
   "source": [
    "len(Data.max()[4:])"
   ]
  },
  {
   "cell_type": "markdown",
   "id": "f32c1b58",
   "metadata": {},
   "source": [
    "## Harmonic Mean"
   ]
  },
  {
   "cell_type": "code",
   "execution_count": 34,
   "id": "DpK-nviOM1Ra",
   "metadata": {
    "ExecuteTime": {
     "end_time": "2023-02-13T18:12:52.729233Z",
     "start_time": "2023-02-13T18:12:52.709799Z"
    },
    "colab": {
     "base_uri": "https://localhost:8080/"
    },
    "id": "DpK-nviOM1Ra",
    "outputId": "fbce996b-d779-47bd-efa3-d375d34e44a5"
   },
   "outputs": [
    {
     "data": {
      "text/plain": [
       "0"
      ]
     },
     "execution_count": 34,
     "metadata": {},
     "output_type": "execute_result"
    }
   ],
   "source": [
    "statistics.harmonic_mean(Data[Numerical_Columns[3]])"
   ]
  },
  {
   "cell_type": "code",
   "execution_count": 35,
   "id": "771d93a0",
   "metadata": {
    "ExecuteTime": {
     "end_time": "2023-02-13T18:12:52.996225Z",
     "start_time": "2023-02-13T18:12:52.970918Z"
    }
   },
   "outputs": [
    {
     "data": {
      "text/plain": [
       "['total_cases: 212.565994299055',\n",
       " 'new_cases: 0',\n",
       " 'total_deaths: 53.02554207208648',\n",
       " 'new_deaths: 0',\n",
       " 'population: 171183.99294536182']"
      ]
     },
     "execution_count": 35,
     "metadata": {},
     "output_type": "execute_result"
    }
   ],
   "source": [
    "[\n",
    "    Numerical_Columns[i]+\": \"+str(statistics.harmonic_mean(Data[Numerical_Columns[i]])) for i in range(len(Numerical_Columns))\n",
    "]"
   ]
  },
  {
   "cell_type": "markdown",
   "id": "967db4a3",
   "metadata": {},
   "source": [
    "## Geometric Mean"
   ]
  },
  {
   "cell_type": "code",
   "execution_count": 36,
   "id": "TvdZ7OxISM_8",
   "metadata": {
    "ExecuteTime": {
     "end_time": "2023-02-13T18:12:53.461818Z",
     "start_time": "2023-02-13T18:12:53.442311Z"
    },
    "colab": {
     "base_uri": "https://localhost:8080/"
    },
    "id": "TvdZ7OxISM_8",
    "outputId": "669371c8-9929-4418-b0ae-1df4f47b3ec6"
   },
   "outputs": [
    {
     "data": {
      "text/plain": [
       "0.0"
      ]
     },
     "execution_count": 36,
     "metadata": {},
     "output_type": "execute_result"
    }
   ],
   "source": [
    "scipy.stats.mstats.gmean(Data[Numerical_Columns[3]])"
   ]
  },
  {
   "cell_type": "code",
   "execution_count": 37,
   "id": "32ef1797",
   "metadata": {
    "ExecuteTime": {
     "end_time": "2023-02-13T18:12:53.730902Z",
     "start_time": "2023-02-13T18:12:53.708447Z"
    }
   },
   "outputs": [
    {
     "data": {
      "text/plain": [
       "['total_cases: 246539.47224773892',\n",
       " 'new_cases: 0.0',\n",
       " 'total_deaths: 2092.6975344810357',\n",
       " 'new_deaths: 0.0',\n",
       " 'population: 4224812.6670721555']"
      ]
     },
     "execution_count": 37,
     "metadata": {},
     "output_type": "execute_result"
    }
   ],
   "source": [
    "[\n",
    "    Numerical_Columns[i]+\": \"+str(scipy.stats.mstats.gmean(Data[Numerical_Columns[i]]))  for i in range(len(Numerical_Columns))\n",
    "]"
   ]
  },
  {
   "cell_type": "markdown",
   "id": "c5c281b2",
   "metadata": {},
   "source": [
    "## Skewness"
   ]
  },
  {
   "cell_type": "code",
   "execution_count": 38,
   "id": "gJM4thQkTRXv",
   "metadata": {
    "ExecuteTime": {
     "end_time": "2023-02-13T18:12:54.237140Z",
     "start_time": "2023-02-13T18:12:54.212339Z"
    },
    "colab": {
     "base_uri": "https://localhost:8080/"
    },
    "id": "gJM4thQkTRXv",
    "outputId": "d45648fc-2641-43f6-bd5f-48b74d3018e5"
   },
   "outputs": [
    {
     "data": {
      "text/plain": [
       "total_cases     6.451380\n",
       "new_cases       7.787298\n",
       "total_deaths    6.873911\n",
       "new_deaths      6.680284\n",
       "population      8.765136\n",
       "dtype: float64"
      ]
     },
     "execution_count": 38,
     "metadata": {},
     "output_type": "execute_result"
    }
   ],
   "source": [
    "Data.skew()"
   ]
  },
  {
   "cell_type": "markdown",
   "id": "1be17283",
   "metadata": {},
   "source": [
    "## Kurtosis"
   ]
  },
  {
   "cell_type": "code",
   "execution_count": 39,
   "id": "1YLQ4aEXTjuC",
   "metadata": {
    "ExecuteTime": {
     "end_time": "2023-02-13T18:12:54.731104Z",
     "start_time": "2023-02-13T18:12:54.714420Z"
    },
    "colab": {
     "base_uri": "https://localhost:8080/"
    },
    "id": "1YLQ4aEXTjuC",
    "outputId": "04de6a53-5f53-406e-9dbc-26de34524866"
   },
   "outputs": [
    {
     "data": {
      "text/plain": [
       "total_cases     54.402086\n",
       "new_cases       68.482930\n",
       "total_deaths    57.379541\n",
       "new_deaths      48.833180\n",
       "population      82.817356\n",
       "dtype: float64"
      ]
     },
     "execution_count": 39,
     "metadata": {},
     "output_type": "execute_result"
    }
   ],
   "source": [
    "Data.kurtosis()"
   ]
  },
  {
   "cell_type": "markdown",
   "id": "69bec24c",
   "metadata": {
    "ExecuteTime": {
     "end_time": "2023-01-24T02:32:23.018041Z",
     "start_time": "2023-01-24T02:32:23.004008Z"
    }
   },
   "source": [
    "## Box Plots"
   ]
  },
  {
   "cell_type": "code",
   "execution_count": 40,
   "id": "0ASIzUeBQLIV",
   "metadata": {
    "ExecuteTime": {
     "end_time": "2023-02-13T18:12:55.669407Z",
     "start_time": "2023-02-13T18:12:55.232507Z"
    },
    "colab": {
     "base_uri": "https://localhost:8080/",
     "height": 294
    },
    "id": "0ASIzUeBQLIV",
    "outputId": "f379ce99-9439-47a2-9fcf-357f44177173"
   },
   "outputs": [
    {
     "data": {
      "text/plain": [
       "<AxesSubplot: >"
      ]
     },
     "execution_count": 40,
     "metadata": {},
     "output_type": "execute_result"
    },
    {
     "data": {
      "image/png": "[encoded data removed]",
      "text/plain": [
       "<Figure size 1500x1200 with 1 Axes>"
      ]
     },
     "metadata": {},
     "output_type": "display_data"
    }
   ],
   "source": [
    "Data.boxplot(\"total_cases\")"
   ]
  },
  {
   "cell_type": "code",
   "execution_count": 41,
   "id": "UXBcR4c3NkC5",
   "metadata": {
    "ExecuteTime": {
     "end_time": "2023-02-13T18:12:55.946168Z",
     "start_time": "2023-02-13T18:12:55.672791Z"
    },
    "colab": {
     "base_uri": "https://localhost:8080/",
     "height": 404
    },
    "id": "UXBcR4c3NkC5",
    "outputId": "0d4cde79-2efc-4df1-adb1-9d45fc874695"
   },
   "outputs": [
    {
     "data": {
      "text/plain": [
       "<AxesSubplot: >"
      ]
     },
     "execution_count": 41,
     "metadata": {},
     "output_type": "execute_result"
    },
    {
     "data": {
      "image/png": "[encoded data removed]",
      "text/plain": [
       "<Figure size 1500x1200 with 1 Axes>"
      ]
     },
     "metadata": {},
     "output_type": "display_data"
    }
   ],
   "source": [
    "Data.boxplot('new_cases')"
   ]
  },
  {
   "cell_type": "code",
   "execution_count": 42,
   "id": "h9wuXOA0QbY0",
   "metadata": {
    "ExecuteTime": {
     "end_time": "2023-02-13T18:12:56.234137Z",
     "start_time": "2023-02-13T18:12:55.951551Z"
    },
    "colab": {
     "base_uri": "https://localhost:8080/",
     "height": 294
    },
    "id": "h9wuXOA0QbY0",
    "outputId": "a59e0149-7e11-40e9-a708-a2fd0eca96a0"
   },
   "outputs": [
    {
     "data": {
      "text/plain": [
       "<AxesSubplot: >"
      ]
     },
     "execution_count": 42,
     "metadata": {},
     "output_type": "execute_result"
    },
    {
     "data": {
      "image/png": "[encoded data removed]",
      "text/plain": [
       "<Figure size 1500x1200 with 1 Axes>"
      ]
     },
     "metadata": {},
     "output_type": "display_data"
    }
   ],
   "source": [
    "Data.boxplot(\"total_deaths\")"
   ]
  },
  {
   "cell_type": "code",
   "execution_count": 43,
   "id": "vgEbd455QjIX",
   "metadata": {
    "ExecuteTime": {
     "end_time": "2023-02-13T18:12:56.480449Z",
     "start_time": "2023-02-13T18:12:56.236758Z"
    },
    "colab": {
     "base_uri": "https://localhost:8080/",
     "height": 283
    },
    "id": "vgEbd455QjIX",
    "outputId": "69be12c5-ea8e-44f4-bd21-48e0258af273"
   },
   "outputs": [
    {
     "data": {
      "text/plain": [
       "<AxesSubplot: >"
      ]
     },
     "execution_count": 43,
     "metadata": {},
     "output_type": "execute_result"
    },
    {
     "data": {
      "image/png": "[encoded data removed]",
      "text/plain": [
       "<Figure size 1500x1200 with 1 Axes>"
      ]
     },
     "metadata": {},
     "output_type": "display_data"
    }
   ],
   "source": [
    "Data.boxplot(\"new_deaths\")"
   ]
  },
  {
   "cell_type": "code",
   "execution_count": 44,
   "id": "abbcfa1d",
   "metadata": {
    "ExecuteTime": {
     "end_time": "2023-02-13T18:12:56.725792Z",
     "start_time": "2023-02-13T18:12:56.482572Z"
    }
   },
   "outputs": [
    {
     "data": {
      "text/plain": [
       "<AxesSubplot: >"
      ]
     },
     "execution_count": 44,
     "metadata": {},
     "output_type": "execute_result"
    },
    {
     "data": {
      "image/png": "[encoded data removed]",
      "text/plain": [
       "<Figure size 1500x1200 with 1 Axes>"
      ]
     },
     "metadata": {},
     "output_type": "display_data"
    }
   ],
   "source": [
    "Data.boxplot(\"population\")"
   ]
  },
  {
   "cell_type": "code",
   "execution_count": 45,
   "id": "35dbe999",
   "metadata": {
    "ExecuteTime": {
     "end_time": "2023-02-13T18:12:57.024395Z",
     "start_time": "2023-02-13T18:12:56.728916Z"
    }
   },
   "outputs": [
    {
     "data": {
      "text/plain": [
       "<AxesSubplot: >"
      ]
     },
     "execution_count": 45,
     "metadata": {},
     "output_type": "execute_result"
    },
    {
     "data": {
      "image/png": "[encoded data removed]",
      "text/plain": [
       "<Figure size 1500x1200 with 1 Axes>"
      ]
     },
     "metadata": {},
     "output_type": "display_data"
    }
   ],
   "source": [
    "Data.boxplot()"
   ]
  },
  {
   "cell_type": "markdown",
   "id": "d6a5eea9",
   "metadata": {},
   "source": [
    "## Bar Graph"
   ]
  },
  {
   "cell_type": "code",
   "execution_count": 46,
   "id": "60614c07",
   "metadata": {
    "ExecuteTime": {
     "end_time": "2023-02-13T18:12:57.115859Z",
     "start_time": "2023-02-13T18:12:57.107133Z"
    }
   },
   "outputs": [
    {
     "data": {
      "text/plain": [
       "214"
      ]
     },
     "execution_count": 46,
     "metadata": {},
     "output_type": "execute_result"
    }
   ],
   "source": [
    "len(list(Data['location']))"
   ]
  },
  {
   "cell_type": "code",
   "execution_count": 47,
   "id": "786f0331",
   "metadata": {
    "ExecuteTime": {
     "end_time": "2023-02-13T18:12:57.897844Z",
     "start_time": "2023-02-13T18:12:57.357418Z"
    }
   },
   "outputs": [
    {
     "data": {
      "text/plain": [
       "<AxesSubplot: xlabel='location'>"
      ]
     },
     "execution_count": 47,
     "metadata": {},
     "output_type": "execute_result"
    },
    {
     "data": {
      "image/png": "[encoded data removed]",
      "text/plain": [
       "<Figure size 1500x1200 with 1 Axes>"
      ]
     },
     "metadata": {},
     "output_type": "display_data"
    }
   ],
   "source": [
    "Data[:20].plot.bar(x='location',y=['population'])"
   ]
  },
  {
   "cell_type": "markdown",
   "id": "2231ab62",
   "metadata": {},
   "source": [
    "## PieChart"
   ]
  },
  {
   "cell_type": "code",
   "execution_count": 48,
   "id": "8704f15f",
   "metadata": {
    "ExecuteTime": {
     "end_time": "2023-02-13T18:12:58.545096Z",
     "start_time": "2023-02-13T18:12:57.900843Z"
    },
    "scrolled": false
   },
   "outputs": [
    {
     "data": {
      "text/plain": [
       "([<matplotlib.patches.Wedge at 0x1d086367b80>,\n",
       "  <matplotlib.patches.Wedge at 0x1d086394250>,\n",
       "  <matplotlib.patches.Wedge at 0x1d0863948e0>,\n",
       "  <matplotlib.patches.Wedge at 0x1d086366110>,\n",
       "  <matplotlib.patches.Wedge at 0x1d086395210>,\n",
       "  <matplotlib.patches.Wedge at 0x1d0863958a0>,\n",
       "  <matplotlib.patches.Wedge at 0x1d086395f30>,\n",
       "  <matplotlib.patches.Wedge at 0x1d085e3fa90>,\n",
       "  <matplotlib.patches.Wedge at 0x1d085e68eb0>,\n",
       "  <matplotlib.patches.Wedge at 0x1d085e6ae60>,\n",
       "  <matplotlib.patches.Wedge at 0x1d086367b50>,\n",
       "  <matplotlib.patches.Wedge at 0x1d083ba8760>,\n",
       "  <matplotlib.patches.Wedge at 0x1d083ba9060>,\n",
       "  <matplotlib.patches.Wedge at 0x1d083bf9ae0>,\n",
       "  <matplotlib.patches.Wedge at 0x1d083bfbd00>,\n",
       "  <matplotlib.patches.Wedge at 0x1d083c81720>,\n",
       "  <matplotlib.patches.Wedge at 0x1d083c82b60>,\n",
       "  <matplotlib.patches.Wedge at 0x1d083c28d00>,\n",
       "  <matplotlib.patches.Wedge at 0x1d083d3dcf0>,\n",
       "  <matplotlib.patches.Wedge at 0x1d083d3f9a0>,\n",
       "  <matplotlib.patches.Wedge at 0x1d086f471c0>,\n",
       "  <matplotlib.patches.Wedge at 0x1d086f46020>,\n",
       "  <matplotlib.patches.Wedge at 0x1d083d589a0>,\n",
       "  <matplotlib.patches.Wedge at 0x1d083d5ab30>,\n",
       "  <matplotlib.patches.Wedge at 0x1d086f78f70>],\n",
       " [Text(0.902766541519911, 0.6285002557773377, 'United States'),\n",
       "  Text(0.09571890176951527, 1.095827491827084, 'India'),\n",
       "  Text(-0.44494888974755953, 1.0059922889925224, 'France'),\n",
       "  Text(-0.846160570015106, 0.7028600783596342, 'Germany'),\n",
       "  Text(-1.0660721445791965, 0.27109072752920305, 'Brazil'),\n",
       "  Text(-1.0862578451474445, -0.17333174508909388, 'Japan'),\n",
       "  Text(-0.9519928419050199, -0.5510985655593779, 'South Korea'),\n",
       "  Text(-0.7219035374745659, -0.829973061359047, 'Italy'),\n",
       "  Text(-0.4476042783167936, -1.0048136195496669, 'United Kingdom'),\n",
       "  Text(-0.1590512285200651, -1.0884404929559808, 'Russia'),\n",
       "  Text(0.0942521926498015, -1.0959546177560022, 'Turkey'),\n",
       "  Text(0.2931825574773397, -1.0602094076129709, 'Spain'),\n",
       "  Text(0.44932616594130786, -1.0040448180238193, 'Vietnam'),\n",
       "  Text(0.5815444611379863, -0.9337055422989248, 'Australia'),\n",
       "  Text(0.6952522694694467, -0.8524225957807454, 'Argentina'),\n",
       "  Text(0.7884409166499942, -0.7670468831512955, 'Taiwan'),\n",
       "  Text(0.8655010764352382, -0.678901971340078, 'Netherlands'),\n",
       "  Text(0.9269659249033089, -0.5922281435968348, 'Iran'),\n",
       "  Text(0.9759421198825112, -0.5074810130824899, 'Mexico'),\n",
       "  Text(1.0150824570704526, -0.42380137487720937, 'Indonesia'),\n",
       "  Text(1.0451474888399532, -0.34302583950999943, 'Poland'),\n",
       "  Text(1.068197043937763, -0.2625929841458544, 'Colombia'),\n",
       "  Text(1.084376316904794, -0.18473766084909088, 'Austria'),\n",
       "  Text(1.0944553222815263, -0.11030660691744865, 'Ukraine'),\n",
       "  Text(1.099391861686834, -0.036572318175876896, 'Portugal')],\n",
       " [Text(0.49241811355631504, 0.34281832133309326, '19.4%'),\n",
       "  Text(0.05221031005609923, 0.5977240864511367, '8.5%'),\n",
       "  Text(-0.24269939440775973, 0.5487230667231939, '7.5%'),\n",
       "  Text(-0.4615421290991487, 0.3833782245598004, '7.2%'),\n",
       "  Text(-0.5814938970431981, 0.14786766956138347, '7.0%'),\n",
       "  Text(-0.5925042791713333, -0.09454458823041482, '6.0%'),\n",
       "  Text(-0.5192688228572835, -0.30059921757784247, '5.7%'),\n",
       "  Text(-0.3937655658952177, -0.45271257892311645, '4.8%'),\n",
       "  Text(-0.24414778817279648, -0.548080156118, '4.6%'),\n",
       "  Text(-0.08675521555639913, -0.5936948143396258, '4.1%'),\n",
       "  Text(0.05141028689989172, -0.5977934278669103, '3.2%'),\n",
       "  Text(0.15991775862400343, -0.5782960405161658, '2.6%'),\n",
       "  Text(0.2450869996043497, -0.5476608098311742, '2.2%'),\n",
       "  Text(0.31720606971162885, -0.5092939321630499, '2.1%'),\n",
       "  Text(0.37922851061969814, -0.4649577795167702, '1.9%'),\n",
       "  Text(0.4300586818090877, -0.4183892089916157, '1.8%'),\n",
       "  Text(0.4720914962374026, -0.37031016618549706, '1.6%'),\n",
       "  Text(0.5056177772199866, -0.3230335328710008, '1.4%'),\n",
       "  Text(0.5323320653904606, -0.27680782531772175, '1.4%'),\n",
       "  Text(0.5536813402202468, -0.23116438629665964, '1.3%'),\n",
       "  Text(0.5700804484581563, -0.18710500336909058, '1.2%'),\n",
       "  Text(0.5826529330569616, -0.14323253680682968, '1.2%'),\n",
       "  Text(0.5914779910389785, -0.10076599682677682, '1.1%'),\n",
       "  Text(0.5969756303353779, -0.060167240136790166, '1.1%'),\n",
       "  Text(0.5996682881928185, -0.019948537186841944, '1.1%')])"
      ]
     },
     "execution_count": 48,
     "metadata": {},
     "output_type": "execute_result"
    },
    {
     "data": {
      "image/png": "[encoded data removed]",
      "text/plain": [
       "<Figure size 1500x1200 with 1 Axes>"
      ]
     },
     "metadata": {},
     "output_type": "display_data"
    }
   ],
   "source": [
    "# Data[:25].plot(kind=\"pie\",y='total_cases',label='location')\n",
    "pyplot.pie(Data[:25]['total_cases'],labels=Data[:25]['location'],autopct='%1.1f%%')"
   ]
  },
  {
   "cell_type": "markdown",
   "id": "035b5e13",
   "metadata": {},
   "source": [
    "## Line Graph"
   ]
  },
  {
   "cell_type": "code",
   "execution_count": 49,
   "id": "96f9dd6e",
   "metadata": {
    "ExecuteTime": {
     "end_time": "2023-02-13T18:12:58.888180Z",
     "start_time": "2023-02-13T18:12:58.549787Z"
    }
   },
   "outputs": [
    {
     "data": {
      "text/plain": [
       "<AxesSubplot: xlabel='location'>"
      ]
     },
     "execution_count": 49,
     "metadata": {},
     "output_type": "execute_result"
    },
    {
     "data": {
      "image/png": "[encoded data removed]",
      "text/plain": [
       "<Figure size 1500x1200 with 1 Axes>"
      ]
     },
     "metadata": {},
     "output_type": "display_data"
    }
   ],
   "source": [
    "Data[:10].plot(kind=\"line\",x='location',y=['new_cases','new_deaths'])"
   ]
  },
  {
   "cell_type": "code",
   "execution_count": 50,
   "id": "68e97ea0",
   "metadata": {
    "ExecuteTime": {
     "end_time": "2023-02-13T18:12:59.202032Z",
     "start_time": "2023-02-13T18:12:58.896312Z"
    }
   },
   "outputs": [
    {
     "data": {
      "text/plain": [
       "<AxesSubplot: xlabel='location'>"
      ]
     },
     "execution_count": 50,
     "metadata": {},
     "output_type": "execute_result"
    },
    {
     "data": {
      "image/png": "[encoded data removed]",
      "text/plain": [
       "<Figure size 1500x1200 with 1 Axes>"
      ]
     },
     "metadata": {},
     "output_type": "display_data"
    }
   ],
   "source": [
    "Data[-10:].plot(kind=\"line\",x='location',y=['total_cases','total_deaths'])"
   ]
  },
  {
   "cell_type": "markdown",
   "id": "9ad5b3b6",
   "metadata": {},
   "source": [
    "## Correlation"
   ]
  },
  {
   "cell_type": "code",
   "execution_count": 51,
   "id": "fb62cacb",
   "metadata": {
    "ExecuteTime": {
     "end_time": "2023-02-13T18:12:59.217537Z",
     "start_time": "2023-02-13T18:12:59.204554Z"
    }
   },
   "outputs": [],
   "source": [
    "Correlation_Data=Data.corr()\n",
    "Correlation_Data.columns=[\"correlation_with_\"+column for column in Numerical_Columns]"
   ]
  },
  {
   "cell_type": "code",
   "execution_count": 52,
   "id": "ba0fd8d1",
   "metadata": {
    "ExecuteTime": {
     "end_time": "2023-02-13T18:12:59.499763Z",
     "start_time": "2023-02-13T18:12:59.478013Z"
    }
   },
   "outputs": [
    {
     "data": {
      "text/html": [
       "<div>\n",
       "<style scoped>\n",
       "    .dataframe tbody tr th:only-of-type {\n",
       "        vertical-align: middle;\n",
       "    }\n",
       "\n",
       "    .dataframe tbody tr th {\n",
       "        vertical-align: top;\n",
       "    }\n",
       "\n",
       "    .dataframe thead th {\n",
       "        text-align: right;\n",
       "    }\n",
       "</style>\n",
       "<table border=\"1\" class=\"dataframe\">\n",
       "  <thead>\n",
       "    <tr style=\"text-align: right;\">\n",
       "      <th></th>\n",
       "      <th>correlation_with_total_cases</th>\n",
       "      <th>correlation_with_new_cases</th>\n",
       "      <th>correlation_with_total_deaths</th>\n",
       "      <th>correlation_with_new_deaths</th>\n",
       "      <th>correlation_with_population</th>\n",
       "    </tr>\n",
       "  </thead>\n",
       "  <tbody>\n",
       "    <tr>\n",
       "      <th>total_cases</th>\n",
       "      <td>1.000000</td>\n",
       "      <td>0.361065</td>\n",
       "      <td>0.876119</td>\n",
       "      <td>0.274007</td>\n",
       "      <td>0.387156</td>\n",
       "    </tr>\n",
       "    <tr>\n",
       "      <th>new_cases</th>\n",
       "      <td>0.361065</td>\n",
       "      <td>1.000000</td>\n",
       "      <td>0.159563</td>\n",
       "      <td>0.636917</td>\n",
       "      <td>0.047318</td>\n",
       "    </tr>\n",
       "    <tr>\n",
       "      <th>total_deaths</th>\n",
       "      <td>0.876119</td>\n",
       "      <td>0.159563</td>\n",
       "      <td>1.000000</td>\n",
       "      <td>0.161044</td>\n",
       "      <td>0.418043</td>\n",
       "    </tr>\n",
       "    <tr>\n",
       "      <th>new_deaths</th>\n",
       "      <td>0.274007</td>\n",
       "      <td>0.636917</td>\n",
       "      <td>0.161044</td>\n",
       "      <td>1.000000</td>\n",
       "      <td>0.067145</td>\n",
       "    </tr>\n",
       "    <tr>\n",
       "      <th>population</th>\n",
       "      <td>0.387156</td>\n",
       "      <td>0.047318</td>\n",
       "      <td>0.418043</td>\n",
       "      <td>0.067145</td>\n",
       "      <td>1.000000</td>\n",
       "    </tr>\n",
       "  </tbody>\n",
       "</table>\n",
       "</div>"
      ],
      "text/plain": [
       "              correlation_with_total_cases  correlation_with_new_cases  \\\n",
       "total_cases                       1.000000                    0.361065   \n",
       "new_cases                         0.361065                    1.000000   \n",
       "total_deaths                      0.876119                    0.159563   \n",
       "new_deaths                        0.274007                    0.636917   \n",
       "population                        0.387156                    0.047318   \n",
       "\n",
       "              correlation_with_total_deaths  correlation_with_new_deaths  \\\n",
       "total_cases                        0.876119                     0.274007   \n",
       "new_cases                          0.159563                     0.636917   \n",
       "total_deaths                       1.000000                     0.161044   \n",
       "new_deaths                         0.161044                     1.000000   \n",
       "population                         0.418043                     0.067145   \n",
       "\n",
       "              correlation_with_population  \n",
       "total_cases                      0.387156  \n",
       "new_cases                        0.047318  \n",
       "total_deaths                     0.418043  \n",
       "new_deaths                       0.067145  \n",
       "population                       1.000000  "
      ]
     },
     "execution_count": 52,
     "metadata": {},
     "output_type": "execute_result"
    }
   ],
   "source": [
    "Correlation_Data"
   ]
  },
  {
   "cell_type": "markdown",
   "id": "af2c6b53",
   "metadata": {
    "ExecuteTime": {
     "end_time": "2023-01-24T03:10:22.376606Z",
     "start_time": "2023-01-24T03:10:22.365605Z"
    }
   },
   "source": [
    "## Covariance"
   ]
  },
  {
   "cell_type": "code",
   "execution_count": 53,
   "id": "b4b854ac",
   "metadata": {
    "ExecuteTime": {
     "end_time": "2023-02-13T18:13:00.034220Z",
     "start_time": "2023-02-13T18:13:00.022632Z"
    }
   },
   "outputs": [],
   "source": [
    "Covarience_data=Data.cov()\n",
    "Covarience_data.columns=[\"covarience_with_\"+column for column in Numerical_Columns]"
   ]
  },
  {
   "cell_type": "code",
   "execution_count": 54,
   "id": "6f6325bf",
   "metadata": {
    "ExecuteTime": {
     "end_time": "2023-02-13T18:13:00.353405Z",
     "start_time": "2023-02-13T18:13:00.328893Z"
    }
   },
   "outputs": [
    {
     "data": {
      "text/html": [
       "<div>\n",
       "<style scoped>\n",
       "    .dataframe tbody tr th:only-of-type {\n",
       "        vertical-align: middle;\n",
       "    }\n",
       "\n",
       "    .dataframe tbody tr th {\n",
       "        vertical-align: top;\n",
       "    }\n",
       "\n",
       "    .dataframe thead th {\n",
       "        text-align: right;\n",
       "    }\n",
       "</style>\n",
       "<table border=\"1\" class=\"dataframe\">\n",
       "  <thead>\n",
       "    <tr style=\"text-align: right;\">\n",
       "      <th></th>\n",
       "      <th>covarience_with_total_cases</th>\n",
       "      <th>covarience_with_new_cases</th>\n",
       "      <th>covarience_with_total_deaths</th>\n",
       "      <th>covarience_with_new_deaths</th>\n",
       "      <th>covarience_with_population</th>\n",
       "    </tr>\n",
       "  </thead>\n",
       "  <tbody>\n",
       "    <tr>\n",
       "      <th>total_cases</th>\n",
       "      <td>9.325700e+13</td>\n",
       "      <td>3.637982e+10</td>\n",
       "      <td>8.980402e+11</td>\n",
       "      <td>2.999083e+08</td>\n",
       "      <td>5.333075e+14</td>\n",
       "    </tr>\n",
       "    <tr>\n",
       "      <th>new_cases</th>\n",
       "      <td>3.637982e+10</td>\n",
       "      <td>1.088602e+08</td>\n",
       "      <td>1.767086e+08</td>\n",
       "      <td>7.531862e+05</td>\n",
       "      <td>7.042250e+10</td>\n",
       "    </tr>\n",
       "    <tr>\n",
       "      <th>total_deaths</th>\n",
       "      <td>8.980402e+11</td>\n",
       "      <td>1.767086e+08</td>\n",
       "      <td>1.126638e+10</td>\n",
       "      <td>1.937413e+06</td>\n",
       "      <td>6.329416e+12</td>\n",
       "    </tr>\n",
       "    <tr>\n",
       "      <th>new_deaths</th>\n",
       "      <td>2.999083e+08</td>\n",
       "      <td>7.531862e+05</td>\n",
       "      <td>1.937413e+06</td>\n",
       "      <td>1.284608e+04</td>\n",
       "      <td>1.085547e+09</td>\n",
       "    </tr>\n",
       "    <tr>\n",
       "      <th>population</th>\n",
       "      <td>5.333075e+14</td>\n",
       "      <td>7.042250e+10</td>\n",
       "      <td>6.329416e+12</td>\n",
       "      <td>1.085547e+09</td>\n",
       "      <td>2.034704e+16</td>\n",
       "    </tr>\n",
       "  </tbody>\n",
       "</table>\n",
       "</div>"
      ],
      "text/plain": [
       "              covarience_with_total_cases  covarience_with_new_cases  \\\n",
       "total_cases                  9.325700e+13               3.637982e+10   \n",
       "new_cases                    3.637982e+10               1.088602e+08   \n",
       "total_deaths                 8.980402e+11               1.767086e+08   \n",
       "new_deaths                   2.999083e+08               7.531862e+05   \n",
       "population                   5.333075e+14               7.042250e+10   \n",
       "\n",
       "              covarience_with_total_deaths  covarience_with_new_deaths  \\\n",
       "total_cases                   8.980402e+11                2.999083e+08   \n",
       "new_cases                     1.767086e+08                7.531862e+05   \n",
       "total_deaths                  1.126638e+10                1.937413e+06   \n",
       "new_deaths                    1.937413e+06                1.284608e+04   \n",
       "population                    6.329416e+12                1.085547e+09   \n",
       "\n",
       "              covarience_with_population  \n",
       "total_cases                 5.333075e+14  \n",
       "new_cases                   7.042250e+10  \n",
       "total_deaths                6.329416e+12  \n",
       "new_deaths                  1.085547e+09  \n",
       "population                  2.034704e+16  "
      ]
     },
     "execution_count": 54,
     "metadata": {},
     "output_type": "execute_result"
    }
   ],
   "source": [
    "Covarience_data"
   ]
  },
  {
   "cell_type": "markdown",
   "id": "e8ec0e85",
   "metadata": {},
   "source": [
    "# Gathering All Values Together"
   ]
  },
  {
   "cell_type": "code",
   "execution_count": 55,
   "id": "rmhgtM2OQsU1",
   "metadata": {
    "ExecuteTime": {
     "end_time": "2023-02-13T18:13:00.851315Z",
     "start_time": "2023-02-13T18:13:00.836981Z"
    },
    "id": "rmhgtM2OQsU1"
   },
   "outputs": [],
   "source": [
    "Statastics_Data=pandas.DataFrame()"
   ]
  },
  {
   "cell_type": "code",
   "execution_count": 56,
   "id": "oQ6Q57wXSINE",
   "metadata": {
    "ExecuteTime": {
     "end_time": "2023-02-13T18:13:01.113000Z",
     "start_time": "2023-02-13T18:13:01.092900Z"
    },
    "colab": {
     "base_uri": "https://localhost:8080/"
    },
    "id": "oQ6Q57wXSINE",
    "outputId": "51392259-9fae-49d4-b9ac-7019e506663b"
   },
   "outputs": [
    {
     "data": {
      "text/plain": [
       "Index([], dtype='object')"
      ]
     },
     "execution_count": 56,
     "metadata": {},
     "output_type": "execute_result"
    }
   ],
   "source": [
    "Statastics_Data.columns"
   ]
  },
  {
   "cell_type": "code",
   "execution_count": 57,
   "id": "vuEzrOAeS-Fv",
   "metadata": {
    "ExecuteTime": {
     "end_time": "2023-02-13T18:13:01.350292Z",
     "start_time": "2023-02-13T18:13:01.338340Z"
    },
    "colab": {
     "base_uri": "https://localhost:8080/"
    },
    "id": "vuEzrOAeS-Fv",
    "outputId": "eb682829-6cb9-4a92-e534-3081d0d2ae01"
   },
   "outputs": [],
   "source": [
    "Statastics_Data['mean']=Data.mean()"
   ]
  },
  {
   "cell_type": "code",
   "execution_count": 58,
   "id": "0dU1aIvFTM7B",
   "metadata": {
    "ExecuteTime": {
     "end_time": "2023-02-13T18:13:01.628260Z",
     "start_time": "2023-02-13T18:13:01.608324Z"
    },
    "colab": {
     "base_uri": "https://localhost:8080/"
    },
    "id": "0dU1aIvFTM7B",
    "outputId": "9dc0439b-6872-429c-f2be-70835b782e1a"
   },
   "outputs": [],
   "source": [
    "Statastics_Data['median']=Data.median()"
   ]
  },
  {
   "cell_type": "code",
   "execution_count": 59,
   "id": "zYsJbWaFTNDp",
   "metadata": {
    "ExecuteTime": {
     "end_time": "2023-02-13T18:13:01.870254Z",
     "start_time": "2023-02-13T18:13:01.857601Z"
    },
    "colab": {
     "base_uri": "https://localhost:8080/"
    },
    "id": "zYsJbWaFTNDp",
    "outputId": "ffc26fea-2666-4043-f2d0-e4ad7b1b2fc1"
   },
   "outputs": [],
   "source": [
    "Statastics_Data['skew']=Data.skew()"
   ]
  },
  {
   "cell_type": "code",
   "execution_count": 60,
   "id": "vSu33__JT-OG",
   "metadata": {
    "ExecuteTime": {
     "end_time": "2023-02-13T18:13:02.138500Z",
     "start_time": "2023-02-13T18:13:02.123985Z"
    },
    "colab": {
     "base_uri": "https://localhost:8080/"
    },
    "id": "vSu33__JT-OG",
    "outputId": "30927b7d-e2aa-449c-ceb3-3ed4da48762b"
   },
   "outputs": [],
   "source": [
    "Statastics_Data['kurtosis']=Data.kurtosis()"
   ]
  },
  {
   "cell_type": "code",
   "execution_count": 61,
   "id": "jzHH93R0UGNf",
   "metadata": {
    "ExecuteTime": {
     "end_time": "2023-02-13T18:13:02.392978Z",
     "start_time": "2023-02-13T18:13:02.375975Z"
    },
    "id": "jzHH93R0UGNf"
   },
   "outputs": [],
   "source": [
    "Statastics_Data['first_quartile']=Data.quantile(0.25)"
   ]
  },
  {
   "cell_type": "code",
   "execution_count": 62,
   "id": "S9ziN75_UGTU",
   "metadata": {
    "ExecuteTime": {
     "end_time": "2023-02-13T18:13:02.642439Z",
     "start_time": "2023-02-13T18:13:02.626269Z"
    },
    "id": "S9ziN75_UGTU"
   },
   "outputs": [],
   "source": [
    "Statastics_Data['third_quartile']=Data.quantile(0.75)"
   ]
  },
  {
   "cell_type": "code",
   "execution_count": 63,
   "id": "_CHdU3SUUGZD",
   "metadata": {
    "ExecuteTime": {
     "end_time": "2023-02-13T18:13:02.898414Z",
     "start_time": "2023-02-13T18:13:02.884449Z"
    },
    "id": "_CHdU3SUUGZD"
   },
   "outputs": [],
   "source": [
    "Statastics_Data['inter_quartile_range']=Inter_quartile_range"
   ]
  },
  {
   "cell_type": "code",
   "execution_count": 64,
   "id": "p_e6dSFYU2rH",
   "metadata": {
    "ExecuteTime": {
     "end_time": "2023-02-13T18:13:03.184726Z",
     "start_time": "2023-02-13T18:13:03.170264Z"
    },
    "colab": {
     "base_uri": "https://localhost:8080/"
    },
    "id": "p_e6dSFYU2rH",
    "outputId": "8caed6bb-10d1-4b27-f207-008d39f18345"
   },
   "outputs": [
    {
     "data": {
      "text/plain": [
       "total_cases        1.0\n",
       "new_cases          0.0\n",
       "total_deaths       1.0\n",
       "new_deaths         0.0\n",
       "population      4413.0\n",
       "dtype: object"
      ]
     },
     "execution_count": 64,
     "metadata": {},
     "output_type": "execute_result"
    }
   ],
   "source": [
    "Data.min()[4:]"
   ]
  },
  {
   "cell_type": "code",
   "execution_count": 65,
   "id": "jmiAcRdzU2wL",
   "metadata": {
    "ExecuteTime": {
     "end_time": "2023-02-13T18:13:03.514679Z",
     "start_time": "2023-02-13T18:13:03.499978Z"
    },
    "id": "jmiAcRdzU2wL"
   },
   "outputs": [],
   "source": [
    "Statastics_Data['max']=Data.max()[len(Numerical_Columns)-1:]"
   ]
  },
  {
   "cell_type": "code",
   "execution_count": 66,
   "id": "-w2a4KtoU21q",
   "metadata": {
    "ExecuteTime": {
     "end_time": "2023-02-13T18:13:03.870023Z",
     "start_time": "2023-02-13T18:13:03.852035Z"
    },
    "id": "-w2a4KtoU21q"
   },
   "outputs": [],
   "source": [
    "Statastics_Data['min']=Data.min()[len(Numerical_Columns)-1:]"
   ]
  },
  {
   "cell_type": "code",
   "execution_count": 67,
   "id": "KLFElD_2WDXL",
   "metadata": {
    "ExecuteTime": {
     "end_time": "2023-02-13T18:13:04.153302Z",
     "start_time": "2023-02-13T18:13:04.137644Z"
    },
    "id": "KLFElD_2WDXL"
   },
   "outputs": [],
   "source": [
    "Statastics_Data['harmonic_mean']=[\n",
    "   statistics.harmonic_mean(Data[Numerical_Columns[i]]) for i in range(len(Numerical_Columns))\n",
    "]"
   ]
  },
  {
   "cell_type": "code",
   "execution_count": 68,
   "id": "20fGpBk-WDdc",
   "metadata": {
    "ExecuteTime": {
     "end_time": "2023-02-13T18:13:04.452725Z",
     "start_time": "2023-02-13T18:13:04.437028Z"
    },
    "colab": {
     "base_uri": "https://localhost:8080/"
    },
    "id": "20fGpBk-WDdc",
    "outputId": "61735c83-c4ab-484a-c81d-de119d260b97"
   },
   "outputs": [],
   "source": [
    "Statastics_Data['geometric_mean']=[\n",
    "   scipy.stats.mstats.gmean(Data[Numerical_Columns[i]])  for i in range(len(Numerical_Columns))\n",
    "]"
   ]
  },
  {
   "cell_type": "code",
   "execution_count": 69,
   "id": "77130922",
   "metadata": {
    "ExecuteTime": {
     "end_time": "2023-02-13T18:13:04.732055Z",
     "start_time": "2023-02-13T18:13:04.717827Z"
    }
   },
   "outputs": [],
   "source": [
    "Statastics_Data=pandas.concat([Statastics_Data,Correlation_Data,Covarience_data],axis=1)"
   ]
  },
  {
   "cell_type": "code",
   "execution_count": 70,
   "id": "pBNoYFXRTHGD",
   "metadata": {
    "ExecuteTime": {
     "end_time": "2023-02-13T18:13:05.034666Z",
     "start_time": "2023-02-13T18:13:04.974456Z"
    },
    "colab": {
     "base_uri": "https://localhost:8080/",
     "height": 207
    },
    "id": "pBNoYFXRTHGD",
    "outputId": "0958d51c-b4b1-4384-a94e-3f94c6e3745a"
   },
   "outputs": [
    {
     "data": {
      "text/html": [
       "<div>\n",
       "<style scoped>\n",
       "    .dataframe tbody tr th:only-of-type {\n",
       "        vertical-align: middle;\n",
       "    }\n",
       "\n",
       "    .dataframe tbody tr th {\n",
       "        vertical-align: top;\n",
       "    }\n",
       "\n",
       "    .dataframe thead th {\n",
       "        text-align: right;\n",
       "    }\n",
       "</style>\n",
       "<table border=\"1\" class=\"dataframe\">\n",
       "  <thead>\n",
       "    <tr style=\"text-align: right;\">\n",
       "      <th></th>\n",
       "      <th>mean</th>\n",
       "      <th>median</th>\n",
       "      <th>skew</th>\n",
       "      <th>kurtosis</th>\n",
       "      <th>first_quartile</th>\n",
       "      <th>third_quartile</th>\n",
       "      <th>inter_quartile_range</th>\n",
       "      <th>max</th>\n",
       "      <th>min</th>\n",
       "      <th>harmonic_mean</th>\n",
       "      <th>...</th>\n",
       "      <th>correlation_with_total_cases</th>\n",
       "      <th>correlation_with_new_cases</th>\n",
       "      <th>correlation_with_total_deaths</th>\n",
       "      <th>correlation_with_new_deaths</th>\n",
       "      <th>correlation_with_population</th>\n",
       "      <th>covarience_with_total_cases</th>\n",
       "      <th>covarience_with_new_cases</th>\n",
       "      <th>covarience_with_total_deaths</th>\n",
       "      <th>covarience_with_new_deaths</th>\n",
       "      <th>covarience_with_population</th>\n",
       "    </tr>\n",
       "  </thead>\n",
       "  <tbody>\n",
       "    <tr>\n",
       "      <th>total_cases</th>\n",
       "      <td>3.116224e+06</td>\n",
       "      <td>268875.0</td>\n",
       "      <td>6.451380</td>\n",
       "      <td>54.402086</td>\n",
       "      <td>33071.25</td>\n",
       "      <td>1485466.25</td>\n",
       "      <td>1452395.00</td>\n",
       "      <td>101648826.0</td>\n",
       "      <td>1.0</td>\n",
       "      <td>212.565994</td>\n",
       "      <td>...</td>\n",
       "      <td>1.000000</td>\n",
       "      <td>0.361065</td>\n",
       "      <td>0.876119</td>\n",
       "      <td>0.274007</td>\n",
       "      <td>0.387156</td>\n",
       "      <td>9.325700e+13</td>\n",
       "      <td>3.637982e+10</td>\n",
       "      <td>8.980402e+11</td>\n",
       "      <td>2.999083e+08</td>\n",
       "      <td>5.333075e+14</td>\n",
       "    </tr>\n",
       "    <tr>\n",
       "      <th>new_cases</th>\n",
       "      <td>2.204953e+03</td>\n",
       "      <td>0.0</td>\n",
       "      <td>7.787298</td>\n",
       "      <td>68.482930</td>\n",
       "      <td>0.00</td>\n",
       "      <td>221.75</td>\n",
       "      <td>221.75</td>\n",
       "      <td>108281.0</td>\n",
       "      <td>0.0</td>\n",
       "      <td>0.000000</td>\n",
       "      <td>...</td>\n",
       "      <td>0.361065</td>\n",
       "      <td>1.000000</td>\n",
       "      <td>0.159563</td>\n",
       "      <td>0.636917</td>\n",
       "      <td>0.047318</td>\n",
       "      <td>3.637982e+10</td>\n",
       "      <td>1.088602e+08</td>\n",
       "      <td>1.767086e+08</td>\n",
       "      <td>7.531862e+05</td>\n",
       "      <td>7.042250e+10</td>\n",
       "    </tr>\n",
       "    <tr>\n",
       "      <th>total_deaths</th>\n",
       "      <td>3.141721e+04</td>\n",
       "      <td>2794.5</td>\n",
       "      <td>6.873911</td>\n",
       "      <td>57.379541</td>\n",
       "      <td>283.25</td>\n",
       "      <td>16691.00</td>\n",
       "      <td>16407.75</td>\n",
       "      <td>1099860.0</td>\n",
       "      <td>1.0</td>\n",
       "      <td>53.025542</td>\n",
       "      <td>...</td>\n",
       "      <td>0.876119</td>\n",
       "      <td>0.159563</td>\n",
       "      <td>1.000000</td>\n",
       "      <td>0.161044</td>\n",
       "      <td>0.418043</td>\n",
       "      <td>8.980402e+11</td>\n",
       "      <td>1.767086e+08</td>\n",
       "      <td>1.126638e+10</td>\n",
       "      <td>1.937413e+06</td>\n",
       "      <td>6.329416e+12</td>\n",
       "    </tr>\n",
       "    <tr>\n",
       "      <th>new_deaths</th>\n",
       "      <td>2.469626e+01</td>\n",
       "      <td>0.0</td>\n",
       "      <td>6.680284</td>\n",
       "      <td>48.833180</td>\n",
       "      <td>0.00</td>\n",
       "      <td>0.00</td>\n",
       "      <td>0.00</td>\n",
       "      <td>1018.0</td>\n",
       "      <td>0.0</td>\n",
       "      <td>0.000000</td>\n",
       "      <td>...</td>\n",
       "      <td>0.274007</td>\n",
       "      <td>0.636917</td>\n",
       "      <td>0.161044</td>\n",
       "      <td>1.000000</td>\n",
       "      <td>0.067145</td>\n",
       "      <td>2.999083e+08</td>\n",
       "      <td>7.531862e+05</td>\n",
       "      <td>1.937413e+06</td>\n",
       "      <td>1.284608e+04</td>\n",
       "      <td>1.085547e+09</td>\n",
       "    </tr>\n",
       "    <tr>\n",
       "      <th>population</th>\n",
       "      <td>3.721731e+07</td>\n",
       "      <td>6797149.5</td>\n",
       "      <td>8.765136</td>\n",
       "      <td>82.817356</td>\n",
       "      <td>851589.00</td>\n",
       "      <td>26200339.00</td>\n",
       "      <td>25348750.00</td>\n",
       "      <td>1425887360.0</td>\n",
       "      <td>4413.0</td>\n",
       "      <td>171183.992945</td>\n",
       "      <td>...</td>\n",
       "      <td>0.387156</td>\n",
       "      <td>0.047318</td>\n",
       "      <td>0.418043</td>\n",
       "      <td>0.067145</td>\n",
       "      <td>1.000000</td>\n",
       "      <td>5.333075e+14</td>\n",
       "      <td>7.042250e+10</td>\n",
       "      <td>6.329416e+12</td>\n",
       "      <td>1.085547e+09</td>\n",
       "      <td>2.034704e+16</td>\n",
       "    </tr>\n",
       "  </tbody>\n",
       "</table>\n",
       "<p>5 rows × 21 columns</p>\n",
       "</div>"
      ],
      "text/plain": [
       "                      mean     median      skew   kurtosis  first_quartile  \\\n",
       "total_cases   3.116224e+06   268875.0  6.451380  54.402086        33071.25   \n",
       "new_cases     2.204953e+03        0.0  7.787298  68.482930            0.00   \n",
       "total_deaths  3.141721e+04     2794.5  6.873911  57.379541          283.25   \n",
       "new_deaths    2.469626e+01        0.0  6.680284  48.833180            0.00   \n",
       "population    3.721731e+07  6797149.5  8.765136  82.817356       851589.00   \n",
       "\n",
       "              third_quartile  inter_quartile_range           max     min  \\\n",
       "total_cases       1485466.25            1452395.00   101648826.0     1.0   \n",
       "new_cases             221.75                221.75      108281.0     0.0   \n",
       "total_deaths        16691.00              16407.75     1099860.0     1.0   \n",
       "new_deaths              0.00                  0.00        1018.0     0.0   \n",
       "population       26200339.00           25348750.00  1425887360.0  4413.0   \n",
       "\n",
       "              harmonic_mean  ...  correlation_with_total_cases  \\\n",
       "total_cases      212.565994  ...                      1.000000   \n",
       "new_cases          0.000000  ...                      0.361065   \n",
       "total_deaths      53.025542  ...                      0.876119   \n",
       "new_deaths         0.000000  ...                      0.274007   \n",
       "population    171183.992945  ...                      0.387156   \n",
       "\n",
       "              correlation_with_new_cases  correlation_with_total_deaths  \\\n",
       "total_cases                     0.361065                       0.876119   \n",
       "new_cases                       1.000000                       0.159563   \n",
       "total_deaths                    0.159563                       1.000000   \n",
       "new_deaths                      0.636917                       0.161044   \n",
       "population                      0.047318                       0.418043   \n",
       "\n",
       "              correlation_with_new_deaths  correlation_with_population  \\\n",
       "total_cases                      0.274007                     0.387156   \n",
       "new_cases                        0.636917                     0.047318   \n",
       "total_deaths                     0.161044                     0.418043   \n",
       "new_deaths                       1.000000                     0.067145   \n",
       "population                       0.067145                     1.000000   \n",
       "\n",
       "              covarience_with_total_cases  covarience_with_new_cases  \\\n",
       "total_cases                  9.325700e+13               3.637982e+10   \n",
       "new_cases                    3.637982e+10               1.088602e+08   \n",
       "total_deaths                 8.980402e+11               1.767086e+08   \n",
       "new_deaths                   2.999083e+08               7.531862e+05   \n",
       "population                   5.333075e+14               7.042250e+10   \n",
       "\n",
       "              covarience_with_total_deaths  covarience_with_new_deaths  \\\n",
       "total_cases                   8.980402e+11                2.999083e+08   \n",
       "new_cases                     1.767086e+08                7.531862e+05   \n",
       "total_deaths                  1.126638e+10                1.937413e+06   \n",
       "new_deaths                    1.937413e+06                1.284608e+04   \n",
       "population                    6.329416e+12                1.085547e+09   \n",
       "\n",
       "              covarience_with_population  \n",
       "total_cases                 5.333075e+14  \n",
       "new_cases                   7.042250e+10  \n",
       "total_deaths                6.329416e+12  \n",
       "new_deaths                  1.085547e+09  \n",
       "population                  2.034704e+16  \n",
       "\n",
       "[5 rows x 21 columns]"
      ]
     },
     "execution_count": 70,
     "metadata": {},
     "output_type": "execute_result"
    }
   ],
   "source": [
    "Statastics_Data"
   ]
  },
  {
   "cell_type": "code",
   "execution_count": 71,
   "id": "bc0ba11c",
   "metadata": {
    "ExecuteTime": {
     "end_time": "2023-02-13T18:13:05.284583Z",
     "start_time": "2023-02-13T18:13:05.259987Z"
    }
   },
   "outputs": [
    {
     "name": "stdout",
     "output_type": "stream",
     "text": [
      "<class 'pandas.core.frame.DataFrame'>\n",
      "Index: 5 entries, total_cases to population\n",
      "Data columns (total 21 columns):\n",
      " #   Column                         Non-Null Count  Dtype  \n",
      "---  ------                         --------------  -----  \n",
      " 0   mean                           5 non-null      float64\n",
      " 1   median                         5 non-null      float64\n",
      " 2   skew                           5 non-null      float64\n",
      " 3   kurtosis                       5 non-null      float64\n",
      " 4   first_quartile                 5 non-null      float64\n",
      " 5   third_quartile                 5 non-null      float64\n",
      " 6   inter_quartile_range           5 non-null      float64\n",
      " 7   max                            5 non-null      object \n",
      " 8   min                            5 non-null      object \n",
      " 9   harmonic_mean                  5 non-null      float64\n",
      " 10  geometric_mean                 5 non-null      float64\n",
      " 11  correlation_with_total_cases   5 non-null      float64\n",
      " 12  correlation_with_new_cases     5 non-null      float64\n",
      " 13  correlation_with_total_deaths  5 non-null      float64\n",
      " 14  correlation_with_new_deaths    5 non-null      float64\n",
      " 15  correlation_with_population    5 non-null      float64\n",
      " 16  covarience_with_total_cases    5 non-null      float64\n",
      " 17  covarience_with_new_cases      5 non-null      float64\n",
      " 18  covarience_with_total_deaths   5 non-null      float64\n",
      " 19  covarience_with_new_deaths     5 non-null      float64\n",
      " 20  covarience_with_population     5 non-null      float64\n",
      "dtypes: float64(19), object(2)\n",
      "memory usage: 880.0+ bytes\n"
     ]
    }
   ],
   "source": [
    "Statastics_Data.info()"
   ]
  },
  {
   "cell_type": "code",
   "execution_count": 72,
   "id": "Oms9uq_OXgUa",
   "metadata": {
    "ExecuteTime": {
     "end_time": "2023-02-13T18:13:05.629765Z",
     "start_time": "2023-02-13T18:13:05.613086Z"
    },
    "colab": {
     "base_uri": "https://localhost:8080/"
    },
    "id": "Oms9uq_OXgUa",
    "outputId": "64f7abf4-0bfa-4622-e287-1a39a2bf6cab"
   },
   "outputs": [
    {
     "data": {
      "text/plain": [
       "['mean',\n",
       " 'median',\n",
       " 'skew',\n",
       " 'kurtosis',\n",
       " 'first_quartile',\n",
       " 'third_quartile',\n",
       " 'inter_quartile_range',\n",
       " 'max',\n",
       " 'min',\n",
       " 'harmonic_mean',\n",
       " 'geometric_mean']"
      ]
     },
     "execution_count": 72,
     "metadata": {},
     "output_type": "execute_result"
    }
   ],
   "source": [
    "list(Statastics_Data)[:11]"
   ]
  },
  {
   "cell_type": "code",
   "execution_count": 73,
   "id": "Mfg1NDsHXU95",
   "metadata": {
    "ExecuteTime": {
     "end_time": "2023-02-13T18:13:05.969432Z",
     "start_time": "2023-02-13T18:13:05.947768Z"
    },
    "id": "Mfg1NDsHXU95"
   },
   "outputs": [
    {
     "data": {
      "text/plain": [
       "mean                                    2204.953271\n",
       "median                                          0.0\n",
       "skew                                       7.787298\n",
       "kurtosis                                   68.48293\n",
       "first_quartile                                  0.0\n",
       "third_quartile                               221.75\n",
       "inter_quartile_range                         221.75\n",
       "max                                        108281.0\n",
       "min                                             0.0\n",
       "harmonic_mean                                   0.0\n",
       "geometric_mean                                  0.0\n",
       "correlation_with_total_cases               0.361065\n",
       "correlation_with_new_cases                      1.0\n",
       "correlation_with_total_deaths              0.159563\n",
       "correlation_with_new_deaths                0.636917\n",
       "correlation_with_population                0.047318\n",
       "covarience_with_total_cases        36379818481.1259\n",
       "covarience_with_new_cases          108860157.979027\n",
       "covarience_with_total_deaths       176708618.371155\n",
       "covarience_with_new_deaths            753186.173533\n",
       "covarience_with_population       70422503092.630447\n",
       "Name: new_cases, dtype: object"
      ]
     },
     "execution_count": 73,
     "metadata": {},
     "output_type": "execute_result"
    }
   ],
   "source": [
    "Statastics_Data.iloc[1,:]"
   ]
  },
  {
   "cell_type": "code",
   "execution_count": 74,
   "id": "Z4PAJYOdTIhf",
   "metadata": {
    "ExecuteTime": {
     "end_time": "2023-02-13T18:13:06.830324Z",
     "start_time": "2023-02-13T18:13:06.523296Z"
    },
    "colab": {
     "base_uri": "https://localhost:8080/",
     "height": 294
    },
    "id": "Z4PAJYOdTIhf",
    "outputId": "beb82c23-bc55-4673-9dd1-6dc53a31a76b"
   },
   "outputs": [
    {
     "data": {
      "text/plain": [
       "<AxesSubplot: >"
      ]
     },
     "execution_count": 74,
     "metadata": {},
     "output_type": "execute_result"
    },
    {
     "data": {
      "image/png": "[encoded data removed]",
      "text/plain": [
       "<Figure size 1500x1200 with 1 Axes>"
      ]
     },
     "metadata": {},
     "output_type": "display_data"
    }
   ],
   "source": [
    "Statastics_Data.iloc[1,:11].plot()"
   ]
  }
 ],
 "metadata": {
  "colab": {
   "provenance": []
  },
  "kernelspec": {
   "display_name": "Python 3 (ipykernel)",
   "language": "python",
   "name": "python3"
  },
  "language_info": {
   "codemirror_mode": {
    "name": "ipython",
    "version": 3
   },
   "file_extension": ".py",
   "mimetype": "text/x-python",
   "name": "python",
   "nbconvert_exporter": "python",
   "pygments_lexer": "ipython3",
   "version": "3.10.8"
  }
 },
 "nbformat": 4,
 "nbformat_minor": 5
}
