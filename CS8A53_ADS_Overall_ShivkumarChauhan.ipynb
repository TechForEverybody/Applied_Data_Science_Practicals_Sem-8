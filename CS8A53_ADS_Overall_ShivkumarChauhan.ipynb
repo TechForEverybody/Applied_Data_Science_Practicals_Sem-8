{
 "cells": [
  {
   "cell_type": "markdown",
   "id": "fc241e48",
   "metadata": {
    "id": "fc241e48"
   },
   "source": [
    "## Name: Shivkumar G. Chauhan\n",
    "### Roll No.: CS8A53\n",
    "### Batch A-3\n",
    "---\n",
    "# Applied Data Science"
   ]
  },
  {
   "cell_type": "markdown",
   "id": "a9f0f032",
   "metadata": {
    "id": "a9f0f032"
   },
   "source": [
    "## imports"
   ]
  },
  {
   "cell_type": "code",
   "execution_count": 10,
   "id": "IAN0ukSrIjTp",
   "metadata": {
    "ExecuteTime": {
     "end_time": "2023-03-31T04:41:00.457185Z",
     "start_time": "2023-03-31T04:41:00.438187Z"
    },
    "executionInfo": {
     "elapsed": 665,
     "status": "ok",
     "timestamp": 1676398575924,
     "user": {
      "displayName": "SHIVKUMAR CHAUHAN",
      "userId": "00181769091967804430"
     },
     "user_tz": 480
    },
    "id": "IAN0ukSrIjTp",
    "init_cell": true
   },
   "outputs": [],
   "source": [
    "import pandas\n",
    "import numpy\n",
    "import warnings\n",
    "import matplotlib.pyplot as pyplot\n",
    "\n",
    "import scipy.stats\n",
    "from sklearn import preprocessing\n",
    "from sklearn.linear_model import LinearRegression\n",
    "from sklearn.preprocessing import PolynomialFeatures\n",
    "from sklearn.ensemble import RandomForestRegressor\n",
    "from sklearn.tree import DecisionTreeRegressor\n",
    "from sklearn.metrics import mean_squared_error,mean_absolute_error\n",
    "import joblib\n",
    "import datetime\n",
    "from statsmodels.tsa.arima.model import ARIMA"
   ]
  },
  {
   "cell_type": "markdown",
   "id": "4fe11c98",
   "metadata": {
    "deletable": false,
    "editable": false,
    "id": "4fe11c98"
   },
   "source": [
    "## Configurations"
   ]
  },
  {
   "cell_type": "code",
   "execution_count": 11,
   "id": "12a82d6b",
   "metadata": {
    "ExecuteTime": {
     "end_time": "2023-03-31T04:41:00.472205Z",
     "start_time": "2023-03-31T04:41:00.463188Z"
    },
    "cell_style": "split",
    "init_cell": true
   },
   "outputs": [],
   "source": [
    "StandardScaler=preprocessing.StandardScaler(\n",
    "    with_mean=False,\n",
    "    with_std=True\n",
    ")\n",
    "Normalizer=preprocessing.Normalizer(\n",
    "    norm='max'\n",
    ")"
   ]
  },
  {
   "cell_type": "code",
   "execution_count": 12,
   "id": "00656aad",
   "metadata": {
    "ExecuteTime": {
     "end_time": "2023-03-28T02:03:15.100440Z",
     "start_time": "2023-03-28T02:03:15.022493Z"
    },
    "cell_style": "split"
   },
   "outputs": [],
   "source": [
    "%matplotlib qt\n",
    "# %matplotlib inline\n",
    "# pyplot.rcParams[\"figure.figsize\"] = (15, 12)"
   ]
  },
  {
   "cell_type": "markdown",
   "id": "ad9baca7",
   "metadata": {
    "cell_style": "split",
    "id": "ad9baca7"
   },
   "source": [
    "hiding warnings"
   ]
  },
  {
   "cell_type": "code",
   "execution_count": 12,
   "id": "c3820cab",
   "metadata": {
    "ExecuteTime": {
     "end_time": "2023-03-31T04:41:00.488186Z",
     "start_time": "2023-03-31T04:41:00.478187Z"
    },
    "cell_style": "split",
    "deletable": false,
    "editable": false,
    "executionInfo": {
     "elapsed": 379,
     "status": "ok",
     "timestamp": 1676398638406,
     "user": {
      "displayName": "SHIVKUMAR CHAUHAN",
      "userId": "00181769091967804430"
     },
     "user_tz": 480
    },
    "id": "c3820cab",
    "init_cell": true
   },
   "outputs": [],
   "source": [
    "warnings.filterwarnings('ignore')"
   ]
  },
  {
   "cell_type": "markdown",
   "id": "390de5c8",
   "metadata": {
    "cell_style": "center"
   },
   "source": [
    "Initializing Functions"
   ]
  },
  {
   "cell_type": "code",
   "execution_count": 14,
   "id": "8d28514d",
   "metadata": {
    "ExecuteTime": {
     "end_time": "2023-03-28T02:03:16.186095Z",
     "start_time": "2023-03-28T02:03:16.177427Z"
    },
    "cell_style": "split"
   },
   "outputs": [],
   "source": [
    "def normalDistributionGraphGenarator(\n",
    "    data:numpy.array,\n",
    "    *ExtraArguments\n",
    ")->None:\n",
    "    \"\"\"Normalization graph plotter function\n",
    "\n",
    "    Args:\n",
    "        data (numpy.array): Any Array or DataFrame Column\n",
    "    \"\"\"\n",
    "    pyplot.figure('Normal Distribution Graph')\n",
    "    data=numpy.sort(data)\n",
    "    pyplot.plot(data, scipy.stats.norm.pdf(\n",
    "        data, \n",
    "        numpy.mean(data),\n",
    "        numpy.std(data))\n",
    "    )\n",
    "    for data in ExtraArguments:\n",
    "        data=numpy.sort(data)\n",
    "        pyplot.plot(data, \n",
    "            scipy.stats.norm.pdf(\n",
    "            data, \n",
    "            numpy.mean(data),\n",
    "            numpy.std(data))\n",
    "    )\n",
    "    pyplot.xlabel('values')\n",
    "    pyplot.ylabel(\"Normalized Values\")"
   ]
  },
  {
   "cell_type": "code",
   "execution_count": 15,
   "id": "02e8af0e",
   "metadata": {
    "ExecuteTime": {
     "end_time": "2023-03-28T02:03:16.416401Z",
     "start_time": "2023-03-28T02:03:16.405366Z"
    },
    "cell_style": "split"
   },
   "outputs": [],
   "source": [
    "def generateClusters(data:pandas.DataFrame,column_name:str,number_of_clusters=5)->list:\n",
    "    \"\"\" Function for getting clusters using Kmeans Method\n",
    "        Only Numerical Column is allowed\n",
    "\n",
    "    Args:\n",
    "        data (pandas.DataFrame): DataFrame Copy\n",
    "        column_name (str): Specific Column Name\n",
    "        number_of_clusters (int, optional): number of required clusters . Defaults to 5.\n",
    "\n",
    "    Returns:\n",
    "        list: list of DataFrames\n",
    "    \"\"\"\n",
    "    Samples=[]\n",
    "    column_data=data[column_name]\n",
    "    cluster_centers,_=kmeans(\n",
    "        column_data.to_numpy(),\n",
    "        k_or_guess=number_of_clusters\n",
    "    )\n",
    "    cluster_indexes,_ = vq(\n",
    "        column_data.to_numpy(),\n",
    "        cluster_centers\n",
    "    )\n",
    "    data[\"cluster_value\"]=cluster_indexes\n",
    "    for i in range(number_of_clusters):\n",
    "        Samples.append(\n",
    "            data[data[\"cluster_value\"]==i].sort_values(by=column_name,\n",
    "                                                       ascending=False\n",
    "    ).reset_index(\n",
    "                drop=True\n",
    "    ).drop(\n",
    "        ['cluster_value'],axis=1)\n",
    "    )\n",
    "    data=data.drop(['cluster_value'],axis=1)\n",
    "    return Samples"
   ]
  },
  {
   "cell_type": "code",
   "execution_count": 16,
   "id": "4550ccbb",
   "metadata": {
    "ExecuteTime": {
     "end_time": "2023-03-28T02:03:16.635468Z",
     "start_time": "2023-03-28T02:03:16.620475Z"
    }
   },
   "outputs": [],
   "source": [
    "def PreprocessTheCovidData(Main_Data:pandas.DataFrame,Selected_columns:list,isCumulative=False)->pandas.DataFrame:\n",
    "    \"\"\"Final Function for Whole Data Processing for Covid Data\n",
    "\n",
    "    Args:\n",
    "        Main_Data (pandas.DataFrame): Initial Raw Data\n",
    "        Selected_columns (list): list of columns that to bet selected\n",
    "\n",
    "    Returns:\n",
    "        pandas.DataFrame: Preprocessed Data\n",
    "    \"\"\"\n",
    "    Main_Data=Main_Data[Selected_Columns]\n",
    "    if isCumulative:\n",
    "        for index in Main_Data['location'].value_counts().index:\n",
    "            if len(Main_Data[Main_Data['location']==index]['total_cases'].unique())<2:\n",
    "                Main_Data=Main_Data[Main_Data['location']!=index]\n",
    "    for index in Main_Data[Main_Data['continent'].isnull()==True]['location'].value_counts().index:\n",
    "        if index.find(\"income\")!=-1:\n",
    "            Main_Data[Main_Data['location']==index]=Main_Data[Main_Data['location']==index].fillna(value={\"continent\":\"Income Based\"})\n",
    "        elif index.find(\"Europe\")!=-1:\n",
    "            Main_Data[Main_Data['location']==index]=Main_Data[Main_Data['location']==index].fillna(value={\"continent\":\"Europe\"})\n",
    "        elif index.find(\"International\")!=-1 or index.find(\"World\")!=-1:\n",
    "            Main_Data[Main_Data['location']==index]=Main_Data[Main_Data['location']==index].fillna(value={\"continent\":\"World\"})\n",
    "        else:\n",
    "            Main_Data[Main_Data['location']==index]=Main_Data[Main_Data['location']==index].fillna(value={\"continent\":index})\n",
    "    for index in Main_Data[Main_Data['life_expectancy'].isnull()==False]['continent'].value_counts().index:\n",
    "        Main_Data[Main_Data['continent']==index]=Main_Data[Main_Data['continent']==index].fillna(value={\"life_expectancy\":Main_Data[Main_Data['continent']==index]['life_expectancy'].mean()})\n",
    "    Main_Data=Main_Data.fillna(value={\"life_expectancy\":Main_Data['life_expectancy'].mean()})\n",
    "    Main_Data['population']=Main_Data['population'].fillna(Main_Data[Main_Data['location']=='International']['total_cases'].max())\n",
    "    Main_Data[['new_cases','new_deaths']]=Main_Data[['new_cases','new_deaths']].fillna(0)\n",
    "    for index in Main_Data['location'].value_counts().index:\n",
    "        Main_Data[Main_Data['location']==index]=Main_Data[Main_Data['location']==index].fillna(0,limit=1)\n",
    "        Main_Data[Main_Data['location']==index]=Main_Data[Main_Data['location']==index].fillna(method='ffill')\n",
    "    return Main_Data"
   ]
  },
  {
   "cell_type": "markdown",
   "id": "465956c5",
   "metadata": {
    "cell_style": "center",
    "id": "465956c5"
   },
   "source": [
    "reading dataset"
   ]
  },
  {
   "cell_type": "code",
   "execution_count": 13,
   "id": "4AnwaYobJBtV",
   "metadata": {
    "ExecuteTime": {
     "end_time": "2023-03-31T04:41:04.490218Z",
     "start_time": "2023-03-31T04:41:00.495188Z"
    },
    "cell_style": "center",
    "executionInfo": {
     "elapsed": 3418,
     "status": "ok",
     "timestamp": 1676398682063,
     "user": {
      "displayName": "SHIVKUMAR CHAUHAN",
      "userId": "00181769091967804430"
     },
     "user_tz": 480
    },
    "id": "4AnwaYobJBtV",
    "init_cell": true
   },
   "outputs": [],
   "source": [
    "Raw_Data=pandas.read_csv(\"./Data/Raw_Data/owid-covid-data.csv\",date_parser='date')"
   ]
  },
  {
   "cell_type": "markdown",
   "id": "41d161c3",
   "metadata": {
    "cell_style": "split",
    "id": "41d161c3"
   },
   "source": [
    "Sorting the Dataframe using total_cases column"
   ]
  },
  {
   "cell_type": "markdown",
   "id": "788d8b6c",
   "metadata": {
    "cell_style": "split",
    "id": "788d8b6c"
   },
   "source": [
    "selecting specific columns"
   ]
  },
  {
   "cell_type": "code",
   "execution_count": 14,
   "id": "2e351be2",
   "metadata": {
    "ExecuteTime": {
     "end_time": "2023-03-31T04:41:04.729184Z",
     "start_time": "2023-03-31T04:41:04.494185Z"
    },
    "cell_style": "split",
    "executionInfo": {
     "elapsed": 446,
     "status": "ok",
     "timestamp": 1676400284622,
     "user": {
      "displayName": "SHIVKUMAR CHAUHAN",
      "userId": "00181769091967804430"
     },
     "user_tz": 480
    },
    "id": "2e351be2",
    "init_cell": true,
    "run_control": {
     "marked": false
    }
   },
   "outputs": [],
   "source": [
    "Raw_Data=Raw_Data.sort_values(\n",
    "    by=\"total_cases\",\n",
    "    ascending=False\n",
    ").reset_index(drop=True)"
   ]
  },
  {
   "cell_type": "code",
   "execution_count": 15,
   "id": "3sH7227XPMgG",
   "metadata": {
    "ExecuteTime": {
     "end_time": "2023-03-31T04:41:04.745196Z",
     "start_time": "2023-03-31T04:41:04.733186Z"
    },
    "cell_style": "split",
    "executionInfo": {
     "elapsed": 456,
     "status": "ok",
     "timestamp": 1676400270145,
     "user": {
      "displayName": "SHIVKUMAR CHAUHAN",
      "userId": "00181769091967804430"
     },
     "user_tz": 480
    },
    "id": "3sH7227XPMgG",
    "init_cell": true
   },
   "outputs": [],
   "source": [
    "Selected_Columns=['iso_code','date', 'continent', 'location', 'total_cases','new_cases', 'total_deaths', 'new_deaths','population','life_expectancy']"
   ]
  },
  {
   "cell_type": "markdown",
   "id": "b41fa51d",
   "metadata": {
    "cell_style": "split",
    "id": "b41fa51d"
   },
   "source": [
    "Location Specific Data"
   ]
  },
  {
   "cell_type": "markdown",
   "id": "c82664de",
   "metadata": {
    "cell_style": "split",
    "id": "c82664de"
   },
   "source": [
    "Recently Updated Data"
   ]
  },
  {
   "cell_type": "code",
   "execution_count": 16,
   "id": "d87539c7",
   "metadata": {
    "ExecuteTime": {
     "end_time": "2023-03-31T04:41:04.761182Z",
     "start_time": "2023-03-31T04:41:04.747183Z"
    },
    "cell_style": "split",
    "executionInfo": {
     "elapsed": 5,
     "status": "ok",
     "timestamp": 1676400271584,
     "user": {
      "displayName": "SHIVKUMAR CHAUHAN",
      "userId": "00181769091967804430"
     },
     "user_tz": 480
    },
    "id": "d87539c7",
    "init_cell": true
   },
   "outputs": [],
   "source": [
    "location=\"India\""
   ]
  },
  {
   "cell_type": "code",
   "execution_count": 17,
   "id": "9ef69c6e",
   "metadata": {
    "ExecuteTime": {
     "end_time": "2023-03-31T04:41:04.808186Z",
     "start_time": "2023-03-31T04:41:04.763182Z"
    },
    "cell_style": "split",
    "executionInfo": {
     "elapsed": 6,
     "status": "ok",
     "timestamp": 1676400279645,
     "user": {
      "displayName": "SHIVKUMAR CHAUHAN",
      "userId": "00181769091967804430"
     },
     "user_tz": 480
    },
    "id": "9ef69c6e",
    "init_cell": true
   },
   "outputs": [],
   "source": [
    "recent_date=Raw_Data['date'][0]\n",
    "Recent_Data=Raw_Data[Raw_Data['date']==recent_date]"
   ]
  },
  {
   "cell_type": "code",
   "execution_count": 18,
   "id": "b08918b9",
   "metadata": {
    "ExecuteTime": {
     "end_time": "2023-03-31T04:41:04.854181Z",
     "start_time": "2023-03-31T04:41:04.813238Z"
    },
    "cell_style": "split",
    "executionInfo": {
     "elapsed": 634,
     "status": "ok",
     "timestamp": 1676400276433,
     "user": {
      "displayName": "SHIVKUMAR CHAUHAN",
      "userId": "00181769091967804430"
     },
     "user_tz": 480
    },
    "id": "b08918b9",
    "init_cell": true
   },
   "outputs": [],
   "source": [
    "Location_Specific_Data=Raw_Data[\n",
    "    Raw_Data['location']==location\n",
    "]"
   ]
  },
  {
   "cell_type": "markdown",
   "id": "61a2ede7",
   "metadata": {
    "id": "61a2ede7"
   },
   "source": [
    "# Data Exploration"
   ]
  },
  {
   "cell_type": "markdown",
   "id": "19721a79",
   "metadata": {
    "id": "19721a79"
   },
   "source": [
    "## Raw Data"
   ]
  },
  {
   "cell_type": "markdown",
   "id": "16356f4f",
   "metadata": {
    "id": "16356f4f"
   },
   "source": [
    "printing Checking of Raw dataset"
   ]
  },
  {
   "cell_type": "code",
   "execution_count": 23,
   "id": "fc16f867",
   "metadata": {
    "ExecuteTime": {
     "end_time": "2023-03-28T02:03:19.753074Z",
     "start_time": "2023-03-28T02:03:19.722073Z"
    },
    "colab": {
     "base_uri": "https://localhost:8080/",
     "height": 505
    },
    "executionInfo": {
     "elapsed": 861,
     "status": "ok",
     "timestamp": 1676400289341,
     "user": {
      "displayName": "SHIVKUMAR CHAUHAN",
      "userId": "00181769091967804430"
     },
     "user_tz": 480
    },
    "id": "fc16f867",
    "outputId": "1e569350-7b04-464b-beeb-e09cc1b3204d"
   },
   "outputs": [
    {
     "data": {
      "text/html": [
       "<div>\n",
       "<style scoped>\n",
       "    .dataframe tbody tr th:only-of-type {\n",
       "        vertical-align: middle;\n",
       "    }\n",
       "\n",
       "    .dataframe tbody tr th {\n",
       "        vertical-align: top;\n",
       "    }\n",
       "\n",
       "    .dataframe thead th {\n",
       "        text-align: right;\n",
       "    }\n",
       "</style>\n",
       "<table border=\"1\" class=\"dataframe\">\n",
       "  <thead>\n",
       "    <tr style=\"text-align: right;\">\n",
       "      <th></th>\n",
       "      <th>iso_code</th>\n",
       "      <th>continent</th>\n",
       "      <th>location</th>\n",
       "      <th>date</th>\n",
       "      <th>total_cases</th>\n",
       "      <th>new_cases</th>\n",
       "      <th>new_cases_smoothed</th>\n",
       "      <th>total_deaths</th>\n",
       "      <th>new_deaths</th>\n",
       "      <th>new_deaths_smoothed</th>\n",
       "      <th>...</th>\n",
       "      <th>male_smokers</th>\n",
       "      <th>handwashing_facilities</th>\n",
       "      <th>hospital_beds_per_thousand</th>\n",
       "      <th>life_expectancy</th>\n",
       "      <th>human_development_index</th>\n",
       "      <th>population</th>\n",
       "      <th>excess_mortality_cumulative_absolute</th>\n",
       "      <th>excess_mortality_cumulative</th>\n",
       "      <th>excess_mortality</th>\n",
       "      <th>excess_mortality_cumulative_per_million</th>\n",
       "    </tr>\n",
       "  </thead>\n",
       "  <tbody>\n",
       "    <tr>\n",
       "      <th>0</th>\n",
       "      <td>OWID_WRL</td>\n",
       "      <td>NaN</td>\n",
       "      <td>World</td>\n",
       "      <td>2023-03-21</td>\n",
       "      <td>761071062.0</td>\n",
       "      <td>33950.0</td>\n",
       "      <td>93977.286</td>\n",
       "      <td>6879664.0</td>\n",
       "      <td>198.0</td>\n",
       "      <td>619.714</td>\n",
       "      <td>...</td>\n",
       "      <td>34.635</td>\n",
       "      <td>60.13</td>\n",
       "      <td>2.705</td>\n",
       "      <td>72.58</td>\n",
       "      <td>0.737</td>\n",
       "      <td>7.975105e+09</td>\n",
       "      <td>NaN</td>\n",
       "      <td>NaN</td>\n",
       "      <td>NaN</td>\n",
       "      <td>NaN</td>\n",
       "    </tr>\n",
       "    <tr>\n",
       "      <th>1</th>\n",
       "      <td>OWID_WRL</td>\n",
       "      <td>NaN</td>\n",
       "      <td>World</td>\n",
       "      <td>2023-03-20</td>\n",
       "      <td>761037112.0</td>\n",
       "      <td>54418.0</td>\n",
       "      <td>101009.857</td>\n",
       "      <td>6879466.0</td>\n",
       "      <td>256.0</td>\n",
       "      <td>668.857</td>\n",
       "      <td>...</td>\n",
       "      <td>34.635</td>\n",
       "      <td>60.13</td>\n",
       "      <td>2.705</td>\n",
       "      <td>72.58</td>\n",
       "      <td>0.737</td>\n",
       "      <td>7.975105e+09</td>\n",
       "      <td>NaN</td>\n",
       "      <td>NaN</td>\n",
       "      <td>NaN</td>\n",
       "      <td>NaN</td>\n",
       "    </tr>\n",
       "    <tr>\n",
       "      <th>2</th>\n",
       "      <td>OWID_WRL</td>\n",
       "      <td>NaN</td>\n",
       "      <td>World</td>\n",
       "      <td>2023-03-19</td>\n",
       "      <td>760982694.0</td>\n",
       "      <td>80448.0</td>\n",
       "      <td>104900.286</td>\n",
       "      <td>6879210.0</td>\n",
       "      <td>325.0</td>\n",
       "      <td>699.571</td>\n",
       "      <td>...</td>\n",
       "      <td>34.635</td>\n",
       "      <td>60.13</td>\n",
       "      <td>2.705</td>\n",
       "      <td>72.58</td>\n",
       "      <td>0.737</td>\n",
       "      <td>7.975105e+09</td>\n",
       "      <td>NaN</td>\n",
       "      <td>NaN</td>\n",
       "      <td>NaN</td>\n",
       "      <td>NaN</td>\n",
       "    </tr>\n",
       "    <tr>\n",
       "      <th>3</th>\n",
       "      <td>OWID_WRL</td>\n",
       "      <td>NaN</td>\n",
       "      <td>World</td>\n",
       "      <td>2023-03-18</td>\n",
       "      <td>760902246.0</td>\n",
       "      <td>216329.0</td>\n",
       "      <td>117118.286</td>\n",
       "      <td>6878885.0</td>\n",
       "      <td>2478.0</td>\n",
       "      <td>781.286</td>\n",
       "      <td>...</td>\n",
       "      <td>34.635</td>\n",
       "      <td>60.13</td>\n",
       "      <td>2.705</td>\n",
       "      <td>72.58</td>\n",
       "      <td>0.737</td>\n",
       "      <td>7.975105e+09</td>\n",
       "      <td>NaN</td>\n",
       "      <td>NaN</td>\n",
       "      <td>NaN</td>\n",
       "      <td>NaN</td>\n",
       "    </tr>\n",
       "    <tr>\n",
       "      <th>4</th>\n",
       "      <td>OWID_WRL</td>\n",
       "      <td>NaN</td>\n",
       "      <td>World</td>\n",
       "      <td>2023-03-17</td>\n",
       "      <td>760685917.0</td>\n",
       "      <td>76049.0</td>\n",
       "      <td>124941.857</td>\n",
       "      <td>6876407.0</td>\n",
       "      <td>294.0</td>\n",
       "      <td>799.571</td>\n",
       "      <td>...</td>\n",
       "      <td>34.635</td>\n",
       "      <td>60.13</td>\n",
       "      <td>2.705</td>\n",
       "      <td>72.58</td>\n",
       "      <td>0.737</td>\n",
       "      <td>7.975105e+09</td>\n",
       "      <td>NaN</td>\n",
       "      <td>NaN</td>\n",
       "      <td>NaN</td>\n",
       "      <td>NaN</td>\n",
       "    </tr>\n",
       "  </tbody>\n",
       "</table>\n",
       "<p>5 rows × 67 columns</p>\n",
       "</div>"
      ],
      "text/plain": [
       "   iso_code continent location        date  total_cases  new_cases  \\\n",
       "0  OWID_WRL       NaN    World  2023-03-21  761071062.0    33950.0   \n",
       "1  OWID_WRL       NaN    World  2023-03-20  761037112.0    54418.0   \n",
       "2  OWID_WRL       NaN    World  2023-03-19  760982694.0    80448.0   \n",
       "3  OWID_WRL       NaN    World  2023-03-18  760902246.0   216329.0   \n",
       "4  OWID_WRL       NaN    World  2023-03-17  760685917.0    76049.0   \n",
       "\n",
       "   new_cases_smoothed  total_deaths  new_deaths  new_deaths_smoothed  ...  \\\n",
       "0           93977.286     6879664.0       198.0              619.714  ...   \n",
       "1          101009.857     6879466.0       256.0              668.857  ...   \n",
       "2          104900.286     6879210.0       325.0              699.571  ...   \n",
       "3          117118.286     6878885.0      2478.0              781.286  ...   \n",
       "4          124941.857     6876407.0       294.0              799.571  ...   \n",
       "\n",
       "   male_smokers  handwashing_facilities  hospital_beds_per_thousand  \\\n",
       "0        34.635                   60.13                       2.705   \n",
       "1        34.635                   60.13                       2.705   \n",
       "2        34.635                   60.13                       2.705   \n",
       "3        34.635                   60.13                       2.705   \n",
       "4        34.635                   60.13                       2.705   \n",
       "\n",
       "   life_expectancy  human_development_index    population  \\\n",
       "0            72.58                    0.737  7.975105e+09   \n",
       "1            72.58                    0.737  7.975105e+09   \n",
       "2            72.58                    0.737  7.975105e+09   \n",
       "3            72.58                    0.737  7.975105e+09   \n",
       "4            72.58                    0.737  7.975105e+09   \n",
       "\n",
       "   excess_mortality_cumulative_absolute  excess_mortality_cumulative  \\\n",
       "0                                   NaN                          NaN   \n",
       "1                                   NaN                          NaN   \n",
       "2                                   NaN                          NaN   \n",
       "3                                   NaN                          NaN   \n",
       "4                                   NaN                          NaN   \n",
       "\n",
       "   excess_mortality  excess_mortality_cumulative_per_million  \n",
       "0               NaN                                      NaN  \n",
       "1               NaN                                      NaN  \n",
       "2               NaN                                      NaN  \n",
       "3               NaN                                      NaN  \n",
       "4               NaN                                      NaN  \n",
       "\n",
       "[5 rows x 67 columns]"
      ]
     },
     "execution_count": 23,
     "metadata": {},
     "output_type": "execute_result"
    }
   ],
   "source": [
    "Raw_Data.head()"
   ]
  },
  {
   "cell_type": "markdown",
   "id": "301cee4b",
   "metadata": {
    "id": "301cee4b"
   },
   "source": [
    "printing different statistics of dataset like mean, quantiles, min, max etc."
   ]
  },
  {
   "cell_type": "code",
   "execution_count": 24,
   "id": "JnmklR96PK5H",
   "metadata": {
    "ExecuteTime": {
     "end_time": "2023-03-28T02:03:21.641041Z",
     "start_time": "2023-03-28T02:03:20.153537Z"
    },
    "colab": {
     "base_uri": "https://localhost:8080/",
     "height": 488
    },
    "executionInfo": {
     "elapsed": 489,
     "status": "ok",
     "timestamp": 1676400307920,
     "user": {
      "displayName": "SHIVKUMAR CHAUHAN",
      "userId": "00181769091967804430"
     },
     "user_tz": 480
    },
    "id": "JnmklR96PK5H",
    "outputId": "fd512ed4-1494-4a10-a110-a7dc3a94fa5f",
    "scrolled": false
   },
   "outputs": [
    {
     "data": {
      "text/html": [
       "<div>\n",
       "<style scoped>\n",
       "    .dataframe tbody tr th:only-of-type {\n",
       "        vertical-align: middle;\n",
       "    }\n",
       "\n",
       "    .dataframe tbody tr th {\n",
       "        vertical-align: top;\n",
       "    }\n",
       "\n",
       "    .dataframe thead th {\n",
       "        text-align: right;\n",
       "    }\n",
       "</style>\n",
       "<table border=\"1\" class=\"dataframe\">\n",
       "  <thead>\n",
       "    <tr style=\"text-align: right;\">\n",
       "      <th></th>\n",
       "      <th>iso_code</th>\n",
       "      <th>continent</th>\n",
       "      <th>location</th>\n",
       "      <th>date</th>\n",
       "      <th>total_cases</th>\n",
       "      <th>new_cases</th>\n",
       "      <th>new_cases_smoothed</th>\n",
       "      <th>total_deaths</th>\n",
       "      <th>new_deaths</th>\n",
       "      <th>new_deaths_smoothed</th>\n",
       "      <th>...</th>\n",
       "      <th>male_smokers</th>\n",
       "      <th>handwashing_facilities</th>\n",
       "      <th>hospital_beds_per_thousand</th>\n",
       "      <th>life_expectancy</th>\n",
       "      <th>human_development_index</th>\n",
       "      <th>population</th>\n",
       "      <th>excess_mortality_cumulative_absolute</th>\n",
       "      <th>excess_mortality_cumulative</th>\n",
       "      <th>excess_mortality</th>\n",
       "      <th>excess_mortality_cumulative_per_million</th>\n",
       "    </tr>\n",
       "  </thead>\n",
       "  <tbody>\n",
       "    <tr>\n",
       "      <th>count</th>\n",
       "      <td>297152</td>\n",
       "      <td>283021</td>\n",
       "      <td>297152</td>\n",
       "      <td>297152</td>\n",
       "      <td>2.614010e+05</td>\n",
       "      <td>2.886750e+05</td>\n",
       "      <td>2.874110e+05</td>\n",
       "      <td>2.409870e+05</td>\n",
       "      <td>288741.000000</td>\n",
       "      <td>287511.000000</td>\n",
       "      <td>...</td>\n",
       "      <td>170354.000000</td>\n",
       "      <td>112729.000000</td>\n",
       "      <td>203231.000000</td>\n",
       "      <td>273235.000000</td>\n",
       "      <td>223159.000000</td>\n",
       "      <td>2.971520e+05</td>\n",
       "      <td>1.020500e+04</td>\n",
       "      <td>10205.000000</td>\n",
       "      <td>10205.000000</td>\n",
       "      <td>10205.000000</td>\n",
       "    </tr>\n",
       "    <tr>\n",
       "      <th>unique</th>\n",
       "      <td>255</td>\n",
       "      <td>6</td>\n",
       "      <td>255</td>\n",
       "      <td>1181</td>\n",
       "      <td>NaN</td>\n",
       "      <td>NaN</td>\n",
       "      <td>NaN</td>\n",
       "      <td>NaN</td>\n",
       "      <td>NaN</td>\n",
       "      <td>NaN</td>\n",
       "      <td>...</td>\n",
       "      <td>NaN</td>\n",
       "      <td>NaN</td>\n",
       "      <td>NaN</td>\n",
       "      <td>NaN</td>\n",
       "      <td>NaN</td>\n",
       "      <td>NaN</td>\n",
       "      <td>NaN</td>\n",
       "      <td>NaN</td>\n",
       "      <td>NaN</td>\n",
       "      <td>NaN</td>\n",
       "    </tr>\n",
       "    <tr>\n",
       "      <th>top</th>\n",
       "      <td>ARG</td>\n",
       "      <td>Africa</td>\n",
       "      <td>Argentina</td>\n",
       "      <td>2022-04-20</td>\n",
       "      <td>NaN</td>\n",
       "      <td>NaN</td>\n",
       "      <td>NaN</td>\n",
       "      <td>NaN</td>\n",
       "      <td>NaN</td>\n",
       "      <td>NaN</td>\n",
       "      <td>...</td>\n",
       "      <td>NaN</td>\n",
       "      <td>NaN</td>\n",
       "      <td>NaN</td>\n",
       "      <td>NaN</td>\n",
       "      <td>NaN</td>\n",
       "      <td>NaN</td>\n",
       "      <td>NaN</td>\n",
       "      <td>NaN</td>\n",
       "      <td>NaN</td>\n",
       "      <td>NaN</td>\n",
       "    </tr>\n",
       "    <tr>\n",
       "      <th>freq</th>\n",
       "      <td>1180</td>\n",
       "      <td>66919</td>\n",
       "      <td>1180</td>\n",
       "      <td>255</td>\n",
       "      <td>NaN</td>\n",
       "      <td>NaN</td>\n",
       "      <td>NaN</td>\n",
       "      <td>NaN</td>\n",
       "      <td>NaN</td>\n",
       "      <td>NaN</td>\n",
       "      <td>...</td>\n",
       "      <td>NaN</td>\n",
       "      <td>NaN</td>\n",
       "      <td>NaN</td>\n",
       "      <td>NaN</td>\n",
       "      <td>NaN</td>\n",
       "      <td>NaN</td>\n",
       "      <td>NaN</td>\n",
       "      <td>NaN</td>\n",
       "      <td>NaN</td>\n",
       "      <td>NaN</td>\n",
       "    </tr>\n",
       "    <tr>\n",
       "      <th>mean</th>\n",
       "      <td>NaN</td>\n",
       "      <td>NaN</td>\n",
       "      <td>NaN</td>\n",
       "      <td>NaN</td>\n",
       "      <td>5.367080e+06</td>\n",
       "      <td>1.117552e+04</td>\n",
       "      <td>1.122060e+04</td>\n",
       "      <td>7.798592e+04</td>\n",
       "      <td>99.555030</td>\n",
       "      <td>99.947194</td>\n",
       "      <td>...</td>\n",
       "      <td>32.911114</td>\n",
       "      <td>50.794994</td>\n",
       "      <td>3.098023</td>\n",
       "      <td>73.721018</td>\n",
       "      <td>0.722548</td>\n",
       "      <td>1.283638e+08</td>\n",
       "      <td>4.683279e+04</td>\n",
       "      <td>9.488196</td>\n",
       "      <td>13.073035</td>\n",
       "      <td>1437.715461</td>\n",
       "    </tr>\n",
       "    <tr>\n",
       "      <th>std</th>\n",
       "      <td>NaN</td>\n",
       "      <td>NaN</td>\n",
       "      <td>NaN</td>\n",
       "      <td>NaN</td>\n",
       "      <td>3.374066e+07</td>\n",
       "      <td>1.052843e+05</td>\n",
       "      <td>1.025490e+05</td>\n",
       "      <td>4.045377e+05</td>\n",
       "      <td>612.409212</td>\n",
       "      <td>602.917596</td>\n",
       "      <td>...</td>\n",
       "      <td>13.572942</td>\n",
       "      <td>31.957226</td>\n",
       "      <td>2.548891</td>\n",
       "      <td>7.397070</td>\n",
       "      <td>0.148996</td>\n",
       "      <td>6.605372e+08</td>\n",
       "      <td>1.371560e+05</td>\n",
       "      <td>13.099374</td>\n",
       "      <td>26.692084</td>\n",
       "      <td>1822.875623</td>\n",
       "    </tr>\n",
       "    <tr>\n",
       "      <th>min</th>\n",
       "      <td>NaN</td>\n",
       "      <td>NaN</td>\n",
       "      <td>NaN</td>\n",
       "      <td>NaN</td>\n",
       "      <td>1.000000e+00</td>\n",
       "      <td>0.000000e+00</td>\n",
       "      <td>0.000000e+00</td>\n",
       "      <td>1.000000e+00</td>\n",
       "      <td>0.000000</td>\n",
       "      <td>0.000000</td>\n",
       "      <td>...</td>\n",
       "      <td>7.700000</td>\n",
       "      <td>1.188000</td>\n",
       "      <td>0.100000</td>\n",
       "      <td>53.280000</td>\n",
       "      <td>0.394000</td>\n",
       "      <td>4.700000e+01</td>\n",
       "      <td>-3.772610e+04</td>\n",
       "      <td>-44.230000</td>\n",
       "      <td>-95.920000</td>\n",
       "      <td>-1984.281600</td>\n",
       "    </tr>\n",
       "    <tr>\n",
       "      <th>25%</th>\n",
       "      <td>NaN</td>\n",
       "      <td>NaN</td>\n",
       "      <td>NaN</td>\n",
       "      <td>NaN</td>\n",
       "      <td>5.999000e+03</td>\n",
       "      <td>0.000000e+00</td>\n",
       "      <td>1.286000e+00</td>\n",
       "      <td>1.160000e+02</td>\n",
       "      <td>0.000000</td>\n",
       "      <td>0.000000</td>\n",
       "      <td>...</td>\n",
       "      <td>22.600000</td>\n",
       "      <td>20.859000</td>\n",
       "      <td>1.300000</td>\n",
       "      <td>69.590000</td>\n",
       "      <td>0.602000</td>\n",
       "      <td>4.490020e+05</td>\n",
       "      <td>1.930000e+01</td>\n",
       "      <td>0.370000</td>\n",
       "      <td>-0.990000</td>\n",
       "      <td>12.528376</td>\n",
       "    </tr>\n",
       "    <tr>\n",
       "      <th>50%</th>\n",
       "      <td>NaN</td>\n",
       "      <td>NaN</td>\n",
       "      <td>NaN</td>\n",
       "      <td>NaN</td>\n",
       "      <td>5.800800e+04</td>\n",
       "      <td>2.100000e+01</td>\n",
       "      <td>4.142900e+01</td>\n",
       "      <td>1.163000e+03</td>\n",
       "      <td>0.000000</td>\n",
       "      <td>0.286000</td>\n",
       "      <td>...</td>\n",
       "      <td>33.100000</td>\n",
       "      <td>49.839000</td>\n",
       "      <td>2.500000</td>\n",
       "      <td>75.050000</td>\n",
       "      <td>0.740000</td>\n",
       "      <td>5.882259e+06</td>\n",
       "      <td>4.342600e+03</td>\n",
       "      <td>7.690000</td>\n",
       "      <td>6.800000</td>\n",
       "      <td>863.340940</td>\n",
       "    </tr>\n",
       "    <tr>\n",
       "      <th>75%</th>\n",
       "      <td>NaN</td>\n",
       "      <td>NaN</td>\n",
       "      <td>NaN</td>\n",
       "      <td>NaN</td>\n",
       "      <td>5.985810e+05</td>\n",
       "      <td>5.800000e+02</td>\n",
       "      <td>6.674290e+02</td>\n",
       "      <td>1.015950e+04</td>\n",
       "      <td>6.000000</td>\n",
       "      <td>7.143000</td>\n",
       "      <td>...</td>\n",
       "      <td>41.300000</td>\n",
       "      <td>83.241000</td>\n",
       "      <td>4.200000</td>\n",
       "      <td>79.460000</td>\n",
       "      <td>0.829000</td>\n",
       "      <td>2.830170e+07</td>\n",
       "      <td>3.104800e+04</td>\n",
       "      <td>15.460000</td>\n",
       "      <td>18.620000</td>\n",
       "      <td>2344.063000</td>\n",
       "    </tr>\n",
       "    <tr>\n",
       "      <th>max</th>\n",
       "      <td>NaN</td>\n",
       "      <td>NaN</td>\n",
       "      <td>NaN</td>\n",
       "      <td>NaN</td>\n",
       "      <td>7.610711e+08</td>\n",
       "      <td>7.946912e+06</td>\n",
       "      <td>6.405128e+06</td>\n",
       "      <td>6.879664e+06</td>\n",
       "      <td>20005.000000</td>\n",
       "      <td>14581.286000</td>\n",
       "      <td>...</td>\n",
       "      <td>78.100000</td>\n",
       "      <td>100.000000</td>\n",
       "      <td>13.800000</td>\n",
       "      <td>86.750000</td>\n",
       "      <td>0.957000</td>\n",
       "      <td>7.975105e+09</td>\n",
       "      <td>1.282260e+06</td>\n",
       "      <td>76.550000</td>\n",
       "      <td>376.770000</td>\n",
       "      <td>10329.523000</td>\n",
       "    </tr>\n",
       "  </tbody>\n",
       "</table>\n",
       "<p>11 rows × 67 columns</p>\n",
       "</div>"
      ],
      "text/plain": [
       "       iso_code continent   location        date   total_cases     new_cases  \\\n",
       "count    297152    283021     297152      297152  2.614010e+05  2.886750e+05   \n",
       "unique      255         6        255        1181           NaN           NaN   \n",
       "top         ARG    Africa  Argentina  2022-04-20           NaN           NaN   \n",
       "freq       1180     66919       1180         255           NaN           NaN   \n",
       "mean        NaN       NaN        NaN         NaN  5.367080e+06  1.117552e+04   \n",
       "std         NaN       NaN        NaN         NaN  3.374066e+07  1.052843e+05   \n",
       "min         NaN       NaN        NaN         NaN  1.000000e+00  0.000000e+00   \n",
       "25%         NaN       NaN        NaN         NaN  5.999000e+03  0.000000e+00   \n",
       "50%         NaN       NaN        NaN         NaN  5.800800e+04  2.100000e+01   \n",
       "75%         NaN       NaN        NaN         NaN  5.985810e+05  5.800000e+02   \n",
       "max         NaN       NaN        NaN         NaN  7.610711e+08  7.946912e+06   \n",
       "\n",
       "        new_cases_smoothed  total_deaths     new_deaths  new_deaths_smoothed  \\\n",
       "count         2.874110e+05  2.409870e+05  288741.000000        287511.000000   \n",
       "unique                 NaN           NaN            NaN                  NaN   \n",
       "top                    NaN           NaN            NaN                  NaN   \n",
       "freq                   NaN           NaN            NaN                  NaN   \n",
       "mean          1.122060e+04  7.798592e+04      99.555030            99.947194   \n",
       "std           1.025490e+05  4.045377e+05     612.409212           602.917596   \n",
       "min           0.000000e+00  1.000000e+00       0.000000             0.000000   \n",
       "25%           1.286000e+00  1.160000e+02       0.000000             0.000000   \n",
       "50%           4.142900e+01  1.163000e+03       0.000000             0.286000   \n",
       "75%           6.674290e+02  1.015950e+04       6.000000             7.143000   \n",
       "max           6.405128e+06  6.879664e+06   20005.000000         14581.286000   \n",
       "\n",
       "        ...   male_smokers  handwashing_facilities  \\\n",
       "count   ...  170354.000000           112729.000000   \n",
       "unique  ...            NaN                     NaN   \n",
       "top     ...            NaN                     NaN   \n",
       "freq    ...            NaN                     NaN   \n",
       "mean    ...      32.911114               50.794994   \n",
       "std     ...      13.572942               31.957226   \n",
       "min     ...       7.700000                1.188000   \n",
       "25%     ...      22.600000               20.859000   \n",
       "50%     ...      33.100000               49.839000   \n",
       "75%     ...      41.300000               83.241000   \n",
       "max     ...      78.100000              100.000000   \n",
       "\n",
       "        hospital_beds_per_thousand  life_expectancy  human_development_index  \\\n",
       "count                203231.000000    273235.000000            223159.000000   \n",
       "unique                         NaN              NaN                      NaN   \n",
       "top                            NaN              NaN                      NaN   \n",
       "freq                           NaN              NaN                      NaN   \n",
       "mean                      3.098023        73.721018                 0.722548   \n",
       "std                       2.548891         7.397070                 0.148996   \n",
       "min                       0.100000        53.280000                 0.394000   \n",
       "25%                       1.300000        69.590000                 0.602000   \n",
       "50%                       2.500000        75.050000                 0.740000   \n",
       "75%                       4.200000        79.460000                 0.829000   \n",
       "max                      13.800000        86.750000                 0.957000   \n",
       "\n",
       "          population  excess_mortality_cumulative_absolute  \\\n",
       "count   2.971520e+05                          1.020500e+04   \n",
       "unique           NaN                                   NaN   \n",
       "top              NaN                                   NaN   \n",
       "freq             NaN                                   NaN   \n",
       "mean    1.283638e+08                          4.683279e+04   \n",
       "std     6.605372e+08                          1.371560e+05   \n",
       "min     4.700000e+01                         -3.772610e+04   \n",
       "25%     4.490020e+05                          1.930000e+01   \n",
       "50%     5.882259e+06                          4.342600e+03   \n",
       "75%     2.830170e+07                          3.104800e+04   \n",
       "max     7.975105e+09                          1.282260e+06   \n",
       "\n",
       "        excess_mortality_cumulative  excess_mortality  \\\n",
       "count                  10205.000000      10205.000000   \n",
       "unique                          NaN               NaN   \n",
       "top                             NaN               NaN   \n",
       "freq                            NaN               NaN   \n",
       "mean                       9.488196         13.073035   \n",
       "std                       13.099374         26.692084   \n",
       "min                      -44.230000        -95.920000   \n",
       "25%                        0.370000         -0.990000   \n",
       "50%                        7.690000          6.800000   \n",
       "75%                       15.460000         18.620000   \n",
       "max                       76.550000        376.770000   \n",
       "\n",
       "        excess_mortality_cumulative_per_million  \n",
       "count                              10205.000000  \n",
       "unique                                      NaN  \n",
       "top                                         NaN  \n",
       "freq                                        NaN  \n",
       "mean                                1437.715461  \n",
       "std                                 1822.875623  \n",
       "min                                -1984.281600  \n",
       "25%                                   12.528376  \n",
       "50%                                  863.340940  \n",
       "75%                                 2344.063000  \n",
       "max                                10329.523000  \n",
       "\n",
       "[11 rows x 67 columns]"
      ]
     },
     "execution_count": 24,
     "metadata": {},
     "output_type": "execute_result"
    }
   ],
   "source": [
    "Raw_Data.describe(include=\"all\")"
   ]
  },
  {
   "cell_type": "markdown",
   "id": "63988a13",
   "metadata": {
    "id": "63988a13"
   },
   "source": [
    "printing the dataset information like column values counts, column value data type"
   ]
  },
  {
   "cell_type": "code",
   "execution_count": 25,
   "id": "d1391ca6",
   "metadata": {
    "ExecuteTime": {
     "end_time": "2023-03-28T02:03:22.554738Z",
     "start_time": "2023-03-28T02:03:22.301630Z"
    },
    "cell_style": "center",
    "colab": {
     "base_uri": "https://localhost:8080/"
    },
    "executionInfo": {
     "elapsed": 421,
     "status": "ok",
     "timestamp": 1676400298339,
     "user": {
      "displayName": "SHIVKUMAR CHAUHAN",
      "userId": "00181769091967804430"
     },
     "user_tz": 480
    },
    "id": "d1391ca6",
    "outputId": "0b064f4b-6527-45ec-b348-8059401434e2",
    "scrolled": false
   },
   "outputs": [
    {
     "name": "stdout",
     "output_type": "stream",
     "text": [
      "<class 'pandas.core.frame.DataFrame'>\n",
      "RangeIndex: 297152 entries, 0 to 297151\n",
      "Data columns (total 67 columns):\n",
      " #   Column                                      Non-Null Count   Dtype  \n",
      "---  ------                                      --------------   -----  \n",
      " 0   iso_code                                    297152 non-null  object \n",
      " 1   continent                                   283021 non-null  object \n",
      " 2   location                                    297152 non-null  object \n",
      " 3   date                                        297152 non-null  object \n",
      " 4   total_cases                                 261401 non-null  float64\n",
      " 5   new_cases                                   288675 non-null  float64\n",
      " 6   new_cases_smoothed                          287411 non-null  float64\n",
      " 7   total_deaths                                240987 non-null  float64\n",
      " 8   new_deaths                                  288741 non-null  float64\n",
      " 9   new_deaths_smoothed                         287511 non-null  float64\n",
      " 10  total_cases_per_million                     261401 non-null  float64\n",
      " 11  new_cases_per_million                       288675 non-null  float64\n",
      " 12  new_cases_smoothed_per_million              287411 non-null  float64\n",
      " 13  total_deaths_per_million                    240987 non-null  float64\n",
      " 14  new_deaths_per_million                      288741 non-null  float64\n",
      " 15  new_deaths_smoothed_per_million             287511 non-null  float64\n",
      " 16  reproduction_rate                           184817 non-null  float64\n",
      " 17  icu_patients                                34239 non-null   float64\n",
      " 18  icu_patients_per_million                    34239 non-null   float64\n",
      " 19  hosp_patients                               34744 non-null   float64\n",
      " 20  hosp_patients_per_million                   34744 non-null   float64\n",
      " 21  weekly_icu_admissions                       8961 non-null    float64\n",
      " 22  weekly_icu_admissions_per_million           8961 non-null    float64\n",
      " 23  weekly_hosp_admissions                      21049 non-null   float64\n",
      " 24  weekly_hosp_admissions_per_million          21049 non-null   float64\n",
      " 25  total_tests                                 79387 non-null   float64\n",
      " 26  new_tests                                   75403 non-null   float64\n",
      " 27  total_tests_per_thousand                    79387 non-null   float64\n",
      " 28  new_tests_per_thousand                      75403 non-null   float64\n",
      " 29  new_tests_smoothed                          103965 non-null  float64\n",
      " 30  new_tests_smoothed_per_thousand             103965 non-null  float64\n",
      " 31  positive_rate                               95927 non-null   float64\n",
      " 32  tests_per_case                              94348 non-null   float64\n",
      " 33  tests_units                                 106788 non-null  object \n",
      " 34  total_vaccinations                          73463 non-null   float64\n",
      " 35  people_vaccinated                           70359 non-null   float64\n",
      " 36  people_fully_vaccinated                     68041 non-null   float64\n",
      " 37  total_boosters                              42261 non-null   float64\n",
      " 38  new_vaccinations                            60710 non-null   float64\n",
      " 39  new_vaccinations_smoothed                   160807 non-null  float64\n",
      " 40  total_vaccinations_per_hundred              73463 non-null   float64\n",
      " 41  people_vaccinated_per_hundred               70359 non-null   float64\n",
      " 42  people_fully_vaccinated_per_hundred         68041 non-null   float64\n",
      " 43  total_boosters_per_hundred                  42261 non-null   float64\n",
      " 44  new_vaccinations_smoothed_per_million       160807 non-null  float64\n",
      " 45  new_people_vaccinated_smoothed              160918 non-null  float64\n",
      " 46  new_people_vaccinated_smoothed_per_hundred  160918 non-null  float64\n",
      " 47  stringency_index                            193194 non-null  float64\n",
      " 48  population_density                          252112 non-null  float64\n",
      " 49  median_age                                  234493 non-null  float64\n",
      " 50  aged_65_older                               226284 non-null  float64\n",
      " 51  aged_70_older                               232140 non-null  float64\n",
      " 52  gdp_per_capita                              229803 non-null  float64\n",
      " 53  extreme_poverty                             148020 non-null  float64\n",
      " 54  cardiovasc_death_rate                       230223 non-null  float64\n",
      " 55  diabetes_prevalence                         241946 non-null  float64\n",
      " 56  female_smokers                              172707 non-null  float64\n",
      " 57  male_smokers                                170354 non-null  float64\n",
      " 58  handwashing_facilities                      112729 non-null  float64\n",
      " 59  hospital_beds_per_thousand                  203231 non-null  float64\n",
      " 60  life_expectancy                             273235 non-null  float64\n",
      " 61  human_development_index                     223159 non-null  float64\n",
      " 62  population                                  297152 non-null  float64\n",
      " 63  excess_mortality_cumulative_absolute        10205 non-null   float64\n",
      " 64  excess_mortality_cumulative                 10205 non-null   float64\n",
      " 65  excess_mortality                            10205 non-null   float64\n",
      " 66  excess_mortality_cumulative_per_million     10205 non-null   float64\n",
      "dtypes: float64(62), object(5)\n",
      "memory usage: 151.9+ MB\n"
     ]
    }
   ],
   "source": [
    "Raw_Data.info()"
   ]
  },
  {
   "cell_type": "markdown",
   "id": "b61946b6",
   "metadata": {
    "id": "b61946b6"
   },
   "source": [
    "## Location Specific Data"
   ]
  },
  {
   "cell_type": "markdown",
   "id": "81f9baca",
   "metadata": {
    "id": "81f9baca"
   },
   "source": [
    "Printing Location Specific Data"
   ]
  },
  {
   "cell_type": "code",
   "execution_count": 26,
   "id": "ad93763c",
   "metadata": {
    "ExecuteTime": {
     "end_time": "2023-03-28T02:03:23.373029Z",
     "start_time": "2023-03-28T02:03:23.346027Z"
    },
    "colab": {
     "base_uri": "https://localhost:8080/",
     "height": 488
    },
    "executionInfo": {
     "elapsed": 715,
     "status": "ok",
     "timestamp": 1676400313024,
     "user": {
      "displayName": "SHIVKUMAR CHAUHAN",
      "userId": "00181769091967804430"
     },
     "user_tz": 480
    },
    "id": "ad93763c",
    "outputId": "b7391aa2-3993-4630-dc57-4eae73d88af1"
   },
   "outputs": [
    {
     "data": {
      "text/html": [
       "<div>\n",
       "<style scoped>\n",
       "    .dataframe tbody tr th:only-of-type {\n",
       "        vertical-align: middle;\n",
       "    }\n",
       "\n",
       "    .dataframe tbody tr th {\n",
       "        vertical-align: top;\n",
       "    }\n",
       "\n",
       "    .dataframe thead th {\n",
       "        text-align: right;\n",
       "    }\n",
       "</style>\n",
       "<table border=\"1\" class=\"dataframe\">\n",
       "  <thead>\n",
       "    <tr style=\"text-align: right;\">\n",
       "      <th></th>\n",
       "      <th>iso_code</th>\n",
       "      <th>continent</th>\n",
       "      <th>location</th>\n",
       "      <th>date</th>\n",
       "      <th>total_cases</th>\n",
       "      <th>new_cases</th>\n",
       "      <th>new_cases_smoothed</th>\n",
       "      <th>total_deaths</th>\n",
       "      <th>new_deaths</th>\n",
       "      <th>new_deaths_smoothed</th>\n",
       "      <th>...</th>\n",
       "      <th>male_smokers</th>\n",
       "      <th>handwashing_facilities</th>\n",
       "      <th>hospital_beds_per_thousand</th>\n",
       "      <th>life_expectancy</th>\n",
       "      <th>human_development_index</th>\n",
       "      <th>population</th>\n",
       "      <th>excess_mortality_cumulative_absolute</th>\n",
       "      <th>excess_mortality_cumulative</th>\n",
       "      <th>excess_mortality</th>\n",
       "      <th>excess_mortality_cumulative_per_million</th>\n",
       "    </tr>\n",
       "  </thead>\n",
       "  <tbody>\n",
       "    <tr>\n",
       "      <th>6470</th>\n",
       "      <td>IND</td>\n",
       "      <td>Asia</td>\n",
       "      <td>India</td>\n",
       "      <td>2023-03-21</td>\n",
       "      <td>44696984.0</td>\n",
       "      <td>646.0</td>\n",
       "      <td>806.571</td>\n",
       "      <td>530808.0</td>\n",
       "      <td>2.0</td>\n",
       "      <td>3.429</td>\n",
       "      <td>...</td>\n",
       "      <td>20.6</td>\n",
       "      <td>59.55</td>\n",
       "      <td>0.53</td>\n",
       "      <td>69.66</td>\n",
       "      <td>0.645</td>\n",
       "      <td>1.417173e+09</td>\n",
       "      <td>NaN</td>\n",
       "      <td>NaN</td>\n",
       "      <td>NaN</td>\n",
       "      <td>NaN</td>\n",
       "    </tr>\n",
       "    <tr>\n",
       "      <th>6471</th>\n",
       "      <td>IND</td>\n",
       "      <td>Asia</td>\n",
       "      <td>India</td>\n",
       "      <td>2023-03-20</td>\n",
       "      <td>44696338.0</td>\n",
       "      <td>918.0</td>\n",
       "      <td>771.714</td>\n",
       "      <td>530806.0</td>\n",
       "      <td>4.0</td>\n",
       "      <td>3.429</td>\n",
       "      <td>...</td>\n",
       "      <td>20.6</td>\n",
       "      <td>59.55</td>\n",
       "      <td>0.53</td>\n",
       "      <td>69.66</td>\n",
       "      <td>0.645</td>\n",
       "      <td>1.417173e+09</td>\n",
       "      <td>NaN</td>\n",
       "      <td>NaN</td>\n",
       "      <td>NaN</td>\n",
       "      <td>NaN</td>\n",
       "    </tr>\n",
       "    <tr>\n",
       "      <th>6472</th>\n",
       "      <td>IND</td>\n",
       "      <td>Asia</td>\n",
       "      <td>India</td>\n",
       "      <td>2023-03-19</td>\n",
       "      <td>44695420.0</td>\n",
       "      <td>1071.0</td>\n",
       "      <td>704.000</td>\n",
       "      <td>530802.0</td>\n",
       "      <td>3.0</td>\n",
       "      <td>3.000</td>\n",
       "      <td>...</td>\n",
       "      <td>20.6</td>\n",
       "      <td>59.55</td>\n",
       "      <td>0.53</td>\n",
       "      <td>69.66</td>\n",
       "      <td>0.645</td>\n",
       "      <td>1.417173e+09</td>\n",
       "      <td>NaN</td>\n",
       "      <td>NaN</td>\n",
       "      <td>NaN</td>\n",
       "      <td>NaN</td>\n",
       "    </tr>\n",
       "    <tr>\n",
       "      <th>6473</th>\n",
       "      <td>IND</td>\n",
       "      <td>Asia</td>\n",
       "      <td>India</td>\n",
       "      <td>2023-03-18</td>\n",
       "      <td>44694349.0</td>\n",
       "      <td>843.0</td>\n",
       "      <td>625.857</td>\n",
       "      <td>530799.0</td>\n",
       "      <td>4.0</td>\n",
       "      <td>2.714</td>\n",
       "      <td>...</td>\n",
       "      <td>20.6</td>\n",
       "      <td>59.55</td>\n",
       "      <td>0.53</td>\n",
       "      <td>69.66</td>\n",
       "      <td>0.645</td>\n",
       "      <td>1.417173e+09</td>\n",
       "      <td>NaN</td>\n",
       "      <td>NaN</td>\n",
       "      <td>NaN</td>\n",
       "      <td>NaN</td>\n",
       "    </tr>\n",
       "    <tr>\n",
       "      <th>6474</th>\n",
       "      <td>IND</td>\n",
       "      <td>Asia</td>\n",
       "      <td>India</td>\n",
       "      <td>2023-03-17</td>\n",
       "      <td>44693506.0</td>\n",
       "      <td>796.0</td>\n",
       "      <td>570.571</td>\n",
       "      <td>530795.0</td>\n",
       "      <td>5.0</td>\n",
       "      <td>2.286</td>\n",
       "      <td>...</td>\n",
       "      <td>20.6</td>\n",
       "      <td>59.55</td>\n",
       "      <td>0.53</td>\n",
       "      <td>69.66</td>\n",
       "      <td>0.645</td>\n",
       "      <td>1.417173e+09</td>\n",
       "      <td>NaN</td>\n",
       "      <td>NaN</td>\n",
       "      <td>NaN</td>\n",
       "      <td>NaN</td>\n",
       "    </tr>\n",
       "  </tbody>\n",
       "</table>\n",
       "<p>5 rows × 67 columns</p>\n",
       "</div>"
      ],
      "text/plain": [
       "     iso_code continent location        date  total_cases  new_cases  \\\n",
       "6470      IND      Asia    India  2023-03-21   44696984.0      646.0   \n",
       "6471      IND      Asia    India  2023-03-20   44696338.0      918.0   \n",
       "6472      IND      Asia    India  2023-03-19   44695420.0     1071.0   \n",
       "6473      IND      Asia    India  2023-03-18   44694349.0      843.0   \n",
       "6474      IND      Asia    India  2023-03-17   44693506.0      796.0   \n",
       "\n",
       "      new_cases_smoothed  total_deaths  new_deaths  new_deaths_smoothed  ...  \\\n",
       "6470             806.571      530808.0         2.0                3.429  ...   \n",
       "6471             771.714      530806.0         4.0                3.429  ...   \n",
       "6472             704.000      530802.0         3.0                3.000  ...   \n",
       "6473             625.857      530799.0         4.0                2.714  ...   \n",
       "6474             570.571      530795.0         5.0                2.286  ...   \n",
       "\n",
       "      male_smokers  handwashing_facilities  hospital_beds_per_thousand  \\\n",
       "6470          20.6                   59.55                        0.53   \n",
       "6471          20.6                   59.55                        0.53   \n",
       "6472          20.6                   59.55                        0.53   \n",
       "6473          20.6                   59.55                        0.53   \n",
       "6474          20.6                   59.55                        0.53   \n",
       "\n",
       "      life_expectancy  human_development_index    population  \\\n",
       "6470            69.66                    0.645  1.417173e+09   \n",
       "6471            69.66                    0.645  1.417173e+09   \n",
       "6472            69.66                    0.645  1.417173e+09   \n",
       "6473            69.66                    0.645  1.417173e+09   \n",
       "6474            69.66                    0.645  1.417173e+09   \n",
       "\n",
       "      excess_mortality_cumulative_absolute  excess_mortality_cumulative  \\\n",
       "6470                                   NaN                          NaN   \n",
       "6471                                   NaN                          NaN   \n",
       "6472                                   NaN                          NaN   \n",
       "6473                                   NaN                          NaN   \n",
       "6474                                   NaN                          NaN   \n",
       "\n",
       "      excess_mortality  excess_mortality_cumulative_per_million  \n",
       "6470               NaN                                      NaN  \n",
       "6471               NaN                                      NaN  \n",
       "6472               NaN                                      NaN  \n",
       "6473               NaN                                      NaN  \n",
       "6474               NaN                                      NaN  \n",
       "\n",
       "[5 rows x 67 columns]"
      ]
     },
     "execution_count": 26,
     "metadata": {},
     "output_type": "execute_result"
    }
   ],
   "source": [
    "Location_Specific_Data.head()"
   ]
  },
  {
   "cell_type": "markdown",
   "id": "c20e8269",
   "metadata": {
    "id": "c20e8269"
   },
   "source": [
    "printing different statistics of dataset like mean, quantiles, min, max etc."
   ]
  },
  {
   "cell_type": "code",
   "execution_count": 27,
   "id": "bbc0a210",
   "metadata": {
    "ExecuteTime": {
     "end_time": "2023-03-28T02:03:24.029609Z",
     "start_time": "2023-03-28T02:03:23.863349Z"
    },
    "colab": {
     "base_uri": "https://localhost:8080/",
     "height": 394
    },
    "executionInfo": {
     "elapsed": 957,
     "status": "ok",
     "timestamp": 1676400317848,
     "user": {
      "displayName": "SHIVKUMAR CHAUHAN",
      "userId": "00181769091967804430"
     },
     "user_tz": 480
    },
    "id": "bbc0a210",
    "outputId": "2fe68ba7-0279-46a8-f625-9ac96dc670b7"
   },
   "outputs": [
    {
     "data": {
      "text/html": [
       "<div>\n",
       "<style scoped>\n",
       "    .dataframe tbody tr th:only-of-type {\n",
       "        vertical-align: middle;\n",
       "    }\n",
       "\n",
       "    .dataframe tbody tr th {\n",
       "        vertical-align: top;\n",
       "    }\n",
       "\n",
       "    .dataframe thead th {\n",
       "        text-align: right;\n",
       "    }\n",
       "</style>\n",
       "<table border=\"1\" class=\"dataframe\">\n",
       "  <thead>\n",
       "    <tr style=\"text-align: right;\">\n",
       "      <th></th>\n",
       "      <th>total_cases</th>\n",
       "      <th>new_cases</th>\n",
       "      <th>new_cases_smoothed</th>\n",
       "      <th>total_deaths</th>\n",
       "      <th>new_deaths</th>\n",
       "      <th>new_deaths_smoothed</th>\n",
       "      <th>total_cases_per_million</th>\n",
       "      <th>new_cases_per_million</th>\n",
       "      <th>new_cases_smoothed_per_million</th>\n",
       "      <th>total_deaths_per_million</th>\n",
       "      <th>...</th>\n",
       "      <th>male_smokers</th>\n",
       "      <th>handwashing_facilities</th>\n",
       "      <th>hospital_beds_per_thousand</th>\n",
       "      <th>life_expectancy</th>\n",
       "      <th>human_development_index</th>\n",
       "      <th>population</th>\n",
       "      <th>excess_mortality_cumulative_absolute</th>\n",
       "      <th>excess_mortality_cumulative</th>\n",
       "      <th>excess_mortality</th>\n",
       "      <th>excess_mortality_cumulative_per_million</th>\n",
       "    </tr>\n",
       "  </thead>\n",
       "  <tbody>\n",
       "    <tr>\n",
       "      <th>count</th>\n",
       "      <td>1.147000e+03</td>\n",
       "      <td>1171.000000</td>\n",
       "      <td>1166.000000</td>\n",
       "      <td>1104.000000</td>\n",
       "      <td>1174.000000</td>\n",
       "      <td>1169.000000</td>\n",
       "      <td>1147.000000</td>\n",
       "      <td>1171.000000</td>\n",
       "      <td>1166.000000</td>\n",
       "      <td>1104.000000</td>\n",
       "      <td>...</td>\n",
       "      <td>1.179000e+03</td>\n",
       "      <td>1.179000e+03</td>\n",
       "      <td>1.179000e+03</td>\n",
       "      <td>1.179000e+03</td>\n",
       "      <td>1.179000e+03</td>\n",
       "      <td>1.179000e+03</td>\n",
       "      <td>0.0</td>\n",
       "      <td>0.0</td>\n",
       "      <td>0.0</td>\n",
       "      <td>0.0</td>\n",
       "    </tr>\n",
       "    <tr>\n",
       "      <th>mean</th>\n",
       "      <td>2.582627e+07</td>\n",
       "      <td>38170.570453</td>\n",
       "      <td>38331.506116</td>\n",
       "      <td>335841.667572</td>\n",
       "      <td>452.136286</td>\n",
       "      <td>454.061965</td>\n",
       "      <td>18223.793786</td>\n",
       "      <td>26.934286</td>\n",
       "      <td>27.047864</td>\n",
       "      <td>236.979976</td>\n",
       "      <td>...</td>\n",
       "      <td>2.060000e+01</td>\n",
       "      <td>5.955000e+01</td>\n",
       "      <td>5.300000e-01</td>\n",
       "      <td>6.966000e+01</td>\n",
       "      <td>6.450000e-01</td>\n",
       "      <td>1.417173e+09</td>\n",
       "      <td>NaN</td>\n",
       "      <td>NaN</td>\n",
       "      <td>NaN</td>\n",
       "      <td>NaN</td>\n",
       "    </tr>\n",
       "    <tr>\n",
       "      <th>std</th>\n",
       "      <td>1.755011e+07</td>\n",
       "      <td>71005.505886</td>\n",
       "      <td>70558.344671</td>\n",
       "      <td>202971.144119</td>\n",
       "      <td>806.654970</td>\n",
       "      <td>775.305346</td>\n",
       "      <td>12383.887300</td>\n",
       "      <td>50.103628</td>\n",
       "      <td>49.788082</td>\n",
       "      <td>143.222546</td>\n",
       "      <td>...</td>\n",
       "      <td>7.108443e-15</td>\n",
       "      <td>1.421689e-14</td>\n",
       "      <td>2.221388e-16</td>\n",
       "      <td>2.843377e-14</td>\n",
       "      <td>1.110694e-16</td>\n",
       "      <td>0.000000e+00</td>\n",
       "      <td>NaN</td>\n",
       "      <td>NaN</td>\n",
       "      <td>NaN</td>\n",
       "      <td>NaN</td>\n",
       "    </tr>\n",
       "    <tr>\n",
       "      <th>min</th>\n",
       "      <td>1.000000e+00</td>\n",
       "      <td>0.000000</td>\n",
       "      <td>0.000000</td>\n",
       "      <td>1.000000</td>\n",
       "      <td>0.000000</td>\n",
       "      <td>0.000000</td>\n",
       "      <td>0.001000</td>\n",
       "      <td>0.000000</td>\n",
       "      <td>0.000000</td>\n",
       "      <td>0.001000</td>\n",
       "      <td>...</td>\n",
       "      <td>2.060000e+01</td>\n",
       "      <td>5.955000e+01</td>\n",
       "      <td>5.300000e-01</td>\n",
       "      <td>6.966000e+01</td>\n",
       "      <td>6.450000e-01</td>\n",
       "      <td>1.417173e+09</td>\n",
       "      <td>NaN</td>\n",
       "      <td>NaN</td>\n",
       "      <td>NaN</td>\n",
       "      <td>NaN</td>\n",
       "    </tr>\n",
       "    <tr>\n",
       "      <th>25%</th>\n",
       "      <td>8.659964e+06</td>\n",
       "      <td>1769.500000</td>\n",
       "      <td>1896.928750</td>\n",
       "      <td>143271.000000</td>\n",
       "      <td>17.000000</td>\n",
       "      <td>21.714000</td>\n",
       "      <td>6110.730500</td>\n",
       "      <td>1.249000</td>\n",
       "      <td>1.338750</td>\n",
       "      <td>101.096750</td>\n",
       "      <td>...</td>\n",
       "      <td>2.060000e+01</td>\n",
       "      <td>5.955000e+01</td>\n",
       "      <td>5.300000e-01</td>\n",
       "      <td>6.966000e+01</td>\n",
       "      <td>6.450000e-01</td>\n",
       "      <td>1.417173e+09</td>\n",
       "      <td>NaN</td>\n",
       "      <td>NaN</td>\n",
       "      <td>NaN</td>\n",
       "      <td>NaN</td>\n",
       "    </tr>\n",
       "    <tr>\n",
       "      <th>50%</th>\n",
       "      <td>3.251237e+07</td>\n",
       "      <td>13052.000000</td>\n",
       "      <td>13295.643000</td>\n",
       "      <td>443712.500000</td>\n",
       "      <td>161.500000</td>\n",
       "      <td>209.143000</td>\n",
       "      <td>22941.704000</td>\n",
       "      <td>9.210000</td>\n",
       "      <td>9.381500</td>\n",
       "      <td>313.097000</td>\n",
       "      <td>...</td>\n",
       "      <td>2.060000e+01</td>\n",
       "      <td>5.955000e+01</td>\n",
       "      <td>5.300000e-01</td>\n",
       "      <td>6.966000e+01</td>\n",
       "      <td>6.450000e-01</td>\n",
       "      <td>1.417173e+09</td>\n",
       "      <td>NaN</td>\n",
       "      <td>NaN</td>\n",
       "      <td>NaN</td>\n",
       "      <td>NaN</td>\n",
       "    </tr>\n",
       "    <tr>\n",
       "      <th>75%</th>\n",
       "      <td>4.318767e+07</td>\n",
       "      <td>41258.500000</td>\n",
       "      <td>40619.714500</td>\n",
       "      <td>524843.750000</td>\n",
       "      <td>505.500000</td>\n",
       "      <td>518.286000</td>\n",
       "      <td>30474.516500</td>\n",
       "      <td>29.113000</td>\n",
       "      <td>28.662500</td>\n",
       "      <td>370.345500</td>\n",
       "      <td>...</td>\n",
       "      <td>2.060000e+01</td>\n",
       "      <td>5.955000e+01</td>\n",
       "      <td>5.300000e-01</td>\n",
       "      <td>6.966000e+01</td>\n",
       "      <td>6.450000e-01</td>\n",
       "      <td>1.417173e+09</td>\n",
       "      <td>NaN</td>\n",
       "      <td>NaN</td>\n",
       "      <td>NaN</td>\n",
       "      <td>NaN</td>\n",
       "    </tr>\n",
       "    <tr>\n",
       "      <th>max</th>\n",
       "      <td>4.469698e+07</td>\n",
       "      <td>414188.000000</td>\n",
       "      <td>391279.571000</td>\n",
       "      <td>530808.000000</td>\n",
       "      <td>6148.000000</td>\n",
       "      <td>4190.000000</td>\n",
       "      <td>31539.537000</td>\n",
       "      <td>292.264000</td>\n",
       "      <td>276.099000</td>\n",
       "      <td>374.554000</td>\n",
       "      <td>...</td>\n",
       "      <td>2.060000e+01</td>\n",
       "      <td>5.955000e+01</td>\n",
       "      <td>5.300000e-01</td>\n",
       "      <td>6.966000e+01</td>\n",
       "      <td>6.450000e-01</td>\n",
       "      <td>1.417173e+09</td>\n",
       "      <td>NaN</td>\n",
       "      <td>NaN</td>\n",
       "      <td>NaN</td>\n",
       "      <td>NaN</td>\n",
       "    </tr>\n",
       "  </tbody>\n",
       "</table>\n",
       "<p>8 rows × 62 columns</p>\n",
       "</div>"
      ],
      "text/plain": [
       "        total_cases      new_cases  new_cases_smoothed   total_deaths  \\\n",
       "count  1.147000e+03    1171.000000         1166.000000    1104.000000   \n",
       "mean   2.582627e+07   38170.570453        38331.506116  335841.667572   \n",
       "std    1.755011e+07   71005.505886        70558.344671  202971.144119   \n",
       "min    1.000000e+00       0.000000            0.000000       1.000000   \n",
       "25%    8.659964e+06    1769.500000         1896.928750  143271.000000   \n",
       "50%    3.251237e+07   13052.000000        13295.643000  443712.500000   \n",
       "75%    4.318767e+07   41258.500000        40619.714500  524843.750000   \n",
       "max    4.469698e+07  414188.000000       391279.571000  530808.000000   \n",
       "\n",
       "        new_deaths  new_deaths_smoothed  total_cases_per_million  \\\n",
       "count  1174.000000          1169.000000              1147.000000   \n",
       "mean    452.136286           454.061965             18223.793786   \n",
       "std     806.654970           775.305346             12383.887300   \n",
       "min       0.000000             0.000000                 0.001000   \n",
       "25%      17.000000            21.714000              6110.730500   \n",
       "50%     161.500000           209.143000             22941.704000   \n",
       "75%     505.500000           518.286000             30474.516500   \n",
       "max    6148.000000          4190.000000             31539.537000   \n",
       "\n",
       "       new_cases_per_million  new_cases_smoothed_per_million  \\\n",
       "count            1171.000000                     1166.000000   \n",
       "mean               26.934286                       27.047864   \n",
       "std                50.103628                       49.788082   \n",
       "min                 0.000000                        0.000000   \n",
       "25%                 1.249000                        1.338750   \n",
       "50%                 9.210000                        9.381500   \n",
       "75%                29.113000                       28.662500   \n",
       "max               292.264000                      276.099000   \n",
       "\n",
       "       total_deaths_per_million  ...  male_smokers  handwashing_facilities  \\\n",
       "count               1104.000000  ...  1.179000e+03            1.179000e+03   \n",
       "mean                 236.979976  ...  2.060000e+01            5.955000e+01   \n",
       "std                  143.222546  ...  7.108443e-15            1.421689e-14   \n",
       "min                    0.001000  ...  2.060000e+01            5.955000e+01   \n",
       "25%                  101.096750  ...  2.060000e+01            5.955000e+01   \n",
       "50%                  313.097000  ...  2.060000e+01            5.955000e+01   \n",
       "75%                  370.345500  ...  2.060000e+01            5.955000e+01   \n",
       "max                  374.554000  ...  2.060000e+01            5.955000e+01   \n",
       "\n",
       "       hospital_beds_per_thousand  life_expectancy  human_development_index  \\\n",
       "count                1.179000e+03     1.179000e+03             1.179000e+03   \n",
       "mean                 5.300000e-01     6.966000e+01             6.450000e-01   \n",
       "std                  2.221388e-16     2.843377e-14             1.110694e-16   \n",
       "min                  5.300000e-01     6.966000e+01             6.450000e-01   \n",
       "25%                  5.300000e-01     6.966000e+01             6.450000e-01   \n",
       "50%                  5.300000e-01     6.966000e+01             6.450000e-01   \n",
       "75%                  5.300000e-01     6.966000e+01             6.450000e-01   \n",
       "max                  5.300000e-01     6.966000e+01             6.450000e-01   \n",
       "\n",
       "         population  excess_mortality_cumulative_absolute  \\\n",
       "count  1.179000e+03                                   0.0   \n",
       "mean   1.417173e+09                                   NaN   \n",
       "std    0.000000e+00                                   NaN   \n",
       "min    1.417173e+09                                   NaN   \n",
       "25%    1.417173e+09                                   NaN   \n",
       "50%    1.417173e+09                                   NaN   \n",
       "75%    1.417173e+09                                   NaN   \n",
       "max    1.417173e+09                                   NaN   \n",
       "\n",
       "       excess_mortality_cumulative  excess_mortality  \\\n",
       "count                          0.0               0.0   \n",
       "mean                           NaN               NaN   \n",
       "std                            NaN               NaN   \n",
       "min                            NaN               NaN   \n",
       "25%                            NaN               NaN   \n",
       "50%                            NaN               NaN   \n",
       "75%                            NaN               NaN   \n",
       "max                            NaN               NaN   \n",
       "\n",
       "       excess_mortality_cumulative_per_million  \n",
       "count                                      0.0  \n",
       "mean                                       NaN  \n",
       "std                                        NaN  \n",
       "min                                        NaN  \n",
       "25%                                        NaN  \n",
       "50%                                        NaN  \n",
       "75%                                        NaN  \n",
       "max                                        NaN  \n",
       "\n",
       "[8 rows x 62 columns]"
      ]
     },
     "execution_count": 27,
     "metadata": {},
     "output_type": "execute_result"
    }
   ],
   "source": [
    "Location_Specific_Data.describe()"
   ]
  },
  {
   "cell_type": "markdown",
   "id": "30a3671a",
   "metadata": {
    "id": "30a3671a"
   },
   "source": [
    "## Recently Updated Data"
   ]
  },
  {
   "cell_type": "markdown",
   "id": "3eb64b78",
   "metadata": {
    "id": "3eb64b78"
   },
   "source": [
    "Printing Recently Updated Data"
   ]
  },
  {
   "cell_type": "code",
   "execution_count": 28,
   "id": "c377d588",
   "metadata": {
    "ExecuteTime": {
     "end_time": "2023-03-28T02:03:24.807485Z",
     "start_time": "2023-03-28T02:03:24.769517Z"
    },
    "colab": {
     "base_uri": "https://localhost:8080/",
     "height": 537
    },
    "executionInfo": {
     "elapsed": 447,
     "status": "ok",
     "timestamp": 1676400326815,
     "user": {
      "displayName": "SHIVKUMAR CHAUHAN",
      "userId": "00181769091967804430"
     },
     "user_tz": 480
    },
    "id": "c377d588",
    "outputId": "ae624c9a-0e9c-4f6e-913b-b2f7bf4e3c12"
   },
   "outputs": [
    {
     "data": {
      "text/html": [
       "<div>\n",
       "<style scoped>\n",
       "    .dataframe tbody tr th:only-of-type {\n",
       "        vertical-align: middle;\n",
       "    }\n",
       "\n",
       "    .dataframe tbody tr th {\n",
       "        vertical-align: top;\n",
       "    }\n",
       "\n",
       "    .dataframe thead th {\n",
       "        text-align: right;\n",
       "    }\n",
       "</style>\n",
       "<table border=\"1\" class=\"dataframe\">\n",
       "  <thead>\n",
       "    <tr style=\"text-align: right;\">\n",
       "      <th></th>\n",
       "      <th>iso_code</th>\n",
       "      <th>continent</th>\n",
       "      <th>location</th>\n",
       "      <th>date</th>\n",
       "      <th>total_cases</th>\n",
       "      <th>new_cases</th>\n",
       "      <th>new_cases_smoothed</th>\n",
       "      <th>total_deaths</th>\n",
       "      <th>new_deaths</th>\n",
       "      <th>new_deaths_smoothed</th>\n",
       "      <th>...</th>\n",
       "      <th>male_smokers</th>\n",
       "      <th>handwashing_facilities</th>\n",
       "      <th>hospital_beds_per_thousand</th>\n",
       "      <th>life_expectancy</th>\n",
       "      <th>human_development_index</th>\n",
       "      <th>population</th>\n",
       "      <th>excess_mortality_cumulative_absolute</th>\n",
       "      <th>excess_mortality_cumulative</th>\n",
       "      <th>excess_mortality</th>\n",
       "      <th>excess_mortality_cumulative_per_million</th>\n",
       "    </tr>\n",
       "  </thead>\n",
       "  <tbody>\n",
       "    <tr>\n",
       "      <th>0</th>\n",
       "      <td>OWID_WRL</td>\n",
       "      <td>NaN</td>\n",
       "      <td>World</td>\n",
       "      <td>2023-03-21</td>\n",
       "      <td>761071062.0</td>\n",
       "      <td>33950.0</td>\n",
       "      <td>93977.286</td>\n",
       "      <td>6879664.0</td>\n",
       "      <td>198.0</td>\n",
       "      <td>619.714</td>\n",
       "      <td>...</td>\n",
       "      <td>34.635</td>\n",
       "      <td>60.13</td>\n",
       "      <td>2.705</td>\n",
       "      <td>72.58</td>\n",
       "      <td>0.737</td>\n",
       "      <td>7.975105e+09</td>\n",
       "      <td>NaN</td>\n",
       "      <td>NaN</td>\n",
       "      <td>NaN</td>\n",
       "      <td>NaN</td>\n",
       "    </tr>\n",
       "    <tr>\n",
       "      <th>398</th>\n",
       "      <td>OWID_HIC</td>\n",
       "      <td>NaN</td>\n",
       "      <td>High income</td>\n",
       "      <td>2023-03-21</td>\n",
       "      <td>417910867.0</td>\n",
       "      <td>20591.0</td>\n",
       "      <td>67340.143</td>\n",
       "      <td>2837386.0</td>\n",
       "      <td>126.0</td>\n",
       "      <td>487.429</td>\n",
       "      <td>...</td>\n",
       "      <td>NaN</td>\n",
       "      <td>NaN</td>\n",
       "      <td>NaN</td>\n",
       "      <td>NaN</td>\n",
       "      <td>NaN</td>\n",
       "      <td>1.250515e+09</td>\n",
       "      <td>NaN</td>\n",
       "      <td>NaN</td>\n",
       "      <td>NaN</td>\n",
       "      <td>NaN</td>\n",
       "    </tr>\n",
       "    <tr>\n",
       "      <th>763</th>\n",
       "      <td>OWID_ASI</td>\n",
       "      <td>NaN</td>\n",
       "      <td>Asia</td>\n",
       "      <td>2023-03-21</td>\n",
       "      <td>295265312.0</td>\n",
       "      <td>3593.0</td>\n",
       "      <td>25724.714</td>\n",
       "      <td>1626572.0</td>\n",
       "      <td>27.0</td>\n",
       "      <td>118.286</td>\n",
       "      <td>...</td>\n",
       "      <td>NaN</td>\n",
       "      <td>NaN</td>\n",
       "      <td>NaN</td>\n",
       "      <td>NaN</td>\n",
       "      <td>NaN</td>\n",
       "      <td>4.721383e+09</td>\n",
       "      <td>NaN</td>\n",
       "      <td>NaN</td>\n",
       "      <td>NaN</td>\n",
       "      <td>NaN</td>\n",
       "    </tr>\n",
       "    <tr>\n",
       "      <th>967</th>\n",
       "      <td>OWID_EUR</td>\n",
       "      <td>NaN</td>\n",
       "      <td>Europe</td>\n",
       "      <td>2023-03-21</td>\n",
       "      <td>247480240.0</td>\n",
       "      <td>27553.0</td>\n",
       "      <td>39705.143</td>\n",
       "      <td>2029529.0</td>\n",
       "      <td>154.0</td>\n",
       "      <td>188.286</td>\n",
       "      <td>...</td>\n",
       "      <td>NaN</td>\n",
       "      <td>NaN</td>\n",
       "      <td>NaN</td>\n",
       "      <td>NaN</td>\n",
       "      <td>NaN</td>\n",
       "      <td>7.448078e+08</td>\n",
       "      <td>NaN</td>\n",
       "      <td>NaN</td>\n",
       "      <td>NaN</td>\n",
       "      <td>NaN</td>\n",
       "    </tr>\n",
       "    <tr>\n",
       "      <th>1068</th>\n",
       "      <td>OWID_UMC</td>\n",
       "      <td>NaN</td>\n",
       "      <td>Upper middle income</td>\n",
       "      <td>2023-03-21</td>\n",
       "      <td>242747582.0</td>\n",
       "      <td>11000.0</td>\n",
       "      <td>24040.714</td>\n",
       "      <td>2651676.0</td>\n",
       "      <td>45.0</td>\n",
       "      <td>98.429</td>\n",
       "      <td>...</td>\n",
       "      <td>NaN</td>\n",
       "      <td>NaN</td>\n",
       "      <td>NaN</td>\n",
       "      <td>NaN</td>\n",
       "      <td>NaN</td>\n",
       "      <td>2.525921e+09</td>\n",
       "      <td>NaN</td>\n",
       "      <td>NaN</td>\n",
       "      <td>NaN</td>\n",
       "      <td>NaN</td>\n",
       "    </tr>\n",
       "    <tr>\n",
       "      <th>...</th>\n",
       "      <td>...</td>\n",
       "      <td>...</td>\n",
       "      <td>...</td>\n",
       "      <td>...</td>\n",
       "      <td>...</td>\n",
       "      <td>...</td>\n",
       "      <td>...</td>\n",
       "      <td>...</td>\n",
       "      <td>...</td>\n",
       "      <td>...</td>\n",
       "      <td>...</td>\n",
       "      <td>...</td>\n",
       "      <td>...</td>\n",
       "      <td>...</td>\n",
       "      <td>...</td>\n",
       "      <td>...</td>\n",
       "      <td>...</td>\n",
       "      <td>...</td>\n",
       "      <td>...</td>\n",
       "      <td>...</td>\n",
       "      <td>...</td>\n",
       "    </tr>\n",
       "    <tr>\n",
       "      <th>274299</th>\n",
       "      <td>MAC</td>\n",
       "      <td>Asia</td>\n",
       "      <td>Macao</td>\n",
       "      <td>2023-03-21</td>\n",
       "      <td>NaN</td>\n",
       "      <td>NaN</td>\n",
       "      <td>NaN</td>\n",
       "      <td>NaN</td>\n",
       "      <td>NaN</td>\n",
       "      <td>NaN</td>\n",
       "      <td>...</td>\n",
       "      <td>NaN</td>\n",
       "      <td>NaN</td>\n",
       "      <td>NaN</td>\n",
       "      <td>84.24</td>\n",
       "      <td>NaN</td>\n",
       "      <td>6.951800e+05</td>\n",
       "      <td>NaN</td>\n",
       "      <td>NaN</td>\n",
       "      <td>NaN</td>\n",
       "      <td>NaN</td>\n",
       "    </tr>\n",
       "    <tr>\n",
       "      <th>280051</th>\n",
       "      <td>PRK</td>\n",
       "      <td>Asia</td>\n",
       "      <td>North Korea</td>\n",
       "      <td>2023-03-21</td>\n",
       "      <td>NaN</td>\n",
       "      <td>0.0</td>\n",
       "      <td>0.000</td>\n",
       "      <td>NaN</td>\n",
       "      <td>0.0</td>\n",
       "      <td>0.000</td>\n",
       "      <td>...</td>\n",
       "      <td>NaN</td>\n",
       "      <td>NaN</td>\n",
       "      <td>13.200</td>\n",
       "      <td>72.27</td>\n",
       "      <td>NaN</td>\n",
       "      <td>2.606942e+07</td>\n",
       "      <td>NaN</td>\n",
       "      <td>NaN</td>\n",
       "      <td>NaN</td>\n",
       "      <td>NaN</td>\n",
       "    </tr>\n",
       "    <tr>\n",
       "      <th>281912</th>\n",
       "      <td>OWID_NIR</td>\n",
       "      <td>Europe</td>\n",
       "      <td>Northern Ireland</td>\n",
       "      <td>2023-03-21</td>\n",
       "      <td>NaN</td>\n",
       "      <td>NaN</td>\n",
       "      <td>NaN</td>\n",
       "      <td>NaN</td>\n",
       "      <td>NaN</td>\n",
       "      <td>NaN</td>\n",
       "      <td>...</td>\n",
       "      <td>NaN</td>\n",
       "      <td>NaN</td>\n",
       "      <td>NaN</td>\n",
       "      <td>NaN</td>\n",
       "      <td>NaN</td>\n",
       "      <td>1.896000e+06</td>\n",
       "      <td>NaN</td>\n",
       "      <td>NaN</td>\n",
       "      <td>NaN</td>\n",
       "      <td>NaN</td>\n",
       "    </tr>\n",
       "    <tr>\n",
       "      <th>290200</th>\n",
       "      <td>TWN</td>\n",
       "      <td>Asia</td>\n",
       "      <td>Taiwan</td>\n",
       "      <td>2023-03-21</td>\n",
       "      <td>NaN</td>\n",
       "      <td>NaN</td>\n",
       "      <td>NaN</td>\n",
       "      <td>NaN</td>\n",
       "      <td>NaN</td>\n",
       "      <td>NaN</td>\n",
       "      <td>...</td>\n",
       "      <td>NaN</td>\n",
       "      <td>NaN</td>\n",
       "      <td>NaN</td>\n",
       "      <td>80.46</td>\n",
       "      <td>NaN</td>\n",
       "      <td>2.389340e+07</td>\n",
       "      <td>NaN</td>\n",
       "      <td>NaN</td>\n",
       "      <td>NaN</td>\n",
       "      <td>NaN</td>\n",
       "    </tr>\n",
       "    <tr>\n",
       "      <th>293659</th>\n",
       "      <td>TKM</td>\n",
       "      <td>Asia</td>\n",
       "      <td>Turkmenistan</td>\n",
       "      <td>2023-03-21</td>\n",
       "      <td>NaN</td>\n",
       "      <td>0.0</td>\n",
       "      <td>0.000</td>\n",
       "      <td>NaN</td>\n",
       "      <td>0.0</td>\n",
       "      <td>0.000</td>\n",
       "      <td>...</td>\n",
       "      <td>NaN</td>\n",
       "      <td>100.00</td>\n",
       "      <td>7.400</td>\n",
       "      <td>68.19</td>\n",
       "      <td>0.715</td>\n",
       "      <td>6.430777e+06</td>\n",
       "      <td>NaN</td>\n",
       "      <td>NaN</td>\n",
       "      <td>NaN</td>\n",
       "      <td>NaN</td>\n",
       "    </tr>\n",
       "  </tbody>\n",
       "</table>\n",
       "<p>250 rows × 67 columns</p>\n",
       "</div>"
      ],
      "text/plain": [
       "        iso_code continent             location        date  total_cases  \\\n",
       "0       OWID_WRL       NaN                World  2023-03-21  761071062.0   \n",
       "398     OWID_HIC       NaN          High income  2023-03-21  417910867.0   \n",
       "763     OWID_ASI       NaN                 Asia  2023-03-21  295265312.0   \n",
       "967     OWID_EUR       NaN               Europe  2023-03-21  247480240.0   \n",
       "1068    OWID_UMC       NaN  Upper middle income  2023-03-21  242747582.0   \n",
       "...          ...       ...                  ...         ...          ...   \n",
       "274299       MAC      Asia                Macao  2023-03-21          NaN   \n",
       "280051       PRK      Asia          North Korea  2023-03-21          NaN   \n",
       "281912  OWID_NIR    Europe     Northern Ireland  2023-03-21          NaN   \n",
       "290200       TWN      Asia               Taiwan  2023-03-21          NaN   \n",
       "293659       TKM      Asia         Turkmenistan  2023-03-21          NaN   \n",
       "\n",
       "        new_cases  new_cases_smoothed  total_deaths  new_deaths  \\\n",
       "0         33950.0           93977.286     6879664.0       198.0   \n",
       "398       20591.0           67340.143     2837386.0       126.0   \n",
       "763        3593.0           25724.714     1626572.0        27.0   \n",
       "967       27553.0           39705.143     2029529.0       154.0   \n",
       "1068      11000.0           24040.714     2651676.0        45.0   \n",
       "...           ...                 ...           ...         ...   \n",
       "274299        NaN                 NaN           NaN         NaN   \n",
       "280051        0.0               0.000           NaN         0.0   \n",
       "281912        NaN                 NaN           NaN         NaN   \n",
       "290200        NaN                 NaN           NaN         NaN   \n",
       "293659        0.0               0.000           NaN         0.0   \n",
       "\n",
       "        new_deaths_smoothed  ...  male_smokers  handwashing_facilities  \\\n",
       "0                   619.714  ...        34.635                   60.13   \n",
       "398                 487.429  ...           NaN                     NaN   \n",
       "763                 118.286  ...           NaN                     NaN   \n",
       "967                 188.286  ...           NaN                     NaN   \n",
       "1068                 98.429  ...           NaN                     NaN   \n",
       "...                     ...  ...           ...                     ...   \n",
       "274299                  NaN  ...           NaN                     NaN   \n",
       "280051                0.000  ...           NaN                     NaN   \n",
       "281912                  NaN  ...           NaN                     NaN   \n",
       "290200                  NaN  ...           NaN                     NaN   \n",
       "293659                0.000  ...           NaN                  100.00   \n",
       "\n",
       "        hospital_beds_per_thousand  life_expectancy  human_development_index  \\\n",
       "0                            2.705            72.58                    0.737   \n",
       "398                            NaN              NaN                      NaN   \n",
       "763                            NaN              NaN                      NaN   \n",
       "967                            NaN              NaN                      NaN   \n",
       "1068                           NaN              NaN                      NaN   \n",
       "...                            ...              ...                      ...   \n",
       "274299                         NaN            84.24                      NaN   \n",
       "280051                      13.200            72.27                      NaN   \n",
       "281912                         NaN              NaN                      NaN   \n",
       "290200                         NaN            80.46                      NaN   \n",
       "293659                       7.400            68.19                    0.715   \n",
       "\n",
       "          population  excess_mortality_cumulative_absolute  \\\n",
       "0       7.975105e+09                                   NaN   \n",
       "398     1.250515e+09                                   NaN   \n",
       "763     4.721383e+09                                   NaN   \n",
       "967     7.448078e+08                                   NaN   \n",
       "1068    2.525921e+09                                   NaN   \n",
       "...              ...                                   ...   \n",
       "274299  6.951800e+05                                   NaN   \n",
       "280051  2.606942e+07                                   NaN   \n",
       "281912  1.896000e+06                                   NaN   \n",
       "290200  2.389340e+07                                   NaN   \n",
       "293659  6.430777e+06                                   NaN   \n",
       "\n",
       "        excess_mortality_cumulative  excess_mortality  \\\n",
       "0                               NaN               NaN   \n",
       "398                             NaN               NaN   \n",
       "763                             NaN               NaN   \n",
       "967                             NaN               NaN   \n",
       "1068                            NaN               NaN   \n",
       "...                             ...               ...   \n",
       "274299                          NaN               NaN   \n",
       "280051                          NaN               NaN   \n",
       "281912                          NaN               NaN   \n",
       "290200                          NaN               NaN   \n",
       "293659                          NaN               NaN   \n",
       "\n",
       "        excess_mortality_cumulative_per_million  \n",
       "0                                           NaN  \n",
       "398                                         NaN  \n",
       "763                                         NaN  \n",
       "967                                         NaN  \n",
       "1068                                        NaN  \n",
       "...                                         ...  \n",
       "274299                                      NaN  \n",
       "280051                                      NaN  \n",
       "281912                                      NaN  \n",
       "290200                                      NaN  \n",
       "293659                                      NaN  \n",
       "\n",
       "[250 rows x 67 columns]"
      ]
     },
     "execution_count": 28,
     "metadata": {},
     "output_type": "execute_result"
    }
   ],
   "source": [
    "Recent_Data"
   ]
  },
  {
   "cell_type": "markdown",
   "id": "0605bb32",
   "metadata": {
    "id": "0605bb32"
   },
   "source": [
    "printing different statistics of dataset like mean, quantiles, min, max etc."
   ]
  },
  {
   "cell_type": "code",
   "execution_count": 29,
   "id": "ceccdce3",
   "metadata": {
    "ExecuteTime": {
     "end_time": "2023-03-28T02:03:25.451225Z",
     "start_time": "2023-03-28T02:03:25.306208Z"
    },
    "colab": {
     "base_uri": "https://localhost:8080/",
     "height": 394
    },
    "executionInfo": {
     "elapsed": 1331,
     "status": "ok",
     "timestamp": 1676400331112,
     "user": {
      "displayName": "SHIVKUMAR CHAUHAN",
      "userId": "00181769091967804430"
     },
     "user_tz": 480
    },
    "id": "ceccdce3",
    "outputId": "932bb47c-ac96-4818-e0be-caa515cebca5"
   },
   "outputs": [
    {
     "data": {
      "text/html": [
       "<div>\n",
       "<style scoped>\n",
       "    .dataframe tbody tr th:only-of-type {\n",
       "        vertical-align: middle;\n",
       "    }\n",
       "\n",
       "    .dataframe tbody tr th {\n",
       "        vertical-align: top;\n",
       "    }\n",
       "\n",
       "    .dataframe thead th {\n",
       "        text-align: right;\n",
       "    }\n",
       "</style>\n",
       "<table border=\"1\" class=\"dataframe\">\n",
       "  <thead>\n",
       "    <tr style=\"text-align: right;\">\n",
       "      <th></th>\n",
       "      <th>total_cases</th>\n",
       "      <th>new_cases</th>\n",
       "      <th>new_cases_smoothed</th>\n",
       "      <th>total_deaths</th>\n",
       "      <th>new_deaths</th>\n",
       "      <th>new_deaths_smoothed</th>\n",
       "      <th>total_cases_per_million</th>\n",
       "      <th>new_cases_per_million</th>\n",
       "      <th>new_cases_smoothed_per_million</th>\n",
       "      <th>total_deaths_per_million</th>\n",
       "      <th>...</th>\n",
       "      <th>male_smokers</th>\n",
       "      <th>handwashing_facilities</th>\n",
       "      <th>hospital_beds_per_thousand</th>\n",
       "      <th>life_expectancy</th>\n",
       "      <th>human_development_index</th>\n",
       "      <th>population</th>\n",
       "      <th>excess_mortality_cumulative_absolute</th>\n",
       "      <th>excess_mortality_cumulative</th>\n",
       "      <th>excess_mortality</th>\n",
       "      <th>excess_mortality_cumulative_per_million</th>\n",
       "    </tr>\n",
       "  </thead>\n",
       "  <tbody>\n",
       "    <tr>\n",
       "      <th>count</th>\n",
       "      <td>2.440000e+02</td>\n",
       "      <td>218.000000</td>\n",
       "      <td>218.000000</td>\n",
       "      <td>2.370000e+02</td>\n",
       "      <td>232.000000</td>\n",
       "      <td>232.000000</td>\n",
       "      <td>244.000000</td>\n",
       "      <td>218.000000</td>\n",
       "      <td>218.000000</td>\n",
       "      <td>237.000000</td>\n",
       "      <td>...</td>\n",
       "      <td>145.000000</td>\n",
       "      <td>96.000000</td>\n",
       "      <td>173.000000</td>\n",
       "      <td>232.00000</td>\n",
       "      <td>189.000000</td>\n",
       "      <td>2.500000e+02</td>\n",
       "      <td>0.0</td>\n",
       "      <td>0.0</td>\n",
       "      <td>0.0</td>\n",
       "      <td>0.0</td>\n",
       "    </tr>\n",
       "    <tr>\n",
       "      <th>mean</th>\n",
       "      <td>1.322130e+07</td>\n",
       "      <td>701.311927</td>\n",
       "      <td>1608.395794</td>\n",
       "      <td>1.212382e+05</td>\n",
       "      <td>3.900862</td>\n",
       "      <td>9.437216</td>\n",
       "      <td>199236.108311</td>\n",
       "      <td>9.845257</td>\n",
       "      <td>16.094633</td>\n",
       "      <td>1287.114675</td>\n",
       "      <td>...</td>\n",
       "      <td>32.909897</td>\n",
       "      <td>50.788844</td>\n",
       "      <td>3.097012</td>\n",
       "      <td>73.68750</td>\n",
       "      <td>0.721302</td>\n",
       "      <td>1.294986e+08</td>\n",
       "      <td>NaN</td>\n",
       "      <td>NaN</td>\n",
       "      <td>NaN</td>\n",
       "      <td>NaN</td>\n",
       "    </tr>\n",
       "    <tr>\n",
       "      <th>std</th>\n",
       "      <td>6.458998e+07</td>\n",
       "      <td>3612.253639</td>\n",
       "      <td>8872.086479</td>\n",
       "      <td>5.677230e+05</td>\n",
       "      <td>20.519099</td>\n",
       "      <td>57.527869</td>\n",
       "      <td>194426.138220</td>\n",
       "      <td>39.843061</td>\n",
       "      <td>52.716933</td>\n",
       "      <td>1279.332907</td>\n",
       "      <td>...</td>\n",
       "      <td>13.621757</td>\n",
       "      <td>32.124848</td>\n",
       "      <td>2.555777</td>\n",
       "      <td>7.39921</td>\n",
       "      <td>0.148876</td>\n",
       "      <td>6.644997e+08</td>\n",
       "      <td>NaN</td>\n",
       "      <td>NaN</td>\n",
       "      <td>NaN</td>\n",
       "      <td>NaN</td>\n",
       "    </tr>\n",
       "    <tr>\n",
       "      <th>min</th>\n",
       "      <td>4.000000e+00</td>\n",
       "      <td>0.000000</td>\n",
       "      <td>0.000000</td>\n",
       "      <td>1.000000e+00</td>\n",
       "      <td>0.000000</td>\n",
       "      <td>0.000000</td>\n",
       "      <td>354.487000</td>\n",
       "      <td>0.000000</td>\n",
       "      <td>0.000000</td>\n",
       "      <td>1.164000</td>\n",
       "      <td>...</td>\n",
       "      <td>7.700000</td>\n",
       "      <td>1.188000</td>\n",
       "      <td>0.100000</td>\n",
       "      <td>53.28000</td>\n",
       "      <td>0.394000</td>\n",
       "      <td>4.700000e+01</td>\n",
       "      <td>NaN</td>\n",
       "      <td>NaN</td>\n",
       "      <td>NaN</td>\n",
       "      <td>NaN</td>\n",
       "    </tr>\n",
       "    <tr>\n",
       "      <th>25%</th>\n",
       "      <td>2.783275e+04</td>\n",
       "      <td>0.000000</td>\n",
       "      <td>0.000000</td>\n",
       "      <td>2.590000e+02</td>\n",
       "      <td>0.000000</td>\n",
       "      <td>0.000000</td>\n",
       "      <td>24063.459500</td>\n",
       "      <td>0.000000</td>\n",
       "      <td>0.000000</td>\n",
       "      <td>191.208000</td>\n",
       "      <td>...</td>\n",
       "      <td>22.600000</td>\n",
       "      <td>20.482000</td>\n",
       "      <td>1.300000</td>\n",
       "      <td>69.56750</td>\n",
       "      <td>0.602000</td>\n",
       "      <td>4.677010e+05</td>\n",
       "      <td>NaN</td>\n",
       "      <td>NaN</td>\n",
       "      <td>NaN</td>\n",
       "      <td>NaN</td>\n",
       "    </tr>\n",
       "    <tr>\n",
       "      <th>50%</th>\n",
       "      <td>2.424370e+05</td>\n",
       "      <td>0.000000</td>\n",
       "      <td>0.000000</td>\n",
       "      <td>2.795000e+03</td>\n",
       "      <td>0.000000</td>\n",
       "      <td>0.000000</td>\n",
       "      <td>135324.783000</td>\n",
       "      <td>0.000000</td>\n",
       "      <td>0.000000</td>\n",
       "      <td>945.525000</td>\n",
       "      <td>...</td>\n",
       "      <td>33.100000</td>\n",
       "      <td>49.690500</td>\n",
       "      <td>2.500000</td>\n",
       "      <td>75.05000</td>\n",
       "      <td>0.740000</td>\n",
       "      <td>5.926344e+06</td>\n",
       "      <td>NaN</td>\n",
       "      <td>NaN</td>\n",
       "      <td>NaN</td>\n",
       "      <td>NaN</td>\n",
       "    </tr>\n",
       "    <tr>\n",
       "      <th>75%</th>\n",
       "      <td>1.715720e+06</td>\n",
       "      <td>0.000000</td>\n",
       "      <td>8.071500</td>\n",
       "      <td>1.988000e+04</td>\n",
       "      <td>0.000000</td>\n",
       "      <td>0.143000</td>\n",
       "      <td>331699.877500</td>\n",
       "      <td>0.000000</td>\n",
       "      <td>3.453250</td>\n",
       "      <td>2036.568000</td>\n",
       "      <td>...</td>\n",
       "      <td>41.300000</td>\n",
       "      <td>82.686750</td>\n",
       "      <td>4.200000</td>\n",
       "      <td>79.40000</td>\n",
       "      <td>0.828000</td>\n",
       "      <td>2.928421e+07</td>\n",
       "      <td>NaN</td>\n",
       "      <td>NaN</td>\n",
       "      <td>NaN</td>\n",
       "      <td>NaN</td>\n",
       "    </tr>\n",
       "    <tr>\n",
       "      <th>max</th>\n",
       "      <td>7.610711e+08</td>\n",
       "      <td>33950.000000</td>\n",
       "      <td>93977.286000</td>\n",
       "      <td>6.879664e+06</td>\n",
       "      <td>198.000000</td>\n",
       "      <td>619.714000</td>\n",
       "      <td>729533.363000</td>\n",
       "      <td>335.874000</td>\n",
       "      <td>429.629000</td>\n",
       "      <td>6450.827000</td>\n",
       "      <td>...</td>\n",
       "      <td>78.100000</td>\n",
       "      <td>100.000000</td>\n",
       "      <td>13.800000</td>\n",
       "      <td>86.75000</td>\n",
       "      <td>0.957000</td>\n",
       "      <td>7.975105e+09</td>\n",
       "      <td>NaN</td>\n",
       "      <td>NaN</td>\n",
       "      <td>NaN</td>\n",
       "      <td>NaN</td>\n",
       "    </tr>\n",
       "  </tbody>\n",
       "</table>\n",
       "<p>8 rows × 62 columns</p>\n",
       "</div>"
      ],
      "text/plain": [
       "        total_cases     new_cases  new_cases_smoothed  total_deaths  \\\n",
       "count  2.440000e+02    218.000000          218.000000  2.370000e+02   \n",
       "mean   1.322130e+07    701.311927         1608.395794  1.212382e+05   \n",
       "std    6.458998e+07   3612.253639         8872.086479  5.677230e+05   \n",
       "min    4.000000e+00      0.000000            0.000000  1.000000e+00   \n",
       "25%    2.783275e+04      0.000000            0.000000  2.590000e+02   \n",
       "50%    2.424370e+05      0.000000            0.000000  2.795000e+03   \n",
       "75%    1.715720e+06      0.000000            8.071500  1.988000e+04   \n",
       "max    7.610711e+08  33950.000000        93977.286000  6.879664e+06   \n",
       "\n",
       "       new_deaths  new_deaths_smoothed  total_cases_per_million  \\\n",
       "count  232.000000           232.000000               244.000000   \n",
       "mean     3.900862             9.437216            199236.108311   \n",
       "std     20.519099            57.527869            194426.138220   \n",
       "min      0.000000             0.000000               354.487000   \n",
       "25%      0.000000             0.000000             24063.459500   \n",
       "50%      0.000000             0.000000            135324.783000   \n",
       "75%      0.000000             0.143000            331699.877500   \n",
       "max    198.000000           619.714000            729533.363000   \n",
       "\n",
       "       new_cases_per_million  new_cases_smoothed_per_million  \\\n",
       "count             218.000000                      218.000000   \n",
       "mean                9.845257                       16.094633   \n",
       "std                39.843061                       52.716933   \n",
       "min                 0.000000                        0.000000   \n",
       "25%                 0.000000                        0.000000   \n",
       "50%                 0.000000                        0.000000   \n",
       "75%                 0.000000                        3.453250   \n",
       "max               335.874000                      429.629000   \n",
       "\n",
       "       total_deaths_per_million  ...  male_smokers  handwashing_facilities  \\\n",
       "count                237.000000  ...    145.000000               96.000000   \n",
       "mean                1287.114675  ...     32.909897               50.788844   \n",
       "std                 1279.332907  ...     13.621757               32.124848   \n",
       "min                    1.164000  ...      7.700000                1.188000   \n",
       "25%                  191.208000  ...     22.600000               20.482000   \n",
       "50%                  945.525000  ...     33.100000               49.690500   \n",
       "75%                 2036.568000  ...     41.300000               82.686750   \n",
       "max                 6450.827000  ...     78.100000              100.000000   \n",
       "\n",
       "       hospital_beds_per_thousand  life_expectancy  human_development_index  \\\n",
       "count                  173.000000        232.00000               189.000000   \n",
       "mean                     3.097012         73.68750                 0.721302   \n",
       "std                      2.555777          7.39921                 0.148876   \n",
       "min                      0.100000         53.28000                 0.394000   \n",
       "25%                      1.300000         69.56750                 0.602000   \n",
       "50%                      2.500000         75.05000                 0.740000   \n",
       "75%                      4.200000         79.40000                 0.828000   \n",
       "max                     13.800000         86.75000                 0.957000   \n",
       "\n",
       "         population  excess_mortality_cumulative_absolute  \\\n",
       "count  2.500000e+02                                   0.0   \n",
       "mean   1.294986e+08                                   NaN   \n",
       "std    6.644997e+08                                   NaN   \n",
       "min    4.700000e+01                                   NaN   \n",
       "25%    4.677010e+05                                   NaN   \n",
       "50%    5.926344e+06                                   NaN   \n",
       "75%    2.928421e+07                                   NaN   \n",
       "max    7.975105e+09                                   NaN   \n",
       "\n",
       "       excess_mortality_cumulative  excess_mortality  \\\n",
       "count                          0.0               0.0   \n",
       "mean                           NaN               NaN   \n",
       "std                            NaN               NaN   \n",
       "min                            NaN               NaN   \n",
       "25%                            NaN               NaN   \n",
       "50%                            NaN               NaN   \n",
       "75%                            NaN               NaN   \n",
       "max                            NaN               NaN   \n",
       "\n",
       "       excess_mortality_cumulative_per_million  \n",
       "count                                      0.0  \n",
       "mean                                       NaN  \n",
       "std                                        NaN  \n",
       "min                                        NaN  \n",
       "25%                                        NaN  \n",
       "50%                                        NaN  \n",
       "75%                                        NaN  \n",
       "max                                        NaN  \n",
       "\n",
       "[8 rows x 62 columns]"
      ]
     },
     "execution_count": 29,
     "metadata": {},
     "output_type": "execute_result"
    }
   ],
   "source": [
    "Recent_Data.describe()"
   ]
  },
  {
   "cell_type": "code",
   "execution_count": 30,
   "id": "61b3291a",
   "metadata": {
    "ExecuteTime": {
     "end_time": "2023-03-28T02:03:25.717992Z",
     "start_time": "2023-03-28T02:03:25.678404Z"
    }
   },
   "outputs": [
    {
     "data": {
      "text/html": [
       "<div>\n",
       "<style scoped>\n",
       "    .dataframe tbody tr th:only-of-type {\n",
       "        vertical-align: middle;\n",
       "    }\n",
       "\n",
       "    .dataframe tbody tr th {\n",
       "        vertical-align: top;\n",
       "    }\n",
       "\n",
       "    .dataframe thead th {\n",
       "        text-align: right;\n",
       "    }\n",
       "</style>\n",
       "<table border=\"1\" class=\"dataframe\">\n",
       "  <thead>\n",
       "    <tr style=\"text-align: right;\">\n",
       "      <th></th>\n",
       "      <th>index</th>\n",
       "      <th>iso_code</th>\n",
       "      <th>continent</th>\n",
       "      <th>location</th>\n",
       "      <th>date</th>\n",
       "      <th>total_cases</th>\n",
       "      <th>new_cases</th>\n",
       "      <th>new_cases_smoothed</th>\n",
       "      <th>total_deaths</th>\n",
       "      <th>new_deaths</th>\n",
       "      <th>...</th>\n",
       "      <th>male_smokers</th>\n",
       "      <th>handwashing_facilities</th>\n",
       "      <th>hospital_beds_per_thousand</th>\n",
       "      <th>life_expectancy</th>\n",
       "      <th>human_development_index</th>\n",
       "      <th>population</th>\n",
       "      <th>excess_mortality_cumulative_absolute</th>\n",
       "      <th>excess_mortality_cumulative</th>\n",
       "      <th>excess_mortality</th>\n",
       "      <th>excess_mortality_cumulative_per_million</th>\n",
       "    </tr>\n",
       "  </thead>\n",
       "  <tbody>\n",
       "    <tr>\n",
       "      <th>0</th>\n",
       "      <td>0</td>\n",
       "      <td>OWID_WRL</td>\n",
       "      <td>NaN</td>\n",
       "      <td>World</td>\n",
       "      <td>2023-03-21</td>\n",
       "      <td>761071062.0</td>\n",
       "      <td>33950.0</td>\n",
       "      <td>93977.286</td>\n",
       "      <td>6879664.0</td>\n",
       "      <td>198.0</td>\n",
       "      <td>...</td>\n",
       "      <td>34.635</td>\n",
       "      <td>60.13</td>\n",
       "      <td>2.705</td>\n",
       "      <td>72.58</td>\n",
       "      <td>0.737</td>\n",
       "      <td>7.975105e+09</td>\n",
       "      <td>NaN</td>\n",
       "      <td>NaN</td>\n",
       "      <td>NaN</td>\n",
       "      <td>NaN</td>\n",
       "    </tr>\n",
       "    <tr>\n",
       "      <th>1</th>\n",
       "      <td>398</td>\n",
       "      <td>OWID_HIC</td>\n",
       "      <td>NaN</td>\n",
       "      <td>High income</td>\n",
       "      <td>2023-03-21</td>\n",
       "      <td>417910867.0</td>\n",
       "      <td>20591.0</td>\n",
       "      <td>67340.143</td>\n",
       "      <td>2837386.0</td>\n",
       "      <td>126.0</td>\n",
       "      <td>...</td>\n",
       "      <td>NaN</td>\n",
       "      <td>NaN</td>\n",
       "      <td>NaN</td>\n",
       "      <td>NaN</td>\n",
       "      <td>NaN</td>\n",
       "      <td>1.250515e+09</td>\n",
       "      <td>NaN</td>\n",
       "      <td>NaN</td>\n",
       "      <td>NaN</td>\n",
       "      <td>NaN</td>\n",
       "    </tr>\n",
       "    <tr>\n",
       "      <th>2</th>\n",
       "      <td>763</td>\n",
       "      <td>OWID_ASI</td>\n",
       "      <td>NaN</td>\n",
       "      <td>Asia</td>\n",
       "      <td>2023-03-21</td>\n",
       "      <td>295265312.0</td>\n",
       "      <td>3593.0</td>\n",
       "      <td>25724.714</td>\n",
       "      <td>1626572.0</td>\n",
       "      <td>27.0</td>\n",
       "      <td>...</td>\n",
       "      <td>NaN</td>\n",
       "      <td>NaN</td>\n",
       "      <td>NaN</td>\n",
       "      <td>NaN</td>\n",
       "      <td>NaN</td>\n",
       "      <td>4.721383e+09</td>\n",
       "      <td>NaN</td>\n",
       "      <td>NaN</td>\n",
       "      <td>NaN</td>\n",
       "      <td>NaN</td>\n",
       "    </tr>\n",
       "    <tr>\n",
       "      <th>3</th>\n",
       "      <td>967</td>\n",
       "      <td>OWID_EUR</td>\n",
       "      <td>NaN</td>\n",
       "      <td>Europe</td>\n",
       "      <td>2023-03-21</td>\n",
       "      <td>247480240.0</td>\n",
       "      <td>27553.0</td>\n",
       "      <td>39705.143</td>\n",
       "      <td>2029529.0</td>\n",
       "      <td>154.0</td>\n",
       "      <td>...</td>\n",
       "      <td>NaN</td>\n",
       "      <td>NaN</td>\n",
       "      <td>NaN</td>\n",
       "      <td>NaN</td>\n",
       "      <td>NaN</td>\n",
       "      <td>7.448078e+08</td>\n",
       "      <td>NaN</td>\n",
       "      <td>NaN</td>\n",
       "      <td>NaN</td>\n",
       "      <td>NaN</td>\n",
       "    </tr>\n",
       "    <tr>\n",
       "      <th>4</th>\n",
       "      <td>1068</td>\n",
       "      <td>OWID_UMC</td>\n",
       "      <td>NaN</td>\n",
       "      <td>Upper middle income</td>\n",
       "      <td>2023-03-21</td>\n",
       "      <td>242747582.0</td>\n",
       "      <td>11000.0</td>\n",
       "      <td>24040.714</td>\n",
       "      <td>2651676.0</td>\n",
       "      <td>45.0</td>\n",
       "      <td>...</td>\n",
       "      <td>NaN</td>\n",
       "      <td>NaN</td>\n",
       "      <td>NaN</td>\n",
       "      <td>NaN</td>\n",
       "      <td>NaN</td>\n",
       "      <td>2.525921e+09</td>\n",
       "      <td>NaN</td>\n",
       "      <td>NaN</td>\n",
       "      <td>NaN</td>\n",
       "      <td>NaN</td>\n",
       "    </tr>\n",
       "    <tr>\n",
       "      <th>...</th>\n",
       "      <td>...</td>\n",
       "      <td>...</td>\n",
       "      <td>...</td>\n",
       "      <td>...</td>\n",
       "      <td>...</td>\n",
       "      <td>...</td>\n",
       "      <td>...</td>\n",
       "      <td>...</td>\n",
       "      <td>...</td>\n",
       "      <td>...</td>\n",
       "      <td>...</td>\n",
       "      <td>...</td>\n",
       "      <td>...</td>\n",
       "      <td>...</td>\n",
       "      <td>...</td>\n",
       "      <td>...</td>\n",
       "      <td>...</td>\n",
       "      <td>...</td>\n",
       "      <td>...</td>\n",
       "      <td>...</td>\n",
       "      <td>...</td>\n",
       "    </tr>\n",
       "    <tr>\n",
       "      <th>245</th>\n",
       "      <td>274299</td>\n",
       "      <td>MAC</td>\n",
       "      <td>Asia</td>\n",
       "      <td>Macao</td>\n",
       "      <td>2023-03-21</td>\n",
       "      <td>NaN</td>\n",
       "      <td>NaN</td>\n",
       "      <td>NaN</td>\n",
       "      <td>NaN</td>\n",
       "      <td>NaN</td>\n",
       "      <td>...</td>\n",
       "      <td>NaN</td>\n",
       "      <td>NaN</td>\n",
       "      <td>NaN</td>\n",
       "      <td>84.24</td>\n",
       "      <td>NaN</td>\n",
       "      <td>6.951800e+05</td>\n",
       "      <td>NaN</td>\n",
       "      <td>NaN</td>\n",
       "      <td>NaN</td>\n",
       "      <td>NaN</td>\n",
       "    </tr>\n",
       "    <tr>\n",
       "      <th>246</th>\n",
       "      <td>280051</td>\n",
       "      <td>PRK</td>\n",
       "      <td>Asia</td>\n",
       "      <td>North Korea</td>\n",
       "      <td>2023-03-21</td>\n",
       "      <td>NaN</td>\n",
       "      <td>0.0</td>\n",
       "      <td>0.000</td>\n",
       "      <td>NaN</td>\n",
       "      <td>0.0</td>\n",
       "      <td>...</td>\n",
       "      <td>NaN</td>\n",
       "      <td>NaN</td>\n",
       "      <td>13.200</td>\n",
       "      <td>72.27</td>\n",
       "      <td>NaN</td>\n",
       "      <td>2.606942e+07</td>\n",
       "      <td>NaN</td>\n",
       "      <td>NaN</td>\n",
       "      <td>NaN</td>\n",
       "      <td>NaN</td>\n",
       "    </tr>\n",
       "    <tr>\n",
       "      <th>247</th>\n",
       "      <td>281912</td>\n",
       "      <td>OWID_NIR</td>\n",
       "      <td>Europe</td>\n",
       "      <td>Northern Ireland</td>\n",
       "      <td>2023-03-21</td>\n",
       "      <td>NaN</td>\n",
       "      <td>NaN</td>\n",
       "      <td>NaN</td>\n",
       "      <td>NaN</td>\n",
       "      <td>NaN</td>\n",
       "      <td>...</td>\n",
       "      <td>NaN</td>\n",
       "      <td>NaN</td>\n",
       "      <td>NaN</td>\n",
       "      <td>NaN</td>\n",
       "      <td>NaN</td>\n",
       "      <td>1.896000e+06</td>\n",
       "      <td>NaN</td>\n",
       "      <td>NaN</td>\n",
       "      <td>NaN</td>\n",
       "      <td>NaN</td>\n",
       "    </tr>\n",
       "    <tr>\n",
       "      <th>248</th>\n",
       "      <td>290200</td>\n",
       "      <td>TWN</td>\n",
       "      <td>Asia</td>\n",
       "      <td>Taiwan</td>\n",
       "      <td>2023-03-21</td>\n",
       "      <td>NaN</td>\n",
       "      <td>NaN</td>\n",
       "      <td>NaN</td>\n",
       "      <td>NaN</td>\n",
       "      <td>NaN</td>\n",
       "      <td>...</td>\n",
       "      <td>NaN</td>\n",
       "      <td>NaN</td>\n",
       "      <td>NaN</td>\n",
       "      <td>80.46</td>\n",
       "      <td>NaN</td>\n",
       "      <td>2.389340e+07</td>\n",
       "      <td>NaN</td>\n",
       "      <td>NaN</td>\n",
       "      <td>NaN</td>\n",
       "      <td>NaN</td>\n",
       "    </tr>\n",
       "    <tr>\n",
       "      <th>249</th>\n",
       "      <td>293659</td>\n",
       "      <td>TKM</td>\n",
       "      <td>Asia</td>\n",
       "      <td>Turkmenistan</td>\n",
       "      <td>2023-03-21</td>\n",
       "      <td>NaN</td>\n",
       "      <td>0.0</td>\n",
       "      <td>0.000</td>\n",
       "      <td>NaN</td>\n",
       "      <td>0.0</td>\n",
       "      <td>...</td>\n",
       "      <td>NaN</td>\n",
       "      <td>100.00</td>\n",
       "      <td>7.400</td>\n",
       "      <td>68.19</td>\n",
       "      <td>0.715</td>\n",
       "      <td>6.430777e+06</td>\n",
       "      <td>NaN</td>\n",
       "      <td>NaN</td>\n",
       "      <td>NaN</td>\n",
       "      <td>NaN</td>\n",
       "    </tr>\n",
       "  </tbody>\n",
       "</table>\n",
       "<p>250 rows × 68 columns</p>\n",
       "</div>"
      ],
      "text/plain": [
       "      index  iso_code continent             location        date  total_cases  \\\n",
       "0         0  OWID_WRL       NaN                World  2023-03-21  761071062.0   \n",
       "1       398  OWID_HIC       NaN          High income  2023-03-21  417910867.0   \n",
       "2       763  OWID_ASI       NaN                 Asia  2023-03-21  295265312.0   \n",
       "3       967  OWID_EUR       NaN               Europe  2023-03-21  247480240.0   \n",
       "4      1068  OWID_UMC       NaN  Upper middle income  2023-03-21  242747582.0   \n",
       "..      ...       ...       ...                  ...         ...          ...   \n",
       "245  274299       MAC      Asia                Macao  2023-03-21          NaN   \n",
       "246  280051       PRK      Asia          North Korea  2023-03-21          NaN   \n",
       "247  281912  OWID_NIR    Europe     Northern Ireland  2023-03-21          NaN   \n",
       "248  290200       TWN      Asia               Taiwan  2023-03-21          NaN   \n",
       "249  293659       TKM      Asia         Turkmenistan  2023-03-21          NaN   \n",
       "\n",
       "     new_cases  new_cases_smoothed  total_deaths  new_deaths  ...  \\\n",
       "0      33950.0           93977.286     6879664.0       198.0  ...   \n",
       "1      20591.0           67340.143     2837386.0       126.0  ...   \n",
       "2       3593.0           25724.714     1626572.0        27.0  ...   \n",
       "3      27553.0           39705.143     2029529.0       154.0  ...   \n",
       "4      11000.0           24040.714     2651676.0        45.0  ...   \n",
       "..         ...                 ...           ...         ...  ...   \n",
       "245        NaN                 NaN           NaN         NaN  ...   \n",
       "246        0.0               0.000           NaN         0.0  ...   \n",
       "247        NaN                 NaN           NaN         NaN  ...   \n",
       "248        NaN                 NaN           NaN         NaN  ...   \n",
       "249        0.0               0.000           NaN         0.0  ...   \n",
       "\n",
       "     male_smokers  handwashing_facilities  hospital_beds_per_thousand  \\\n",
       "0          34.635                   60.13                       2.705   \n",
       "1             NaN                     NaN                         NaN   \n",
       "2             NaN                     NaN                         NaN   \n",
       "3             NaN                     NaN                         NaN   \n",
       "4             NaN                     NaN                         NaN   \n",
       "..            ...                     ...                         ...   \n",
       "245           NaN                     NaN                         NaN   \n",
       "246           NaN                     NaN                      13.200   \n",
       "247           NaN                     NaN                         NaN   \n",
       "248           NaN                     NaN                         NaN   \n",
       "249           NaN                  100.00                       7.400   \n",
       "\n",
       "     life_expectancy  human_development_index    population  \\\n",
       "0              72.58                    0.737  7.975105e+09   \n",
       "1                NaN                      NaN  1.250515e+09   \n",
       "2                NaN                      NaN  4.721383e+09   \n",
       "3                NaN                      NaN  7.448078e+08   \n",
       "4                NaN                      NaN  2.525921e+09   \n",
       "..               ...                      ...           ...   \n",
       "245            84.24                      NaN  6.951800e+05   \n",
       "246            72.27                      NaN  2.606942e+07   \n",
       "247              NaN                      NaN  1.896000e+06   \n",
       "248            80.46                      NaN  2.389340e+07   \n",
       "249            68.19                    0.715  6.430777e+06   \n",
       "\n",
       "     excess_mortality_cumulative_absolute  excess_mortality_cumulative  \\\n",
       "0                                     NaN                          NaN   \n",
       "1                                     NaN                          NaN   \n",
       "2                                     NaN                          NaN   \n",
       "3                                     NaN                          NaN   \n",
       "4                                     NaN                          NaN   \n",
       "..                                    ...                          ...   \n",
       "245                                   NaN                          NaN   \n",
       "246                                   NaN                          NaN   \n",
       "247                                   NaN                          NaN   \n",
       "248                                   NaN                          NaN   \n",
       "249                                   NaN                          NaN   \n",
       "\n",
       "     excess_mortality  excess_mortality_cumulative_per_million  \n",
       "0                 NaN                                      NaN  \n",
       "1                 NaN                                      NaN  \n",
       "2                 NaN                                      NaN  \n",
       "3                 NaN                                      NaN  \n",
       "4                 NaN                                      NaN  \n",
       "..                ...                                      ...  \n",
       "245               NaN                                      NaN  \n",
       "246               NaN                                      NaN  \n",
       "247               NaN                                      NaN  \n",
       "248               NaN                                      NaN  \n",
       "249               NaN                                      NaN  \n",
       "\n",
       "[250 rows x 68 columns]"
      ]
     },
     "execution_count": 30,
     "metadata": {},
     "output_type": "execute_result"
    }
   ],
   "source": [
    "Recent_Data.copy().reset_index()"
   ]
  },
  {
   "cell_type": "markdown",
   "id": "ee933a51",
   "metadata": {
    "id": "ee933a51"
   },
   "source": [
    "# Data Preprocessing"
   ]
  },
  {
   "cell_type": "code",
   "execution_count": 31,
   "id": "dede5d83",
   "metadata": {
    "ExecuteTime": {
     "end_time": "2023-03-28T02:03:26.628274Z",
     "start_time": "2023-03-28T02:03:26.575445Z"
    }
   },
   "outputs": [],
   "source": [
    "Main_Data=PreprocessTheCovidData(\n",
    "    Location_Specific_Data.copy().sort_values(by='date',ascending=True).reset_index(drop=True),\n",
    "    Selected_Columns\n",
    ")"
   ]
  },
  {
   "cell_type": "code",
   "execution_count": 32,
   "id": "d50e90d0",
   "metadata": {
    "ExecuteTime": {
     "end_time": "2023-03-28T02:03:28.037579Z",
     "start_time": "2023-03-28T02:03:28.011140Z"
    }
   },
   "outputs": [
    {
     "data": {
      "text/html": [
       "<div>\n",
       "<style scoped>\n",
       "    .dataframe tbody tr th:only-of-type {\n",
       "        vertical-align: middle;\n",
       "    }\n",
       "\n",
       "    .dataframe tbody tr th {\n",
       "        vertical-align: top;\n",
       "    }\n",
       "\n",
       "    .dataframe thead th {\n",
       "        text-align: right;\n",
       "    }\n",
       "</style>\n",
       "<table border=\"1\" class=\"dataframe\">\n",
       "  <thead>\n",
       "    <tr style=\"text-align: right;\">\n",
       "      <th></th>\n",
       "      <th>iso_code</th>\n",
       "      <th>date</th>\n",
       "      <th>continent</th>\n",
       "      <th>location</th>\n",
       "      <th>total_cases</th>\n",
       "      <th>new_cases</th>\n",
       "      <th>total_deaths</th>\n",
       "      <th>new_deaths</th>\n",
       "      <th>population</th>\n",
       "      <th>life_expectancy</th>\n",
       "    </tr>\n",
       "  </thead>\n",
       "  <tbody>\n",
       "    <tr>\n",
       "      <th>0</th>\n",
       "      <td>IND</td>\n",
       "      <td>2020-01-03</td>\n",
       "      <td>Asia</td>\n",
       "      <td>India</td>\n",
       "      <td>0.0</td>\n",
       "      <td>0.0</td>\n",
       "      <td>0.0</td>\n",
       "      <td>0.0</td>\n",
       "      <td>1.417173e+09</td>\n",
       "      <td>69.66</td>\n",
       "    </tr>\n",
       "    <tr>\n",
       "      <th>1</th>\n",
       "      <td>IND</td>\n",
       "      <td>2020-01-04</td>\n",
       "      <td>Asia</td>\n",
       "      <td>India</td>\n",
       "      <td>0.0</td>\n",
       "      <td>0.0</td>\n",
       "      <td>0.0</td>\n",
       "      <td>0.0</td>\n",
       "      <td>1.417173e+09</td>\n",
       "      <td>69.66</td>\n",
       "    </tr>\n",
       "    <tr>\n",
       "      <th>2</th>\n",
       "      <td>IND</td>\n",
       "      <td>2020-01-05</td>\n",
       "      <td>Asia</td>\n",
       "      <td>India</td>\n",
       "      <td>0.0</td>\n",
       "      <td>0.0</td>\n",
       "      <td>0.0</td>\n",
       "      <td>0.0</td>\n",
       "      <td>1.417173e+09</td>\n",
       "      <td>69.66</td>\n",
       "    </tr>\n",
       "    <tr>\n",
       "      <th>3</th>\n",
       "      <td>IND</td>\n",
       "      <td>2020-01-06</td>\n",
       "      <td>Asia</td>\n",
       "      <td>India</td>\n",
       "      <td>0.0</td>\n",
       "      <td>0.0</td>\n",
       "      <td>0.0</td>\n",
       "      <td>0.0</td>\n",
       "      <td>1.417173e+09</td>\n",
       "      <td>69.66</td>\n",
       "    </tr>\n",
       "    <tr>\n",
       "      <th>4</th>\n",
       "      <td>IND</td>\n",
       "      <td>2020-01-07</td>\n",
       "      <td>Asia</td>\n",
       "      <td>India</td>\n",
       "      <td>0.0</td>\n",
       "      <td>0.0</td>\n",
       "      <td>0.0</td>\n",
       "      <td>0.0</td>\n",
       "      <td>1.417173e+09</td>\n",
       "      <td>69.66</td>\n",
       "    </tr>\n",
       "    <tr>\n",
       "      <th>...</th>\n",
       "      <td>...</td>\n",
       "      <td>...</td>\n",
       "      <td>...</td>\n",
       "      <td>...</td>\n",
       "      <td>...</td>\n",
       "      <td>...</td>\n",
       "      <td>...</td>\n",
       "      <td>...</td>\n",
       "      <td>...</td>\n",
       "      <td>...</td>\n",
       "    </tr>\n",
       "    <tr>\n",
       "      <th>1174</th>\n",
       "      <td>IND</td>\n",
       "      <td>2023-03-22</td>\n",
       "      <td>Asia</td>\n",
       "      <td>India</td>\n",
       "      <td>44696984.0</td>\n",
       "      <td>0.0</td>\n",
       "      <td>530808.0</td>\n",
       "      <td>0.0</td>\n",
       "      <td>1.417173e+09</td>\n",
       "      <td>69.66</td>\n",
       "    </tr>\n",
       "    <tr>\n",
       "      <th>1175</th>\n",
       "      <td>IND</td>\n",
       "      <td>2023-03-23</td>\n",
       "      <td>Asia</td>\n",
       "      <td>India</td>\n",
       "      <td>44696984.0</td>\n",
       "      <td>0.0</td>\n",
       "      <td>530808.0</td>\n",
       "      <td>0.0</td>\n",
       "      <td>1.417173e+09</td>\n",
       "      <td>69.66</td>\n",
       "    </tr>\n",
       "    <tr>\n",
       "      <th>1176</th>\n",
       "      <td>IND</td>\n",
       "      <td>2023-03-24</td>\n",
       "      <td>Asia</td>\n",
       "      <td>India</td>\n",
       "      <td>44696984.0</td>\n",
       "      <td>0.0</td>\n",
       "      <td>530808.0</td>\n",
       "      <td>0.0</td>\n",
       "      <td>1.417173e+09</td>\n",
       "      <td>69.66</td>\n",
       "    </tr>\n",
       "    <tr>\n",
       "      <th>1177</th>\n",
       "      <td>IND</td>\n",
       "      <td>2023-03-25</td>\n",
       "      <td>Asia</td>\n",
       "      <td>India</td>\n",
       "      <td>44696984.0</td>\n",
       "      <td>0.0</td>\n",
       "      <td>530808.0</td>\n",
       "      <td>0.0</td>\n",
       "      <td>1.417173e+09</td>\n",
       "      <td>69.66</td>\n",
       "    </tr>\n",
       "    <tr>\n",
       "      <th>1178</th>\n",
       "      <td>IND</td>\n",
       "      <td>2023-03-26</td>\n",
       "      <td>Asia</td>\n",
       "      <td>India</td>\n",
       "      <td>44696984.0</td>\n",
       "      <td>0.0</td>\n",
       "      <td>530808.0</td>\n",
       "      <td>0.0</td>\n",
       "      <td>1.417173e+09</td>\n",
       "      <td>69.66</td>\n",
       "    </tr>\n",
       "  </tbody>\n",
       "</table>\n",
       "<p>1179 rows × 10 columns</p>\n",
       "</div>"
      ],
      "text/plain": [
       "     iso_code        date continent location  total_cases  new_cases  \\\n",
       "0         IND  2020-01-03      Asia    India          0.0        0.0   \n",
       "1         IND  2020-01-04      Asia    India          0.0        0.0   \n",
       "2         IND  2020-01-05      Asia    India          0.0        0.0   \n",
       "3         IND  2020-01-06      Asia    India          0.0        0.0   \n",
       "4         IND  2020-01-07      Asia    India          0.0        0.0   \n",
       "...       ...         ...       ...      ...          ...        ...   \n",
       "1174      IND  2023-03-22      Asia    India   44696984.0        0.0   \n",
       "1175      IND  2023-03-23      Asia    India   44696984.0        0.0   \n",
       "1176      IND  2023-03-24      Asia    India   44696984.0        0.0   \n",
       "1177      IND  2023-03-25      Asia    India   44696984.0        0.0   \n",
       "1178      IND  2023-03-26      Asia    India   44696984.0        0.0   \n",
       "\n",
       "      total_deaths  new_deaths    population  life_expectancy  \n",
       "0              0.0         0.0  1.417173e+09            69.66  \n",
       "1              0.0         0.0  1.417173e+09            69.66  \n",
       "2              0.0         0.0  1.417173e+09            69.66  \n",
       "3              0.0         0.0  1.417173e+09            69.66  \n",
       "4              0.0         0.0  1.417173e+09            69.66  \n",
       "...            ...         ...           ...              ...  \n",
       "1174      530808.0         0.0  1.417173e+09            69.66  \n",
       "1175      530808.0         0.0  1.417173e+09            69.66  \n",
       "1176      530808.0         0.0  1.417173e+09            69.66  \n",
       "1177      530808.0         0.0  1.417173e+09            69.66  \n",
       "1178      530808.0         0.0  1.417173e+09            69.66  \n",
       "\n",
       "[1179 rows x 10 columns]"
      ]
     },
     "execution_count": 32,
     "metadata": {},
     "output_type": "execute_result"
    }
   ],
   "source": [
    "Main_Data"
   ]
  },
  {
   "cell_type": "markdown",
   "id": "ae79b5ea",
   "metadata": {},
   "source": [
    "# Data Visualization"
   ]
  },
  {
   "cell_type": "markdown",
   "id": "a8af9eec",
   "metadata": {},
   "source": [
    "##### Normalization Graphs Plotter"
   ]
  },
  {
   "cell_type": "code",
   "execution_count": 31,
   "id": "da237abe",
   "metadata": {
    "ExecuteTime": {
     "end_time": "2023-03-28T00:32:53.444028Z",
     "start_time": "2023-03-28T00:32:53.180055Z"
    },
    "cell_style": "split",
    "scrolled": false
   },
   "outputs": [
    {
     "data": {
      "image/png": "[encoded data removed]",
      "text/plain": [
       "<Figure size 1500x1200 with 1 Axes>"
      ]
     },
     "metadata": {},
     "output_type": "display_data"
    }
   ],
   "source": [
    "normalDistributionGraphGenarator(Main_Data['total_cases'])"
   ]
  },
  {
   "cell_type": "code",
   "execution_count": 32,
   "id": "5e0a63a3",
   "metadata": {
    "ExecuteTime": {
     "end_time": "2023-03-28T00:32:53.759904Z",
     "start_time": "2023-03-28T00:32:53.511832Z"
    },
    "cell_style": "split"
   },
   "outputs": [
    {
     "data": {
      "image/png": "[encoded data removed]",
      "text/plain": [
       "<Figure size 1500x1200 with 1 Axes>"
      ]
     },
     "metadata": {},
     "output_type": "display_data"
    }
   ],
   "source": [
    "normalDistributionGraphGenarator(Main_Data['total_deaths'])"
   ]
  },
  {
   "cell_type": "code",
   "execution_count": 34,
   "id": "0432183f",
   "metadata": {
    "ExecuteTime": {
     "end_time": "2023-03-28T00:32:54.224904Z",
     "start_time": "2023-03-28T00:32:54.040937Z"
    },
    "cell_style": "split"
   },
   "outputs": [
    {
     "data": {
      "image/png": "[encoded data removed]",
      "text/plain": [
       "<Figure size 1500x1200 with 1 Axes>"
      ]
     },
     "metadata": {},
     "output_type": "display_data"
    }
   ],
   "source": [
    "normalDistributionGraphGenarator(Main_Data['population'])"
   ]
  },
  {
   "cell_type": "code",
   "execution_count": 33,
   "id": "56bc224e",
   "metadata": {
    "ExecuteTime": {
     "end_time": "2023-03-28T00:32:54.006940Z",
     "start_time": "2023-03-28T00:32:53.782944Z"
    },
    "cell_style": "split"
   },
   "outputs": [
    {
     "data": {
      "image/png": "[encoded data removed]",
      "text/plain": [
       "<Figure size 1500x1200 with 1 Axes>"
      ]
     },
     "metadata": {},
     "output_type": "display_data"
    }
   ],
   "source": [
    "normalDistributionGraphGenarator(Main_Data['new_cases'])"
   ]
  },
  {
   "cell_type": "code",
   "execution_count": 36,
   "id": "4f3a40e3",
   "metadata": {
    "ExecuteTime": {
     "end_time": "2023-03-28T00:32:54.718814Z",
     "start_time": "2023-03-28T00:32:54.521816Z"
    },
    "cell_style": "split"
   },
   "outputs": [
    {
     "data": {
      "image/png": "[encoded data removed]",
      "text/plain": [
       "<Figure size 1500x1200 with 1 Axes>"
      ]
     },
     "metadata": {},
     "output_type": "display_data"
    }
   ],
   "source": [
    "normalDistributionGraphGenarator(Main_Data['life_expectancy'])"
   ]
  },
  {
   "cell_type": "code",
   "execution_count": 35,
   "id": "dbf177d0",
   "metadata": {
    "ExecuteTime": {
     "end_time": "2023-03-28T00:32:54.519816Z",
     "start_time": "2023-03-28T00:32:54.275839Z"
    },
    "cell_style": "split"
   },
   "outputs": [
    {
     "data": {
      "image/png": "[encoded data removed]",
      "text/plain": [
       "<Figure size 1500x1200 with 1 Axes>"
      ]
     },
     "metadata": {},
     "output_type": "display_data"
    }
   ],
   "source": [
    "normalDistributionGraphGenarator(Main_Data['new_deaths'])"
   ]
  },
  {
   "cell_type": "code",
   "execution_count": 45,
   "id": "adfddea4",
   "metadata": {
    "ExecuteTime": {
     "end_time": "2023-03-28T02:07:31.230244Z",
     "start_time": "2023-03-28T02:07:31.221741Z"
    }
   },
   "outputs": [],
   "source": [
    "Labels=Main_Data['new_cases']"
   ]
  },
  {
   "cell_type": "code",
   "execution_count": 46,
   "id": "6b441adc",
   "metadata": {
    "ExecuteTime": {
     "end_time": "2023-03-28T02:07:32.428162Z",
     "start_time": "2023-03-28T02:07:32.406121Z"
    }
   },
   "outputs": [
    {
     "data": {
      "text/plain": [
       "Index(['iso_code', 'date', 'continent', 'location', 'total_cases', 'new_cases',\n",
       "       'total_deaths', 'new_deaths', 'population', 'life_expectancy'],\n",
       "      dtype='object')"
      ]
     },
     "execution_count": 46,
     "metadata": {},
     "output_type": "execute_result"
    }
   ],
   "source": [
    "Main_Data.columns"
   ]
  },
  {
   "cell_type": "code",
   "execution_count": 47,
   "id": "f8ab6e5d",
   "metadata": {
    "ExecuteTime": {
     "end_time": "2023-03-28T02:07:32.833325Z",
     "start_time": "2023-03-28T02:07:32.815289Z"
    }
   },
   "outputs": [],
   "source": [
    "Training_limit=int(len(Main_Data)*0.8)\n",
    "Testing_Fetures=Main_Data[Training_limit:]\n",
    "Testing_Labels=Labels[Training_limit:]\n",
    "Training_Features=Main_Data[:Training_limit]\n",
    "Training_Labels=Labels[:Training_limit]"
   ]
  },
  {
   "cell_type": "code",
   "execution_count": 48,
   "id": "25264a17",
   "metadata": {
    "ExecuteTime": {
     "end_time": "2023-03-28T02:07:33.235867Z",
     "start_time": "2023-03-28T02:07:33.226866Z"
    }
   },
   "outputs": [],
   "source": [
    "linear_regression_model=LinearRegression()\n",
    "random_forest_model=RandomForestRegressor()\n",
    "decision_tree_model=DecisionTreeRegressor()"
   ]
  },
  {
   "cell_type": "code",
   "execution_count": 42,
   "id": "10267e7d",
   "metadata": {
    "ExecuteTime": {
     "end_time": "2023-03-28T00:45:28.670870Z",
     "start_time": "2023-03-28T00:45:28.661845Z"
    }
   },
   "outputs": [],
   "source": [
    "number_of_next_days=7\n",
    "def returnNextdays():\n",
    "    date=738094\n",
    "    date_range=[]\n",
    "    l=[]\n",
    "    for i in range(1,number_of_next_days+1):\n",
    "        l.append([date+i])\n",
    "        date_range.append(datetime.date.fromordinal(date+i))\n",
    "    return l,date_range\n",
    "predictingdate,daterange=returnNextdays()"
   ]
  },
  {
   "cell_type": "code",
   "execution_count": 78,
   "id": "5fdb0bd3",
   "metadata": {
    "ExecuteTime": {
     "end_time": "2023-03-28T02:41:38.604137Z",
     "start_time": "2023-03-28T02:41:38.587574Z"
    }
   },
   "outputs": [
    {
     "data": {
      "text/html": [
       "<div>\n",
       "<style scoped>\n",
       "    .dataframe tbody tr th:only-of-type {\n",
       "        vertical-align: middle;\n",
       "    }\n",
       "\n",
       "    .dataframe tbody tr th {\n",
       "        vertical-align: top;\n",
       "    }\n",
       "\n",
       "    .dataframe thead th {\n",
       "        text-align: right;\n",
       "    }\n",
       "</style>\n",
       "<table border=\"1\" class=\"dataframe\">\n",
       "  <thead>\n",
       "    <tr style=\"text-align: right;\">\n",
       "      <th></th>\n",
       "      <th>0</th>\n",
       "    </tr>\n",
       "  </thead>\n",
       "  <tbody>\n",
       "    <tr>\n",
       "      <th>0</th>\n",
       "      <td>943</td>\n",
       "    </tr>\n",
       "    <tr>\n",
       "      <th>1</th>\n",
       "      <td>944</td>\n",
       "    </tr>\n",
       "    <tr>\n",
       "      <th>2</th>\n",
       "      <td>945</td>\n",
       "    </tr>\n",
       "    <tr>\n",
       "      <th>3</th>\n",
       "      <td>946</td>\n",
       "    </tr>\n",
       "    <tr>\n",
       "      <th>4</th>\n",
       "      <td>947</td>\n",
       "    </tr>\n",
       "    <tr>\n",
       "      <th>...</th>\n",
       "      <td>...</td>\n",
       "    </tr>\n",
       "    <tr>\n",
       "      <th>231</th>\n",
       "      <td>1174</td>\n",
       "    </tr>\n",
       "    <tr>\n",
       "      <th>232</th>\n",
       "      <td>1175</td>\n",
       "    </tr>\n",
       "    <tr>\n",
       "      <th>233</th>\n",
       "      <td>1176</td>\n",
       "    </tr>\n",
       "    <tr>\n",
       "      <th>234</th>\n",
       "      <td>1177</td>\n",
       "    </tr>\n",
       "    <tr>\n",
       "      <th>235</th>\n",
       "      <td>1178</td>\n",
       "    </tr>\n",
       "  </tbody>\n",
       "</table>\n",
       "<p>236 rows × 1 columns</p>\n",
       "</div>"
      ],
      "text/plain": [
       "        0\n",
       "0     943\n",
       "1     944\n",
       "2     945\n",
       "3     946\n",
       "4     947\n",
       "..    ...\n",
       "231  1174\n",
       "232  1175\n",
       "233  1176\n",
       "234  1177\n",
       "235  1178\n",
       "\n",
       "[236 rows x 1 columns]"
      ]
     },
     "execution_count": 78,
     "metadata": {},
     "output_type": "execute_result"
    }
   ],
   "source": [
    "Training_Indexes=Training_Features.index\n",
    "pandas.DataFrame(numpy.array(Training_Indexes))\n",
    "Testing_Indexes=Testing_Fetures.index\n",
    "pandas.DataFrame(numpy.array(Testing_Indexes))"
   ]
  },
  {
   "cell_type": "code",
   "execution_count": 49,
   "id": "b9162ded",
   "metadata": {
    "ExecuteTime": {
     "end_time": "2023-03-28T02:07:37.491723Z",
     "start_time": "2023-03-28T02:07:37.469690Z"
    }
   },
   "outputs": [],
   "source": [
    "daterange=[[i] for i in range(len(Main_Data),len(Main_Data)+7)]"
   ]
  },
  {
   "cell_type": "markdown",
   "id": "8ca01398",
   "metadata": {},
   "source": [
    "## Simple Linear Regression"
   ]
  },
  {
   "cell_type": "code",
   "execution_count": 76,
   "id": "d80b705f",
   "metadata": {
    "ExecuteTime": {
     "end_time": "2023-03-28T02:41:26.664366Z",
     "start_time": "2023-03-28T02:41:26.645353Z"
    }
   },
   "outputs": [],
   "source": [
    "def ApplyModelAndEValuate(Model_Name,Model):\n",
    "    Model.fit(pandas.DataFrame(numpy.array(Training_Indexes)),Training_Labels)\n",
    "    linear_regression_model_train_predicted=Model.predict(pandas.DataFrame(numpy.array(Training_Indexes)))\n",
    "    linear_regression_model_test_predicted=Model.predict(pandas.DataFrame(numpy.array(Testing_Indexes)))\n",
    "    linear_regression_model_next_days_predicted=Model.predict(daterange)\n",
    "    pyplot.figure(Model_Name)\n",
    "    line_of_regression=numpy.concatenate((linear_regression_model_train_predicted,linear_regression_model_test_predicted))\n",
    "    pyplot.plot(Main_Data['date'],Labels,label='Original Data')\n",
    "    pyplot.plot(Main_Data['date'],line_of_regression,label='Line of Regression')\n",
    "    pyplot.plot(Training_Features['date'],linear_regression_model_train_predicted,label='Train Data')\n",
    "    pyplot.plot(Testing_Fetures['date'],linear_regression_model_test_predicted,label='Test Data')\n",
    "    pyplot.plot(daterange,linear_regression_model_next_days_predicted,label='Future Prediction')\n",
    "    pyplot.xlabel('Date')\n",
    "    pyplot.legend()\n",
    "    pyplot.show()\n",
    "    print(Model_Name)\n",
    "    print(\"Trainig MAE: \",mean_absolute_error(linear_regression_model_train_predicted,Training_Labels),\"\\nTraining RMSE:\",numpy.sqrt(mean_squared_error(linear_regression_model_train_predicted,Training_Labels)))\n",
    "    print()\n",
    "    print(\"Testing MAE:\",mean_absolute_error(linear_regression_model_test_predicted,Testing_Labels),\"\\nTesting RMSE:\",numpy.sqrt(mean_squared_error(linear_regression_model_test_predicted,Testing_Labels)))"
   ]
  },
  {
   "cell_type": "code",
   "execution_count": 74,
   "id": "0cb1f6d2",
   "metadata": {
    "ExecuteTime": {
     "end_time": "2023-03-28T02:41:14.061714Z",
     "start_time": "2023-03-28T02:41:14.033279Z"
    },
    "scrolled": false
   },
   "outputs": [
    {
     "ename": "NameError",
     "evalue": "name 'Indexes' is not defined",
     "output_type": "error",
     "traceback": [
      "\u001b[1;31m---------------------------------------------------------------------------\u001b[0m",
      "\u001b[1;31mNameError\u001b[0m                                 Traceback (most recent call last)",
      "Cell \u001b[1;32mIn [74], line 1\u001b[0m\n\u001b[1;32m----> 1\u001b[0m linear_regression_model\u001b[38;5;241m.\u001b[39mfit(pandas\u001b[38;5;241m.\u001b[39mDataFrame(numpy\u001b[38;5;241m.\u001b[39marray(\u001b[43mIndexes\u001b[49m)),Training_Labels)\n",
      "\u001b[1;31mNameError\u001b[0m: name 'Indexes' is not defined"
     ]
    }
   ],
   "source": [
    "linear_regression_model.fit(pandas.DataFrame(numpy.array(Indexes)),Training_Labels)"
   ]
  },
  {
   "cell_type": "code",
   "execution_count": null,
   "id": "7c1f7563",
   "metadata": {
    "ExecuteTime": {
     "end_time": "2023-03-28T02:41:14.370939Z",
     "start_time": "2023-03-28T02:41:14.370939Z"
    }
   },
   "outputs": [],
   "source": [
    "linear_regression_model_train_predicted=linear_regression_model.predict(pandas.DataFrame(numpy.array(Indexes)))"
   ]
  },
  {
   "cell_type": "code",
   "execution_count": 66,
   "id": "9ecd69df",
   "metadata": {
    "ExecuteTime": {
     "end_time": "2023-03-28T00:52:24.349700Z",
     "start_time": "2023-03-28T00:52:24.338697Z"
    }
   },
   "outputs": [],
   "source": [
    "linear_regression_model_test_predicted=linear_regression_model.predict(pandas.DataFrame(numpy.array(Testing_Indexes)))"
   ]
  },
  {
   "cell_type": "code",
   "execution_count": 79,
   "id": "c50a508c",
   "metadata": {
    "ExecuteTime": {
     "end_time": "2023-03-28T00:57:49.451518Z",
     "start_time": "2023-03-28T00:57:49.430313Z"
    }
   },
   "outputs": [],
   "source": [
    "linear_regression_model_next_days_predicted=linear_regression_model.predict(daterange)"
   ]
  },
  {
   "cell_type": "code",
   "execution_count": 80,
   "id": "ffb2a749",
   "metadata": {
    "ExecuteTime": {
     "end_time": "2023-03-28T00:57:51.972106Z",
     "start_time": "2023-03-28T00:57:51.568766Z"
    }
   },
   "outputs": [],
   "source": [
    "pyplot.figure('linear regression')\n",
    "line_of_regression=numpy.concatenate((linear_regression_model_train_predicted,linear_regression_model_test_predicted))\n",
    "pyplot.plot(Main_Data['date'],Labels,label='Original Data')\n",
    "pyplot.plot(Main_Data['date'],line_of_regression,label='Line of Regression')\n",
    "pyplot.plot(Training_Features['date'],linear_regression_model_train_predicted,label='Train Data')\n",
    "pyplot.plot(Testing_Fetures['date'],linear_regression_model_test_predicted,label='Test Data')\n",
    "pyplot.plot(daterange,linear_regression_model_next_days_predicted,label='Future Prediction')\n",
    "pyplot.xlabel('Date')\n",
    "pyplot.legend()\n",
    "pyplot.show()"
   ]
  },
  {
   "cell_type": "code",
   "execution_count": 89,
   "id": "b18aba59",
   "metadata": {
    "ExecuteTime": {
     "end_time": "2023-03-28T01:04:58.866345Z",
     "start_time": "2023-03-28T01:04:58.849321Z"
    }
   },
   "outputs": [
    {
     "name": "stdout",
     "output_type": "stream",
     "text": [
      "Model Name\n",
      "Trainig MAE:  47399.47270253046 \n",
      "Training RMSE: 76438.91106873097\n",
      "\n",
      "Testing MAE: 56381.546351998615 \n",
      "Testing RMSE: 56660.83822335304\n"
     ]
    }
   ],
   "source": [
    "print('Model Name')\n",
    "print(\"Trainig MAE: \",mean_absolute_error(linear_regression_model_train_predicted,Training_Labels),\"\\nTraining RMSE:\",numpy.sqrt(mean_squared_error(linear_regression_model_train_predicted,Training_Labels)))\n",
    "print()\n",
    "print(\"Testing MAE:\",mean_absolute_error(linear_regression_model_test_predicted,Testing_Labels),\"\\nTesting RMSE:\",numpy.sqrt(mean_squared_error(linear_regression_model_test_predicted,Testing_Labels)))"
   ]
  },
  {
   "cell_type": "code",
   "execution_count": 79,
   "id": "3ce5f67e",
   "metadata": {
    "ExecuteTime": {
     "end_time": "2023-03-28T02:41:49.482740Z",
     "start_time": "2023-03-28T02:41:49.021744Z"
    }
   },
   "outputs": [
    {
     "name": "stdout",
     "output_type": "stream",
     "text": [
      "Linear Regression\n",
      "Trainig MAE:  47399.47270253046 \n",
      "Training RMSE: 76438.91106873097\n",
      "\n",
      "Testing MAE: 56381.546351998615 \n",
      "Testing RMSE: 56660.83822335304\n"
     ]
    }
   ],
   "source": [
    "ApplyModelAndEValuate(\"Linear Regression\",LinearRegression())"
   ]
  },
  {
   "cell_type": "markdown",
   "id": "da0e62bd",
   "metadata": {},
   "source": [
    "## Random Forest Regression"
   ]
  },
  {
   "cell_type": "code",
   "execution_count": 80,
   "id": "6e238519",
   "metadata": {
    "ExecuteTime": {
     "end_time": "2023-03-28T02:42:52.136064Z",
     "start_time": "2023-03-28T02:42:51.452422Z"
    }
   },
   "outputs": [
    {
     "name": "stdout",
     "output_type": "stream",
     "text": [
      "Random Forest Regression\n",
      "Trainig MAE:  1031.4904984093318 \n",
      "Training RMSE: 2126.4245088050675\n",
      "\n",
      "Testing MAE: 12743.886271186442 \n",
      "Testing RMSE: 13309.633840607998\n"
     ]
    }
   ],
   "source": [
    "ApplyModelAndEValuate(\"Random Forest Regression\",RandomForestRegressor())"
   ]
  },
  {
   "cell_type": "markdown",
   "id": "2f9f108b",
   "metadata": {},
   "source": [
    "## Polynomial Regression"
   ]
  },
  {
   "cell_type": "code",
   "execution_count": 104,
   "id": "602c7eeb",
   "metadata": {
    "ExecuteTime": {
     "end_time": "2023-03-28T01:36:57.263469Z",
     "start_time": "2023-03-28T01:36:57.245526Z"
    }
   },
   "outputs": [],
   "source": [
    "def polynomial_regrassion_model(degree_of_equation=1):\n",
    "    polynomial=PolynomialFeatures(degree=degree_of_equation)\n",
    "    polynomial_train_data=polynomial.fit_transform(pandas.DataFrame(numpy.array(Training_Indexes)).to_numpy())\n",
    "    polynomial_test_data=polynomial.fit_transform(pandas.DataFrame(numpy.array(Testing_Indexes)).to_numpy())\n",
    "    polynomial_future_test_data=polynomial.fit_transform(daterange)\n",
    "    polynomial_regression=LinearRegression()\n",
    "    polynomial_regression.fit(polynomial_train_data,Training_Labels)\n",
    "    polynomial_regression_model_train_predicted=polynomial_regression.predict(polynomial_train_data)\n",
    "    polynomial_regression_model_test_predicted=polynomial_regression.predict(polynomial_test_data)\n",
    "    polynomial_regression_model_next_days_predicted=polynomial_regression.predict(polynomial_future_test_data)\n",
    "#     print('Train Data Prediction')\n",
    "#     print(polynomial_regression_model_train_predicted)\n",
    "#     print('\\n\\n\\nTest Data Prediction')\n",
    "#     print(polynomial_regression_model_test_predicted)\n",
    "#     print('\\n\\n\\nFuture Data Prediction')\n",
    "#     print(polynomial_regression_model_next_days_predicted)\n",
    "#     print('\\n\\n\\n')\n",
    "    print('{} degree Polynomial regression'.format(degree_of_equation))\n",
    "    print(mean_absolute_error(polynomial_regression_model_train_predicted,Training_Labels),numpy.sqrt(mean_squared_error(polynomial_regression_model_train_predicted,Training_Labels)))\n",
    "    print(mean_absolute_error(polynomial_regression_model_test_predicted,Testing_Labels),numpy.sqrt(mean_squared_error(polynomial_regression_model_test_predicted,Testing_Labels)))\n",
    "    pyplot.figure('{} degree Polynomial regression'.format(degree_of_equation))\n",
    "    pyplot.plot(Main_Data['date'],Labels,label='Original Data')\n",
    "    pyplot.plot(Training_Features['date'],polynomial_regression_model_train_predicted,label='Train Data')\n",
    "    pyplot.plot(Testing_Fetures['date'],polynomial_regression_model_test_predicted,label='Test Data')\n",
    "    pyplot.plot(daterange,polynomial_regression_model_next_days_predicted,label='Future Prediction')\n",
    "    pyplot.xlabel('Date')\n",
    "    pyplot.show()"
   ]
  },
  {
   "cell_type": "code",
   "execution_count": 113,
   "id": "73cbf12d",
   "metadata": {
    "ExecuteTime": {
     "end_time": "2023-03-28T01:41:23.773452Z",
     "start_time": "2023-03-28T01:41:23.757449Z"
    }
   },
   "outputs": [],
   "source": [
    "def polynomial_regrassion_model(degree_of_equation=1):\n",
    "    polynomial=PolynomialFeatures(degree=degree_of_equation)\n",
    "    polynomial_train_data=polynomial.fit_transform(pandas.DataFrame(numpy.array(Training_Indexes)).to_numpy())\n",
    "    polynomial_test_data=polynomial.fit_transform(pandas.DataFrame(numpy.array(Testing_Indexes)).to_numpy())\n",
    "    polynomial_future_test_data=polynomial.fit_transform(daterange)\n",
    "    polynomial_regression=LinearRegression()\n",
    "    polynomial_regression.fit(polynomial_train_data,Training_Labels)\n",
    "    polynomial_regression_model_train_predicted=polynomial_regression.predict(polynomial_train_data)\n",
    "    polynomial_regression_model_test_predicted=polynomial_regression.predict(polynomial_test_data)\n",
    "    polynomial_regression_model_next_days_predicted=polynomial_regression.predict(polynomial_future_test_data)\n",
    "    print('{} degree Polynomial regression'.format(degree_of_equation)) print(mean_absolute_error(polynomial_regression_model_train_predicted,Training_Labels),numpy.sqrt(mean_squared_error(polynomial_regression_model_train_predicted,Training_Labels)))\n",
    "    print(mean_absolute_error(polynomial_regression_model_test_predicted,Testing_Labels),numpy.sqrt(mean_squared_error(polynomial_regression_model_test_predicted,Testing_Labels)))\n",
    "    pyplot.figure('{} degree Polynomial regression'.format(degree_of_equation))\n",
    "    pyplot.plot(Main_Data['date'],Labels,label='Original Data')\n",
    "    pyplot.plot(Training_Features['date'],polynomial_regression_model_train_predicted,label='Train Data')\n",
    "    pyplot.plot(Testing_Fetures['date'],polynomial_regression_model_test_predicted,label='Test Data')\n",
    "    pyplot.plot(daterange,polynomial_regression_model_next_days_predicted,label='Future Prediction')\n",
    "    pyplot.xlabel('Date')\n",
    "    pyplot.legend()\n",
    "    pyplot.show()"
   ]
  },
  {
   "cell_type": "code",
   "execution_count": 116,
   "id": "552552b0",
   "metadata": {
    "ExecuteTime": {
     "end_time": "2023-03-28T01:43:42.314259Z",
     "start_time": "2023-03-28T01:43:41.972274Z"
    }
   },
   "outputs": [
    {
     "name": "stdout",
     "output_type": "stream",
     "text": [
      "2 degree Polynomial regression\n",
      "43622.576300617075 70673.0679846496\n",
      "65795.18753438337 72676.59378568902\n"
     ]
    }
   ],
   "source": [
    "polynomial_regrassion_model(2)"
   ]
  },
  {
   "cell_type": "code",
   "execution_count": 117,
   "id": "3f0f480f",
   "metadata": {
    "ExecuteTime": {
     "end_time": "2023-03-28T01:43:46.518452Z",
     "start_time": "2023-03-28T01:43:46.188483Z"
    }
   },
   "outputs": [
    {
     "name": "stdout",
     "output_type": "stream",
     "text": [
      "3 degree Polynomial regression\n",
      "43733.35816577542 70653.85938133737\n",
      "79772.24919295895 88105.53944262827\n"
     ]
    }
   ],
   "source": [
    "polynomial_regrassion_model(3)"
   ]
  },
  {
   "cell_type": "code",
   "execution_count": 118,
   "id": "96214cde",
   "metadata": {
    "ExecuteTime": {
     "end_time": "2023-03-28T01:43:56.153743Z",
     "start_time": "2023-03-28T01:43:55.817096Z"
    }
   },
   "outputs": [
    {
     "name": "stdout",
     "output_type": "stream",
     "text": [
      "4 degree Polynomial regression\n",
      "41437.17722370892 70076.67896498552\n",
      "82285.60865250726 104514.15897105791\n"
     ]
    }
   ],
   "source": [
    "polynomial_regrassion_model(4)"
   ]
  },
  {
   "cell_type": "code",
   "execution_count": 119,
   "id": "3780eb65",
   "metadata": {
    "ExecuteTime": {
     "end_time": "2023-03-28T01:44:00.581833Z",
     "start_time": "2023-03-28T01:44:00.192369Z"
    }
   },
   "outputs": [
    {
     "name": "stdout",
     "output_type": "stream",
     "text": [
      "5 degree Polynomial regression\n",
      "41433.10793368236 70076.62916204361\n",
      "85595.91188637729 108718.54645423924\n"
     ]
    }
   ],
   "source": [
    "polynomial_regrassion_model(5)"
   ]
  },
  {
   "cell_type": "code",
   "execution_count": 128,
   "id": "2001ff7b",
   "metadata": {
    "ExecuteTime": {
     "end_time": "2023-03-28T01:55:31.589479Z",
     "start_time": "2023-03-28T01:55:31.569474Z"
    }
   },
   "outputs": [],
   "source": [
    "Main_Data['index']=Main_Data.index"
   ]
  },
  {
   "cell_type": "markdown",
   "id": "6f6e8816",
   "metadata": {},
   "source": [
    "## ARIMA"
   ]
  },
  {
   "cell_type": "code",
   "execution_count": 52,
   "id": "5e243d9a",
   "metadata": {
    "ExecuteTime": {
     "end_time": "2023-03-28T02:08:58.292981Z",
     "start_time": "2023-03-28T02:08:58.280974Z"
    }
   },
   "outputs": [],
   "source": [
    "order_of_forecasting_models1=(5,0,3)\n",
    "order_of_forecasting_models2=(3,0,3)\n",
    "forcasting_data_features=Main_Data[['date','new_cases']]\n",
    "forcasting_train_data_features=Main_Data[['date','new_cases']][:Training_limit]\n",
    "forcasting_test_data_features=Main_Data[['date','new_cases']][Training_limit:]"
   ]
  },
  {
   "cell_type": "code",
   "execution_count": 53,
   "id": "44b4e296",
   "metadata": {
    "ExecuteTime": {
     "end_time": "2023-03-28T02:08:58.758800Z",
     "start_time": "2023-03-28T02:08:58.740156Z"
    },
    "scrolled": false
   },
   "outputs": [],
   "source": [
    "forcasting_data_features['date']=pandas.to_datetime(forcasting_data_features['date'])\n",
    "forcasting_train_data_features['date']=pandas.to_datetime(forcasting_train_data_features['date'])\n",
    "forcasting_test_data_features['date']=pandas.to_datetime(forcasting_test_data_features['date'])\n",
    "forcasting_data_features=forcasting_data_features.set_index('date')\n",
    "forcasting_train_data_features=forcasting_train_data_features.set_index('date')\n",
    "forcasting_test_data_features=forcasting_test_data_features.set_index('date')"
   ]
  },
  {
   "cell_type": "code",
   "execution_count": 54,
   "id": "51db49f1",
   "metadata": {
    "ExecuteTime": {
     "end_time": "2023-03-28T02:08:59.056617Z",
     "start_time": "2023-03-28T02:08:59.037627Z"
    }
   },
   "outputs": [],
   "source": [
    "main_arima_model = ARIMA(forcasting_data_features,order=order_of_forecasting_models1)\n",
    "train_arima_model = ARIMA(forcasting_train_data_features,order=order_of_forecasting_models1)"
   ]
  },
  {
   "cell_type": "code",
   "execution_count": 55,
   "id": "2839be8e",
   "metadata": {
    "ExecuteTime": {
     "end_time": "2023-03-28T02:09:03.095179Z",
     "start_time": "2023-03-28T02:08:59.364397Z"
    }
   },
   "outputs": [],
   "source": [
    "main_arima_fit_model=main_arima_model.fit()\n",
    "train_arima_fit_model=train_arima_model.fit()"
   ]
  },
  {
   "cell_type": "code",
   "execution_count": 60,
   "id": "2ed80ca1",
   "metadata": {
    "ExecuteTime": {
     "end_time": "2023-03-28T02:12:21.083409Z",
     "start_time": "2023-03-28T02:12:21.051724Z"
    }
   },
   "outputs": [],
   "source": [
    "main_arima_fit_model_predicted=main_arima_fit_model.predict()\n",
    "train_arima_fit_model_predicted=train_arima_fit_model.predict()\n",
    "test_arima_predicted=train_arima_fit_model.forecast(steps=len(forcasting_test_data_features))\n",
    "arima_model_forcast=main_arima_fit_model.forecast(steps=7)"
   ]
  },
  {
   "cell_type": "code",
   "execution_count": null,
   "id": "9beabfcb",
   "metadata": {},
   "outputs": [],
   "source": []
  },
  {
   "cell_type": "code",
   "execution_count": 65,
   "id": "b2598322",
   "metadata": {
    "ExecuteTime": {
     "end_time": "2023-03-28T02:14:33.639096Z",
     "start_time": "2023-03-28T02:14:33.614900Z"
    }
   },
   "outputs": [
    {
     "ename": "SyntaxError",
     "evalue": "invalid syntax (82189231.py, line 11)",
     "output_type": "error",
     "traceback": [
      "\u001b[1;36m  Cell \u001b[1;32mIn [65], line 11\u001b[1;36m\u001b[0m\n\u001b[1;33m    print(\"Testing MAE:\",mean_absolute_error(test_arima_predicted,test_labels),\"\\nTesting RMSE:\",,numpy.sqrt(mean_squared_error(test_arima_predicted,test_labels)))\u001b[0m\n\u001b[1;37m                                                                                                 ^\u001b[0m\n\u001b[1;31mSyntaxError\u001b[0m\u001b[1;31m:\u001b[0m invalid syntax\n"
     ]
    }
   ],
   "source": [
    "pyplot.figure('ARIMA model Forcasting')\n",
    "pyplot.plot(Main_Data['date'],Labels,label='Original Data')\n",
    "pyplot.plot(Training_Features['date'],train_arima_fit_model_predicted,label='Train Data')\n",
    "pyplot.plot(Testing_Fetures['date'],test_arima_predicted,label='Test Data')\n",
    "pyplot.plot(daterange,arima_model_forcast,label='ARIMA Future Prediction')\n",
    "pyplot.xlabel('Date')\n",
    "pyplot.ylabel('new_cases')\n",
    "pyplot.legend()\n",
    "pyplot.show()\n",
    "print(\"Trainig MAE: \",mean_absolute_error(train_arima_fit_model_predicted,train_labels),\"\\nTraining RMSE:\",numpy.sqrt(mean_squared_error(train_arima_fit_model_predicted,train_labels)))\n",
    "print(\"Testing MAE:\",mean_absolute_error(test_arima_predicted,test_labels),\"\\nTesting RMSE:\",,numpy.sqrt(mean_squared_error(test_arima_predicted,test_labels)))"
   ]
  },
  {
   "cell_type": "code",
   "execution_count": 72,
   "id": "f64e0fa5",
   "metadata": {
    "ExecuteTime": {
     "end_time": "2023-03-28T02:17:03.246370Z",
     "start_time": "2023-03-28T02:17:02.879569Z"
    }
   },
   "outputs": [
    {
     "name": "stdout",
     "output_type": "stream",
     "text": [
      "ARIMA Forecasting\n",
      "Trainig MAE:  3265.5015714622905 \n",
      "Training RMSE: 6435.118972399677\n",
      "Testing MAE: 32420.09961468613 \n",
      "Testing RMSE: 34676.78150587533\n"
     ]
    }
   ],
   "source": [
    "pyplot.figure('ARIMA model Forcasting')\n",
    "pyplot.plot(Main_Data['date'],Labels,label='Original Data')\n",
    "pyplot.plot(Training_Features['date'],train_arima_fit_model_predicted,label='Train Data')\n",
    "pyplot.plot(Testing_Fetures['date'],test_arima_predicted,label='Test Data')\n",
    "pyplot.plot(daterange,arima_model_forcast,label='ARIMA Future Prediction')\n",
    "pyplot.xlabel('Date')\n",
    "pyplot.ylabel('new_cases')\n",
    "pyplot.legend()\n",
    "pyplot.show()\n",
    "print(\"ARIMA Forecasting\")\n",
    "print(\"Trainig MAE: \",mean_absolute_error(train_arima_fit_model_predicted,Training_Labels),\"\\nTraining RMSE:\",numpy.sqrt(mean_squared_error(train_arima_fit_model_predicted,Training_Labels)))\n",
    "print(\"Testing MAE:\",mean_absolute_error(test_arima_predicted,Testing_Labels),\"\\nTesting RMSE:\",numpy.sqrt(mean_squared_error(test_arima_predicted,Testing_Labels)))"
   ]
  },
  {
   "cell_type": "code",
   "execution_count": null,
   "id": "3709482e",
   "metadata": {},
   "outputs": [],
   "source": []
  }
 ],
 "metadata": {
  "celltoolbar": "Initialization Cell",
  "colab": {
   "provenance": [],
   "toc_visible": true
  },
  "hide_input": false,
  "kernelspec": {
   "display_name": "Python 3 (ipykernel)",
   "language": "python",
   "name": "python3"
  },
  "language_info": {
   "codemirror_mode": {
    "name": "ipython",
    "version": 3
   },
   "file_extension": ".py",
   "mimetype": "text/x-python",
   "name": "python",
   "nbconvert_exporter": "python",
   "pygments_lexer": "ipython3",
   "version": "3.10.8"
  }
 },
 "nbformat": 4,
 "nbformat_minor": 5
}
