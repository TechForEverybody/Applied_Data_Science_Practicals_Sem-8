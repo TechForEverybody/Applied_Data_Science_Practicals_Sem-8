{
 "cells": [
  {
   "cell_type": "markdown",
   "id": "fc241e48",
   "metadata": {
    "id": "fc241e48"
   },
   "source": [
    "## Name: Shivkumar G. Chauhan\n",
    "### Roll No.: CS8A53\n",
    "### Batch A-3\n",
    "---\n",
    "# Experiment - 5 : Apply Data Transformation and Data Reduction on the dataset."
   ]
  },
  {
   "cell_type": "markdown",
   "id": "a9f0f032",
   "metadata": {
    "id": "a9f0f032"
   },
   "source": [
    "## imports"
   ]
  },
  {
   "cell_type": "code",
   "execution_count": 21,
   "id": "IAN0ukSrIjTp",
   "metadata": {
    "ExecuteTime": {
     "end_time": "2023-03-21T02:53:55.772529Z",
     "start_time": "2023-03-21T02:53:55.726443Z"
    },
    "executionInfo": {
     "elapsed": 5,
     "status": "ok",
     "timestamp": 1678772336601,
     "user": {
      "displayName": "SHIVKUMAR CHAUHAN",
      "userId": "00181769091967804430"
     },
     "user_tz": -330
    },
    "id": "IAN0ukSrIjTp",
    "init_cell": true
   },
   "outputs": [],
   "source": [
    "import pandas\n",
    "import numpy\n",
    "import warnings\n",
    "from sklearn import preprocessing\n",
    "from sklearn.decomposition import PCA\n",
    "import matplotlib.pyplot as pyplot"
   ]
  },
  {
   "cell_type": "markdown",
   "id": "4fe11c98",
   "metadata": {
    "deletable": false,
    "editable": false,
    "id": "4fe11c98"
   },
   "source": [
    "## Configurations"
   ]
  },
  {
   "cell_type": "code",
   "execution_count": 22,
   "id": "12a82d6b",
   "metadata": {
    "ExecuteTime": {
     "end_time": "2023-03-21T02:53:55.835661Z",
     "start_time": "2023-03-21T02:53:55.804414Z"
    },
    "cell_style": "split",
    "executionInfo": {
     "elapsed": 1432,
     "status": "ok",
     "timestamp": 1678773139421,
     "user": {
      "displayName": "SHIVKUMAR CHAUHAN",
      "userId": "00181769091967804430"
     },
     "user_tz": -330
    },
    "id": "12a82d6b",
    "init_cell": true
   },
   "outputs": [],
   "source": [
    "Normalizer=preprocessing.Normalizer(\n",
    "    norm='max'\n",
    ")\n",
    "StandardScaler=preprocessing.StandardScaler(\n",
    "    with_mean=False,\n",
    "    with_std=True\n",
    ")\n",
    "MinmaxScaler=preprocessing.MinMaxScaler()\n",
    "OuatileScaler=preprocessing.QuantileTransformer()\n",
    "MaxABSScaler=preprocessing.MaxAbsScaler()\n",
    "RobustScaler=preprocessing.RobustScaler()"
   ]
  },
  {
   "cell_type": "code",
   "execution_count": 7,
   "id": "VN4jUAcLo5--",
   "metadata": {
    "ExecuteTime": {
     "end_time": "2023-03-20T00:38:58.202497Z",
     "start_time": "2023-03-20T00:38:58.086356Z"
    },
    "cell_style": "split",
    "executionInfo": {
     "elapsed": 4,
     "status": "ok",
     "timestamp": 1678772515715,
     "user": {
      "displayName": "SHIVKUMAR CHAUHAN",
      "userId": "00181769091967804430"
     },
     "user_tz": -330
    },
    "id": "VN4jUAcLo5--"
   },
   "outputs": [],
   "source": [
    "%matplotlib inline\n",
    "pyplot.rcParams[\"figure.figsize\"] = (15, 12)"
   ]
  },
  {
   "cell_type": "markdown",
   "id": "ad9baca7",
   "metadata": {
    "cell_style": "split",
    "id": "ad9baca7"
   },
   "source": [
    "hiding warnings"
   ]
  },
  {
   "cell_type": "code",
   "execution_count": 23,
   "id": "c3820cab",
   "metadata": {
    "ExecuteTime": {
     "end_time": "2023-03-21T02:53:55.913791Z",
     "start_time": "2023-03-21T02:53:55.898164Z"
    },
    "cell_style": "split",
    "deletable": false,
    "editable": false,
    "executionInfo": {
     "elapsed": 571,
     "status": "ok",
     "timestamp": 1678770356353,
     "user": {
      "displayName": "SHIVKUMAR CHAUHAN",
      "userId": "00181769091967804430"
     },
     "user_tz": -330
    },
    "id": "c3820cab",
    "init_cell": true
   },
   "outputs": [],
   "source": [
    "warnings.filterwarnings('ignore')"
   ]
  },
  {
   "cell_type": "markdown",
   "id": "465956c5",
   "metadata": {
    "cell_style": "center",
    "id": "465956c5"
   },
   "source": [
    "reading dataset"
   ]
  },
  {
   "cell_type": "code",
   "execution_count": 24,
   "id": "4AnwaYobJBtV",
   "metadata": {
    "ExecuteTime": {
     "end_time": "2023-03-21T02:54:00.783839Z",
     "start_time": "2023-03-21T02:53:55.913791Z"
    },
    "cell_style": "center",
    "executionInfo": {
     "elapsed": 3147,
     "status": "ok",
     "timestamp": 1678770389909,
     "user": {
      "displayName": "SHIVKUMAR CHAUHAN",
      "userId": "00181769091967804430"
     },
     "user_tz": -330
    },
    "id": "4AnwaYobJBtV",
    "init_cell": true
   },
   "outputs": [],
   "source": [
    "Raw_Data=pandas.read_csv(\"../Data/Raw_Data/owid-covid-data.csv\",date_parser='date')"
   ]
  },
  {
   "cell_type": "markdown",
   "id": "41d161c3",
   "metadata": {
    "cell_style": "split",
    "id": "41d161c3"
   },
   "source": [
    "Sorting the Dataframe using total_cases column"
   ]
  },
  {
   "cell_type": "markdown",
   "id": "788d8b6c",
   "metadata": {
    "cell_style": "split",
    "id": "788d8b6c"
   },
   "source": [
    "selecting specific columns"
   ]
  },
  {
   "cell_type": "code",
   "execution_count": 25,
   "id": "2e351be2",
   "metadata": {
    "ExecuteTime": {
     "end_time": "2023-03-21T02:54:01.079845Z",
     "start_time": "2023-03-21T02:54:00.788852Z"
    },
    "cell_style": "split",
    "executionInfo": {
     "elapsed": 1851,
     "status": "ok",
     "timestamp": 1678770396954,
     "user": {
      "displayName": "SHIVKUMAR CHAUHAN",
      "userId": "00181769091967804430"
     },
     "user_tz": -330
    },
    "id": "2e351be2",
    "init_cell": true,
    "run_control": {
     "marked": false
    }
   },
   "outputs": [],
   "source": [
    "Raw_Data=Raw_Data.sort_values(\n",
    "    by=\"total_cases\",\n",
    "    ascending=True\n",
    ").reset_index(drop=True)"
   ]
  },
  {
   "cell_type": "code",
   "execution_count": 26,
   "id": "3sH7227XPMgG",
   "metadata": {
    "ExecuteTime": {
     "end_time": "2023-03-21T02:54:01.095844Z",
     "start_time": "2023-03-21T02:54:01.083840Z"
    },
    "cell_style": "split",
    "executionInfo": {
     "elapsed": 4,
     "status": "ok",
     "timestamp": 1678770399101,
     "user": {
      "displayName": "SHIVKUMAR CHAUHAN",
      "userId": "00181769091967804430"
     },
     "user_tz": -330
    },
    "id": "3sH7227XPMgG",
    "init_cell": true
   },
   "outputs": [],
   "source": [
    "Selected_Columns=['iso_code','date', 'continent', 'location', 'total_cases','new_cases', 'total_deaths', 'new_deaths','population','life_expectancy']"
   ]
  },
  {
   "cell_type": "markdown",
   "id": "b41fa51d",
   "metadata": {
    "cell_style": "split",
    "id": "b41fa51d"
   },
   "source": [
    "Location Specific Data"
   ]
  },
  {
   "cell_type": "markdown",
   "id": "c82664de",
   "metadata": {
    "cell_style": "split",
    "id": "c82664de"
   },
   "source": [
    "Last Updated Aggreated Data"
   ]
  },
  {
   "cell_type": "code",
   "execution_count": 27,
   "id": "d87539c7",
   "metadata": {
    "ExecuteTime": {
     "end_time": "2023-03-21T02:54:01.111846Z",
     "start_time": "2023-03-21T02:54:01.098841Z"
    },
    "cell_style": "split",
    "executionInfo": {
     "elapsed": 1489,
     "status": "ok",
     "timestamp": 1678770403619,
     "user": {
      "displayName": "SHIVKUMAR CHAUHAN",
      "userId": "00181769091967804430"
     },
     "user_tz": -330
    },
    "id": "d87539c7",
    "init_cell": true
   },
   "outputs": [],
   "source": [
    "location=\"World\""
   ]
  },
  {
   "cell_type": "code",
   "execution_count": 28,
   "id": "9ef69c6e",
   "metadata": {
    "ExecuteTime": {
     "end_time": "2023-03-21T02:54:01.347846Z",
     "start_time": "2023-03-21T02:54:01.115847Z"
    },
    "cell_style": "split",
    "executionInfo": {
     "elapsed": 18,
     "status": "ok",
     "timestamp": 1678770403620,
     "user": {
      "displayName": "SHIVKUMAR CHAUHAN",
      "userId": "00181769091967804430"
     },
     "user_tz": -330
    },
    "id": "9ef69c6e",
    "init_cell": true
   },
   "outputs": [],
   "source": [
    "Aggregated_Data_by_Location=Raw_Data.groupby(\n",
    "    by='location'\n",
    ").max('total_cases')"
   ]
  },
  {
   "cell_type": "code",
   "execution_count": 29,
   "id": "b08918b9",
   "metadata": {
    "ExecuteTime": {
     "end_time": "2023-03-21T02:54:01.395840Z",
     "start_time": "2023-03-21T02:54:01.350844Z"
    },
    "cell_style": "split",
    "executionInfo": {
     "elapsed": 19,
     "status": "ok",
     "timestamp": 1678770403621,
     "user": {
      "displayName": "SHIVKUMAR CHAUHAN",
      "userId": "00181769091967804430"
     },
     "user_tz": -330
    },
    "id": "b08918b9",
    "init_cell": true
   },
   "outputs": [],
   "source": [
    "Location_Specific_Data=Raw_Data[\n",
    "    Raw_Data['location']==location\n",
    "]"
   ]
  },
  {
   "cell_type": "markdown",
   "id": "cae63f5d",
   "metadata": {
    "id": "cae63f5d"
   },
   "source": [
    "## Final Function for Whole Data Processing for Covid Data"
   ]
  },
  {
   "cell_type": "code",
   "execution_count": 30,
   "id": "fa2607cd",
   "metadata": {
    "ExecuteTime": {
     "end_time": "2023-03-21T02:54:01.427848Z",
     "start_time": "2023-03-21T02:54:01.398850Z"
    },
    "executionInfo": {
     "elapsed": 1584,
     "status": "ok",
     "timestamp": 1678771033795,
     "user": {
      "displayName": "SHIVKUMAR CHAUHAN",
      "userId": "00181769091967804430"
     },
     "user_tz": -330
    },
    "id": "fa2607cd",
    "init_cell": true
   },
   "outputs": [],
   "source": [
    "def PreprocessTheCovidData(Main_Data,Selected_columns)->pandas.DataFrame:\n",
    "    Main_Data=Main_Data[Selected_Columns]\n",
    "    for index in Main_Data['location'].value_counts().index:\n",
    "        if len(Main_Data[Main_Data['location']==index]['total_cases'].unique())<2:\n",
    "            Main_Data=Main_Data[Main_Data['location']!=index]\n",
    "    for index in Main_Data[Main_Data['continent'].isnull()==True]['location'].value_counts().index:\n",
    "        if index.find(\"income\")!=-1:\n",
    "            Main_Data[Main_Data['location']==index]=Main_Data[Main_Data['location']==index].fillna(value={\"continent\":\"Income Based\"})\n",
    "        elif index.find(\"Europe\")!=-1:\n",
    "            Main_Data[Main_Data['location']==index]=Main_Data[Main_Data['location']==index].fillna(value={\"continent\":\"Europe\"})\n",
    "        elif index.find(\"International\")!=-1 or index.find(\"World\")!=-1:\n",
    "            Main_Data[Main_Data['location']==index]=Main_Data[Main_Data['location']==index].fillna(value={\"continent\":\"World\"})\n",
    "        else:\n",
    "            Main_Data[Main_Data['location']==index]=Main_Data[Main_Data['location']==index].fillna(value={\"continent\":index})\n",
    "    for index in Main_Data[Main_Data['life_expectancy'].isnull()==False]['continent'].value_counts().index:\n",
    "        Main_Data[Main_Data['continent']==index]=Main_Data[Main_Data['continent']==index].fillna(value={\"life_expectancy\":Main_Data[Main_Data['continent']==index]['life_expectancy'].mean()})\n",
    "    Main_Data=Main_Data.fillna(value={\"life_expectancy\":Main_Data['life_expectancy'].mean()})\n",
    "    Main_Data['population']=Main_Data['population'].fillna(Main_Data[Main_Data['location']=='International']['total_cases'].max())\n",
    "    Main_Data[['new_cases','new_deaths']]=Main_Data[['new_cases','new_deaths']].fillna(0)\n",
    "    for index in Main_Data['location'].value_counts().index:\n",
    "        Main_Data[Main_Data['location']==index]=Main_Data[Main_Data['location']==index].fillna(0,limit=1)\n",
    "        Main_Data[Main_Data['location']==index]=Main_Data[Main_Data['location']==index].fillna(method='ffill')\n",
    "    return Main_Data"
   ]
  },
  {
   "cell_type": "markdown",
   "id": "ee933a51",
   "metadata": {
    "id": "ee933a51"
   },
   "source": [
    "# Data Preprocessing"
   ]
  },
  {
   "cell_type": "markdown",
   "id": "f0e89f2c",
   "metadata": {
    "id": "f0e89f2c"
   },
   "source": [
    "Selection of Data on which Preprocessing should be performed and also creating backup of original Data"
   ]
  },
  {
   "cell_type": "code",
   "execution_count": 12,
   "id": "09b21577",
   "metadata": {
    "ExecuteTime": {
     "end_time": "2023-03-20T13:55:08.819424Z",
     "start_time": "2023-03-20T13:55:08.802337Z"
    },
    "executionInfo": {
     "elapsed": 901,
     "status": "ok",
     "timestamp": 1678774510326,
     "user": {
      "displayName": "SHIVKUMAR CHAUHAN",
      "userId": "00181769091967804430"
     },
     "user_tz": -330
    },
    "id": "09b21577"
   },
   "outputs": [],
   "source": [
    "Main_Data=Location_Specific_Data.copy()"
   ]
  },
  {
   "cell_type": "code",
   "execution_count": 13,
   "id": "bcd09070",
   "metadata": {
    "ExecuteTime": {
     "end_time": "2023-03-20T13:55:09.084464Z",
     "start_time": "2023-03-20T13:55:09.020125Z"
    },
    "colab": {
     "base_uri": "https://localhost:8080/",
     "height": 488
    },
    "executionInfo": {
     "elapsed": 9,
     "status": "ok",
     "timestamp": 1678774511781,
     "user": {
      "displayName": "SHIVKUMAR CHAUHAN",
      "userId": "00181769091967804430"
     },
     "user_tz": -330
    },
    "id": "bcd09070",
    "outputId": "a5217b26-0589-4be0-aec3-b0ac4760ca80"
   },
   "outputs": [
    {
     "data": {
      "text/html": [
       "<div>\n",
       "<style scoped>\n",
       "    .dataframe tbody tr th:only-of-type {\n",
       "        vertical-align: middle;\n",
       "    }\n",
       "\n",
       "    .dataframe tbody tr th {\n",
       "        vertical-align: top;\n",
       "    }\n",
       "\n",
       "    .dataframe thead th {\n",
       "        text-align: right;\n",
       "    }\n",
       "</style>\n",
       "<table border=\"1\" class=\"dataframe\">\n",
       "  <thead>\n",
       "    <tr style=\"text-align: right;\">\n",
       "      <th></th>\n",
       "      <th>iso_code</th>\n",
       "      <th>continent</th>\n",
       "      <th>location</th>\n",
       "      <th>date</th>\n",
       "      <th>total_cases</th>\n",
       "      <th>new_cases</th>\n",
       "      <th>new_cases_smoothed</th>\n",
       "      <th>total_deaths</th>\n",
       "      <th>new_deaths</th>\n",
       "      <th>new_deaths_smoothed</th>\n",
       "      <th>...</th>\n",
       "      <th>male_smokers</th>\n",
       "      <th>handwashing_facilities</th>\n",
       "      <th>hospital_beds_per_thousand</th>\n",
       "      <th>life_expectancy</th>\n",
       "      <th>human_development_index</th>\n",
       "      <th>population</th>\n",
       "      <th>excess_mortality_cumulative_absolute</th>\n",
       "      <th>excess_mortality_cumulative</th>\n",
       "      <th>excess_mortality</th>\n",
       "      <th>excess_mortality_cumulative_per_million</th>\n",
       "    </tr>\n",
       "  </thead>\n",
       "  <tbody>\n",
       "    <tr>\n",
       "      <th>31214</th>\n",
       "      <td>OWID_WRL</td>\n",
       "      <td>NaN</td>\n",
       "      <td>World</td>\n",
       "      <td>2020-01-22</td>\n",
       "      <td>557.0</td>\n",
       "      <td>0.0</td>\n",
       "      <td>NaN</td>\n",
       "      <td>17.0</td>\n",
       "      <td>0.0</td>\n",
       "      <td>NaN</td>\n",
       "      <td>...</td>\n",
       "      <td>34.635</td>\n",
       "      <td>60.13</td>\n",
       "      <td>2.705</td>\n",
       "      <td>72.58</td>\n",
       "      <td>0.737</td>\n",
       "      <td>7.975105e+09</td>\n",
       "      <td>NaN</td>\n",
       "      <td>NaN</td>\n",
       "      <td>NaN</td>\n",
       "      <td>NaN</td>\n",
       "    </tr>\n",
       "    <tr>\n",
       "      <th>32256</th>\n",
       "      <td>OWID_WRL</td>\n",
       "      <td>NaN</td>\n",
       "      <td>World</td>\n",
       "      <td>2020-01-23</td>\n",
       "      <td>657.0</td>\n",
       "      <td>100.0</td>\n",
       "      <td>NaN</td>\n",
       "      <td>18.0</td>\n",
       "      <td>1.0</td>\n",
       "      <td>NaN</td>\n",
       "      <td>...</td>\n",
       "      <td>34.635</td>\n",
       "      <td>60.13</td>\n",
       "      <td>2.705</td>\n",
       "      <td>72.58</td>\n",
       "      <td>0.737</td>\n",
       "      <td>7.975105e+09</td>\n",
       "      <td>NaN</td>\n",
       "      <td>NaN</td>\n",
       "      <td>NaN</td>\n",
       "      <td>NaN</td>\n",
       "    </tr>\n",
       "    <tr>\n",
       "      <th>36436</th>\n",
       "      <td>OWID_WRL</td>\n",
       "      <td>NaN</td>\n",
       "      <td>World</td>\n",
       "      <td>2020-01-24</td>\n",
       "      <td>944.0</td>\n",
       "      <td>287.0</td>\n",
       "      <td>NaN</td>\n",
       "      <td>26.0</td>\n",
       "      <td>8.0</td>\n",
       "      <td>NaN</td>\n",
       "      <td>...</td>\n",
       "      <td>34.635</td>\n",
       "      <td>60.13</td>\n",
       "      <td>2.705</td>\n",
       "      <td>72.58</td>\n",
       "      <td>0.737</td>\n",
       "      <td>7.975105e+09</td>\n",
       "      <td>NaN</td>\n",
       "      <td>NaN</td>\n",
       "      <td>NaN</td>\n",
       "      <td>NaN</td>\n",
       "    </tr>\n",
       "    <tr>\n",
       "      <th>40321</th>\n",
       "      <td>OWID_WRL</td>\n",
       "      <td>NaN</td>\n",
       "      <td>World</td>\n",
       "      <td>2020-01-25</td>\n",
       "      <td>1437.0</td>\n",
       "      <td>493.0</td>\n",
       "      <td>NaN</td>\n",
       "      <td>42.0</td>\n",
       "      <td>16.0</td>\n",
       "      <td>NaN</td>\n",
       "      <td>...</td>\n",
       "      <td>34.635</td>\n",
       "      <td>60.13</td>\n",
       "      <td>2.705</td>\n",
       "      <td>72.58</td>\n",
       "      <td>0.737</td>\n",
       "      <td>7.975105e+09</td>\n",
       "      <td>NaN</td>\n",
       "      <td>NaN</td>\n",
       "      <td>NaN</td>\n",
       "      <td>NaN</td>\n",
       "    </tr>\n",
       "    <tr>\n",
       "      <th>44701</th>\n",
       "      <td>OWID_WRL</td>\n",
       "      <td>NaN</td>\n",
       "      <td>World</td>\n",
       "      <td>2020-01-26</td>\n",
       "      <td>2120.0</td>\n",
       "      <td>683.0</td>\n",
       "      <td>NaN</td>\n",
       "      <td>56.0</td>\n",
       "      <td>14.0</td>\n",
       "      <td>NaN</td>\n",
       "      <td>...</td>\n",
       "      <td>34.635</td>\n",
       "      <td>60.13</td>\n",
       "      <td>2.705</td>\n",
       "      <td>72.58</td>\n",
       "      <td>0.737</td>\n",
       "      <td>7.975105e+09</td>\n",
       "      <td>NaN</td>\n",
       "      <td>NaN</td>\n",
       "      <td>NaN</td>\n",
       "      <td>NaN</td>\n",
       "    </tr>\n",
       "    <tr>\n",
       "      <th>...</th>\n",
       "      <td>...</td>\n",
       "      <td>...</td>\n",
       "      <td>...</td>\n",
       "      <td>...</td>\n",
       "      <td>...</td>\n",
       "      <td>...</td>\n",
       "      <td>...</td>\n",
       "      <td>...</td>\n",
       "      <td>...</td>\n",
       "      <td>...</td>\n",
       "      <td>...</td>\n",
       "      <td>...</td>\n",
       "      <td>...</td>\n",
       "      <td>...</td>\n",
       "      <td>...</td>\n",
       "      <td>...</td>\n",
       "      <td>...</td>\n",
       "      <td>...</td>\n",
       "      <td>...</td>\n",
       "      <td>...</td>\n",
       "      <td>...</td>\n",
       "    </tr>\n",
       "    <tr>\n",
       "      <th>242557</th>\n",
       "      <td>OWID_WRL</td>\n",
       "      <td>NaN</td>\n",
       "      <td>World</td>\n",
       "      <td>2023-02-08</td>\n",
       "      <td>672183247.0</td>\n",
       "      <td>228269.0</td>\n",
       "      <td>179518.429</td>\n",
       "      <td>6849409.0</td>\n",
       "      <td>1896.0</td>\n",
       "      <td>1908.429</td>\n",
       "      <td>...</td>\n",
       "      <td>34.635</td>\n",
       "      <td>60.13</td>\n",
       "      <td>2.705</td>\n",
       "      <td>72.58</td>\n",
       "      <td>0.737</td>\n",
       "      <td>7.975105e+09</td>\n",
       "      <td>NaN</td>\n",
       "      <td>NaN</td>\n",
       "      <td>NaN</td>\n",
       "      <td>NaN</td>\n",
       "    </tr>\n",
       "    <tr>\n",
       "      <th>242558</th>\n",
       "      <td>OWID_WRL</td>\n",
       "      <td>NaN</td>\n",
       "      <td>World</td>\n",
       "      <td>2023-02-09</td>\n",
       "      <td>672440247.0</td>\n",
       "      <td>257000.0</td>\n",
       "      <td>179259.857</td>\n",
       "      <td>6851332.0</td>\n",
       "      <td>2259.0</td>\n",
       "      <td>1851.000</td>\n",
       "      <td>...</td>\n",
       "      <td>34.635</td>\n",
       "      <td>60.13</td>\n",
       "      <td>2.705</td>\n",
       "      <td>72.58</td>\n",
       "      <td>0.737</td>\n",
       "      <td>7.975105e+09</td>\n",
       "      <td>NaN</td>\n",
       "      <td>NaN</td>\n",
       "      <td>NaN</td>\n",
       "      <td>NaN</td>\n",
       "    </tr>\n",
       "    <tr>\n",
       "      <th>242559</th>\n",
       "      <td>OWID_WRL</td>\n",
       "      <td>NaN</td>\n",
       "      <td>World</td>\n",
       "      <td>2023-02-10</td>\n",
       "      <td>672581763.0</td>\n",
       "      <td>142758.0</td>\n",
       "      <td>165649.000</td>\n",
       "      <td>6852711.0</td>\n",
       "      <td>1422.0</td>\n",
       "      <td>1733.286</td>\n",
       "      <td>...</td>\n",
       "      <td>34.635</td>\n",
       "      <td>60.13</td>\n",
       "      <td>2.705</td>\n",
       "      <td>72.58</td>\n",
       "      <td>0.737</td>\n",
       "      <td>7.975105e+09</td>\n",
       "      <td>NaN</td>\n",
       "      <td>NaN</td>\n",
       "      <td>NaN</td>\n",
       "      <td>NaN</td>\n",
       "    </tr>\n",
       "    <tr>\n",
       "      <th>242560</th>\n",
       "      <td>OWID_WRL</td>\n",
       "      <td>NaN</td>\n",
       "      <td>World</td>\n",
       "      <td>2023-02-11</td>\n",
       "      <td>672713246.0</td>\n",
       "      <td>131483.0</td>\n",
       "      <td>169768.429</td>\n",
       "      <td>6853333.0</td>\n",
       "      <td>622.0</td>\n",
       "      <td>1268.857</td>\n",
       "      <td>...</td>\n",
       "      <td>34.635</td>\n",
       "      <td>60.13</td>\n",
       "      <td>2.705</td>\n",
       "      <td>72.58</td>\n",
       "      <td>0.737</td>\n",
       "      <td>7.975105e+09</td>\n",
       "      <td>NaN</td>\n",
       "      <td>NaN</td>\n",
       "      <td>NaN</td>\n",
       "      <td>NaN</td>\n",
       "    </tr>\n",
       "    <tr>\n",
       "      <th>242561</th>\n",
       "      <td>OWID_WRL</td>\n",
       "      <td>NaN</td>\n",
       "      <td>World</td>\n",
       "      <td>2023-02-12</td>\n",
       "      <td>672789992.0</td>\n",
       "      <td>76746.0</td>\n",
       "      <td>168124.000</td>\n",
       "      <td>6853702.0</td>\n",
       "      <td>369.0</td>\n",
       "      <td>1247.286</td>\n",
       "      <td>...</td>\n",
       "      <td>34.635</td>\n",
       "      <td>60.13</td>\n",
       "      <td>2.705</td>\n",
       "      <td>72.58</td>\n",
       "      <td>0.737</td>\n",
       "      <td>7.975105e+09</td>\n",
       "      <td>NaN</td>\n",
       "      <td>NaN</td>\n",
       "      <td>NaN</td>\n",
       "      <td>NaN</td>\n",
       "    </tr>\n",
       "  </tbody>\n",
       "</table>\n",
       "<p>1118 rows × 67 columns</p>\n",
       "</div>"
      ],
      "text/plain": [
       "        iso_code continent location        date  total_cases  new_cases  \\\n",
       "31214   OWID_WRL       NaN    World  2020-01-22        557.0        0.0   \n",
       "32256   OWID_WRL       NaN    World  2020-01-23        657.0      100.0   \n",
       "36436   OWID_WRL       NaN    World  2020-01-24        944.0      287.0   \n",
       "40321   OWID_WRL       NaN    World  2020-01-25       1437.0      493.0   \n",
       "44701   OWID_WRL       NaN    World  2020-01-26       2120.0      683.0   \n",
       "...          ...       ...      ...         ...          ...        ...   \n",
       "242557  OWID_WRL       NaN    World  2023-02-08  672183247.0   228269.0   \n",
       "242558  OWID_WRL       NaN    World  2023-02-09  672440247.0   257000.0   \n",
       "242559  OWID_WRL       NaN    World  2023-02-10  672581763.0   142758.0   \n",
       "242560  OWID_WRL       NaN    World  2023-02-11  672713246.0   131483.0   \n",
       "242561  OWID_WRL       NaN    World  2023-02-12  672789992.0    76746.0   \n",
       "\n",
       "        new_cases_smoothed  total_deaths  new_deaths  new_deaths_smoothed  \\\n",
       "31214                  NaN          17.0         0.0                  NaN   \n",
       "32256                  NaN          18.0         1.0                  NaN   \n",
       "36436                  NaN          26.0         8.0                  NaN   \n",
       "40321                  NaN          42.0        16.0                  NaN   \n",
       "44701                  NaN          56.0        14.0                  NaN   \n",
       "...                    ...           ...         ...                  ...   \n",
       "242557          179518.429     6849409.0      1896.0             1908.429   \n",
       "242558          179259.857     6851332.0      2259.0             1851.000   \n",
       "242559          165649.000     6852711.0      1422.0             1733.286   \n",
       "242560          169768.429     6853333.0       622.0             1268.857   \n",
       "242561          168124.000     6853702.0       369.0             1247.286   \n",
       "\n",
       "        ...  male_smokers  handwashing_facilities  hospital_beds_per_thousand  \\\n",
       "31214   ...        34.635                   60.13                       2.705   \n",
       "32256   ...        34.635                   60.13                       2.705   \n",
       "36436   ...        34.635                   60.13                       2.705   \n",
       "40321   ...        34.635                   60.13                       2.705   \n",
       "44701   ...        34.635                   60.13                       2.705   \n",
       "...     ...           ...                     ...                         ...   \n",
       "242557  ...        34.635                   60.13                       2.705   \n",
       "242558  ...        34.635                   60.13                       2.705   \n",
       "242559  ...        34.635                   60.13                       2.705   \n",
       "242560  ...        34.635                   60.13                       2.705   \n",
       "242561  ...        34.635                   60.13                       2.705   \n",
       "\n",
       "        life_expectancy  human_development_index    population  \\\n",
       "31214             72.58                    0.737  7.975105e+09   \n",
       "32256             72.58                    0.737  7.975105e+09   \n",
       "36436             72.58                    0.737  7.975105e+09   \n",
       "40321             72.58                    0.737  7.975105e+09   \n",
       "44701             72.58                    0.737  7.975105e+09   \n",
       "...                 ...                      ...           ...   \n",
       "242557            72.58                    0.737  7.975105e+09   \n",
       "242558            72.58                    0.737  7.975105e+09   \n",
       "242559            72.58                    0.737  7.975105e+09   \n",
       "242560            72.58                    0.737  7.975105e+09   \n",
       "242561            72.58                    0.737  7.975105e+09   \n",
       "\n",
       "        excess_mortality_cumulative_absolute  excess_mortality_cumulative  \\\n",
       "31214                                    NaN                          NaN   \n",
       "32256                                    NaN                          NaN   \n",
       "36436                                    NaN                          NaN   \n",
       "40321                                    NaN                          NaN   \n",
       "44701                                    NaN                          NaN   \n",
       "...                                      ...                          ...   \n",
       "242557                                   NaN                          NaN   \n",
       "242558                                   NaN                          NaN   \n",
       "242559                                   NaN                          NaN   \n",
       "242560                                   NaN                          NaN   \n",
       "242561                                   NaN                          NaN   \n",
       "\n",
       "        excess_mortality  excess_mortality_cumulative_per_million  \n",
       "31214                NaN                                      NaN  \n",
       "32256                NaN                                      NaN  \n",
       "36436                NaN                                      NaN  \n",
       "40321                NaN                                      NaN  \n",
       "44701                NaN                                      NaN  \n",
       "...                  ...                                      ...  \n",
       "242557               NaN                                      NaN  \n",
       "242558               NaN                                      NaN  \n",
       "242559               NaN                                      NaN  \n",
       "242560               NaN                                      NaN  \n",
       "242561               NaN                                      NaN  \n",
       "\n",
       "[1118 rows x 67 columns]"
      ]
     },
     "execution_count": 13,
     "metadata": {},
     "output_type": "execute_result"
    }
   ],
   "source": [
    "Main_Data"
   ]
  },
  {
   "cell_type": "markdown",
   "id": "BcLeeGW8hwAa",
   "metadata": {
    "id": "BcLeeGW8hwAa"
   },
   "source": [
    "## Data Cleaning"
   ]
  },
  {
   "cell_type": "code",
   "execution_count": 14,
   "id": "1bcc6bd7",
   "metadata": {
    "ExecuteTime": {
     "end_time": "2023-03-20T13:55:09.533269Z",
     "start_time": "2023-03-20T13:55:09.439050Z"
    },
    "executionInfo": {
     "elapsed": 3,
     "status": "ok",
     "timestamp": 1678774515015,
     "user": {
      "displayName": "SHIVKUMAR CHAUHAN",
      "userId": "00181769091967804430"
     },
     "user_tz": -330
    },
    "id": "1bcc6bd7"
   },
   "outputs": [],
   "source": [
    "Main_Data=PreprocessTheCovidData(Main_Data.copy().reset_index(drop=True),Selected_Columns)"
   ]
  },
  {
   "cell_type": "code",
   "execution_count": 15,
   "id": "685e320f",
   "metadata": {
    "ExecuteTime": {
     "end_time": "2023-03-20T13:55:09.672620Z",
     "start_time": "2023-03-20T13:55:09.653868Z"
    },
    "executionInfo": {
     "elapsed": 5,
     "status": "ok",
     "timestamp": 1678774516423,
     "user": {
      "displayName": "SHIVKUMAR CHAUHAN",
      "userId": "00181769091967804430"
     },
     "user_tz": -330
    },
    "id": "685e320f"
   },
   "outputs": [],
   "source": [
    "for index in Main_Data['location'].value_counts().index:\n",
    "    if len(Main_Data[Main_Data['location']==index]['total_cases'].unique())<2:\n",
    "        print(index,end=\" \")\n",
    "        print(Main_Data[Main_Data['location']==index]['total_cases'].unique(),end=\" \")\n",
    "        print(len(Main_Data[Main_Data['location']==index]['total_cases'].unique()),end=\" \")\n",
    "        Main_Data=Main_Data[Main_Data['location']!=index]\n",
    "BackupData=Main_Data.copy()"
   ]
  },
  {
   "cell_type": "code",
   "execution_count": 16,
   "id": "SKhRwnz8wYdT",
   "metadata": {
    "ExecuteTime": {
     "end_time": "2023-03-20T13:55:09.885039Z",
     "start_time": "2023-03-20T13:55:09.858820Z"
    },
    "colab": {
     "base_uri": "https://localhost:8080/",
     "height": 424
    },
    "executionInfo": {
     "elapsed": 9,
     "status": "ok",
     "timestamp": 1678774517230,
     "user": {
      "displayName": "SHIVKUMAR CHAUHAN",
      "userId": "00181769091967804430"
     },
     "user_tz": -330
    },
    "id": "SKhRwnz8wYdT",
    "outputId": "f01e1b5a-5c61-441f-e7a9-d62f10ea487b"
   },
   "outputs": [
    {
     "data": {
      "text/html": [
       "<div>\n",
       "<style scoped>\n",
       "    .dataframe tbody tr th:only-of-type {\n",
       "        vertical-align: middle;\n",
       "    }\n",
       "\n",
       "    .dataframe tbody tr th {\n",
       "        vertical-align: top;\n",
       "    }\n",
       "\n",
       "    .dataframe thead th {\n",
       "        text-align: right;\n",
       "    }\n",
       "</style>\n",
       "<table border=\"1\" class=\"dataframe\">\n",
       "  <thead>\n",
       "    <tr style=\"text-align: right;\">\n",
       "      <th></th>\n",
       "      <th>iso_code</th>\n",
       "      <th>date</th>\n",
       "      <th>continent</th>\n",
       "      <th>location</th>\n",
       "      <th>total_cases</th>\n",
       "      <th>new_cases</th>\n",
       "      <th>total_deaths</th>\n",
       "      <th>new_deaths</th>\n",
       "      <th>population</th>\n",
       "      <th>life_expectancy</th>\n",
       "    </tr>\n",
       "  </thead>\n",
       "  <tbody>\n",
       "    <tr>\n",
       "      <th>0</th>\n",
       "      <td>OWID_WRL</td>\n",
       "      <td>2020-01-22</td>\n",
       "      <td>World</td>\n",
       "      <td>World</td>\n",
       "      <td>557.0</td>\n",
       "      <td>0.0</td>\n",
       "      <td>17.0</td>\n",
       "      <td>0.0</td>\n",
       "      <td>7.975105e+09</td>\n",
       "      <td>72.58</td>\n",
       "    </tr>\n",
       "    <tr>\n",
       "      <th>1</th>\n",
       "      <td>OWID_WRL</td>\n",
       "      <td>2020-01-23</td>\n",
       "      <td>World</td>\n",
       "      <td>World</td>\n",
       "      <td>657.0</td>\n",
       "      <td>100.0</td>\n",
       "      <td>18.0</td>\n",
       "      <td>1.0</td>\n",
       "      <td>7.975105e+09</td>\n",
       "      <td>72.58</td>\n",
       "    </tr>\n",
       "    <tr>\n",
       "      <th>2</th>\n",
       "      <td>OWID_WRL</td>\n",
       "      <td>2020-01-24</td>\n",
       "      <td>World</td>\n",
       "      <td>World</td>\n",
       "      <td>944.0</td>\n",
       "      <td>287.0</td>\n",
       "      <td>26.0</td>\n",
       "      <td>8.0</td>\n",
       "      <td>7.975105e+09</td>\n",
       "      <td>72.58</td>\n",
       "    </tr>\n",
       "    <tr>\n",
       "      <th>3</th>\n",
       "      <td>OWID_WRL</td>\n",
       "      <td>2020-01-25</td>\n",
       "      <td>World</td>\n",
       "      <td>World</td>\n",
       "      <td>1437.0</td>\n",
       "      <td>493.0</td>\n",
       "      <td>42.0</td>\n",
       "      <td>16.0</td>\n",
       "      <td>7.975105e+09</td>\n",
       "      <td>72.58</td>\n",
       "    </tr>\n",
       "    <tr>\n",
       "      <th>4</th>\n",
       "      <td>OWID_WRL</td>\n",
       "      <td>2020-01-26</td>\n",
       "      <td>World</td>\n",
       "      <td>World</td>\n",
       "      <td>2120.0</td>\n",
       "      <td>683.0</td>\n",
       "      <td>56.0</td>\n",
       "      <td>14.0</td>\n",
       "      <td>7.975105e+09</td>\n",
       "      <td>72.58</td>\n",
       "    </tr>\n",
       "    <tr>\n",
       "      <th>...</th>\n",
       "      <td>...</td>\n",
       "      <td>...</td>\n",
       "      <td>...</td>\n",
       "      <td>...</td>\n",
       "      <td>...</td>\n",
       "      <td>...</td>\n",
       "      <td>...</td>\n",
       "      <td>...</td>\n",
       "      <td>...</td>\n",
       "      <td>...</td>\n",
       "    </tr>\n",
       "    <tr>\n",
       "      <th>1113</th>\n",
       "      <td>OWID_WRL</td>\n",
       "      <td>2023-02-08</td>\n",
       "      <td>World</td>\n",
       "      <td>World</td>\n",
       "      <td>672183247.0</td>\n",
       "      <td>228269.0</td>\n",
       "      <td>6849409.0</td>\n",
       "      <td>1896.0</td>\n",
       "      <td>7.975105e+09</td>\n",
       "      <td>72.58</td>\n",
       "    </tr>\n",
       "    <tr>\n",
       "      <th>1114</th>\n",
       "      <td>OWID_WRL</td>\n",
       "      <td>2023-02-09</td>\n",
       "      <td>World</td>\n",
       "      <td>World</td>\n",
       "      <td>672440247.0</td>\n",
       "      <td>257000.0</td>\n",
       "      <td>6851332.0</td>\n",
       "      <td>2259.0</td>\n",
       "      <td>7.975105e+09</td>\n",
       "      <td>72.58</td>\n",
       "    </tr>\n",
       "    <tr>\n",
       "      <th>1115</th>\n",
       "      <td>OWID_WRL</td>\n",
       "      <td>2023-02-10</td>\n",
       "      <td>World</td>\n",
       "      <td>World</td>\n",
       "      <td>672581763.0</td>\n",
       "      <td>142758.0</td>\n",
       "      <td>6852711.0</td>\n",
       "      <td>1422.0</td>\n",
       "      <td>7.975105e+09</td>\n",
       "      <td>72.58</td>\n",
       "    </tr>\n",
       "    <tr>\n",
       "      <th>1116</th>\n",
       "      <td>OWID_WRL</td>\n",
       "      <td>2023-02-11</td>\n",
       "      <td>World</td>\n",
       "      <td>World</td>\n",
       "      <td>672713246.0</td>\n",
       "      <td>131483.0</td>\n",
       "      <td>6853333.0</td>\n",
       "      <td>622.0</td>\n",
       "      <td>7.975105e+09</td>\n",
       "      <td>72.58</td>\n",
       "    </tr>\n",
       "    <tr>\n",
       "      <th>1117</th>\n",
       "      <td>OWID_WRL</td>\n",
       "      <td>2023-02-12</td>\n",
       "      <td>World</td>\n",
       "      <td>World</td>\n",
       "      <td>672789992.0</td>\n",
       "      <td>76746.0</td>\n",
       "      <td>6853702.0</td>\n",
       "      <td>369.0</td>\n",
       "      <td>7.975105e+09</td>\n",
       "      <td>72.58</td>\n",
       "    </tr>\n",
       "  </tbody>\n",
       "</table>\n",
       "<p>1118 rows × 10 columns</p>\n",
       "</div>"
      ],
      "text/plain": [
       "      iso_code        date continent location  total_cases  new_cases  \\\n",
       "0     OWID_WRL  2020-01-22     World    World        557.0        0.0   \n",
       "1     OWID_WRL  2020-01-23     World    World        657.0      100.0   \n",
       "2     OWID_WRL  2020-01-24     World    World        944.0      287.0   \n",
       "3     OWID_WRL  2020-01-25     World    World       1437.0      493.0   \n",
       "4     OWID_WRL  2020-01-26     World    World       2120.0      683.0   \n",
       "...        ...         ...       ...      ...          ...        ...   \n",
       "1113  OWID_WRL  2023-02-08     World    World  672183247.0   228269.0   \n",
       "1114  OWID_WRL  2023-02-09     World    World  672440247.0   257000.0   \n",
       "1115  OWID_WRL  2023-02-10     World    World  672581763.0   142758.0   \n",
       "1116  OWID_WRL  2023-02-11     World    World  672713246.0   131483.0   \n",
       "1117  OWID_WRL  2023-02-12     World    World  672789992.0    76746.0   \n",
       "\n",
       "      total_deaths  new_deaths    population  life_expectancy  \n",
       "0             17.0         0.0  7.975105e+09            72.58  \n",
       "1             18.0         1.0  7.975105e+09            72.58  \n",
       "2             26.0         8.0  7.975105e+09            72.58  \n",
       "3             42.0        16.0  7.975105e+09            72.58  \n",
       "4             56.0        14.0  7.975105e+09            72.58  \n",
       "...            ...         ...           ...              ...  \n",
       "1113     6849409.0      1896.0  7.975105e+09            72.58  \n",
       "1114     6851332.0      2259.0  7.975105e+09            72.58  \n",
       "1115     6852711.0      1422.0  7.975105e+09            72.58  \n",
       "1116     6853333.0       622.0  7.975105e+09            72.58  \n",
       "1117     6853702.0       369.0  7.975105e+09            72.58  \n",
       "\n",
       "[1118 rows x 10 columns]"
      ]
     },
     "execution_count": 16,
     "metadata": {},
     "output_type": "execute_result"
    }
   ],
   "source": [
    "BackupData"
   ]
  },
  {
   "cell_type": "markdown",
   "id": "4cd66323",
   "metadata": {
    "id": "4cd66323"
   },
   "source": [
    "## Data Transformation"
   ]
  },
  {
   "cell_type": "markdown",
   "id": "4ddd7391",
   "metadata": {
    "id": "4ddd7391"
   },
   "source": [
    "### 1.  Attribution"
   ]
  },
  {
   "cell_type": "markdown",
   "id": "3f3b3ec6",
   "metadata": {
    "id": "3f3b3ec6",
    "run_control": {
     "marked": true
    }
   },
   "source": [
    "#### creating new Attribute death_percentage on new cases"
   ]
  },
  {
   "cell_type": "code",
   "execution_count": 17,
   "id": "66a10345",
   "metadata": {
    "ExecuteTime": {
     "end_time": "2023-03-20T13:55:10.702479Z",
     "start_time": "2023-03-20T13:55:10.691651Z"
    },
    "executionInfo": {
     "elapsed": 3,
     "status": "ok",
     "timestamp": 1678774521839,
     "user": {
      "displayName": "SHIVKUMAR CHAUHAN",
      "userId": "00181769091967804430"
     },
     "user_tz": -330
    },
    "id": "66a10345"
   },
   "outputs": [],
   "source": [
    "Main_Data['death_percentage_for_new_cases']=[100*i[1]/max(1,i[0]) for  i in Main_Data[['new_cases','new_deaths']].to_numpy()]"
   ]
  },
  {
   "cell_type": "code",
   "execution_count": 18,
   "id": "a6eae97f",
   "metadata": {
    "ExecuteTime": {
     "end_time": "2023-03-20T13:55:10.920893Z",
     "start_time": "2023-03-20T13:55:10.892470Z"
    },
    "colab": {
     "base_uri": "https://localhost:8080/",
     "height": 424
    },
    "executionInfo": {
     "elapsed": 1103,
     "status": "ok",
     "timestamp": 1678774524486,
     "user": {
      "displayName": "SHIVKUMAR CHAUHAN",
      "userId": "00181769091967804430"
     },
     "user_tz": -330
    },
    "id": "a6eae97f",
    "outputId": "e98e48a7-2148-4ad7-fcce-2287915f0333"
   },
   "outputs": [
    {
     "data": {
      "text/html": [
       "<div>\n",
       "<style scoped>\n",
       "    .dataframe tbody tr th:only-of-type {\n",
       "        vertical-align: middle;\n",
       "    }\n",
       "\n",
       "    .dataframe tbody tr th {\n",
       "        vertical-align: top;\n",
       "    }\n",
       "\n",
       "    .dataframe thead th {\n",
       "        text-align: right;\n",
       "    }\n",
       "</style>\n",
       "<table border=\"1\" class=\"dataframe\">\n",
       "  <thead>\n",
       "    <tr style=\"text-align: right;\">\n",
       "      <th></th>\n",
       "      <th>iso_code</th>\n",
       "      <th>date</th>\n",
       "      <th>continent</th>\n",
       "      <th>location</th>\n",
       "      <th>total_cases</th>\n",
       "      <th>new_cases</th>\n",
       "      <th>total_deaths</th>\n",
       "      <th>new_deaths</th>\n",
       "      <th>population</th>\n",
       "      <th>life_expectancy</th>\n",
       "      <th>death_percentage_for_new_cases</th>\n",
       "    </tr>\n",
       "  </thead>\n",
       "  <tbody>\n",
       "    <tr>\n",
       "      <th>0</th>\n",
       "      <td>OWID_WRL</td>\n",
       "      <td>2020-01-22</td>\n",
       "      <td>World</td>\n",
       "      <td>World</td>\n",
       "      <td>557.0</td>\n",
       "      <td>0.0</td>\n",
       "      <td>17.0</td>\n",
       "      <td>0.0</td>\n",
       "      <td>7.975105e+09</td>\n",
       "      <td>72.58</td>\n",
       "      <td>0.000000</td>\n",
       "    </tr>\n",
       "    <tr>\n",
       "      <th>1</th>\n",
       "      <td>OWID_WRL</td>\n",
       "      <td>2020-01-23</td>\n",
       "      <td>World</td>\n",
       "      <td>World</td>\n",
       "      <td>657.0</td>\n",
       "      <td>100.0</td>\n",
       "      <td>18.0</td>\n",
       "      <td>1.0</td>\n",
       "      <td>7.975105e+09</td>\n",
       "      <td>72.58</td>\n",
       "      <td>1.000000</td>\n",
       "    </tr>\n",
       "    <tr>\n",
       "      <th>2</th>\n",
       "      <td>OWID_WRL</td>\n",
       "      <td>2020-01-24</td>\n",
       "      <td>World</td>\n",
       "      <td>World</td>\n",
       "      <td>944.0</td>\n",
       "      <td>287.0</td>\n",
       "      <td>26.0</td>\n",
       "      <td>8.0</td>\n",
       "      <td>7.975105e+09</td>\n",
       "      <td>72.58</td>\n",
       "      <td>2.787456</td>\n",
       "    </tr>\n",
       "    <tr>\n",
       "      <th>3</th>\n",
       "      <td>OWID_WRL</td>\n",
       "      <td>2020-01-25</td>\n",
       "      <td>World</td>\n",
       "      <td>World</td>\n",
       "      <td>1437.0</td>\n",
       "      <td>493.0</td>\n",
       "      <td>42.0</td>\n",
       "      <td>16.0</td>\n",
       "      <td>7.975105e+09</td>\n",
       "      <td>72.58</td>\n",
       "      <td>3.245436</td>\n",
       "    </tr>\n",
       "    <tr>\n",
       "      <th>4</th>\n",
       "      <td>OWID_WRL</td>\n",
       "      <td>2020-01-26</td>\n",
       "      <td>World</td>\n",
       "      <td>World</td>\n",
       "      <td>2120.0</td>\n",
       "      <td>683.0</td>\n",
       "      <td>56.0</td>\n",
       "      <td>14.0</td>\n",
       "      <td>7.975105e+09</td>\n",
       "      <td>72.58</td>\n",
       "      <td>2.049780</td>\n",
       "    </tr>\n",
       "    <tr>\n",
       "      <th>...</th>\n",
       "      <td>...</td>\n",
       "      <td>...</td>\n",
       "      <td>...</td>\n",
       "      <td>...</td>\n",
       "      <td>...</td>\n",
       "      <td>...</td>\n",
       "      <td>...</td>\n",
       "      <td>...</td>\n",
       "      <td>...</td>\n",
       "      <td>...</td>\n",
       "      <td>...</td>\n",
       "    </tr>\n",
       "    <tr>\n",
       "      <th>1113</th>\n",
       "      <td>OWID_WRL</td>\n",
       "      <td>2023-02-08</td>\n",
       "      <td>World</td>\n",
       "      <td>World</td>\n",
       "      <td>672183247.0</td>\n",
       "      <td>228269.0</td>\n",
       "      <td>6849409.0</td>\n",
       "      <td>1896.0</td>\n",
       "      <td>7.975105e+09</td>\n",
       "      <td>72.58</td>\n",
       "      <td>0.830599</td>\n",
       "    </tr>\n",
       "    <tr>\n",
       "      <th>1114</th>\n",
       "      <td>OWID_WRL</td>\n",
       "      <td>2023-02-09</td>\n",
       "      <td>World</td>\n",
       "      <td>World</td>\n",
       "      <td>672440247.0</td>\n",
       "      <td>257000.0</td>\n",
       "      <td>6851332.0</td>\n",
       "      <td>2259.0</td>\n",
       "      <td>7.975105e+09</td>\n",
       "      <td>72.58</td>\n",
       "      <td>0.878988</td>\n",
       "    </tr>\n",
       "    <tr>\n",
       "      <th>1115</th>\n",
       "      <td>OWID_WRL</td>\n",
       "      <td>2023-02-10</td>\n",
       "      <td>World</td>\n",
       "      <td>World</td>\n",
       "      <td>672581763.0</td>\n",
       "      <td>142758.0</td>\n",
       "      <td>6852711.0</td>\n",
       "      <td>1422.0</td>\n",
       "      <td>7.975105e+09</td>\n",
       "      <td>72.58</td>\n",
       "      <td>0.996091</td>\n",
       "    </tr>\n",
       "    <tr>\n",
       "      <th>1116</th>\n",
       "      <td>OWID_WRL</td>\n",
       "      <td>2023-02-11</td>\n",
       "      <td>World</td>\n",
       "      <td>World</td>\n",
       "      <td>672713246.0</td>\n",
       "      <td>131483.0</td>\n",
       "      <td>6853333.0</td>\n",
       "      <td>622.0</td>\n",
       "      <td>7.975105e+09</td>\n",
       "      <td>72.58</td>\n",
       "      <td>0.473065</td>\n",
       "    </tr>\n",
       "    <tr>\n",
       "      <th>1117</th>\n",
       "      <td>OWID_WRL</td>\n",
       "      <td>2023-02-12</td>\n",
       "      <td>World</td>\n",
       "      <td>World</td>\n",
       "      <td>672789992.0</td>\n",
       "      <td>76746.0</td>\n",
       "      <td>6853702.0</td>\n",
       "      <td>369.0</td>\n",
       "      <td>7.975105e+09</td>\n",
       "      <td>72.58</td>\n",
       "      <td>0.480807</td>\n",
       "    </tr>\n",
       "  </tbody>\n",
       "</table>\n",
       "<p>1118 rows × 11 columns</p>\n",
       "</div>"
      ],
      "text/plain": [
       "      iso_code        date continent location  total_cases  new_cases  \\\n",
       "0     OWID_WRL  2020-01-22     World    World        557.0        0.0   \n",
       "1     OWID_WRL  2020-01-23     World    World        657.0      100.0   \n",
       "2     OWID_WRL  2020-01-24     World    World        944.0      287.0   \n",
       "3     OWID_WRL  2020-01-25     World    World       1437.0      493.0   \n",
       "4     OWID_WRL  2020-01-26     World    World       2120.0      683.0   \n",
       "...        ...         ...       ...      ...          ...        ...   \n",
       "1113  OWID_WRL  2023-02-08     World    World  672183247.0   228269.0   \n",
       "1114  OWID_WRL  2023-02-09     World    World  672440247.0   257000.0   \n",
       "1115  OWID_WRL  2023-02-10     World    World  672581763.0   142758.0   \n",
       "1116  OWID_WRL  2023-02-11     World    World  672713246.0   131483.0   \n",
       "1117  OWID_WRL  2023-02-12     World    World  672789992.0    76746.0   \n",
       "\n",
       "      total_deaths  new_deaths    population  life_expectancy  \\\n",
       "0             17.0         0.0  7.975105e+09            72.58   \n",
       "1             18.0         1.0  7.975105e+09            72.58   \n",
       "2             26.0         8.0  7.975105e+09            72.58   \n",
       "3             42.0        16.0  7.975105e+09            72.58   \n",
       "4             56.0        14.0  7.975105e+09            72.58   \n",
       "...            ...         ...           ...              ...   \n",
       "1113     6849409.0      1896.0  7.975105e+09            72.58   \n",
       "1114     6851332.0      2259.0  7.975105e+09            72.58   \n",
       "1115     6852711.0      1422.0  7.975105e+09            72.58   \n",
       "1116     6853333.0       622.0  7.975105e+09            72.58   \n",
       "1117     6853702.0       369.0  7.975105e+09            72.58   \n",
       "\n",
       "      death_percentage_for_new_cases  \n",
       "0                           0.000000  \n",
       "1                           1.000000  \n",
       "2                           2.787456  \n",
       "3                           3.245436  \n",
       "4                           2.049780  \n",
       "...                              ...  \n",
       "1113                        0.830599  \n",
       "1114                        0.878988  \n",
       "1115                        0.996091  \n",
       "1116                        0.473065  \n",
       "1117                        0.480807  \n",
       "\n",
       "[1118 rows x 11 columns]"
      ]
     },
     "execution_count": 18,
     "metadata": {},
     "output_type": "execute_result"
    }
   ],
   "source": [
    "Main_Data"
   ]
  },
  {
   "cell_type": "markdown",
   "id": "4ba638f5",
   "metadata": {
    "id": "4ba638f5"
   },
   "source": [
    "### 2. Normalization"
   ]
  },
  {
   "cell_type": "code",
   "execution_count": 19,
   "id": "46785ba5",
   "metadata": {
    "ExecuteTime": {
     "end_time": "2023-03-20T13:55:14.530815Z",
     "start_time": "2023-03-20T13:55:14.485231Z"
    },
    "colab": {
     "base_uri": "https://localhost:8080/"
    },
    "executionInfo": {
     "elapsed": 14,
     "status": "ok",
     "timestamp": 1678774524489,
     "user": {
      "displayName": "SHIVKUMAR CHAUHAN",
      "userId": "00181769091967804430"
     },
     "user_tz": -330
    },
    "id": "46785ba5",
    "outputId": "17aec284-939f-4394-ee9c-8793f50f4c46",
    "scrolled": false
   },
   "outputs": [
    {
     "data": {
      "text/plain": [
       "array([[6.98423404e-08, 0.00000000e+00, 2.13163337e-09, ...,\n",
       "        1.00000000e+00, 9.10082059e-09, 0.00000000e+00],\n",
       "       [8.23813602e-08, 1.25390198e-08, 2.25702357e-09, ...,\n",
       "        1.00000000e+00, 9.10082059e-09, 1.25390198e-10],\n",
       "       [1.18368347e-07, 3.59869869e-08, 3.26014515e-09, ...,\n",
       "        1.00000000e+00, 9.10082059e-09, 3.49519716e-10],\n",
       "       ...,\n",
       "       [8.43351606e-02, 1.79004539e-05, 8.59262791e-04, ...,\n",
       "        1.00000000e+00, 9.10082059e-09, 1.24900084e-10],\n",
       "       [8.43516473e-02, 1.64866794e-05, 8.59340784e-04, ...,\n",
       "        1.00000000e+00, 9.10082059e-09, 5.93177090e-11],\n",
       "       [8.43612705e-02, 9.62319615e-06, 8.59387053e-04, ...,\n",
       "        1.00000000e+00, 9.10082059e-09, 6.02884621e-11]])"
      ]
     },
     "execution_count": 19,
     "metadata": {},
     "output_type": "execute_result"
    }
   ],
   "source": [
    "Normalizer.fit_transform(Main_Data[Main_Data.describe().columns])"
   ]
  },
  {
   "cell_type": "markdown",
   "id": "9610ab19",
   "metadata": {
    "id": "9610ab19"
   },
   "source": [
    "### 3. Standardization "
   ]
  },
  {
   "cell_type": "code",
   "execution_count": 20,
   "id": "aeCriuoTq3hz",
   "metadata": {
    "ExecuteTime": {
     "end_time": "2023-03-20T13:55:15.036165Z",
     "start_time": "2023-03-20T13:55:14.996153Z"
    },
    "cell_style": "center",
    "colab": {
     "base_uri": "https://localhost:8080/"
    },
    "executionInfo": {
     "elapsed": 44,
     "status": "ok",
     "timestamp": 1678774525525,
     "user": {
      "displayName": "SHIVKUMAR CHAUHAN",
      "userId": "00181769091967804430"
     },
     "user_tz": -330
    },
    "id": "aeCriuoTq3hz",
    "outputId": "326ace3e-168c-49bd-d189-f0f1604e9c3e"
   },
   "outputs": [
    {
     "data": {
      "text/plain": [
       "array([[0.00000000e+00, 0.00000000e+00, 0.00000000e+00, ...,\n",
       "        0.00000000e+00, 0.00000000e+00, 0.00000000e+00],\n",
       "       [1.48634914e-07, 2.44924611e-05, 1.45906910e-07, ...,\n",
       "        0.00000000e+00, 0.00000000e+00, 3.23881358e-02],\n",
       "       [5.75217118e-07, 7.02933634e-05, 1.31316219e-06, ...,\n",
       "        0.00000000e+00, 0.00000000e+00, 9.02805180e-02],\n",
       "       ...,\n",
       "       [9.99690499e-01, 3.49649476e-02, 9.99855406e-01, ...,\n",
       "        0.00000000e+00, 0.00000000e+00, 3.22615399e-02],\n",
       "       [9.99885929e-01, 3.22034226e-02, 9.99946160e-01, ...,\n",
       "        0.00000000e+00, 0.00000000e+00, 1.53216921e-02],\n",
       "       [1.00000000e+00, 1.87969842e-02, 1.00000000e+00, ...,\n",
       "        0.00000000e+00, 0.00000000e+00, 1.55724365e-02]])"
      ]
     },
     "execution_count": 20,
     "metadata": {},
     "output_type": "execute_result"
    }
   ],
   "source": [
    "MinmaxScaler.fit_transform(Main_Data[Main_Data.describe().columns])"
   ]
  },
  {
   "cell_type": "code",
   "execution_count": 21,
   "id": "Ik_H3Rrgq3lH",
   "metadata": {
    "ExecuteTime": {
     "end_time": "2023-03-20T13:55:15.284891Z",
     "start_time": "2023-03-20T13:55:15.228607Z"
    },
    "colab": {
     "base_uri": "https://localhost:8080/"
    },
    "executionInfo": {
     "elapsed": 42,
     "status": "ok",
     "timestamp": 1678774525526,
     "user": {
      "displayName": "SHIVKUMAR CHAUHAN",
      "userId": "00181769091967804430"
     },
     "user_tz": -330
    },
    "id": "Ik_H3Rrgq3lH",
    "outputId": "6a068f47-7b79-4568-cadd-3b5b1cb059ec"
   },
   "outputs": [
    {
     "data": {
      "text/plain": [
       "array([[-0.42123203, -1.19635576, -0.8462233 , ...,  0.        ,\n",
       "         0.        , -0.84755062],\n",
       "       [-0.42123182, -1.19610739, -0.8462231 , ...,  0.        ,\n",
       "         0.        , -0.30761913],\n",
       "       [-0.42123121, -1.19564295, -0.84622151, ...,  0.        ,\n",
       "         0.        ,  0.65748489],\n",
       "       ...,\n",
       "       [ 0.99709916, -0.84179664,  0.51271203, ...,  0.        ,\n",
       "         0.        , -0.30972957],\n",
       "       [ 0.99737643, -0.86979965,  0.51283538, ...,  0.        ,\n",
       "         0.        , -0.59212795],\n",
       "       [ 0.99753827, -1.00574652,  0.51290855, ...,  0.        ,\n",
       "         0.        , -0.58794788]])"
      ]
     },
     "execution_count": 21,
     "metadata": {},
     "output_type": "execute_result"
    }
   ],
   "source": [
    "RobustScaler.fit_transform(Main_Data[Main_Data.describe().columns])"
   ]
  },
  {
   "cell_type": "code",
   "execution_count": 22,
   "id": "XVCC17O8q3pI",
   "metadata": {
    "ExecuteTime": {
     "end_time": "2023-03-20T13:55:15.551094Z",
     "start_time": "2023-03-20T13:55:15.481780Z"
    },
    "colab": {
     "base_uri": "https://localhost:8080/"
    },
    "executionInfo": {
     "elapsed": 34,
     "status": "ok",
     "timestamp": 1678774525527,
     "user": {
      "displayName": "SHIVKUMAR CHAUHAN",
      "userId": "00181769091967804430"
     },
     "user_tz": -330
    },
    "id": "XVCC17O8q3pI",
    "outputId": "baa513d2-766e-473b-cb18-5a4b0141a65b"
   },
   "outputs": [
    {
     "data": {
      "text/plain": [
       "array([[0.00000000e+00, 0.00000000e+00, 0.00000000e+00, ...,\n",
       "        0.00000000e+00, 0.00000000e+00, 0.00000000e+00],\n",
       "       [7.47574122e-04, 8.19900628e-04, 5.14668039e-04, ...,\n",
       "        0.00000000e+00, 0.00000000e+00, 3.74405632e-01],\n",
       "       [1.68654685e-03, 1.88209602e-03, 1.65279840e-03, ...,\n",
       "        0.00000000e+00, 0.00000000e+00, 8.56972344e-01],\n",
       "       ...,\n",
       "       [9.98222016e-01, 1.38817811e-01, 9.98370977e-01, ...,\n",
       "        0.00000000e+00, 0.00000000e+00, 3.73347151e-01],\n",
       "       [9.99167472e-01, 1.30038797e-01, 9.99165209e-01, ...,\n",
       "        0.00000000e+00, 0.00000000e+00, 3.12778264e-01],\n",
       "       [1.00000000e+00, 7.42457553e-02, 1.00000000e+00, ...,\n",
       "        0.00000000e+00, 0.00000000e+00, 3.16078992e-01]])"
      ]
     },
     "execution_count": 22,
     "metadata": {},
     "output_type": "execute_result"
    }
   ],
   "source": [
    "OuatileScaler.fit_transform(Main_Data[Main_Data.describe().columns])"
   ]
  },
  {
   "cell_type": "code",
   "execution_count": 23,
   "id": "F_-FBYCeq3sQ",
   "metadata": {
    "ExecuteTime": {
     "end_time": "2023-03-20T13:55:15.765476Z",
     "start_time": "2023-03-20T13:55:15.717715Z"
    },
    "colab": {
     "base_uri": "https://localhost:8080/"
    },
    "executionInfo": {
     "elapsed": 30,
     "status": "ok",
     "timestamp": 1678774525529,
     "user": {
      "displayName": "SHIVKUMAR CHAUHAN",
      "userId": "00181769091967804430"
     },
     "user_tz": -330
    },
    "id": "F_-FBYCeq3sQ",
    "outputId": "00bfdadd-a3f0-4e78-e08b-aab54655f82a"
   },
   "outputs": [
    {
     "data": {
      "text/plain": [
       "array([[8.27895787e-07, 0.00000000e+00, 2.48041132e-06, ...,\n",
       "        1.00000000e+00, 1.00000000e+00, 0.00000000e+00],\n",
       "       [9.76530578e-07, 2.44924611e-05, 2.62631786e-06, ...,\n",
       "        1.00000000e+00, 1.00000000e+00, 3.23881358e-02],\n",
       "       [1.40311243e-06, 7.02933634e-05, 3.79357025e-06, ...,\n",
       "        1.00000000e+00, 1.00000000e+00, 9.02805180e-02],\n",
       "       ...,\n",
       "       [9.99690499e-01, 3.49649476e-02, 9.99855407e-01, ...,\n",
       "        1.00000000e+00, 1.00000000e+00, 3.22615399e-02],\n",
       "       [9.99885929e-01, 3.22034226e-02, 9.99946160e-01, ...,\n",
       "        1.00000000e+00, 1.00000000e+00, 1.53216921e-02],\n",
       "       [1.00000000e+00, 1.87969842e-02, 1.00000000e+00, ...,\n",
       "        1.00000000e+00, 1.00000000e+00, 1.55724365e-02]])"
      ]
     },
     "execution_count": 23,
     "metadata": {},
     "output_type": "execute_result"
    }
   ],
   "source": [
    "MaxABSScaler.fit_transform(Main_Data[Main_Data.describe().columns])"
   ]
  },
  {
   "cell_type": "code",
   "execution_count": 24,
   "id": "89103c05",
   "metadata": {
    "ExecuteTime": {
     "end_time": "2023-03-20T13:55:15.995969Z",
     "start_time": "2023-03-20T13:55:15.939610Z"
    },
    "executionInfo": {
     "elapsed": 24,
     "status": "ok",
     "timestamp": 1678774525531,
     "user": {
      "displayName": "SHIVKUMAR CHAUHAN",
      "userId": "00181769091967804430"
     },
     "user_tz": -330
    },
    "id": "89103c05"
   },
   "outputs": [],
   "source": [
    "Main_Data[Main_Data.describe().columns]=StandardScaler.fit_transform(Main_Data[Main_Data.describe().columns])"
   ]
  },
  {
   "cell_type": "code",
   "execution_count": 25,
   "id": "VMiVB5xallrL",
   "metadata": {
    "ExecuteTime": {
     "end_time": "2023-03-20T13:55:16.231962Z",
     "start_time": "2023-03-20T13:55:16.193794Z"
    },
    "colab": {
     "base_uri": "https://localhost:8080/",
     "height": 424
    },
    "executionInfo": {
     "elapsed": 24,
     "status": "ok",
     "timestamp": 1678774525532,
     "user": {
      "displayName": "SHIVKUMAR CHAUHAN",
      "userId": "00181769091967804430"
     },
     "user_tz": -330
    },
    "id": "VMiVB5xallrL",
    "outputId": "a107e2ae-a6c0-4cd3-9ad0-0d755ceb830d"
   },
   "outputs": [
    {
     "data": {
      "text/html": [
       "<div>\n",
       "<style scoped>\n",
       "    .dataframe tbody tr th:only-of-type {\n",
       "        vertical-align: middle;\n",
       "    }\n",
       "\n",
       "    .dataframe tbody tr th {\n",
       "        vertical-align: top;\n",
       "    }\n",
       "\n",
       "    .dataframe thead th {\n",
       "        text-align: right;\n",
       "    }\n",
       "</style>\n",
       "<table border=\"1\" class=\"dataframe\">\n",
       "  <thead>\n",
       "    <tr style=\"text-align: right;\">\n",
       "      <th></th>\n",
       "      <th>iso_code</th>\n",
       "      <th>date</th>\n",
       "      <th>continent</th>\n",
       "      <th>location</th>\n",
       "      <th>total_cases</th>\n",
       "      <th>new_cases</th>\n",
       "      <th>total_deaths</th>\n",
       "      <th>new_deaths</th>\n",
       "      <th>population</th>\n",
       "      <th>life_expectancy</th>\n",
       "      <th>death_percentage_for_new_cases</th>\n",
       "    </tr>\n",
       "  </thead>\n",
       "  <tbody>\n",
       "    <tr>\n",
       "      <th>0</th>\n",
       "      <td>OWID_WRL</td>\n",
       "      <td>2020-01-22</td>\n",
       "      <td>World</td>\n",
       "      <td>World</td>\n",
       "      <td>0.000002</td>\n",
       "      <td>0.000000</td>\n",
       "      <td>0.000007</td>\n",
       "      <td>0.000000</td>\n",
       "      <td>7.975105e+09</td>\n",
       "      <td>72.58</td>\n",
       "      <td>0.000000</td>\n",
       "    </tr>\n",
       "    <tr>\n",
       "      <th>1</th>\n",
       "      <td>OWID_WRL</td>\n",
       "      <td>2020-01-23</td>\n",
       "      <td>World</td>\n",
       "      <td>World</td>\n",
       "      <td>0.000003</td>\n",
       "      <td>0.000169</td>\n",
       "      <td>0.000007</td>\n",
       "      <td>0.000228</td>\n",
       "      <td>7.975105e+09</td>\n",
       "      <td>72.58</td>\n",
       "      <td>0.431239</td>\n",
       "    </tr>\n",
       "    <tr>\n",
       "      <th>2</th>\n",
       "      <td>OWID_WRL</td>\n",
       "      <td>2020-01-24</td>\n",
       "      <td>World</td>\n",
       "      <td>World</td>\n",
       "      <td>0.000004</td>\n",
       "      <td>0.000484</td>\n",
       "      <td>0.000011</td>\n",
       "      <td>0.001823</td>\n",
       "      <td>7.975105e+09</td>\n",
       "      <td>72.58</td>\n",
       "      <td>1.202061</td>\n",
       "    </tr>\n",
       "    <tr>\n",
       "      <th>3</th>\n",
       "      <td>OWID_WRL</td>\n",
       "      <td>2020-01-25</td>\n",
       "      <td>World</td>\n",
       "      <td>World</td>\n",
       "      <td>0.000006</td>\n",
       "      <td>0.000831</td>\n",
       "      <td>0.000017</td>\n",
       "      <td>0.003647</td>\n",
       "      <td>7.975105e+09</td>\n",
       "      <td>72.58</td>\n",
       "      <td>1.399560</td>\n",
       "    </tr>\n",
       "    <tr>\n",
       "      <th>4</th>\n",
       "      <td>OWID_WRL</td>\n",
       "      <td>2020-01-26</td>\n",
       "      <td>World</td>\n",
       "      <td>World</td>\n",
       "      <td>0.000009</td>\n",
       "      <td>0.001151</td>\n",
       "      <td>0.000023</td>\n",
       "      <td>0.003191</td>\n",
       "      <td>7.975105e+09</td>\n",
       "      <td>72.58</td>\n",
       "      <td>0.883946</td>\n",
       "    </tr>\n",
       "    <tr>\n",
       "      <th>...</th>\n",
       "      <td>...</td>\n",
       "      <td>...</td>\n",
       "      <td>...</td>\n",
       "      <td>...</td>\n",
       "      <td>...</td>\n",
       "      <td>...</td>\n",
       "      <td>...</td>\n",
       "      <td>...</td>\n",
       "      <td>...</td>\n",
       "      <td>...</td>\n",
       "      <td>...</td>\n",
       "    </tr>\n",
       "    <tr>\n",
       "      <th>1113</th>\n",
       "      <td>OWID_WRL</td>\n",
       "      <td>2023-02-08</td>\n",
       "      <td>World</td>\n",
       "      <td>World</td>\n",
       "      <td>2.863764</td>\n",
       "      <td>0.384758</td>\n",
       "      <td>2.829794</td>\n",
       "      <td>0.432141</td>\n",
       "      <td>7.975105e+09</td>\n",
       "      <td>72.58</td>\n",
       "      <td>0.358187</td>\n",
       "    </tr>\n",
       "    <tr>\n",
       "      <th>1114</th>\n",
       "      <td>OWID_WRL</td>\n",
       "      <td>2023-02-09</td>\n",
       "      <td>World</td>\n",
       "      <td>World</td>\n",
       "      <td>2.864859</td>\n",
       "      <td>0.433186</td>\n",
       "      <td>2.830588</td>\n",
       "      <td>0.514877</td>\n",
       "      <td>7.975105e+09</td>\n",
       "      <td>72.58</td>\n",
       "      <td>0.379054</td>\n",
       "    </tr>\n",
       "    <tr>\n",
       "      <th>1115</th>\n",
       "      <td>OWID_WRL</td>\n",
       "      <td>2023-02-10</td>\n",
       "      <td>World</td>\n",
       "      <td>World</td>\n",
       "      <td>2.865462</td>\n",
       "      <td>0.240625</td>\n",
       "      <td>2.831158</td>\n",
       "      <td>0.324106</td>\n",
       "      <td>7.975105e+09</td>\n",
       "      <td>72.58</td>\n",
       "      <td>0.429554</td>\n",
       "    </tr>\n",
       "    <tr>\n",
       "      <th>1116</th>\n",
       "      <td>OWID_WRL</td>\n",
       "      <td>2023-02-11</td>\n",
       "      <td>World</td>\n",
       "      <td>World</td>\n",
       "      <td>2.866022</td>\n",
       "      <td>0.221621</td>\n",
       "      <td>2.831415</td>\n",
       "      <td>0.141768</td>\n",
       "      <td>7.975105e+09</td>\n",
       "      <td>72.58</td>\n",
       "      <td>0.204004</td>\n",
       "    </tr>\n",
       "    <tr>\n",
       "      <th>1117</th>\n",
       "      <td>OWID_WRL</td>\n",
       "      <td>2023-02-12</td>\n",
       "      <td>World</td>\n",
       "      <td>World</td>\n",
       "      <td>2.866349</td>\n",
       "      <td>0.129359</td>\n",
       "      <td>2.831567</td>\n",
       "      <td>0.084103</td>\n",
       "      <td>7.975105e+09</td>\n",
       "      <td>72.58</td>\n",
       "      <td>0.207343</td>\n",
       "    </tr>\n",
       "  </tbody>\n",
       "</table>\n",
       "<p>1118 rows × 11 columns</p>\n",
       "</div>"
      ],
      "text/plain": [
       "      iso_code        date continent location  total_cases  new_cases  \\\n",
       "0     OWID_WRL  2020-01-22     World    World     0.000002   0.000000   \n",
       "1     OWID_WRL  2020-01-23     World    World     0.000003   0.000169   \n",
       "2     OWID_WRL  2020-01-24     World    World     0.000004   0.000484   \n",
       "3     OWID_WRL  2020-01-25     World    World     0.000006   0.000831   \n",
       "4     OWID_WRL  2020-01-26     World    World     0.000009   0.001151   \n",
       "...        ...         ...       ...      ...          ...        ...   \n",
       "1113  OWID_WRL  2023-02-08     World    World     2.863764   0.384758   \n",
       "1114  OWID_WRL  2023-02-09     World    World     2.864859   0.433186   \n",
       "1115  OWID_WRL  2023-02-10     World    World     2.865462   0.240625   \n",
       "1116  OWID_WRL  2023-02-11     World    World     2.866022   0.221621   \n",
       "1117  OWID_WRL  2023-02-12     World    World     2.866349   0.129359   \n",
       "\n",
       "      total_deaths  new_deaths    population  life_expectancy  \\\n",
       "0         0.000007    0.000000  7.975105e+09            72.58   \n",
       "1         0.000007    0.000228  7.975105e+09            72.58   \n",
       "2         0.000011    0.001823  7.975105e+09            72.58   \n",
       "3         0.000017    0.003647  7.975105e+09            72.58   \n",
       "4         0.000023    0.003191  7.975105e+09            72.58   \n",
       "...            ...         ...           ...              ...   \n",
       "1113      2.829794    0.432141  7.975105e+09            72.58   \n",
       "1114      2.830588    0.514877  7.975105e+09            72.58   \n",
       "1115      2.831158    0.324106  7.975105e+09            72.58   \n",
       "1116      2.831415    0.141768  7.975105e+09            72.58   \n",
       "1117      2.831567    0.084103  7.975105e+09            72.58   \n",
       "\n",
       "      death_percentage_for_new_cases  \n",
       "0                           0.000000  \n",
       "1                           0.431239  \n",
       "2                           1.202061  \n",
       "3                           1.399560  \n",
       "4                           0.883946  \n",
       "...                              ...  \n",
       "1113                        0.358187  \n",
       "1114                        0.379054  \n",
       "1115                        0.429554  \n",
       "1116                        0.204004  \n",
       "1117                        0.207343  \n",
       "\n",
       "[1118 rows x 11 columns]"
      ]
     },
     "execution_count": 25,
     "metadata": {},
     "output_type": "execute_result"
    }
   ],
   "source": [
    "Main_Data"
   ]
  },
  {
   "cell_type": "code",
   "execution_count": 26,
   "id": "N1q1B6-GwPNT",
   "metadata": {
    "ExecuteTime": {
     "end_time": "2023-03-20T13:55:16.448803Z",
     "start_time": "2023-03-20T13:55:16.429694Z"
    },
    "executionInfo": {
     "elapsed": 1735,
     "status": "ok",
     "timestamp": 1678774527895,
     "user": {
      "displayName": "SHIVKUMAR CHAUHAN",
      "userId": "00181769091967804430"
     },
     "user_tz": -330
    },
    "id": "N1q1B6-GwPNT",
    "run_control": {
     "marked": true
    }
   },
   "outputs": [],
   "source": [
    "BackupData=Main_Data.copy()"
   ]
  },
  {
   "cell_type": "markdown",
   "id": "a3b70c58",
   "metadata": {
    "id": "a3b70c58"
   },
   "source": [
    "## 1. Data Reduction"
   ]
  },
  {
   "cell_type": "markdown",
   "id": "c7d358f5",
   "metadata": {
    "id": "c7d358f5"
   },
   "source": [
    "### Dimensionality Reduction using PCA"
   ]
  },
  {
   "cell_type": "code",
   "execution_count": 27,
   "id": "hLwBOViemDQy",
   "metadata": {
    "ExecuteTime": {
     "end_time": "2023-03-20T13:55:17.212851Z",
     "start_time": "2023-03-20T13:55:17.191192Z"
    },
    "executionInfo": {
     "elapsed": 1479,
     "status": "ok",
     "timestamp": 1678774554663,
     "user": {
      "displayName": "SHIVKUMAR CHAUHAN",
      "userId": "00181769091967804430"
     },
     "user_tz": -330
    },
    "id": "hLwBOViemDQy"
   },
   "outputs": [],
   "source": [
    "Principal_Component_Analyser=PCA(n_components=1)"
   ]
  },
  {
   "cell_type": "code",
   "execution_count": 28,
   "id": "O6VHDNkhmeT9",
   "metadata": {
    "ExecuteTime": {
     "end_time": "2023-03-20T13:55:17.470080Z",
     "start_time": "2023-03-20T13:55:17.429212Z"
    },
    "executionInfo": {
     "elapsed": 4,
     "status": "ok",
     "timestamp": 1678774555824,
     "user": {
      "displayName": "SHIVKUMAR CHAUHAN",
      "userId": "00181769091967804430"
     },
     "user_tz": -330
    },
    "id": "O6VHDNkhmeT9"
   },
   "outputs": [],
   "source": [
    "Component_Data=Principal_Component_Analyser.fit_transform(Main_Data[['total_deaths','new_cases']])"
   ]
  },
  {
   "cell_type": "code",
   "execution_count": 29,
   "id": "ouxgTRCFmfTO",
   "metadata": {
    "ExecuteTime": {
     "end_time": "2023-03-20T13:55:17.719741Z",
     "start_time": "2023-03-20T13:55:17.700140Z"
    },
    "colab": {
     "base_uri": "https://localhost:8080/"
    },
    "executionInfo": {
     "elapsed": 8,
     "status": "ok",
     "timestamp": 1678774556987,
     "user": {
      "displayName": "SHIVKUMAR CHAUHAN",
      "userId": "00181769091967804430"
     },
     "user_tz": -330
    },
    "id": "ouxgTRCFmfTO",
    "outputId": "7ea08cd8-a1d3-4ac4-982a-dfb6a74bd8e0"
   },
   "outputs": [
    {
     "data": {
      "text/plain": [
       "array([[-1.82551906],\n",
       "       [-1.82539958],\n",
       "       [-1.82517436],\n",
       "       ...,\n",
       "       [ 0.3465549 ],\n",
       "       [ 0.33329836],\n",
       "       [ 0.26816718]])"
      ]
     },
     "execution_count": 29,
     "metadata": {},
     "output_type": "execute_result"
    }
   ],
   "source": [
    "Component_Data"
   ]
  },
  {
   "cell_type": "code",
   "execution_count": 30,
   "id": "XtlpdgJjogg_",
   "metadata": {
    "ExecuteTime": {
     "end_time": "2023-03-20T13:55:18.345390Z",
     "start_time": "2023-03-20T13:55:17.959849Z"
    },
    "colab": {
     "base_uri": "https://localhost:8080/",
     "height": 718
    },
    "executionInfo": {
     "elapsed": 23,
     "status": "ok",
     "timestamp": 1678774559984,
     "user": {
      "displayName": "SHIVKUMAR CHAUHAN",
      "userId": "00181769091967804430"
     },
     "user_tz": -330
    },
    "id": "XtlpdgJjogg_",
    "outputId": "a4d5a90d-f766-4d20-fcdf-88e4955b80e1"
   },
   "outputs": [
    {
     "data": {
      "text/plain": [
       "<matplotlib.collections.PathCollection at 0x2bca6c8dd20>"
      ]
     },
     "execution_count": 30,
     "metadata": {},
     "output_type": "execute_result"
    },
    {
     "data": {
      "image/png": "[encoded data removed]",
      "text/plain": [
       "<Figure size 640x480 with 1 Axes>"
      ]
     },
     "metadata": {},
     "output_type": "display_data"
    }
   ],
   "source": [
    "pyplot.scatter(x=[i for i in range(1,len(Main_Data)+1)],y=Main_Data['total_deaths'])\n",
    "pyplot.scatter(x=[i for i in range(1,len(Main_Data)+1)],y=Main_Data['new_cases'])"
   ]
  },
  {
   "cell_type": "code",
   "execution_count": 31,
   "id": "20NIdSqpmfV8",
   "metadata": {
    "ExecuteTime": {
     "end_time": "2023-03-20T13:55:18.616216Z",
     "start_time": "2023-03-20T13:55:18.349719Z"
    },
    "colab": {
     "base_uri": "https://localhost:8080/",
     "height": 722
    },
    "executionInfo": {
     "elapsed": 19,
     "status": "ok",
     "timestamp": 1678774559985,
     "user": {
      "displayName": "SHIVKUMAR CHAUHAN",
      "userId": "00181769091967804430"
     },
     "user_tz": -330
    },
    "id": "20NIdSqpmfV8",
    "outputId": "9e021efb-3fe5-4f6d-db16-fe0766cea731"
   },
   "outputs": [
    {
     "data": {
      "text/plain": [
       "<matplotlib.collections.PathCollection at 0x2bca6fae890>"
      ]
     },
     "execution_count": 31,
     "metadata": {},
     "output_type": "execute_result"
    },
    {
     "data": {
      "image/png": "[encoded data removed]",
      "text/plain": [
       "<Figure size 640x480 with 1 Axes>"
      ]
     },
     "metadata": {},
     "output_type": "display_data"
    }
   ],
   "source": [
    "pyplot.scatter(x=[i for i in range(1,len(Main_Data)+1)],y=Component_Data[:,0])"
   ]
  },
  {
   "cell_type": "markdown",
   "id": "hKolymaRsIlq",
   "metadata": {
    "id": "hKolymaRsIlq"
   },
   "source": [
    "# Testing by Linear Regression"
   ]
  },
  {
   "cell_type": "markdown",
   "id": "V4bTWlyPtGbH",
   "metadata": {
    "id": "V4bTWlyPtGbH"
   },
   "source": [
    "## using Data that not transformed"
   ]
  },
  {
   "cell_type": "code",
   "execution_count": 32,
   "id": "ecAdQ2gxsQp1",
   "metadata": {
    "ExecuteTime": {
     "end_time": "2023-03-20T13:55:18.951548Z",
     "start_time": "2023-03-20T13:55:18.932156Z"
    },
    "cell_style": "split",
    "executionInfo": {
     "elapsed": 5,
     "status": "ok",
     "timestamp": 1678774569105,
     "user": {
      "displayName": "SHIVKUMAR CHAUHAN",
      "userId": "00181769091967804430"
     },
     "user_tz": -330
    },
    "id": "ecAdQ2gxsQp1"
   },
   "outputs": [],
   "source": [
    "from sklearn.linear_model import LinearRegression"
   ]
  },
  {
   "cell_type": "code",
   "execution_count": 33,
   "id": "8LDyByLJsRyB",
   "metadata": {
    "ExecuteTime": {
     "end_time": "2023-03-20T13:55:19.184869Z",
     "start_time": "2023-03-20T13:55:19.168509Z"
    },
    "cell_style": "split",
    "executionInfo": {
     "elapsed": 4,
     "status": "ok",
     "timestamp": 1678774569105,
     "user": {
      "displayName": "SHIVKUMAR CHAUHAN",
      "userId": "00181769091967804430"
     },
     "user_tz": -330
    },
    "id": "8LDyByLJsRyB"
   },
   "outputs": [],
   "source": [
    "linear_regression_model=LinearRegression()"
   ]
  },
  {
   "cell_type": "code",
   "execution_count": 34,
   "id": "XaSDeeU7sR27",
   "metadata": {
    "ExecuteTime": {
     "end_time": "2023-03-20T13:55:19.432937Z",
     "start_time": "2023-03-20T13:55:19.392227Z"
    },
    "cell_style": "center",
    "colab": {
     "base_uri": "https://localhost:8080/",
     "height": 75
    },
    "executionInfo": {
     "elapsed": 1163,
     "status": "ok",
     "timestamp": 1678774588410,
     "user": {
      "displayName": "SHIVKUMAR CHAUHAN",
      "userId": "00181769091967804430"
     },
     "user_tz": -330
    },
    "id": "XaSDeeU7sR27",
    "outputId": "c64abd3d-37a7-4cff-e435-00e5658ee786"
   },
   "outputs": [
    {
     "data": {
      "text/html": [
       "<style>#sk-container-id-1 {color: black;background-color: white;}#sk-container-id-1 pre{padding: 0;}#sk-container-id-1 div.sk-toggleable {background-color: white;}#sk-container-id-1 label.sk-toggleable__label {cursor: pointer;display: block;width: 100%;margin-bottom: 0;padding: 0.3em;box-sizing: border-box;text-align: center;}#sk-container-id-1 label.sk-toggleable__label-arrow:before {content: \"▸\";float: left;margin-right: 0.25em;color: #696969;}#sk-container-id-1 label.sk-toggleable__label-arrow:hover:before {color: black;}#sk-container-id-1 div.sk-estimator:hover label.sk-toggleable__label-arrow:before {color: black;}#sk-container-id-1 div.sk-toggleable__content {max-height: 0;max-width: 0;overflow: hidden;text-align: left;background-color: #f0f8ff;}#sk-container-id-1 div.sk-toggleable__content pre {margin: 0.2em;color: black;border-radius: 0.25em;background-color: #f0f8ff;}#sk-container-id-1 input.sk-toggleable__control:checked~div.sk-toggleable__content {max-height: 200px;max-width: 100%;overflow: auto;}#sk-container-id-1 input.sk-toggleable__control:checked~label.sk-toggleable__label-arrow:before {content: \"▾\";}#sk-container-id-1 div.sk-estimator input.sk-toggleable__control:checked~label.sk-toggleable__label {background-color: #d4ebff;}#sk-container-id-1 div.sk-label input.sk-toggleable__control:checked~label.sk-toggleable__label {background-color: #d4ebff;}#sk-container-id-1 input.sk-hidden--visually {border: 0;clip: rect(1px 1px 1px 1px);clip: rect(1px, 1px, 1px, 1px);height: 1px;margin: -1px;overflow: hidden;padding: 0;position: absolute;width: 1px;}#sk-container-id-1 div.sk-estimator {font-family: monospace;background-color: #f0f8ff;border: 1px dotted black;border-radius: 0.25em;box-sizing: border-box;margin-bottom: 0.5em;}#sk-container-id-1 div.sk-estimator:hover {background-color: #d4ebff;}#sk-container-id-1 div.sk-parallel-item::after {content: \"\";width: 100%;border-bottom: 1px solid gray;flex-grow: 1;}#sk-container-id-1 div.sk-label:hover label.sk-toggleable__label {background-color: #d4ebff;}#sk-container-id-1 div.sk-serial::before {content: \"\";position: absolute;border-left: 1px solid gray;box-sizing: border-box;top: 0;bottom: 0;left: 50%;z-index: 0;}#sk-container-id-1 div.sk-serial {display: flex;flex-direction: column;align-items: center;background-color: white;padding-right: 0.2em;padding-left: 0.2em;position: relative;}#sk-container-id-1 div.sk-item {position: relative;z-index: 1;}#sk-container-id-1 div.sk-parallel {display: flex;align-items: stretch;justify-content: center;background-color: white;position: relative;}#sk-container-id-1 div.sk-item::before, #sk-container-id-1 div.sk-parallel-item::before {content: \"\";position: absolute;border-left: 1px solid gray;box-sizing: border-box;top: 0;bottom: 0;left: 50%;z-index: -1;}#sk-container-id-1 div.sk-parallel-item {display: flex;flex-direction: column;z-index: 1;position: relative;background-color: white;}#sk-container-id-1 div.sk-parallel-item:first-child::after {align-self: flex-end;width: 50%;}#sk-container-id-1 div.sk-parallel-item:last-child::after {align-self: flex-start;width: 50%;}#sk-container-id-1 div.sk-parallel-item:only-child::after {width: 0;}#sk-container-id-1 div.sk-dashed-wrapped {border: 1px dashed gray;margin: 0 0.4em 0.5em 0.4em;box-sizing: border-box;padding-bottom: 0.4em;background-color: white;}#sk-container-id-1 div.sk-label label {font-family: monospace;font-weight: bold;display: inline-block;line-height: 1.2em;}#sk-container-id-1 div.sk-label-container {text-align: center;}#sk-container-id-1 div.sk-container {/* jupyter's `normalize.less` sets `[hidden] { display: none; }` but bootstrap.min.css set `[hidden] { display: none !important; }` so we also need the `!important` here to be able to override the default hidden behavior on the sphinx rendered scikit-learn.org. See: https://github.com/scikit-learn/scikit-learn/issues/21755 */display: inline-block !important;position: relative;}#sk-container-id-1 div.sk-text-repr-fallback {display: none;}</style><div id=\"sk-container-id-1\" class=\"sk-top-container\"><div class=\"sk-text-repr-fallback\"><pre>LinearRegression()</pre><b>In a Jupyter environment, please rerun this cell to show the HTML representation or trust the notebook. <br />On GitHub, the HTML representation is unable to render, please try loading this page with nbviewer.org.</b></div><div class=\"sk-container\" hidden><div class=\"sk-item\"><div class=\"sk-estimator sk-toggleable\"><input class=\"sk-toggleable__control sk-hidden--visually\" id=\"sk-estimator-id-1\" type=\"checkbox\" checked><label for=\"sk-estimator-id-1\" class=\"sk-toggleable__label sk-toggleable__label-arrow\">LinearRegression</label><div class=\"sk-toggleable__content\"><pre>LinearRegression()</pre></div></div></div></div></div>"
      ],
      "text/plain": [
       "LinearRegression()"
      ]
     },
     "execution_count": 34,
     "metadata": {},
     "output_type": "execute_result"
    }
   ],
   "source": [
    "linear_regression_model.fit(\n",
    "    BackupData[['total_deaths','new_cases']].to_numpy(),    BackupData['new_deaths']\n",
    ")"
   ]
  },
  {
   "cell_type": "code",
   "execution_count": 35,
   "id": "UZ-V0HkZsR74",
   "metadata": {
    "ExecuteTime": {
     "end_time": "2023-03-20T13:55:19.672945Z",
     "start_time": "2023-03-20T13:55:19.646793Z"
    },
    "colab": {
     "base_uri": "https://localhost:8080/"
    },
    "executionInfo": {
     "elapsed": 7,
     "status": "ok",
     "timestamp": 1678774596044,
     "user": {
      "displayName": "SHIVKUMAR CHAUHAN",
      "userId": "00181769091967804430"
     },
     "user_tz": -330
    },
    "id": "UZ-V0HkZsR74",
    "outputId": "860e6587-ada0-4cb1-dd73-710bc2a13e46"
   },
   "outputs": [
    {
     "data": {
      "text/plain": [
       "array([1.58439527, 1.58446467, 1.58459344, ..., 0.57936144, 0.57141902,\n",
       "       0.53328791])"
      ]
     },
     "execution_count": 35,
     "metadata": {},
     "output_type": "execute_result"
    }
   ],
   "source": [
    "linear_regression_model.predict(BackupData[['total_deaths','new_cases']])"
   ]
  },
  {
   "cell_type": "code",
   "execution_count": 36,
   "id": "be88a446",
   "metadata": {
    "ExecuteTime": {
     "end_time": "2023-03-20T13:55:19.917106Z",
     "start_time": "2023-03-20T13:55:19.887588Z"
    }
   },
   "outputs": [
    {
     "data": {
      "text/plain": [
       "(array([-0.39006305,  0.41264773]), 1.5843980137343299)"
      ]
     },
     "execution_count": 36,
     "metadata": {},
     "output_type": "execute_result"
    }
   ],
   "source": [
    "linear_regression_model.coef_,linear_regression_model.intercept_"
   ]
  },
  {
   "cell_type": "code",
   "execution_count": 37,
   "id": "04b45413",
   "metadata": {
    "ExecuteTime": {
     "end_time": "2023-03-20T13:55:21.075905Z",
     "start_time": "2023-03-20T13:55:20.112789Z"
    }
   },
   "outputs": [
    {
     "data": {
      "image/png": "[encoded data removed]",
      "text/plain": [
       "<Figure size 640x480 with 1 Axes>"
      ]
     },
     "metadata": {},
     "output_type": "display_data"
    }
   ],
   "source": [
    "X,Y = numpy.meshgrid(BackupData['total_deaths'],BackupData['new_cases'])\n",
    "Z = linear_regression_model.intercept_ + linear_regression_model.coef_[1]*X+linear_regression_model.coef_[1]*Y\n",
    "plotter = pyplot.subplot(projection='3d')\n",
    "\n",
    "plotter.plot_surface(X, Y, Z)\n",
    "plotter.scatter3D(BackupData['total_deaths'],BackupData['new_cases'],BackupData['new_deaths'])\n",
    "plotter.set_xlabel('total_deaths')\n",
    "plotter.set_ylabel('new_cases')\n",
    "plotter.set_zlabel('new_deaths')\n",
    "plotter.view_init(0, 250)"
   ]
  },
  {
   "cell_type": "code",
   "execution_count": 38,
   "id": "bd093c21",
   "metadata": {
    "ExecuteTime": {
     "end_time": "2023-03-20T13:55:21.093825Z",
     "start_time": "2023-03-20T13:55:21.079688Z"
    }
   },
   "outputs": [
    {
     "data": {
      "text/plain": [
       "array([1.60451472])"
      ]
     },
     "execution_count": 38,
     "metadata": {},
     "output_type": "execute_result"
    }
   ],
   "source": [
    "linear_regression_model.predict([BackupData[['total_deaths','new_cases']].iloc[100,:]])"
   ]
  },
  {
   "cell_type": "markdown",
   "id": "Ws-R21ITtLrA",
   "metadata": {
    "id": "Ws-R21ITtLrA"
   },
   "source": [
    "## Using Data That is transformed"
   ]
  },
  {
   "cell_type": "code",
   "execution_count": 39,
   "id": "7OJf0ot5xN0b",
   "metadata": {
    "ExecuteTime": {
     "end_time": "2023-03-20T13:55:21.115545Z",
     "start_time": "2023-03-20T13:55:21.098075Z"
    },
    "executionInfo": {
     "elapsed": 4,
     "status": "ok",
     "timestamp": 1678774717075,
     "user": {
      "displayName": "SHIVKUMAR CHAUHAN",
      "userId": "00181769091967804430"
     },
     "user_tz": -330
    },
    "id": "7OJf0ot5xN0b"
   },
   "outputs": [],
   "source": [
    "Component_Data_Serial=[i[0] for i in Component_Data]"
   ]
  },
  {
   "cell_type": "code",
   "execution_count": 40,
   "id": "kLseXfZLtSsM",
   "metadata": {
    "ExecuteTime": {
     "end_time": "2023-03-20T13:55:21.155535Z",
     "start_time": "2023-03-20T13:55:21.129868Z"
    },
    "executionInfo": {
     "elapsed": 992,
     "status": "ok",
     "timestamp": 1678774617114,
     "user": {
      "displayName": "SHIVKUMAR CHAUHAN",
      "userId": "00181769091967804430"
     },
     "user_tz": -330
    },
    "id": "kLseXfZLtSsM"
   },
   "outputs": [],
   "source": [
    "linear_regression_model_for_transformed_data=LinearRegression()"
   ]
  },
  {
   "cell_type": "code",
   "execution_count": 41,
   "id": "8yj1awafvyJV",
   "metadata": {
    "ExecuteTime": {
     "end_time": "2023-03-20T13:55:21.367079Z",
     "start_time": "2023-03-20T13:55:21.344110Z"
    },
    "id": "8yj1awafvyJV"
   },
   "outputs": [
    {
     "data": {
      "text/html": [
       "<style>#sk-container-id-2 {color: black;background-color: white;}#sk-container-id-2 pre{padding: 0;}#sk-container-id-2 div.sk-toggleable {background-color: white;}#sk-container-id-2 label.sk-toggleable__label {cursor: pointer;display: block;width: 100%;margin-bottom: 0;padding: 0.3em;box-sizing: border-box;text-align: center;}#sk-container-id-2 label.sk-toggleable__label-arrow:before {content: \"▸\";float: left;margin-right: 0.25em;color: #696969;}#sk-container-id-2 label.sk-toggleable__label-arrow:hover:before {color: black;}#sk-container-id-2 div.sk-estimator:hover label.sk-toggleable__label-arrow:before {color: black;}#sk-container-id-2 div.sk-toggleable__content {max-height: 0;max-width: 0;overflow: hidden;text-align: left;background-color: #f0f8ff;}#sk-container-id-2 div.sk-toggleable__content pre {margin: 0.2em;color: black;border-radius: 0.25em;background-color: #f0f8ff;}#sk-container-id-2 input.sk-toggleable__control:checked~div.sk-toggleable__content {max-height: 200px;max-width: 100%;overflow: auto;}#sk-container-id-2 input.sk-toggleable__control:checked~label.sk-toggleable__label-arrow:before {content: \"▾\";}#sk-container-id-2 div.sk-estimator input.sk-toggleable__control:checked~label.sk-toggleable__label {background-color: #d4ebff;}#sk-container-id-2 div.sk-label input.sk-toggleable__control:checked~label.sk-toggleable__label {background-color: #d4ebff;}#sk-container-id-2 input.sk-hidden--visually {border: 0;clip: rect(1px 1px 1px 1px);clip: rect(1px, 1px, 1px, 1px);height: 1px;margin: -1px;overflow: hidden;padding: 0;position: absolute;width: 1px;}#sk-container-id-2 div.sk-estimator {font-family: monospace;background-color: #f0f8ff;border: 1px dotted black;border-radius: 0.25em;box-sizing: border-box;margin-bottom: 0.5em;}#sk-container-id-2 div.sk-estimator:hover {background-color: #d4ebff;}#sk-container-id-2 div.sk-parallel-item::after {content: \"\";width: 100%;border-bottom: 1px solid gray;flex-grow: 1;}#sk-container-id-2 div.sk-label:hover label.sk-toggleable__label {background-color: #d4ebff;}#sk-container-id-2 div.sk-serial::before {content: \"\";position: absolute;border-left: 1px solid gray;box-sizing: border-box;top: 0;bottom: 0;left: 50%;z-index: 0;}#sk-container-id-2 div.sk-serial {display: flex;flex-direction: column;align-items: center;background-color: white;padding-right: 0.2em;padding-left: 0.2em;position: relative;}#sk-container-id-2 div.sk-item {position: relative;z-index: 1;}#sk-container-id-2 div.sk-parallel {display: flex;align-items: stretch;justify-content: center;background-color: white;position: relative;}#sk-container-id-2 div.sk-item::before, #sk-container-id-2 div.sk-parallel-item::before {content: \"\";position: absolute;border-left: 1px solid gray;box-sizing: border-box;top: 0;bottom: 0;left: 50%;z-index: -1;}#sk-container-id-2 div.sk-parallel-item {display: flex;flex-direction: column;z-index: 1;position: relative;background-color: white;}#sk-container-id-2 div.sk-parallel-item:first-child::after {align-self: flex-end;width: 50%;}#sk-container-id-2 div.sk-parallel-item:last-child::after {align-self: flex-start;width: 50%;}#sk-container-id-2 div.sk-parallel-item:only-child::after {width: 0;}#sk-container-id-2 div.sk-dashed-wrapped {border: 1px dashed gray;margin: 0 0.4em 0.5em 0.4em;box-sizing: border-box;padding-bottom: 0.4em;background-color: white;}#sk-container-id-2 div.sk-label label {font-family: monospace;font-weight: bold;display: inline-block;line-height: 1.2em;}#sk-container-id-2 div.sk-label-container {text-align: center;}#sk-container-id-2 div.sk-container {/* jupyter's `normalize.less` sets `[hidden] { display: none; }` but bootstrap.min.css set `[hidden] { display: none !important; }` so we also need the `!important` here to be able to override the default hidden behavior on the sphinx rendered scikit-learn.org. See: https://github.com/scikit-learn/scikit-learn/issues/21755 */display: inline-block !important;position: relative;}#sk-container-id-2 div.sk-text-repr-fallback {display: none;}</style><div id=\"sk-container-id-2\" class=\"sk-top-container\"><div class=\"sk-text-repr-fallback\"><pre>LinearRegression()</pre><b>In a Jupyter environment, please rerun this cell to show the HTML representation or trust the notebook. <br />On GitHub, the HTML representation is unable to render, please try loading this page with nbviewer.org.</b></div><div class=\"sk-container\" hidden><div class=\"sk-item\"><div class=\"sk-estimator sk-toggleable\"><input class=\"sk-toggleable__control sk-hidden--visually\" id=\"sk-estimator-id-2\" type=\"checkbox\" checked><label for=\"sk-estimator-id-2\" class=\"sk-toggleable__label sk-toggleable__label-arrow\">LinearRegression</label><div class=\"sk-toggleable__content\"><pre>LinearRegression()</pre></div></div></div></div></div>"
      ],
      "text/plain": [
       "LinearRegression()"
      ]
     },
     "execution_count": 41,
     "metadata": {},
     "output_type": "execute_result"
    }
   ],
   "source": [
    "linear_regression_model_for_transformed_data.fit(\n",
    "    pandas.DataFrame(Component_Data_Serial),Main_Data['new_deaths'].to_numpy()\n",
    ")"
   ]
  },
  {
   "cell_type": "code",
   "execution_count": 42,
   "id": "cxnUNY5CvyMA",
   "metadata": {
    "ExecuteTime": {
     "end_time": "2023-03-20T13:55:21.585810Z",
     "start_time": "2023-03-20T13:55:21.572241Z"
    },
    "colab": {
     "base_uri": "https://localhost:8080/"
    },
    "executionInfo": {
     "elapsed": 5,
     "status": "ok",
     "timestamp": 1678774629734,
     "user": {
      "displayName": "SHIVKUMAR CHAUHAN",
      "userId": "00181769091967804430"
     },
     "user_tz": -330
    },
    "id": "cxnUNY5CvyMA",
    "outputId": "1326847f-16a4-40a8-a05f-cbaf0d3ac799"
   },
   "outputs": [
    {
     "data": {
      "text/plain": [
       "array([1.36050359, 1.3605055 , 1.3605091 , ..., 1.39519114, 1.39497944,\n",
       "       1.39393931])"
      ]
     },
     "execution_count": 42,
     "metadata": {},
     "output_type": "execute_result"
    }
   ],
   "source": [
    "linear_regression_model_for_transformed_data.predict(pandas.DataFrame(Component_Data_Serial))"
   ]
  },
  {
   "cell_type": "code",
   "execution_count": 43,
   "id": "6fcb7a72",
   "metadata": {
    "ExecuteTime": {
     "end_time": "2023-03-20T13:55:21.814274Z",
     "start_time": "2023-03-20T13:55:21.803448Z"
    }
   },
   "outputs": [
    {
     "data": {
      "text/plain": [
       "(array([0.01596978]), 1.3896567367954817)"
      ]
     },
     "execution_count": 43,
     "metadata": {},
     "output_type": "execute_result"
    }
   ],
   "source": [
    "linear_regression_model_for_transformed_data.coef_,linear_regression_model_for_transformed_data.intercept_"
   ]
  },
  {
   "cell_type": "code",
   "execution_count": 44,
   "id": "0b77f38d",
   "metadata": {
    "ExecuteTime": {
     "end_time": "2023-03-20T13:55:22.293596Z",
     "start_time": "2023-03-20T13:55:22.032364Z"
    },
    "cell_style": "center"
   },
   "outputs": [
    {
     "data": {
      "text/plain": [
       "[<matplotlib.lines.Line2D at 0x2bca7be92a0>]"
      ]
     },
     "execution_count": 44,
     "metadata": {},
     "output_type": "execute_result"
    },
    {
     "data": {
      "image/png": "[encoded data removed]",
      "text/plain": [
       "<Figure size 640x480 with 1 Axes>"
      ]
     },
     "metadata": {},
     "output_type": "display_data"
    }
   ],
   "source": [
    "pyplot.plot(Component_Data_Serial,linear_regression_model_for_transformed_data.predict(pandas.DataFrame(Component_Data_Serial)))\n",
    "pyplot.plot(Component_Data_Serial,BackupData['new_deaths'])"
   ]
  },
  {
   "cell_type": "markdown",
   "id": "ec658c63",
   "metadata": {},
   "source": [
    "## Following Both shows the increasing trend in values by linear regression fit on data before and after the Transformation"
   ]
  },
  {
   "cell_type": "code",
   "execution_count": 45,
   "id": "f045a62f",
   "metadata": {
    "ExecuteTime": {
     "end_time": "2023-03-20T13:55:23.756437Z",
     "start_time": "2023-03-20T13:55:22.524166Z"
    },
    "cell_style": "split"
   },
   "outputs": [
    {
     "data": {
      "text/plain": [
       "<mpl_toolkits.mplot3d.art3d.Poly3DCollection at 0x2bca94d58a0>"
      ]
     },
     "execution_count": 45,
     "metadata": {},
     "output_type": "execute_result"
    },
    {
     "data": {
      "image/png": "[encoded data removed]",
      "text/plain": [
       "<Figure size 640x480 with 1 Axes>"
      ]
     },
     "metadata": {},
     "output_type": "display_data"
    }
   ],
   "source": [
    "X,Y = numpy.meshgrid(BackupData['total_deaths'],BackupData['new_cases'])\n",
    "Z = linear_regression_model.intercept_ + linear_regression_model.coef_[1]*X+linear_regression_model.coef_[1]*Y\n",
    "pyplot.figure().add_subplot(projection='3d').plot_surface(X, Y, Z)"
   ]
  },
  {
   "cell_type": "code",
   "execution_count": 46,
   "id": "925d422a",
   "metadata": {
    "ExecuteTime": {
     "end_time": "2023-03-20T13:55:24.336875Z",
     "start_time": "2023-03-20T13:55:23.763992Z"
    },
    "cell_style": "split"
   },
   "outputs": [
    {
     "data": {
      "text/plain": [
       "[<matplotlib.lines.Line2D at 0x2bca7390ee0>]"
      ]
     },
     "execution_count": 46,
     "metadata": {},
     "output_type": "execute_result"
    },
    {
     "data": {
      "image/png": "[encoded data removed]",
      "text/plain": [
       "<Figure size 640x480 with 1 Axes>"
      ]
     },
     "metadata": {},
     "output_type": "display_data"
    }
   ],
   "source": [
    "pyplot.plot(Component_Data_Serial,linear_regression_model_for_transformed_data.predict(pandas.DataFrame(Component_Data_Serial)))"
   ]
  }
 ],
 "metadata": {
  "celltoolbar": "Initialization Cell",
  "colab": {
   "provenance": [],
   "toc_visible": true
  },
  "hide_input": false,
  "kernelspec": {
   "display_name": "Python 3 (ipykernel)",
   "language": "python",
   "name": "python3"
  },
  "language_info": {
   "codemirror_mode": {
    "name": "ipython",
    "version": 3
   },
   "file_extension": ".py",
   "mimetype": "text/x-python",
   "name": "python",
   "nbconvert_exporter": "python",
   "pygments_lexer": "ipython3",
   "version": "3.10.8"
  }
 },
 "nbformat": 4,
 "nbformat_minor": 5
}
