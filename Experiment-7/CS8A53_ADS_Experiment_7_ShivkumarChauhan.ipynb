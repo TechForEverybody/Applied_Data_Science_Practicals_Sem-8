{
 "cells": [
  {
   "cell_type": "markdown",
   "id": "fc241e48",
   "metadata": {
    "id": "fc241e48"
   },
   "source": [
    "## Name: Shivkumar G. Chauhan\n",
    "### Roll No.: CS8A53\n",
    "### Batch A-3\n",
    "---\n",
    "# Experiment - 7 :Use SMOTE technique to generate synthetic data. (to solve the problem of class imbalance)"
   ]
  },
  {
   "cell_type": "markdown",
   "id": "a9f0f032",
   "metadata": {
    "id": "a9f0f032"
   },
   "source": [
    "## imports"
   ]
  },
  {
   "cell_type": "code",
   "execution_count": 34,
   "id": "IAN0ukSrIjTp",
   "metadata": {
    "ExecuteTime": {
     "end_time": "2023-03-31T02:31:32.739454Z",
     "start_time": "2023-03-31T02:31:32.726226Z"
    },
    "executionInfo": {
     "elapsed": 665,
     "status": "ok",
     "timestamp": 1676398575924,
     "user": {
      "displayName": "SHIVKUMAR CHAUHAN",
      "userId": "00181769091967804430"
     },
     "user_tz": 480
    },
    "id": "IAN0ukSrIjTp",
    "init_cell": true
   },
   "outputs": [],
   "source": [
    "import pandas\n",
    "import numpy\n",
    "import warnings\n",
    "import matplotlib.pyplot as pyplot\n",
    "import seaborn\n",
    "from sklearn.linear_model import LogisticRegression\n",
    "from sklearn.metrics import confusion_matrix,classification_report\n",
    "from imblearn.over_sampling import SMOTE\n",
    "import random"
   ]
  },
  {
   "cell_type": "markdown",
   "id": "4fe11c98",
   "metadata": {
    "deletable": false,
    "editable": false,
    "id": "4fe11c98"
   },
   "source": [
    "## Configurations"
   ]
  },
  {
   "cell_type": "code",
   "execution_count": 54,
   "id": "00656aad",
   "metadata": {
    "ExecuteTime": {
     "end_time": "2023-02-17T17:56:20.868741Z",
     "start_time": "2023-02-17T17:56:20.850648Z"
    },
    "cell_style": "split"
   },
   "outputs": [],
   "source": [
    "# %matplotlib qt\n",
    "%matplotlib inline\n",
    "pyplot.rcParams[\"figure.figsize\"] = (15, 12)"
   ]
  },
  {
   "cell_type": "markdown",
   "id": "ad9baca7",
   "metadata": {
    "cell_style": "split",
    "id": "ad9baca7"
   },
   "source": [
    "hiding warnings"
   ]
  },
  {
   "cell_type": "code",
   "execution_count": 3,
   "id": "c3820cab",
   "metadata": {
    "ExecuteTime": {
     "end_time": "2023-03-31T02:10:55.471211Z",
     "start_time": "2023-03-31T02:10:55.453533Z"
    },
    "cell_style": "split",
    "deletable": false,
    "editable": false,
    "executionInfo": {
     "elapsed": 379,
     "status": "ok",
     "timestamp": 1676398638406,
     "user": {
      "displayName": "SHIVKUMAR CHAUHAN",
      "userId": "00181769091967804430"
     },
     "user_tz": 480
    },
    "id": "c3820cab",
    "init_cell": true
   },
   "outputs": [],
   "source": [
    "warnings.filterwarnings('ignore')"
   ]
  },
  {
   "cell_type": "markdown",
   "id": "390de5c8",
   "metadata": {
    "cell_style": "center"
   },
   "source": [
    "Initializing Functions"
   ]
  },
  {
   "cell_type": "code",
   "execution_count": 57,
   "id": "23bf487f",
   "metadata": {
    "ExecuteTime": {
     "end_time": "2023-03-31T02:40:15.225027Z",
     "start_time": "2023-03-31T02:40:15.204656Z"
    }
   },
   "outputs": [],
   "source": [
    "def getClassificationEvaluation(actuals:list,predictions:list,labels:list):\n",
    "    classification_data=confusion_matrix(\n",
    "    actuals,\n",
    "    predictions\n",
    "    )\n",
    "    seaborn.heatmap(classification_data,annot=True,xticklabels=labels, yticklabels=labels)\n",
    "    pyplot.show()\n",
    "    print(classification_report(actuals,predictions\n",
    "    ))"
   ]
  },
  {
   "cell_type": "markdown",
   "id": "465956c5",
   "metadata": {
    "cell_style": "center",
    "id": "465956c5"
   },
   "source": [
    "reading dataset"
   ]
  },
  {
   "cell_type": "code",
   "execution_count": 37,
   "id": "4AnwaYobJBtV",
   "metadata": {
    "ExecuteTime": {
     "end_time": "2023-03-31T02:32:16.454769Z",
     "start_time": "2023-03-31T02:32:16.435045Z"
    },
    "cell_style": "center",
    "executionInfo": {
     "elapsed": 3418,
     "status": "ok",
     "timestamp": 1676398682063,
     "user": {
      "displayName": "SHIVKUMAR CHAUHAN",
      "userId": "00181769091967804430"
     },
     "user_tz": 480
    },
    "id": "4AnwaYobJBtV",
    "init_cell": true
   },
   "outputs": [],
   "source": [
    "Raw_Data=pandas.read_csv(\"./heart_failure_clinical_records_dataset.csv\")"
   ]
  },
  {
   "cell_type": "markdown",
   "id": "61a2ede7",
   "metadata": {
    "id": "61a2ede7"
   },
   "source": [
    "# Data Exploration"
   ]
  },
  {
   "cell_type": "markdown",
   "id": "19721a79",
   "metadata": {
    "id": "19721a79"
   },
   "source": [
    "## Raw Data"
   ]
  },
  {
   "cell_type": "markdown",
   "id": "16356f4f",
   "metadata": {
    "id": "16356f4f"
   },
   "source": [
    "printing Checking of Raw dataset"
   ]
  },
  {
   "cell_type": "code",
   "execution_count": 38,
   "id": "fc16f867",
   "metadata": {
    "ExecuteTime": {
     "end_time": "2023-03-31T02:32:17.785455Z",
     "start_time": "2023-03-31T02:32:17.754964Z"
    },
    "colab": {
     "base_uri": "https://localhost:8080/",
     "height": 505
    },
    "executionInfo": {
     "elapsed": 861,
     "status": "ok",
     "timestamp": 1676400289341,
     "user": {
      "displayName": "SHIVKUMAR CHAUHAN",
      "userId": "00181769091967804430"
     },
     "user_tz": 480
    },
    "id": "fc16f867",
    "outputId": "1e569350-7b04-464b-beeb-e09cc1b3204d"
   },
   "outputs": [
    {
     "data": {
      "text/html": [
       "<div>\n",
       "<style scoped>\n",
       "    .dataframe tbody tr th:only-of-type {\n",
       "        vertical-align: middle;\n",
       "    }\n",
       "\n",
       "    .dataframe tbody tr th {\n",
       "        vertical-align: top;\n",
       "    }\n",
       "\n",
       "    .dataframe thead th {\n",
       "        text-align: right;\n",
       "    }\n",
       "</style>\n",
       "<table border=\"1\" class=\"dataframe\">\n",
       "  <thead>\n",
       "    <tr style=\"text-align: right;\">\n",
       "      <th></th>\n",
       "      <th>age</th>\n",
       "      <th>anaemia</th>\n",
       "      <th>creatinine_phosphokinase</th>\n",
       "      <th>diabetes</th>\n",
       "      <th>ejection_fraction</th>\n",
       "      <th>high_blood_pressure</th>\n",
       "      <th>platelets</th>\n",
       "      <th>serum_creatinine</th>\n",
       "      <th>serum_sodium</th>\n",
       "      <th>sex</th>\n",
       "      <th>smoking</th>\n",
       "      <th>time</th>\n",
       "      <th>DEATH_EVENT</th>\n",
       "    </tr>\n",
       "  </thead>\n",
       "  <tbody>\n",
       "    <tr>\n",
       "      <th>0</th>\n",
       "      <td>75.0</td>\n",
       "      <td>0</td>\n",
       "      <td>582</td>\n",
       "      <td>0</td>\n",
       "      <td>20</td>\n",
       "      <td>1</td>\n",
       "      <td>265000.00</td>\n",
       "      <td>1.9</td>\n",
       "      <td>130</td>\n",
       "      <td>1</td>\n",
       "      <td>0</td>\n",
       "      <td>4</td>\n",
       "      <td>1</td>\n",
       "    </tr>\n",
       "    <tr>\n",
       "      <th>1</th>\n",
       "      <td>55.0</td>\n",
       "      <td>0</td>\n",
       "      <td>7861</td>\n",
       "      <td>0</td>\n",
       "      <td>38</td>\n",
       "      <td>0</td>\n",
       "      <td>263358.03</td>\n",
       "      <td>1.1</td>\n",
       "      <td>136</td>\n",
       "      <td>1</td>\n",
       "      <td>0</td>\n",
       "      <td>6</td>\n",
       "      <td>1</td>\n",
       "    </tr>\n",
       "    <tr>\n",
       "      <th>2</th>\n",
       "      <td>65.0</td>\n",
       "      <td>0</td>\n",
       "      <td>146</td>\n",
       "      <td>0</td>\n",
       "      <td>20</td>\n",
       "      <td>0</td>\n",
       "      <td>162000.00</td>\n",
       "      <td>1.3</td>\n",
       "      <td>129</td>\n",
       "      <td>1</td>\n",
       "      <td>1</td>\n",
       "      <td>7</td>\n",
       "      <td>1</td>\n",
       "    </tr>\n",
       "    <tr>\n",
       "      <th>3</th>\n",
       "      <td>50.0</td>\n",
       "      <td>1</td>\n",
       "      <td>111</td>\n",
       "      <td>0</td>\n",
       "      <td>20</td>\n",
       "      <td>0</td>\n",
       "      <td>210000.00</td>\n",
       "      <td>1.9</td>\n",
       "      <td>137</td>\n",
       "      <td>1</td>\n",
       "      <td>0</td>\n",
       "      <td>7</td>\n",
       "      <td>1</td>\n",
       "    </tr>\n",
       "    <tr>\n",
       "      <th>4</th>\n",
       "      <td>65.0</td>\n",
       "      <td>1</td>\n",
       "      <td>160</td>\n",
       "      <td>1</td>\n",
       "      <td>20</td>\n",
       "      <td>0</td>\n",
       "      <td>327000.00</td>\n",
       "      <td>2.7</td>\n",
       "      <td>116</td>\n",
       "      <td>0</td>\n",
       "      <td>0</td>\n",
       "      <td>8</td>\n",
       "      <td>1</td>\n",
       "    </tr>\n",
       "  </tbody>\n",
       "</table>\n",
       "</div>"
      ],
      "text/plain": [
       "    age  anaemia  creatinine_phosphokinase  diabetes  ejection_fraction  \\\n",
       "0  75.0        0                       582         0                 20   \n",
       "1  55.0        0                      7861         0                 38   \n",
       "2  65.0        0                       146         0                 20   \n",
       "3  50.0        1                       111         0                 20   \n",
       "4  65.0        1                       160         1                 20   \n",
       "\n",
       "   high_blood_pressure  platelets  serum_creatinine  serum_sodium  sex  \\\n",
       "0                    1  265000.00               1.9           130    1   \n",
       "1                    0  263358.03               1.1           136    1   \n",
       "2                    0  162000.00               1.3           129    1   \n",
       "3                    0  210000.00               1.9           137    1   \n",
       "4                    0  327000.00               2.7           116    0   \n",
       "\n",
       "   smoking  time  DEATH_EVENT  \n",
       "0        0     4            1  \n",
       "1        0     6            1  \n",
       "2        1     7            1  \n",
       "3        0     7            1  \n",
       "4        0     8            1  "
      ]
     },
     "execution_count": 38,
     "metadata": {},
     "output_type": "execute_result"
    }
   ],
   "source": [
    "Raw_Data.head()"
   ]
  },
  {
   "cell_type": "markdown",
   "id": "301cee4b",
   "metadata": {
    "id": "301cee4b"
   },
   "source": [
    "printing different statistics of dataset like mean, quantiles, min, max etc."
   ]
  },
  {
   "cell_type": "code",
   "execution_count": 39,
   "id": "JnmklR96PK5H",
   "metadata": {
    "ExecuteTime": {
     "end_time": "2023-03-31T02:32:18.575796Z",
     "start_time": "2023-03-31T02:32:18.447378Z"
    },
    "colab": {
     "base_uri": "https://localhost:8080/",
     "height": 488
    },
    "executionInfo": {
     "elapsed": 489,
     "status": "ok",
     "timestamp": 1676400307920,
     "user": {
      "displayName": "SHIVKUMAR CHAUHAN",
      "userId": "00181769091967804430"
     },
     "user_tz": 480
    },
    "id": "JnmklR96PK5H",
    "outputId": "fd512ed4-1494-4a10-a110-a7dc3a94fa5f",
    "scrolled": false
   },
   "outputs": [
    {
     "data": {
      "text/html": [
       "<div>\n",
       "<style scoped>\n",
       "    .dataframe tbody tr th:only-of-type {\n",
       "        vertical-align: middle;\n",
       "    }\n",
       "\n",
       "    .dataframe tbody tr th {\n",
       "        vertical-align: top;\n",
       "    }\n",
       "\n",
       "    .dataframe thead th {\n",
       "        text-align: right;\n",
       "    }\n",
       "</style>\n",
       "<table border=\"1\" class=\"dataframe\">\n",
       "  <thead>\n",
       "    <tr style=\"text-align: right;\">\n",
       "      <th></th>\n",
       "      <th>age</th>\n",
       "      <th>anaemia</th>\n",
       "      <th>creatinine_phosphokinase</th>\n",
       "      <th>diabetes</th>\n",
       "      <th>ejection_fraction</th>\n",
       "      <th>high_blood_pressure</th>\n",
       "      <th>platelets</th>\n",
       "      <th>serum_creatinine</th>\n",
       "      <th>serum_sodium</th>\n",
       "      <th>sex</th>\n",
       "      <th>smoking</th>\n",
       "      <th>time</th>\n",
       "      <th>DEATH_EVENT</th>\n",
       "    </tr>\n",
       "  </thead>\n",
       "  <tbody>\n",
       "    <tr>\n",
       "      <th>count</th>\n",
       "      <td>299.000000</td>\n",
       "      <td>299.000000</td>\n",
       "      <td>299.000000</td>\n",
       "      <td>299.000000</td>\n",
       "      <td>299.000000</td>\n",
       "      <td>299.000000</td>\n",
       "      <td>299.000000</td>\n",
       "      <td>299.00000</td>\n",
       "      <td>299.000000</td>\n",
       "      <td>299.000000</td>\n",
       "      <td>299.00000</td>\n",
       "      <td>299.000000</td>\n",
       "      <td>299.00000</td>\n",
       "    </tr>\n",
       "    <tr>\n",
       "      <th>mean</th>\n",
       "      <td>60.833893</td>\n",
       "      <td>0.431438</td>\n",
       "      <td>581.839465</td>\n",
       "      <td>0.418060</td>\n",
       "      <td>38.083612</td>\n",
       "      <td>0.351171</td>\n",
       "      <td>263358.029264</td>\n",
       "      <td>1.39388</td>\n",
       "      <td>136.625418</td>\n",
       "      <td>0.648829</td>\n",
       "      <td>0.32107</td>\n",
       "      <td>130.260870</td>\n",
       "      <td>0.32107</td>\n",
       "    </tr>\n",
       "    <tr>\n",
       "      <th>std</th>\n",
       "      <td>11.894809</td>\n",
       "      <td>0.496107</td>\n",
       "      <td>970.287881</td>\n",
       "      <td>0.494067</td>\n",
       "      <td>11.834841</td>\n",
       "      <td>0.478136</td>\n",
       "      <td>97804.236869</td>\n",
       "      <td>1.03451</td>\n",
       "      <td>4.412477</td>\n",
       "      <td>0.478136</td>\n",
       "      <td>0.46767</td>\n",
       "      <td>77.614208</td>\n",
       "      <td>0.46767</td>\n",
       "    </tr>\n",
       "    <tr>\n",
       "      <th>min</th>\n",
       "      <td>40.000000</td>\n",
       "      <td>0.000000</td>\n",
       "      <td>23.000000</td>\n",
       "      <td>0.000000</td>\n",
       "      <td>14.000000</td>\n",
       "      <td>0.000000</td>\n",
       "      <td>25100.000000</td>\n",
       "      <td>0.50000</td>\n",
       "      <td>113.000000</td>\n",
       "      <td>0.000000</td>\n",
       "      <td>0.00000</td>\n",
       "      <td>4.000000</td>\n",
       "      <td>0.00000</td>\n",
       "    </tr>\n",
       "    <tr>\n",
       "      <th>25%</th>\n",
       "      <td>51.000000</td>\n",
       "      <td>0.000000</td>\n",
       "      <td>116.500000</td>\n",
       "      <td>0.000000</td>\n",
       "      <td>30.000000</td>\n",
       "      <td>0.000000</td>\n",
       "      <td>212500.000000</td>\n",
       "      <td>0.90000</td>\n",
       "      <td>134.000000</td>\n",
       "      <td>0.000000</td>\n",
       "      <td>0.00000</td>\n",
       "      <td>73.000000</td>\n",
       "      <td>0.00000</td>\n",
       "    </tr>\n",
       "    <tr>\n",
       "      <th>50%</th>\n",
       "      <td>60.000000</td>\n",
       "      <td>0.000000</td>\n",
       "      <td>250.000000</td>\n",
       "      <td>0.000000</td>\n",
       "      <td>38.000000</td>\n",
       "      <td>0.000000</td>\n",
       "      <td>262000.000000</td>\n",
       "      <td>1.10000</td>\n",
       "      <td>137.000000</td>\n",
       "      <td>1.000000</td>\n",
       "      <td>0.00000</td>\n",
       "      <td>115.000000</td>\n",
       "      <td>0.00000</td>\n",
       "    </tr>\n",
       "    <tr>\n",
       "      <th>75%</th>\n",
       "      <td>70.000000</td>\n",
       "      <td>1.000000</td>\n",
       "      <td>582.000000</td>\n",
       "      <td>1.000000</td>\n",
       "      <td>45.000000</td>\n",
       "      <td>1.000000</td>\n",
       "      <td>303500.000000</td>\n",
       "      <td>1.40000</td>\n",
       "      <td>140.000000</td>\n",
       "      <td>1.000000</td>\n",
       "      <td>1.00000</td>\n",
       "      <td>203.000000</td>\n",
       "      <td>1.00000</td>\n",
       "    </tr>\n",
       "    <tr>\n",
       "      <th>max</th>\n",
       "      <td>95.000000</td>\n",
       "      <td>1.000000</td>\n",
       "      <td>7861.000000</td>\n",
       "      <td>1.000000</td>\n",
       "      <td>80.000000</td>\n",
       "      <td>1.000000</td>\n",
       "      <td>850000.000000</td>\n",
       "      <td>9.40000</td>\n",
       "      <td>148.000000</td>\n",
       "      <td>1.000000</td>\n",
       "      <td>1.00000</td>\n",
       "      <td>285.000000</td>\n",
       "      <td>1.00000</td>\n",
       "    </tr>\n",
       "  </tbody>\n",
       "</table>\n",
       "</div>"
      ],
      "text/plain": [
       "              age     anaemia  creatinine_phosphokinase    diabetes  \\\n",
       "count  299.000000  299.000000                299.000000  299.000000   \n",
       "mean    60.833893    0.431438                581.839465    0.418060   \n",
       "std     11.894809    0.496107                970.287881    0.494067   \n",
       "min     40.000000    0.000000                 23.000000    0.000000   \n",
       "25%     51.000000    0.000000                116.500000    0.000000   \n",
       "50%     60.000000    0.000000                250.000000    0.000000   \n",
       "75%     70.000000    1.000000                582.000000    1.000000   \n",
       "max     95.000000    1.000000               7861.000000    1.000000   \n",
       "\n",
       "       ejection_fraction  high_blood_pressure      platelets  \\\n",
       "count         299.000000           299.000000     299.000000   \n",
       "mean           38.083612             0.351171  263358.029264   \n",
       "std            11.834841             0.478136   97804.236869   \n",
       "min            14.000000             0.000000   25100.000000   \n",
       "25%            30.000000             0.000000  212500.000000   \n",
       "50%            38.000000             0.000000  262000.000000   \n",
       "75%            45.000000             1.000000  303500.000000   \n",
       "max            80.000000             1.000000  850000.000000   \n",
       "\n",
       "       serum_creatinine  serum_sodium         sex    smoking        time  \\\n",
       "count         299.00000    299.000000  299.000000  299.00000  299.000000   \n",
       "mean            1.39388    136.625418    0.648829    0.32107  130.260870   \n",
       "std             1.03451      4.412477    0.478136    0.46767   77.614208   \n",
       "min             0.50000    113.000000    0.000000    0.00000    4.000000   \n",
       "25%             0.90000    134.000000    0.000000    0.00000   73.000000   \n",
       "50%             1.10000    137.000000    1.000000    0.00000  115.000000   \n",
       "75%             1.40000    140.000000    1.000000    1.00000  203.000000   \n",
       "max             9.40000    148.000000    1.000000    1.00000  285.000000   \n",
       "\n",
       "       DEATH_EVENT  \n",
       "count    299.00000  \n",
       "mean       0.32107  \n",
       "std        0.46767  \n",
       "min        0.00000  \n",
       "25%        0.00000  \n",
       "50%        0.00000  \n",
       "75%        1.00000  \n",
       "max        1.00000  "
      ]
     },
     "execution_count": 39,
     "metadata": {},
     "output_type": "execute_result"
    }
   ],
   "source": [
    "Raw_Data.describe(include=\"all\")"
   ]
  },
  {
   "cell_type": "code",
   "execution_count": 40,
   "id": "0bb961ae",
   "metadata": {
    "ExecuteTime": {
     "end_time": "2023-03-31T02:32:18.836853Z",
     "start_time": "2023-03-31T02:32:18.822850Z"
    }
   },
   "outputs": [
    {
     "data": {
      "text/plain": [
       "0    203\n",
       "1     96\n",
       "Name: DEATH_EVENT, dtype: int64"
      ]
     },
     "execution_count": 40,
     "metadata": {},
     "output_type": "execute_result"
    }
   ],
   "source": [
    "Raw_Data['DEATH_EVENT'].value_counts()"
   ]
  },
  {
   "cell_type": "code",
   "execution_count": 41,
   "id": "b5fc08c6",
   "metadata": {
    "ExecuteTime": {
     "end_time": "2023-03-31T02:32:19.678360Z",
     "start_time": "2023-03-31T02:32:19.508597Z"
    }
   },
   "outputs": [
    {
     "data": {
      "text/plain": [
       "<AxesSubplot: xlabel='DEATH_EVENT', ylabel='count'>"
      ]
     },
     "execution_count": 41,
     "metadata": {},
     "output_type": "execute_result"
    },
    {
     "data": {
      "image/png": "[encoded data removed]",
      "text/plain": [
       "<Figure size 640x480 with 1 Axes>"
      ]
     },
     "metadata": {},
     "output_type": "display_data"
    }
   ],
   "source": [
    "seaborn.countplot(x=Raw_Data['DEATH_EVENT'])"
   ]
  },
  {
   "cell_type": "code",
   "execution_count": 106,
   "id": "e92b1eb1",
   "metadata": {
    "ExecuteTime": {
     "end_time": "2023-03-31T02:49:13.854749Z",
     "start_time": "2023-03-31T02:49:13.839309Z"
    }
   },
   "outputs": [],
   "source": [
    "Raw_Data=Raw_Data.sample(frac=1)"
   ]
  },
  {
   "cell_type": "code",
   "execution_count": 107,
   "id": "ccd8c3b3",
   "metadata": {
    "ExecuteTime": {
     "end_time": "2023-03-31T02:49:14.271385Z",
     "start_time": "2023-03-31T02:49:14.256850Z"
    }
   },
   "outputs": [],
   "source": [
    "Training_Features=Raw_Data.drop(['DEATH_EVENT'],axis=1)\n",
    "Training_Labels=Raw_Data['DEATH_EVENT']"
   ]
  },
  {
   "cell_type": "markdown",
   "id": "183f04a4",
   "metadata": {},
   "source": [
    "## Classes are unbalanced"
   ]
  },
  {
   "cell_type": "markdown",
   "id": "8f5aa618",
   "metadata": {},
   "source": [
    "# Applying SMOTE on Dataset"
   ]
  },
  {
   "cell_type": "code",
   "execution_count": 70,
   "id": "6c80d99e",
   "metadata": {
    "ExecuteTime": {
     "end_time": "2023-03-31T02:44:51.819046Z",
     "start_time": "2023-03-31T02:44:51.810076Z"
    }
   },
   "outputs": [],
   "source": [
    "smote=SMOTE()"
   ]
  },
  {
   "cell_type": "code",
   "execution_count": 71,
   "id": "b743e37a",
   "metadata": {
    "ExecuteTime": {
     "end_time": "2023-03-31T02:44:52.258963Z",
     "start_time": "2023-03-31T02:44:52.227146Z"
    }
   },
   "outputs": [],
   "source": [
    "New_Features,New_Labels=smote.fit_resample(Training_Features,Training_Labels)"
   ]
  },
  {
   "cell_type": "code",
   "execution_count": 72,
   "id": "78d8053c",
   "metadata": {
    "ExecuteTime": {
     "end_time": "2023-03-31T02:44:54.194966Z",
     "start_time": "2023-03-31T02:44:54.176906Z"
    }
   },
   "outputs": [
    {
     "data": {
      "text/plain": [
       "406"
      ]
     },
     "execution_count": 72,
     "metadata": {},
     "output_type": "execute_result"
    }
   ],
   "source": [
    "len(New_Labels)"
   ]
  },
  {
   "cell_type": "code",
   "execution_count": 73,
   "id": "a401b92b",
   "metadata": {
    "ExecuteTime": {
     "end_time": "2023-03-31T02:44:54.932300Z",
     "start_time": "2023-03-31T02:44:54.908567Z"
    }
   },
   "outputs": [
    {
     "data": {
      "text/plain": [
       "0    203\n",
       "1    203\n",
       "Name: DEATH_EVENT, dtype: int64"
      ]
     },
     "execution_count": 73,
     "metadata": {},
     "output_type": "execute_result"
    }
   ],
   "source": [
    "New_Labels.value_counts()"
   ]
  },
  {
   "cell_type": "code",
   "execution_count": 74,
   "id": "43cf5ff2",
   "metadata": {
    "ExecuteTime": {
     "end_time": "2023-03-31T02:44:56.413476Z",
     "start_time": "2023-03-31T02:44:56.231945Z"
    },
    "scrolled": false
   },
   "outputs": [
    {
     "data": {
      "text/plain": [
       "<AxesSubplot: xlabel='DEATH_EVENT', ylabel='count'>"
      ]
     },
     "execution_count": 74,
     "metadata": {},
     "output_type": "execute_result"
    },
    {
     "data": {
      "image/png": "[encoded data removed]",
      "text/plain": [
       "<Figure size 640x480 with 1 Axes>"
      ]
     },
     "metadata": {},
     "output_type": "display_data"
    }
   ],
   "source": [
    "seaborn.countplot(x=New_Labels)"
   ]
  },
  {
   "cell_type": "code",
   "execution_count": 98,
   "id": "d9bb2c07",
   "metadata": {
    "ExecuteTime": {
     "end_time": "2023-03-31T02:48:55.910798Z",
     "start_time": "2023-03-31T02:48:55.891921Z"
    }
   },
   "outputs": [],
   "source": [
    "New_Data=New_Features\n",
    "New_Data['DEATH_EVENT']=New_Labels\n",
    "New_Data=New_Data.sample(frac=1)\n",
    "New_Features=New_Data.drop(['DEATH_EVENT'],axis=1)\n",
    "New_Labels=New_Data['DEATH_EVENT']"
   ]
  },
  {
   "cell_type": "markdown",
   "id": "20004c63",
   "metadata": {},
   "source": [
    "# Testing by Applying Model"
   ]
  },
  {
   "cell_type": "code",
   "execution_count": 32,
   "id": "fd4a8856",
   "metadata": {
    "ExecuteTime": {
     "end_time": "2023-03-31T02:27:01.201390Z",
     "start_time": "2023-03-31T02:27:01.189065Z"
    }
   },
   "outputs": [],
   "source": [
    "logistic_regression_model_for_before_smote=LogisticRegression()\n",
    "logistic_regression_model_for_after_smote=LogisticRegression()"
   ]
  },
  {
   "cell_type": "markdown",
   "id": "eaaa2b74",
   "metadata": {
    "cell_style": "split"
   },
   "source": [
    "### Before SMOTE"
   ]
  },
  {
   "cell_type": "markdown",
   "id": "a2aaacd5",
   "metadata": {
    "cell_style": "split"
   },
   "source": [
    "### After SMOTE"
   ]
  },
  {
   "cell_type": "code",
   "execution_count": 108,
   "id": "a9a1ed28",
   "metadata": {
    "ExecuteTime": {
     "end_time": "2023-03-31T02:49:18.673674Z",
     "start_time": "2023-03-31T02:49:18.655007Z"
    },
    "cell_style": "split"
   },
   "outputs": [],
   "source": [
    "Training_Limit=int(0.8*(len(Training_Features)))"
   ]
  },
  {
   "cell_type": "code",
   "execution_count": 99,
   "id": "2613dda7",
   "metadata": {
    "ExecuteTime": {
     "end_time": "2023-03-31T02:48:58.777770Z",
     "start_time": "2023-03-31T02:48:58.762784Z"
    },
    "cell_style": "split"
   },
   "outputs": [],
   "source": [
    "New_Training_Limit=int(0.8*(len(New_Features)))"
   ]
  },
  {
   "cell_type": "code",
   "execution_count": 109,
   "id": "73438486",
   "metadata": {
    "ExecuteTime": {
     "end_time": "2023-03-31T02:49:21.297721Z",
     "start_time": "2023-03-31T02:49:21.275283Z"
    },
    "cell_style": "split"
   },
   "outputs": [
    {
     "data": {
      "text/plain": [
       "239"
      ]
     },
     "execution_count": 109,
     "metadata": {},
     "output_type": "execute_result"
    }
   ],
   "source": [
    "Training_Limit"
   ]
  },
  {
   "cell_type": "code",
   "execution_count": 101,
   "id": "2b463975",
   "metadata": {
    "ExecuteTime": {
     "end_time": "2023-03-31T02:48:59.465065Z",
     "start_time": "2023-03-31T02:48:59.452311Z"
    },
    "cell_style": "split"
   },
   "outputs": [
    {
     "data": {
      "text/plain": [
       "324"
      ]
     },
     "execution_count": 101,
     "metadata": {},
     "output_type": "execute_result"
    }
   ],
   "source": [
    "New_Training_Limit"
   ]
  },
  {
   "cell_type": "code",
   "execution_count": 110,
   "id": "758b45c8",
   "metadata": {
    "ExecuteTime": {
     "end_time": "2023-03-31T02:49:23.670239Z",
     "start_time": "2023-03-31T02:49:23.621614Z"
    },
    "cell_style": "split"
   },
   "outputs": [
    {
     "data": {
      "text/html": [
       "<style>#sk-container-id-10 {color: black;background-color: white;}#sk-container-id-10 pre{padding: 0;}#sk-container-id-10 div.sk-toggleable {background-color: white;}#sk-container-id-10 label.sk-toggleable__label {cursor: pointer;display: block;width: 100%;margin-bottom: 0;padding: 0.3em;box-sizing: border-box;text-align: center;}#sk-container-id-10 label.sk-toggleable__label-arrow:before {content: \"▸\";float: left;margin-right: 0.25em;color: #696969;}#sk-container-id-10 label.sk-toggleable__label-arrow:hover:before {color: black;}#sk-container-id-10 div.sk-estimator:hover label.sk-toggleable__label-arrow:before {color: black;}#sk-container-id-10 div.sk-toggleable__content {max-height: 0;max-width: 0;overflow: hidden;text-align: left;background-color: #f0f8ff;}#sk-container-id-10 div.sk-toggleable__content pre {margin: 0.2em;color: black;border-radius: 0.25em;background-color: #f0f8ff;}#sk-container-id-10 input.sk-toggleable__control:checked~div.sk-toggleable__content {max-height: 200px;max-width: 100%;overflow: auto;}#sk-container-id-10 input.sk-toggleable__control:checked~label.sk-toggleable__label-arrow:before {content: \"▾\";}#sk-container-id-10 div.sk-estimator input.sk-toggleable__control:checked~label.sk-toggleable__label {background-color: #d4ebff;}#sk-container-id-10 div.sk-label input.sk-toggleable__control:checked~label.sk-toggleable__label {background-color: #d4ebff;}#sk-container-id-10 input.sk-hidden--visually {border: 0;clip: rect(1px 1px 1px 1px);clip: rect(1px, 1px, 1px, 1px);height: 1px;margin: -1px;overflow: hidden;padding: 0;position: absolute;width: 1px;}#sk-container-id-10 div.sk-estimator {font-family: monospace;background-color: #f0f8ff;border: 1px dotted black;border-radius: 0.25em;box-sizing: border-box;margin-bottom: 0.5em;}#sk-container-id-10 div.sk-estimator:hover {background-color: #d4ebff;}#sk-container-id-10 div.sk-parallel-item::after {content: \"\";width: 100%;border-bottom: 1px solid gray;flex-grow: 1;}#sk-container-id-10 div.sk-label:hover label.sk-toggleable__label {background-color: #d4ebff;}#sk-container-id-10 div.sk-serial::before {content: \"\";position: absolute;border-left: 1px solid gray;box-sizing: border-box;top: 0;bottom: 0;left: 50%;z-index: 0;}#sk-container-id-10 div.sk-serial {display: flex;flex-direction: column;align-items: center;background-color: white;padding-right: 0.2em;padding-left: 0.2em;position: relative;}#sk-container-id-10 div.sk-item {position: relative;z-index: 1;}#sk-container-id-10 div.sk-parallel {display: flex;align-items: stretch;justify-content: center;background-color: white;position: relative;}#sk-container-id-10 div.sk-item::before, #sk-container-id-10 div.sk-parallel-item::before {content: \"\";position: absolute;border-left: 1px solid gray;box-sizing: border-box;top: 0;bottom: 0;left: 50%;z-index: -1;}#sk-container-id-10 div.sk-parallel-item {display: flex;flex-direction: column;z-index: 1;position: relative;background-color: white;}#sk-container-id-10 div.sk-parallel-item:first-child::after {align-self: flex-end;width: 50%;}#sk-container-id-10 div.sk-parallel-item:last-child::after {align-self: flex-start;width: 50%;}#sk-container-id-10 div.sk-parallel-item:only-child::after {width: 0;}#sk-container-id-10 div.sk-dashed-wrapped {border: 1px dashed gray;margin: 0 0.4em 0.5em 0.4em;box-sizing: border-box;padding-bottom: 0.4em;background-color: white;}#sk-container-id-10 div.sk-label label {font-family: monospace;font-weight: bold;display: inline-block;line-height: 1.2em;}#sk-container-id-10 div.sk-label-container {text-align: center;}#sk-container-id-10 div.sk-container {/* jupyter's `normalize.less` sets `[hidden] { display: none; }` but bootstrap.min.css set `[hidden] { display: none !important; }` so we also need the `!important` here to be able to override the default hidden behavior on the sphinx rendered scikit-learn.org. See: https://github.com/scikit-learn/scikit-learn/issues/21755 */display: inline-block !important;position: relative;}#sk-container-id-10 div.sk-text-repr-fallback {display: none;}</style><div id=\"sk-container-id-10\" class=\"sk-top-container\"><div class=\"sk-text-repr-fallback\"><pre>LogisticRegression()</pre><b>In a Jupyter environment, please rerun this cell to show the HTML representation or trust the notebook. <br />On GitHub, the HTML representation is unable to render, please try loading this page with nbviewer.org.</b></div><div class=\"sk-container\" hidden><div class=\"sk-item\"><div class=\"sk-estimator sk-toggleable\"><input class=\"sk-toggleable__control sk-hidden--visually\" id=\"sk-estimator-id-10\" type=\"checkbox\" checked><label for=\"sk-estimator-id-10\" class=\"sk-toggleable__label sk-toggleable__label-arrow\">LogisticRegression</label><div class=\"sk-toggleable__content\"><pre>LogisticRegression()</pre></div></div></div></div></div>"
      ],
      "text/plain": [
       "LogisticRegression()"
      ]
     },
     "execution_count": 110,
     "metadata": {},
     "output_type": "execute_result"
    }
   ],
   "source": [
    "logistic_regression_model_for_before_smote.fit(\n",
    "    Training_Features[:Training_Limit],\n",
    "    Training_Labels[:Training_Limit]\n",
    ")"
   ]
  },
  {
   "cell_type": "code",
   "execution_count": 103,
   "id": "b4bfc207",
   "metadata": {
    "ExecuteTime": {
     "end_time": "2023-03-31T02:49:00.220885Z",
     "start_time": "2023-03-31T02:49:00.175761Z"
    },
    "cell_style": "split"
   },
   "outputs": [
    {
     "data": {
      "text/html": [
       "<style>#sk-container-id-9 {color: black;background-color: white;}#sk-container-id-9 pre{padding: 0;}#sk-container-id-9 div.sk-toggleable {background-color: white;}#sk-container-id-9 label.sk-toggleable__label {cursor: pointer;display: block;width: 100%;margin-bottom: 0;padding: 0.3em;box-sizing: border-box;text-align: center;}#sk-container-id-9 label.sk-toggleable__label-arrow:before {content: \"▸\";float: left;margin-right: 0.25em;color: #696969;}#sk-container-id-9 label.sk-toggleable__label-arrow:hover:before {color: black;}#sk-container-id-9 div.sk-estimator:hover label.sk-toggleable__label-arrow:before {color: black;}#sk-container-id-9 div.sk-toggleable__content {max-height: 0;max-width: 0;overflow: hidden;text-align: left;background-color: #f0f8ff;}#sk-container-id-9 div.sk-toggleable__content pre {margin: 0.2em;color: black;border-radius: 0.25em;background-color: #f0f8ff;}#sk-container-id-9 input.sk-toggleable__control:checked~div.sk-toggleable__content {max-height: 200px;max-width: 100%;overflow: auto;}#sk-container-id-9 input.sk-toggleable__control:checked~label.sk-toggleable__label-arrow:before {content: \"▾\";}#sk-container-id-9 div.sk-estimator input.sk-toggleable__control:checked~label.sk-toggleable__label {background-color: #d4ebff;}#sk-container-id-9 div.sk-label input.sk-toggleable__control:checked~label.sk-toggleable__label {background-color: #d4ebff;}#sk-container-id-9 input.sk-hidden--visually {border: 0;clip: rect(1px 1px 1px 1px);clip: rect(1px, 1px, 1px, 1px);height: 1px;margin: -1px;overflow: hidden;padding: 0;position: absolute;width: 1px;}#sk-container-id-9 div.sk-estimator {font-family: monospace;background-color: #f0f8ff;border: 1px dotted black;border-radius: 0.25em;box-sizing: border-box;margin-bottom: 0.5em;}#sk-container-id-9 div.sk-estimator:hover {background-color: #d4ebff;}#sk-container-id-9 div.sk-parallel-item::after {content: \"\";width: 100%;border-bottom: 1px solid gray;flex-grow: 1;}#sk-container-id-9 div.sk-label:hover label.sk-toggleable__label {background-color: #d4ebff;}#sk-container-id-9 div.sk-serial::before {content: \"\";position: absolute;border-left: 1px solid gray;box-sizing: border-box;top: 0;bottom: 0;left: 50%;z-index: 0;}#sk-container-id-9 div.sk-serial {display: flex;flex-direction: column;align-items: center;background-color: white;padding-right: 0.2em;padding-left: 0.2em;position: relative;}#sk-container-id-9 div.sk-item {position: relative;z-index: 1;}#sk-container-id-9 div.sk-parallel {display: flex;align-items: stretch;justify-content: center;background-color: white;position: relative;}#sk-container-id-9 div.sk-item::before, #sk-container-id-9 div.sk-parallel-item::before {content: \"\";position: absolute;border-left: 1px solid gray;box-sizing: border-box;top: 0;bottom: 0;left: 50%;z-index: -1;}#sk-container-id-9 div.sk-parallel-item {display: flex;flex-direction: column;z-index: 1;position: relative;background-color: white;}#sk-container-id-9 div.sk-parallel-item:first-child::after {align-self: flex-end;width: 50%;}#sk-container-id-9 div.sk-parallel-item:last-child::after {align-self: flex-start;width: 50%;}#sk-container-id-9 div.sk-parallel-item:only-child::after {width: 0;}#sk-container-id-9 div.sk-dashed-wrapped {border: 1px dashed gray;margin: 0 0.4em 0.5em 0.4em;box-sizing: border-box;padding-bottom: 0.4em;background-color: white;}#sk-container-id-9 div.sk-label label {font-family: monospace;font-weight: bold;display: inline-block;line-height: 1.2em;}#sk-container-id-9 div.sk-label-container {text-align: center;}#sk-container-id-9 div.sk-container {/* jupyter's `normalize.less` sets `[hidden] { display: none; }` but bootstrap.min.css set `[hidden] { display: none !important; }` so we also need the `!important` here to be able to override the default hidden behavior on the sphinx rendered scikit-learn.org. See: https://github.com/scikit-learn/scikit-learn/issues/21755 */display: inline-block !important;position: relative;}#sk-container-id-9 div.sk-text-repr-fallback {display: none;}</style><div id=\"sk-container-id-9\" class=\"sk-top-container\"><div class=\"sk-text-repr-fallback\"><pre>LogisticRegression()</pre><b>In a Jupyter environment, please rerun this cell to show the HTML representation or trust the notebook. <br />On GitHub, the HTML representation is unable to render, please try loading this page with nbviewer.org.</b></div><div class=\"sk-container\" hidden><div class=\"sk-item\"><div class=\"sk-estimator sk-toggleable\"><input class=\"sk-toggleable__control sk-hidden--visually\" id=\"sk-estimator-id-9\" type=\"checkbox\" checked><label for=\"sk-estimator-id-9\" class=\"sk-toggleable__label sk-toggleable__label-arrow\">LogisticRegression</label><div class=\"sk-toggleable__content\"><pre>LogisticRegression()</pre></div></div></div></div></div>"
      ],
      "text/plain": [
       "LogisticRegression()"
      ]
     },
     "execution_count": 103,
     "metadata": {},
     "output_type": "execute_result"
    }
   ],
   "source": [
    "logistic_regression_model_for_before_smote.fit(\n",
    "    New_Features[:New_Training_Limit],\n",
    "    New_Labels[:New_Training_Limit]\n",
    ")"
   ]
  },
  {
   "cell_type": "code",
   "execution_count": 111,
   "id": "ce9ce30c",
   "metadata": {
    "ExecuteTime": {
     "end_time": "2023-03-31T02:49:26.034480Z",
     "start_time": "2023-03-31T02:49:25.794785Z"
    },
    "cell_style": "split"
   },
   "outputs": [
    {
     "data": {
      "image/png": "[encoded data removed]",
      "text/plain": [
       "<Figure size 640x480 with 2 Axes>"
      ]
     },
     "metadata": {},
     "output_type": "display_data"
    },
    {
     "name": "stdout",
     "output_type": "stream",
     "text": [
      "              precision    recall  f1-score   support\n",
      "\n",
      "           0       0.90      0.85      0.88        41\n",
      "           1       0.71      0.79      0.75        19\n",
      "\n",
      "    accuracy                           0.83        60\n",
      "   macro avg       0.81      0.82      0.81        60\n",
      "weighted avg       0.84      0.83      0.84        60\n",
      "\n"
     ]
    }
   ],
   "source": [
    "getClassificationEvaluation(\n",
    "    Training_Labels[Training_Limit:],\n",
    "    logistic_regression_model_for_before_smote.predict(\n",
    "        Training_Features[Training_Limit:]),\n",
    "    [0,1]\n",
    ")"
   ]
  },
  {
   "cell_type": "code",
   "execution_count": 105,
   "id": "1b502fe1",
   "metadata": {
    "ExecuteTime": {
     "end_time": "2023-03-31T02:49:01.913566Z",
     "start_time": "2023-03-31T02:49:01.641935Z"
    },
    "cell_style": "split"
   },
   "outputs": [
    {
     "data": {
      "image/png": "[encoded data removed]",
      "text/plain": [
       "<Figure size 640x480 with 2 Axes>"
      ]
     },
     "metadata": {},
     "output_type": "display_data"
    },
    {
     "name": "stdout",
     "output_type": "stream",
     "text": [
      "              precision    recall  f1-score   support\n",
      "\n",
      "           0       0.95      0.75      0.84        51\n",
      "           1       0.69      0.94      0.79        31\n",
      "\n",
      "    accuracy                           0.82        82\n",
      "   macro avg       0.82      0.84      0.81        82\n",
      "weighted avg       0.85      0.82      0.82        82\n",
      "\n"
     ]
    }
   ],
   "source": [
    "getClassificationEvaluation(\n",
    "    New_Labels[New_Training_Limit:],\n",
    "    logistic_regression_model_for_before_smote.predict(\n",
    "        New_Features[New_Training_Limit:]),\n",
    "    [0,1]\n",
    ")"
   ]
  }
 ],
 "metadata": {
  "celltoolbar": "Initialization Cell",
  "colab": {
   "provenance": [],
   "toc_visible": true
  },
  "hide_input": false,
  "kernelspec": {
   "display_name": "Python 3 (ipykernel)",
   "language": "python",
   "name": "python3"
  },
  "language_info": {
   "codemirror_mode": {
    "name": "ipython",
    "version": 3
   },
   "file_extension": ".py",
   "mimetype": "text/x-python",
   "name": "python",
   "nbconvert_exporter": "python",
   "pygments_lexer": "ipython3",
   "version": "3.10.8"
  }
 },
 "nbformat": 4,
 "nbformat_minor": 5
}
