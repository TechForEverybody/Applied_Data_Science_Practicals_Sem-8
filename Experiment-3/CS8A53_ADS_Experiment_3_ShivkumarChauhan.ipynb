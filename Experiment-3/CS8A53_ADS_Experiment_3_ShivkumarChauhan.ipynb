{
 "cells": [
  {
   "cell_type": "markdown",
   "id": "b6637f43",
   "metadata": {},
   "source": [
    "## Name: Shivkumar G. Chauhan\n",
    "### Roll No.: CS8A53\n",
    "### Batch A-3\n",
    "---\n",
    "# Experiment - 3 : Explore the inferential statistics on the dataset."
   ]
  },
  {
   "cell_type": "markdown",
   "id": "fe23ef7e",
   "metadata": {},
   "source": [
    "## imports"
   ]
  },
  {
   "cell_type": "code",
   "execution_count": 1,
   "id": "c869103b",
   "metadata": {
    "ExecuteTime": {
     "end_time": "2023-01-28T04:54:19.157036Z",
     "start_time": "2023-01-28T04:54:16.927515Z"
    }
   },
   "outputs": [],
   "source": [
    "import pandas\n",
    "import numpy\n",
    "import statistics\n",
    "import scipy.stats\n",
    "import matplotlib.pyplot as pyplot\n",
    "import warnings\n",
    "import random"
   ]
  },
  {
   "cell_type": "markdown",
   "id": "38fb8a9f",
   "metadata": {},
   "source": [
    "## Configurations"
   ]
  },
  {
   "cell_type": "markdown",
   "id": "c52fb41e",
   "metadata": {
    "ExecuteTime": {
     "end_time": "2023-01-27T17:50:04.171504Z",
     "start_time": "2023-01-27T17:50:04.158510Z"
    }
   },
   "source": [
    "initializing matplotlib configurations"
   ]
  },
  {
   "cell_type": "code",
   "execution_count": 2,
   "id": "6f0633bb",
   "metadata": {
    "ExecuteTime": {
     "end_time": "2023-01-28T04:54:19.188154Z",
     "start_time": "2023-01-28T04:54:19.160004Z"
    }
   },
   "outputs": [],
   "source": [
    "# %matplotlib qt\n",
    "%matplotlib inline\n",
    "pyplot.rcParams[\"figure.figsize\"] = (15, 12)"
   ]
  },
  {
   "cell_type": "markdown",
   "id": "b733dc30",
   "metadata": {},
   "source": [
    "hiding warnings"
   ]
  },
  {
   "cell_type": "code",
   "execution_count": 3,
   "id": "70694398",
   "metadata": {
    "ExecuteTime": {
     "end_time": "2023-01-28T04:54:19.204084Z",
     "start_time": "2023-01-28T04:54:19.191001Z"
    }
   },
   "outputs": [],
   "source": [
    "warnings.filterwarnings('ignore')"
   ]
  },
  {
   "cell_type": "markdown",
   "id": "8b515414",
   "metadata": {},
   "source": [
    "reading dataset"
   ]
  },
  {
   "cell_type": "code",
   "execution_count": 4,
   "id": "c193bca7",
   "metadata": {
    "ExecuteTime": {
     "end_time": "2023-01-28T04:54:19.624000Z",
     "start_time": "2023-01-28T04:54:19.209002Z"
    }
   },
   "outputs": [],
   "source": [
    "ANOVA_Data=pandas.read_excel(\"../Reference_Data/ANOVA_TAJ.xlsx\")\n",
    "TTEST_Data=pandas.read_excel(\"../Reference_Data/ttest_Pre Post Score.xlsx\")"
   ]
  },
  {
   "cell_type": "code",
   "execution_count": 5,
   "id": "25c57c02",
   "metadata": {
    "ExecuteTime": {
     "end_time": "2023-01-28T04:54:19.640013Z",
     "start_time": "2023-01-28T04:54:19.626000Z"
    }
   },
   "outputs": [],
   "source": [
    "def normalDistributionGraphGenarator(data:numpy.array,*ExtraArguments)->None:\n",
    "    \"\"\"Normalization graph plotter function\n",
    "\n",
    "    Args:\n",
    "        data (numpy.array): Any Array or DataFrame Column\n",
    "    \"\"\"\n",
    "    pyplot.figure('Normal Distribution Graph')\n",
    "    data=numpy.sort(data)\n",
    "    pyplot.plot(data, scipy.stats.norm.pdf(data, numpy.mean(data),numpy.std(data)))\n",
    "    for data in ExtraArguments:\n",
    "        data=numpy.sort(data)\n",
    "        pyplot.plot(data, scipy.stats.norm.pdf(data, numpy.mean(data),numpy.std(data)))\n",
    "    pyplot.xlabel('values')\n",
    "    pyplot.ylabel(\"Normalized Values\")"
   ]
  },
  {
   "cell_type": "code",
   "execution_count": 57,
   "id": "827906d4",
   "metadata": {
    "ExecuteTime": {
     "end_time": "2023-01-28T05:23:10.305167Z",
     "start_time": "2023-01-28T05:23:10.289171Z"
    }
   },
   "outputs": [],
   "source": [
    "def HypothesisComparerUsingPValue(probability_value:float,Level_of_Significance=0.05)-> bool:\n",
    "    \"\"\"NULL Hypothesis comparer based on probability_values\n",
    "\n",
    "    Args:\n",
    "        probability_value (float): probability value for falling in population\n",
    "        Level_of_Significance (float, optional): Minimum Probability of occurrence of in range, Defaults to 0.05.\n",
    "\n",
    "    Returns:\n",
    "        bool: return True if NULL hypothesis is accepted\n",
    "    \"\"\"\n",
    "    if probability_value>=Level_of_Significance:\n",
    "        print(\"NULL Hypothesis is Accepted\")\n",
    "        return True\n",
    "    else:\n",
    "        print(\"NULL hypothesis is Rejected\")\n",
    "        return False"
   ]
  },
  {
   "cell_type": "markdown",
   "id": "4b6a6300",
   "metadata": {},
   "source": [
    "## Data Exploration"
   ]
  },
  {
   "cell_type": "markdown",
   "id": "3c54f6ad",
   "metadata": {},
   "source": [
    "printing ANOVA Table"
   ]
  },
  {
   "cell_type": "code",
   "execution_count": 6,
   "id": "3bc0b21a",
   "metadata": {
    "ExecuteTime": {
     "end_time": "2023-01-28T04:54:27.142609Z",
     "start_time": "2023-01-28T04:54:27.120628Z"
    }
   },
   "outputs": [
    {
     "data": {
      "text/html": [
       "<div>\n",
       "<style scoped>\n",
       "    .dataframe tbody tr th:only-of-type {\n",
       "        vertical-align: middle;\n",
       "    }\n",
       "\n",
       "    .dataframe tbody tr th {\n",
       "        vertical-align: top;\n",
       "    }\n",
       "\n",
       "    .dataframe thead th {\n",
       "        text-align: right;\n",
       "    }\n",
       "</style>\n",
       "<table border=\"1\" class=\"dataframe\">\n",
       "  <thead>\n",
       "    <tr style=\"text-align: right;\">\n",
       "      <th></th>\n",
       "      <th>Honey Chicken</th>\n",
       "      <th>Pepper Chicken</th>\n",
       "      <th>Spicy Chicken</th>\n",
       "      <th>Tandoori Chicken</th>\n",
       "    </tr>\n",
       "  </thead>\n",
       "  <tbody>\n",
       "    <tr>\n",
       "      <th>0</th>\n",
       "      <td>7</td>\n",
       "      <td>6</td>\n",
       "      <td>8</td>\n",
       "      <td>6</td>\n",
       "    </tr>\n",
       "    <tr>\n",
       "      <th>1</th>\n",
       "      <td>8</td>\n",
       "      <td>7</td>\n",
       "      <td>6</td>\n",
       "      <td>5</td>\n",
       "    </tr>\n",
       "    <tr>\n",
       "      <th>2</th>\n",
       "      <td>8</td>\n",
       "      <td>7</td>\n",
       "      <td>6</td>\n",
       "      <td>7</td>\n",
       "    </tr>\n",
       "    <tr>\n",
       "      <th>3</th>\n",
       "      <td>9</td>\n",
       "      <td>7</td>\n",
       "      <td>7</td>\n",
       "      <td>6</td>\n",
       "    </tr>\n",
       "    <tr>\n",
       "      <th>4</th>\n",
       "      <td>8</td>\n",
       "      <td>5</td>\n",
       "      <td>7</td>\n",
       "      <td>7</td>\n",
       "    </tr>\n",
       "    <tr>\n",
       "      <th>5</th>\n",
       "      <td>8</td>\n",
       "      <td>8</td>\n",
       "      <td>8</td>\n",
       "      <td>6</td>\n",
       "    </tr>\n",
       "    <tr>\n",
       "      <th>6</th>\n",
       "      <td>8</td>\n",
       "      <td>6</td>\n",
       "      <td>6</td>\n",
       "      <td>5</td>\n",
       "    </tr>\n",
       "  </tbody>\n",
       "</table>\n",
       "</div>"
      ],
      "text/plain": [
       "   Honey Chicken  Pepper Chicken  Spicy Chicken  Tandoori Chicken\n",
       "0              7               6              8                 6\n",
       "1              8               7              6                 5\n",
       "2              8               7              6                 7\n",
       "3              9               7              7                 6\n",
       "4              8               5              7                 7\n",
       "5              8               8              8                 6\n",
       "6              8               6              6                 5"
      ]
     },
     "execution_count": 6,
     "metadata": {},
     "output_type": "execute_result"
    }
   ],
   "source": [
    "ANOVA_Data"
   ]
  },
  {
   "cell_type": "markdown",
   "id": "8e7a0b97",
   "metadata": {},
   "source": [
    "Normalization graph for all columns of ANOVA Data"
   ]
  },
  {
   "cell_type": "code",
   "execution_count": 7,
   "id": "f8eaa98b",
   "metadata": {
    "ExecuteTime": {
     "end_time": "2023-01-28T04:54:27.960646Z",
     "start_time": "2023-01-28T04:54:27.704924Z"
    },
    "scrolled": false
   },
   "outputs": [
    {
     "data": {
      "image/png": "[encoded data removed]",
      "text/plain": [
       "<Figure size 1500x1200 with 1 Axes>"
      ]
     },
     "metadata": {},
     "output_type": "display_data"
    }
   ],
   "source": [
    "normalDistributionGraphGenarator(ANOVA_Data['Honey Chicken'],ANOVA_Data['Pepper Chicken'],ANOVA_Data['Spicy Chicken'],ANOVA_Data['Tandoori Chicken'])"
   ]
  },
  {
   "cell_type": "markdown",
   "id": "b635cb32",
   "metadata": {
    "ExecuteTime": {
     "end_time": "2023-01-28T05:25:53.209449Z",
     "start_time": "2023-01-28T05:25:53.195446Z"
    }
   },
   "source": [
    "printing TTEST Data Table"
   ]
  },
  {
   "cell_type": "code",
   "execution_count": 8,
   "id": "e7f9dec3",
   "metadata": {
    "ExecuteTime": {
     "end_time": "2023-01-28T04:54:28.368220Z",
     "start_time": "2023-01-28T04:54:28.359184Z"
    }
   },
   "outputs": [
    {
     "data": {
      "text/html": [
       "<div>\n",
       "<style scoped>\n",
       "    .dataframe tbody tr th:only-of-type {\n",
       "        vertical-align: middle;\n",
       "    }\n",
       "\n",
       "    .dataframe tbody tr th {\n",
       "        vertical-align: top;\n",
       "    }\n",
       "\n",
       "    .dataframe thead th {\n",
       "        text-align: right;\n",
       "    }\n",
       "</style>\n",
       "<table border=\"1\" class=\"dataframe\">\n",
       "  <thead>\n",
       "    <tr style=\"text-align: right;\">\n",
       "      <th></th>\n",
       "      <th>Pre_Score</th>\n",
       "      <th>Post_Score</th>\n",
       "    </tr>\n",
       "  </thead>\n",
       "  <tbody>\n",
       "    <tr>\n",
       "      <th>0</th>\n",
       "      <td>18</td>\n",
       "      <td>22</td>\n",
       "    </tr>\n",
       "    <tr>\n",
       "      <th>1</th>\n",
       "      <td>21</td>\n",
       "      <td>25</td>\n",
       "    </tr>\n",
       "    <tr>\n",
       "      <th>2</th>\n",
       "      <td>16</td>\n",
       "      <td>17</td>\n",
       "    </tr>\n",
       "    <tr>\n",
       "      <th>3</th>\n",
       "      <td>22</td>\n",
       "      <td>24</td>\n",
       "    </tr>\n",
       "    <tr>\n",
       "      <th>4</th>\n",
       "      <td>19</td>\n",
       "      <td>16</td>\n",
       "    </tr>\n",
       "    <tr>\n",
       "      <th>5</th>\n",
       "      <td>24</td>\n",
       "      <td>29</td>\n",
       "    </tr>\n",
       "    <tr>\n",
       "      <th>6</th>\n",
       "      <td>17</td>\n",
       "      <td>20</td>\n",
       "    </tr>\n",
       "    <tr>\n",
       "      <th>7</th>\n",
       "      <td>21</td>\n",
       "      <td>23</td>\n",
       "    </tr>\n",
       "    <tr>\n",
       "      <th>8</th>\n",
       "      <td>23</td>\n",
       "      <td>19</td>\n",
       "    </tr>\n",
       "    <tr>\n",
       "      <th>9</th>\n",
       "      <td>18</td>\n",
       "      <td>20</td>\n",
       "    </tr>\n",
       "    <tr>\n",
       "      <th>10</th>\n",
       "      <td>14</td>\n",
       "      <td>15</td>\n",
       "    </tr>\n",
       "    <tr>\n",
       "      <th>11</th>\n",
       "      <td>16</td>\n",
       "      <td>15</td>\n",
       "    </tr>\n",
       "    <tr>\n",
       "      <th>12</th>\n",
       "      <td>16</td>\n",
       "      <td>18</td>\n",
       "    </tr>\n",
       "    <tr>\n",
       "      <th>13</th>\n",
       "      <td>19</td>\n",
       "      <td>26</td>\n",
       "    </tr>\n",
       "    <tr>\n",
       "      <th>14</th>\n",
       "      <td>18</td>\n",
       "      <td>18</td>\n",
       "    </tr>\n",
       "    <tr>\n",
       "      <th>15</th>\n",
       "      <td>20</td>\n",
       "      <td>24</td>\n",
       "    </tr>\n",
       "    <tr>\n",
       "      <th>16</th>\n",
       "      <td>12</td>\n",
       "      <td>18</td>\n",
       "    </tr>\n",
       "    <tr>\n",
       "      <th>17</th>\n",
       "      <td>22</td>\n",
       "      <td>25</td>\n",
       "    </tr>\n",
       "    <tr>\n",
       "      <th>18</th>\n",
       "      <td>15</td>\n",
       "      <td>19</td>\n",
       "    </tr>\n",
       "    <tr>\n",
       "      <th>19</th>\n",
       "      <td>17</td>\n",
       "      <td>16</td>\n",
       "    </tr>\n",
       "  </tbody>\n",
       "</table>\n",
       "</div>"
      ],
      "text/plain": [
       "    Pre_Score  Post_Score\n",
       "0          18          22\n",
       "1          21          25\n",
       "2          16          17\n",
       "3          22          24\n",
       "4          19          16\n",
       "5          24          29\n",
       "6          17          20\n",
       "7          21          23\n",
       "8          23          19\n",
       "9          18          20\n",
       "10         14          15\n",
       "11         16          15\n",
       "12         16          18\n",
       "13         19          26\n",
       "14         18          18\n",
       "15         20          24\n",
       "16         12          18\n",
       "17         22          25\n",
       "18         15          19\n",
       "19         17          16"
      ]
     },
     "execution_count": 8,
     "metadata": {},
     "output_type": "execute_result"
    }
   ],
   "source": [
    "TTEST_Data"
   ]
  },
  {
   "cell_type": "markdown",
   "id": "49b8bf46",
   "metadata": {
    "ExecuteTime": {
     "end_time": "2023-01-28T05:26:52.983637Z",
     "start_time": "2023-01-28T05:26:52.963639Z"
    }
   },
   "source": [
    "Normalization graph for all columns of TTEST Data"
   ]
  },
  {
   "cell_type": "code",
   "execution_count": 9,
   "id": "306facfd",
   "metadata": {
    "ExecuteTime": {
     "end_time": "2023-01-28T04:54:28.963223Z",
     "start_time": "2023-01-28T04:54:28.760532Z"
    }
   },
   "outputs": [
    {
     "data": {
      "image/png": "[encoded data removed]",
      "text/plain": [
       "<Figure size 1500x1200 with 1 Axes>"
      ]
     },
     "metadata": {},
     "output_type": "display_data"
    }
   ],
   "source": [
    "normalDistributionGraphGenarator(TTEST_Data['Post_Score'],TTEST_Data['Pre_Score'])"
   ]
  },
  {
   "cell_type": "markdown",
   "id": "46fa9267",
   "metadata": {},
   "source": [
    "# Hypothesis Testing\n",
    "Default Testing is based on Two-side values (Two-tailed-test)"
   ]
  },
  {
   "cell_type": "markdown",
   "id": "f77bbb6d",
   "metadata": {},
   "source": [
    "## t-test"
   ]
  },
  {
   "cell_type": "code",
   "execution_count": 10,
   "id": "71f35d13",
   "metadata": {
    "ExecuteTime": {
     "end_time": "2023-01-28T04:54:30.227563Z",
     "start_time": "2023-01-28T04:54:30.199562Z"
    },
    "scrolled": false
   },
   "outputs": [
    {
     "data": {
      "text/html": [
       "<div>\n",
       "<style scoped>\n",
       "    .dataframe tbody tr th:only-of-type {\n",
       "        vertical-align: middle;\n",
       "    }\n",
       "\n",
       "    .dataframe tbody tr th {\n",
       "        vertical-align: top;\n",
       "    }\n",
       "\n",
       "    .dataframe thead th {\n",
       "        text-align: right;\n",
       "    }\n",
       "</style>\n",
       "<table border=\"1\" class=\"dataframe\">\n",
       "  <thead>\n",
       "    <tr style=\"text-align: right;\">\n",
       "      <th></th>\n",
       "      <th>Pre_Score</th>\n",
       "      <th>Post_Score</th>\n",
       "    </tr>\n",
       "  </thead>\n",
       "  <tbody>\n",
       "    <tr>\n",
       "      <th>count</th>\n",
       "      <td>20.000000</td>\n",
       "      <td>20.000000</td>\n",
       "    </tr>\n",
       "    <tr>\n",
       "      <th>mean</th>\n",
       "      <td>18.400000</td>\n",
       "      <td>20.450000</td>\n",
       "    </tr>\n",
       "    <tr>\n",
       "      <th>std</th>\n",
       "      <td>3.152276</td>\n",
       "      <td>4.058454</td>\n",
       "    </tr>\n",
       "    <tr>\n",
       "      <th>min</th>\n",
       "      <td>12.000000</td>\n",
       "      <td>15.000000</td>\n",
       "    </tr>\n",
       "    <tr>\n",
       "      <th>25%</th>\n",
       "      <td>16.000000</td>\n",
       "      <td>17.750000</td>\n",
       "    </tr>\n",
       "    <tr>\n",
       "      <th>50%</th>\n",
       "      <td>18.000000</td>\n",
       "      <td>19.500000</td>\n",
       "    </tr>\n",
       "    <tr>\n",
       "      <th>75%</th>\n",
       "      <td>21.000000</td>\n",
       "      <td>24.000000</td>\n",
       "    </tr>\n",
       "    <tr>\n",
       "      <th>max</th>\n",
       "      <td>24.000000</td>\n",
       "      <td>29.000000</td>\n",
       "    </tr>\n",
       "  </tbody>\n",
       "</table>\n",
       "</div>"
      ],
      "text/plain": [
       "       Pre_Score  Post_Score\n",
       "count  20.000000   20.000000\n",
       "mean   18.400000   20.450000\n",
       "std     3.152276    4.058454\n",
       "min    12.000000   15.000000\n",
       "25%    16.000000   17.750000\n",
       "50%    18.000000   19.500000\n",
       "75%    21.000000   24.000000\n",
       "max    24.000000   29.000000"
      ]
     },
     "execution_count": 10,
     "metadata": {},
     "output_type": "execute_result"
    }
   ],
   "source": [
    "TTEST_Data.describe()"
   ]
  },
  {
   "cell_type": "markdown",
   "id": "3532c323",
   "metadata": {},
   "source": [
    "Defining the level of significance \n",
    "\n",
    "means this is permissible range where distribution data should be occurred\n",
    "\n",
    "it is simply a minimum probability value in which the data should be accepted\n",
    "- TTEST_Level_of_Significance = 5%"
   ]
  },
  {
   "cell_type": "code",
   "execution_count": 11,
   "id": "efe154f2",
   "metadata": {
    "ExecuteTime": {
     "end_time": "2023-01-28T04:54:30.953162Z",
     "start_time": "2023-01-28T04:54:30.949139Z"
    }
   },
   "outputs": [],
   "source": [
    "TTEST_Level_of_Significance=0.05"
   ]
  },
  {
   "cell_type": "markdown",
   "id": "840beaf2",
   "metadata": {},
   "source": [
    "### one sample test"
   ]
  },
  {
   "cell_type": "markdown",
   "id": "d3500d91",
   "metadata": {},
   "source": [
    "##### for column Pre_Score "
   ]
  },
  {
   "cell_type": "markdown",
   "id": "a1c7119d",
   "metadata": {},
   "source": [
    "NULL Hypothesis (Ho): The values of column Pre_Score is around 20\n",
    "\n",
    "hence let for Ho population_mean=20"
   ]
  },
  {
   "cell_type": "code",
   "execution_count": 13,
   "id": "f2666a55",
   "metadata": {
    "ExecuteTime": {
     "end_time": "2023-01-28T04:54:32.823017Z",
     "start_time": "2023-01-28T04:54:32.806993Z"
    }
   },
   "outputs": [],
   "source": [
    "population_mean=20"
   ]
  },
  {
   "cell_type": "code",
   "execution_count": 14,
   "id": "a2b5b5ca",
   "metadata": {
    "ExecuteTime": {
     "end_time": "2023-01-28T04:54:33.382255Z",
     "start_time": "2023-01-28T04:54:33.352253Z"
    }
   },
   "outputs": [
    {
     "name": "stdout",
     "output_type": "stream",
     "text": [
      "T-Statistic Value:  2.2699212261400974 \n",
      "Probability-Value:  0.03504258228701023\n"
     ]
    }
   ],
   "source": [
    "t_value,p_value=scipy.stats.ttest_1samp(TTEST_Data['Pre_Score'],popmean=population_mean)\n",
    "print(\"T-Statistic Value: \",abs(t_value),\"\\nProbability-Value: \",p_value)"
   ]
  },
  {
   "cell_type": "code",
   "execution_count": 37,
   "id": "a9eee5aa",
   "metadata": {
    "ExecuteTime": {
     "end_time": "2023-01-28T05:16:16.460075Z",
     "start_time": "2023-01-28T05:16:16.449046Z"
    }
   },
   "outputs": [
    {
     "name": "stdout",
     "output_type": "stream",
     "text": [
      "NULL Hypothesis is Accepted\n",
      "Values of the column is around  20\n"
     ]
    }
   ],
   "source": [
    "if HypothesisComparerUsingPValue(p_value,TTEST_Level_of_Significance)==True:\n",
    "    print(\"Values of the column is around \",population_mean)\n",
    "else:\n",
    "    print(\"Values of column is not around \",population_mean)"
   ]
  },
  {
   "cell_type": "markdown",
   "id": "38541188",
   "metadata": {},
   "source": [
    "###### Explaination for above case\n",
    "\n",
    "- given population_mean is **20**\n",
    "- if we see actual mean of column Pre_Score is **18.4**\n",
    "- Now defined level of significance is **0.05 (5%)**\n",
    "- hence by level of significance, given column should have 95% of total mean of population mean\n",
    "- calculated probability value is :  **0.03504** (p_value) \n",
    "- this is cumulative probability of all elements of the data\n",
    "- here p_value is **less** than TTEST_Level_of_Significance\n",
    "- hence the probability of coccurence of the data in given population is less than defined permissible value \n",
    "- hence are assumption of that values are around is 20 is gone wrong\n",
    "- hence NULL Hypothesis is Rejected"
   ]
  },
  {
   "cell_type": "markdown",
   "id": "00fa8646",
   "metadata": {
    "ExecuteTime": {
     "end_time": "2023-01-28T02:10:38.107875Z",
     "start_time": "2023-01-28T02:10:37.937643Z"
    }
   },
   "source": [
    "##### for column Post_Score "
   ]
  },
  {
   "cell_type": "markdown",
   "id": "8c91cdde",
   "metadata": {},
   "source": [
    "NULL Hypothesis (Ho): The values of column Post_Score is around 20\n",
    "\n",
    "hence let for Ho population_mean=20"
   ]
  },
  {
   "cell_type": "code",
   "execution_count": 16,
   "id": "a00a539d",
   "metadata": {
    "ExecuteTime": {
     "end_time": "2023-01-28T04:54:37.824528Z",
     "start_time": "2023-01-28T04:54:37.820525Z"
    }
   },
   "outputs": [],
   "source": [
    "population_mean=20"
   ]
  },
  {
   "cell_type": "code",
   "execution_count": 17,
   "id": "ac389c58",
   "metadata": {
    "ExecuteTime": {
     "end_time": "2023-01-28T04:54:38.046369Z",
     "start_time": "2023-01-28T04:54:38.041470Z"
    }
   },
   "outputs": [
    {
     "name": "stdout",
     "output_type": "stream",
     "text": [
      "T-Statistic Value:  0.49586885793428465 \n",
      "Probability-Value:  0.6256740287436588\n"
     ]
    }
   ],
   "source": [
    "t_value,p_value=scipy.stats.ttest_1samp(TTEST_Data['Post_Score'],popmean=population_mean)\n",
    "print(\"T-Statistic Value: \",abs(t_value),\"\\nProbability-Value: \",p_value)"
   ]
  },
  {
   "cell_type": "code",
   "execution_count": 18,
   "id": "a611d9db",
   "metadata": {
    "ExecuteTime": {
     "end_time": "2023-01-28T04:54:38.263522Z",
     "start_time": "2023-01-28T04:54:38.246483Z"
    }
   },
   "outputs": [
    {
     "name": "stdout",
     "output_type": "stream",
     "text": [
      "NULL Hypothesis is Accepted\n",
      "Values of the column is around  20\n"
     ]
    }
   ],
   "source": [
    "if HypothesisComparerUsingPValue(p_value,TTEST_Level_of_Significance)==True:\n",
    "    print(\"Values of the column is around \",population_mean)\n",
    "else:\n",
    "    print(\"Values of column is not around \",population_mean)"
   ]
  },
  {
   "cell_type": "markdown",
   "id": "21a47e3b",
   "metadata": {
    "ExecuteTime": {
     "end_time": "2023-01-28T03:53:35.196062Z",
     "start_time": "2023-01-28T03:53:35.189041Z"
    }
   },
   "source": [
    "###### Explaination for above case\n",
    "\n",
    "- given population_mean is **20**\n",
    "- if we see actual mean of column Pre_Score is **20.45**\n",
    "- Now defined level of significance is 0.05 (5%)\n",
    "- hence by level of significance, given column should have 95% of total mean of population mean\n",
    "- calculated probability value is :  **0.6256 (p_value)**\n",
    "- this is cumulative probability of all elements of the data\n",
    "- here p_value is **Greater** than TTEST_Level_of_Significance\n",
    "- hence the probability of coccurence of the data in given population is greater than defined permissible value \n",
    "- hence are assumption of that values are around is 20 is right\n",
    "- hence NULL Hypothesis is Accepted"
   ]
  },
  {
   "cell_type": "markdown",
   "id": "18ac07a7",
   "metadata": {},
   "source": [
    "### Two sample Test"
   ]
  },
  {
   "cell_type": "markdown",
   "id": "df522d44",
   "metadata": {},
   "source": [
    "NULL Hypothesis (Ho): The values of column Post_Score and values of column Pre_Score is same\n",
    "\n",
    "hence let Ho: means for both columns is same x1_mean=x2_mean"
   ]
  },
  {
   "cell_type": "code",
   "execution_count": 19,
   "id": "65fde19d",
   "metadata": {
    "ExecuteTime": {
     "end_time": "2023-01-28T04:54:39.189627Z",
     "start_time": "2023-01-28T04:54:39.168597Z"
    }
   },
   "outputs": [
    {
     "name": "stdout",
     "output_type": "stream",
     "text": [
      "T-Statistic Value:  1.7840292427015179 \n",
      "Probability-Value:  0.04120305388281875\n"
     ]
    }
   ],
   "source": [
    "t_value,p_value=scipy.stats.ttest_ind(TTEST_Data['Pre_Score'],TTEST_Data['Post_Score'],alternative='less')\n",
    "print(\"T-Statistic Value: \",abs(t_value),\"\\nProbability-Value: \",p_value)"
   ]
  },
  {
   "cell_type": "code",
   "execution_count": 20,
   "id": "5e0a22dc",
   "metadata": {
    "ExecuteTime": {
     "end_time": "2023-01-28T04:54:39.441220Z",
     "start_time": "2023-01-28T04:54:39.433218Z"
    }
   },
   "outputs": [
    {
     "name": "stdout",
     "output_type": "stream",
     "text": [
      "NULL hypothesis is Rejected\n",
      "samples do not have identical means\n"
     ]
    }
   ],
   "source": [
    "if HypothesisComparerUsingPValue(p_value,TTEST_Level_of_Significance)==True:\n",
    "    print(\"samples have nearly identical average (expected) values \")\n",
    "else:\n",
    "    print(\"samples do not have identical means\")"
   ]
  },
  {
   "cell_type": "markdown",
   "id": "2a7eb606",
   "metadata": {},
   "source": [
    "###### Explaination for above case\n",
    "- Now defined level of significance is 0.05 (5%)\n",
    "- hence by level of significance, given column should have 95% of total mean of population mean\n",
    "- calculated probability value is :  **0.04120(p_value)**\n",
    "- this is cumulative probability of all elements of the data for both columns to each other\n",
    "- here p_value is **less** than TTEST_Level_of_Significance\n",
    "- hence the probability of is less than defined permissible value \n",
    "- hence are assumption of that values are from same population is gone wrong\n",
    "- hence NULL Hypothesis is Rejected\n",
    "\n",
    "Extra:\n",
    "here means of both column are get calculated and mean of one column is tested to elements of other column and vice-versa, and final probability get calculated"
   ]
  },
  {
   "cell_type": "markdown",
   "id": "fd39ade6",
   "metadata": {},
   "source": [
    "## ANOVA test"
   ]
  },
  {
   "cell_type": "markdown",
   "id": "615cca09",
   "metadata": {
    "ExecuteTime": {
     "end_time": "2023-01-28T05:10:12.193341Z",
     "start_time": "2023-01-28T05:10:12.174340Z"
    }
   },
   "source": [
    "Defining the level of significance \n",
    "\n",
    "means this is permissible range where distribution data should be occurred\n",
    "\n",
    "it is simply a minimum probability value in which the data should be accepted\n",
    "- ANOVA_Level_of_Significance = 10%"
   ]
  },
  {
   "cell_type": "code",
   "execution_count": 39,
   "id": "f7c61507",
   "metadata": {
    "ExecuteTime": {
     "end_time": "2023-01-28T05:17:09.188201Z",
     "start_time": "2023-01-28T05:17:09.172164Z"
    }
   },
   "outputs": [],
   "source": [
    "ANOVA_Level_of_Significance = 0.1"
   ]
  },
  {
   "cell_type": "code",
   "execution_count": 40,
   "id": "9cde1ba3",
   "metadata": {
    "ExecuteTime": {
     "end_time": "2023-01-28T05:17:09.581962Z",
     "start_time": "2023-01-28T05:17:09.547939Z"
    }
   },
   "outputs": [
    {
     "data": {
      "text/html": [
       "<div>\n",
       "<style scoped>\n",
       "    .dataframe tbody tr th:only-of-type {\n",
       "        vertical-align: middle;\n",
       "    }\n",
       "\n",
       "    .dataframe tbody tr th {\n",
       "        vertical-align: top;\n",
       "    }\n",
       "\n",
       "    .dataframe thead th {\n",
       "        text-align: right;\n",
       "    }\n",
       "</style>\n",
       "<table border=\"1\" class=\"dataframe\">\n",
       "  <thead>\n",
       "    <tr style=\"text-align: right;\">\n",
       "      <th></th>\n",
       "      <th>Honey Chicken</th>\n",
       "      <th>Pepper Chicken</th>\n",
       "      <th>Spicy Chicken</th>\n",
       "      <th>Tandoori Chicken</th>\n",
       "    </tr>\n",
       "  </thead>\n",
       "  <tbody>\n",
       "    <tr>\n",
       "      <th>count</th>\n",
       "      <td>7.00000</td>\n",
       "      <td>7.000000</td>\n",
       "      <td>7.000000</td>\n",
       "      <td>7.000000</td>\n",
       "    </tr>\n",
       "    <tr>\n",
       "      <th>mean</th>\n",
       "      <td>8.00000</td>\n",
       "      <td>6.571429</td>\n",
       "      <td>6.857143</td>\n",
       "      <td>6.000000</td>\n",
       "    </tr>\n",
       "    <tr>\n",
       "      <th>std</th>\n",
       "      <td>0.57735</td>\n",
       "      <td>0.975900</td>\n",
       "      <td>0.899735</td>\n",
       "      <td>0.816497</td>\n",
       "    </tr>\n",
       "    <tr>\n",
       "      <th>min</th>\n",
       "      <td>7.00000</td>\n",
       "      <td>5.000000</td>\n",
       "      <td>6.000000</td>\n",
       "      <td>5.000000</td>\n",
       "    </tr>\n",
       "    <tr>\n",
       "      <th>25%</th>\n",
       "      <td>8.00000</td>\n",
       "      <td>6.000000</td>\n",
       "      <td>6.000000</td>\n",
       "      <td>5.500000</td>\n",
       "    </tr>\n",
       "    <tr>\n",
       "      <th>50%</th>\n",
       "      <td>8.00000</td>\n",
       "      <td>7.000000</td>\n",
       "      <td>7.000000</td>\n",
       "      <td>6.000000</td>\n",
       "    </tr>\n",
       "    <tr>\n",
       "      <th>75%</th>\n",
       "      <td>8.00000</td>\n",
       "      <td>7.000000</td>\n",
       "      <td>7.500000</td>\n",
       "      <td>6.500000</td>\n",
       "    </tr>\n",
       "    <tr>\n",
       "      <th>max</th>\n",
       "      <td>9.00000</td>\n",
       "      <td>8.000000</td>\n",
       "      <td>8.000000</td>\n",
       "      <td>7.000000</td>\n",
       "    </tr>\n",
       "  </tbody>\n",
       "</table>\n",
       "</div>"
      ],
      "text/plain": [
       "       Honey Chicken  Pepper Chicken  Spicy Chicken  Tandoori Chicken\n",
       "count        7.00000        7.000000       7.000000          7.000000\n",
       "mean         8.00000        6.571429       6.857143          6.000000\n",
       "std          0.57735        0.975900       0.899735          0.816497\n",
       "min          7.00000        5.000000       6.000000          5.000000\n",
       "25%          8.00000        6.000000       6.000000          5.500000\n",
       "50%          8.00000        7.000000       7.000000          6.000000\n",
       "75%          8.00000        7.000000       7.500000          6.500000\n",
       "max          9.00000        8.000000       8.000000          7.000000"
      ]
     },
     "execution_count": 40,
     "metadata": {},
     "output_type": "execute_result"
    }
   ],
   "source": [
    "ANOVA_Data.describe()"
   ]
  },
  {
   "cell_type": "markdown",
   "id": "49fcbf3f",
   "metadata": {},
   "source": [
    "#### ANOVA test for all column"
   ]
  },
  {
   "cell_type": "code",
   "execution_count": 54,
   "id": "d443b5b1",
   "metadata": {
    "ExecuteTime": {
     "end_time": "2023-01-28T05:20:52.530080Z",
     "start_time": "2023-01-28T05:20:52.519045Z"
    }
   },
   "outputs": [
    {
     "name": "stdout",
     "output_type": "stream",
     "text": [
      "T-Statistic Value:  7.172413793103451 \n",
      "Probability-Value:  0.0013322300743224683\n",
      "NULL hypothesis is Rejected\n",
      "samples do not have identical means\n"
     ]
    }
   ],
   "source": [
    "t_value,p_value=scipy.stats.f_oneway(ANOVA_Data['Honey Chicken'],ANOVA_Data['Pepper Chicken'],ANOVA_Data['Spicy Chicken'],ANOVA_Data['Tandoori Chicken'])\n",
    "print(\"T-Statistic Value: \",abs(t_value),\"\\nProbability-Value: \",p_value)\n",
    "if HypothesisComparerUsingPValue(p_value,ANOVA_Level_of_Significance)==True:\n",
    "    print(\"samples have nearly identical average (expected) values \")\n",
    "else:\n",
    "    print(\"samples do not have identical means\")"
   ]
  },
  {
   "cell_type": "markdown",
   "id": "b794eb9f",
   "metadata": {},
   "source": [
    "#### ANOVA test for last three columns"
   ]
  },
  {
   "cell_type": "code",
   "execution_count": 55,
   "id": "220c155e",
   "metadata": {
    "ExecuteTime": {
     "end_time": "2023-01-28T05:21:05.304618Z",
     "start_time": "2023-01-28T05:21:05.286627Z"
    }
   },
   "outputs": [
    {
     "name": "stdout",
     "output_type": "stream",
     "text": [
      "T-Statistic Value:  1.647058823529412 \n",
      "Probability-Value:  0.22035134388208824\n",
      "NULL Hypothesis is Accepted\n",
      "samples have nearly identical average (expected) values \n"
     ]
    }
   ],
   "source": [
    "t_value,p_value=scipy.stats.f_oneway(ANOVA_Data['Pepper Chicken'],ANOVA_Data['Spicy Chicken'],ANOVA_Data['Tandoori Chicken'])\n",
    "print(\"T-Statistic Value: \",abs(t_value),\"\\nProbability-Value: \",p_value)\n",
    "if HypothesisComparerUsingPValue(p_value,ANOVA_Level_of_Significance)==True:\n",
    "    print(\"samples have nearly identical average (expected) values \")\n",
    "else:\n",
    "    print(\"samples do not have identical means\")"
   ]
  }
 ],
 "metadata": {
  "kernelspec": {
   "display_name": "Python 3 (ipykernel)",
   "language": "python",
   "name": "python3"
  },
  "language_info": {
   "codemirror_mode": {
    "name": "ipython",
    "version": 3
   },
   "file_extension": ".py",
   "mimetype": "text/x-python",
   "name": "python",
   "nbconvert_exporter": "python",
   "pygments_lexer": "ipython3",
   "version": "3.10.8"
  }
 },
 "nbformat": 4,
 "nbformat_minor": 5
}
