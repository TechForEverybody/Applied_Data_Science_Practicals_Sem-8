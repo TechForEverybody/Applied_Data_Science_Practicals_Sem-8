{
 "cells": [
  {
   "cell_type": "markdown",
   "id": "b6637f43",
   "metadata": {
    "deletable": false,
    "editable": false,
    "id": "b6637f43",
    "run_control": {
     "frozen": true
    }
   },
   "source": [
    "## Name: Shivkumar G. Chauhan\n",
    "### Roll No.: CS8A53\n",
    "### Batch A-3\n",
    "---\n",
    "# Experiment - 3 : Explore the inferential statistics on the dataset."
   ]
  },
  {
   "cell_type": "markdown",
   "id": "fe23ef7e",
   "metadata": {
    "id": "fe23ef7e"
   },
   "source": [
    "## imports"
   ]
  },
  {
   "cell_type": "code",
   "execution_count": 33,
   "id": "c869103b",
   "metadata": {
    "ExecuteTime": {
     "end_time": "2023-03-27T22:57:19.668183Z",
     "start_time": "2023-03-27T22:57:19.658179Z"
    },
    "cell_style": "center",
    "executionInfo": {
     "elapsed": 5,
     "status": "ok",
     "timestamp": 1675145742403,
     "user": {
      "displayName": "SHIVKUMAR CHAUHAN",
      "userId": "00181769091967804430"
     },
     "user_tz": -330
    },
    "id": "c869103b",
    "init_cell": true
   },
   "outputs": [],
   "source": [
    "import pandas\n",
    "import numpy\n",
    "import statistics\n",
    "import scipy.stats\n",
    "import matplotlib.pyplot as pyplot\n",
    "import warnings\n",
    "import random\n",
    "from scipy import stats\n",
    "from scipy.stats import anderson\n",
    "import statsmodels.stats.diagnostic"
   ]
  },
  {
   "cell_type": "markdown",
   "id": "38fb8a9f",
   "metadata": {
    "id": "38fb8a9f"
   },
   "source": [
    "## Configurations"
   ]
  },
  {
   "cell_type": "markdown",
   "id": "c52fb41e",
   "metadata": {
    "cell_style": "split",
    "id": "c52fb41e"
   },
   "source": [
    "initializing matplotlib configurations"
   ]
  },
  {
   "cell_type": "markdown",
   "id": "b733dc30",
   "metadata": {
    "cell_style": "split",
    "id": "b733dc30"
   },
   "source": [
    "hiding warnings"
   ]
  },
  {
   "cell_type": "code",
   "execution_count": 34,
   "id": "6f0633bb",
   "metadata": {
    "ExecuteTime": {
     "end_time": "2023-03-27T22:57:21.732754Z",
     "start_time": "2023-03-27T22:57:21.713780Z"
    },
    "cell_style": "split",
    "executionInfo": {
     "elapsed": 6,
     "status": "ok",
     "timestamp": 1675145391570,
     "user": {
      "displayName": "SHIVKUMAR CHAUHAN",
      "userId": "00181769091967804430"
     },
     "user_tz": -330
    },
    "id": "6f0633bb",
    "init_cell": true
   },
   "outputs": [],
   "source": [
    "# %matplotlib qt\n",
    "%matplotlib inline\n",
    "pyplot.rcParams[\"figure.figsize\"] = (8, 5)"
   ]
  },
  {
   "cell_type": "code",
   "execution_count": 35,
   "id": "70694398",
   "metadata": {
    "ExecuteTime": {
     "end_time": "2023-03-27T22:57:21.979909Z",
     "start_time": "2023-03-27T22:57:21.970134Z"
    },
    "cell_style": "split",
    "executionInfo": {
     "elapsed": 4,
     "status": "ok",
     "timestamp": 1675145394102,
     "user": {
      "displayName": "SHIVKUMAR CHAUHAN",
      "userId": "00181769091967804430"
     },
     "user_tz": -330
    },
    "id": "70694398",
    "init_cell": true
   },
   "outputs": [],
   "source": [
    "warnings.filterwarnings('ignore')"
   ]
  },
  {
   "cell_type": "markdown",
   "id": "e23b550c",
   "metadata": {},
   "source": [
    "Function Initialiaztions"
   ]
  },
  {
   "cell_type": "code",
   "execution_count": 36,
   "id": "25c57c02",
   "metadata": {
    "ExecuteTime": {
     "end_time": "2023-03-27T22:57:22.452787Z",
     "start_time": "2023-03-27T22:57:22.432103Z"
    },
    "cell_style": "split",
    "executionInfo": {
     "elapsed": 5,
     "status": "ok",
     "timestamp": 1675145395106,
     "user": {
      "displayName": "SHIVKUMAR CHAUHAN",
      "userId": "00181769091967804430"
     },
     "user_tz": -330
    },
    "id": "25c57c02",
    "init_cell": true
   },
   "outputs": [],
   "source": [
    "def normalDistributionGraphGenarator(\n",
    "    data:numpy.array,\n",
    "    *ExtraArguments\n",
    ")->None:\n",
    "    \"\"\"Normalization graph plotter function\n",
    "\n",
    "    Args:\n",
    "        data (numpy.array): Any Array or DataFrame Column\n",
    "    \"\"\"\n",
    "    pyplot.figure('Normal Distribution Graph')\n",
    "    data=numpy.sort(data)\n",
    "    pyplot.plot(data, scipy.stats.norm.pdf(\n",
    "        data, \n",
    "        numpy.mean(data),\n",
    "        numpy.std(data))\n",
    ")\n",
    "    for data in ExtraArguments:\n",
    "        data=numpy.sort(data)\n",
    "        pyplot.plot(data, scipy.stats.norm.pdf(\n",
    "            data, \n",
    "            numpy.mean(data),\n",
    "            numpy.std(data))\n",
    ")\n",
    "    pyplot.xlabel('values')\n",
    "    pyplot.ylabel(\"Normalized Values\")"
   ]
  },
  {
   "cell_type": "code",
   "execution_count": 37,
   "id": "faea1787",
   "metadata": {
    "ExecuteTime": {
     "end_time": "2023-03-27T22:57:22.686985Z",
     "start_time": "2023-03-27T22:57:22.673704Z"
    },
    "cell_style": "split",
    "executionInfo": {
     "elapsed": 3,
     "status": "ok",
     "timestamp": 1675145395571,
     "user": {
      "displayName": "SHIVKUMAR CHAUHAN",
      "userId": "00181769091967804430"
     },
     "user_tz": -330
    },
    "id": "faea1787",
    "init_cell": true
   },
   "outputs": [],
   "source": [
    "def HypothesisComparerUsingPValue(\n",
    "    probability_value:float,\n",
    "    Level_of_Significance=0.05\n",
    ")-> bool:\n",
    "    \"\"\"NULL Hypothesis comparer based on probability_values\n",
    "\n",
    "    Args:\n",
    "        probability_value (float): probability value for falling in population\n",
    "        Level_of_Significance (float, optional): Minimum Probability of occurrence of in range, Defaults to 0.05.\n",
    "\n",
    "    Returns:\n",
    "        bool: return True if NULL hypothesis is accepted\n",
    "    \"\"\"\n",
    "    if probability_value>Level_of_Significance:\n",
    "        print(\"NULL Hypothesis is Accepted\")\n",
    "        return True\n",
    "    else:\n",
    "        print(\"NULL hypothesis is Rejected\")\n",
    "        return False\n",
    "    \n",
    "    "
   ]
  },
  {
   "cell_type": "code",
   "execution_count": 38,
   "id": "H9w9P5umbOln",
   "metadata": {
    "ExecuteTime": {
     "end_time": "2023-03-27T22:57:22.941590Z",
     "start_time": "2023-03-27T22:57:22.927954Z"
    },
    "cell_style": "center",
    "executionInfo": {
     "elapsed": 529,
     "status": "ok",
     "timestamp": 1675146306021,
     "user": {
      "displayName": "SHIVKUMAR CHAUHAN",
      "userId": "00181769091967804430"
     },
     "user_tz": -330
    },
    "id": "H9w9P5umbOln",
    "init_cell": true
   },
   "outputs": [],
   "source": [
    "def checkHypothesis(\n",
    "    stats_value:float,\n",
    "    probability_value:float,\n",
    "    accept_statement=\"samples have nearly identical average (expected) values\",\n",
    "    reject_statement=\"samples do not have identical means \"\n",
    ")->bool:\n",
    "    \"\"\"Hypothesis result printer based on stats_value and probability_value\n",
    "    \"\"\"\n",
    "    print(\"Statistic Value: \",\n",
    "          abs(stats_value),\n",
    "          \"\\nProbability-Value: \",\n",
    "          probability_value\n",
    "         )\n",
    "    if HypothesisComparerUsingPValue(\n",
    "        probability_value,\n",
    "        Level_of_Significance\n",
    "                                    )==True:\n",
    "        print(accept_statement)\n",
    "        return True\n",
    "    else:\n",
    "        print(reject_statement)\n",
    "        return False"
   ]
  },
  {
   "cell_type": "markdown",
   "id": "8b515414",
   "metadata": {
    "cell_style": "center",
    "id": "8b515414"
   },
   "source": [
    "reading dataset"
   ]
  },
  {
   "cell_type": "code",
   "execution_count": 39,
   "id": "c193bca7",
   "metadata": {
    "ExecuteTime": {
     "end_time": "2023-03-27T22:57:23.600444Z",
     "start_time": "2023-03-27T22:57:23.523948Z"
    },
    "executionInfo": {
     "elapsed": 11,
     "status": "ok",
     "timestamp": 1675145400071,
     "user": {
      "displayName": "SHIVKUMAR CHAUHAN",
      "userId": "00181769091967804430"
     },
     "user_tz": -330
    },
    "id": "c193bca7",
    "init_cell": true
   },
   "outputs": [],
   "source": [
    "ANOVA_Data=pandas.read_excel(\"../Data/Reference_Data/ANOVA_TAJ.xlsx\")\n",
    "TTEST_Data=pandas.read_excel(\"../Data/Reference_Data/ttest_Pre Post Score.xlsx\")"
   ]
  },
  {
   "cell_type": "code",
   "execution_count": 42,
   "id": "aedd2c90",
   "metadata": {
    "ExecuteTime": {
     "end_time": "2023-03-27T22:57:39.289645Z",
     "start_time": "2023-03-27T22:57:35.795761Z"
    },
    "init_cell": true
   },
   "outputs": [],
   "source": [
    "Data=pandas.read_csv(\"../Data/Raw_Data/owid-covid-data.csv\")"
   ]
  },
  {
   "cell_type": "markdown",
   "id": "3532c323",
   "metadata": {
    "cell_style": "split",
    "id": "3532c323"
   },
   "source": [
    "Defining the level of significance \n",
    "\n",
    "means this is permissible range where distribution data should be occurred\n",
    "\n",
    "it is simply a minimum probability value in which the data should be accepted\n",
    "- Level_of_Significance = 5%"
   ]
  },
  {
   "cell_type": "code",
   "execution_count": 43,
   "id": "efe154f2",
   "metadata": {
    "ExecuteTime": {
     "end_time": "2023-03-27T22:57:39.304819Z",
     "start_time": "2023-03-27T22:57:39.296304Z"
    },
    "cell_style": "split",
    "executionInfo": {
     "elapsed": 993,
     "status": "ok",
     "timestamp": 1675145403849,
     "user": {
      "displayName": "SHIVKUMAR CHAUHAN",
      "userId": "00181769091967804430"
     },
     "user_tz": -330
    },
    "id": "efe154f2",
    "init_cell": true
   },
   "outputs": [],
   "source": [
    "Level_of_Significance=0.05"
   ]
  },
  {
   "cell_type": "markdown",
   "id": "2787168f",
   "metadata": {
    "cell_style": "center"
   },
   "source": [
    "reading collected dataset"
   ]
  },
  {
   "cell_type": "code",
   "execution_count": 44,
   "id": "d0046a13",
   "metadata": {
    "ExecuteTime": {
     "end_time": "2023-03-27T22:57:53.557878Z",
     "start_time": "2023-03-27T22:57:53.547117Z"
    },
    "cell_style": "split",
    "init_cell": true
   },
   "outputs": [],
   "source": [
    "Selected_Columns=['iso_code', 'continent', 'location', 'date', 'total_cases',\n",
    "       'new_cases', 'total_deaths', 'new_deaths','population']"
   ]
  },
  {
   "cell_type": "code",
   "execution_count": 45,
   "id": "f0dc332c",
   "metadata": {
    "ExecuteTime": {
     "end_time": "2023-03-27T22:57:54.593275Z",
     "start_time": "2023-03-27T22:57:54.512210Z"
    },
    "cell_style": "split",
    "init_cell": true
   },
   "outputs": [],
   "source": [
    "Data=Data[Selected_Columns]"
   ]
  },
  {
   "cell_type": "code",
   "execution_count": 48,
   "id": "8bed79c7",
   "metadata": {
    "ExecuteTime": {
     "end_time": "2023-03-27T22:58:24.729239Z",
     "start_time": "2023-03-27T22:58:24.673653Z"
    },
    "cell_style": "split"
   },
   "outputs": [],
   "source": [
    "Data=Data[Data['location']=='India']"
   ]
  },
  {
   "cell_type": "code",
   "execution_count": 49,
   "id": "03d944e7",
   "metadata": {
    "ExecuteTime": {
     "end_time": "2023-03-27T22:58:26.347531Z",
     "start_time": "2023-03-27T22:58:26.322458Z"
    },
    "cell_style": "split",
    "init_cell": true
   },
   "outputs": [],
   "source": [
    "Data=Data.dropna()"
   ]
  },
  {
   "cell_type": "code",
   "execution_count": 50,
   "id": "91a06b4e",
   "metadata": {
    "ExecuteTime": {
     "end_time": "2023-03-27T22:58:27.565017Z",
     "start_time": "2023-03-27T22:58:27.550869Z"
    },
    "cell_style": "split",
    "init_cell": true
   },
   "outputs": [],
   "source": [
    "Data=Data.sort_values(\n",
    "    by=\"total_cases\",\n",
    "    ascending=False\n",
    ").reset_index(drop=True)"
   ]
  },
  {
   "cell_type": "markdown",
   "id": "MbLFVv3XWQyV",
   "metadata": {
    "cell_style": "split",
    "id": "MbLFVv3XWQyV"
   },
   "source": [
    "random data generation"
   ]
  },
  {
   "cell_type": "code",
   "execution_count": 51,
   "id": "cyyizXB7POT7",
   "metadata": {
    "ExecuteTime": {
     "end_time": "2023-03-27T22:58:29.086724Z",
     "start_time": "2023-03-27T22:58:29.072931Z"
    },
    "cell_style": "split",
    "executionInfo": {
     "elapsed": 5,
     "status": "ok",
     "timestamp": 1675145404932,
     "user": {
      "displayName": "SHIVKUMAR CHAUHAN",
      "userId": "00181769091967804430"
     },
     "user_tz": -330
    },
    "id": "cyyizXB7POT7",
    "init_cell": true
   },
   "outputs": [],
   "source": [
    "Random_Variable_Array=numpy.random.normal(\n",
    "    0.0,\n",
    "    100,\n",
    "    size=200\n",
    ")"
   ]
  },
  {
   "cell_type": "code",
   "execution_count": 73,
   "id": "c91f7273",
   "metadata": {
    "ExecuteTime": {
     "end_time": "2023-03-27T23:11:07.977403Z",
     "start_time": "2023-03-27T23:11:07.948405Z"
    },
    "init_cell": true
   },
   "outputs": [],
   "source": [
    "def applyHypothesisTesting(\n",
    "    test_variable1=[],\n",
    "    test_variable2=[],\n",
    "    anova_data=tuple([]),\n",
    "    normality_test_data=pandas.DataFrame(),\n",
    "    population_mean=None\n",
    "    )->None:\n",
    "    \"\"\"Function to apply Hypothesis Testing on the data \n",
    "    with the help of scipy.stats and statsmodels.stats.diagnostic\n",
    "    \n",
    "    Args:\n",
    "        test_variable1 (list): first variable for ttest\n",
    "        test_variable2 (list, optional): second  variable for ttest. Defaults to [],\n",
    "        anova_data (tuple of arrays, optional): Data to be tested by ANOVA. Defaults to tuple([]).\n",
    "        normality_test_data (pandas.DataFrame(), optional): Data to be tested for normality. Defaults to pandas.DataFrame().\n",
    "        population_mean (float, optional): mean of population. Defaults to None.\n",
    "    \"\"\"\n",
    "    print(\"Applying Hypothesis Testing🚀🚀🚀\")\n",
    "    print(\"Default Level of Significance =\",Level_of_Significance)\n",
    "    print(\"NULL Hypothesis (Ho): Samples have same means\")\n",
    "    print(\"Alternate Hypothesis (H1): Samples do not have same means\")\n",
    "    print(\"By Default using 2-tailed Test\")\n",
    "    if len(test_variable1)>0:\n",
    "        print(\"\\nT-Test Testing\")\n",
    "        if len(test_variable2)==0 and population_mean!=None:\n",
    "            print(\"TTest Using Population Mean\")\n",
    "            stats_value,p_value=scipy.stats.ttest_1samp(test_variable1,popmean=population_mean)\n",
    "            checkHypothesis(stats_value,\n",
    "                            p_value,\n",
    "                            \"Values of the column is around \"+str(population_mean),\n",
    "                            \"Values of column is not around \"+str(population_mean)\n",
    "                           )\n",
    "        elif len(test_variable2)>1 :\n",
    "            print(\"TTest Using Two Variable\")\n",
    "            stats_value,p_value=scipy.stats.ttest_ind(\n",
    "                test_variable1,\n",
    "                test_variable2)\n",
    "            checkHypothesis(stats_value,p_value)\n",
    "        else:\n",
    "            print(\"Please Provide second ttest variable or population mean\")\n",
    "    if len(anova_data)>1:\n",
    "        print(\"\\nANOVA Testing\")\n",
    "        stats_value,p_value=scipy.stats.f_oneway(*anova_data)\n",
    "        checkHypothesis(stats_value,p_value)\n",
    "    if len(anova_data)==1:\n",
    "        print(\"For ANOVA test least 2 columns are required\")\n",
    "        \n",
    "    normality_test_data=pandas.DataFrame(normality_test_data)\n",
    "    if len(normality_test_data)>1:\n",
    "        print(\"\\nTesting Normal Distribution Criteria\")\n",
    "        print(\"NULL Hypothesis (Ho): Data is normally Distributed\")\n",
    "        print(\"Alternate Hypothesis (H1): Data is not Normally Distributed\")\n",
    "    for column in normality_test_data.columns:\n",
    "        print(\"\\nNormality Test on \",column,\"Column\")\n",
    "        print(\" T-Shapiro-Wilk Testing\")\n",
    "        stats_value,p_value=scipy.stats.shapiro(normality_test_data[column])\n",
    "        checkHypothesis(stats_value,p_value,\n",
    "                accept_statement=\"data is a normal distributed.\",\n",
    "                reject_statement=\"data is not normal distributed.\"\n",
    "                       )\n",
    "        print(\"\\n D’Agostino normaltest Testing\")\n",
    "        stats_value,p_value=stats.normaltest(normality_test_data[column])\n",
    "        checkHypothesis(stats_value,p_value,\n",
    "                accept_statement=\"data is a normal distributed.\",\n",
    "                reject_statement=\"data is not normal distributed.\"\n",
    "                       )\n",
    "        print(\"\\n Anderson-Darling Testing\")\n",
    "        stats_value,p_value,significance_level=anderson(normality_test_data[column])\n",
    "        checkHypothesis(stats_value,p_value[2],\n",
    "                accept_statement=\"data is a normal distributed.\",\n",
    "                reject_statement=\"data is not normal distributed.\"\n",
    "                       )\n",
    "        print(\"\\n Lilliefors’ Testing\")\n",
    "        stats_value,p_value=statsmodels.stats.diagnostic.lilliefors(normality_test_data[column])\n",
    "        checkHypothesis(stats_value,p_value,\n",
    "                accept_statement=\"data is a normal distributed.\",\n",
    "                reject_statement=\"data is not normal distributed.\"\n",
    "                       )"
   ]
  },
  {
   "cell_type": "markdown",
   "id": "4b6a6300",
   "metadata": {
    "id": "4b6a6300"
   },
   "source": [
    "## Data Exploration"
   ]
  },
  {
   "cell_type": "code",
   "execution_count": 53,
   "id": "CQ1DuTD6brg3",
   "metadata": {
    "ExecuteTime": {
     "end_time": "2023-03-27T22:58:32.778052Z",
     "start_time": "2023-03-27T22:58:32.117766Z"
    },
    "colab": {
     "base_uri": "https://localhost:8080/",
     "height": 334
    },
    "executionInfo": {
     "elapsed": 1003,
     "status": "ok",
     "timestamp": 1675145192467,
     "user": {
      "displayName": "SHIVKUMAR CHAUHAN",
      "userId": "00181769091967804430"
     },
     "user_tz": -330
    },
    "id": "CQ1DuTD6brg3",
    "outputId": "5d218e40-2b1b-4f2a-850e-a20405cbaad0"
   },
   "outputs": [
    {
     "data": {
      "image/png": "[encoded data removed]",
      "text/plain": [
       "<Figure size 800x500 with 1 Axes>"
      ]
     },
     "metadata": {},
     "output_type": "display_data"
    }
   ],
   "source": [
    "normalDistributionGraphGenarator(Random_Variable_Array)"
   ]
  },
  {
   "cell_type": "markdown",
   "id": "5a9cf3d7",
   "metadata": {
    "cell_style": "split",
    "id": "5a9cf3d7"
   },
   "source": [
    "printing ANOVA Table"
   ]
  },
  {
   "cell_type": "markdown",
   "id": "f3421eb0",
   "metadata": {
    "cell_style": "split",
    "id": "f3421eb0"
   },
   "source": [
    "Normalization graph for all columns of ANOVA Data"
   ]
  },
  {
   "cell_type": "code",
   "execution_count": 20,
   "id": "3bc0b21a",
   "metadata": {
    "cell_style": "split",
    "colab": {
     "base_uri": "https://localhost:8080/",
     "height": 269
    },
    "executionInfo": {
     "elapsed": 18,
     "status": "ok",
     "timestamp": 1675145439073,
     "user": {
      "displayName": "SHIVKUMAR CHAUHAN",
      "userId": "00181769091967804430"
     },
     "user_tz": -330
    },
    "id": "3bc0b21a",
    "outputId": "8e0b2d2e-c2c0-4192-97f8-70755c0354af"
   },
   "outputs": [
    {
     "data": {
      "text/html": [
       "<div>\n",
       "<style scoped>\n",
       "    .dataframe tbody tr th:only-of-type {\n",
       "        vertical-align: middle;\n",
       "    }\n",
       "\n",
       "    .dataframe tbody tr th {\n",
       "        vertical-align: top;\n",
       "    }\n",
       "\n",
       "    .dataframe thead th {\n",
       "        text-align: right;\n",
       "    }\n",
       "</style>\n",
       "<table border=\"1\" class=\"dataframe\">\n",
       "  <thead>\n",
       "    <tr style=\"text-align: right;\">\n",
       "      <th></th>\n",
       "      <th>Honey Chicken</th>\n",
       "      <th>Pepper Chicken</th>\n",
       "      <th>Spicy Chicken</th>\n",
       "      <th>Tandoori Chicken</th>\n",
       "    </tr>\n",
       "  </thead>\n",
       "  <tbody>\n",
       "    <tr>\n",
       "      <th>0</th>\n",
       "      <td>7</td>\n",
       "      <td>6</td>\n",
       "      <td>8</td>\n",
       "      <td>6</td>\n",
       "    </tr>\n",
       "    <tr>\n",
       "      <th>1</th>\n",
       "      <td>8</td>\n",
       "      <td>7</td>\n",
       "      <td>6</td>\n",
       "      <td>5</td>\n",
       "    </tr>\n",
       "    <tr>\n",
       "      <th>2</th>\n",
       "      <td>8</td>\n",
       "      <td>7</td>\n",
       "      <td>6</td>\n",
       "      <td>7</td>\n",
       "    </tr>\n",
       "    <tr>\n",
       "      <th>3</th>\n",
       "      <td>9</td>\n",
       "      <td>7</td>\n",
       "      <td>7</td>\n",
       "      <td>6</td>\n",
       "    </tr>\n",
       "    <tr>\n",
       "      <th>4</th>\n",
       "      <td>8</td>\n",
       "      <td>5</td>\n",
       "      <td>7</td>\n",
       "      <td>7</td>\n",
       "    </tr>\n",
       "    <tr>\n",
       "      <th>5</th>\n",
       "      <td>8</td>\n",
       "      <td>8</td>\n",
       "      <td>8</td>\n",
       "      <td>6</td>\n",
       "    </tr>\n",
       "    <tr>\n",
       "      <th>6</th>\n",
       "      <td>8</td>\n",
       "      <td>6</td>\n",
       "      <td>6</td>\n",
       "      <td>5</td>\n",
       "    </tr>\n",
       "  </tbody>\n",
       "</table>\n",
       "</div>"
      ],
      "text/plain": [
       "   Honey Chicken  Pepper Chicken  Spicy Chicken  Tandoori Chicken\n",
       "0              7               6              8                 6\n",
       "1              8               7              6                 5\n",
       "2              8               7              6                 7\n",
       "3              9               7              7                 6\n",
       "4              8               5              7                 7\n",
       "5              8               8              8                 6\n",
       "6              8               6              6                 5"
      ]
     },
     "execution_count": 20,
     "metadata": {},
     "output_type": "execute_result"
    }
   ],
   "source": [
    "ANOVA_Data"
   ]
  },
  {
   "cell_type": "code",
   "execution_count": 34,
   "id": "f8eaa98b",
   "metadata": {
    "cell_style": "split",
    "colab": {
     "base_uri": "https://localhost:8080/",
     "height": 334
    },
    "executionInfo": {
     "elapsed": 1006,
     "status": "ok",
     "timestamp": 1675145440067,
     "user": {
      "displayName": "SHIVKUMAR CHAUHAN",
      "userId": "00181769091967804430"
     },
     "user_tz": -330
    },
    "id": "f8eaa98b",
    "outputId": "50f4e68b-d118-4a3c-e351-81c5aa54b085",
    "scrolled": true
   },
   "outputs": [
    {
     "data": {
      "image/png": "[encoded data removed]",
      "text/plain": [
       "<Figure size 500x300 with 1 Axes>"
      ]
     },
     "metadata": {},
     "output_type": "display_data"
    }
   ],
   "source": [
    "normalDistributionGraphGenarator(ANOVA_Data['Honey Chicken'],\n",
    "ANOVA_Data['Pepper Chicken'],\n",
    "ANOVA_Data['Spicy Chicken'],\n",
    "ANOVA_Data['Tandoori Chicken']\n",
    ")"
   ]
  },
  {
   "cell_type": "markdown",
   "id": "807e9bfc",
   "metadata": {
    "cell_style": "split",
    "id": "807e9bfc"
   },
   "source": [
    "printing TTEST Data Table"
   ]
  },
  {
   "cell_type": "markdown",
   "id": "6ec9559d",
   "metadata": {
    "cell_style": "split",
    "id": "6ec9559d"
   },
   "source": [
    "Normalization graph for all columns of TTEST Data"
   ]
  },
  {
   "cell_type": "code",
   "execution_count": 22,
   "id": "e7f9dec3",
   "metadata": {
    "cell_style": "split",
    "colab": {
     "base_uri": "https://localhost:8080/",
     "height": 677
    },
    "executionInfo": {
     "elapsed": 760,
     "status": "ok",
     "timestamp": 1675145446212,
     "user": {
      "displayName": "SHIVKUMAR CHAUHAN",
      "userId": "00181769091967804430"
     },
     "user_tz": -330
    },
    "id": "e7f9dec3",
    "outputId": "2ac2217c-bf22-4b7b-b4c7-ac6320e1ff2c"
   },
   "outputs": [
    {
     "data": {
      "text/html": [
       "<div>\n",
       "<style scoped>\n",
       "    .dataframe tbody tr th:only-of-type {\n",
       "        vertical-align: middle;\n",
       "    }\n",
       "\n",
       "    .dataframe tbody tr th {\n",
       "        vertical-align: top;\n",
       "    }\n",
       "\n",
       "    .dataframe thead th {\n",
       "        text-align: right;\n",
       "    }\n",
       "</style>\n",
       "<table border=\"1\" class=\"dataframe\">\n",
       "  <thead>\n",
       "    <tr style=\"text-align: right;\">\n",
       "      <th></th>\n",
       "      <th>Pre_Score</th>\n",
       "      <th>Post_Score</th>\n",
       "    </tr>\n",
       "  </thead>\n",
       "  <tbody>\n",
       "    <tr>\n",
       "      <th>0</th>\n",
       "      <td>18</td>\n",
       "      <td>22</td>\n",
       "    </tr>\n",
       "    <tr>\n",
       "      <th>1</th>\n",
       "      <td>21</td>\n",
       "      <td>25</td>\n",
       "    </tr>\n",
       "    <tr>\n",
       "      <th>2</th>\n",
       "      <td>16</td>\n",
       "      <td>17</td>\n",
       "    </tr>\n",
       "    <tr>\n",
       "      <th>3</th>\n",
       "      <td>22</td>\n",
       "      <td>24</td>\n",
       "    </tr>\n",
       "    <tr>\n",
       "      <th>4</th>\n",
       "      <td>19</td>\n",
       "      <td>16</td>\n",
       "    </tr>\n",
       "    <tr>\n",
       "      <th>5</th>\n",
       "      <td>24</td>\n",
       "      <td>29</td>\n",
       "    </tr>\n",
       "    <tr>\n",
       "      <th>6</th>\n",
       "      <td>17</td>\n",
       "      <td>20</td>\n",
       "    </tr>\n",
       "    <tr>\n",
       "      <th>7</th>\n",
       "      <td>21</td>\n",
       "      <td>23</td>\n",
       "    </tr>\n",
       "    <tr>\n",
       "      <th>8</th>\n",
       "      <td>23</td>\n",
       "      <td>19</td>\n",
       "    </tr>\n",
       "    <tr>\n",
       "      <th>9</th>\n",
       "      <td>18</td>\n",
       "      <td>20</td>\n",
       "    </tr>\n",
       "    <tr>\n",
       "      <th>10</th>\n",
       "      <td>14</td>\n",
       "      <td>15</td>\n",
       "    </tr>\n",
       "    <tr>\n",
       "      <th>11</th>\n",
       "      <td>16</td>\n",
       "      <td>15</td>\n",
       "    </tr>\n",
       "    <tr>\n",
       "      <th>12</th>\n",
       "      <td>16</td>\n",
       "      <td>18</td>\n",
       "    </tr>\n",
       "    <tr>\n",
       "      <th>13</th>\n",
       "      <td>19</td>\n",
       "      <td>26</td>\n",
       "    </tr>\n",
       "    <tr>\n",
       "      <th>14</th>\n",
       "      <td>18</td>\n",
       "      <td>18</td>\n",
       "    </tr>\n",
       "    <tr>\n",
       "      <th>15</th>\n",
       "      <td>20</td>\n",
       "      <td>24</td>\n",
       "    </tr>\n",
       "    <tr>\n",
       "      <th>16</th>\n",
       "      <td>12</td>\n",
       "      <td>18</td>\n",
       "    </tr>\n",
       "    <tr>\n",
       "      <th>17</th>\n",
       "      <td>22</td>\n",
       "      <td>25</td>\n",
       "    </tr>\n",
       "    <tr>\n",
       "      <th>18</th>\n",
       "      <td>15</td>\n",
       "      <td>19</td>\n",
       "    </tr>\n",
       "    <tr>\n",
       "      <th>19</th>\n",
       "      <td>17</td>\n",
       "      <td>16</td>\n",
       "    </tr>\n",
       "  </tbody>\n",
       "</table>\n",
       "</div>"
      ],
      "text/plain": [
       "    Pre_Score  Post_Score\n",
       "0          18          22\n",
       "1          21          25\n",
       "2          16          17\n",
       "3          22          24\n",
       "4          19          16\n",
       "5          24          29\n",
       "6          17          20\n",
       "7          21          23\n",
       "8          23          19\n",
       "9          18          20\n",
       "10         14          15\n",
       "11         16          15\n",
       "12         16          18\n",
       "13         19          26\n",
       "14         18          18\n",
       "15         20          24\n",
       "16         12          18\n",
       "17         22          25\n",
       "18         15          19\n",
       "19         17          16"
      ]
     },
     "execution_count": 22,
     "metadata": {},
     "output_type": "execute_result"
    }
   ],
   "source": [
    "TTEST_Data"
   ]
  },
  {
   "cell_type": "code",
   "execution_count": 35,
   "id": "306facfd",
   "metadata": {
    "cell_style": "split",
    "colab": {
     "base_uri": "https://localhost:8080/",
     "height": 334
    },
    "executionInfo": {
     "elapsed": 22,
     "status": "ok",
     "timestamp": 1675145448101,
     "user": {
      "displayName": "SHIVKUMAR CHAUHAN",
      "userId": "00181769091967804430"
     },
     "user_tz": -330
    },
    "id": "306facfd",
    "outputId": "7ccdae69-9585-4e5a-a28e-8d7d900e70b9"
   },
   "outputs": [
    {
     "data": {
      "image/png": "[encoded data removed]",
      "text/plain": [
       "<Figure size 500x300 with 1 Axes>"
      ]
     },
     "metadata": {},
     "output_type": "display_data"
    }
   ],
   "source": [
    "normalDistributionGraphGenarator(TTEST_Data['Post_Score'],\n",
    "                                 TTEST_Data['Pre_Score'])"
   ]
  },
  {
   "cell_type": "code",
   "execution_count": 60,
   "id": "640edd9a",
   "metadata": {},
   "outputs": [
    {
     "data": {
      "text/html": [
       "<div>\n",
       "<style scoped>\n",
       "    .dataframe tbody tr th:only-of-type {\n",
       "        vertical-align: middle;\n",
       "    }\n",
       "\n",
       "    .dataframe tbody tr th {\n",
       "        vertical-align: top;\n",
       "    }\n",
       "\n",
       "    .dataframe thead th {\n",
       "        text-align: right;\n",
       "    }\n",
       "</style>\n",
       "<table border=\"1\" class=\"dataframe\">\n",
       "  <thead>\n",
       "    <tr style=\"text-align: right;\">\n",
       "      <th></th>\n",
       "      <th>iso_code</th>\n",
       "      <th>continent</th>\n",
       "      <th>location</th>\n",
       "      <th>last_updated_date</th>\n",
       "      <th>total_cases</th>\n",
       "      <th>new_cases</th>\n",
       "      <th>total_deaths</th>\n",
       "      <th>new_deaths</th>\n",
       "      <th>population</th>\n",
       "    </tr>\n",
       "  </thead>\n",
       "  <tbody>\n",
       "    <tr>\n",
       "      <th>0</th>\n",
       "      <td>USA</td>\n",
       "      <td>North America</td>\n",
       "      <td>United States</td>\n",
       "      <td>2023-02-12</td>\n",
       "      <td>102849008.0</td>\n",
       "      <td>2469.0</td>\n",
       "      <td>1114377.0</td>\n",
       "      <td>6.0</td>\n",
       "      <td>3.382899e+08</td>\n",
       "    </tr>\n",
       "    <tr>\n",
       "      <th>1</th>\n",
       "      <td>IND</td>\n",
       "      <td>Asia</td>\n",
       "      <td>India</td>\n",
       "      <td>2023-02-12</td>\n",
       "      <td>44685425.0</td>\n",
       "      <td>206.0</td>\n",
       "      <td>530753.0</td>\n",
       "      <td>3.0</td>\n",
       "      <td>1.417173e+09</td>\n",
       "    </tr>\n",
       "    <tr>\n",
       "      <th>2</th>\n",
       "      <td>FRA</td>\n",
       "      <td>Europe</td>\n",
       "      <td>France</td>\n",
       "      <td>2023-02-12</td>\n",
       "      <td>39599210.0</td>\n",
       "      <td>3366.0</td>\n",
       "      <td>164606.0</td>\n",
       "      <td>20.0</td>\n",
       "      <td>6.781300e+07</td>\n",
       "    </tr>\n",
       "    <tr>\n",
       "      <th>3</th>\n",
       "      <td>DEU</td>\n",
       "      <td>Europe</td>\n",
       "      <td>Germany</td>\n",
       "      <td>2023-02-13</td>\n",
       "      <td>37907312.0</td>\n",
       "      <td>13420.0</td>\n",
       "      <td>166763.0</td>\n",
       "      <td>103.0</td>\n",
       "      <td>8.336984e+07</td>\n",
       "    </tr>\n",
       "    <tr>\n",
       "      <th>4</th>\n",
       "      <td>BRA</td>\n",
       "      <td>South America</td>\n",
       "      <td>Brazil</td>\n",
       "      <td>2023-02-12</td>\n",
       "      <td>36932830.0</td>\n",
       "      <td>2491.0</td>\n",
       "      <td>697674.0</td>\n",
       "      <td>12.0</td>\n",
       "      <td>2.153135e+08</td>\n",
       "    </tr>\n",
       "    <tr>\n",
       "      <th>...</th>\n",
       "      <td>...</td>\n",
       "      <td>...</td>\n",
       "      <td>...</td>\n",
       "      <td>...</td>\n",
       "      <td>...</td>\n",
       "      <td>...</td>\n",
       "      <td>...</td>\n",
       "      <td>...</td>\n",
       "      <td>...</td>\n",
       "    </tr>\n",
       "    <tr>\n",
       "      <th>209</th>\n",
       "      <td>MAC</td>\n",
       "      <td>Asia</td>\n",
       "      <td>Macao</td>\n",
       "      <td>2023-02-12</td>\n",
       "      <td>3507.0</td>\n",
       "      <td>0.0</td>\n",
       "      <td>121.0</td>\n",
       "      <td>0.0</td>\n",
       "      <td>6.951800e+05</td>\n",
       "    </tr>\n",
       "    <tr>\n",
       "      <th>210</th>\n",
       "      <td>SPM</td>\n",
       "      <td>North America</td>\n",
       "      <td>Saint Pierre and Miquelon</td>\n",
       "      <td>2023-02-12</td>\n",
       "      <td>3452.0</td>\n",
       "      <td>0.0</td>\n",
       "      <td>2.0</td>\n",
       "      <td>0.0</td>\n",
       "      <td>5.885000e+03</td>\n",
       "    </tr>\n",
       "    <tr>\n",
       "      <th>211</th>\n",
       "      <td>WLF</td>\n",
       "      <td>Oceania</td>\n",
       "      <td>Wallis and Futuna</td>\n",
       "      <td>2023-02-12</td>\n",
       "      <td>3427.0</td>\n",
       "      <td>0.0</td>\n",
       "      <td>7.0</td>\n",
       "      <td>0.0</td>\n",
       "      <td>1.159600e+04</td>\n",
       "    </tr>\n",
       "    <tr>\n",
       "      <th>212</th>\n",
       "      <td>MSR</td>\n",
       "      <td>North America</td>\n",
       "      <td>Montserrat</td>\n",
       "      <td>2023-02-12</td>\n",
       "      <td>1403.0</td>\n",
       "      <td>0.0</td>\n",
       "      <td>8.0</td>\n",
       "      <td>0.0</td>\n",
       "      <td>4.413000e+03</td>\n",
       "    </tr>\n",
       "    <tr>\n",
       "      <th>213</th>\n",
       "      <td>PRK</td>\n",
       "      <td>Asia</td>\n",
       "      <td>North Korea</td>\n",
       "      <td>2023-02-12</td>\n",
       "      <td>1.0</td>\n",
       "      <td>0.0</td>\n",
       "      <td>6.0</td>\n",
       "      <td>0.0</td>\n",
       "      <td>2.606942e+07</td>\n",
       "    </tr>\n",
       "  </tbody>\n",
       "</table>\n",
       "<p>214 rows × 9 columns</p>\n",
       "</div>"
      ],
      "text/plain": [
       "    iso_code      continent                   location last_updated_date  \\\n",
       "0        USA  North America              United States        2023-02-12   \n",
       "1        IND           Asia                      India        2023-02-12   \n",
       "2        FRA         Europe                     France        2023-02-12   \n",
       "3        DEU         Europe                    Germany        2023-02-13   \n",
       "4        BRA  South America                     Brazil        2023-02-12   \n",
       "..       ...            ...                        ...               ...   \n",
       "209      MAC           Asia                      Macao        2023-02-12   \n",
       "210      SPM  North America  Saint Pierre and Miquelon        2023-02-12   \n",
       "211      WLF        Oceania          Wallis and Futuna        2023-02-12   \n",
       "212      MSR  North America                 Montserrat        2023-02-12   \n",
       "213      PRK           Asia                North Korea        2023-02-12   \n",
       "\n",
       "     total_cases  new_cases  total_deaths  new_deaths    population  \n",
       "0    102849008.0     2469.0     1114377.0         6.0  3.382899e+08  \n",
       "1     44685425.0      206.0      530753.0         3.0  1.417173e+09  \n",
       "2     39599210.0     3366.0      164606.0        20.0  6.781300e+07  \n",
       "3     37907312.0    13420.0      166763.0       103.0  8.336984e+07  \n",
       "4     36932830.0     2491.0      697674.0        12.0  2.153135e+08  \n",
       "..           ...        ...           ...         ...           ...  \n",
       "209       3507.0        0.0         121.0         0.0  6.951800e+05  \n",
       "210       3452.0        0.0           2.0         0.0  5.885000e+03  \n",
       "211       3427.0        0.0           7.0         0.0  1.159600e+04  \n",
       "212       1403.0        0.0           8.0         0.0  4.413000e+03  \n",
       "213          1.0        0.0           6.0         0.0  2.606942e+07  \n",
       "\n",
       "[214 rows x 9 columns]"
      ]
     },
     "execution_count": 60,
     "metadata": {},
     "output_type": "execute_result"
    }
   ],
   "source": [
    "Data"
   ]
  },
  {
   "cell_type": "code",
   "execution_count": 61,
   "id": "f8f7981e",
   "metadata": {
    "cell_style": "split"
   },
   "outputs": [
    {
     "data": {
      "text/html": [
       "<div>\n",
       "<style scoped>\n",
       "    .dataframe tbody tr th:only-of-type {\n",
       "        vertical-align: middle;\n",
       "    }\n",
       "\n",
       "    .dataframe tbody tr th {\n",
       "        vertical-align: top;\n",
       "    }\n",
       "\n",
       "    .dataframe thead th {\n",
       "        text-align: right;\n",
       "    }\n",
       "</style>\n",
       "<table border=\"1\" class=\"dataframe\">\n",
       "  <thead>\n",
       "    <tr style=\"text-align: right;\">\n",
       "      <th></th>\n",
       "      <th>total_cases</th>\n",
       "      <th>new_cases</th>\n",
       "      <th>total_deaths</th>\n",
       "      <th>new_deaths</th>\n",
       "      <th>population</th>\n",
       "    </tr>\n",
       "  </thead>\n",
       "  <tbody>\n",
       "    <tr>\n",
       "      <th>count</th>\n",
       "      <td>2.140000e+02</td>\n",
       "      <td>214.000000</td>\n",
       "      <td>2.140000e+02</td>\n",
       "      <td>214.000000</td>\n",
       "      <td>2.140000e+02</td>\n",
       "    </tr>\n",
       "    <tr>\n",
       "      <th>mean</th>\n",
       "      <td>3.143877e+06</td>\n",
       "      <td>954.443925</td>\n",
       "      <td>3.202823e+04</td>\n",
       "      <td>10.962617</td>\n",
       "      <td>3.721731e+07</td>\n",
       "    </tr>\n",
       "    <tr>\n",
       "      <th>std</th>\n",
       "      <td>9.762229e+06</td>\n",
       "      <td>3439.434649</td>\n",
       "      <td>1.070663e+05</td>\n",
       "      <td>45.372206</td>\n",
       "      <td>1.426430e+08</td>\n",
       "    </tr>\n",
       "    <tr>\n",
       "      <th>min</th>\n",
       "      <td>1.000000e+00</td>\n",
       "      <td>0.000000</td>\n",
       "      <td>1.000000e+00</td>\n",
       "      <td>0.000000</td>\n",
       "      <td>4.413000e+03</td>\n",
       "    </tr>\n",
       "    <tr>\n",
       "      <th>25%</th>\n",
       "      <td>3.314375e+04</td>\n",
       "      <td>0.000000</td>\n",
       "      <td>2.840000e+02</td>\n",
       "      <td>0.000000</td>\n",
       "      <td>8.515890e+05</td>\n",
       "    </tr>\n",
       "    <tr>\n",
       "      <th>50%</th>\n",
       "      <td>2.689360e+05</td>\n",
       "      <td>0.000000</td>\n",
       "      <td>2.800000e+03</td>\n",
       "      <td>0.000000</td>\n",
       "      <td>6.797150e+06</td>\n",
       "    </tr>\n",
       "    <tr>\n",
       "      <th>75%</th>\n",
       "      <td>1.491994e+06</td>\n",
       "      <td>221.000000</td>\n",
       "      <td>1.706250e+04</td>\n",
       "      <td>0.000000</td>\n",
       "      <td>2.620034e+07</td>\n",
       "    </tr>\n",
       "    <tr>\n",
       "      <th>max</th>\n",
       "      <td>1.028490e+08</td>\n",
       "      <td>30901.000000</td>\n",
       "      <td>1.114377e+06</td>\n",
       "      <td>355.000000</td>\n",
       "      <td>1.425887e+09</td>\n",
       "    </tr>\n",
       "  </tbody>\n",
       "</table>\n",
       "</div>"
      ],
      "text/plain": [
       "        total_cases     new_cases  total_deaths  new_deaths    population\n",
       "count  2.140000e+02    214.000000  2.140000e+02  214.000000  2.140000e+02\n",
       "mean   3.143877e+06    954.443925  3.202823e+04   10.962617  3.721731e+07\n",
       "std    9.762229e+06   3439.434649  1.070663e+05   45.372206  1.426430e+08\n",
       "min    1.000000e+00      0.000000  1.000000e+00    0.000000  4.413000e+03\n",
       "25%    3.314375e+04      0.000000  2.840000e+02    0.000000  8.515890e+05\n",
       "50%    2.689360e+05      0.000000  2.800000e+03    0.000000  6.797150e+06\n",
       "75%    1.491994e+06    221.000000  1.706250e+04    0.000000  2.620034e+07\n",
       "max    1.028490e+08  30901.000000  1.114377e+06  355.000000  1.425887e+09"
      ]
     },
     "execution_count": 61,
     "metadata": {},
     "output_type": "execute_result"
    }
   ],
   "source": [
    "Data.describe()"
   ]
  },
  {
   "cell_type": "code",
   "execution_count": 54,
   "id": "c583f24a",
   "metadata": {
    "ExecuteTime": {
     "end_time": "2023-03-27T22:58:56.850357Z",
     "start_time": "2023-03-27T22:58:56.527198Z"
    },
    "cell_style": "center",
    "run_control": {
     "marked": false
    }
   },
   "outputs": [
    {
     "data": {
      "image/png": "[encoded data removed]",
      "text/plain": [
       "<Figure size 800x500 with 1 Axes>"
      ]
     },
     "metadata": {},
     "output_type": "display_data"
    }
   ],
   "source": [
    "normalDistributionGraphGenarator(Data['total_cases'])"
   ]
  },
  {
   "cell_type": "code",
   "execution_count": 55,
   "id": "0b3f596d",
   "metadata": {
    "ExecuteTime": {
     "end_time": "2023-03-27T22:58:57.929275Z",
     "start_time": "2023-03-27T22:58:57.600625Z"
    },
    "cell_style": "center"
   },
   "outputs": [
    {
     "data": {
      "image/png": "[encoded data removed]",
      "text/plain": [
       "<Figure size 800x500 with 1 Axes>"
      ]
     },
     "metadata": {},
     "output_type": "display_data"
    }
   ],
   "source": [
    "normalDistributionGraphGenarator(Data['new_cases'])"
   ]
  },
  {
   "cell_type": "code",
   "execution_count": 56,
   "id": "d3e03283",
   "metadata": {
    "ExecuteTime": {
     "end_time": "2023-03-27T22:58:58.804607Z",
     "start_time": "2023-03-27T22:58:58.428014Z"
    },
    "cell_style": "center",
    "scrolled": true
   },
   "outputs": [
    {
     "data": {
      "image/png": "[encoded data removed]",
      "text/plain": [
       "<Figure size 800x500 with 1 Axes>"
      ]
     },
     "metadata": {},
     "output_type": "display_data"
    }
   ],
   "source": [
    "normalDistributionGraphGenarator(Data['total_deaths'])"
   ]
  },
  {
   "cell_type": "code",
   "execution_count": 57,
   "id": "ef0f7ffb",
   "metadata": {
    "ExecuteTime": {
     "end_time": "2023-03-27T22:59:03.302785Z",
     "start_time": "2023-03-27T22:59:02.932132Z"
    },
    "cell_style": "center"
   },
   "outputs": [
    {
     "data": {
      "image/png": "[encoded data removed]",
      "text/plain": [
       "<Figure size 800x500 with 1 Axes>"
      ]
     },
     "metadata": {},
     "output_type": "display_data"
    }
   ],
   "source": [
    "normalDistributionGraphGenarator(Data['new_deaths'])"
   ]
  },
  {
   "cell_type": "code",
   "execution_count": 58,
   "id": "f6688619",
   "metadata": {
    "ExecuteTime": {
     "end_time": "2023-03-27T22:59:07.107880Z",
     "start_time": "2023-03-27T22:59:06.818965Z"
    },
    "cell_style": "split"
   },
   "outputs": [
    {
     "data": {
      "image/png": "[encoded data removed]",
      "text/plain": [
       "<Figure size 800x500 with 1 Axes>"
      ]
     },
     "metadata": {},
     "output_type": "display_data"
    }
   ],
   "source": [
    "normalDistributionGraphGenarator(Data['life_'])"
   ]
  },
  {
   "cell_type": "code",
   "execution_count": 60,
   "id": "2288a01f",
   "metadata": {
    "ExecuteTime": {
     "end_time": "2023-03-27T22:59:59.269751Z",
     "start_time": "2023-03-27T22:59:59.233842Z"
    }
   },
   "outputs": [
    {
     "data": {
      "text/html": [
       "<div>\n",
       "<style scoped>\n",
       "    .dataframe tbody tr th:only-of-type {\n",
       "        vertical-align: middle;\n",
       "    }\n",
       "\n",
       "    .dataframe tbody tr th {\n",
       "        vertical-align: top;\n",
       "    }\n",
       "\n",
       "    .dataframe thead th {\n",
       "        text-align: right;\n",
       "    }\n",
       "</style>\n",
       "<table border=\"1\" class=\"dataframe\">\n",
       "  <thead>\n",
       "    <tr style=\"text-align: right;\">\n",
       "      <th></th>\n",
       "      <th>total_cases</th>\n",
       "      <th>date</th>\n",
       "    </tr>\n",
       "  </thead>\n",
       "  <tbody>\n",
       "    <tr>\n",
       "      <th>0</th>\n",
       "      <td>44696984.0</td>\n",
       "      <td>2023-03-21</td>\n",
       "    </tr>\n",
       "    <tr>\n",
       "      <th>1</th>\n",
       "      <td>44696338.0</td>\n",
       "      <td>2023-03-20</td>\n",
       "    </tr>\n",
       "    <tr>\n",
       "      <th>2</th>\n",
       "      <td>44695420.0</td>\n",
       "      <td>2023-03-19</td>\n",
       "    </tr>\n",
       "    <tr>\n",
       "      <th>3</th>\n",
       "      <td>44694349.0</td>\n",
       "      <td>2023-03-18</td>\n",
       "    </tr>\n",
       "    <tr>\n",
       "      <th>4</th>\n",
       "      <td>44693506.0</td>\n",
       "      <td>2023-03-17</td>\n",
       "    </tr>\n",
       "    <tr>\n",
       "      <th>...</th>\n",
       "      <td>...</td>\n",
       "      <td>...</td>\n",
       "    </tr>\n",
       "    <tr>\n",
       "      <th>1098</th>\n",
       "      <td>137.0</td>\n",
       "      <td>2020-03-17</td>\n",
       "    </tr>\n",
       "    <tr>\n",
       "      <th>1099</th>\n",
       "      <td>114.0</td>\n",
       "      <td>2020-03-16</td>\n",
       "    </tr>\n",
       "    <tr>\n",
       "      <th>1100</th>\n",
       "      <td>107.0</td>\n",
       "      <td>2020-03-15</td>\n",
       "    </tr>\n",
       "    <tr>\n",
       "      <th>1101</th>\n",
       "      <td>84.0</td>\n",
       "      <td>2020-03-14</td>\n",
       "    </tr>\n",
       "    <tr>\n",
       "      <th>1102</th>\n",
       "      <td>81.0</td>\n",
       "      <td>2020-03-13</td>\n",
       "    </tr>\n",
       "  </tbody>\n",
       "</table>\n",
       "<p>1103 rows × 2 columns</p>\n",
       "</div>"
      ],
      "text/plain": [
       "      total_cases        date\n",
       "0      44696984.0  2023-03-21\n",
       "1      44696338.0  2023-03-20\n",
       "2      44695420.0  2023-03-19\n",
       "3      44694349.0  2023-03-18\n",
       "4      44693506.0  2023-03-17\n",
       "...           ...         ...\n",
       "1098        137.0  2020-03-17\n",
       "1099        114.0  2020-03-16\n",
       "1100        107.0  2020-03-15\n",
       "1101         84.0  2020-03-14\n",
       "1102         81.0  2020-03-13\n",
       "\n",
       "[1103 rows x 2 columns]"
      ]
     },
     "execution_count": 60,
     "metadata": {},
     "output_type": "execute_result"
    }
   ],
   "source": [
    "Data[['total_cases','date']]"
   ]
  },
  {
   "cell_type": "markdown",
   "id": "46fa9267",
   "metadata": {
    "id": "46fa9267"
   },
   "source": [
    "# Hypothesis Testing\n",
    "Default Testing is based on Two-side values (Two-tailed-test)"
   ]
  },
  {
   "cell_type": "markdown",
   "id": "f77bbb6d",
   "metadata": {
    "id": "f77bbb6d"
   },
   "source": [
    "## t-test"
   ]
  },
  {
   "cell_type": "code",
   "execution_count": 62,
   "id": "71f35d13",
   "metadata": {
    "colab": {
     "base_uri": "https://localhost:8080/",
     "height": 301
    },
    "executionInfo": {
     "elapsed": 14,
     "status": "ok",
     "timestamp": 1675145448983,
     "user": {
      "displayName": "SHIVKUMAR CHAUHAN",
      "userId": "00181769091967804430"
     },
     "user_tz": -330
    },
    "id": "71f35d13",
    "outputId": "23994e57-47f5-4f66-d592-90c40052451a",
    "scrolled": false
   },
   "outputs": [
    {
     "data": {
      "text/html": [
       "<div>\n",
       "<style scoped>\n",
       "    .dataframe tbody tr th:only-of-type {\n",
       "        vertical-align: middle;\n",
       "    }\n",
       "\n",
       "    .dataframe tbody tr th {\n",
       "        vertical-align: top;\n",
       "    }\n",
       "\n",
       "    .dataframe thead th {\n",
       "        text-align: right;\n",
       "    }\n",
       "</style>\n",
       "<table border=\"1\" class=\"dataframe\">\n",
       "  <thead>\n",
       "    <tr style=\"text-align: right;\">\n",
       "      <th></th>\n",
       "      <th>Pre_Score</th>\n",
       "      <th>Post_Score</th>\n",
       "    </tr>\n",
       "  </thead>\n",
       "  <tbody>\n",
       "    <tr>\n",
       "      <th>count</th>\n",
       "      <td>20.000000</td>\n",
       "      <td>20.000000</td>\n",
       "    </tr>\n",
       "    <tr>\n",
       "      <th>mean</th>\n",
       "      <td>18.400000</td>\n",
       "      <td>20.450000</td>\n",
       "    </tr>\n",
       "    <tr>\n",
       "      <th>std</th>\n",
       "      <td>3.152276</td>\n",
       "      <td>4.058454</td>\n",
       "    </tr>\n",
       "    <tr>\n",
       "      <th>min</th>\n",
       "      <td>12.000000</td>\n",
       "      <td>15.000000</td>\n",
       "    </tr>\n",
       "    <tr>\n",
       "      <th>25%</th>\n",
       "      <td>16.000000</td>\n",
       "      <td>17.750000</td>\n",
       "    </tr>\n",
       "    <tr>\n",
       "      <th>50%</th>\n",
       "      <td>18.000000</td>\n",
       "      <td>19.500000</td>\n",
       "    </tr>\n",
       "    <tr>\n",
       "      <th>75%</th>\n",
       "      <td>21.000000</td>\n",
       "      <td>24.000000</td>\n",
       "    </tr>\n",
       "    <tr>\n",
       "      <th>max</th>\n",
       "      <td>24.000000</td>\n",
       "      <td>29.000000</td>\n",
       "    </tr>\n",
       "  </tbody>\n",
       "</table>\n",
       "</div>"
      ],
      "text/plain": [
       "       Pre_Score  Post_Score\n",
       "count  20.000000   20.000000\n",
       "mean   18.400000   20.450000\n",
       "std     3.152276    4.058454\n",
       "min    12.000000   15.000000\n",
       "25%    16.000000   17.750000\n",
       "50%    18.000000   19.500000\n",
       "75%    21.000000   24.000000\n",
       "max    24.000000   29.000000"
      ]
     },
     "execution_count": 62,
     "metadata": {},
     "output_type": "execute_result"
    }
   ],
   "source": [
    "TTEST_Data.describe()"
   ]
  },
  {
   "cell_type": "markdown",
   "id": "840beaf2",
   "metadata": {
    "id": "840beaf2"
   },
   "source": [
    "### one sample test"
   ]
  },
  {
   "cell_type": "markdown",
   "id": "d3500d91",
   "metadata": {
    "id": "d3500d91"
   },
   "source": [
    "##### for column Pre_Score "
   ]
  },
  {
   "cell_type": "markdown",
   "id": "a1c7119d",
   "metadata": {
    "id": "a1c7119d"
   },
   "source": [
    "NULL Hypothesis (Ho): The values of column Pre_Score is around 20\n",
    "\n",
    "hence let for Ho population_mean=20"
   ]
  },
  {
   "cell_type": "code",
   "execution_count": 63,
   "id": "f2666a55",
   "metadata": {
    "executionInfo": {
     "elapsed": 7,
     "status": "ok",
     "timestamp": 1675145969329,
     "user": {
      "displayName": "SHIVKUMAR CHAUHAN",
      "userId": "00181769091967804430"
     },
     "user_tz": -330
    },
    "id": "f2666a55"
   },
   "outputs": [],
   "source": [
    "population_mean=20"
   ]
  },
  {
   "cell_type": "code",
   "execution_count": 64,
   "id": "a2b5b5ca",
   "metadata": {
    "colab": {
     "base_uri": "https://localhost:8080/"
    },
    "executionInfo": {
     "elapsed": 8,
     "status": "ok",
     "timestamp": 1675145969759,
     "user": {
      "displayName": "SHIVKUMAR CHAUHAN",
      "userId": "00181769091967804430"
     },
     "user_tz": -330
    },
    "id": "a2b5b5ca",
    "outputId": "f1effcc6-32ed-4abc-e71b-ee39a1fa2ad5"
   },
   "outputs": [
    {
     "name": "stdout",
     "output_type": "stream",
     "text": [
      "Statistic Value:  2.2699212261400974 \n",
      "Probability-Value:  0.03504258228701023\n",
      "NULL hypothesis is Rejected\n",
      "Values of column is not around 20\n"
     ]
    },
    {
     "data": {
      "text/plain": [
       "False"
      ]
     },
     "execution_count": 64,
     "metadata": {},
     "output_type": "execute_result"
    }
   ],
   "source": [
    "stats_value,p_value=scipy.stats.ttest_1samp(TTEST_Data['Pre_Score'],popmean=population_mean)\n",
    "checkHypothesis(stats_value,p_value,\"Values of the column is around \"+str(population_mean),\"Values of column is not around \"+str(population_mean))"
   ]
  },
  {
   "cell_type": "markdown",
   "id": "38541188",
   "metadata": {
    "id": "38541188"
   },
   "source": [
    "###### Explaination for above case\n",
    "\n",
    "- given population_mean is **20**\n",
    "- if we see actual mean of column Pre_Score is **18.4**\n",
    "- Now defined level of significance is **0.05 (5%)**\n",
    "- hence by level of significance, given column should have 95% of total mean of population mean\n",
    "- calculated probability value is :  **0.03504** (p_value) \n",
    "- this is cumulative probability of all elements of the data\n",
    "- here p_value is **less** than TTEST_Level_of_Significance\n",
    "- hence the probability of coccurence of the data in given population is less than defined permissible value \n",
    "- hence are assumption of that values are around is 20 is gone wrong\n",
    "- hence NULL Hypothesis is Rejected"
   ]
  },
  {
   "cell_type": "markdown",
   "id": "00fa8646",
   "metadata": {
    "id": "00fa8646"
   },
   "source": [
    "##### for column Post_Score "
   ]
  },
  {
   "cell_type": "markdown",
   "id": "8c91cdde",
   "metadata": {
    "id": "8c91cdde"
   },
   "source": [
    "NULL Hypothesis (Ho): The values of column Post_Score is around 20\n",
    "\n",
    "hence let for Ho population_mean=20"
   ]
  },
  {
   "cell_type": "code",
   "execution_count": 65,
   "id": "a00a539d",
   "metadata": {
    "executionInfo": {
     "elapsed": 5,
     "status": "ok",
     "timestamp": 1675145614178,
     "user": {
      "displayName": "SHIVKUMAR CHAUHAN",
      "userId": "00181769091967804430"
     },
     "user_tz": -330
    },
    "id": "a00a539d"
   },
   "outputs": [],
   "source": [
    "population_mean=20"
   ]
  },
  {
   "cell_type": "code",
   "execution_count": 70,
   "id": "ac389c58",
   "metadata": {
    "colab": {
     "base_uri": "https://localhost:8080/"
    },
    "executionInfo": {
     "elapsed": 437,
     "status": "ok",
     "timestamp": 1675146005654,
     "user": {
      "displayName": "SHIVKUMAR CHAUHAN",
      "userId": "00181769091967804430"
     },
     "user_tz": -330
    },
    "id": "ac389c58",
    "outputId": "7ca8fd33-a086-42cc-d5b3-daa86c003c03"
   },
   "outputs": [
    {
     "name": "stdout",
     "output_type": "stream",
     "text": [
      "Statistic Value:  0.49586885793428465 \n",
      "Probability-Value:  0.6256740287436588\n",
      "NULL Hypothesis is Accepted\n",
      "Values of the column is around 20\n"
     ]
    },
    {
     "data": {
      "text/plain": [
       "True"
      ]
     },
     "execution_count": 70,
     "metadata": {},
     "output_type": "execute_result"
    }
   ],
   "source": [
    "stats_value,p_value=scipy.stats.ttest_1samp(TTEST_Data['Post_Score'],popmean=population_mean)\n",
    "checkHypothesis(stats_value,p_value,\"Values of the column is around \"+str(population_mean),\"Values of column is not around \"+str(population_mean))"
   ]
  },
  {
   "cell_type": "markdown",
   "id": "21a47e3b",
   "metadata": {
    "id": "21a47e3b"
   },
   "source": [
    "###### Explaination for above case\n",
    "\n",
    "- given population_mean is **20**\n",
    "- if we see actual mean of column Pre_Score is **20.45**\n",
    "- Now defined level of significance is 0.05 (5%)\n",
    "- hence by level of significance, given column should have 95% of total mean of population mean\n",
    "- calculated probability value is :  **0.6256 (p_value)**\n",
    "- this is cumulative probability of all elements of the data\n",
    "- here p_value is **Greater** than TTEST_Level_of_Significance\n",
    "- hence the probability of coccurence of the data in given population is greater than defined permissible value \n",
    "- hence are assumption of that values are around is 20 is right\n",
    "- hence NULL Hypothesis is Accepted"
   ]
  },
  {
   "cell_type": "markdown",
   "id": "18ac07a7",
   "metadata": {
    "id": "18ac07a7"
   },
   "source": [
    "### Two sample Test"
   ]
  },
  {
   "cell_type": "markdown",
   "id": "df522d44",
   "metadata": {
    "id": "df522d44"
   },
   "source": [
    "NULL Hypothesis (Ho): The values of column Post_Score and values of column Pre_Score is same\n",
    "\n",
    "hence let Ho: means for both columns is same x1_mean=x2_mean"
   ]
  },
  {
   "cell_type": "code",
   "execution_count": 73,
   "id": "65fde19d",
   "metadata": {
    "colab": {
     "base_uri": "https://localhost:8080/"
    },
    "executionInfo": {
     "elapsed": 1076,
     "status": "ok",
     "timestamp": 1675146062589,
     "user": {
      "displayName": "SHIVKUMAR CHAUHAN",
      "userId": "00181769091967804430"
     },
     "user_tz": -330
    },
    "id": "65fde19d",
    "outputId": "9cd13ca3-2d7a-40c4-c66d-0dd3f8496a57"
   },
   "outputs": [
    {
     "name": "stdout",
     "output_type": "stream",
     "text": [
      "Statistic Value:  1.7840292427015179 \n",
      "Probability-Value:  0.0824061077656375\n",
      "NULL Hypothesis is Accepted\n",
      "samples have nearly identical average (expected) values\n"
     ]
    },
    {
     "data": {
      "text/plain": [
       "True"
      ]
     },
     "execution_count": 73,
     "metadata": {},
     "output_type": "execute_result"
    }
   ],
   "source": [
    "stats_value,p_value=scipy.stats.ttest_ind(TTEST_Data['Post_Score'],TTEST_Data['Pre_Score'])\n",
    "checkHypothesis(stats_value,p_value)"
   ]
  },
  {
   "cell_type": "markdown",
   "id": "3ba9e68f",
   "metadata": {
    "id": "3ba9e68f"
   },
   "source": [
    "###### Explaination for above case\n",
    "- Now defined level of significance is 0.05 (5%)\n",
    "- hence by level of significance, given column should have 95% of total mean of population mean\n",
    "- calculated probability value is :  **0.082406(p_value)**\n",
    "- this is cumulative probability of all elements of the data for both columns to each other\n",
    "- here p_value is **More** than TTEST_Level_of_Significance\n",
    "- hence the probability of is **greater** than defined permissible value \n",
    "- hence our assumption of that values are from same population is correct\n",
    "- hence NULL Hypothesis is Accepted\n",
    "\n",
    "Extra:\n",
    "here means of both column are get calculated and mean of one column is tested to elements of other column and vice-versa, and final probability get calculated"
   ]
  },
  {
   "cell_type": "markdown",
   "id": "fd39ade6",
   "metadata": {
    "id": "fd39ade6"
   },
   "source": [
    "## ANOVA test"
   ]
  },
  {
   "cell_type": "code",
   "execution_count": 74,
   "id": "aded7e6b",
   "metadata": {
    "colab": {
     "base_uri": "https://localhost:8080/",
     "height": 300
    },
    "executionInfo": {
     "elapsed": 12,
     "status": "ok",
     "timestamp": 1674885171209,
     "user": {
      "displayName": "SHIVKUMAR CHAUHAN",
      "userId": "00181769091967804430"
     },
     "user_tz": -330
    },
    "id": "aded7e6b",
    "outputId": "1f2b77de-a8e7-403f-926a-d5dd021c5c32"
   },
   "outputs": [
    {
     "data": {
      "text/html": [
       "<div>\n",
       "<style scoped>\n",
       "    .dataframe tbody tr th:only-of-type {\n",
       "        vertical-align: middle;\n",
       "    }\n",
       "\n",
       "    .dataframe tbody tr th {\n",
       "        vertical-align: top;\n",
       "    }\n",
       "\n",
       "    .dataframe thead th {\n",
       "        text-align: right;\n",
       "    }\n",
       "</style>\n",
       "<table border=\"1\" class=\"dataframe\">\n",
       "  <thead>\n",
       "    <tr style=\"text-align: right;\">\n",
       "      <th></th>\n",
       "      <th>Honey Chicken</th>\n",
       "      <th>Pepper Chicken</th>\n",
       "      <th>Spicy Chicken</th>\n",
       "      <th>Tandoori Chicken</th>\n",
       "    </tr>\n",
       "  </thead>\n",
       "  <tbody>\n",
       "    <tr>\n",
       "      <th>count</th>\n",
       "      <td>7.00000</td>\n",
       "      <td>7.000000</td>\n",
       "      <td>7.000000</td>\n",
       "      <td>7.000000</td>\n",
       "    </tr>\n",
       "    <tr>\n",
       "      <th>mean</th>\n",
       "      <td>8.00000</td>\n",
       "      <td>6.571429</td>\n",
       "      <td>6.857143</td>\n",
       "      <td>6.000000</td>\n",
       "    </tr>\n",
       "    <tr>\n",
       "      <th>std</th>\n",
       "      <td>0.57735</td>\n",
       "      <td>0.975900</td>\n",
       "      <td>0.899735</td>\n",
       "      <td>0.816497</td>\n",
       "    </tr>\n",
       "    <tr>\n",
       "      <th>min</th>\n",
       "      <td>7.00000</td>\n",
       "      <td>5.000000</td>\n",
       "      <td>6.000000</td>\n",
       "      <td>5.000000</td>\n",
       "    </tr>\n",
       "    <tr>\n",
       "      <th>25%</th>\n",
       "      <td>8.00000</td>\n",
       "      <td>6.000000</td>\n",
       "      <td>6.000000</td>\n",
       "      <td>5.500000</td>\n",
       "    </tr>\n",
       "    <tr>\n",
       "      <th>50%</th>\n",
       "      <td>8.00000</td>\n",
       "      <td>7.000000</td>\n",
       "      <td>7.000000</td>\n",
       "      <td>6.000000</td>\n",
       "    </tr>\n",
       "    <tr>\n",
       "      <th>75%</th>\n",
       "      <td>8.00000</td>\n",
       "      <td>7.000000</td>\n",
       "      <td>7.500000</td>\n",
       "      <td>6.500000</td>\n",
       "    </tr>\n",
       "    <tr>\n",
       "      <th>max</th>\n",
       "      <td>9.00000</td>\n",
       "      <td>8.000000</td>\n",
       "      <td>8.000000</td>\n",
       "      <td>7.000000</td>\n",
       "    </tr>\n",
       "  </tbody>\n",
       "</table>\n",
       "</div>"
      ],
      "text/plain": [
       "       Honey Chicken  Pepper Chicken  Spicy Chicken  Tandoori Chicken\n",
       "count        7.00000        7.000000       7.000000          7.000000\n",
       "mean         8.00000        6.571429       6.857143          6.000000\n",
       "std          0.57735        0.975900       0.899735          0.816497\n",
       "min          7.00000        5.000000       6.000000          5.000000\n",
       "25%          8.00000        6.000000       6.000000          5.500000\n",
       "50%          8.00000        7.000000       7.000000          6.000000\n",
       "75%          8.00000        7.000000       7.500000          6.500000\n",
       "max          9.00000        8.000000       8.000000          7.000000"
      ]
     },
     "execution_count": 74,
     "metadata": {},
     "output_type": "execute_result"
    }
   ],
   "source": [
    "ANOVA_Data.describe()"
   ]
  },
  {
   "cell_type": "markdown",
   "id": "30d48d5d",
   "metadata": {
    "cell_style": "split",
    "id": "30d48d5d"
   },
   "source": [
    "#### ANOVA test for all column"
   ]
  },
  {
   "cell_type": "markdown",
   "id": "094a785a",
   "metadata": {
    "cell_style": "split",
    "id": "094a785a"
   },
   "source": [
    "#### ANOVA test for last three columns"
   ]
  },
  {
   "cell_type": "code",
   "execution_count": 75,
   "id": "d443b5b1",
   "metadata": {
    "cell_style": "split",
    "colab": {
     "base_uri": "https://localhost:8080/"
    },
    "executionInfo": {
     "elapsed": 3,
     "status": "ok",
     "timestamp": 1674885171825,
     "user": {
      "displayName": "SHIVKUMAR CHAUHAN",
      "userId": "00181769091967804430"
     },
     "user_tz": -330
    },
    "id": "d443b5b1",
    "outputId": "a21bfa28-b2db-4acf-f025-6cbcc255e5f1"
   },
   "outputs": [
    {
     "name": "stdout",
     "output_type": "stream",
     "text": [
      "Statistic Value:  7.172413793103451 \n",
      "Probability-Value:  0.0013322300743224683\n",
      "NULL hypothesis is Rejected\n",
      "samples do not have identical means \n"
     ]
    },
    {
     "data": {
      "text/plain": [
       "False"
      ]
     },
     "execution_count": 75,
     "metadata": {},
     "output_type": "execute_result"
    }
   ],
   "source": [
    "stats_value,p_value=scipy.stats.f_oneway(\n",
    "    ANOVA_Data['Honey Chicken'],\n",
    "    ANOVA_Data['Pepper Chicken'],\n",
    "    ANOVA_Data['Spicy Chicken'],\n",
    "    ANOVA_Data['Tandoori Chicken'])\n",
    "checkHypothesis(stats_value,p_value)"
   ]
  },
  {
   "cell_type": "code",
   "execution_count": 76,
   "id": "220c155e",
   "metadata": {
    "cell_style": "split",
    "colab": {
     "base_uri": "https://localhost:8080/"
    },
    "executionInfo": {
     "elapsed": 7,
     "status": "ok",
     "timestamp": 1675146195346,
     "user": {
      "displayName": "SHIVKUMAR CHAUHAN",
      "userId": "00181769091967804430"
     },
     "user_tz": -330
    },
    "id": "220c155e",
    "outputId": "6dbd7c85-847f-4422-cf02-f0eba479f3d0"
   },
   "outputs": [
    {
     "name": "stdout",
     "output_type": "stream",
     "text": [
      "Statistic Value:  1.647058823529412 \n",
      "Probability-Value:  0.22035134388208824\n",
      "NULL Hypothesis is Accepted\n",
      "samples have nearly identical average (expected) values\n"
     ]
    },
    {
     "data": {
      "text/plain": [
       "True"
      ]
     },
     "execution_count": 76,
     "metadata": {},
     "output_type": "execute_result"
    }
   ],
   "source": [
    "stats_value,p_value=scipy.stats.f_oneway(\n",
    "    ANOVA_Data['Pepper Chicken'],\n",
    "    ANOVA_Data['Spicy Chicken'],\n",
    "    ANOVA_Data['Tandoori Chicken'])\n",
    "checkHypothesis(stats_value,p_value)\n"
   ]
  },
  {
   "cell_type": "markdown",
   "id": "Hysj6aVDROiX",
   "metadata": {
    "cell_style": "split",
    "id": "Hysj6aVDROiX"
   },
   "source": [
    "## D’Agostino normaltest test"
   ]
  },
  {
   "cell_type": "markdown",
   "id": "T3QIFEtKROfa",
   "metadata": {
    "cell_style": "split",
    "id": "T3QIFEtKROfa"
   },
   "source": [
    "## Shapiro-Wilk test"
   ]
  },
  {
   "cell_type": "code",
   "execution_count": 77,
   "id": "K69KD98dU9iB",
   "metadata": {
    "cell_style": "split",
    "colab": {
     "base_uri": "https://localhost:8080/"
    },
    "executionInfo": {
     "elapsed": 494,
     "status": "ok",
     "timestamp": 1675145216771,
     "user": {
      "displayName": "SHIVKUMAR CHAUHAN",
      "userId": "00181769091967804430"
     },
     "user_tz": -330
    },
    "id": "K69KD98dU9iB",
    "outputId": "80f24b6a-0e35-4c16-b5a7-beef6bef9ac9"
   },
   "outputs": [
    {
     "name": "stdout",
     "output_type": "stream",
     "text": [
      "Statistic Value:  0.9851225018501282 \n",
      "Probability-Value:  0.033294178545475006\n",
      "NULL hypothesis is Rejected\n",
      "samples do not have identical means \n"
     ]
    },
    {
     "data": {
      "text/plain": [
       "False"
      ]
     },
     "execution_count": 77,
     "metadata": {},
     "output_type": "execute_result"
    }
   ],
   "source": [
    "stats_value,p_value=scipy.stats.shapiro(\n",
    "    Random_Variable_Array\n",
    ")\n",
    "checkHypothesis(stats_value,p_value)"
   ]
  },
  {
   "cell_type": "code",
   "execution_count": 78,
   "id": "A-C6QJ10Vubb",
   "metadata": {
    "cell_style": "split",
    "id": "A-C6QJ10Vubb"
   },
   "outputs": [
    {
     "name": "stdout",
     "output_type": "stream",
     "text": [
      "Statistic Value:  4.403159740727021 \n",
      "Probability-Value:  0.11062824194526812\n",
      "NULL Hypothesis is Accepted\n",
      "samples have nearly identical average (expected) values\n"
     ]
    },
    {
     "data": {
      "text/plain": [
       "True"
      ]
     },
     "execution_count": 78,
     "metadata": {},
     "output_type": "execute_result"
    }
   ],
   "source": [
    "stats_value,p_value=stats.normaltest(\n",
    "    Random_Variable_Array\n",
    ")\n",
    "checkHypothesis(stats_value,p_value)"
   ]
  },
  {
   "cell_type": "markdown",
   "id": "Iw3Mwx1pV0mA",
   "metadata": {
    "cell_style": "split",
    "id": "Iw3Mwx1pV0mA"
   },
   "source": [
    "## Lilliefors’ test"
   ]
  },
  {
   "cell_type": "markdown",
   "id": "LHTJnUDmROlu",
   "metadata": {
    "cell_style": "split",
    "id": "LHTJnUDmROlu"
   },
   "source": [
    "## Anderson-Darling test "
   ]
  },
  {
   "cell_type": "code",
   "execution_count": 48,
   "id": "sWAvcg1wdhrr",
   "metadata": {
    "cell_style": "split",
    "colab": {
     "base_uri": "https://localhost:8080/"
    },
    "executionInfo": {
     "elapsed": 8,
     "status": "ok",
     "timestamp": 1675145770399,
     "user": {
      "displayName": "SHIVKUMAR CHAUHAN",
      "userId": "00181769091967804430"
     },
     "user_tz": -330
    },
    "id": "sWAvcg1wdhrr",
    "outputId": "03293863-61af-4fd2-ad34-9483833eab26",
    "run_control": {
     "marked": false
    }
   },
   "outputs": [
    {
     "name": "stdout",
     "output_type": "stream",
     "text": [
      "Statistic Value:  0.031552590645255285 \n",
      "Probability-Value:  0.9095505766288512\n",
      "NULL Hypothesis is Accepted\n",
      "data is a normal distributed.\n"
     ]
    },
    {
     "data": {
      "text/plain": [
       "True"
      ]
     },
     "execution_count": 48,
     "metadata": {},
     "output_type": "execute_result"
    }
   ],
   "source": [
    "stats_value,p_value=statsmodels.stats.diagnostic.lilliefors(\n",
    "    Random_Variable_Array\n",
    ")\n",
    "checkHypothesis(\n",
    "    stats_value,\n",
    "    p_value,      \n",
    "    accept_statement=\"data is a normal distributed.\",\n",
    "    reject_statement=\"data is not normal distributed.\"\n",
    ")"
   ]
  },
  {
   "cell_type": "markdown",
   "id": "7e6cd524",
   "metadata": {
    "cell_style": "split"
   },
   "source": [
    "Critical values provided are for the following significance levels:\n",
    "\n",
    "normal/exponential\n",
    "15%, 10%, 5%, 2.5%, 1%"
   ]
  },
  {
   "cell_type": "code",
   "execution_count": 46,
   "id": "uI0tlNZsVy6O",
   "metadata": {
    "cell_style": "split",
    "executionInfo": {
     "elapsed": 5,
     "status": "ok",
     "timestamp": 1675143626398,
     "user": {
      "displayName": "SHIVKUMAR CHAUHAN",
      "userId": "00181769091967804430"
     },
     "user_tz": -330
    },
    "id": "uI0tlNZsVy6O"
   },
   "outputs": [
    {
     "name": "stdout",
     "output_type": "stream",
     "text": [
      "Statistic Value:  0.1601654801017105 \n",
      "Probability-Value:  0.772\n",
      "NULL Hypothesis is Accepted\n",
      "data is a normal distributed.\n"
     ]
    },
    {
     "data": {
      "text/plain": [
       "True"
      ]
     },
     "execution_count": 46,
     "metadata": {},
     "output_type": "execute_result"
    }
   ],
   "source": [
    "stats_value,p_value,significance_level=anderson(\n",
    "    Random_Variable_Array\n",
    ")\n",
    "checkHypothesis(\n",
    "    stats_value,\n",
    "    p_value[2],\n",
    "    accept_statement=\"data is a normal distributed.\",\n",
    "    reject_statement=\"data is not normal distributed.\"\n",
    ")"
   ]
  },
  {
   "cell_type": "markdown",
   "id": "90f8b9d3",
   "metadata": {
    "cell_style": "center"
   },
   "source": [
    "# Hypothesis Testing on Collected Data"
   ]
  },
  {
   "cell_type": "code",
   "execution_count": 64,
   "id": "18782e3d",
   "metadata": {
    "ExecuteTime": {
     "end_time": "2023-03-27T23:04:04.958700Z",
     "start_time": "2023-03-27T23:04:04.899675Z"
    },
    "cell_style": "split",
    "scrolled": false
   },
   "outputs": [
    {
     "name": "stdout",
     "output_type": "stream",
     "text": [
      "Applying Hypothesis Testing🚀🚀🚀\n",
      "Default Level of Significance = 0.05\n",
      "NULL Hypothesis (Ho): Samples have same means\n",
      "Alternate Hypothesis (H1): Samples do not have same means\n",
      "By Default using 2-tailed Test\n",
      "\n",
      "Testing Normal Distribution Criteria\n",
      "NULL Hypothesis (Ho): Data is normally Distributed\n",
      "Alternate Hypothesis (H1): Data is not Normally Distributed\n",
      "\n",
      "Normality Test on  total_cases Column\n",
      " T-Shapiro-Wilk Testing\n",
      "Statistic Value:  0.8271757364273071 \n",
      "Probability-Value:  6.997048573349078e-33\n",
      "NULL hypothesis is Rejected\n",
      "data is not normal distributed.\n",
      "\n",
      " D’Agostino normaltest Testing\n",
      "Statistic Value:  7548.060483578008 \n",
      "Probability-Value:  0.0\n",
      "NULL hypothesis is Rejected\n",
      "data is not normal distributed.\n",
      "\n",
      " Anderson-Darling Testing\n",
      "Statistic Value:  72.92496899682214 \n",
      "Probability-Value:  0.784\n",
      "NULL Hypothesis is Accepted\n",
      "data is a normal distributed.\n",
      "\n",
      " Lilliefors’ Testing\n",
      "Statistic Value:  0.18618439997560077 \n",
      "Probability-Value:  0.0009999999999998899\n",
      "NULL hypothesis is Rejected\n",
      "data is not normal distributed.\n",
      "\n",
      "Normality Test on  total_deaths Column\n",
      " T-Shapiro-Wilk Testing\n",
      "Statistic Value:  0.8022259473800659 \n",
      "Probability-Value:  1.19646223130508e-34\n",
      "NULL hypothesis is Rejected\n",
      "data is not normal distributed.\n",
      "\n",
      " D’Agostino normaltest Testing\n",
      "Statistic Value:  8357.137093879184 \n",
      "Probability-Value:  0.0\n",
      "NULL hypothesis is Rejected\n",
      "data is not normal distributed.\n",
      "\n",
      " Anderson-Darling Testing\n",
      "Statistic Value:  89.4493002436136 \n",
      "Probability-Value:  0.784\n",
      "NULL Hypothesis is Accepted\n",
      "data is a normal distributed.\n",
      "\n",
      " Lilliefors’ Testing\n",
      "Statistic Value:  0.21016735857046953 \n",
      "Probability-Value:  0.0009999999999998899\n",
      "NULL hypothesis is Rejected\n",
      "data is not normal distributed.\n",
      "\n",
      "Normality Test on  new_cases Column\n",
      " T-Shapiro-Wilk Testing\n",
      "Statistic Value:  0.5618390440940857 \n",
      "Probability-Value:  0.0\n",
      "NULL hypothesis is Rejected\n",
      "data is not normal distributed.\n",
      "\n",
      " D’Agostino normaltest Testing\n",
      "Statistic Value:  731.521244010127 \n",
      "Probability-Value:  1.4196463353638263e-159\n",
      "NULL hypothesis is Rejected\n",
      "data is not normal distributed.\n",
      "\n",
      " Anderson-Darling Testing\n",
      "Statistic Value:  162.34579596729805 \n",
      "Probability-Value:  0.784\n",
      "NULL Hypothesis is Accepted\n",
      "data is a normal distributed.\n",
      "\n",
      " Lilliefors’ Testing\n",
      "Statistic Value:  0.2881345166038659 \n",
      "Probability-Value:  0.0009999999999998899\n",
      "NULL hypothesis is Rejected\n",
      "data is not normal distributed.\n",
      "\n",
      "Normality Test on  new_deaths Column\n",
      " T-Shapiro-Wilk Testing\n",
      "Statistic Value:  0.5814085006713867 \n",
      "Probability-Value:  2.802596928649634e-45\n",
      "NULL hypothesis is Rejected\n",
      "data is not normal distributed.\n",
      "\n",
      " D’Agostino normaltest Testing\n",
      "Statistic Value:  750.0602893560097 \n",
      "Probability-Value:  1.3380662571506934e-163\n",
      "NULL hypothesis is Rejected\n",
      "data is not normal distributed.\n",
      "\n",
      " Anderson-Darling Testing\n",
      "Statistic Value:  142.941796003734 \n",
      "Probability-Value:  0.784\n",
      "NULL Hypothesis is Accepted\n",
      "data is a normal distributed.\n",
      "\n",
      " Lilliefors’ Testing\n",
      "Statistic Value:  0.27954583123431254 \n",
      "Probability-Value:  0.0009999999999998899\n",
      "NULL hypothesis is Rejected\n",
      "data is not normal distributed.\n"
     ]
    }
   ],
   "source": [
    "applyHypothesisTesting( normality_test_data=Data[['total_cases','total_deaths','new_cases','new_deaths']].copy()\n",
    ")"
   ]
  },
  {
   "cell_type": "code",
   "execution_count": 76,
   "id": "7417a638",
   "metadata": {
    "ExecuteTime": {
     "end_time": "2023-03-27T23:12:35.302528Z",
     "start_time": "2023-03-27T23:12:35.287996Z"
    },
    "cell_style": "split",
    "scrolled": false
   },
   "outputs": [
    {
     "name": "stdout",
     "output_type": "stream",
     "text": [
      "Applying Hypothesis Testing🚀🚀🚀\n",
      "Default Level of Significance = 0.05\n",
      "NULL Hypothesis (Ho): Samples have same means\n",
      "Alternate Hypothesis (H1): Samples do not have same means\n",
      "By Default using 2-tailed Test\n",
      "\n",
      "T-Test Testing\n",
      "TTest Using Two Variable\n",
      "Statistic Value:  51.95239610652443 \n",
      "Probability-Value:  0.0\n",
      "NULL hypothesis is Rejected\n",
      "samples do not have identical means \n"
     ]
    }
   ],
   "source": [
    "applyHypothesisTesting(\n",
    "    test_variable1=Data['total_cases'],\n",
    "    test_variable2=Data['new_cases']\n",
    ")"
   ]
  },
  {
   "cell_type": "code",
   "execution_count": 77,
   "id": "54894b8c",
   "metadata": {
    "ExecuteTime": {
     "end_time": "2023-03-27T23:13:11.401613Z",
     "start_time": "2023-03-27T23:13:11.371679Z"
    },
    "cell_style": "split"
   },
   "outputs": [
    {
     "name": "stdout",
     "output_type": "stream",
     "text": [
      "Applying Hypothesis Testing🚀🚀🚀\n",
      "Default Level of Significance = 0.05\n",
      "NULL Hypothesis (Ho): Samples have same means\n",
      "Alternate Hypothesis (H1): Samples do not have same means\n",
      "By Default using 2-tailed Test\n",
      "\n",
      "ANOVA Testing\n",
      "Statistic Value:  2681.8947850920554 \n",
      "Probability-Value:  0.0\n",
      "NULL hypothesis is Rejected\n",
      "samples do not have identical means \n"
     ]
    }
   ],
   "source": [
    "applyHypothesisTesting(\n",
    "    anova_data=[Data['total_cases'],Data['new_cases'],Data['total_deaths'],Data['new_deaths']]\n",
    ")"
   ]
  },
  {
   "cell_type": "code",
   "execution_count": null,
   "id": "3039fc2d",
   "metadata": {},
   "outputs": [],
   "source": []
  }
 ],
 "metadata": {
  "celltoolbar": "Initialization Cell",
  "colab": {
   "provenance": [],
   "toc_visible": true
  },
  "hide_input": false,
  "kernelspec": {
   "display_name": "Python 3 (ipykernel)",
   "language": "python",
   "name": "python3"
  },
  "language_info": {
   "codemirror_mode": {
    "name": "ipython",
    "version": 3
   },
   "file_extension": ".py",
   "mimetype": "text/x-python",
   "name": "python",
   "nbconvert_exporter": "python",
   "pygments_lexer": "ipython3",
   "version": "3.10.8"
  }
 },
 "nbformat": 4,
 "nbformat_minor": 5
}
